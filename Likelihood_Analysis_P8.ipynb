{
 "cells": [
  {
   "cell_type": "markdown",
   "metadata": {},
   "source": [
    "FSSC Science Tools\n",
    "=========================\n",
    "Fermi LAT Likelihood Analysis: Livetime, Exposure and pyLike\n",
    "-------------------------\n",
    "*Jeremy S. Perkins, FSSC*\n",
    "\n",
    "**Goal:** *Complete a simple likelihood analysis*"
   ]
  },
  {
   "cell_type": "markdown",
   "metadata": {},
   "source": [
    "The Quick Summary of What We're Going to Do\n",
    "-------------------------------------------\n",
    "\n",
    "* We observed a photon from a location, at a specific time, with a specific energy\n",
    "* We assume a model:\n",
    "$$S(E,\\hat{p},t) = \\sum_i s_i(E,t)\\delta(\\hat{p}-\\hat{p}_i)\n",
    "                        + S_G(E,\\hat{p}) + S_{eg}(E,\\hat{p})\n",
    "                        + \\sum_l S_l(E,\\hat{p},t)$$\n",
    "* The model is defined as \n",
    "    * a summation over point sources,\n",
    "    * the galactic and extra-galactic diffuse\n",
    "    * and a summataion over anything else.\n",
    "* We calculate the probability of that photon being detected assuming our model:"
   ]
  },
  {
   "cell_type": "markdown",
   "metadata": {},
   "source": [
    "$$M(E',\\hat{p}',t) = \\int_{SR} dEd\\hat{p}R(E',\\hat{p}',t;E,\\hat{p})S(E,\\hat{p},t)$$"
   ]
  },
  {
   "cell_type": "markdown",
   "metadata": {},
   "source": [
    "* Then we calculate the total number of predicted counts assuming our model:"
   ]
  },
  {
   "cell_type": "markdown",
   "metadata": {},
   "source": [
    "$$N_{pred} = \\int_{SR} dEd\\hat{p}S(E,\\hat{p})\\epsilon(E,\\hat{p})$$"
   ]
  },
  {
   "cell_type": "markdown",
   "metadata": {},
   "source": [
    "* epsilon is a model-independent quantitity called the exposure map (or cube)\n",
    "    * it's not the exposure in a traditional sense, but useful nomenclature.\n",
    "* **epsilon can be precomputed so it saves time in the Likihood optimization**"
   ]
  },
  {
   "cell_type": "markdown",
   "metadata": {},
   "source": [
    "$$\\epsilon(E,\\hat{p}) \\equiv \\int_{ROI} dE'd\\hat{p}'dt R(E',\\hat{p}',t; E,\\hat{p})$$"
   ]
  },
  {
   "cell_type": "markdown",
   "metadata": {},
   "source": [
    "* Now we adjust our model until the following is maximised:"
   ]
  },
  {
   "cell_type": "markdown",
   "metadata": {},
   "source": [
    "$$\\log L = \\sum_j \\log M(E'_j,\\hat{p}'_j,t_j) - N_{pred}$$"
   ]
  },
  {
   "cell_type": "markdown",
   "metadata": {},
   "source": [
    "* And we calculate the TS"
   ]
  },
  {
   "cell_type": "markdown",
   "metadata": {},
   "source": [
    "$$TS = -2 \\log \\frac{L_{max,0}}{L_{max,1}}$$"
   ]
  },
  {
   "cell_type": "markdown",
   "metadata": {},
   "source": [
    "Calculating Livetime and Exposure\n",
    "---------------------------------\n",
    "* Calculating the exposure is a two-step process\n",
    "    * **Livetime:** formally the time when the detector is available to collect data\n",
    "        * For analysis, we additionally require good data quality and select to remove high background\n",
    "        * The LAT has a large FoV with varying response: need to know when and where\n",
    "    * **Exposure:** for practical purposes, the number that converts counts to photon flux\n",
    "        * Apply expected photon detection efficiency and angular resolution\n",
    "            * Depends on the event selection\n",
    "            * Depends on the direction of the photon relative to the instrument boresight and energy"
   ]
  },
  {
   "cell_type": "code",
   "execution_count": 19,
   "metadata": {
    "collapsed": true
   },
   "outputs": [],
   "source": [
    "%matplotlib inline"
   ]
  },
  {
   "cell_type": "code",
   "execution_count": 20,
   "metadata": {
    "collapsed": true
   },
   "outputs": [],
   "source": [
    "import matplotlib.pyplot as plt\n",
    "from matplotlib import transforms\n",
    "from IPython.display import Image\n",
    "import numpy as np"
   ]
  },
  {
   "cell_type": "code",
   "execution_count": 3,
   "metadata": {},
   "outputs": [
    {
     "data": {
      "image/png": "[encoded data removed]",
      "text/plain": [
       "<matplotlib.figure.Figure at 0x7f6b95060a50>"
      ]
     },
     "metadata": {},
     "output_type": "display_data"
    }
   ],
   "source": [
    "from matplotlib.patches import Circle, Rectangle, Polygon, Arrow, FancyArrow, Arc\n",
    "box_bg = '#CCCCCC'\n",
    "fig = plt.figure(figsize=(8, 8), facecolor='w')\n",
    "ax = plt.axes((0,0,1,1),xticks=[], yticks=[], frameon=False)\n",
    "ax.set_xlim(0, 8)\n",
    "ax.set_ylim(0, 8)\n",
    "\n",
    "          \n",
    "r1 = Rectangle((-3,3), 5, 4, color=\"blue\", alpha=0.50)\n",
    "t2 = transforms.Affine2D().rotate_deg(-45) + ax.transData\n",
    "r1.set_transform(t2)\n",
    "\n",
    "a1 = FancyArrow(1.6, 2.5, 4.0, 4.0, width=0.01, head_width=0.25, head_length=0.2, color=\"black\")\n",
    "a2 = FancyArrow(1.6, 0.0, 0.0, 7.8, width=0.01, head_width=0.25, head_length=0.2, color=\"black\")\n",
    "\n",
    "a3 = FancyArrow(1.6, 2.5, 5.0, -1.3, width=0.1, head_width=0.25, head_length=0.2, color=\"black\")\n",
    "a4 = FancyArrow(1.6, 2.5, -1.0, 5.0, width=0.1, head_width=0.25, head_length=0.2, color=\"black\")\n",
    "a5 = FancyArrow(1.6, 2.5, 6.0, -0.5, width=0.05, head_width=0.25, head_length=0.2, color=\"blue\")\n",
    "\n",
    "a6 = Arc((1.6,2.5),9.5,9.5,25,330,65)\n",
    "\n",
    "ax.add_patch(r1)\n",
    "ax.add_patch(a1)\n",
    "ax.add_patch(a2)\n",
    "ax.add_patch(a3)\n",
    "ax.add_patch(a4)\n",
    "ax.add_patch(a5)\n",
    "ax.add_patch(a6)\n",
    "\n",
    "plt.text(7, 4.0, \"Zenith\\nAngle\",\n",
    "            ha='center', va='center', fontsize=22)\n",
    "\n",
    "plt.grid(True)\n",
    "plt.show()"
   ]
  },
  {
   "cell_type": "markdown",
   "metadata": {},
   "source": [
    "### Livetime\n",
    "* Sum up time spent in the field of view for each position in the celestial sky\n",
    "    * Inputs are the photon and spacecraft files\n",
    "    * Options are pixel size and step size for the instrument angles\n",
    "    * Output is a livetime ‘cube’\n",
    "    * Respects time-based selection cuts made with gtmktime (GTIs)\n",
    "* **Livetime and Maximum Zenith Angle**\n",
    "    * gtltcube knowns about the field of view and the spacecraft pointing (via the spacecraft file) and can make exposure corrections related to this corrodinate systems.\n",
    "    * If you are doing an all-sky analysis or non-stantdard zenith cut, gtltcube can make a correction for the exposure loss from a zenith angle cut in gtselect.\n",
    "        * **note:** this assumes perfect reconstruction\n",
    "    * **If you're doing a basic source analysis and using the standard ROI cut you don't need to do this.**\n",
    "    \n",
    "* Example: if you use *zmax = 100* in *gtselect* and set *ROIcut = no* in *gtmktime* then you **must** use *zmax=100* in *gtltcube*.\n",
    "\n",
    "Let's do this now (doing it the python way, you can just run *gtltcube* from the command line if you wish)..."
   ]
  },
  {
   "cell_type": "code",
   "execution_count": 4,
   "metadata": {
    "collapsed": true
   },
   "outputs": [],
   "source": [
    "from gt_apps import filter"
   ]
  },
  {
   "cell_type": "code",
   "execution_count": 5,
   "metadata": {
    "collapsed": true
   },
   "outputs": [],
   "source": [
    "filter['infile'] = '@data/events.txt'\n",
    "filter['outfile'] = 'data/3C279_filtered.fits'\n",
    "filter['ra'] = 194.047\n",
    "filter['dec'] = -5.78931\n",
    "filter['rad'] = 30\n",
    "filter['tmin'] = 239557417\n",
    "filter['tmax'] = 255398400\n",
    "filter['emin'] = 100\n",
    "filter['emax'] = 100000\n",
    "filter['zmax'] = 100\n",
    "filter['evclass'] = 128"
   ]
  },
  {
   "cell_type": "code",
   "execution_count": 6,
   "metadata": {},
   "outputs": [
    {
     "name": "stdout",
     "output_type": "stream",
     "text": [
      "time -p /usr/local/fermisoft/v10r0p5-fssc-20150518A/x86_64-unknown-linux-gnu-libc2.17/bin/gtselect infile=@data/events.txt outfile=data/3C279_filtered.fits ra=194.047 dec=-5.78931 rad=30.0 tmin=239557417.0 tmax=255398400.0 emin=100.0 emax=100000.0 zmin=0.0 zmax=100.0 evclass=128 evclsmin=0 evclsmax=10 evtype=\"INDEF\" convtype=-1 phasemin=0.0 phasemax=1.0 evtable=\"EVENTS\" chatter=2 clobber=yes debug=no gui=no mode=\"ql\"\n",
      "Done.\n",
      "real 9.89\n",
      "user 1.50\n",
      "sys 4.80\n"
     ]
    }
   ],
   "source": [
    "filter.run()"
   ]
  },
  {
   "cell_type": "code",
   "execution_count": 7,
   "metadata": {},
   "outputs": [
    {
     "name": "stdout",
     "output_type": "stream",
     "text": [
      "time -p /usr/local/fermisoft/v10r0p5-fssc-20150518A/x86_64-unknown-linux-gnu-libc2.17/bin/gtmktime scfile=data/SC00.fits sctable=\"SC_DATA\" filter=\"DATA_QUAL>0 && LAT_CONFIG==1\" roicut=yes evfile=data/3C279_filtered.fits evtable=\"EVENTS\" outfile=\"data/3C279_mktime.fits\" apply_filter=yes overwrite=no header_obstimes=yes tstart=0.0 tstop=0.0 gtifile=\"default\" chatter=2 clobber=yes debug=no gui=no mode=\"ql\"\n",
      "real 4.55\n",
      "user 2.17\n",
      "sys 0.68\n"
     ]
    }
   ],
   "source": [
    "from gt_apps import maketime\n",
    "maketime['evfile'] = 'data/3C279_filtered.fits'\n",
    "maketime['outfile'] = 'data/3C279_mktime.fits'\n",
    "maketime['scfile'] = 'data/SC00.fits'\n",
    "maketime['filter'] = 'DATA_QUAL>0 && LAT_CONFIG==1'\n",
    "maketime['apply_filter'] = 'yes'\n",
    "maketime['roicut'] = 'yes'\n",
    "maketime.run()"
   ]
  },
  {
   "cell_type": "code",
   "execution_count": 8,
   "metadata": {
    "collapsed": true
   },
   "outputs": [],
   "source": [
    "from gt_apps import expCube"
   ]
  },
  {
   "cell_type": "code",
   "execution_count": 9,
   "metadata": {},
   "outputs": [
    {
     "data": {
      "text/plain": [
       "' evfile=\"\" evtable=\"EVENTS\" scfile= sctable=\"SC_DATA\" outfile=expCube.fits dcostheta=0.025 binsz=1.0 phibins=0 tmin=0.0 tmax=0.0 file_version=\"1\" zmin=0.0 zmax=180.0 chatter=2 clobber=yes debug=no gui=no mode=\"ql\"'"
      ]
     },
     "execution_count": 9,
     "metadata": {},
     "output_type": "execute_result"
    }
   ],
   "source": [
    "expCube.pars()"
   ]
  },
  {
   "cell_type": "code",
   "execution_count": 10,
   "metadata": {
    "collapsed": true
   },
   "outputs": [],
   "source": [
    "expCube['evfile'] = 'data/3C279_mktime.fits'\n",
    "expCube['scfile'] = 'data/SC00.fits'\n",
    "expCube['outfile'] = 'data/3C279_ltcube.fits'\n",
    "expCube['dcostheta'] = 0.025\n",
    "expCube['binsz'] = 1.0"
   ]
  },
  {
   "cell_type": "code",
   "execution_count": 11,
   "metadata": {},
   "outputs": [
    {
     "name": "stdout",
     "output_type": "stream",
     "text": [
      "time -p /usr/local/fermisoft/v10r0p5-fssc-20150518A/x86_64-unknown-linux-gnu-libc2.17/bin/gtltcube evfile=\"data/3C279_mktime.fits\" evtable=\"EVENTS\" scfile=data/SC00.fits sctable=\"SC_DATA\" outfile=data/3C279_ltcube.fits dcostheta=0.025 binsz=1.0 phibins=0 tmin=0.0 tmax=0.0 file_version=\"1\" zmin=0.0 zmax=180.0 chatter=2 clobber=yes debug=no gui=no mode=\"ql\"\n",
      "Working on file data/SC00.fits\n",
      ".....................!\n",
      "real 734.08\n",
      "user 731.28\n",
      "sys 0.61\n"
     ]
    }
   ],
   "source": [
    "expCube.run()"
   ]
  },
  {
   "cell_type": "markdown",
   "metadata": {},
   "source": [
    "This takes a while to run..."
   ]
  },
  {
   "cell_type": "code",
   "execution_count": 12,
   "metadata": {},
   "outputs": [
    {
     "data": {
      "text/plain": [
       "12.234666666666667"
      ]
     },
     "execution_count": 12,
     "metadata": {},
     "output_type": "execute_result"
    }
   ],
   "source": [
    "734.08 /60"
   ]
  },
  {
   "cell_type": "markdown",
   "metadata": {},
   "source": [
    "Twelve minutes in fact... As usual, let's see what we have here."
   ]
  },
  {
   "cell_type": "code",
   "execution_count": 13,
   "metadata": {
    "collapsed": true
   },
   "outputs": [],
   "source": [
    "import pyfits"
   ]
  },
  {
   "cell_type": "code",
   "execution_count": 14,
   "metadata": {
    "collapsed": true
   },
   "outputs": [],
   "source": [
    "ltcube_hdu = pyfits.open('data/3C279_ltcube.fits')"
   ]
  },
  {
   "cell_type": "code",
   "execution_count": 15,
   "metadata": {},
   "outputs": [
    {
     "name": "stdout",
     "output_type": "stream",
     "text": [
      "Filename: data/3C279_ltcube.fits\n",
      "No.    Name         Type      Cards   Dimensions   Format\n",
      "0    PRIMARY     PrimaryHDU      27   ()           uint8   \n",
      "1    EXPOSURE    BinTableHDU     59   49152R x 3C   [40E, E, E]   \n",
      "2    WEIGHTED_EXPOSURE  BinTableHDU     59   49152R x 3C   [40E, E, E]   \n",
      "3    CTHETABOUNDS  BinTableHDU     33   40R x 2C     [E, E]   \n",
      "4    GTI         BinTableHDU     46   3442R x 2C   [D, D]   \n",
      "None\n"
     ]
    }
   ],
   "source": [
    "print ltcube_hdu.info()"
   ]
  },
  {
   "cell_type": "code",
   "execution_count": 16,
   "metadata": {},
   "outputs": [
    {
     "data": {
      "image/png": "[encoded data removed]",
      "text/plain": [
       "<matplotlib.figure.Figure at 0x7f6b92b79650>"
      ]
     },
     "metadata": {},
     "output_type": "display_data"
    }
   ],
   "source": [
    "plt.figure(figsize=(16,8))\n",
    "label_txt = \"RA,DEC = ({} {})\".format(ltcube_hdu[1].data.field('ra')[0],ltcube_hdu[1].data.field('dec')[0])\n",
    "plt.plot(ltcube_hdu[3].data.field('CTHETA_MIN'),ltcube_hdu[1].data.field('cosbins')[0],label=label_txt)\n",
    "label_txt = \"RA,DEC = ({} {})\".format(ltcube_hdu[1].data.field('ra')[20],ltcube_hdu[1].data.field('dec')[20])\n",
    "plt.plot(ltcube_hdu[3].data.field('CTHETA_MIN'),ltcube_hdu[1].data.field('cosbins')[20],label=label_txt)\n",
    "plt.legend()\n",
    "plt.show()"
   ]
  },
  {
   "cell_type": "markdown",
   "metadata": {},
   "source": [
    "### Now lets calculate the counts cube (counts map binned in energy)"
   ]
  },
  {
   "cell_type": "code",
   "execution_count": 42,
   "metadata": {
    "collapsed": true
   },
   "outputs": [],
   "source": [
    "from gt_apps import evtbin"
   ]
  },
  {
   "cell_type": "code",
   "execution_count": 43,
   "metadata": {},
   "outputs": [
    {
     "data": {
      "text/plain": [
       "' evfile= scfile=NONE outfile= algorithm=\"PHA2\" ebinalg=\"LOG\" emin=30.0 emax=200000.0 ebinfile=NONE tbinalg=\"LIN\" tbinfile=NONE coordsys=\"CEL\" axisrot=0.0 rafield=\"RA\" decfield=\"DEC\" proj=\"AIT\" hpx_ordering_scheme=\"RING\" hpx_order=3 hpx_ebin=yes evtable=\"EVENTS\" sctable=\"SC_DATA\" efield=\"ENERGY\" tfield=\"TIME\" chatter=2 clobber=yes debug=no gui=no mode=\"ql\"'"
      ]
     },
     "execution_count": 43,
     "metadata": {},
     "output_type": "execute_result"
    }
   ],
   "source": [
    "evtbin.pars()"
   ]
  },
  {
   "cell_type": "code",
   "execution_count": 106,
   "metadata": {
    "collapsed": true
   },
   "outputs": [],
   "source": [
    "evtbin['algorithm'] = 'CCUBE'\n",
    "evtbin['evfile'] = 'data/3C279_mktime.fits'\n",
    "evtbin['outfile'] = 'data/3C279_ccube.fits'\n",
    "evtbin['nxpix'] = 360\n",
    "evtbin['nypix'] = 180\n",
    "evtbin['binsz'] = 1.0\n",
    "evtbin['coordsys'] = 'CEL'\n",
    "evtbin['xref'] = 194\n",
    "evtbin['yref'] = -5.79\n",
    "evtbin['axisrot'] = 0.0\n",
    "evtbin['proj'] = 'CAR'\n",
    "evtbin['ebinalg'] = 'LOG'\n",
    "evtbin['emin'] = 100\n",
    "evtbin['emax'] = 300000\n",
    "evtbin['enumbins'] = 30"
   ]
  },
  {
   "cell_type": "code",
   "execution_count": 107,
   "metadata": {},
   "outputs": [
    {
     "name": "stdout",
     "output_type": "stream",
     "text": [
      "time -p /usr/local/fermisoft/v10r0p5-fssc-20150518A/x86_64-unknown-linux-gnu-libc2.17/bin/gtbin evfile=data/3C279_mktime.fits scfile=NONE outfile=data/3C279_ccube.fits algorithm=\"CCUBE\" ebinalg=\"LOG\" emin=100.0 emax=300000.0 enumbins=30 ebinfile=NONE tbinalg=\"LIN\" tbinfile=NONE nxpix=360 nypix=180 binsz=1.0 coordsys=\"CEL\" xref=194.0 yref=-5.79 axisrot=0.0 rafield=\"RA\" decfield=\"DEC\" proj=\"CAR\" hpx_ordering_scheme=\"RING\" hpx_order=3 hpx_ebin=yes evtable=\"EVENTS\" sctable=\"SC_DATA\" efield=\"ENERGY\" tfield=\"TIME\" chatter=2 clobber=yes debug=no gui=no mode=\"ql\"\n",
      "This is gtbin version ScienceTools-v10r0p5-fssc-20150518\n",
      "gtbin: WARNING: No spacecraft file: EXPOSURE keyword will be set equal to ontime.\n",
      "real 2.75\n",
      "user 0.49\n",
      "sys 0.62\n"
     ]
    }
   ],
   "source": [
    "evtbin.run()"
   ]
  },
  {
   "cell_type": "code",
   "execution_count": 92,
   "metadata": {},
   "outputs": [
    {
     "name": "stdout",
     "output_type": "stream",
     "text": [
      "3C279_1deg.fits      3C279_expmap.fits    iso_P8R2_SOURCE_V6_v06.txt\r\n",
      "3C279_1deg_gti.fits  3C279_filtered.fits  PH00.fits\r\n",
      "3C279_1deg_lc.fits   3C279_ltcube.fits    PH01.fits\r\n",
      "3C279_ccube.fits     3C279_mktime.fits    SC00.fits\r\n",
      "3C279_cmap.fits      events.txt\r\n",
      "3C279_expcube.fits   gll_iem_v06.fits\r\n"
     ]
    }
   ],
   "source": [
    "ls data/"
   ]
  },
  {
   "cell_type": "markdown",
   "metadata": {},
   "source": [
    "What do we have here"
   ]
  },
  {
   "cell_type": "code",
   "execution_count": 101,
   "metadata": {
    "collapsed": true
   },
   "outputs": [],
   "source": [
    "ccube_hdu = pyfits.open('data/3C279_ccube.fits')"
   ]
  },
  {
   "cell_type": "code",
   "execution_count": 102,
   "metadata": {},
   "outputs": [
    {
     "name": "stdout",
     "output_type": "stream",
     "text": [
      "Filename: data/3C279_ccube.fits\n",
      "No.    Name         Type      Cards   Dimensions   Format\n",
      "0    PRIMARY     PrimaryHDU     130   (360, 180, 30)   int32   \n",
      "1    EBOUNDS     BinTableHDU     43   30R x 3C     [I, 1E, 1E]   \n",
      "2    GTI         BinTableHDU     49   3442R x 2C   [D, D]   \n"
     ]
    }
   ],
   "source": [
    "ccube_hdu.info()"
   ]
  },
  {
   "cell_type": "code",
   "execution_count": 103,
   "metadata": {
    "collapsed": true
   },
   "outputs": [],
   "source": [
    "import time\n",
    "from IPython.display import display,clear_output"
   ]
  },
  {
   "cell_type": "code",
   "execution_count": 104,
   "metadata": {},
   "outputs": [
    {
     "data": {
      "image/png": "[encoded data removed]",
      "text/plain": [
       "<matplotlib.figure.Figure at 0x7f6b5ba1ffd0>"
      ]
     },
     "metadata": {},
     "output_type": "display_data"
    }
   ],
   "source": [
    "f, ax = plt.subplots()\n",
    "for ccube in ccube_hdu[0].data:\n",
    "    time.sleep(0.2)\n",
    "    plt.imshow(ccube)\n",
    "    clear_output(wait=True)\n",
    "    display(f)\n",
    "    ax.cla()\n",
    "    \n",
    "plt.close()"
   ]
  },
  {
   "cell_type": "markdown",
   "metadata": {},
   "source": [
    "### Why did we pick the binning we did?"
   ]
  },
  {
   "cell_type": "markdown",
   "metadata": {},
   "source": [
    "* Response functions are minimally parameterized in the inclination angle (theta) and energy\n",
    "    * Bin or step sizes used in exposure calculations should consider how quickly the efficiency changes in space or energy\n",
    "        * At least 10 bins per decade in energy to avoid errors in estimation where the effective area changes rapidly\n",
    "        * No single, strict recommendation on spatial binning\n",
    "            * 1 deg default sufficient for making maps\n",
    "            * The Binned likelihood is matched to data binning\n",
    "    * gtexposure invokes a spectral assumption - this has a noticeable impact  \n",
    "        * Remember that both the efficiency and angular reconstruction depend on energy"
   ]
  },
  {
   "cell_type": "markdown",
   "metadata": {},
   "source": [
    "The Optimization\n",
    "===================="
   ]
  },
  {
   "cell_type": "markdown",
   "metadata": {},
   "source": [
    "We now have everyhitng we need to perform the maximum likelihood optimization.  We have the photons, we have the exposure but we don't have a model.  We'll talk about how to build this model in a bit but for now, I'm giving you a sample model definition for the purposes of this analysis.  Here's what the file looks like:"
   ]
  },
  {
   "cell_type": "markdown",
   "metadata": {},
   "source": [
    "    <?xml version=\"1.0\" ?>\n",
    "    <source_library title=\"source library\" xmlns=\"http://fermi.gsfc.nasa.gov/source_library\">\n",
    "\n",
    "    <source name=\"iso_source_v05.txt\" type=\"DiffuseSource\">\n",
    "        <spectrum file=\"data/iso_source_v05.txt\" type=\"FileFunction\">\n",
    "            <parameter free=\"1\" max=\"1000\" min=\"1e-05\" name=\"Normalization\" scale=\"1\" value=\"1\" />\n",
    "        </spectrum>\n",
    "        <spatialModel type=\"ConstantValue\">\n",
    "            <parameter free=\"0\" max=\"10.0\" min=\"0.0\" name=\"Value\" scale=\"1.0\" value=\"1.0\"/>\n",
    "        </spatialModel>\n",
    "    </source>\n",
    "\n",
    "    <source name=\"gll_iem_v06.fits\" type=\"DiffuseSource\">\n",
    "        <spectrum type=\"ConstantValue\">\n",
    "            <parameter free=\"1\" max=\"10.0\" min=\"0.0\" name=\"Value\" scale=\"1.0\" value= \"1.0\"/>\n",
    "        </spectrum>\n",
    "        <spatialModel file=\"data/gll_iem_v06.fits\" type=\"MapCubeFunction\">\n",
    "            <parameter free=\"0\" max=\"1000.0\" min=\"0.001\" name=\"Normalization\" scale= \"1.0\" value=\"1.0\"/>\n",
    "        </spatialModel>\n",
    "    </source>\n",
    "\n",
    "    <source name=\"3C 273\" type=\"PointSource\">\n",
    "        <spectrum type=\"PowerLaw\">\n",
    "            <parameter free=\"1\" max=\"1000.0\" min=\"0.001\" name=\"Prefactor\" scale=\"1e-09\" value=\"10\"/>\n",
    "            <parameter free=\"1\" max=\"-1.0\" min=\"-5.0\" name=\"Index\" scale=\"1.0\" value=\"-2.1\"/>\n",
    "            <parameter free=\"0\" max=\"2000.0\" min=\"30.0\" name=\"Scale\" scale=\"1.0\" value=\"100.0\"/>\n",
    "        </spectrum>\n",
    "        <spatialModel type=\"SkyDirFunction\">\n",
    "            <parameter free=\"0\" max=\"360\" min=\"-360\" name=\"RA\" scale=\"1.0\" value=\"187.25\"/>\n",
    "            <parameter free=\"0\" max=\"90\" min=\"-90\" name=\"DEC\" scale=\"1.0\" value=\"2.17\"/>\n",
    "        </spatialModel>\n",
    "    </source>\n",
    "\n",
    "    <source name=\"3C 279\" type=\"PointSource\">\n",
    "        <spectrum type=\"PowerLaw\">\n",
    "            <parameter free=\"1\" max=\"1000.0\" min=\"0.001\" name=\"Prefactor\" scale=\"1e-09\" value=\"10\"/>\n",
    "            <parameter free=\"1\" max=\"-1.0\" min=\"-5.0\" name=\"Index\" scale=\"1.0\" value=\"-2\"/>\n",
    "            <parameter free=\"0\" max=\"2000.0\" min=\"30.0\" name=\"Scale\" scale=\"1.0\" value=\"100.0\"/>\n",
    "        </spectrum>\n",
    "        <spatialModel type=\"SkyDirFunction\">\n",
    "            <parameter free=\"0\" max=\"360\" min=\"-360\" name=\"RA\" scale=\"1.0\" value=\"193.98\"/>\n",
    "            <parameter free=\"0\" max=\"90\" min=\"-90\" name=\"DEC\" scale=\"1.0\" value=\"-5.82\"/>\n",
    "        </spatialModel>\n",
    "    </source>\n",
    "\n",
    "    </source_library>"
   ]
  },
  {
   "cell_type": "markdown",
   "metadata": {},
   "source": [
    "The model file is stored in a format called eXtensible Markup Language (XML) which is just a set of rules to encode information in a text file.  The model file is our description of what we think the region should look like.  You'll hear more about how to create these files later.\n",
    "\n",
    "You can download this file: [3C_279_input_model.xml](https://raw.github.com/kialio/fermi-summer-school/master/3C279_input_model.xml)\n",
    "\n",
    "Notice that the model file makes refernce to two files, [iso_P8R2_SOURCE_V6_v06.txt](https://fermi.gsfc.nasa.gov/ssc/data/analysis/software/aux/iso_P8R2_SOURCE_V6_v06.txt) and [gll_iem_v06.fits](https://fermi.gsfc.nasa.gov/ssc/data/analysis/software/aux/gll_iem_v06.fits).  These two files describe the extragalactic and galactic diffuse emission respectively. You'll need to download them and put them in your data directory."
   ]
  },
  {
   "cell_type": "code",
   "execution_count": 26,
   "metadata": {},
   "outputs": [
    {
     "name": "stdout",
     "output_type": "stream",
     "text": [
      "3C279_1deg.fits      3C279_expmap.fits    events.txt                  PH01.fits\r\n",
      "3C279_1deg_gti.fits  3C279_filtered.fits  gll_iem_v06.fits            SC00.fits\r\n",
      "3C279_1deg_lc.fits   3C279_ltcube.fits    iso_P8R2_SOURCE_V6_v06.txt\r\n",
      "3C279_cmap.fits      3C279_mktime.fits    PH00.fits\r\n"
     ]
    }
   ],
   "source": [
    "ls data"
   ]
  },
  {
   "cell_type": "markdown",
   "metadata": {},
   "source": [
    "Notice that these are suspiciously named like they might depend on the event class you're using.  You would be right to assume so.  Let's take a look at these.  The isotropic diffuse model is just a text file:"
   ]
  },
  {
   "cell_type": "code",
   "execution_count": 27,
   "metadata": {
    "collapsed": true
   },
   "outputs": [],
   "source": [
    "import numpy as np"
   ]
  },
  {
   "cell_type": "code",
   "execution_count": 28,
   "metadata": {
    "collapsed": true
   },
   "outputs": [],
   "source": [
    "isotropic = np.genfromtxt(\"data/iso_P8R2_SOURCE_V6_v06.txt\")"
   ]
  },
  {
   "cell_type": "code",
   "execution_count": 29,
   "metadata": {},
   "outputs": [
    {
     "data": {
      "image/png": "[encoded data removed]",
      "text/plain": [
       "<matplotlib.figure.Figure at 0x7f6b91da25d0>"
      ]
     },
     "metadata": {},
     "output_type": "display_data"
    }
   ],
   "source": [
    "plt.yscale('log')\n",
    "plt.xscale('log')\n",
    "plt.errorbar(isotropic[:,0],isotropic[:,1],yerr=isotropic[:,2],fmt='.')\n",
    "plt.show()"
   ]
  },
  {
   "cell_type": "markdown",
   "metadata": {},
   "source": [
    "The isotropic model is spatially isotropic but is energy dependent.  Open up the galactic diffuse:"
   ]
  },
  {
   "cell_type": "code",
   "execution_count": 30,
   "metadata": {
    "collapsed": true
   },
   "outputs": [],
   "source": [
    "gal_diff = pyfits.open(\"data/gll_iem_v06.fits\")"
   ]
  },
  {
   "cell_type": "code",
   "execution_count": 31,
   "metadata": {},
   "outputs": [
    {
     "name": "stdout",
     "output_type": "stream",
     "text": [
      "Filename: data/gll_iem_v06.fits\n",
      "No.    Name         Type      Cards   Dimensions   Format\n",
      "0    PRIMARY     PrimaryHDU      36   (2880, 1441, 30)   float32   \n",
      "1    ENERGIES    BinTableHDU     11   30R x 1C     [D]   \n"
     ]
    }
   ],
   "source": [
    "gal_diff.info()"
   ]
  },
  {
   "cell_type": "code",
   "execution_count": 32,
   "metadata": {},
   "outputs": [
    {
     "data": {
      "image/png": "[encoded data removed]",
      "text/plain": [
       "<matplotlib.figure.Figure at 0x7f6b917d2450>"
      ]
     },
     "metadata": {},
     "output_type": "display_data"
    }
   ],
   "source": [
    "plt.figure(figsize=(16,16))\n",
    "plt.imshow(gal_diff[0].data[0])\n",
    "plt.show()"
   ]
  },
  {
   "cell_type": "markdown",
   "metadata": {},
   "source": [
    "The model for the Galactic diffuse emission was developed using spectral line surveys of HI and CO (as a tracer of H2) to derive the distribution of interstellar gas in Galactocentric rings. Infrared tracers of dust column density were used to correct column densities in directions where the optical depth of HI was either over or under-estimated. The model of the diffuse gamma-ray emission was then constructed by fitting the gamma-ray emissivities of the rings in several energy bands to the LAT observations. The fitting also required a model of the inverse Compton emission calculated using GALPROP and a model for the isotropic diffuse emission. [A complete description of the Galactic diffuse model is available](http://iopscience.iop.org/article/10.3847/0067-0049/223/2/26)."
   ]
  },
  {
   "cell_type": "markdown",
   "metadata": {},
   "source": [
    "### Make an exposure Cube first"
   ]
  },
  {
   "cell_type": "markdown",
   "metadata": {},
   "source": [
    "This is the exposure at every point in the sky binned in energy"
   ]
  },
  {
   "cell_type": "code",
   "execution_count": 81,
   "metadata": {
    "collapsed": true
   },
   "outputs": [],
   "source": [
    "from gt_apps import gtexpcube2"
   ]
  },
  {
   "cell_type": "code",
   "execution_count": 82,
   "metadata": {},
   "outputs": [
    {
     "data": {
      "text/plain": [
       "' infile=data/3C279_ltcube.fits cmap=data/3C279_ccube.fits outfile=data/3C279_expcube.fits irfs=\"CALDB\" evtype=\"INDEF\" nxpix=\"INDEF\" nypix=\"INDEF\" binsz=\"INDEF\" coordsys=\"GAL\" xref=\"INDEF\" yref=\"INDEF\" axisrot=0.0 proj=\"CAR\" ebinalg=\"LOG\" emin=\"INDEF\" emax=\"INDEF\" enumbins=\"INDEF\" ebinfile=\"NONE\" bincalc=\"EDGE\" ignorephi=no thmax=180.0 thmin=0.0 table=\"EXPOSURE\" chatter=2 clobber=yes debug=no mode=\"ql\"'"
      ]
     },
     "execution_count": 82,
     "metadata": {},
     "output_type": "execute_result"
    }
   ],
   "source": [
    "gtexpcube2.pars()"
   ]
  },
  {
   "cell_type": "markdown",
   "metadata": {},
   "source": [
    "We already defined all the binning in the counts cube so we don't have to give it those again."
   ]
  },
  {
   "cell_type": "code",
   "execution_count": 83,
   "metadata": {
    "collapsed": true
   },
   "outputs": [],
   "source": [
    "gtexpcube2['infile'] = 'data/3C279_ltcube.fits'\n",
    "gtexpcube2['cmap'] = 'data/3C279_ccube.fits'\n",
    "gtexpcube2['outfile'] = 'data/3C279_expcube.fits'"
   ]
  },
  {
   "cell_type": "code",
   "execution_count": 105,
   "metadata": {},
   "outputs": [
    {
     "name": "stdout",
     "output_type": "stream",
     "text": [
      "time -p /usr/local/fermisoft/v10r0p5-fssc-20150518A/x86_64-unknown-linux-gnu-libc2.17/bin/gtexpcube2 infile=data/3C279_ltcube.fits cmap=data/3C279_ccube.fits outfile=data/3C279_expcube.fits irfs=\"CALDB\" evtype=\"INDEF\" nxpix=\"INDEF\" nypix=\"INDEF\" binsz=\"INDEF\" coordsys=\"GAL\" xref=\"INDEF\" yref=\"INDEF\" axisrot=0.0 proj=\"CAR\" ebinalg=\"LOG\" emin=\"INDEF\" emax=\"INDEF\" enumbins=\"INDEF\" ebinfile=\"NONE\" bincalc=\"EDGE\" ignorephi=no thmax=180.0 thmin=0.0 table=\"EXPOSURE\" chatter=2 clobber=yes debug=no mode=\"ql\"\n",
      "Computing binned exposure map....................!\n",
      "real 15.87\n",
      "user 14.40\n",
      "sys 0.79\n"
     ]
    }
   ],
   "source": [
    "gtexpcube2.run()"
   ]
  },
  {
   "cell_type": "markdown",
   "metadata": {},
   "source": [
    "### Now make the source maps\n",
    "\n",
    "These are model counts maps for all of the sources in your model."
   ]
  },
  {
   "cell_type": "code",
   "execution_count": 85,
   "metadata": {
    "collapsed": true
   },
   "outputs": [],
   "source": [
    "from gt_apps import srcMaps"
   ]
  },
  {
   "cell_type": "code",
   "execution_count": 86,
   "metadata": {},
   "outputs": [
    {
     "data": {
      "text/plain": [
       "' scfile= sctable=\"SC_DATA\" expcube=data/3C279_ltcube.fits cmap=data/3C279_ccube.fits srcmdl=3C279_input_model.xml bexpmap=data/3C279_expcube.fits outfile=data/3C279_srcmaps.fits irfs=\"CALDB\" evtype=\"INDEF\" convol=yes resample=yes rfactor=2 minbinsz=0.1 ptsrc=yes psfcorr=yes emapbnds=yes copyall=no chatter=2 clobber=yes debug=no gui=no mode=\"ql\"'"
      ]
     },
     "execution_count": 86,
     "metadata": {},
     "output_type": "execute_result"
    }
   ],
   "source": [
    "srcMaps.pars()"
   ]
  },
  {
   "cell_type": "code",
   "execution_count": 87,
   "metadata": {
    "collapsed": true
   },
   "outputs": [],
   "source": [
    "srcMaps['expcube'] = 'data/3C279_ltcube.fits'\n",
    "srcMaps['cmap'] = 'data/3C279_ccube.fits'\n",
    "srcMaps['srcmdl'] = '3C279_input_model.xml'\n",
    "srcMaps['bexpmap'] = 'data/3C279_expcube.fits'\n",
    "srcMaps['outfile'] = 'data/3C279_srcmaps.fits'"
   ]
  },
  {
   "cell_type": "code",
   "execution_count": 88,
   "metadata": {},
   "outputs": [
    {
     "data": {
      "text/plain": [
       "<GtApp.GtApp at 0x7f6b94dbcc10>"
      ]
     },
     "execution_count": 88,
     "metadata": {},
     "output_type": "execute_result"
    }
   ],
   "source": [
    "srcMaps"
   ]
  },
  {
   "cell_type": "code",
   "execution_count": 89,
   "metadata": {},
   "outputs": [
    {
     "name": "stdout",
     "output_type": "stream",
     "text": [
      "time -p /usr/local/fermisoft/v10r0p5-fssc-20150518A/x86_64-unknown-linux-gnu-libc2.17/bin/gtsrcmaps scfile= sctable=\"SC_DATA\" expcube=data/3C279_ltcube.fits cmap=data/3C279_ccube.fits srcmdl=3C279_input_model.xml bexpmap=data/3C279_expcube.fits outfile=data/3C279_srcmaps.fits irfs=\"CALDB\" evtype=\"INDEF\" convol=yes resample=yes rfactor=2 minbinsz=0.1 ptsrc=yes psfcorr=yes emapbnds=yes copyall=no chatter=2 clobber=yes debug=no gui=no mode=\"ql\"\n",
      "Caught N12_GLOBAL__N_116SkyProjExceptionE at the top level: SkyProj wcslib error 8 : One or more of the pixel coordinates were invalid\n"
     ]
    },
    {
     "ename": "RuntimeError",
     "evalue": "gtsrcmaps execution failed",
     "output_type": "error",
     "traceback": [
      "\u001b[0;31m---------------------------------------------------------------------------\u001b[0m",
      "\u001b[0;31mRuntimeError\u001b[0m                              Traceback (most recent call last)",
      "\u001b[0;32m<ipython-input-89-7c34bd05e77a>\u001b[0m in \u001b[0;36m<module>\u001b[0;34m()\u001b[0m\n\u001b[0;32m----> 1\u001b[0;31m \u001b[0msrcMaps\u001b[0m\u001b[0;34m.\u001b[0m\u001b[0mrun\u001b[0m\u001b[0;34m(\u001b[0m\u001b[0;34m)\u001b[0m\u001b[0;34m\u001b[0m\u001b[0m\n\u001b[0m",
      "\u001b[0;32m/usr/local/fermisoft/v10r0p5-fssc-20150518A/x86_64-unknown-linux-gnu-libc2.17/lib/python/GtApp.pyc\u001b[0m in \u001b[0;36mrun\u001b[0;34m(self, print_command, catchError, dry_run, **kwds)\u001b[0m\n\u001b[1;32m     70\u001b[0m                     \u001b[0minput\u001b[0m\u001b[0;34m.\u001b[0m\u001b[0mclose\u001b[0m\u001b[0;34m(\u001b[0m\u001b[0;34m)\u001b[0m\u001b[0;34m\u001b[0m\u001b[0m\n\u001b[1;32m     71\u001b[0m                     \u001b[0moutput\u001b[0m\u001b[0;34m.\u001b[0m\u001b[0mclose\u001b[0m\u001b[0;34m(\u001b[0m\u001b[0;34m)\u001b[0m\u001b[0;34m\u001b[0m\u001b[0m\n\u001b[0;32m---> 72\u001b[0;31m                     \u001b[0;32mraise\u001b[0m \u001b[0mRuntimeError\u001b[0m\u001b[0;34m,\u001b[0m \u001b[0mself\u001b[0m\u001b[0;34m.\u001b[0m\u001b[0mappName\u001b[0m \u001b[0;34m+\u001b[0m \u001b[0;34m\" execution failed\"\u001b[0m\u001b[0;34m\u001b[0m\u001b[0m\n\u001b[0m\u001b[1;32m     73\u001b[0m             \u001b[0minput\u001b[0m\u001b[0;34m.\u001b[0m\u001b[0mclose\u001b[0m\u001b[0;34m(\u001b[0m\u001b[0;34m)\u001b[0m\u001b[0;34m\u001b[0m\u001b[0m\n\u001b[1;32m     74\u001b[0m             \u001b[0moutput\u001b[0m\u001b[0;34m.\u001b[0m\u001b[0mclose\u001b[0m\u001b[0;34m(\u001b[0m\u001b[0;34m)\u001b[0m\u001b[0;34m\u001b[0m\u001b[0m\n",
      "\u001b[0;31mRuntimeError\u001b[0m: gtsrcmaps execution failed"
     ]
    }
   ],
   "source": [
    "srcMaps.run()"
   ]
  },
  {
   "cell_type": "markdown",
   "metadata": {},
   "source": [
    "I think we're ready to go now.  We're going to do this the python way (you could use *gtlike* if you wish)."
   ]
  },
  {
   "cell_type": "code",
   "execution_count": 1,
   "metadata": {},
   "outputs": [
    {
     "name": "stdout",
     "output_type": "stream",
     "text": [
      "Plotter is MatPlotlib\n"
     ]
    }
   ],
   "source": [
    "from BinnedAnalysis import *"
   ]
  },
  {
   "cell_type": "markdown",
   "metadata": {},
   "source": [
    "First, create an obsevation object which describes your observation."
   ]
  },
  {
   "cell_type": "code",
   "execution_count": 2,
   "metadata": {
    "collapsed": true
   },
   "outputs": [],
   "source": [
    "obs = BinnedObs(srcMaps='data/3C279_srcmaps.fits',\n",
    "                expCube='data/3C279_ltcube.fits',\n",
    "                binnedExpMap='data/3C279_expcube.fits',\n",
    "                irfs='CALDB')"
   ]
  },
  {
   "cell_type": "markdown",
   "metadata": {},
   "source": [
    "Now, create an analysis object."
   ]
  },
  {
   "cell_type": "code",
   "execution_count": 9,
   "metadata": {},
   "outputs": [],
   "source": [
    "analysis = BinnedAnalysis(obs,srcModel='3C279_input_model.xml', optimizer='MINUIT')"
   ]
  },
  {
   "cell_type": "markdown",
   "metadata": {},
   "source": [
    "Note that we selected an *optimizer*.  There are a couple of options (see the help file for gtlike) but most of the time you'll using one of the MINUIT optimizers (NEWMINUIT or MINUIT).  Now, we're ready to do the actual fit, but we can check out the objects we just created if we want."
   ]
  },
  {
   "cell_type": "code",
   "execution_count": 10,
   "metadata": {},
   "outputs": [
    {
     "data": {
      "text/plain": [
       "0.001"
      ]
     },
     "execution_count": 10,
     "metadata": {},
     "output_type": "execute_result"
    }
   ],
   "source": [
    "analysis.tol"
   ]
  },
  {
   "cell_type": "code",
   "execution_count": 11,
   "metadata": {
    "collapsed": true
   },
   "outputs": [],
   "source": [
    "analysis.fit?"
   ]
  },
  {
   "cell_type": "markdown",
   "metadata": {},
   "source": [
    "There are lots of other variables and functions associated with these but we'll leave that to the advanced likelihood lecture tomorrow.  For now, lets do the fit."
   ]
  },
  {
   "cell_type": "code",
   "execution_count": 12,
   "metadata": {},
   "outputs": [
    {
     "data": {
      "text/plain": [
       "110024.84260832888"
      ]
     },
     "execution_count": 12,
     "metadata": {},
     "output_type": "execute_result"
    }
   ],
   "source": [
    "analysis.fit()"
   ]
  },
  {
   "cell_type": "markdown",
   "metadata": {},
   "source": [
    "The number returned is the log(Likelihood) of the full fit.  You should also see a lot of information printed to the terminal.  You can even get this number later:"
   ]
  },
  {
   "cell_type": "code",
   "execution_count": 13,
   "metadata": {},
   "outputs": [
    {
     "data": {
      "text/plain": [
       "-110024.84260832888"
      ]
     },
     "execution_count": 13,
     "metadata": {},
     "output_type": "execute_result"
    }
   ],
   "source": [
    "analysis.logLike.value()"
   ]
  },
  {
   "cell_type": "markdown",
   "metadata": {},
   "source": [
    "So, that's all and good, how do I get at the results of the fit?\n",
    "\n",
    "Well, you can look at the model this way:"
   ]
  },
  {
   "cell_type": "code",
   "execution_count": 14,
   "metadata": {},
   "outputs": [
    {
     "data": {
      "text/plain": [
       "3C 273\n",
       "   Spectrum: PowerLaw\n",
       "0      Prefactor:  3.719e+01  5.021e-01  1.000e-03  1.000e+03 ( 1.000e-09)\n",
       "1          Index: -2.848e+00  1.314e-02 -5.000e+00 -1.000e+00 ( 1.000e+00)\n",
       "2          Scale:  1.000e+02  0.000e+00  3.000e+01  2.000e+03 ( 1.000e+00) fixed\n",
       "\n",
       "3C 279\n",
       "   Spectrum: PowerLaw\n",
       "3      Prefactor:  3.786e+01  4.847e-01  1.000e-03  1.000e+03 ( 1.000e-09)\n",
       "4          Index: -2.653e+00  1.066e-02 -5.000e+00 -1.000e+00 ( 1.000e+00)\n",
       "5          Scale:  1.000e+02  0.000e+00  3.000e+01  2.000e+03 ( 1.000e+00) fixed\n",
       "\n",
       "gll_iem_v06\n",
       "   Spectrum: ConstantValue\n",
       "6          Value:  0.000e+00  7.218e-13  0.000e+00  1.000e+01 ( 1.000e+00)\n",
       "\n",
       "iso_P8R2_SOURCE_V6_v06\n",
       "   Spectrum: FileFunction\n",
       "7     Normalization:  5.801e-01  1.155e-03  1.000e-05  1.000e+03 ( 1.000e+00)"
      ]
     },
     "execution_count": 14,
     "metadata": {},
     "output_type": "execute_result"
    }
   ],
   "source": [
    "analysis.model"
   ]
  },
  {
   "cell_type": "markdown",
   "metadata": {},
   "source": [
    "You can also get at the test statistic of a specific source"
   ]
  },
  {
   "cell_type": "code",
   "execution_count": 15,
   "metadata": {},
   "outputs": [
    {
     "data": {
      "text/plain": [
       "56928.07586842176"
      ]
     },
     "execution_count": 15,
     "metadata": {},
     "output_type": "execute_result"
    }
   ],
   "source": [
    "analysis.Ts('3C 279')"
   ]
  },
  {
   "cell_type": "markdown",
   "metadata": {},
   "source": [
    "and the number of predicted counts"
   ]
  },
  {
   "cell_type": "code",
   "execution_count": 16,
   "metadata": {},
   "outputs": [
    {
     "data": {
      "text/plain": [
       "24282.37227667029"
      ]
     },
     "execution_count": 16,
     "metadata": {},
     "output_type": "execute_result"
    }
   ],
   "source": [
    "analysis.NpredValue('3C 279')"
   ]
  },
  {
   "cell_type": "markdown",
   "metadata": {},
   "source": [
    "You can bring up a counts spectrum of all of the sources:"
   ]
  },
  {
   "cell_type": "code",
   "execution_count": 17,
   "metadata": {},
   "outputs": [
    {
     "name": "stderr",
     "output_type": "stream",
     "text": [
      "/usr/local/fermisoft/v10r0p5-fssc-20150518A/x86_64-unknown-linux-gnu-libc2.17/lib/python2.7/site-packages/matplotlib/figure.py:403: UserWarning: matplotlib is currently using a non-GUI backend, so cannot show the figure\n",
      "  \"matplotlib is currently using a non-GUI backend, \"\n"
     ]
    }
   ],
   "source": [
    "analysis.plot()"
   ]
  },
  {
   "cell_type": "markdown",
   "metadata": {},
   "source": [
    "Or, if you're feeling adventurous, plot it in python..."
   ]
  },
  {
   "cell_type": "code",
   "execution_count": 23,
   "metadata": {},
   "outputs": [
    {
     "data": {
      "image/png": "[encoded data removed]",
      "text/plain": [
       "<matplotlib.figure.Figure at 0x7f4bd7d0f390>"
      ]
     },
     "metadata": {},
     "output_type": "display_data"
    }
   ],
   "source": [
    "E = (analysis.energies[:-1] + analysis.energies[1:])/2.\n",
    "#The 'energies' array are the endpoints so we take the midpoint of the bins.\n",
    "plt.figure(figsize=(9,9))\n",
    "plt.ylim((0.4,1e5))\n",
    "plt.xlim((100,100000))\n",
    "sum_model = np.zeros_like(analysis._srcCnts(analysis.sourceNames()[0]))\n",
    "for sourceName in analysis.sourceNames():\n",
    "    sum_model = sum_model + analysis._srcCnts(sourceName)\n",
    "    plt.loglog(E,analysis._srcCnts(sourceName),label=sourceName)\n",
    "plt.loglog(E,sum_model,label='Total Model')\n",
    "plt.errorbar(E,analysis.nobs,yerr=np.sqrt(analysis.nobs), fmt='o',label='Counts')\n",
    "plt.legend(bbox_to_anchor=(1.05, 1), loc=2)\n",
    "plt.show()"
   ]
  },
  {
   "cell_type": "code",
   "execution_count": 25,
   "metadata": {},
   "outputs": [
    {
     "data": {
      "image/png": "[encoded data removed]",
      "text/plain": [
       "<matplotlib.figure.Figure at 0x7f4bdc990210>"
      ]
     },
     "metadata": {},
     "output_type": "display_data"
    }
   ],
   "source": [
    "resid = (analysis.nobs - sum_model)/sum_model\n",
    "resid_err = (np.sqrt(analysis.nobs)/sum_model)\n",
    "plt.figure(figsize=(9,9))\n",
    "plt.xscale('log')\n",
    "plt.errorbar(E,resid,yerr=resid_err,fmt='o')\n",
    "plt.axhline(0.0,ls=':')\n",
    "plt.show()"
   ]
  },
  {
   "cell_type": "markdown",
   "metadata": {},
   "source": [
    "You can output a new XML model:"
   ]
  },
  {
   "cell_type": "code",
   "execution_count": 26,
   "metadata": {
    "collapsed": true
   },
   "outputs": [],
   "source": [
    "analysis.writeXml('data/3C279_output_model.xml')"
   ]
  },
  {
   "cell_type": "markdown",
   "metadata": {},
   "source": [
    "You can get at the integral flux of a specific source:"
   ]
  },
  {
   "cell_type": "code",
   "execution_count": 27,
   "metadata": {},
   "outputs": [
    {
     "ename": "RuntimeError",
     "evalue": "Covariance matrix has not been computed.",
     "output_type": "error",
     "traceback": [
      "\u001b[0;31m---------------------------------------------------------------------------\u001b[0m",
      "\u001b[0;31mRuntimeError\u001b[0m                              Traceback (most recent call last)",
      "\u001b[0;32m<ipython-input-27-890fe113584f>\u001b[0m in \u001b[0;36m<module>\u001b[0;34m()\u001b[0m\n\u001b[0;32m----> 1\u001b[0;31m \u001b[0;32mprint\u001b[0m \u001b[0;34m\"3C 279 Integral Flux = {} +- {}\"\u001b[0m\u001b[0;34m.\u001b[0m\u001b[0mformat\u001b[0m\u001b[0;34m(\u001b[0m\u001b[0manalysis\u001b[0m\u001b[0;34m.\u001b[0m\u001b[0mflux\u001b[0m\u001b[0;34m(\u001b[0m\u001b[0;34m'3C 279'\u001b[0m\u001b[0;34m)\u001b[0m\u001b[0;34m,\u001b[0m \u001b[0manalysis\u001b[0m\u001b[0;34m.\u001b[0m\u001b[0mfluxError\u001b[0m\u001b[0;34m(\u001b[0m\u001b[0;34m'3C 279'\u001b[0m\u001b[0;34m)\u001b[0m\u001b[0;34m)\u001b[0m\u001b[0;34m\u001b[0m\u001b[0m\n\u001b[0m",
      "\u001b[0;32m/usr/local/fermisoft/v10r0p5-fssc-20150518A/x86_64-unknown-linux-gnu-libc2.17/lib/python/AnalysisBase.pyc\u001b[0m in \u001b[0;36mfluxError\u001b[0;34m(self, srcName, emin, emax, energyFlux, npts)\u001b[0m\n\u001b[1;32m    381\u001b[0m         \u001b[0;31m#\u001b[0m\u001b[0;34m\u001b[0m\u001b[0;34m\u001b[0m\u001b[0m\n\u001b[1;32m    382\u001b[0m         \u001b[0;32mif\u001b[0m \u001b[0mself\u001b[0m\u001b[0;34m.\u001b[0m\u001b[0mcovariance\u001b[0m \u001b[0;32mis\u001b[0m \u001b[0mNone\u001b[0m\u001b[0;34m:\u001b[0m\u001b[0;34m\u001b[0m\u001b[0m\n\u001b[0;32m--> 383\u001b[0;31m             \u001b[0;32mraise\u001b[0m \u001b[0mRuntimeError\u001b[0m\u001b[0;34m(\u001b[0m\u001b[0;34m\"Covariance matrix has not been computed.\"\u001b[0m\u001b[0;34m)\u001b[0m\u001b[0;34m\u001b[0m\u001b[0m\n\u001b[0m\u001b[1;32m    384\u001b[0m         \u001b[0;32mif\u001b[0m \u001b[0;32mnot\u001b[0m \u001b[0mself\u001b[0m\u001b[0;34m.\u001b[0m\u001b[0mcovar_is_current\u001b[0m\u001b[0;34m:\u001b[0m\u001b[0;34m\u001b[0m\u001b[0m\n\u001b[1;32m    385\u001b[0m             sys.stderr.write(\"Warning: covariance matrix has not been \" +\n",
      "\u001b[0;31mRuntimeError\u001b[0m: Covariance matrix has not been computed."
     ]
    }
   ],
   "source": [
    "print \"3C 279 Integral Flux = {} +- {}\".format(analysis.flux('3C 279'), analysis.fluxError('3C 279'))"
   ]
  },
  {
   "cell_type": "markdown",
   "metadata": {},
   "source": [
    "Oops.  Forgot to do that.  What's the covariance matrix?  It's basically the matrix of values that shows how each variable in your model depends on each other variable.  We can tell the fit to compute that."
   ]
  },
  {
   "cell_type": "code",
   "execution_count": 28,
   "metadata": {},
   "outputs": [
    {
     "data": {
      "text/plain": [
       "110024.84260833377"
      ]
     },
     "execution_count": 28,
     "metadata": {},
     "output_type": "execute_result"
    }
   ],
   "source": [
    "analysis.fit(covar=True)"
   ]
  },
  {
   "cell_type": "code",
   "execution_count": 29,
   "metadata": {},
   "outputs": [
    {
     "name": "stdout",
     "output_type": "stream",
     "text": [
      "3C 279 Integral Flux = 2.29414009461e-06 +- 2.0377185545e-08\n"
     ]
    }
   ],
   "source": [
    "print \"3C 279 Integral Flux = {} +- {}\".format(analysis.flux('3C 279'), analysis.fluxError('3C 279'))"
   ]
  },
  {
   "cell_type": "markdown",
   "metadata": {},
   "source": [
    "###What About?..."
   ]
  },
  {
   "cell_type": "markdown",
   "metadata": {},
   "source": [
    "Tomorrow we'll go over the advanced likelihood and talk about things like\n",
    "\n",
    "* Upper Limits\n",
    "* Composite and Summed Likelihood\n",
    "* Scripting\n",
    "* Muliti-Core Processing\n",
    "* User Contributed Tools\n",
    "* Fit verification\n",
    "* …and more"
   ]
  },
  {
   "cell_type": "code",
   "execution_count": 30,
   "metadata": {},
   "outputs": [
    {
     "data": {
      "text/plain": [
       "<bound method BinnedObs.state of Source maps: data/3C279_srcmaps.fits\n",
       "Exposure cube: data/3C279_ltcube.fits\n",
       "Exposure map: data/3C279_expcube.fits\n",
       "IRFs: CALDB>"
      ]
     },
     "execution_count": 30,
     "metadata": {},
     "output_type": "execute_result"
    }
   ],
   "source": [
    "obs.state"
   ]
  },
  {
   "cell_type": "code",
   "execution_count": 31,
   "metadata": {},
   "outputs": [
    {
     "data": {
      "text/plain": [
       "['NpredValue',\n",
       " 'Ts',\n",
       " 'Ts_old',\n",
       " '__call__',\n",
       " '__class__',\n",
       " '__delattr__',\n",
       " '__dict__',\n",
       " '__doc__',\n",
       " '__format__',\n",
       " '__getattribute__',\n",
       " '__getitem__',\n",
       " '__hash__',\n",
       " '__init__',\n",
       " '__module__',\n",
       " '__new__',\n",
       " '__reduce__',\n",
       " '__reduce_ex__',\n",
       " '__repr__',\n",
       " '__setattr__',\n",
       " '__setitem__',\n",
       " '__sizeof__',\n",
       " '__str__',\n",
       " '__subclasshook__',\n",
       " '__weakref__',\n",
       " '_errors',\n",
       " '_importPlotter',\n",
       " '_inputs',\n",
       " '_isDiffuseOrNearby',\n",
       " '_minosIndexError',\n",
       " '_npredValues',\n",
       " '_plotData',\n",
       " '_plotResiduals',\n",
       " '_plotSource',\n",
       " '_renorm',\n",
       " '_separation',\n",
       " '_setSourceAttributes',\n",
       " '_srcCnts',\n",
       " '_srcDialog',\n",
       " '_ts_src',\n",
       " '_xrange',\n",
       " 'addSource',\n",
       " 'binnedData',\n",
       " 'covar_is_current',\n",
       " 'covariance',\n",
       " 'deleteSource',\n",
       " 'e_vals',\n",
       " 'energies',\n",
       " 'energyFlux',\n",
       " 'energyFluxError',\n",
       " 'fit',\n",
       " 'flux',\n",
       " 'fluxError',\n",
       " 'freePars',\n",
       " 'freeze',\n",
       " 'getExtraSourceAttributes',\n",
       " 'logLike',\n",
       " 'maxdist',\n",
       " 'minosError',\n",
       " 'model',\n",
       " 'nobs',\n",
       " 'normPar',\n",
       " 'oplot',\n",
       " 'optObject',\n",
       " 'optimize',\n",
       " 'optimizer',\n",
       " 'par_index',\n",
       " 'params',\n",
       " 'plot',\n",
       " 'plotFixed',\n",
       " 'plotSource',\n",
       " 'plotSourceFit',\n",
       " 'plotter',\n",
       " 'renormFactor',\n",
       " 'residualPlot',\n",
       " 'restoreBestFit',\n",
       " 'saveCurrentFit',\n",
       " 'scan',\n",
       " 'selectEbounds',\n",
       " 'setEnergyRange',\n",
       " 'setFitTolType',\n",
       " 'setFreeFlag',\n",
       " 'setPlotter',\n",
       " 'setSpectrum',\n",
       " 'sourceFitPlots',\n",
       " 'sourceFitResids',\n",
       " 'sourceNames',\n",
       " 'spectralPlot',\n",
       " 'srcModel',\n",
       " 'state',\n",
       " 'syncSrcParams',\n",
       " 'thaw',\n",
       " 'tol',\n",
       " 'tolType',\n",
       " 'total_nobs',\n",
       " 'verbosity',\n",
       " 'writeCountsSpectra',\n",
       " 'writeModelMap',\n",
       " 'writeXml']"
      ]
     },
     "execution_count": 31,
     "metadata": {},
     "output_type": "execute_result"
    }
   ],
   "source": [
    "dir(analysis)"
   ]
  },
  {
   "cell_type": "code",
   "execution_count": null,
   "metadata": {
    "collapsed": true
   },
   "outputs": [],
   "source": []
  }
 ],
 "metadata": {
  "kernelspec": {
   "display_name": "Python 2",
   "language": "python",
   "name": "python2"
  },
  "language_info": {
   "codemirror_mode": {
    "name": "ipython",
    "version": 2
   },
   "file_extension": ".py",
   "mimetype": "text/x-python",
   "name": "python",
   "nbconvert_exporter": "python",
   "pygments_lexer": "ipython2",
   "version": "2.7.8"
  }
 },
 "nbformat": 4,
 "nbformat_minor": 1
}
