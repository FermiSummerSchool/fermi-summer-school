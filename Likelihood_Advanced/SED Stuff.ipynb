{
 "cells": [
  {
   "cell_type": "code",
   "execution_count": 1,
   "metadata": {},
   "outputs": [],
   "source": [
    "%matplotlib inline\n",
    "import matplotlib.pyplot as plt\n",
    "import matplotlib\n",
    "import numpy as np"
   ]
  },
  {
   "cell_type": "code",
   "execution_count": 2,
   "metadata": {},
   "outputs": [
    {
     "name": "stderr",
     "output_type": "stream",
     "text": [
      "\n",
      "WARNING: version mismatch between CFITSIO header (v4.000999999999999) and linked library (v4.01).\n",
      "\n",
      "\n",
      "WARNING: version mismatch between CFITSIO header (v4.000999999999999) and linked library (v4.01).\n",
      "\n",
      "\n",
      "WARNING: version mismatch between CFITSIO header (v4.000999999999999) and linked library (v4.01).\n",
      "\n"
     ]
    }
   ],
   "source": [
    "from fermipy.gtanalysis import GTAnalysis"
   ]
  },
  {
   "cell_type": "code",
   "execution_count": 3,
   "metadata": {},
   "outputs": [
    {
     "name": "stderr",
     "output_type": "stream",
     "text": [
      "2022-05-25 17:12:04 INFO    GTAnalysis.__init__(): \n",
      "--------------------------------------------------------------------------------\n",
      "fermipy version v1.1+5.ga1de.dirty \n",
      "ScienceTools version 2.1.19\n",
      "2022-05-25 17:12:05 INFO    GTAnalysis.setup(): Running setup.\n",
      "2022-05-25 17:12:05 INFO    GTBinnedAnalysis.setup(): Running setup for component 00\n",
      "2022-05-25 17:12:05 INFO    GTBinnedAnalysis._select_data(): Skipping data selection.\n",
      "2022-05-25 17:12:05 INFO    GTBinnedAnalysis._create_ltcube(): Skipping LT Cube.\n",
      "/Users/hfleisc1/mambaforge/envs/fermi-21/lib/python3.9/site-packages/fermipy/irfs.py:51: FutureWarning: Using a non-tuple sequence for multidimensional indexing is deprecated; use `arr[tuple(seq)]` instead of `arr[seq]`. In the future this will be interpreted as an array index, `arr[np.array(seq)]`, which will result either in an error or a different result.\n",
      "  log_ratio = np.log(x[xs1] / x[xs0])\n",
      "/Users/hfleisc1/mambaforge/envs/fermi-21/lib/python3.9/site-packages/fermipy/irfs.py:52: FutureWarning: Using a non-tuple sequence for multidimensional indexing is deprecated; use `arr[tuple(seq)]` instead of `arr[seq]`. In the future this will be interpreted as an array index, `arr[np.array(seq)]`, which will result either in an error or a different result.\n",
      "  return 0.5 * (y[ys0] * x[xs0] + y[ys1] * x[xs1]) * log_ratio\n",
      "2022-05-25 17:12:05 INFO    GTBinnedAnalysis._create_expcube(): Skipping gtexpcube.\n",
      "WARNING: FITSFixedWarning: RADECSYS= 'FK5 ' \n",
      "the RADECSYS keyword is deprecated, use RADESYSa. [astropy.wcs.wcs]\n",
      "WARNING: FITSFixedWarning: 'datfix' made the change 'Set DATEREF to '2001-01-01T00:01:04.184' from MJDREF.\n",
      "Set MJD-OBS to 54682.655283 from DATE-OBS.\n",
      "Set MJD-END to 54865.999977 from DATE-END'. [astropy.wcs.wcs]\n",
      "2022-05-25 17:12:05 INFO    GTBinnedAnalysis._create_srcmaps(): Skipping gtsrcmaps.\n",
      "2022-05-25 17:12:05 INFO    GTBinnedAnalysis.setup(): Finished setup for component 00\n",
      "2022-05-25 17:12:05 INFO    GTBinnedAnalysis.setup(): Running setup for component 01\n",
      "2022-05-25 17:12:05 INFO    GTBinnedAnalysis._select_data(): Skipping data selection.\n",
      "2022-05-25 17:12:05 INFO    GTBinnedAnalysis._create_ltcube(): Skipping LT Cube.\n",
      "/Users/hfleisc1/mambaforge/envs/fermi-21/lib/python3.9/site-packages/fermipy/irfs.py:51: FutureWarning: Using a non-tuple sequence for multidimensional indexing is deprecated; use `arr[tuple(seq)]` instead of `arr[seq]`. In the future this will be interpreted as an array index, `arr[np.array(seq)]`, which will result either in an error or a different result.\n",
      "  log_ratio = np.log(x[xs1] / x[xs0])\n",
      "/Users/hfleisc1/mambaforge/envs/fermi-21/lib/python3.9/site-packages/fermipy/irfs.py:52: FutureWarning: Using a non-tuple sequence for multidimensional indexing is deprecated; use `arr[tuple(seq)]` instead of `arr[seq]`. In the future this will be interpreted as an array index, `arr[np.array(seq)]`, which will result either in an error or a different result.\n",
      "  return 0.5 * (y[ys0] * x[xs0] + y[ys1] * x[xs1]) * log_ratio\n",
      "2022-05-25 17:12:06 INFO    GTBinnedAnalysis._create_expcube(): Skipping gtexpcube.\n",
      "WARNING: FITSFixedWarning: RADECSYS= 'FK5 ' \n",
      "the RADECSYS keyword is deprecated, use RADESYSa. [astropy.wcs.wcs]\n",
      "WARNING: FITSFixedWarning: 'datfix' made the change 'Set DATEREF to '2001-01-01T00:01:04.184' from MJDREF.\n",
      "Set MJD-OBS to 54682.655283 from DATE-OBS.\n",
      "Set MJD-END to 54865.999977 from DATE-END'. [astropy.wcs.wcs]\n",
      "2022-05-25 17:12:06 INFO    GTBinnedAnalysis._create_srcmaps(): Skipping gtsrcmaps.\n",
      "2022-05-25 17:12:06 INFO    GTBinnedAnalysis.setup(): Finished setup for component 01\n",
      "2022-05-25 17:12:06 INFO    GTBinnedAnalysis.setup(): Running setup for component 02\n",
      "2022-05-25 17:12:06 INFO    GTBinnedAnalysis._select_data(): Skipping data selection.\n",
      "2022-05-25 17:12:06 INFO    GTBinnedAnalysis._create_ltcube(): Skipping LT Cube.\n",
      "2022-05-25 17:12:06 INFO    GTBinnedAnalysis._create_expcube(): Skipping gtexpcube.\n",
      "2022-05-25 17:12:06 INFO    GTBinnedAnalysis._create_srcmaps(): Skipping gtsrcmaps.\n",
      "2022-05-25 17:12:06 INFO    GTBinnedAnalysis.setup(): Finished setup for component 02\n",
      "2022-05-25 17:12:06 INFO    GTBinnedAnalysis.setup(): Running setup for component 03\n",
      "2022-05-25 17:12:06 INFO    GTBinnedAnalysis._select_data(): Skipping data selection.\n",
      "2022-05-25 17:12:06 INFO    GTBinnedAnalysis._create_ltcube(): Skipping LT Cube.\n",
      "2022-05-25 17:12:07 INFO    GTBinnedAnalysis._create_expcube(): Skipping gtexpcube.\n",
      "2022-05-25 17:12:07 INFO    GTBinnedAnalysis._create_srcmaps(): Skipping gtsrcmaps.\n",
      "2022-05-25 17:12:07 INFO    GTBinnedAnalysis.setup(): Finished setup for component 03\n",
      "2022-05-25 17:12:07 INFO    GTBinnedAnalysis._create_binned_analysis(): Creating BinnedAnalysis for component 00.\n",
      "2022-05-25 17:12:11 INFO    GTBinnedAnalysis._create_binned_analysis(): Creating BinnedAnalysis for component 01.\n"
     ]
    },
    {
     "name": "stdout",
     "output_type": "stream",
     "text": [
      "Drm_Cache::update Measured counts < 0 4FGL J1221.4-0634 23 -3.16963e-12 5.8433e-12\n",
      "0.57141 0.63714 0.627586 0.554603 0.444619 0.330903 0.219693 0.132171 0.0712835 0.032272 0.0133772 0.00410797 0.00140145 0.00031844 9.72625e-05 2.14837e-05 6.37548e-06 1.5398e-06 4.17718e-07 8.85368e-08 1.37222e-08 1.48829e-09 1.23325e-10 5.8433e-12 \n"
     ]
    },
    {
     "name": "stderr",
     "output_type": "stream",
     "text": [
      "2022-05-25 17:12:15 INFO    GTBinnedAnalysis._create_binned_analysis(): Creating BinnedAnalysis for component 02.\n",
      "2022-05-25 17:12:20 INFO    GTBinnedAnalysis._create_binned_analysis(): Creating BinnedAnalysis for component 03.\n",
      "2022-05-25 17:12:28 INFO    GTAnalysis.setup(): Finished setup.\n",
      "2022-05-25 17:12:28 INFO    GTAnalysis.load_roi(): Loading ROI file: /Users/hfleisc1/fermi_software/summer2022/fermi-summer-school/Likelihood_Advanced/data/fit2_sed.npy\n",
      "2022-05-25 17:12:28 INFO    GTBinnedAnalysis._create_binned_analysis(): Creating BinnedAnalysis for component 00.\n",
      "2022-05-25 17:12:32 INFO    GTBinnedAnalysis._create_binned_analysis(): Creating BinnedAnalysis for component 01.\n",
      "2022-05-25 17:12:36 INFO    GTBinnedAnalysis._create_binned_analysis(): Creating BinnedAnalysis for component 02.\n",
      "2022-05-25 17:12:41 INFO    GTBinnedAnalysis._create_binned_analysis(): Creating BinnedAnalysis for component 03.\n",
      "2022-05-25 17:12:48 INFO    GTAnalysis.load_roi(): Finished Loading ROI\n"
     ]
    }
   ],
   "source": [
    "gta = GTAnalysis.create('data/fit2_sed.npy')"
   ]
  },
  {
   "cell_type": "code",
   "execution_count": 4,
   "metadata": {},
   "outputs": [
    {
     "name": "stderr",
     "output_type": "stream",
     "text": [
      "2022-05-25 17:12:48 INFO    GTAnalysis.print_roi(): \n",
      "name                SpatialModel   SpectrumType     offset        ts       npred\n",
      "--------------------------------------------------------------------------------\n",
      "4FGL J1256.1-0547   PointSource    PLSuperExpCuto    0.000  13258.48      7521.9\n",
      "4FGL J1243.9-0218   PointSource    LogParabola       4.627     11.89        38.6\n",
      "4FGL J1315.9-0732   PointSource    LogParabola       5.216     17.13        37.1\n",
      "4FGL J1234.7-0434   PointSource    PowerLaw          5.469      4.19        26.1\n",
      "4FGL J1256.2-1146   PointSource    PowerLaw          5.987     35.76        87.0\n",
      "4FGL J1322.3-0606   PointSource    LogParabola       6.518     11.59        18.7\n",
      "4FGL J1233.7-0144   PointSource    PowerLaw          6.904     28.03       107.1\n",
      "4FGL J1310.2-1158   PointSource    PowerLaw          7.100     14.79        47.8\n",
      "4FGL J1311.0+0034   PointSource    PowerLaw          7.357     24.23        77.5\n",
      "4FGL J1322.6-0936   PointSource    LogParabola       7.592     95.43       361.4\n",
      "4FGL J1312.7+0050   PointSource    PLSuperExpCuto    7.818    133.27       151.4\n",
      "4FGL J1318.7-1234   PointSource    LogParabola       8.788      7.90        30.2\n",
      "4FGL J1332.0-0509   PointSource    LogParabola       8.959     12.16       184.4\n",
      "4FGL J1229.0+0202   PointSource    LogParabola      10.351   1815.59      1612.6\n",
      "4FGL J1231.1-1412   PointSource    PLSuperExpCuto   10.417     14.21       108.0\n",
      "4FGL J1332.6-1256   PointSource    LogParabola      11.486     26.59       218.7\n",
      "isodiff             ConstantValue  FileFunction      -----    446.75      7358.2\n",
      "galdiff             MapCubeFunctio PowerLaw          -----   4271.03     15909.3\n",
      "\n"
     ]
    }
   ],
   "source": [
    "gta.print_roi()"
   ]
  },
  {
   "cell_type": "code",
   "execution_count": 5,
   "metadata": {},
   "outputs": [],
   "source": [
    "sed = np.load('data/4fgl_j1256.1-0547_sed.npy', allow_pickle=True).flat[0]"
   ]
  },
  {
   "cell_type": "code",
   "execution_count": 6,
   "metadata": {},
   "outputs": [
    {
     "data": {
      "text/plain": [
       "dict_keys(['name', 'loge_min', 'loge_max', 'loge_ctr', 'loge_ref', 'e_min', 'e_max', 'e_ctr', 'e_ref', 'ref_flux', 'ref_eflux', 'ref_dnde', 'ref_dnde_e_min', 'ref_dnde_e_max', 'ref_e2dnde', 'ref_npred', 'norm', 'flux', 'eflux', 'dnde', 'e2dnde', 'index', 'npred', 'ts', 'loglike', 'norm_scan', 'dloglike_scan', 'loglike_scan', 'fit_quality', 'fit_status', 'correlation', 'model_flux', 'config', 'norm_err', 'norm_err_hi', 'norm_err_lo', 'norm_ul95', 'norm_ul', 'flux_err', 'flux_err_hi', 'flux_err_lo', 'flux_ul95', 'flux_ul', 'eflux_err', 'eflux_err_hi', 'eflux_err_lo', 'eflux_ul95', 'eflux_ul', 'dnde_err', 'dnde_err_hi', 'dnde_err_lo', 'dnde_ul95', 'dnde_ul', 'e2dnde_err', 'e2dnde_err_hi', 'e2dnde_err_lo', 'e2dnde_ul95', 'e2dnde_ul', 'SpectrumType', 'param_names', 'param_values', 'param_errors', 'param_covariance', 'param_correlation', 'file'])"
      ]
     },
     "execution_count": 6,
     "metadata": {},
     "output_type": "execute_result"
    }
   ],
   "source": [
    "sed.keys()"
   ]
  },
  {
   "cell_type": "code",
   "execution_count": 7,
   "metadata": {},
   "outputs": [
    {
     "data": {
      "text/plain": [
       "array([  100.        ,   133.35214322,   177.827941  ,   237.13737057,\n",
       "         316.22776602,   421.69650343,   562.34132519,   749.89420933,\n",
       "        1000.        ,  1333.52143216,  1778.27941004,  2371.37370566,\n",
       "        3162.27766017,  4216.96503429,  5623.4132519 ,  7498.94209332,\n",
       "       10000.        , 13335.21432163, 17782.79410039, 23713.73705662,\n",
       "       31622.77660168, 42169.65034286, 56234.13251903, 74989.42093325])"
      ]
     },
     "execution_count": 7,
     "metadata": {},
     "output_type": "execute_result"
    }
   ],
   "source": [
    "sed['e_min']"
   ]
  },
  {
   "cell_type": "code",
   "execution_count": 8,
   "metadata": {},
   "outputs": [],
   "source": [
    "from astropy.io import fits"
   ]
  },
  {
   "cell_type": "code",
   "execution_count": 9,
   "metadata": {},
   "outputs": [],
   "source": [
    "exp_hdu = fits.open('data/bexpmap_00.fits')"
   ]
  },
  {
   "cell_type": "code",
   "execution_count": 10,
   "metadata": {},
   "outputs": [
    {
     "name": "stdout",
     "output_type": "stream",
     "text": [
      "Filename: data/bexpmap_00.fits\n",
      "No.    Name      Ver    Type      Cards   Dimensions   Format\n",
      "  0  PRIMARY       1 PrimaryHDU      56   (360, 180, 25)   float32   \n",
      "  1  ENERGIES      1 BinTableHDU     13   25R x 1C   [1D]   \n",
      "  2  GTI           1 BinTableHDU     18   2791R x 2C   [D, D]   \n"
     ]
    }
   ],
   "source": [
    "exp_hdu.info()"
   ]
  },
  {
   "cell_type": "code",
   "execution_count": 11,
   "metadata": {},
   "outputs": [
    {
     "data": {
      "text/plain": [
       "FITS_rec([(   100.        ,), (   133.35214322,), (   177.827941  ,),\n",
       "          (   237.13737057,), (   316.22776602,), (   421.69650343,),\n",
       "          (   562.34132519,), (   749.89420933,), (  1000.        ,),\n",
       "          (  1333.52143216,), (  1778.27941004,), (  2371.37370566,),\n",
       "          (  3162.27766017,), (  4216.96503429,), (  5623.4132519 ,),\n",
       "          (  7498.94209332,), ( 10000.        ,), ( 13335.21432163,),\n",
       "          ( 17782.79410039,), ( 23713.73705662,), ( 31622.77660168,),\n",
       "          ( 42169.65034286,), ( 56234.13251903,), ( 74989.42093325,),\n",
       "          (100000.        ,)], dtype=(numpy.record, [('Energy', '>f8')]))"
      ]
     },
     "execution_count": 11,
     "metadata": {},
     "output_type": "execute_result"
    }
   ],
   "source": [
    "exp_hdu[1].data"
   ]
  },
  {
   "cell_type": "code",
   "execution_count": 12,
   "metadata": {},
   "outputs": [
    {
     "data": {
      "text/plain": [
       "array([   100.        ,    133.35214322,    177.827941  ,    237.13737057,\n",
       "          316.22776602,    421.69650343,    562.34132519,    749.89420933,\n",
       "         1000.        ,   1333.52143216,   1778.27941004,   2371.37370566,\n",
       "         3162.27766017,   4216.96503429,   5623.4132519 ,   7498.94209332,\n",
       "        10000.        ,  13335.21432163,  17782.79410039,  23713.73705662,\n",
       "        31622.77660168,  42169.65034286,  56234.13251903,  74989.42093325,\n",
       "       100000.        ])"
      ]
     },
     "execution_count": 12,
     "metadata": {},
     "output_type": "execute_result"
    }
   ],
   "source": [
    "gta.energies"
   ]
  },
  {
   "cell_type": "code",
   "execution_count": 13,
   "metadata": {},
   "outputs": [
    {
     "data": {
      "text/plain": [
       "array([2.   , 2.125, 2.25 , 2.375, 2.5  , 2.625, 2.75 , 2.875, 3.   ,\n",
       "       3.125, 3.25 , 3.375, 3.5  , 3.625, 3.75 , 3.875, 4.   , 4.125,\n",
       "       4.25 , 4.375, 4.5  , 4.625, 4.75 , 4.875])"
      ]
     },
     "execution_count": 13,
     "metadata": {},
     "output_type": "execute_result"
    }
   ],
   "source": [
    "sed['loge_min']"
   ]
  },
  {
   "cell_type": "code",
   "execution_count": 14,
   "metadata": {},
   "outputs": [
    {
     "data": {
      "text/plain": [
       "array([  100.        ,   133.35214322,   177.827941  ,   237.13737057,\n",
       "         316.22776602,   421.69650343,   562.34132519,   749.89420933,\n",
       "        1000.        ,  1333.52143216,  1778.27941004,  2371.37370566,\n",
       "        3162.27766017,  4216.96503429,  5623.4132519 ,  7498.94209332,\n",
       "       10000.        , 13335.21432163, 17782.79410039, 23713.73705662,\n",
       "       31622.77660168, 42169.65034286, 56234.13251903, 74989.42093325])"
      ]
     },
     "execution_count": 14,
     "metadata": {},
     "output_type": "execute_result"
    }
   ],
   "source": [
    "10**sed['loge_min']"
   ]
  },
  {
   "cell_type": "code",
   "execution_count": 15,
   "metadata": {},
   "outputs": [],
   "source": [
    "loge_bins_input = np.array([ 2.   ,  2.125, 2.25 ,  2.375,  2.5  ,  2.625,  2.75 ,  2.875,\n",
    "        3.   ,  3.125,  3.25 ,  3.375,  3.5  ,  3.625,  3.75 ,  3.875,\n",
    "        4.   ,  4.125,  4.25 ,  4.375,  4.5  , 5.0])"
   ]
  },
  {
   "cell_type": "code",
   "execution_count": 16,
   "metadata": {},
   "outputs": [
    {
     "name": "stderr",
     "output_type": "stream",
     "text": [
      "2022-05-25 17:12:48 INFO    GTAnalysis.sed(): Computing SED for 4FGL J1256.1-0547\n",
      "2022-05-25 17:12:49 INFO    GTAnalysis._make_sed(): Fitting SED\n",
      "2022-05-25 17:12:49 INFO    GTAnalysis.free_source(): Freeing parameters for 4FGL J1256.1-0547     : ['Prefactor']\n",
      "/Users/hfleisc1/mambaforge/envs/fermi-21/lib/python3.9/site-packages/scipy/interpolate/_fitpack2.py:280: UserWarning: \n",
      "The maximal number of iterations maxit (set to 20 by the program)\n",
      "allowed for finding a smoothing spline with fp=s has been reached: s\n",
      "too small.\n",
      "There is an approximation returned but the corresponding weighted sum\n",
      "of squared residuals does not satisfy the condition abs(fp-s)/s < tol.\n",
      "  warnings.warn(message)\n",
      "2022-05-25 17:12:59 INFO    GTAnalysis.sed(): Finished SED\n",
      "2022-05-25 17:13:07 INFO    GTAnalysis.sed(): Execution time: 18.66 s\n"
     ]
    }
   ],
   "source": [
    "sed2 = gta.sed('3C 279', loge_bins = loge_bins_input)"
   ]
  },
  {
   "cell_type": "code",
   "execution_count": 17,
   "metadata": {},
   "outputs": [],
   "source": [
    "c = np.load('data/fit2_sed.npy', allow_pickle=True).flat[0]"
   ]
  },
  {
   "cell_type": "code",
   "execution_count": 18,
   "metadata": {},
   "outputs": [],
   "source": [
    "E = np.array(c['sources']['4FGL J1256.1-0547']['model_flux']['energies'])\n",
    "dnde = np.array(c['sources']['4FGL J1256.1-0547']['model_flux']['dnde'])\n",
    "dnde_hi = np.array(c['sources']['4FGL J1256.1-0547']['model_flux']['dnde_hi'])\n",
    "dnde_lo = np.array(c['sources']['4FGL J1256.1-0547']['model_flux']['dnde_lo'])"
   ]
  },
  {
   "cell_type": "code",
   "execution_count": 37,
   "metadata": {},
   "outputs": [
    {
     "data": {
      "image/png": "[encoded data removed]",
      "text/plain": [
       "<Figure size 432x288 with 1 Axes>"
      ]
     },
     "metadata": {
      "needs_background": "light"
     },
     "output_type": "display_data"
    }
   ],
   "source": [
    "plt.loglog(E, (E**2)*dnde, 'k--')\n",
    "plt.loglog(E, (E**2)*dnde_hi, 'k')\n",
    "plt.loglog(E, (E**2)*dnde_lo, 'k')\n",
    "plt.errorbar(np.array(sed2['e_ctr']),\n",
    "             sed2['e2dnde'], \n",
    "             yerr=sed2['e2dnde_err'], fmt ='o')\n",
    "plt.xlabel('E [MeV]')\n",
    "plt.ylabel(r'E$^{2}$ dN/dE [MeV cm$^{-2}$ s$^{-1}$]')\n",
    "\n",
    "maxF = np.max(sed2['e2dnde'])\n",
    "for TS, e, f in zip(sed2['ts'], sed2['e_ctr'], sed2['e2dnde']+sed2['e2dnde_err']):\n",
    "    if TS < 200:\n",
    "        plt.annotate(f'{TS:.1f}', (e, f),   ha='center', size=10, color=\"red\" )\n",
    "plt.show()\n",
    "\n"
   ]
  },
  {
   "cell_type": "code",
   "execution_count": null,
   "metadata": {},
   "outputs": [],
   "source": []
  },
  {
   "cell_type": "code",
   "execution_count": null,
   "metadata": {},
   "outputs": [],
   "source": []
  },
  {
   "cell_type": "code",
   "execution_count": null,
   "metadata": {},
   "outputs": [],
   "source": []
  }
 ],
 "metadata": {
  "kernelspec": {
   "display_name": "Python 3 (ipykernel)",
   "language": "python",
   "name": "python3"
  },
  "language_info": {
   "codemirror_mode": {
    "name": "ipython",
    "version": 3
   },
   "file_extension": ".py",
   "mimetype": "text/x-python",
   "name": "python",
   "nbconvert_exporter": "python",
   "pygments_lexer": "ipython3",
   "version": "3.9.12"
  }
 },
 "nbformat": 4,
 "nbformat_minor": 2
}
