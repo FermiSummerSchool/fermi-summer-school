{
 "cells": [
  {
   "cell_type": "code",
   "execution_count": 4,
   "metadata": {},
   "outputs": [],
   "source": [
    "%matplotlib inline\n",
    "import matplotlib.pyplot as plt\n",
    "import matplotlib\n",
    "import numpy as np"
   ]
  },
  {
   "cell_type": "code",
   "execution_count": 14,
   "metadata": {},
   "outputs": [],
   "source": [
    "from fermipy.gtanalysis import GTAnalysis"
   ]
  },
  {
   "cell_type": "code",
   "execution_count": 15,
   "metadata": {},
   "outputs": [
    {
     "name": "stderr",
     "output_type": "stream",
     "text": [
      "2019-06-05 19:25:35 INFO    GTAnalysis.__init__(): \n",
      "--------------------------------------------------------------------------------\n",
      "fermipy version 0.17.4 \n",
      "ScienceTools version ScienceTools-11-04-00\n",
      "2019-06-05 19:25:38 INFO    GTAnalysis.setup(): Running setup.\n",
      "2019-06-05 19:25:38 INFO    GTBinnedAnalysis.setup(): Running setup for component 00\n",
      "2019-06-05 19:25:38 INFO    GTBinnedAnalysis._select_data(): Skipping data selection.\n",
      "2019-06-05 19:25:38 INFO    GTBinnedAnalysis._create_ltcube(): Skipping LT Cube.\n",
      "2019-06-05 19:25:38 INFO    GTBinnedAnalysis._create_expcube(): Skipping gtexpcube.\n",
      "WARNING: FITSFixedWarning: RADECSYS= 'FK5 ' \n",
      "the RADECSYS keyword is deprecated, use RADESYSa. [astropy.wcs.wcs]\n",
      "2019-06-05 19:25:38 INFO    GTBinnedAnalysis._create_srcmaps(): Skipping gtsrcmaps.\n",
      "2019-06-05 19:25:38 INFO    GTBinnedAnalysis.setup(): Finished setup for component 00\n",
      "2019-06-05 19:25:38 INFO    GTBinnedAnalysis.setup(): Running setup for component 01\n",
      "2019-06-05 19:25:38 INFO    GTBinnedAnalysis._select_data(): Skipping data selection.\n",
      "2019-06-05 19:25:38 INFO    GTBinnedAnalysis._create_ltcube(): Skipping LT Cube.\n",
      "2019-06-05 19:25:39 INFO    GTBinnedAnalysis._create_expcube(): Skipping gtexpcube.\n",
      "2019-06-05 19:25:39 INFO    GTBinnedAnalysis._create_srcmaps(): Skipping gtsrcmaps.\n",
      "2019-06-05 19:25:39 INFO    GTBinnedAnalysis.setup(): Finished setup for component 01\n",
      "2019-06-05 19:25:39 INFO    GTBinnedAnalysis.setup(): Running setup for component 02\n",
      "2019-06-05 19:25:39 INFO    GTBinnedAnalysis._select_data(): Skipping data selection.\n",
      "2019-06-05 19:25:39 INFO    GTBinnedAnalysis._create_ltcube(): Skipping LT Cube.\n",
      "2019-06-05 19:25:40 INFO    GTBinnedAnalysis._create_expcube(): Skipping gtexpcube.\n",
      "2019-06-05 19:25:40 INFO    GTBinnedAnalysis._create_srcmaps(): Skipping gtsrcmaps.\n",
      "2019-06-05 19:25:40 INFO    GTBinnedAnalysis.setup(): Finished setup for component 02\n",
      "2019-06-05 19:25:40 INFO    GTBinnedAnalysis.setup(): Running setup for component 03\n",
      "2019-06-05 19:25:40 INFO    GTBinnedAnalysis._select_data(): Skipping data selection.\n",
      "2019-06-05 19:25:40 INFO    GTBinnedAnalysis._create_ltcube(): Skipping LT Cube.\n",
      "2019-06-05 19:25:41 INFO    GTBinnedAnalysis._create_expcube(): Skipping gtexpcube.\n",
      "2019-06-05 19:25:41 INFO    GTBinnedAnalysis._create_srcmaps(): Skipping gtsrcmaps.\n",
      "2019-06-05 19:25:41 INFO    GTBinnedAnalysis.setup(): Finished setup for component 03\n",
      "2019-06-05 19:25:41 INFO    GTBinnedAnalysis._create_binned_analysis(): Creating BinnedAnalysis for component 00.\n",
      "2019-06-05 19:26:10 INFO    GTBinnedAnalysis._create_binned_analysis(): Creating BinnedAnalysis for component 01.\n",
      "2019-06-05 19:26:37 INFO    GTBinnedAnalysis._create_binned_analysis(): Creating BinnedAnalysis for component 02.\n",
      "2019-06-05 19:27:05 INFO    GTBinnedAnalysis._create_binned_analysis(): Creating BinnedAnalysis for component 03.\n",
      "2019-06-05 19:27:38 INFO    GTAnalysis.setup(): Finished setup.\n",
      "2019-06-05 19:27:38 INFO    GTAnalysis.load_roi(): Loading ROI file: /data/fermi-summer-school/Likelihood_Advanced/data/fit2_sed.npy\n",
      "2019-06-05 19:27:38 INFO    GTBinnedAnalysis._create_binned_analysis(): Creating BinnedAnalysis for component 00.\n",
      "2019-06-05 19:27:56 INFO    GTBinnedAnalysis._create_binned_analysis(): Creating BinnedAnalysis for component 01.\n",
      "2019-06-05 19:28:14 INFO    GTBinnedAnalysis._create_binned_analysis(): Creating BinnedAnalysis for component 02.\n",
      "2019-06-05 19:28:32 INFO    GTBinnedAnalysis._create_binned_analysis(): Creating BinnedAnalysis for component 03.\n",
      "2019-06-05 19:28:54 INFO    GTAnalysis.load_roi(): Finished Loading ROI\n"
     ]
    }
   ],
   "source": [
    "gta = GTAnalysis.create('data/fit2_sed.npy')"
   ]
  },
  {
   "cell_type": "code",
   "execution_count": 16,
   "metadata": {},
   "outputs": [
    {
     "name": "stderr",
     "output_type": "stream",
     "text": [
      "2019-06-05 19:31:27 INFO    GTAnalysis.print_roi(): \n",
      "name                SpatialModel   SpectrumType     offset        ts       npred\n",
      "--------------------------------------------------------------------------------\n",
      "FL8Y J1256.1-0547   PointSource    LogParabola       0.000  14198.13      7912.0\n",
      "FL8Y J1258.7-0452   PointSource    PowerLaw          1.120      2.89        10.6\n",
      "FL8Y J1249.3-0546   PointSource    PowerLaw          1.696      6.98       105.8\n",
      "FL8Y J1304.4-0358   PointSource    PowerLaw          2.761      5.63       100.9\n",
      "FL8Y J1243.9-0218   PointSource    PowerLaw          4.629     13.58        82.7\n",
      "FL8Y J1315.9-0732   PointSource    PowerLaw          5.215     17.28        61.6\n",
      "FL8Y J1234.7-0433   PointSource    PowerLaw          5.463      3.90        28.3\n",
      "FL8Y J1256.2-1146   PointSource    PowerLaw          5.983     32.48       102.0\n",
      "FL8Y J1322.3-0606   PointSource    PowerLaw          6.529      6.23        30.3\n",
      "FL8Y J1233.7-0144   PointSource    PowerLaw          6.905     26.36       119.3\n",
      "FL8Y J1310.2-1158   PointSource    PowerLaw          7.100     11.55        33.4\n",
      "FL8Y J1228.8-0317   PointSource    PowerLaw          7.260      3.48        52.9\n",
      "FL8Y J1310.9+0033   PointSource    PowerLaw          7.354     17.11        56.4\n",
      "FL8Y J1238.5-1159   PointSource    PowerLaw          7.564      4.30        87.3\n",
      "FL8Y J1322.6-0938   PointSource    PowerLaw          7.603    125.11       457.1\n",
      "FL8Y J1312.7+0050   PointSource    PLSuperExpCuto    7.827    115.66       158.3\n",
      "FL8Y J1224.0-0544   PointSource    PowerLaw          7.980      3.26        83.5\n",
      "FL8Y J1245.8+0232   PointSource    PowerLaw          8.720      3.96        93.7\n",
      "FL8Y J1318.7-1234   PointSource    PowerLaw          8.781      6.77        43.2\n",
      "FL8Y J1332.0-0509   PointSource    LogParabola       8.960     32.23       302.9\n",
      "FL8Y J1229.0+0202   PointSource    LogParabola      10.347   1838.41      1663.1\n",
      "FL8Y J1231.1-1412   PointSource    PLSuperExpCuto   10.414     24.52       149.5\n",
      "FL8Y J1216.6-1030   PointSource    PowerLaw         10.861      3.36        88.8\n",
      "FL8Y J1332.6-1256   PointSource    LogParabola      11.487     38.50       269.2\n",
      "galdiff             MapCubeFunctio PowerLaw          -----   1662.01     10692.5\n",
      "isodiff             ConstantValue  FileFunction      -----   1947.40     13507.7\n",
      "\n"
     ]
    }
   ],
   "source": [
    "gta.print_roi()"
   ]
  },
  {
   "cell_type": "code",
   "execution_count": 17,
   "metadata": {},
   "outputs": [],
   "source": [
    "sed = np.load('data/fl8y_j1256.1-0547_sed.npy').flat[0]"
   ]
  },
  {
   "cell_type": "code",
   "execution_count": 18,
   "metadata": {},
   "outputs": [
    {
     "data": {
      "text/plain": [
       "array(['SpectrumType', 'config', 'correlation', 'dloglike_scan', 'dnde',\n",
       "       'dnde_err', 'dnde_err_hi', 'dnde_err_lo', 'dnde_ul', 'dnde_ul95',\n",
       "       'e2dnde', 'e2dnde_err', 'e2dnde_err_hi', 'e2dnde_err_lo',\n",
       "       'e2dnde_ul', 'e2dnde_ul95', 'e_ctr', 'e_max', 'e_min', 'e_ref',\n",
       "       'eflux', 'eflux_err', 'eflux_err_hi', 'eflux_err_lo', 'eflux_ul',\n",
       "       'eflux_ul95', 'file', 'fit_quality', 'fit_status', 'flux',\n",
       "       'flux_err', 'flux_err_hi', 'flux_err_lo', 'flux_ul', 'flux_ul95',\n",
       "       'index', 'loge_ctr', 'loge_max', 'loge_min', 'loge_ref', 'loglike',\n",
       "       'loglike_scan', 'model_flux', 'name', 'norm', 'norm_err',\n",
       "       'norm_err_hi', 'norm_err_lo', 'norm_scan', 'norm_ul', 'norm_ul95',\n",
       "       'npred', 'param_correlation', 'param_covariance', 'param_errors',\n",
       "       'param_names', 'param_values', 'ref_dnde', 'ref_dnde_e_max',\n",
       "       'ref_dnde_e_min', 'ref_e2dnde', 'ref_eflux', 'ref_flux',\n",
       "       'ref_npred', 'ts'],\n",
       "      dtype='|S17')"
      ]
     },
     "execution_count": 18,
     "metadata": {},
     "output_type": "execute_result"
    }
   ],
   "source": [
    "np.sort(sed.keys())"
   ]
  },
  {
   "cell_type": "code",
   "execution_count": 19,
   "metadata": {},
   "outputs": [
    {
     "data": {
      "text/plain": [
       "array([   100.        ,    133.35214322,    177.827941  ,    237.13737057,\n",
       "          316.22776602,    421.69650343,    562.34132519,    749.89420933,\n",
       "         1000.        ,   1333.52143216,   1778.27941004,   2371.37370566,\n",
       "         3162.27766017,   4216.96503429,   5623.4132519 ,   7498.94209332,\n",
       "        10000.        ,  13335.21432163,  17782.79410039,  23713.73705662,\n",
       "        31622.77660168])"
      ]
     },
     "execution_count": 19,
     "metadata": {},
     "output_type": "execute_result"
    }
   ],
   "source": [
    "sed['e_min']"
   ]
  },
  {
   "cell_type": "code",
   "execution_count": 20,
   "metadata": {},
   "outputs": [],
   "source": [
    "from astropy.io import fits"
   ]
  },
  {
   "cell_type": "code",
   "execution_count": 21,
   "metadata": {},
   "outputs": [],
   "source": [
    "exp_hdu = fits.open('data/bexpmap_00.fits')"
   ]
  },
  {
   "cell_type": "code",
   "execution_count": 22,
   "metadata": {},
   "outputs": [
    {
     "name": "stdout",
     "output_type": "stream",
     "text": [
      "Filename: data/bexpmap_00.fits\n",
      "No.    Name      Ver    Type      Cards   Dimensions   Format\n",
      "  0  PRIMARY       1 PrimaryHDU      56   (360, 180, 25)   float32   \n",
      "  1  ENERGIES      1 BinTableHDU     13   25R x 1C   [1D]   \n",
      "  2  GTI           1 BinTableHDU     18   2791R x 2C   [D, D]   \n"
     ]
    }
   ],
   "source": [
    "exp_hdu.info()"
   ]
  },
  {
   "cell_type": "code",
   "execution_count": 23,
   "metadata": {},
   "outputs": [
    {
     "data": {
      "text/plain": [
       "FITS_rec([(   100.        ,), (   133.35214322,), (   177.827941  ,),\n",
       "          (   237.13737057,), (   316.22776602,), (   421.69650343,),\n",
       "          (   562.34132519,), (   749.89420933,), (  1000.        ,),\n",
       "          (  1333.52143216,), (  1778.27941004,), (  2371.37370566,),\n",
       "          (  3162.27766017,), (  4216.96503429,), (  5623.4132519 ,),\n",
       "          (  7498.94209332,), ( 10000.        ,), ( 13335.21432163,),\n",
       "          ( 17782.79410039,), ( 23713.73705662,), ( 31622.77660168,),\n",
       "          ( 42169.65034286,), ( 56234.13251903,), ( 74989.42093325,),\n",
       "          (100000.        ,)],\n",
       "         dtype=(numpy.record, [('Energy', '>f8')]))"
      ]
     },
     "execution_count": 23,
     "metadata": {},
     "output_type": "execute_result"
    }
   ],
   "source": [
    "exp_hdu[1].data"
   ]
  },
  {
   "cell_type": "code",
   "execution_count": 24,
   "metadata": {},
   "outputs": [
    {
     "data": {
      "text/plain": [
       "array([    100.        ,     133.35214322,     177.827941  ,\n",
       "           237.13737057,     316.22776602,     421.69650343,\n",
       "           562.34132519,     749.89420933,    1000.        ,\n",
       "          1333.52143216,    1778.27941004,    2371.37370566,\n",
       "          3162.27766017,    4216.96503429,    5623.4132519 ,\n",
       "          7498.94209332,   10000.        ,   13335.21432163,\n",
       "         17782.79410039,   23713.73705662,   31622.77660168,\n",
       "         42169.65034286,   56234.13251903,   74989.42093325,  100000.        ])"
      ]
     },
     "execution_count": 24,
     "metadata": {},
     "output_type": "execute_result"
    }
   ],
   "source": [
    "gta.energies"
   ]
  },
  {
   "cell_type": "code",
   "execution_count": 25,
   "metadata": {},
   "outputs": [
    {
     "data": {
      "text/plain": [
       "array([ 2.   ,  2.125,  2.25 ,  2.375,  2.5  ,  2.625,  2.75 ,  2.875,\n",
       "        3.   ,  3.125,  3.25 ,  3.375,  3.5  ,  3.625,  3.75 ,  3.875,\n",
       "        4.   ,  4.125,  4.25 ,  4.375,  4.5  ])"
      ]
     },
     "execution_count": 25,
     "metadata": {},
     "output_type": "execute_result"
    }
   ],
   "source": [
    "sed['loge_min']"
   ]
  },
  {
   "cell_type": "code",
   "execution_count": 26,
   "metadata": {},
   "outputs": [
    {
     "data": {
      "text/plain": [
       "array([   100.        ,    133.35214322,    177.827941  ,    237.13737057,\n",
       "          316.22776602,    421.69650343,    562.34132519,    749.89420933,\n",
       "         1000.        ,   1333.52143216,   1778.27941004,   2371.37370566,\n",
       "         3162.27766017,   4216.96503429,   5623.4132519 ,   7498.94209332,\n",
       "        10000.        ,  13335.21432163,  17782.79410039,  23713.73705662,\n",
       "        31622.77660168])"
      ]
     },
     "execution_count": 26,
     "metadata": {},
     "output_type": "execute_result"
    }
   ],
   "source": [
    "10**sed['loge_min']"
   ]
  },
  {
   "cell_type": "code",
   "execution_count": 31,
   "metadata": {},
   "outputs": [],
   "source": [
    "loge_bins_input = np.array([ 2.   ,  2.125, 2.25 ,  2.375,  2.5  ,  2.625,  2.75 ,  2.875,\n",
    "        3.   ,  3.125,  3.25 ,  3.375,  3.5  ,  3.625,  3.75 ,  3.875,\n",
    "        4.   ,  4.125,  4.25 ,  4.375,  4.5  , 5.0])"
   ]
  },
  {
   "cell_type": "code",
   "execution_count": 32,
   "metadata": {},
   "outputs": [
    {
     "name": "stderr",
     "output_type": "stream",
     "text": [
      "2019-06-05 19:34:06 INFO    GTAnalysis.sed(): Computing SED for FL8Y J1256.1-0547\n",
      "2019-06-05 19:34:07 ERROR   GTAnalysis.fit(): MINUIT failed with status code 101 fit quality 1\n",
      "2019-06-05 19:34:07 ERROR   GTAnalysis.bowtie(): Failed to create FluxDensity\n",
      "Traceback (most recent call last):\n",
      "  File \"/opt/anaconda/envs/fermi/lib/python2.7/site-packages/fermipy/gtanalysis.py\", line 3912, in bowtie\n",
      "    fd = FluxDensity.FluxDensity(self.like, name)\n",
      "  File \"/opt/anaconda/envs/fermi/lib/python2.7/site-packages/fermitools/FluxDensity.py\", line 36, in __init__\n",
      "    \"number of free parameters.\")\n",
      "RuntimeError: Covariance matrix size does not match the number of free parameters.\n",
      "2019-06-05 19:34:07 INFO    GTAnalysis._make_sed(): Fitting SED\n",
      "2019-06-05 19:34:15 INFO    GTAnalysis.sed(): Finished SED\n",
      "2019-06-05 19:34:15 INFO    GTAnalysis.sed(): Execution time: 8.55 s\n"
     ]
    }
   ],
   "source": [
    "sed2 = gta.sed('3C 279', loge_bins = loge_bins_input)"
   ]
  },
  {
   "cell_type": "code",
   "execution_count": 33,
   "metadata": {},
   "outputs": [],
   "source": [
    "c = np.load('data/fit2_sed.npy').flat[0]"
   ]
  },
  {
   "cell_type": "code",
   "execution_count": 34,
   "metadata": {},
   "outputs": [],
   "source": [
    "E = np.array(c['sources']['FL8Y J1256.1-0547']['model_flux']['energies'])\n",
    "dnde = np.array(c['sources']['FL8Y J1256.1-0547']['model_flux']['dnde'])\n",
    "dnde_hi = np.array(c['sources']['FL8Y J1256.1-0547']['model_flux']['dnde_hi'])\n",
    "dnde_lo = np.array(c['sources']['FL8Y J1256.1-0547']['model_flux']['dnde_lo'])"
   ]
  },
  {
   "cell_type": "code",
   "execution_count": 35,
   "metadata": {},
   "outputs": [
    {
     "data": {
      "image/png": "[encoded data removed]",
      "text/plain": [
       "<matplotlib.figure.Figure at 0x7fe7ddb6cbd0>"
      ]
     },
     "metadata": {
      "needs_background": "light"
     },
     "output_type": "display_data"
    }
   ],
   "source": [
    "plt.loglog(E, (E**2)*dnde, 'k--')\n",
    "plt.loglog(E, (E**2)*dnde_hi, 'k')\n",
    "plt.loglog(E, (E**2)*dnde_lo, 'k')\n",
    "plt.errorbar(np.array(sed2['e_ctr']),\n",
    "             sed2['e2dnde'], \n",
    "             yerr=sed2['e2dnde_err'], fmt ='o')\n",
    "plt.xlabel('E [MeV]')\n",
    "plt.ylabel(r'E$^{2}$ dN/dE [MeV cm$^{-2}$ s$^{-1}$]')\n",
    "plt.show()"
   ]
  },
  {
   "cell_type": "code",
   "execution_count": 1,
   "metadata": {},
   "outputs": [],
   "source": [
    "import fermipy"
   ]
  },
  {
   "cell_type": "code",
   "execution_count": 2,
   "metadata": {},
   "outputs": [
    {
     "data": {
      "text/plain": [
       "'/opt/anaconda/envs/fermi/lib/python2.7/site-packages/fermipy/__init__.pyc'"
      ]
     },
     "execution_count": 2,
     "metadata": {},
     "output_type": "execute_result"
    }
   ],
   "source": [
    "fermipy.__file__"
   ]
  },
  {
   "cell_type": "code",
   "execution_count": null,
   "metadata": {},
   "outputs": [],
   "source": []
  }
 ],
 "metadata": {
  "kernelspec": {
   "display_name": "Python 2",
   "language": "python",
   "name": "python2"
  },
  "language_info": {
   "codemirror_mode": {
    "name": "ipython",
    "version": 2
   },
   "file_extension": ".py",
   "mimetype": "text/x-python",
   "name": "python",
   "nbconvert_exporter": "python",
   "pygments_lexer": "ipython2",
   "version": "2.7.14"
  }
 },
 "nbformat": 4,
 "nbformat_minor": 2
}
