{
 "cells": [
  {
   "cell_type": "markdown",
   "metadata": {},
   "source": [
    "## Generate a lightcurve using fermipy"
   ]
  },
  {
   "cell_type": "code",
   "execution_count": 1,
   "metadata": {},
   "outputs": [],
   "source": [
    "%matplotlib inline\n",
    "import matplotlib.pyplot as plt\n",
    "import matplotlib\n",
    "import numpy as np"
   ]
  },
  {
   "cell_type": "code",
   "execution_count": 2,
   "metadata": {},
   "outputs": [],
   "source": [
    "from fermipy.gtanalysis import GTAnalysis"
   ]
  },
  {
   "cell_type": "code",
   "execution_count": 3,
   "metadata": {},
   "outputs": [
    {
     "name": "stderr",
     "output_type": "stream",
     "text": [
      "2019-05-31 18:34:59 INFO    GTAnalysis.__init__(): \n",
      "--------------------------------------------------------------------------------\n",
      "fermipy version 0.17.4 \n",
      "ScienceTools version ScienceTools-11-04-00\n",
      "2019-05-31 18:35:01 INFO    GTAnalysis.setup(): Running setup.\n",
      "2019-05-31 18:35:01 INFO    GTBinnedAnalysis.setup(): Running setup for component 00\n",
      "2019-05-31 18:35:01 INFO    GTBinnedAnalysis._select_data(): Skipping data selection.\n",
      "2019-05-31 18:35:01 INFO    GTBinnedAnalysis._create_ltcube(): Skipping LT Cube.\n",
      "2019-05-31 18:35:01 INFO    GTBinnedAnalysis._create_expcube(): Skipping gtexpcube.\n",
      "WARNING: FITSFixedWarning: RADECSYS= 'FK5 ' \n",
      "the RADECSYS keyword is deprecated, use RADESYSa. [astropy.wcs.wcs]\n",
      "2019-05-31 18:35:02 INFO    GTBinnedAnalysis._create_srcmaps(): Skipping gtsrcmaps.\n",
      "2019-05-31 18:35:02 INFO    GTBinnedAnalysis.setup(): Finished setup for component 00\n",
      "2019-05-31 18:35:02 INFO    GTBinnedAnalysis.setup(): Running setup for component 01\n",
      "2019-05-31 18:35:02 INFO    GTBinnedAnalysis._select_data(): Skipping data selection.\n",
      "2019-05-31 18:35:02 INFO    GTBinnedAnalysis._create_ltcube(): Skipping LT Cube.\n",
      "2019-05-31 18:35:02 INFO    GTBinnedAnalysis._create_expcube(): Skipping gtexpcube.\n",
      "2019-05-31 18:35:02 INFO    GTBinnedAnalysis._create_srcmaps(): Skipping gtsrcmaps.\n",
      "2019-05-31 18:35:02 INFO    GTBinnedAnalysis.setup(): Finished setup for component 01\n",
      "2019-05-31 18:35:02 INFO    GTBinnedAnalysis.setup(): Running setup for component 02\n",
      "2019-05-31 18:35:02 INFO    GTBinnedAnalysis._select_data(): Skipping data selection.\n",
      "2019-05-31 18:35:02 INFO    GTBinnedAnalysis._create_ltcube(): Skipping LT Cube.\n",
      "2019-05-31 18:35:03 INFO    GTBinnedAnalysis._create_expcube(): Skipping gtexpcube.\n",
      "2019-05-31 18:35:03 INFO    GTBinnedAnalysis._create_srcmaps(): Skipping gtsrcmaps.\n",
      "2019-05-31 18:35:03 INFO    GTBinnedAnalysis.setup(): Finished setup for component 02\n",
      "2019-05-31 18:35:03 INFO    GTBinnedAnalysis.setup(): Running setup for component 03\n",
      "2019-05-31 18:35:03 INFO    GTBinnedAnalysis._select_data(): Skipping data selection.\n",
      "2019-05-31 18:35:03 INFO    GTBinnedAnalysis._create_ltcube(): Skipping LT Cube.\n",
      "2019-05-31 18:35:03 INFO    GTBinnedAnalysis._create_expcube(): Skipping gtexpcube.\n",
      "2019-05-31 18:35:04 INFO    GTBinnedAnalysis._create_srcmaps(): Skipping gtsrcmaps.\n",
      "2019-05-31 18:35:04 INFO    GTBinnedAnalysis.setup(): Finished setup for component 03\n",
      "2019-05-31 18:35:04 INFO    GTBinnedAnalysis._create_binned_analysis(): Creating BinnedAnalysis for component 00.\n",
      "2019-05-31 18:35:31 INFO    GTBinnedAnalysis._create_binned_analysis(): Creating BinnedAnalysis for component 01.\n",
      "2019-05-31 18:35:57 INFO    GTBinnedAnalysis._create_binned_analysis(): Creating BinnedAnalysis for component 02.\n",
      "2019-05-31 18:36:20 INFO    GTBinnedAnalysis._create_binned_analysis(): Creating BinnedAnalysis for component 03.\n",
      "2019-05-31 18:36:51 INFO    GTAnalysis.setup(): Finished setup.\n",
      "2019-05-31 18:36:51 INFO    GTAnalysis.load_roi(): Loading ROI file: /data/fermi-summer-school/Likelihood_Advanced/data/fit2_sed.npy\n",
      "2019-05-31 18:36:51 INFO    GTBinnedAnalysis._create_binned_analysis(): Creating BinnedAnalysis for component 00.\n",
      "2019-05-31 18:37:08 INFO    GTBinnedAnalysis._create_binned_analysis(): Creating BinnedAnalysis for component 01.\n",
      "2019-05-31 18:37:24 INFO    GTBinnedAnalysis._create_binned_analysis(): Creating BinnedAnalysis for component 02.\n",
      "2019-05-31 18:37:43 INFO    GTBinnedAnalysis._create_binned_analysis(): Creating BinnedAnalysis for component 03.\n",
      "2019-05-31 18:38:06 INFO    GTAnalysis.load_roi(): Finished Loading ROI\n"
     ]
    }
   ],
   "source": [
    "gta = GTAnalysis.create('data/fit2_sed.npy')"
   ]
  },
  {
   "cell_type": "code",
   "execution_count": 4,
   "metadata": {},
   "outputs": [],
   "source": [
    "gta.lightcurve?"
   ]
  },
  {
   "cell_type": "code",
   "execution_count": 5,
   "metadata": {
    "scrolled": false
   },
   "outputs": [
    {
     "name": "stderr",
     "output_type": "stream",
     "text": [
      "2019-05-31 18:38:30 INFO    GTAnalysis.lightcurve(): Computing Lightcurve for FL8Y J1256.1-0547\n",
      "2019-05-31 18:38:30 INFO    lightcurve_239557417_242197581 GTAnalysis._process_lc_bin(): Fitting time range 239557417 242197580\n",
      "WARNING: FITSFixedWarning: 'datfix' made the change 'Invalid parameter value: invalid date '        ''. [astropy.wcs.wcs]\n",
      "2019-05-31 18:39:35 INFO    lightcurve_239557417_242197581 GTBinnedAnalysis.write_xml(): Writing /data/fermi-summer-school/Likelihood_Advanced/data/lightcurve_239557417_242197581/base_00.xml...\n",
      "2019-05-31 18:39:35 INFO    lightcurve_239557417_242197581 GTBinnedAnalysis.write_xml(): Writing /data/fermi-summer-school/Likelihood_Advanced/data/lightcurve_239557417_242197581/base_01.xml...\n",
      "2019-05-31 18:39:35 INFO    lightcurve_239557417_242197581 GTBinnedAnalysis.write_xml(): Writing /data/fermi-summer-school/Likelihood_Advanced/data/lightcurve_239557417_242197581/base_02.xml...\n",
      "2019-05-31 18:39:35 INFO    lightcurve_239557417_242197581 GTBinnedAnalysis.write_xml(): Writing /data/fermi-summer-school/Likelihood_Advanced/data/lightcurve_239557417_242197581/base_03.xml...\n"
     ]
    },
    {
     "name": "stdout",
     "output_type": "stream",
     "text": [
      "Joint fit  ['FL8Y J1256.1-0547', 'FL8Y J1229.0+0202', 'FL8Y J1322.6-0938', 'FL8Y J1332.0-0509']\n",
      "Fitting shape FL8Y J1256.1-0547 TS:    820.530\n",
      "Fitting shape FL8Y J1229.0+0202 TS:     40.517\n",
      "Fitting shape FL8Y J1322.6-0938 TS:     26.274\n"
     ]
    },
    {
     "name": "stderr",
     "output_type": "stream",
     "text": [
      "2019-05-31 18:39:46 INFO    lightcurve_239557417_242197581 GTBinnedAnalysis.write_xml(): Writing /data/fermi-summer-school/Likelihood_Advanced/data/lightcurve_239557417_242197581/fit_model_final_00.xml...\n",
      "2019-05-31 18:39:46 INFO    lightcurve_239557417_242197581 GTBinnedAnalysis.write_xml(): Writing /data/fermi-summer-school/Likelihood_Advanced/data/lightcurve_239557417_242197581/fit_model_final_01.xml...\n",
      "2019-05-31 18:39:46 INFO    lightcurve_239557417_242197581 GTBinnedAnalysis.write_xml(): Writing /data/fermi-summer-school/Likelihood_Advanced/data/lightcurve_239557417_242197581/fit_model_final_02.xml...\n",
      "2019-05-31 18:39:47 INFO    lightcurve_239557417_242197581 GTBinnedAnalysis.write_xml(): Writing /data/fermi-summer-school/Likelihood_Advanced/data/lightcurve_239557417_242197581/fit_model_final_03.xml...\n",
      "2019-05-31 18:39:48 INFO    lightcurve_239557417_242197581 GTAnalysis._process_lc_bin(): Finished time range 239557417 242197580\n",
      "2019-05-31 18:39:49 INFO    lightcurve_242197581_244837745 GTAnalysis._process_lc_bin(): Fitting time range 242197580 244837744\n",
      "2019-05-31 18:40:43 INFO    lightcurve_242197581_244837745 GTBinnedAnalysis.write_xml(): Writing /data/fermi-summer-school/Likelihood_Advanced/data/lightcurve_242197581_244837745/base_00.xml...\n",
      "2019-05-31 18:40:43 INFO    lightcurve_242197581_244837745 GTBinnedAnalysis.write_xml(): Writing /data/fermi-summer-school/Likelihood_Advanced/data/lightcurve_242197581_244837745/base_01.xml...\n",
      "2019-05-31 18:40:43 INFO    lightcurve_242197581_244837745 GTBinnedAnalysis.write_xml(): Writing /data/fermi-summer-school/Likelihood_Advanced/data/lightcurve_242197581_244837745/base_02.xml...\n",
      "2019-05-31 18:40:43 INFO    lightcurve_242197581_244837745 GTBinnedAnalysis.write_xml(): Writing /data/fermi-summer-school/Likelihood_Advanced/data/lightcurve_242197581_244837745/base_03.xml...\n"
     ]
    },
    {
     "name": "stdout",
     "output_type": "stream",
     "text": [
      "Joint fit  ['FL8Y J1256.1-0547', 'FL8Y J1229.0+0202', 'FL8Y J1322.6-0938', 'FL8Y J1332.0-0509']\n",
      "Fitting shape FL8Y J1229.0+0202 TS:    737.627\n",
      "Fitting shape FL8Y J1256.1-0547 TS:    450.692\n",
      "Fitting shape FL8Y J1249.3-0546 TS:     18.623\n",
      "Fitting shape FL8Y J1233.7-0144 TS:     17.084\n"
     ]
    },
    {
     "name": "stderr",
     "output_type": "stream",
     "text": [
      "2019-05-31 18:40:55 INFO    lightcurve_242197581_244837745 GTBinnedAnalysis.write_xml(): Writing /data/fermi-summer-school/Likelihood_Advanced/data/lightcurve_242197581_244837745/fit_model_final_00.xml...\n",
      "2019-05-31 18:40:55 INFO    lightcurve_242197581_244837745 GTBinnedAnalysis.write_xml(): Writing /data/fermi-summer-school/Likelihood_Advanced/data/lightcurve_242197581_244837745/fit_model_final_01.xml...\n",
      "2019-05-31 18:40:55 INFO    lightcurve_242197581_244837745 GTBinnedAnalysis.write_xml(): Writing /data/fermi-summer-school/Likelihood_Advanced/data/lightcurve_242197581_244837745/fit_model_final_02.xml...\n",
      "2019-05-31 18:40:55 INFO    lightcurve_242197581_244837745 GTBinnedAnalysis.write_xml(): Writing /data/fermi-summer-school/Likelihood_Advanced/data/lightcurve_242197581_244837745/fit_model_final_03.xml...\n",
      "2019-05-31 18:40:56 INFO    lightcurve_242197581_244837745 GTAnalysis._process_lc_bin(): Finished time range 242197580 244837744\n",
      "2019-05-31 18:40:57 INFO    lightcurve_244837745_247477908 GTAnalysis._process_lc_bin(): Fitting time range 244837744 247477908\n",
      "2019-05-31 18:41:52 INFO    lightcurve_244837745_247477908 GTBinnedAnalysis.write_xml(): Writing /data/fermi-summer-school/Likelihood_Advanced/data/lightcurve_244837745_247477908/base_00.xml...\n",
      "2019-05-31 18:41:53 INFO    lightcurve_244837745_247477908 GTBinnedAnalysis.write_xml(): Writing /data/fermi-summer-school/Likelihood_Advanced/data/lightcurve_244837745_247477908/base_01.xml...\n",
      "2019-05-31 18:41:53 INFO    lightcurve_244837745_247477908 GTBinnedAnalysis.write_xml(): Writing /data/fermi-summer-school/Likelihood_Advanced/data/lightcurve_244837745_247477908/base_02.xml...\n",
      "2019-05-31 18:41:53 INFO    lightcurve_244837745_247477908 GTBinnedAnalysis.write_xml(): Writing /data/fermi-summer-school/Likelihood_Advanced/data/lightcurve_244837745_247477908/base_03.xml...\n"
     ]
    },
    {
     "name": "stdout",
     "output_type": "stream",
     "text": [
      "Joint fit  ['FL8Y J1256.1-0547', 'FL8Y J1229.0+0202', 'FL8Y J1322.6-0938', 'FL8Y J1332.0-0509']\n"
     ]
    },
    {
     "name": "stderr",
     "output_type": "stream",
     "text": [
      "/opt/anaconda/envs/fermi/lib/python2.7/site-packages/scipy/interpolate/fitpack2.py:224: UserWarning: \n",
      "The maximal number of iterations maxit (set to 20 by the program)\n",
      "allowed for finding a smoothing spline with fp=s has been reached: s\n",
      "too small.\n",
      "There is an approximation returned but the corresponding weighted sum\n",
      "of squared residuals does not satisfy the condition abs(fp-s)/s < tol.\n",
      "  warnings.warn(message)\n"
     ]
    },
    {
     "name": "stdout",
     "output_type": "stream",
     "text": [
      "Fitting shape FL8Y J1256.1-0547 TS:    880.099\n",
      "Fitting shape FL8Y J1229.0+0202 TS:    538.617\n",
      "Fitting shape FL8Y J1322.6-0938 TS:    123.907\n",
      "Fitting shape FL8Y J1312.7+0050 TS:     70.686\n",
      "Fitting shape FL8Y J1332.0-0509 TS:     49.798\n",
      "Fitting shape FL8Y J1315.9-0732 TS:     23.309\n"
     ]
    },
    {
     "name": "stderr",
     "output_type": "stream",
     "text": [
      "2019-05-31 18:42:06 ERROR   lightcurve_244837745_247477908 GTAnalysis.fit(): MINUIT failed with status code 1 fit quality 2\n",
      "2019-05-31 18:42:07 INFO    lightcurve_244837745_247477908 GTBinnedAnalysis.write_xml(): Writing /data/fermi-summer-school/Likelihood_Advanced/data/lightcurve_244837745_247477908/fit_model_final_00.xml...\n",
      "2019-05-31 18:42:07 INFO    lightcurve_244837745_247477908 GTBinnedAnalysis.write_xml(): Writing /data/fermi-summer-school/Likelihood_Advanced/data/lightcurve_244837745_247477908/fit_model_final_01.xml...\n",
      "2019-05-31 18:42:07 INFO    lightcurve_244837745_247477908 GTBinnedAnalysis.write_xml(): Writing /data/fermi-summer-school/Likelihood_Advanced/data/lightcurve_244837745_247477908/fit_model_final_02.xml...\n",
      "2019-05-31 18:42:07 INFO    lightcurve_244837745_247477908 GTBinnedAnalysis.write_xml(): Writing /data/fermi-summer-school/Likelihood_Advanced/data/lightcurve_244837745_247477908/fit_model_final_03.xml...\n",
      "2019-05-31 18:42:08 INFO    lightcurve_244837745_247477908 GTAnalysis._process_lc_bin(): Finished time range 244837744 247477908\n",
      "2019-05-31 18:42:09 INFO    lightcurve_247477908_250118072 GTAnalysis._process_lc_bin(): Fitting time range 247477908 250118072\n",
      "2019-05-31 18:43:05 INFO    lightcurve_247477908_250118072 GTBinnedAnalysis.write_xml(): Writing /data/fermi-summer-school/Likelihood_Advanced/data/lightcurve_247477908_250118072/base_00.xml...\n",
      "2019-05-31 18:43:05 INFO    lightcurve_247477908_250118072 GTBinnedAnalysis.write_xml(): Writing /data/fermi-summer-school/Likelihood_Advanced/data/lightcurve_247477908_250118072/base_01.xml...\n",
      "2019-05-31 18:43:06 INFO    lightcurve_247477908_250118072 GTBinnedAnalysis.write_xml(): Writing /data/fermi-summer-school/Likelihood_Advanced/data/lightcurve_247477908_250118072/base_02.xml...\n",
      "2019-05-31 18:43:06 INFO    lightcurve_247477908_250118072 GTBinnedAnalysis.write_xml(): Writing /data/fermi-summer-school/Likelihood_Advanced/data/lightcurve_247477908_250118072/base_03.xml...\n"
     ]
    },
    {
     "name": "stdout",
     "output_type": "stream",
     "text": [
      "Joint fit  ['FL8Y J1256.1-0547', 'FL8Y J1229.0+0202', 'FL8Y J1322.6-0938', 'FL8Y J1332.0-0509']\n",
      "Fitting shape FL8Y J1256.1-0547 TS:   4514.390\n",
      "Fitting shape FL8Y J1229.0+0202 TS:    232.944\n"
     ]
    },
    {
     "name": "stderr",
     "output_type": "stream",
     "text": [
      "2019-05-31 18:43:17 INFO    lightcurve_247477908_250118072 GTBinnedAnalysis.write_xml(): Writing /data/fermi-summer-school/Likelihood_Advanced/data/lightcurve_247477908_250118072/fit_model_final_00.xml...\n",
      "2019-05-31 18:43:17 INFO    lightcurve_247477908_250118072 GTBinnedAnalysis.write_xml(): Writing /data/fermi-summer-school/Likelihood_Advanced/data/lightcurve_247477908_250118072/fit_model_final_01.xml...\n",
      "2019-05-31 18:43:17 INFO    lightcurve_247477908_250118072 GTBinnedAnalysis.write_xml(): Writing /data/fermi-summer-school/Likelihood_Advanced/data/lightcurve_247477908_250118072/fit_model_final_02.xml...\n",
      "2019-05-31 18:43:17 INFO    lightcurve_247477908_250118072 GTBinnedAnalysis.write_xml(): Writing /data/fermi-summer-school/Likelihood_Advanced/data/lightcurve_247477908_250118072/fit_model_final_03.xml...\n",
      "2019-05-31 18:43:18 INFO    lightcurve_247477908_250118072 GTAnalysis._process_lc_bin(): Finished time range 247477908 250118072\n",
      "2019-05-31 18:43:19 INFO    lightcurve_250118072_252758236 GTAnalysis._process_lc_bin(): Fitting time range 250118072 252758236\n",
      "2019-05-31 18:44:17 INFO    lightcurve_250118072_252758236 GTBinnedAnalysis.write_xml(): Writing /data/fermi-summer-school/Likelihood_Advanced/data/lightcurve_250118072_252758236/base_00.xml...\n",
      "2019-05-31 18:44:17 INFO    lightcurve_250118072_252758236 GTBinnedAnalysis.write_xml(): Writing /data/fermi-summer-school/Likelihood_Advanced/data/lightcurve_250118072_252758236/base_01.xml...\n",
      "2019-05-31 18:44:17 INFO    lightcurve_250118072_252758236 GTBinnedAnalysis.write_xml(): Writing /data/fermi-summer-school/Likelihood_Advanced/data/lightcurve_250118072_252758236/base_02.xml...\n",
      "2019-05-31 18:44:17 INFO    lightcurve_250118072_252758236 GTBinnedAnalysis.write_xml(): Writing /data/fermi-summer-school/Likelihood_Advanced/data/lightcurve_250118072_252758236/base_03.xml...\n"
     ]
    },
    {
     "name": "stdout",
     "output_type": "stream",
     "text": [
      "Joint fit  ['FL8Y J1256.1-0547', 'FL8Y J1229.0+0202', 'FL8Y J1322.6-0938', 'FL8Y J1332.0-0509']\n",
      "Fitting shape FL8Y J1256.1-0547 TS:   4948.525\n",
      "Fitting shape FL8Y J1229.0+0202 TS:    136.072\n",
      "Fitting shape FL8Y J1312.7+0050 TS:     24.295\n"
     ]
    },
    {
     "name": "stderr",
     "output_type": "stream",
     "text": [
      "2019-05-31 18:44:29 INFO    lightcurve_250118072_252758236 GTBinnedAnalysis.write_xml(): Writing /data/fermi-summer-school/Likelihood_Advanced/data/lightcurve_250118072_252758236/fit_model_final_00.xml...\n",
      "2019-05-31 18:44:29 INFO    lightcurve_250118072_252758236 GTBinnedAnalysis.write_xml(): Writing /data/fermi-summer-school/Likelihood_Advanced/data/lightcurve_250118072_252758236/fit_model_final_01.xml...\n",
      "2019-05-31 18:44:29 INFO    lightcurve_250118072_252758236 GTBinnedAnalysis.write_xml(): Writing /data/fermi-summer-school/Likelihood_Advanced/data/lightcurve_250118072_252758236/fit_model_final_02.xml...\n",
      "2019-05-31 18:44:29 INFO    lightcurve_250118072_252758236 GTBinnedAnalysis.write_xml(): Writing /data/fermi-summer-school/Likelihood_Advanced/data/lightcurve_250118072_252758236/fit_model_final_03.xml...\n",
      "2019-05-31 18:44:30 INFO    lightcurve_250118072_252758236 GTAnalysis._process_lc_bin(): Finished time range 250118072 252758236\n",
      "2019-05-31 18:44:31 INFO    lightcurve_252758236_255398400 GTAnalysis._process_lc_bin(): Fitting time range 252758236 255398400\n",
      "2019-05-31 18:45:27 INFO    lightcurve_252758236_255398400 GTBinnedAnalysis.write_xml(): Writing /data/fermi-summer-school/Likelihood_Advanced/data/lightcurve_252758236_255398400/base_00.xml...\n",
      "2019-05-31 18:45:27 INFO    lightcurve_252758236_255398400 GTBinnedAnalysis.write_xml(): Writing /data/fermi-summer-school/Likelihood_Advanced/data/lightcurve_252758236_255398400/base_01.xml...\n",
      "2019-05-31 18:45:27 INFO    lightcurve_252758236_255398400 GTBinnedAnalysis.write_xml(): Writing /data/fermi-summer-school/Likelihood_Advanced/data/lightcurve_252758236_255398400/base_02.xml...\n",
      "2019-05-31 18:45:27 INFO    lightcurve_252758236_255398400 GTBinnedAnalysis.write_xml(): Writing /data/fermi-summer-school/Likelihood_Advanced/data/lightcurve_252758236_255398400/base_03.xml...\n"
     ]
    },
    {
     "name": "stdout",
     "output_type": "stream",
     "text": [
      "Joint fit  ['FL8Y J1256.1-0547', 'FL8Y J1229.0+0202', 'FL8Y J1322.6-0938', 'FL8Y J1332.0-0509']\n",
      "Fitting shape FL8Y J1256.1-0547 TS:   3135.266\n",
      "Fitting shape FL8Y J1229.0+0202 TS:     41.300\n",
      "Fitting shape FL8Y J1312.7+0050 TS:     19.304\n"
     ]
    },
    {
     "name": "stderr",
     "output_type": "stream",
     "text": [
      "2019-05-31 18:45:38 INFO    lightcurve_252758236_255398400 GTBinnedAnalysis.write_xml(): Writing /data/fermi-summer-school/Likelihood_Advanced/data/lightcurve_252758236_255398400/fit_model_final_00.xml...\n",
      "2019-05-31 18:45:38 INFO    lightcurve_252758236_255398400 GTBinnedAnalysis.write_xml(): Writing /data/fermi-summer-school/Likelihood_Advanced/data/lightcurve_252758236_255398400/fit_model_final_01.xml...\n",
      "2019-05-31 18:45:38 INFO    lightcurve_252758236_255398400 GTBinnedAnalysis.write_xml(): Writing /data/fermi-summer-school/Likelihood_Advanced/data/lightcurve_252758236_255398400/fit_model_final_02.xml...\n",
      "2019-05-31 18:45:38 INFO    lightcurve_252758236_255398400 GTBinnedAnalysis.write_xml(): Writing /data/fermi-summer-school/Likelihood_Advanced/data/lightcurve_252758236_255398400/fit_model_final_03.xml...\n",
      "2019-05-31 18:45:39 INFO    lightcurve_252758236_255398400 GTAnalysis._process_lc_bin(): Finished time range 252758236 255398400\n",
      "2019-05-31 18:45:40 INFO    GTAnalysis.lightcurve(): Finished Lightcurve\n"
     ]
    }
   ],
   "source": [
    "lc = gta.lightcurve('3C 279',nbins=6,make_plots=True)"
   ]
  },
  {
   "cell_type": "code",
   "execution_count": 6,
   "metadata": {},
   "outputs": [
    {
     "data": {
      "text/plain": [
       "['dloglike_scan',\n",
       " 'num_free_params',\n",
       " 'eflux100_err',\n",
       " 'file',\n",
       " 'flux100_ul95',\n",
       " 'norm_scan_fixed',\n",
       " 'flux1000_ul95_fixed',\n",
       " 'eflux_ul95',\n",
       " 'param_values_fixed',\n",
       " 'npred',\n",
       " 'flux10000_err',\n",
       " 'ts',\n",
       " 'npred_wt_fixed',\n",
       " 'flux_fixed',\n",
       " 'eflux_err_fixed',\n",
       " 'tmin_mjd',\n",
       " 'flux100_ul95_fixed',\n",
       " 'eflux_ul95_fixed',\n",
       " 'eflux_scan_fixed',\n",
       " 'dnde',\n",
       " 'dnde10000_index',\n",
       " 'fit_success_fixed',\n",
       " 'fit_status',\n",
       " 'norm_scan',\n",
       " 'flux1000',\n",
       " 'name',\n",
       " 'flux_const',\n",
       " 'eflux10000_fixed',\n",
       " 'dnde100_err',\n",
       " 'flux',\n",
       " 'param_names',\n",
       " 'eflux10000_ul95',\n",
       " 'dnde1000_err_fixed',\n",
       " 'flux_ul95_fixed',\n",
       " 'flux10000_ul95',\n",
       " 'ts_fixed',\n",
       " 'tmin',\n",
       " 'eflux1000_err',\n",
       " 'dnde10000_fixed',\n",
       " 'flux_err',\n",
       " 'eflux100_ul95',\n",
       " 'flux10000_fixed',\n",
       " 'dnde1000_index',\n",
       " 'param_names_fixed',\n",
       " 'flux_err_fixed',\n",
       " 'flux100_fixed',\n",
       " 'eflux100_err_fixed',\n",
       " 'eflux1000',\n",
       " 'npred_wt',\n",
       " 'dnde_index_fixed',\n",
       " 'ts_var',\n",
       " 'flux1000_err_fixed',\n",
       " 'eflux1000_ul95_fixed',\n",
       " 'tmax',\n",
       " 'dnde_fixed',\n",
       " 'dnde10000',\n",
       " 'dnde10000_index_fixed',\n",
       " 'tmax_mjd',\n",
       " 'pivot_energy_fixed',\n",
       " 'flux_scan_fixed',\n",
       " 'param_errors_fixed',\n",
       " 'flux10000_ul95_fixed',\n",
       " 'dnde10000_err',\n",
       " 'eflux1000_fixed',\n",
       " 'flux100_err',\n",
       " 'dnde100_index_fixed',\n",
       " 'eflux10000',\n",
       " 'eflux_fixed',\n",
       " 'eflux1000_err_fixed',\n",
       " 'fit_success',\n",
       " 'dnde100',\n",
       " 'dloglike_scan_fixed',\n",
       " 'npred_fixed',\n",
       " 'param_values',\n",
       " 'loglike_const',\n",
       " 'eflux10000_ul95_fixed',\n",
       " 'dnde100_err_fixed',\n",
       " 'eflux1000_ul95',\n",
       " 'flux1000_err',\n",
       " 'fit_quality',\n",
       " 'flux1000_ul95',\n",
       " 'eflux100_ul95_fixed',\n",
       " 'flux_scan',\n",
       " 'dnde_err',\n",
       " 'flux10000_err_fixed',\n",
       " 'loglike',\n",
       " 'pivot_energy',\n",
       " 'dnde100_index',\n",
       " 'flux100_err_fixed',\n",
       " 'dnde1000_index_fixed',\n",
       " 'flux10000',\n",
       " 'dnde1000_err',\n",
       " 'dnde1000',\n",
       " 'param_errors',\n",
       " 'loglike_scan_fixed',\n",
       " 'dnde100_fixed',\n",
       " 'eflux10000_err_fixed',\n",
       " 'eflux100',\n",
       " 'flux100',\n",
       " 'flux_ul95',\n",
       " 'eflux10000_err',\n",
       " 'config',\n",
       " 'loglike_scan',\n",
       " 'dnde10000_err_fixed',\n",
       " 'dnde1000_fixed',\n",
       " 'eflux',\n",
       " 'eflux_scan',\n",
       " 'loglike_fixed',\n",
       " 'flux1000_fixed',\n",
       " 'eflux_err',\n",
       " 'eflux100_fixed',\n",
       " 'dnde_index',\n",
       " 'dnde_err_fixed']"
      ]
     },
     "execution_count": 6,
     "metadata": {},
     "output_type": "execute_result"
    }
   ],
   "source": [
    "list(lc.keys())"
   ]
  },
  {
   "cell_type": "code",
   "execution_count": 7,
   "metadata": {},
   "outputs": [
    {
     "data": {
      "image/png": "[encoded data removed]",
      "text/plain": [
       "<matplotlib.figure.Figure at 0x7f8814f76350>"
      ]
     },
     "metadata": {
      "needs_background": "light"
     },
     "output_type": "display_data"
    }
   ],
   "source": [
    "plt.errorbar(lc['tmax_mjd'],lc['flux'],yerr=lc['flux_err'],fmt='o')\n",
    "\n",
    "plt.xlabel('Time [MJD]')\n",
    "plt.ylabel(r'dN/dE [MeV cm$^{-2}$ s$^{-1}$]')\n",
    "plt.show()\n",
    "plt.show()"
   ]
  },
  {
   "cell_type": "code",
   "execution_count": 8,
   "metadata": {},
   "outputs": [
    {
     "data": {
      "image/png": "[encoded data removed]",
      "text/plain": [
       "<matplotlib.figure.Figure at 0x7f8814ad0e90>"
      ]
     },
     "metadata": {
      "needs_background": "light"
     },
     "output_type": "display_data"
    }
   ],
   "source": [
    "plt.plot(lc['flux']/lc['flux_err'],lc['npred']/np.sqrt(lc['npred']),'o')\n",
    "\n",
    "plt.xlabel('Flux/Flux_err')\n",
    "plt.ylabel('Npred/sqrt(Npred)')\n",
    "plt.show()"
   ]
  },
  {
   "cell_type": "code",
   "execution_count": null,
   "metadata": {
    "collapsed": true
   },
   "outputs": [],
   "source": []
  }
 ],
 "metadata": {
  "kernelspec": {
   "display_name": "Python 2",
   "language": "python",
   "name": "python2"
  },
  "language_info": {
   "codemirror_mode": {
    "name": "ipython",
    "version": 2
   },
   "file_extension": ".py",
   "mimetype": "text/x-python",
   "name": "python",
   "nbconvert_exporter": "python",
   "pygments_lexer": "ipython2",
   "version": "2.7.14"
  }
 },
 "nbformat": 4,
 "nbformat_minor": 2
}
