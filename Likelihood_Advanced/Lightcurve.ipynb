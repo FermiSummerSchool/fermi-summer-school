{
 "cells": [
  {
   "cell_type": "markdown",
   "metadata": {},
   "source": [
    "## Generate a lightcurve using fermipy"
   ]
  },
  {
   "cell_type": "code",
   "execution_count": 1,
   "metadata": {},
   "outputs": [],
   "source": [
    "%matplotlib inline\n",
    "import matplotlib.pyplot as plt\n",
    "import matplotlib\n",
    "import numpy as np"
   ]
  },
  {
   "cell_type": "code",
   "execution_count": 2,
   "metadata": {},
   "outputs": [
    {
     "name": "stderr",
     "output_type": "stream",
     "text": [
      "\n",
      "WARNING: version mismatch between CFITSIO header (v4.000999999999999) and linked library (v4.01).\n",
      "\n",
      "\n",
      "WARNING: version mismatch between CFITSIO header (v4.000999999999999) and linked library (v4.01).\n",
      "\n",
      "\n",
      "WARNING: version mismatch between CFITSIO header (v4.000999999999999) and linked library (v4.01).\n",
      "\n"
     ]
    }
   ],
   "source": [
    "from fermipy.gtanalysis import GTAnalysis"
   ]
  },
  {
   "cell_type": "code",
   "execution_count": 3,
   "metadata": {},
   "outputs": [
    {
     "name": "stderr",
     "output_type": "stream",
     "text": [
      "2022-05-25 17:10:42 INFO    GTAnalysis.__init__(): \n",
      "--------------------------------------------------------------------------------\n",
      "fermipy version v1.1+5.ga1de.dirty \n",
      "ScienceTools version 2.1.19\n",
      "2022-05-25 17:10:43 INFO    GTAnalysis.setup(): Running setup.\n",
      "2022-05-25 17:10:43 INFO    GTBinnedAnalysis.setup(): Running setup for component 00\n",
      "2022-05-25 17:10:43 INFO    GTBinnedAnalysis._select_data(): Skipping data selection.\n",
      "2022-05-25 17:10:43 INFO    GTBinnedAnalysis._create_ltcube(): Skipping LT Cube.\n",
      "/Users/hfleisc1/mambaforge/envs/fermi-21/lib/python3.9/site-packages/fermipy/irfs.py:51: FutureWarning: Using a non-tuple sequence for multidimensional indexing is deprecated; use `arr[tuple(seq)]` instead of `arr[seq]`. In the future this will be interpreted as an array index, `arr[np.array(seq)]`, which will result either in an error or a different result.\n",
      "  log_ratio = np.log(x[xs1] / x[xs0])\n",
      "/Users/hfleisc1/mambaforge/envs/fermi-21/lib/python3.9/site-packages/fermipy/irfs.py:52: FutureWarning: Using a non-tuple sequence for multidimensional indexing is deprecated; use `arr[tuple(seq)]` instead of `arr[seq]`. In the future this will be interpreted as an array index, `arr[np.array(seq)]`, which will result either in an error or a different result.\n",
      "  return 0.5 * (y[ys0] * x[xs0] + y[ys1] * x[xs1]) * log_ratio\n",
      "2022-05-25 17:10:43 INFO    GTBinnedAnalysis._create_expcube(): Skipping gtexpcube.\n",
      "WARNING: FITSFixedWarning: RADECSYS= 'FK5 ' \n",
      "the RADECSYS keyword is deprecated, use RADESYSa. [astropy.wcs.wcs]\n",
      "WARNING: FITSFixedWarning: 'datfix' made the change 'Set DATEREF to '2001-01-01T00:01:04.184' from MJDREF.\n",
      "Set MJD-OBS to 54682.655283 from DATE-OBS.\n",
      "Set MJD-END to 54865.999977 from DATE-END'. [astropy.wcs.wcs]\n",
      "2022-05-25 17:10:43 INFO    GTBinnedAnalysis._create_srcmaps(): Skipping gtsrcmaps.\n",
      "2022-05-25 17:10:43 INFO    GTBinnedAnalysis.setup(): Finished setup for component 00\n",
      "2022-05-25 17:10:43 INFO    GTBinnedAnalysis.setup(): Running setup for component 01\n",
      "2022-05-25 17:10:43 INFO    GTBinnedAnalysis._select_data(): Skipping data selection.\n",
      "2022-05-25 17:10:43 INFO    GTBinnedAnalysis._create_ltcube(): Skipping LT Cube.\n",
      "/Users/hfleisc1/mambaforge/envs/fermi-21/lib/python3.9/site-packages/fermipy/irfs.py:51: FutureWarning: Using a non-tuple sequence for multidimensional indexing is deprecated; use `arr[tuple(seq)]` instead of `arr[seq]`. In the future this will be interpreted as an array index, `arr[np.array(seq)]`, which will result either in an error or a different result.\n",
      "  log_ratio = np.log(x[xs1] / x[xs0])\n",
      "/Users/hfleisc1/mambaforge/envs/fermi-21/lib/python3.9/site-packages/fermipy/irfs.py:52: FutureWarning: Using a non-tuple sequence for multidimensional indexing is deprecated; use `arr[tuple(seq)]` instead of `arr[seq]`. In the future this will be interpreted as an array index, `arr[np.array(seq)]`, which will result either in an error or a different result.\n",
      "  return 0.5 * (y[ys0] * x[xs0] + y[ys1] * x[xs1]) * log_ratio\n",
      "2022-05-25 17:10:44 INFO    GTBinnedAnalysis._create_expcube(): Skipping gtexpcube.\n",
      "WARNING: FITSFixedWarning: RADECSYS= 'FK5 ' \n",
      "the RADECSYS keyword is deprecated, use RADESYSa. [astropy.wcs.wcs]\n",
      "WARNING: FITSFixedWarning: 'datfix' made the change 'Set DATEREF to '2001-01-01T00:01:04.184' from MJDREF.\n",
      "Set MJD-OBS to 54682.655283 from DATE-OBS.\n",
      "Set MJD-END to 54865.999977 from DATE-END'. [astropy.wcs.wcs]\n",
      "2022-05-25 17:10:44 INFO    GTBinnedAnalysis._create_srcmaps(): Skipping gtsrcmaps.\n",
      "2022-05-25 17:10:44 INFO    GTBinnedAnalysis.setup(): Finished setup for component 01\n",
      "2022-05-25 17:10:44 INFO    GTBinnedAnalysis.setup(): Running setup for component 02\n",
      "2022-05-25 17:10:44 INFO    GTBinnedAnalysis._select_data(): Skipping data selection.\n",
      "2022-05-25 17:10:44 INFO    GTBinnedAnalysis._create_ltcube(): Skipping LT Cube.\n",
      "2022-05-25 17:10:44 INFO    GTBinnedAnalysis._create_expcube(): Skipping gtexpcube.\n",
      "2022-05-25 17:10:44 INFO    GTBinnedAnalysis._create_srcmaps(): Skipping gtsrcmaps.\n",
      "2022-05-25 17:10:44 INFO    GTBinnedAnalysis.setup(): Finished setup for component 02\n",
      "2022-05-25 17:10:44 INFO    GTBinnedAnalysis.setup(): Running setup for component 03\n",
      "2022-05-25 17:10:44 INFO    GTBinnedAnalysis._select_data(): Skipping data selection.\n",
      "2022-05-25 17:10:44 INFO    GTBinnedAnalysis._create_ltcube(): Skipping LT Cube.\n",
      "2022-05-25 17:10:45 INFO    GTBinnedAnalysis._create_expcube(): Skipping gtexpcube.\n",
      "2022-05-25 17:10:45 INFO    GTBinnedAnalysis._create_srcmaps(): Skipping gtsrcmaps.\n",
      "2022-05-25 17:10:45 INFO    GTBinnedAnalysis.setup(): Finished setup for component 03\n",
      "2022-05-25 17:10:45 INFO    GTBinnedAnalysis._create_binned_analysis(): Creating BinnedAnalysis for component 00.\n",
      "2022-05-25 17:10:49 INFO    GTBinnedAnalysis._create_binned_analysis(): Creating BinnedAnalysis for component 01.\n"
     ]
    },
    {
     "name": "stdout",
     "output_type": "stream",
     "text": [
      "Drm_Cache::update Measured counts < 0 4FGL J1221.4-0634 23 -3.16963e-12 5.8433e-12\n",
      "0.57141 0.63714 0.627586 0.554603 0.444619 0.330903 0.219693 0.132171 0.0712835 0.032272 0.0133772 0.00410797 0.00140145 0.00031844 9.72625e-05 2.14837e-05 6.37548e-06 1.5398e-06 4.17718e-07 8.85368e-08 1.37222e-08 1.48829e-09 1.23325e-10 5.8433e-12 \n"
     ]
    },
    {
     "name": "stderr",
     "output_type": "stream",
     "text": [
      "2022-05-25 17:10:53 INFO    GTBinnedAnalysis._create_binned_analysis(): Creating BinnedAnalysis for component 02.\n",
      "2022-05-25 17:10:57 INFO    GTBinnedAnalysis._create_binned_analysis(): Creating BinnedAnalysis for component 03.\n",
      "2022-05-25 17:11:05 INFO    GTAnalysis.setup(): Finished setup.\n",
      "2022-05-25 17:11:05 INFO    GTAnalysis.load_roi(): Loading ROI file: /Users/hfleisc1/fermi_software/summer2022/fermi-summer-school/Likelihood_Advanced/data/fit2_sed.npy\n",
      "2022-05-25 17:11:05 INFO    GTBinnedAnalysis._create_binned_analysis(): Creating BinnedAnalysis for component 00.\n",
      "2022-05-25 17:11:09 INFO    GTBinnedAnalysis._create_binned_analysis(): Creating BinnedAnalysis for component 01.\n",
      "2022-05-25 17:11:14 INFO    GTBinnedAnalysis._create_binned_analysis(): Creating BinnedAnalysis for component 02.\n",
      "2022-05-25 17:11:18 INFO    GTBinnedAnalysis._create_binned_analysis(): Creating BinnedAnalysis for component 03.\n",
      "2022-05-25 17:11:25 INFO    GTAnalysis.load_roi(): Finished Loading ROI\n"
     ]
    }
   ],
   "source": [
    "gta = GTAnalysis.create('data/fit2_sed.npy')"
   ]
  },
  {
   "cell_type": "code",
   "execution_count": 4,
   "metadata": {},
   "outputs": [],
   "source": [
    "gta.lightcurve?"
   ]
  },
  {
   "cell_type": "code",
   "execution_count": 5,
   "metadata": {
    "scrolled": false
   },
   "outputs": [
    {
     "name": "stderr",
     "output_type": "stream",
     "text": [
      "2022-05-25 17:11:25 INFO    GTAnalysis.lightcurve(): Computing Lightcurve for 4FGL J1256.1-0547\n",
      "2022-05-25 17:11:28 INFO    lightcurve_239557417_242197581 GTAnalysis._process_lc_bin(): Fitting time range 239557417 242197580\n",
      "/Users/hfleisc1/mambaforge/envs/fermi-21/lib/python3.9/site-packages/fermipy/irfs.py:51: FutureWarning: Using a non-tuple sequence for multidimensional indexing is deprecated; use `arr[tuple(seq)]` instead of `arr[seq]`. In the future this will be interpreted as an array index, `arr[np.array(seq)]`, which will result either in an error or a different result.\n",
      "  log_ratio = np.log(x[xs1] / x[xs0])\n",
      "/Users/hfleisc1/mambaforge/envs/fermi-21/lib/python3.9/site-packages/fermipy/irfs.py:52: FutureWarning: Using a non-tuple sequence for multidimensional indexing is deprecated; use `arr[tuple(seq)]` instead of `arr[seq]`. In the future this will be interpreted as an array index, `arr[np.array(seq)]`, which will result either in an error or a different result.\n",
      "  return 0.5 * (y[ys0] * x[xs0] + y[ys1] * x[xs1]) * log_ratio\n",
      "WARNING: FITSFixedWarning: RADECSYS= 'FK5 ' \n",
      "the RADECSYS keyword is deprecated, use RADESYSa. [astropy.wcs.wcs]\n",
      "2022-05-25 17:11:53 INFO    lightcurve_239557417_242197581 GTBinnedAnalysis.write_xml(): Writing /Users/hfleisc1/fermi_software/summer2022/fermi-summer-school/Likelihood_Advanced/data/lightcurve_239557417_242197581/base_00.xml...\n",
      "2022-05-25 17:11:53 INFO    lightcurve_239557417_242197581 GTBinnedAnalysis.write_xml(): Writing /Users/hfleisc1/fermi_software/summer2022/fermi-summer-school/Likelihood_Advanced/data/lightcurve_239557417_242197581/base_01.xml...\n",
      "2022-05-25 17:11:53 INFO    lightcurve_239557417_242197581 GTBinnedAnalysis.write_xml(): Writing /Users/hfleisc1/fermi_software/summer2022/fermi-summer-school/Likelihood_Advanced/data/lightcurve_239557417_242197581/base_02.xml...\n",
      "2022-05-25 17:11:53 INFO    lightcurve_239557417_242197581 GTBinnedAnalysis.write_xml(): Writing /Users/hfleisc1/fermi_software/summer2022/fermi-summer-school/Likelihood_Advanced/data/lightcurve_239557417_242197581/base_03.xml...\n"
     ]
    },
    {
     "name": "stdout",
     "output_type": "stream",
     "text": [
      "Joint fit  ['4FGL J1256.1-0547', '4FGL J1229.0+0202']\n"
     ]
    },
    {
     "name": "stderr",
     "output_type": "stream",
     "text": [
      "/Users/hfleisc1/mambaforge/envs/fermi-21/lib/python3.9/site-packages/scipy/interpolate/_fitpack2.py:280: UserWarning: \n",
      "The maximal number of iterations maxit (set to 20 by the program)\n",
      "allowed for finding a smoothing spline with fp=s has been reached: s\n",
      "too small.\n",
      "There is an approximation returned but the corresponding weighted sum\n",
      "of squared residuals does not satisfy the condition abs(fp-s)/s < tol.\n",
      "  warnings.warn(message)\n"
     ]
    },
    {
     "name": "stdout",
     "output_type": "stream",
     "text": [
      "Fitting shape 4FGL J1256.1-0547 TS:    964.560\n",
      "Fitting shape 4FGL J1229.0+0202 TS:     62.822\n",
      "Fitting shape 4FGL J1322.6-0936 TS:     45.348\n"
     ]
    },
    {
     "name": "stderr",
     "output_type": "stream",
     "text": [
      "2022-05-25 17:12:03 INFO    lightcurve_239557417_242197581 GTBinnedAnalysis.write_xml(): Writing /Users/hfleisc1/fermi_software/summer2022/fermi-summer-school/Likelihood_Advanced/data/lightcurve_239557417_242197581/fit_model_final_00.xml...\n",
      "2022-05-25 17:12:03 INFO    lightcurve_239557417_242197581 GTBinnedAnalysis.write_xml(): Writing /Users/hfleisc1/fermi_software/summer2022/fermi-summer-school/Likelihood_Advanced/data/lightcurve_239557417_242197581/fit_model_final_01.xml...\n",
      "2022-05-25 17:12:03 INFO    lightcurve_239557417_242197581 GTBinnedAnalysis.write_xml(): Writing /Users/hfleisc1/fermi_software/summer2022/fermi-summer-school/Likelihood_Advanced/data/lightcurve_239557417_242197581/fit_model_final_02.xml...\n",
      "2022-05-25 17:12:03 INFO    lightcurve_239557417_242197581 GTBinnedAnalysis.write_xml(): Writing /Users/hfleisc1/fermi_software/summer2022/fermi-summer-school/Likelihood_Advanced/data/lightcurve_239557417_242197581/fit_model_final_03.xml...\n",
      "2022-05-25 17:12:04 INFO    lightcurve_239557417_242197581 GTAnalysis._process_lc_bin(): Finished time range 239557417 242197580\n",
      "2022-05-25 17:12:06 INFO    lightcurve_242197581_244837745 GTAnalysis._process_lc_bin(): Fitting time range 242197580 244837744\n",
      "/Users/hfleisc1/mambaforge/envs/fermi-21/lib/python3.9/site-packages/fermipy/irfs.py:51: FutureWarning: Using a non-tuple sequence for multidimensional indexing is deprecated; use `arr[tuple(seq)]` instead of `arr[seq]`. In the future this will be interpreted as an array index, `arr[np.array(seq)]`, which will result either in an error or a different result.\n",
      "  log_ratio = np.log(x[xs1] / x[xs0])\n",
      "/Users/hfleisc1/mambaforge/envs/fermi-21/lib/python3.9/site-packages/fermipy/irfs.py:52: FutureWarning: Using a non-tuple sequence for multidimensional indexing is deprecated; use `arr[tuple(seq)]` instead of `arr[seq]`. In the future this will be interpreted as an array index, `arr[np.array(seq)]`, which will result either in an error or a different result.\n",
      "  return 0.5 * (y[ys0] * x[xs0] + y[ys1] * x[xs1]) * log_ratio\n",
      "WARNING: FITSFixedWarning: RADECSYS= 'FK5 ' \n",
      "the RADECSYS keyword is deprecated, use RADESYSa. [astropy.wcs.wcs]\n",
      "2022-05-25 17:12:25 INFO    lightcurve_242197581_244837745 GTBinnedAnalysis.write_xml(): Writing /Users/hfleisc1/fermi_software/summer2022/fermi-summer-school/Likelihood_Advanced/data/lightcurve_242197581_244837745/base_00.xml...\n",
      "2022-05-25 17:12:25 INFO    lightcurve_242197581_244837745 GTBinnedAnalysis.write_xml(): Writing /Users/hfleisc1/fermi_software/summer2022/fermi-summer-school/Likelihood_Advanced/data/lightcurve_242197581_244837745/base_01.xml...\n",
      "2022-05-25 17:12:25 INFO    lightcurve_242197581_244837745 GTBinnedAnalysis.write_xml(): Writing /Users/hfleisc1/fermi_software/summer2022/fermi-summer-school/Likelihood_Advanced/data/lightcurve_242197581_244837745/base_02.xml...\n",
      "2022-05-25 17:12:25 INFO    lightcurve_242197581_244837745 GTBinnedAnalysis.write_xml(): Writing /Users/hfleisc1/fermi_software/summer2022/fermi-summer-school/Likelihood_Advanced/data/lightcurve_242197581_244837745/base_03.xml...\n"
     ]
    },
    {
     "name": "stdout",
     "output_type": "stream",
     "text": [
      "Joint fit  ['4FGL J1256.1-0547', '4FGL J1229.0+0202']\n"
     ]
    },
    {
     "name": "stderr",
     "output_type": "stream",
     "text": [
      "/Users/hfleisc1/mambaforge/envs/fermi-21/lib/python3.9/site-packages/scipy/interpolate/_fitpack2.py:280: UserWarning: \n",
      "The maximal number of iterations maxit (set to 20 by the program)\n",
      "allowed for finding a smoothing spline with fp=s has been reached: s\n",
      "too small.\n",
      "There is an approximation returned but the corresponding weighted sum\n",
      "of squared residuals does not satisfy the condition abs(fp-s)/s < tol.\n",
      "  warnings.warn(message)\n"
     ]
    },
    {
     "name": "stdout",
     "output_type": "stream",
     "text": [
      "Fitting shape 4FGL J1229.0+0202 TS:    870.536\n",
      "Fitting shape 4FGL J1256.1-0547 TS:    525.797\n",
      "Fitting shape 4FGL J1233.7-0144 TS:     20.359\n"
     ]
    },
    {
     "name": "stderr",
     "output_type": "stream",
     "text": [
      "2022-05-25 17:12:35 INFO    lightcurve_242197581_244837745 GTBinnedAnalysis.write_xml(): Writing /Users/hfleisc1/fermi_software/summer2022/fermi-summer-school/Likelihood_Advanced/data/lightcurve_242197581_244837745/fit_model_final_00.xml...\n",
      "2022-05-25 17:12:35 INFO    lightcurve_242197581_244837745 GTBinnedAnalysis.write_xml(): Writing /Users/hfleisc1/fermi_software/summer2022/fermi-summer-school/Likelihood_Advanced/data/lightcurve_242197581_244837745/fit_model_final_01.xml...\n",
      "2022-05-25 17:12:35 INFO    lightcurve_242197581_244837745 GTBinnedAnalysis.write_xml(): Writing /Users/hfleisc1/fermi_software/summer2022/fermi-summer-school/Likelihood_Advanced/data/lightcurve_242197581_244837745/fit_model_final_02.xml...\n",
      "2022-05-25 17:12:35 INFO    lightcurve_242197581_244837745 GTBinnedAnalysis.write_xml(): Writing /Users/hfleisc1/fermi_software/summer2022/fermi-summer-school/Likelihood_Advanced/data/lightcurve_242197581_244837745/fit_model_final_03.xml...\n",
      "2022-05-25 17:12:37 INFO    lightcurve_242197581_244837745 GTAnalysis._process_lc_bin(): Finished time range 242197580 244837744\n",
      "2022-05-25 17:12:39 INFO    lightcurve_244837745_247477908 GTAnalysis._process_lc_bin(): Fitting time range 244837744 247477908\n",
      "/Users/hfleisc1/mambaforge/envs/fermi-21/lib/python3.9/site-packages/fermipy/irfs.py:51: FutureWarning: Using a non-tuple sequence for multidimensional indexing is deprecated; use `arr[tuple(seq)]` instead of `arr[seq]`. In the future this will be interpreted as an array index, `arr[np.array(seq)]`, which will result either in an error or a different result.\n",
      "  log_ratio = np.log(x[xs1] / x[xs0])\n",
      "/Users/hfleisc1/mambaforge/envs/fermi-21/lib/python3.9/site-packages/fermipy/irfs.py:52: FutureWarning: Using a non-tuple sequence for multidimensional indexing is deprecated; use `arr[tuple(seq)]` instead of `arr[seq]`. In the future this will be interpreted as an array index, `arr[np.array(seq)]`, which will result either in an error or a different result.\n",
      "  return 0.5 * (y[ys0] * x[xs0] + y[ys1] * x[xs1]) * log_ratio\n",
      "WARNING: FITSFixedWarning: RADECSYS= 'FK5 ' \n",
      "the RADECSYS keyword is deprecated, use RADESYSa. [astropy.wcs.wcs]\n",
      "2022-05-25 17:12:58 INFO    lightcurve_244837745_247477908 GTBinnedAnalysis.write_xml(): Writing /Users/hfleisc1/fermi_software/summer2022/fermi-summer-school/Likelihood_Advanced/data/lightcurve_244837745_247477908/base_00.xml...\n",
      "2022-05-25 17:12:58 INFO    lightcurve_244837745_247477908 GTBinnedAnalysis.write_xml(): Writing /Users/hfleisc1/fermi_software/summer2022/fermi-summer-school/Likelihood_Advanced/data/lightcurve_244837745_247477908/base_01.xml...\n",
      "2022-05-25 17:12:58 INFO    lightcurve_244837745_247477908 GTBinnedAnalysis.write_xml(): Writing /Users/hfleisc1/fermi_software/summer2022/fermi-summer-school/Likelihood_Advanced/data/lightcurve_244837745_247477908/base_02.xml...\n",
      "2022-05-25 17:12:58 INFO    lightcurve_244837745_247477908 GTBinnedAnalysis.write_xml(): Writing /Users/hfleisc1/fermi_software/summer2022/fermi-summer-school/Likelihood_Advanced/data/lightcurve_244837745_247477908/base_03.xml...\n"
     ]
    },
    {
     "name": "stdout",
     "output_type": "stream",
     "text": [
      "Joint fit  ['4FGL J1256.1-0547', '4FGL J1229.0+0202']\n"
     ]
    },
    {
     "name": "stderr",
     "output_type": "stream",
     "text": [
      "/Users/hfleisc1/mambaforge/envs/fermi-21/lib/python3.9/site-packages/scipy/interpolate/_fitpack2.py:280: UserWarning: \n",
      "The maximal number of iterations maxit (set to 20 by the program)\n",
      "allowed for finding a smoothing spline with fp=s has been reached: s\n",
      "too small.\n",
      "There is an approximation returned but the corresponding weighted sum\n",
      "of squared residuals does not satisfy the condition abs(fp-s)/s < tol.\n",
      "  warnings.warn(message)\n"
     ]
    },
    {
     "name": "stdout",
     "output_type": "stream",
     "text": [
      "Fitting shape 4FGL J1256.1-0547 TS:    980.439\n",
      "Fitting shape 4FGL J1229.0+0202 TS:    664.138\n",
      "Fitting shape 4FGL J1322.6-0936 TS:    161.491\n",
      "Fitting shape 4FGL J1312.7+0050 TS:     68.600\n",
      "Fitting shape 4FGL J1332.0-0509 TS:     52.119\n",
      "Fitting shape 4FGL J1315.9-0732 TS:     21.481\n"
     ]
    },
    {
     "name": "stderr",
     "output_type": "stream",
     "text": [
      "2022-05-25 17:13:10 INFO    lightcurve_244837745_247477908 GTBinnedAnalysis.write_xml(): Writing /Users/hfleisc1/fermi_software/summer2022/fermi-summer-school/Likelihood_Advanced/data/lightcurve_244837745_247477908/fit_model_final_00.xml...\n",
      "2022-05-25 17:13:10 INFO    lightcurve_244837745_247477908 GTBinnedAnalysis.write_xml(): Writing /Users/hfleisc1/fermi_software/summer2022/fermi-summer-school/Likelihood_Advanced/data/lightcurve_244837745_247477908/fit_model_final_01.xml...\n",
      "2022-05-25 17:13:10 INFO    lightcurve_244837745_247477908 GTBinnedAnalysis.write_xml(): Writing /Users/hfleisc1/fermi_software/summer2022/fermi-summer-school/Likelihood_Advanced/data/lightcurve_244837745_247477908/fit_model_final_02.xml...\n",
      "2022-05-25 17:13:10 INFO    lightcurve_244837745_247477908 GTBinnedAnalysis.write_xml(): Writing /Users/hfleisc1/fermi_software/summer2022/fermi-summer-school/Likelihood_Advanced/data/lightcurve_244837745_247477908/fit_model_final_03.xml...\n",
      "2022-05-25 17:13:11 INFO    lightcurve_244837745_247477908 GTAnalysis._process_lc_bin(): Finished time range 244837744 247477908\n",
      "2022-05-25 17:13:14 INFO    lightcurve_247477908_250118072 GTAnalysis._process_lc_bin(): Fitting time range 247477908 250118072\n",
      "/Users/hfleisc1/mambaforge/envs/fermi-21/lib/python3.9/site-packages/fermipy/irfs.py:51: FutureWarning: Using a non-tuple sequence for multidimensional indexing is deprecated; use `arr[tuple(seq)]` instead of `arr[seq]`. In the future this will be interpreted as an array index, `arr[np.array(seq)]`, which will result either in an error or a different result.\n",
      "  log_ratio = np.log(x[xs1] / x[xs0])\n",
      "/Users/hfleisc1/mambaforge/envs/fermi-21/lib/python3.9/site-packages/fermipy/irfs.py:52: FutureWarning: Using a non-tuple sequence for multidimensional indexing is deprecated; use `arr[tuple(seq)]` instead of `arr[seq]`. In the future this will be interpreted as an array index, `arr[np.array(seq)]`, which will result either in an error or a different result.\n",
      "  return 0.5 * (y[ys0] * x[xs0] + y[ys1] * x[xs1]) * log_ratio\n",
      "WARNING: FITSFixedWarning: RADECSYS= 'FK5 ' \n",
      "the RADECSYS keyword is deprecated, use RADESYSa. [astropy.wcs.wcs]\n",
      "2022-05-25 17:13:32 INFO    lightcurve_247477908_250118072 GTBinnedAnalysis.write_xml(): Writing /Users/hfleisc1/fermi_software/summer2022/fermi-summer-school/Likelihood_Advanced/data/lightcurve_247477908_250118072/base_00.xml...\n",
      "2022-05-25 17:13:32 INFO    lightcurve_247477908_250118072 GTBinnedAnalysis.write_xml(): Writing /Users/hfleisc1/fermi_software/summer2022/fermi-summer-school/Likelihood_Advanced/data/lightcurve_247477908_250118072/base_01.xml...\n",
      "2022-05-25 17:13:32 INFO    lightcurve_247477908_250118072 GTBinnedAnalysis.write_xml(): Writing /Users/hfleisc1/fermi_software/summer2022/fermi-summer-school/Likelihood_Advanced/data/lightcurve_247477908_250118072/base_02.xml...\n",
      "2022-05-25 17:13:32 INFO    lightcurve_247477908_250118072 GTBinnedAnalysis.write_xml(): Writing /Users/hfleisc1/fermi_software/summer2022/fermi-summer-school/Likelihood_Advanced/data/lightcurve_247477908_250118072/base_03.xml...\n"
     ]
    },
    {
     "name": "stdout",
     "output_type": "stream",
     "text": [
      "Joint fit  ['4FGL J1256.1-0547', '4FGL J1229.0+0202']\n"
     ]
    },
    {
     "name": "stderr",
     "output_type": "stream",
     "text": [
      "/Users/hfleisc1/mambaforge/envs/fermi-21/lib/python3.9/site-packages/scipy/interpolate/_fitpack2.py:280: UserWarning: \n",
      "The maximal number of iterations maxit (set to 20 by the program)\n",
      "allowed for finding a smoothing spline with fp=s has been reached: s\n",
      "too small.\n",
      "There is an approximation returned but the corresponding weighted sum\n",
      "of squared residuals does not satisfy the condition abs(fp-s)/s < tol.\n",
      "  warnings.warn(message)\n"
     ]
    },
    {
     "name": "stdout",
     "output_type": "stream",
     "text": [
      "Fitting shape 4FGL J1256.1-0547 TS:   5077.081\n",
      "Fitting shape 4FGL J1229.0+0202 TS:    299.620\n"
     ]
    },
    {
     "name": "stderr",
     "output_type": "stream",
     "text": [
      "2022-05-25 17:13:41 INFO    lightcurve_247477908_250118072 GTBinnedAnalysis.write_xml(): Writing /Users/hfleisc1/fermi_software/summer2022/fermi-summer-school/Likelihood_Advanced/data/lightcurve_247477908_250118072/fit_model_final_00.xml...\n",
      "2022-05-25 17:13:41 INFO    lightcurve_247477908_250118072 GTBinnedAnalysis.write_xml(): Writing /Users/hfleisc1/fermi_software/summer2022/fermi-summer-school/Likelihood_Advanced/data/lightcurve_247477908_250118072/fit_model_final_01.xml...\n",
      "2022-05-25 17:13:41 INFO    lightcurve_247477908_250118072 GTBinnedAnalysis.write_xml(): Writing /Users/hfleisc1/fermi_software/summer2022/fermi-summer-school/Likelihood_Advanced/data/lightcurve_247477908_250118072/fit_model_final_02.xml...\n",
      "2022-05-25 17:13:41 INFO    lightcurve_247477908_250118072 GTBinnedAnalysis.write_xml(): Writing /Users/hfleisc1/fermi_software/summer2022/fermi-summer-school/Likelihood_Advanced/data/lightcurve_247477908_250118072/fit_model_final_03.xml...\n",
      "2022-05-25 17:13:42 INFO    lightcurve_247477908_250118072 GTAnalysis._process_lc_bin(): Finished time range 247477908 250118072\n",
      "2022-05-25 17:13:45 INFO    lightcurve_250118072_252758236 GTAnalysis._process_lc_bin(): Fitting time range 250118072 252758236\n",
      "/Users/hfleisc1/mambaforge/envs/fermi-21/lib/python3.9/site-packages/fermipy/irfs.py:51: FutureWarning: Using a non-tuple sequence for multidimensional indexing is deprecated; use `arr[tuple(seq)]` instead of `arr[seq]`. In the future this will be interpreted as an array index, `arr[np.array(seq)]`, which will result either in an error or a different result.\n",
      "  log_ratio = np.log(x[xs1] / x[xs0])\n",
      "/Users/hfleisc1/mambaforge/envs/fermi-21/lib/python3.9/site-packages/fermipy/irfs.py:52: FutureWarning: Using a non-tuple sequence for multidimensional indexing is deprecated; use `arr[tuple(seq)]` instead of `arr[seq]`. In the future this will be interpreted as an array index, `arr[np.array(seq)]`, which will result either in an error or a different result.\n",
      "  return 0.5 * (y[ys0] * x[xs0] + y[ys1] * x[xs1]) * log_ratio\n",
      "WARNING: FITSFixedWarning: RADECSYS= 'FK5 ' \n",
      "the RADECSYS keyword is deprecated, use RADESYSa. [astropy.wcs.wcs]\n",
      "2022-05-25 17:14:03 INFO    lightcurve_250118072_252758236 GTBinnedAnalysis.write_xml(): Writing /Users/hfleisc1/fermi_software/summer2022/fermi-summer-school/Likelihood_Advanced/data/lightcurve_250118072_252758236/base_00.xml...\n",
      "2022-05-25 17:14:03 INFO    lightcurve_250118072_252758236 GTBinnedAnalysis.write_xml(): Writing /Users/hfleisc1/fermi_software/summer2022/fermi-summer-school/Likelihood_Advanced/data/lightcurve_250118072_252758236/base_01.xml...\n",
      "2022-05-25 17:14:03 INFO    lightcurve_250118072_252758236 GTBinnedAnalysis.write_xml(): Writing /Users/hfleisc1/fermi_software/summer2022/fermi-summer-school/Likelihood_Advanced/data/lightcurve_250118072_252758236/base_02.xml...\n",
      "2022-05-25 17:14:03 INFO    lightcurve_250118072_252758236 GTBinnedAnalysis.write_xml(): Writing /Users/hfleisc1/fermi_software/summer2022/fermi-summer-school/Likelihood_Advanced/data/lightcurve_250118072_252758236/base_03.xml...\n"
     ]
    },
    {
     "name": "stdout",
     "output_type": "stream",
     "text": [
      "Joint fit  ['4FGL J1256.1-0547', '4FGL J1229.0+0202']\n",
      "Fitting shape 4FGL J1256.1-0547 TS:   5513.694\n",
      "Fitting shape 4FGL J1229.0+0202 TS:    197.372\n",
      "Fitting shape 4FGL J1312.7+0050 TS:     29.166\n"
     ]
    },
    {
     "name": "stderr",
     "output_type": "stream",
     "text": [
      "/Users/hfleisc1/mambaforge/envs/fermi-21/lib/python3.9/site-packages/scipy/interpolate/_fitpack2.py:280: UserWarning: \n",
      "A theoretically impossible result was found during the iteration\n",
      "process for finding a smoothing spline with fp = s: s too small.\n",
      "There is an approximation returned but the corresponding weighted sum\n",
      "of squared residuals does not satisfy the condition abs(fp-s)/s < tol.\n",
      "  warnings.warn(message)\n",
      "/Users/hfleisc1/mambaforge/envs/fermi-21/lib/python3.9/site-packages/scipy/interpolate/_fitpack2.py:280: UserWarning: \n",
      "The maximal number of iterations maxit (set to 20 by the program)\n",
      "allowed for finding a smoothing spline with fp=s has been reached: s\n",
      "too small.\n",
      "There is an approximation returned but the corresponding weighted sum\n",
      "of squared residuals does not satisfy the condition abs(fp-s)/s < tol.\n",
      "  warnings.warn(message)\n"
     ]
    },
    {
     "name": "stdout",
     "output_type": "stream",
     "text": [
      "Fitting shape 4FGL J1256.2-1146 TS:     16.514\n"
     ]
    },
    {
     "name": "stderr",
     "output_type": "stream",
     "text": [
      "2022-05-25 17:14:13 INFO    lightcurve_250118072_252758236 GTBinnedAnalysis.write_xml(): Writing /Users/hfleisc1/fermi_software/summer2022/fermi-summer-school/Likelihood_Advanced/data/lightcurve_250118072_252758236/fit_model_final_00.xml...\n",
      "2022-05-25 17:14:13 INFO    lightcurve_250118072_252758236 GTBinnedAnalysis.write_xml(): Writing /Users/hfleisc1/fermi_software/summer2022/fermi-summer-school/Likelihood_Advanced/data/lightcurve_250118072_252758236/fit_model_final_01.xml...\n",
      "2022-05-25 17:14:13 INFO    lightcurve_250118072_252758236 GTBinnedAnalysis.write_xml(): Writing /Users/hfleisc1/fermi_software/summer2022/fermi-summer-school/Likelihood_Advanced/data/lightcurve_250118072_252758236/fit_model_final_02.xml...\n",
      "2022-05-25 17:14:13 INFO    lightcurve_250118072_252758236 GTBinnedAnalysis.write_xml(): Writing /Users/hfleisc1/fermi_software/summer2022/fermi-summer-school/Likelihood_Advanced/data/lightcurve_250118072_252758236/fit_model_final_03.xml...\n",
      "2022-05-25 17:14:15 INFO    lightcurve_250118072_252758236 GTAnalysis._process_lc_bin(): Finished time range 250118072 252758236\n",
      "2022-05-25 17:14:17 INFO    lightcurve_252758236_255398400 GTAnalysis._process_lc_bin(): Fitting time range 252758236 255398400\n",
      "/Users/hfleisc1/mambaforge/envs/fermi-21/lib/python3.9/site-packages/fermipy/irfs.py:51: FutureWarning: Using a non-tuple sequence for multidimensional indexing is deprecated; use `arr[tuple(seq)]` instead of `arr[seq]`. In the future this will be interpreted as an array index, `arr[np.array(seq)]`, which will result either in an error or a different result.\n",
      "  log_ratio = np.log(x[xs1] / x[xs0])\n",
      "/Users/hfleisc1/mambaforge/envs/fermi-21/lib/python3.9/site-packages/fermipy/irfs.py:52: FutureWarning: Using a non-tuple sequence for multidimensional indexing is deprecated; use `arr[tuple(seq)]` instead of `arr[seq]`. In the future this will be interpreted as an array index, `arr[np.array(seq)]`, which will result either in an error or a different result.\n",
      "  return 0.5 * (y[ys0] * x[xs0] + y[ys1] * x[xs1]) * log_ratio\n",
      "WARNING: FITSFixedWarning: RADECSYS= 'FK5 ' \n",
      "the RADECSYS keyword is deprecated, use RADESYSa. [astropy.wcs.wcs]\n",
      "2022-05-25 17:14:35 INFO    lightcurve_252758236_255398400 GTBinnedAnalysis.write_xml(): Writing /Users/hfleisc1/fermi_software/summer2022/fermi-summer-school/Likelihood_Advanced/data/lightcurve_252758236_255398400/base_00.xml...\n",
      "2022-05-25 17:14:35 INFO    lightcurve_252758236_255398400 GTBinnedAnalysis.write_xml(): Writing /Users/hfleisc1/fermi_software/summer2022/fermi-summer-school/Likelihood_Advanced/data/lightcurve_252758236_255398400/base_01.xml...\n",
      "2022-05-25 17:14:35 INFO    lightcurve_252758236_255398400 GTBinnedAnalysis.write_xml(): Writing /Users/hfleisc1/fermi_software/summer2022/fermi-summer-school/Likelihood_Advanced/data/lightcurve_252758236_255398400/base_02.xml...\n",
      "2022-05-25 17:14:35 INFO    lightcurve_252758236_255398400 GTBinnedAnalysis.write_xml(): Writing /Users/hfleisc1/fermi_software/summer2022/fermi-summer-school/Likelihood_Advanced/data/lightcurve_252758236_255398400/base_03.xml...\n"
     ]
    },
    {
     "name": "stdout",
     "output_type": "stream",
     "text": [
      "Joint fit  ['4FGL J1256.1-0547', '4FGL J1229.0+0202']\n"
     ]
    },
    {
     "name": "stderr",
     "output_type": "stream",
     "text": [
      "/Users/hfleisc1/mambaforge/envs/fermi-21/lib/python3.9/site-packages/scipy/interpolate/_fitpack2.py:280: UserWarning: \n",
      "The maximal number of iterations maxit (set to 20 by the program)\n",
      "allowed for finding a smoothing spline with fp=s has been reached: s\n",
      "too small.\n",
      "There is an approximation returned but the corresponding weighted sum\n",
      "of squared residuals does not satisfy the condition abs(fp-s)/s < tol.\n",
      "  warnings.warn(message)\n"
     ]
    },
    {
     "name": "stdout",
     "output_type": "stream",
     "text": [
      "Fitting shape 4FGL J1256.1-0547 TS:   3455.132\n",
      "Fitting shape 4FGL J1229.0+0202 TS:     66.464\n",
      "Fitting shape 4FGL J1312.7+0050 TS:     23.898\n"
     ]
    },
    {
     "name": "stderr",
     "output_type": "stream",
     "text": [
      "2022-05-25 17:14:44 INFO    lightcurve_252758236_255398400 GTBinnedAnalysis.write_xml(): Writing /Users/hfleisc1/fermi_software/summer2022/fermi-summer-school/Likelihood_Advanced/data/lightcurve_252758236_255398400/fit_model_final_00.xml...\n",
      "2022-05-25 17:14:44 INFO    lightcurve_252758236_255398400 GTBinnedAnalysis.write_xml(): Writing /Users/hfleisc1/fermi_software/summer2022/fermi-summer-school/Likelihood_Advanced/data/lightcurve_252758236_255398400/fit_model_final_01.xml...\n",
      "2022-05-25 17:14:44 INFO    lightcurve_252758236_255398400 GTBinnedAnalysis.write_xml(): Writing /Users/hfleisc1/fermi_software/summer2022/fermi-summer-school/Likelihood_Advanced/data/lightcurve_252758236_255398400/fit_model_final_02.xml...\n",
      "2022-05-25 17:14:44 INFO    lightcurve_252758236_255398400 GTBinnedAnalysis.write_xml(): Writing /Users/hfleisc1/fermi_software/summer2022/fermi-summer-school/Likelihood_Advanced/data/lightcurve_252758236_255398400/fit_model_final_03.xml...\n",
      "2022-05-25 17:14:45 INFO    lightcurve_252758236_255398400 GTAnalysis._process_lc_bin(): Finished time range 252758236 255398400\n",
      "2022-05-25 17:14:50 INFO    GTAnalysis.lightcurve(): Finished Lightcurve\n"
     ]
    }
   ],
   "source": [
    "lc = gta.lightcurve('3C 279',nbins=6,make_plots=True)"
   ]
  },
  {
   "cell_type": "code",
   "execution_count": 6,
   "metadata": {},
   "outputs": [
    {
     "data": {
      "text/plain": [
       "['name',\n",
       " 'tmin',\n",
       " 'tmax',\n",
       " 'tmin_mjd',\n",
       " 'tmax_mjd',\n",
       " 'loglike_const',\n",
       " 'flux_const',\n",
       " 'fit_success',\n",
       " 'fit_success_fixed',\n",
       " 'fit_status',\n",
       " 'fit_quality',\n",
       " 'num_free_params',\n",
       " 'param_names',\n",
       " 'param_names_fixed',\n",
       " 'param_values',\n",
       " 'param_values_fixed',\n",
       " 'param_errors',\n",
       " 'param_errors_fixed',\n",
       " 'ts',\n",
       " 'ts_fixed',\n",
       " 'loglike',\n",
       " 'loglike_fixed',\n",
       " 'loglike_scan',\n",
       " 'loglike_scan_fixed',\n",
       " 'dloglike_scan',\n",
       " 'dloglike_scan_fixed',\n",
       " 'eflux_scan',\n",
       " 'eflux_scan_fixed',\n",
       " 'flux_scan',\n",
       " 'flux_scan_fixed',\n",
       " 'norm_scan',\n",
       " 'norm_scan_fixed',\n",
       " 'npred',\n",
       " 'npred_fixed',\n",
       " 'npred_wt',\n",
       " 'npred_wt_fixed',\n",
       " 'pivot_energy',\n",
       " 'pivot_energy_fixed',\n",
       " 'flux',\n",
       " 'flux_fixed',\n",
       " 'flux100',\n",
       " 'flux100_fixed',\n",
       " 'flux1000',\n",
       " 'flux1000_fixed',\n",
       " 'flux10000',\n",
       " 'flux10000_fixed',\n",
       " 'flux_err',\n",
       " 'flux_err_fixed',\n",
       " 'flux100_err',\n",
       " 'flux100_err_fixed',\n",
       " 'flux1000_err',\n",
       " 'flux1000_err_fixed',\n",
       " 'flux10000_err',\n",
       " 'flux10000_err_fixed',\n",
       " 'flux_ul95',\n",
       " 'flux_ul95_fixed',\n",
       " 'flux100_ul95',\n",
       " 'flux100_ul95_fixed',\n",
       " 'flux1000_ul95',\n",
       " 'flux1000_ul95_fixed',\n",
       " 'flux10000_ul95',\n",
       " 'flux10000_ul95_fixed',\n",
       " 'eflux',\n",
       " 'eflux_fixed',\n",
       " 'eflux100',\n",
       " 'eflux100_fixed',\n",
       " 'eflux1000',\n",
       " 'eflux1000_fixed',\n",
       " 'eflux10000',\n",
       " 'eflux10000_fixed',\n",
       " 'eflux_err',\n",
       " 'eflux_err_fixed',\n",
       " 'eflux100_err',\n",
       " 'eflux100_err_fixed',\n",
       " 'eflux1000_err',\n",
       " 'eflux1000_err_fixed',\n",
       " 'eflux10000_err',\n",
       " 'eflux10000_err_fixed',\n",
       " 'eflux_ul95',\n",
       " 'eflux_ul95_fixed',\n",
       " 'eflux100_ul95',\n",
       " 'eflux100_ul95_fixed',\n",
       " 'eflux1000_ul95',\n",
       " 'eflux1000_ul95_fixed',\n",
       " 'eflux10000_ul95',\n",
       " 'eflux10000_ul95_fixed',\n",
       " 'dnde',\n",
       " 'dnde_fixed',\n",
       " 'dnde100',\n",
       " 'dnde100_fixed',\n",
       " 'dnde1000',\n",
       " 'dnde1000_fixed',\n",
       " 'dnde10000',\n",
       " 'dnde10000_fixed',\n",
       " 'dnde_err',\n",
       " 'dnde_err_fixed',\n",
       " 'dnde100_err',\n",
       " 'dnde100_err_fixed',\n",
       " 'dnde1000_err',\n",
       " 'dnde1000_err_fixed',\n",
       " 'dnde10000_err',\n",
       " 'dnde10000_err_fixed',\n",
       " 'dnde_index',\n",
       " 'dnde_index_fixed',\n",
       " 'dnde100_index',\n",
       " 'dnde100_index_fixed',\n",
       " 'dnde1000_index',\n",
       " 'dnde1000_index_fixed',\n",
       " 'dnde10000_index',\n",
       " 'dnde10000_index_fixed',\n",
       " 'config',\n",
       " 'ts_var',\n",
       " 'file']"
      ]
     },
     "execution_count": 6,
     "metadata": {},
     "output_type": "execute_result"
    }
   ],
   "source": [
    "list(lc.keys())"
   ]
  },
  {
   "cell_type": "code",
   "execution_count": 7,
   "metadata": {},
   "outputs": [
    {
     "data": {
      "image/png": "[encoded data removed]",
      "text/plain": [
       "<Figure size 432x288 with 1 Axes>"
      ]
     },
     "metadata": {
      "needs_background": "light"
     },
     "output_type": "display_data"
    }
   ],
   "source": [
    "plt.errorbar(lc['tmax_mjd'],lc['flux'],yerr=lc['flux_err'],fmt='o')\n",
    "\n",
    "plt.xlabel('Time [MJD]')\n",
    "plt.ylabel(r'dN/dE [MeV cm$^{-2}$ s$^{-1}$]')\n",
    "plt.show()\n",
    "plt.show()"
   ]
  },
  {
   "cell_type": "code",
   "execution_count": 9,
   "metadata": {},
   "outputs": [
    {
     "data": {
      "image/png": "[encoded data removed]",
      "text/plain": [
       "<Figure size 432x288 with 1 Axes>"
      ]
     },
     "metadata": {
      "needs_background": "light"
     },
     "output_type": "display_data"
    }
   ],
   "source": [
    "plt.plot(lc['flux']/lc['flux_err'],lc['npred']/np.sqrt(lc['npred']),'o')\n",
    "\n",
    "plt.xlabel('Flux/Flux_err')\n",
    "plt.ylabel('Npred/sqrt(Npred)')\n",
    "\n",
    "plt.grid()\n",
    "plt.show()"
   ]
  },
  {
   "cell_type": "code",
   "execution_count": null,
   "metadata": {},
   "outputs": [],
   "source": []
  }
 ],
 "metadata": {
  "kernelspec": {
   "display_name": "Python 3 (ipykernel)",
   "language": "python",
   "name": "python3"
  },
  "language_info": {
   "codemirror_mode": {
    "name": "ipython",
    "version": 3
   },
   "file_extension": ".py",
   "mimetype": "text/x-python",
   "name": "python",
   "nbconvert_exporter": "python",
   "pygments_lexer": "ipython3",
   "version": "3.9.12"
  }
 },
 "nbformat": 4,
 "nbformat_minor": 2
}
