{
 "cells": [
  {
   "cell_type": "markdown",
   "metadata": {},
   "source": [
    "## Testing for curvature \n",
    "\n",
    "This notebook shows how to test for spectral curvature in a source.  It also details how to reload data from a fermipy save file."
   ]
  },
  {
   "cell_type": "code",
   "execution_count": 1,
   "metadata": {},
   "outputs": [],
   "source": [
    "%matplotlib inline\n",
    "import matplotlib.pyplot as plt\n",
    "import matplotlib\n",
    "import numpy as np"
   ]
  },
  {
   "cell_type": "code",
   "execution_count": 2,
   "metadata": {},
   "outputs": [
    {
     "name": "stderr",
     "output_type": "stream",
     "text": [
      "\n",
      "WARNING: version mismatch between CFITSIO header (v4.000999999999999) and linked library (v4.01).\n",
      "\n",
      "\n",
      "WARNING: version mismatch between CFITSIO header (v4.000999999999999) and linked library (v4.01).\n",
      "\n",
      "\n",
      "WARNING: version mismatch between CFITSIO header (v4.000999999999999) and linked library (v4.01).\n",
      "\n"
     ]
    }
   ],
   "source": [
    "from fermipy.gtanalysis import GTAnalysis"
   ]
  },
  {
   "cell_type": "markdown",
   "metadata": {},
   "source": [
    "## Load the old anlaysis\n",
    "\n",
    "This is the save file from where we left off."
   ]
  },
  {
   "cell_type": "code",
   "execution_count": 3,
   "metadata": {},
   "outputs": [
    {
     "name": "stderr",
     "output_type": "stream",
     "text": [
      "2022-05-25 17:03:46 INFO    GTAnalysis.__init__(): \n",
      "--------------------------------------------------------------------------------\n",
      "fermipy version v1.1+5.ga1de.dirty \n",
      "ScienceTools version 2.1.19\n",
      "2022-05-25 17:03:47 INFO    GTAnalysis.setup(): Running setup.\n",
      "2022-05-25 17:03:47 INFO    GTBinnedAnalysis.setup(): Running setup for component 00\n",
      "2022-05-25 17:03:47 INFO    GTBinnedAnalysis._select_data(): Skipping data selection.\n",
      "2022-05-25 17:03:47 INFO    GTBinnedAnalysis._create_ltcube(): Skipping LT Cube.\n",
      "/Users/hfleisc1/mambaforge/envs/fermi-21/lib/python3.9/site-packages/fermipy/irfs.py:51: FutureWarning: Using a non-tuple sequence for multidimensional indexing is deprecated; use `arr[tuple(seq)]` instead of `arr[seq]`. In the future this will be interpreted as an array index, `arr[np.array(seq)]`, which will result either in an error or a different result.\n",
      "  log_ratio = np.log(x[xs1] / x[xs0])\n",
      "/Users/hfleisc1/mambaforge/envs/fermi-21/lib/python3.9/site-packages/fermipy/irfs.py:52: FutureWarning: Using a non-tuple sequence for multidimensional indexing is deprecated; use `arr[tuple(seq)]` instead of `arr[seq]`. In the future this will be interpreted as an array index, `arr[np.array(seq)]`, which will result either in an error or a different result.\n",
      "  return 0.5 * (y[ys0] * x[xs0] + y[ys1] * x[xs1]) * log_ratio\n",
      "2022-05-25 17:03:47 INFO    GTBinnedAnalysis._create_expcube(): Skipping gtexpcube.\n",
      "WARNING: FITSFixedWarning: RADECSYS= 'FK5 ' \n",
      "the RADECSYS keyword is deprecated, use RADESYSa. [astropy.wcs.wcs]\n",
      "WARNING: FITSFixedWarning: 'datfix' made the change 'Set DATEREF to '2001-01-01T00:01:04.184' from MJDREF.\n",
      "Set MJD-OBS to 54682.655283 from DATE-OBS.\n",
      "Set MJD-END to 54865.999977 from DATE-END'. [astropy.wcs.wcs]\n",
      "2022-05-25 17:03:47 INFO    GTBinnedAnalysis._create_srcmaps(): Skipping gtsrcmaps.\n",
      "2022-05-25 17:03:47 INFO    GTBinnedAnalysis.setup(): Finished setup for component 00\n",
      "2022-05-25 17:03:47 INFO    GTBinnedAnalysis.setup(): Running setup for component 01\n",
      "2022-05-25 17:03:47 INFO    GTBinnedAnalysis._select_data(): Skipping data selection.\n",
      "2022-05-25 17:03:47 INFO    GTBinnedAnalysis._create_ltcube(): Skipping LT Cube.\n",
      "/Users/hfleisc1/mambaforge/envs/fermi-21/lib/python3.9/site-packages/fermipy/irfs.py:51: FutureWarning: Using a non-tuple sequence for multidimensional indexing is deprecated; use `arr[tuple(seq)]` instead of `arr[seq]`. In the future this will be interpreted as an array index, `arr[np.array(seq)]`, which will result either in an error or a different result.\n",
      "  log_ratio = np.log(x[xs1] / x[xs0])\n",
      "/Users/hfleisc1/mambaforge/envs/fermi-21/lib/python3.9/site-packages/fermipy/irfs.py:52: FutureWarning: Using a non-tuple sequence for multidimensional indexing is deprecated; use `arr[tuple(seq)]` instead of `arr[seq]`. In the future this will be interpreted as an array index, `arr[np.array(seq)]`, which will result either in an error or a different result.\n",
      "  return 0.5 * (y[ys0] * x[xs0] + y[ys1] * x[xs1]) * log_ratio\n",
      "2022-05-25 17:03:48 INFO    GTBinnedAnalysis._create_expcube(): Skipping gtexpcube.\n",
      "WARNING: FITSFixedWarning: RADECSYS= 'FK5 ' \n",
      "the RADECSYS keyword is deprecated, use RADESYSa. [astropy.wcs.wcs]\n",
      "WARNING: FITSFixedWarning: 'datfix' made the change 'Set DATEREF to '2001-01-01T00:01:04.184' from MJDREF.\n",
      "Set MJD-OBS to 54682.655283 from DATE-OBS.\n",
      "Set MJD-END to 54865.999977 from DATE-END'. [astropy.wcs.wcs]\n",
      "2022-05-25 17:03:48 INFO    GTBinnedAnalysis._create_srcmaps(): Skipping gtsrcmaps.\n",
      "2022-05-25 17:03:48 INFO    GTBinnedAnalysis.setup(): Finished setup for component 01\n",
      "2022-05-25 17:03:48 INFO    GTBinnedAnalysis.setup(): Running setup for component 02\n",
      "2022-05-25 17:03:48 INFO    GTBinnedAnalysis._select_data(): Skipping data selection.\n",
      "2022-05-25 17:03:48 INFO    GTBinnedAnalysis._create_ltcube(): Skipping LT Cube.\n",
      "2022-05-25 17:03:48 INFO    GTBinnedAnalysis._create_expcube(): Skipping gtexpcube.\n",
      "2022-05-25 17:03:48 INFO    GTBinnedAnalysis._create_srcmaps(): Skipping gtsrcmaps.\n",
      "2022-05-25 17:03:48 INFO    GTBinnedAnalysis.setup(): Finished setup for component 02\n",
      "2022-05-25 17:03:48 INFO    GTBinnedAnalysis.setup(): Running setup for component 03\n",
      "2022-05-25 17:03:48 INFO    GTBinnedAnalysis._select_data(): Skipping data selection.\n",
      "2022-05-25 17:03:48 INFO    GTBinnedAnalysis._create_ltcube(): Skipping LT Cube.\n",
      "2022-05-25 17:03:49 INFO    GTBinnedAnalysis._create_expcube(): Skipping gtexpcube.\n",
      "2022-05-25 17:03:49 INFO    GTBinnedAnalysis._create_srcmaps(): Skipping gtsrcmaps.\n",
      "2022-05-25 17:03:49 INFO    GTBinnedAnalysis.setup(): Finished setup for component 03\n",
      "2022-05-25 17:03:49 INFO    GTBinnedAnalysis._create_binned_analysis(): Creating BinnedAnalysis for component 00.\n",
      "2022-05-25 17:03:53 INFO    GTBinnedAnalysis._create_binned_analysis(): Creating BinnedAnalysis for component 01.\n"
     ]
    },
    {
     "name": "stdout",
     "output_type": "stream",
     "text": [
      "Drm_Cache::update Measured counts < 0 4FGL J1221.4-0634 23 -3.16963e-12 5.8433e-12\n",
      "0.57141 0.63714 0.627586 0.554603 0.444619 0.330903 0.219693 0.132171 0.0712835 0.032272 0.0133772 0.00410797 0.00140145 0.00031844 9.72625e-05 2.14837e-05 6.37548e-06 1.5398e-06 4.17718e-07 8.85368e-08 1.37222e-08 1.48829e-09 1.23325e-10 5.8433e-12 \n"
     ]
    },
    {
     "name": "stderr",
     "output_type": "stream",
     "text": [
      "2022-05-25 17:03:58 INFO    GTBinnedAnalysis._create_binned_analysis(): Creating BinnedAnalysis for component 02.\n",
      "2022-05-25 17:04:02 INFO    GTBinnedAnalysis._create_binned_analysis(): Creating BinnedAnalysis for component 03.\n",
      "2022-05-25 17:04:10 INFO    GTAnalysis.setup(): Finished setup.\n",
      "2022-05-25 17:04:10 INFO    GTAnalysis.load_roi(): Loading ROI file: /Users/hfleisc1/fermi_software/summer2022/fermi-summer-school/Likelihood_Advanced/data/fit2_sed.npy\n",
      "2022-05-25 17:04:10 INFO    GTBinnedAnalysis._create_binned_analysis(): Creating BinnedAnalysis for component 00.\n",
      "2022-05-25 17:04:14 INFO    GTBinnedAnalysis._create_binned_analysis(): Creating BinnedAnalysis for component 01.\n",
      "2022-05-25 17:04:19 INFO    GTBinnedAnalysis._create_binned_analysis(): Creating BinnedAnalysis for component 02.\n",
      "2022-05-25 17:04:23 INFO    GTBinnedAnalysis._create_binned_analysis(): Creating BinnedAnalysis for component 03.\n",
      "2022-05-25 17:04:30 INFO    GTAnalysis.load_roi(): Finished Loading ROI\n"
     ]
    }
   ],
   "source": [
    "gta = GTAnalysis.create('data/fit2_sed.npy')"
   ]
  },
  {
   "cell_type": "code",
   "execution_count": 4,
   "metadata": {},
   "outputs": [
    {
     "name": "stderr",
     "output_type": "stream",
     "text": [
      "2022-05-25 17:04:30 INFO    GTAnalysis.print_roi(): \n",
      "name                SpatialModel   SpectrumType     offset        ts       npred\n",
      "--------------------------------------------------------------------------------\n",
      "4FGL J1256.1-0547   PointSource    PLSuperExpCuto    0.000  13258.48      7521.9\n",
      "4FGL J1243.9-0218   PointSource    LogParabola       4.627     11.89        38.6\n",
      "4FGL J1315.9-0732   PointSource    LogParabola       5.216     17.13        37.1\n",
      "4FGL J1234.7-0434   PointSource    PowerLaw          5.469      4.19        26.1\n",
      "4FGL J1256.2-1146   PointSource    PowerLaw          5.987     35.76        87.0\n",
      "4FGL J1322.3-0606   PointSource    LogParabola       6.518     11.59        18.7\n",
      "4FGL J1233.7-0144   PointSource    PowerLaw          6.904     28.03       107.1\n",
      "4FGL J1310.2-1158   PointSource    PowerLaw          7.100     14.79        47.8\n",
      "4FGL J1311.0+0034   PointSource    PowerLaw          7.357     24.23        77.5\n",
      "4FGL J1322.6-0936   PointSource    LogParabola       7.592     95.43       361.4\n",
      "4FGL J1312.7+0050   PointSource    PLSuperExpCuto    7.818    133.27       151.4\n",
      "4FGL J1318.7-1234   PointSource    LogParabola       8.788      7.90        30.2\n",
      "4FGL J1332.0-0509   PointSource    LogParabola       8.959     12.16       184.4\n",
      "4FGL J1229.0+0202   PointSource    LogParabola      10.351   1815.59      1612.6\n",
      "4FGL J1231.1-1412   PointSource    PLSuperExpCuto   10.417     14.21       108.0\n",
      "4FGL J1332.6-1256   PointSource    LogParabola      11.486     26.59       218.7\n",
      "isodiff             ConstantValue  FileFunction      -----    446.75      7358.2\n",
      "galdiff             MapCubeFunctio PowerLaw          -----   4271.03     15909.3\n",
      "\n"
     ]
    }
   ],
   "source": [
    "gta.print_roi()"
   ]
  },
  {
   "cell_type": "code",
   "execution_count": 5,
   "metadata": {},
   "outputs": [
    {
     "name": "stderr",
     "output_type": "stream",
     "text": [
      "2022-05-25 17:04:30 INFO    GTAnalysis.free_source(): Freeing parameters for 4FGL J1256.1-0547     : ['Prefactor', 'IndexS', 'ExpfactorS', 'Index2']\n",
      "2022-05-25 17:04:30 INFO    GTAnalysis.fit(): Starting fit.\n",
      "2022-05-25 17:04:31 INFO    GTAnalysis.fit(): Fit returned successfully. Quality:   3 Status:   0\n",
      "2022-05-25 17:04:31 INFO    GTAnalysis.fit(): LogLike:  -138379.441 DeltaLogLike:        0.570 \n"
     ]
    }
   ],
   "source": [
    "all_pars = ['Prefactor', 'IndexS', 'ExpfactorS', 'Index2' ]\n",
    "gta.free_source(\"4FGL J1256.1-0547\", pars=all_pars)\n",
    "\n",
    "fit = gta.fit()"
   ]
  },
  {
   "cell_type": "code",
   "execution_count": 6,
   "metadata": {},
   "outputs": [
    {
     "data": {
      "text/plain": [
       "{'fit_quality': 3,\n",
       " 'fit_status': 0,\n",
       " 'fit_success': True,\n",
       " 'dloglike': 0.5696872192202136,\n",
       " 'edm': 0.00031474597279662663,\n",
       " 'loglike': -138379.44135239255,\n",
       " 'covariance': array([[ 0.00019625, -0.00013119,  0.00154697, -0.00088505],\n",
       "        [-0.00013119,  0.00088234,  0.00181946,  0.00682883],\n",
       "        [ 0.00154697,  0.00181946,  0.0483788 , -0.0010857 ],\n",
       "        [-0.00088505,  0.00682883, -0.0010857 ,  0.08161676]]),\n",
       " 'correlation': array([[ 1.        , -0.31526166,  0.50205117, -0.22114195],\n",
       "        [-0.31526166,  1.        ,  0.27848278,  0.80471005],\n",
       "        [ 0.50205117,  0.27848278,  1.        , -0.01727797],\n",
       "        [-0.22114195,  0.80471005, -0.01727797,  1.        ]]),\n",
       " 'values': array([ 0.59832289,  2.24998445,  1.36933015, -0.05060562]),\n",
       " 'errors': array([0.01400895, 0.02970413, 0.21995182, 0.28568647]),\n",
       " 'indices': array([19, 20, 22, 23]),\n",
       " 'is_norm': array([ True, False, False, False]),\n",
       " 'src_names': ['4FGL J1256.1-0547',\n",
       "  '4FGL J1256.1-0547',\n",
       "  '4FGL J1256.1-0547',\n",
       "  '4FGL J1256.1-0547'],\n",
       " 'par_names': ['Prefactor', 'IndexS', 'ExpfactorS', 'Index2'],\n",
       " 'config': {'optimizer': 'MINUIT',\n",
       "  'tol': 0.001,\n",
       "  'max_iter': 100,\n",
       "  'init_lambda': 0.0001,\n",
       "  'retries': 3,\n",
       "  'min_fit_quality': 2,\n",
       "  'verbosity': 0,\n",
       "  'covar': True,\n",
       "  'reoptimize': False},\n",
       " 'niter': 1}"
      ]
     },
     "execution_count": 6,
     "metadata": {},
     "output_type": "execute_result"
    }
   ],
   "source": [
    "fit"
   ]
  },
  {
   "cell_type": "markdown",
   "metadata": {},
   "source": [
    "## Load the SED\n",
    "\n",
    "We calculated the SED before."
   ]
  },
  {
   "cell_type": "code",
   "execution_count": 7,
   "metadata": {},
   "outputs": [],
   "source": [
    "c = np.load('data/fit2_sed.npy', allow_pickle = True).flat[0]"
   ]
  },
  {
   "cell_type": "code",
   "execution_count": 8,
   "metadata": {},
   "outputs": [],
   "source": [
    "E = np.array(c['sources']['4FGL J1256.1-0547']['model_flux']['energies'])\n",
    "dnde = np.array(c['sources']['4FGL J1256.1-0547']['model_flux']['dnde'])\n",
    "dnde_hi = np.array(c['sources']['4FGL J1256.1-0547']['model_flux']['dnde_hi'])\n",
    "dnde_lo = np.array(c['sources']['4FGL J1256.1-0547']['model_flux']['dnde_lo'])"
   ]
  },
  {
   "cell_type": "code",
   "execution_count": 9,
   "metadata": {},
   "outputs": [],
   "source": [
    "sed = np.load('data/4fgl_j1256.1-0547_sed.npy', allow_pickle=True).flat[0]"
   ]
  },
  {
   "cell_type": "code",
   "execution_count": 10,
   "metadata": {},
   "outputs": [
    {
     "data": {
      "image/png": "[encoded data removed]",
      "text/plain": [
       "<Figure size 432x288 with 1 Axes>"
      ]
     },
     "metadata": {
      "needs_background": "light"
     },
     "output_type": "display_data"
    }
   ],
   "source": [
    "plt.loglog(E, (E**2)*dnde, 'k--')\n",
    "plt.loglog(E, (E**2)*dnde_hi, 'k')\n",
    "plt.loglog(E, (E**2)*dnde_lo, 'k')\n",
    "plt.errorbar(sed['e_ctr'][:-4],\n",
    "             sed['e2dnde'][:-4], \n",
    "             yerr=sed['e2dnde_err'][:-4], fmt ='o')\n",
    "plt.errorbar(np.array(sed['e_ctr'][-4:]),\n",
    "         sed['e2dnde_ul95'][-4:], yerr=0.2*sed['e2dnde_ul95'][-4:], \n",
    "             fmt='o', uplims=True)\n",
    "plt.xlabel('E [MeV]')\n",
    "plt.ylabel(r'E$^{2}$ dN/dE [MeV cm$^{-2}$ s$^{-1}$]')\n",
    "plt.show()"
   ]
  },
  {
   "cell_type": "markdown",
   "metadata": {},
   "source": [
    "Let's look at the parameter values as well:"
   ]
  },
  {
   "cell_type": "code",
   "execution_count": 11,
   "metadata": {},
   "outputs": [
    {
     "name": "stdout",
     "output_type": "stream",
     "text": [
      "Name           : 4FGL J1256.1-0547\n",
      "Associations   : ['4FGL J1256.1-0547', '3C 279', '2AGL J1255-0543', '3EG J1255-0549']\n",
      "RA/DEC         :    194.042/    -5.789\n",
      "GLON/GLAT      :    305.095/    57.063\n",
      "TS             : 15231.41\n",
      "Npred          : 7515.70\n",
      "Flux           : 6.348e-07 +/- 3.95e-08\n",
      "EnergyFlux     :  0.000258 +/- 8.31e-06\n",
      "SpatialModel   : PointSource\n",
      "SpectrumType   : PLSuperExpCutoff4\n",
      "Spectral Parameters\n",
      "b'Prefactor'   :  5.983e-11 +/-  1.401e-12\n",
      "b'IndexS'      :      -2.25 +/-     0.0297\n",
      "b'Scale'       :      954.1 +/-        nan\n",
      "b'ExpfactorS'  :     0.1369 +/-      0.022\n",
      "b'Index2'      :   -0.05061 +/-     0.2857\n"
     ]
    }
   ],
   "source": [
    "source = gta.roi.get_source_by_name('4FGL J1256.1-0547')\n",
    "print(source)"
   ]
  },
  {
   "cell_type": "code",
   "execution_count": null,
   "metadata": {},
   "outputs": [],
   "source": []
  },
  {
   "cell_type": "markdown",
   "metadata": {},
   "source": [
    "## Alternative model: PL spectrum"
   ]
  },
  {
   "cell_type": "markdown",
   "metadata": {},
   "source": [
    "Now, we'll change the spectral type to a PL spectrum. This can be done for example by removing the source and adding another one with the same name and coordinates, but PL spectrum. "
   ]
  },
  {
   "cell_type": "code",
   "execution_count": 12,
   "metadata": {},
   "outputs": [
    {
     "name": "stderr",
     "output_type": "stream",
     "text": [
      "2022-05-25 17:04:32 INFO    GTAnalysis.delete_source(): Deleting source 4FGL J1256.1-0547\n"
     ]
    },
    {
     "name": "stdout",
     "output_type": "stream",
     "text": [
      "{'value': 954.1499023, 'error': nan}\n"
     ]
    }
   ],
   "source": [
    "\n",
    "src_orig = gta.delete_source('4FGL J1256.1-0547')\n",
    "#src_orig = gta.roi[\"4FGL J1256.1-0547\"]\n",
    "print(src_orig.params[\"Scale\"])"
   ]
  },
  {
   "cell_type": "code",
   "execution_count": 13,
   "metadata": {},
   "outputs": [
    {
     "name": "stderr",
     "output_type": "stream",
     "text": [
      "2022-05-25 17:04:32 INFO    GTAnalysis.add_source(): Adding source 4FGL J1256.1-0547\n"
     ]
    }
   ],
   "source": [
    "gta.add_source(src_orig['name'],{ 'ra' : src_orig['ra'], 'dec' : src_orig['dec'],\n",
    "                 'SpectrumType' : 'PowerLaw', 'Index' : 2.0,\n",
    "                 'Scale' : src_orig.params[\"Scale\"], 'Prefactor' : 1e-11,\n",
    "                 'SpatialModel' : 'PointSource' })\n",
    "\n",
    "#pars0 = {\n",
    "#                'Prefactor': src_orig.params[\"Prefactor\"],\n",
    "#                'Index':\n",
    "#                    {'value': 2.0, 'scale': -1.0, 'min': 0.0,\n",
    "#                        'max': 5.0, 'free': False},\n",
    "#                'Scale': src_orig.params[\"Scale\"],\n",
    "#}\n",
    "\n",
    "#gta.set_source_spectrum(\"4FGL J1256.1-0547\", 'PowerLaw',\n",
    "#                                     spectrum_pars=pars0,\n",
    "#                                     update_source=False)\n"
   ]
  },
  {
   "cell_type": "code",
   "execution_count": 14,
   "metadata": {},
   "outputs": [
    {
     "name": "stderr",
     "output_type": "stream",
     "text": [
      "2022-05-25 17:04:40 INFO    GTAnalysis.print_roi(): \n",
      "name                SpatialModel   SpectrumType     offset        ts       npred\n",
      "--------------------------------------------------------------------------------\n",
      "4FGL J1256.1-0547   PointSource    PowerLaw          0.000       nan      1144.9\n",
      "4FGL J1243.9-0218   PointSource    LogParabola       4.627     11.89        38.6\n",
      "4FGL J1315.9-0732   PointSource    LogParabola       5.216     17.13        37.1\n",
      "4FGL J1234.7-0434   PointSource    PowerLaw          5.469      4.19        26.1\n",
      "4FGL J1256.2-1146   PointSource    PowerLaw          5.987     35.76        87.0\n",
      "4FGL J1322.3-0606   PointSource    LogParabola       6.518     11.59        18.7\n",
      "4FGL J1233.7-0144   PointSource    PowerLaw          6.904     28.03       107.1\n",
      "4FGL J1310.2-1158   PointSource    PowerLaw          7.100     14.79        47.8\n",
      "4FGL J1311.0+0034   PointSource    PowerLaw          7.357     24.23        77.5\n",
      "4FGL J1322.6-0936   PointSource    LogParabola       7.592     95.43       361.4\n",
      "4FGL J1312.7+0050   PointSource    PLSuperExpCuto    7.818    133.27       151.4\n",
      "4FGL J1318.7-1234   PointSource    LogParabola       8.788      7.90        30.2\n",
      "4FGL J1332.0-0509   PointSource    LogParabola       8.959     12.16       184.4\n",
      "4FGL J1229.0+0202   PointSource    LogParabola      10.351   1815.59      1612.6\n",
      "4FGL J1231.1-1412   PointSource    PLSuperExpCuto   10.417     14.21       108.0\n",
      "4FGL J1332.6-1256   PointSource    LogParabola      11.486     26.59       218.7\n",
      "isodiff             ConstantValue  FileFunction      -----    446.75      7358.2\n",
      "galdiff             MapCubeFunctio PowerLaw          -----   4271.03     15909.3\n",
      "\n"
     ]
    }
   ],
   "source": [
    "gta.print_roi()"
   ]
  },
  {
   "cell_type": "code",
   "execution_count": 15,
   "metadata": {},
   "outputs": [
    {
     "name": "stderr",
     "output_type": "stream",
     "text": [
      "2022-05-25 17:04:40 INFO    GTAnalysis.free_source(): Freeing parameters for 4FGL J1256.1-0547     : ['Index']\n"
     ]
    }
   ],
   "source": [
    "gta.free_source('4FGL J1256.1-0547', pars=['Prefactor','Index'])"
   ]
  },
  {
   "cell_type": "code",
   "execution_count": 16,
   "metadata": {
    "scrolled": true
   },
   "outputs": [
    {
     "name": "stderr",
     "output_type": "stream",
     "text": [
      "2022-05-25 17:04:40 INFO    GTAnalysis.fit(): Starting fit.\n",
      "2022-05-25 17:04:40 INFO    GTAnalysis.fit(): Fit returned successfully. Quality:   3 Status:   0\n",
      "2022-05-25 17:04:40 INFO    GTAnalysis.fit(): LogLike:  -138395.687 DeltaLogLike:     3141.036 \n"
     ]
    }
   ],
   "source": [
    "fit2 = gta.fit()"
   ]
  },
  {
   "cell_type": "code",
   "execution_count": 17,
   "metadata": {},
   "outputs": [
    {
     "data": {
      "text/plain": [
       "{'fit_quality': 3,\n",
       " 'fit_status': 0,\n",
       " 'fit_success': True,\n",
       " 'dloglike': 3141.0361173144775,\n",
       " 'edm': 4.6429433050384375e-07,\n",
       " 'loglike': -138395.68718150764,\n",
       " 'covariance': array([[ 0.01054994, -0.00094055],\n",
       "        [-0.00094055,  0.00020173]]),\n",
       " 'correlation': array([[ 1.        , -0.64472351],\n",
       "        [-0.64472351,  1.        ]]),\n",
       " 'values': array([5.30444528, 2.22407481]),\n",
       " 'errors': array([0.10271292, 0.01420304]),\n",
       " 'indices': array([19, 20]),\n",
       " 'is_norm': array([ True, False]),\n",
       " 'src_names': ['4FGL J1256.1-0547', '4FGL J1256.1-0547'],\n",
       " 'par_names': ['Prefactor', 'Index'],\n",
       " 'config': {'optimizer': 'MINUIT',\n",
       "  'tol': 0.001,\n",
       "  'max_iter': 100,\n",
       "  'init_lambda': 0.0001,\n",
       "  'retries': 3,\n",
       "  'min_fit_quality': 2,\n",
       "  'verbosity': 0,\n",
       "  'covar': True,\n",
       "  'reoptimize': False},\n",
       " 'niter': 1}"
      ]
     },
     "execution_count": 17,
     "metadata": {},
     "output_type": "execute_result"
    }
   ],
   "source": [
    "fit2"
   ]
  },
  {
   "cell_type": "code",
   "execution_count": 18,
   "metadata": {},
   "outputs": [
    {
     "name": "stderr",
     "output_type": "stream",
     "text": [
      "2022-05-25 17:04:40 INFO    GTAnalysis.print_roi(): \n",
      "name                SpatialModel   SpectrumType     offset        ts       npred\n",
      "--------------------------------------------------------------------------------\n",
      "4FGL J1256.1-0547   PointSource    PowerLaw          0.000  15198.92      7592.3\n",
      "4FGL J1243.9-0218   PointSource    LogParabola       4.627     11.89        38.6\n",
      "4FGL J1315.9-0732   PointSource    LogParabola       5.216     17.13        37.1\n",
      "4FGL J1234.7-0434   PointSource    PowerLaw          5.469      4.19        26.1\n",
      "4FGL J1256.2-1146   PointSource    PowerLaw          5.987     35.76        87.0\n",
      "4FGL J1322.3-0606   PointSource    LogParabola       6.518     11.59        18.7\n",
      "4FGL J1233.7-0144   PointSource    PowerLaw          6.904     28.03       107.1\n",
      "4FGL J1310.2-1158   PointSource    PowerLaw          7.100     14.79        47.8\n",
      "4FGL J1311.0+0034   PointSource    PowerLaw          7.357     24.23        77.5\n",
      "4FGL J1322.6-0936   PointSource    LogParabola       7.592     95.43       361.4\n",
      "4FGL J1312.7+0050   PointSource    PLSuperExpCuto    7.818    133.27       151.4\n",
      "4FGL J1318.7-1234   PointSource    LogParabola       8.788      7.90        30.2\n",
      "4FGL J1332.0-0509   PointSource    LogParabola       8.959     12.16       184.4\n",
      "4FGL J1229.0+0202   PointSource    LogParabola      10.351   1815.59      1612.6\n",
      "4FGL J1231.1-1412   PointSource    PLSuperExpCuto   10.417     14.21       108.0\n",
      "4FGL J1332.6-1256   PointSource    LogParabola      11.486     26.59       218.7\n",
      "isodiff             ConstantValue  FileFunction      -----    446.75      7358.2\n",
      "galdiff             MapCubeFunctio PowerLaw          -----   4271.03     15909.3\n",
      "\n"
     ]
    }
   ],
   "source": [
    "gta.print_roi()"
   ]
  },
  {
   "cell_type": "code",
   "execution_count": 19,
   "metadata": {},
   "outputs": [],
   "source": [
    "source = gta.roi.get_source_by_name('4FGL J1256.1-0547')"
   ]
  },
  {
   "cell_type": "code",
   "execution_count": 20,
   "metadata": {},
   "outputs": [
    {
     "name": "stdout",
     "output_type": "stream",
     "text": [
      "Name           : 4FGL J1256.1-0547\n",
      "Associations   : ['4FGL J1256.1-0547']\n",
      "RA/DEC         :    194.042/    -5.789\n",
      "GLON/GLAT      :    305.095/    57.063\n",
      "TS             : 15198.92\n",
      "Npred          : 7592.29\n",
      "Flux           : 6.543e-07 +/-  1.1e-08\n",
      "EnergyFlux     : 0.0002813 +/- 6.41e-06\n",
      "SpatialModel   : PointSource\n",
      "SpectrumType   : PowerLaw\n",
      "Spectral Parameters\n",
      "b'Prefactor'   :  5.304e-11 +/-  1.027e-12\n",
      "b'Index'       :     -2.224 +/-     0.0142\n",
      "b'Scale'       :      954.1 +/-        nan\n"
     ]
    }
   ],
   "source": [
    "print(source)"
   ]
  },
  {
   "cell_type": "code",
   "execution_count": 21,
   "metadata": {},
   "outputs": [],
   "source": [
    "E = np.array(source['model_flux']['energies'])\n",
    "dnde = np.array(source['model_flux']['dnde'])\n",
    "dnde_hi = np.array(source['model_flux']['dnde_hi'])\n",
    "dnde_lo = np.array(source['model_flux']['dnde_lo'])"
   ]
  },
  {
   "cell_type": "code",
   "execution_count": 22,
   "metadata": {},
   "outputs": [
    {
     "data": {
      "image/png": "[encoded data removed]",
      "text/plain": [
       "<Figure size 432x288 with 1 Axes>"
      ]
     },
     "metadata": {
      "needs_background": "light"
     },
     "output_type": "display_data"
    }
   ],
   "source": [
    "plt.loglog(E, (E**2)*dnde, 'k--')\n",
    "plt.loglog(E, (E**2)*dnde_hi, 'k')\n",
    "plt.loglog(E, (E**2)*dnde_lo, 'k')\n",
    "plt.errorbar(sed['e_ctr'][:-4],\n",
    "             sed['e2dnde'][:-4], \n",
    "             yerr=sed['e2dnde_err'][:-4], fmt ='o')\n",
    "plt.errorbar(np.array(sed['e_ctr'][-4:]),\n",
    "         sed['e2dnde_ul95'][-4:], yerr=0.2*sed['e2dnde_ul95'][-4:], \n",
    "             fmt='o', uplims=True)\n",
    "plt.xlabel('E [MeV]')\n",
    "plt.ylabel(r'E$^{2}$ dN/dE [MeV cm$^{-2}$ s$^{-1}$]')\n",
    "plt.show()"
   ]
  },
  {
   "cell_type": "markdown",
   "metadata": {
    "collapsed": true
   },
   "source": [
    "## Likelihood ratio test"
   ]
  },
  {
   "cell_type": "code",
   "execution_count": 23,
   "metadata": {},
   "outputs": [
    {
     "name": "stdout",
     "output_type": "stream",
     "text": [
      "-138379.44135239255\n",
      "-138395.68718150764\n"
     ]
    }
   ],
   "source": [
    "TS = -2*(fit2['loglike'] - fit['loglike'])\n",
    "print(fit['loglike'])\n",
    "print(fit2['loglike'])"
   ]
  },
  {
   "cell_type": "code",
   "execution_count": 24,
   "metadata": {},
   "outputs": [
    {
     "data": {
      "text/plain": [
       "32.49165823019575"
      ]
     },
     "execution_count": 24,
     "metadata": {},
     "output_type": "execute_result"
    }
   ],
   "source": [
    "TS"
   ]
  },
  {
   "cell_type": "markdown",
   "metadata": {},
   "source": [
    "Is this significant?"
   ]
  },
  {
   "cell_type": "markdown",
   "metadata": {
    "collapsed": true
   },
   "source": [
    "## Quicker way..."
   ]
  },
  {
   "cell_type": "code",
   "execution_count": 25,
   "metadata": {},
   "outputs": [
    {
     "name": "stderr",
     "output_type": "stream",
     "text": [
      "2022-05-25 17:04:42 INFO    GTAnalysis.curvature(): LogLike_PL:  -138395.687 LogLike_LP:  -138380.159 LogLike_PLSC:  -138382.132 LogLike_PLSC_free:  -138380.187\n",
      "2022-05-25 17:04:42 INFO    GTAnalysis.curvature(): TS_curv:        31.056 (LP)\n",
      "2022-05-25 17:04:42 INFO    GTAnalysis.curvature(): TS_curv:        27.110 (PLSC, Index2 = 0.667)\n",
      "2022-05-25 17:04:42 INFO    GTAnalysis.curvature(): TS_curv:        31.000 (PLSC, free Index2)\n"
     ]
    },
    {
     "data": {
      "text/plain": [
       "MutableNamedTuple([('ts_curv', 31.055959390301723),\n",
       "                   ('lp_ts_curv', 31.055959390301723),\n",
       "                   ('ple_ts_curv', 27.10975711856736),\n",
       "                   ('ple_free_ts_curv', 30.999850026506465),\n",
       "                   ('loglike_pl', -138395.6871814222),\n",
       "                   ('loglike_lp', -138380.15920172705),\n",
       "                   ('loglike_ple', -138382.1323028629),\n",
       "                   ('loglike_ple_free', -138380.18725640894)])"
      ]
     },
     "execution_count": 25,
     "metadata": {},
     "output_type": "execute_result"
    }
   ],
   "source": [
    "gta.curvature(\"4FGL J1256.1-0547\", Index2=0.6667, free_Index2=True)"
   ]
  },
  {
   "cell_type": "code",
   "execution_count": 26,
   "metadata": {},
   "outputs": [
    {
     "name": "stdout",
     "output_type": "stream",
     "text": [
      "Help on method curvature in module fermipy.gtanalysis:\n",
      "\n",
      "curvature(name, **kwargs) method of fermipy.gtanalysis.GTAnalysis instance\n",
      "    Test whether a source shows spectral curvature by comparing\n",
      "    the likelihood ratio of PowerLaw and LogParabola spectral\n",
      "    models.\n",
      "    \n",
      "    Parameters\n",
      "    ----------\n",
      "    name : str\n",
      "        Source name.\n",
      "        \n",
      "    Index2: double\n",
      "        Exponent for super-exponential cutoff PL test. Default: 2/3\n",
      "        \n",
      "    free_Index2: bool\n",
      "        Test also super-exponential cutoff PL with free index.\n",
      "        Only recommended for sources with high TS.\n",
      "\n"
     ]
    }
   ],
   "source": [
    "help(gta.curvature)"
   ]
  },
  {
   "cell_type": "code",
   "execution_count": null,
   "metadata": {},
   "outputs": [],
   "source": []
  }
 ],
 "metadata": {
  "kernelspec": {
   "display_name": "Python 3 (ipykernel)",
   "language": "python",
   "name": "python3"
  },
  "language_info": {
   "codemirror_mode": {
    "name": "ipython",
    "version": 3
   },
   "file_extension": ".py",
   "mimetype": "text/x-python",
   "name": "python",
   "nbconvert_exporter": "python",
   "pygments_lexer": "ipython3",
   "version": "3.9.12"
  }
 },
 "nbformat": 4,
 "nbformat_minor": 2
}
