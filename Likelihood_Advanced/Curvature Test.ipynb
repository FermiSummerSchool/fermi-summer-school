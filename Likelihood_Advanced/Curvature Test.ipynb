{
 "cells": [
  {
   "cell_type": "markdown",
   "metadata": {},
   "source": [
    "## Testing for curvature \n",
    "\n",
    "This notebook shows how to test for spectral curvature in a source.  It also details how to reload data from a fermipy save file."
   ]
  },
  {
   "cell_type": "code",
   "execution_count": 1,
   "metadata": {},
   "outputs": [],
   "source": [
    "%matplotlib inline\n",
    "import matplotlib.pyplot as plt\n",
    "import matplotlib\n",
    "import numpy as np"
   ]
  },
  {
   "cell_type": "code",
   "execution_count": 2,
   "metadata": {},
   "outputs": [],
   "source": [
    "from fermipy.gtanalysis import GTAnalysis"
   ]
  },
  {
   "cell_type": "markdown",
   "metadata": {},
   "source": [
    "## Load the old anlaysis\n",
    "\n",
    "This is the save file from where we left off."
   ]
  },
  {
   "cell_type": "code",
   "execution_count": 3,
   "metadata": {},
   "outputs": [
    {
     "name": "stderr",
     "output_type": "stream",
     "text": [
      "2019-05-31 18:49:16 INFO    GTAnalysis.__init__(): \n",
      "--------------------------------------------------------------------------------\n",
      "fermipy version 0.17.4 \n",
      "ScienceTools version ScienceTools-11-04-00\n",
      "2019-05-31 18:49:19 INFO    GTAnalysis.setup(): Running setup.\n",
      "2019-05-31 18:49:19 INFO    GTBinnedAnalysis.setup(): Running setup for component 00\n",
      "2019-05-31 18:49:19 INFO    GTBinnedAnalysis._select_data(): Skipping data selection.\n",
      "2019-05-31 18:49:19 INFO    GTBinnedAnalysis._create_ltcube(): Skipping LT Cube.\n",
      "2019-05-31 18:49:19 INFO    GTBinnedAnalysis._create_expcube(): Skipping gtexpcube.\n",
      "WARNING: FITSFixedWarning: RADECSYS= 'FK5 ' \n",
      "the RADECSYS keyword is deprecated, use RADESYSa. [astropy.wcs.wcs]\n",
      "2019-05-31 18:49:19 INFO    GTBinnedAnalysis._create_srcmaps(): Skipping gtsrcmaps.\n",
      "2019-05-31 18:49:19 INFO    GTBinnedAnalysis.setup(): Finished setup for component 00\n",
      "2019-05-31 18:49:19 INFO    GTBinnedAnalysis.setup(): Running setup for component 01\n",
      "2019-05-31 18:49:19 INFO    GTBinnedAnalysis._select_data(): Skipping data selection.\n",
      "2019-05-31 18:49:19 INFO    GTBinnedAnalysis._create_ltcube(): Skipping LT Cube.\n",
      "2019-05-31 18:49:20 INFO    GTBinnedAnalysis._create_expcube(): Skipping gtexpcube.\n",
      "2019-05-31 18:49:20 INFO    GTBinnedAnalysis._create_srcmaps(): Skipping gtsrcmaps.\n",
      "2019-05-31 18:49:20 INFO    GTBinnedAnalysis.setup(): Finished setup for component 01\n",
      "2019-05-31 18:49:20 INFO    GTBinnedAnalysis.setup(): Running setup for component 02\n",
      "2019-05-31 18:49:20 INFO    GTBinnedAnalysis._select_data(): Skipping data selection.\n",
      "2019-05-31 18:49:20 INFO    GTBinnedAnalysis._create_ltcube(): Skipping LT Cube.\n",
      "2019-05-31 18:49:21 INFO    GTBinnedAnalysis._create_expcube(): Skipping gtexpcube.\n",
      "2019-05-31 18:49:21 INFO    GTBinnedAnalysis._create_srcmaps(): Skipping gtsrcmaps.\n",
      "2019-05-31 18:49:21 INFO    GTBinnedAnalysis.setup(): Finished setup for component 02\n",
      "2019-05-31 18:49:21 INFO    GTBinnedAnalysis.setup(): Running setup for component 03\n",
      "2019-05-31 18:49:21 INFO    GTBinnedAnalysis._select_data(): Skipping data selection.\n",
      "2019-05-31 18:49:21 INFO    GTBinnedAnalysis._create_ltcube(): Skipping LT Cube.\n",
      "2019-05-31 18:49:22 INFO    GTBinnedAnalysis._create_expcube(): Skipping gtexpcube.\n",
      "2019-05-31 18:49:22 INFO    GTBinnedAnalysis._create_srcmaps(): Skipping gtsrcmaps.\n",
      "2019-05-31 18:49:22 INFO    GTBinnedAnalysis.setup(): Finished setup for component 03\n",
      "2019-05-31 18:49:22 INFO    GTBinnedAnalysis._create_binned_analysis(): Creating BinnedAnalysis for component 00.\n",
      "2019-05-31 18:49:51 INFO    GTBinnedAnalysis._create_binned_analysis(): Creating BinnedAnalysis for component 01.\n",
      "2019-05-31 18:50:17 INFO    GTBinnedAnalysis._create_binned_analysis(): Creating BinnedAnalysis for component 02.\n",
      "2019-05-31 18:50:44 INFO    GTBinnedAnalysis._create_binned_analysis(): Creating BinnedAnalysis for component 03.\n",
      "2019-05-31 18:51:17 INFO    GTAnalysis.setup(): Finished setup.\n",
      "2019-05-31 18:51:17 INFO    GTAnalysis.load_roi(): Loading ROI file: /data/fermi-summer-school/Likelihood_Advanced/data/fit2_sed.npy\n",
      "2019-05-31 18:51:18 INFO    GTBinnedAnalysis._create_binned_analysis(): Creating BinnedAnalysis for component 00.\n",
      "2019-05-31 18:51:35 INFO    GTBinnedAnalysis._create_binned_analysis(): Creating BinnedAnalysis for component 01.\n",
      "2019-05-31 18:51:54 INFO    GTBinnedAnalysis._create_binned_analysis(): Creating BinnedAnalysis for component 02.\n",
      "2019-05-31 18:52:11 INFO    GTBinnedAnalysis._create_binned_analysis(): Creating BinnedAnalysis for component 03.\n",
      "2019-05-31 18:52:35 INFO    GTAnalysis.load_roi(): Finished Loading ROI\n"
     ]
    }
   ],
   "source": [
    "gta = GTAnalysis.create('data/fit2_sed.npy')"
   ]
  },
  {
   "cell_type": "code",
   "execution_count": 4,
   "metadata": {},
   "outputs": [
    {
     "name": "stderr",
     "output_type": "stream",
     "text": [
      "2019-05-31 18:53:33 INFO    GTAnalysis.print_roi(): \n",
      "name                SpatialModel   SpectrumType     offset        ts       npred\n",
      "--------------------------------------------------------------------------------\n",
      "FL8Y J1256.1-0547   PointSource    LogParabola       0.000  14198.13      7912.0\n",
      "FL8Y J1258.7-0452   PointSource    PowerLaw          1.120      2.89        10.6\n",
      "FL8Y J1249.3-0546   PointSource    PowerLaw          1.696      6.98       105.8\n",
      "FL8Y J1304.4-0358   PointSource    PowerLaw          2.761      5.63       100.9\n",
      "FL8Y J1243.9-0218   PointSource    PowerLaw          4.629     13.58        82.7\n",
      "FL8Y J1315.9-0732   PointSource    PowerLaw          5.215     17.28        61.6\n",
      "FL8Y J1234.7-0433   PointSource    PowerLaw          5.463      3.90        28.3\n",
      "FL8Y J1256.2-1146   PointSource    PowerLaw          5.983     32.48       102.0\n",
      "FL8Y J1322.3-0606   PointSource    PowerLaw          6.529      6.23        30.3\n",
      "FL8Y J1233.7-0144   PointSource    PowerLaw          6.905     26.36       119.3\n",
      "FL8Y J1310.2-1158   PointSource    PowerLaw          7.100     11.55        33.4\n",
      "FL8Y J1228.8-0317   PointSource    PowerLaw          7.260      3.48        52.9\n",
      "FL8Y J1310.9+0033   PointSource    PowerLaw          7.354     17.11        56.4\n",
      "FL8Y J1238.5-1159   PointSource    PowerLaw          7.564      4.30        87.3\n",
      "FL8Y J1322.6-0938   PointSource    PowerLaw          7.603    125.11       457.1\n",
      "FL8Y J1312.7+0050   PointSource    PLSuperExpCuto    7.827    115.66       158.3\n",
      "FL8Y J1224.0-0544   PointSource    PowerLaw          7.980      3.26        83.5\n",
      "FL8Y J1245.8+0232   PointSource    PowerLaw          8.720      3.96        93.7\n",
      "FL8Y J1318.7-1234   PointSource    PowerLaw          8.781      6.77        43.2\n",
      "FL8Y J1332.0-0509   PointSource    LogParabola       8.960     32.23       302.9\n",
      "FL8Y J1229.0+0202   PointSource    LogParabola      10.347   1838.41      1663.1\n",
      "FL8Y J1231.1-1412   PointSource    PLSuperExpCuto   10.414     24.52       149.5\n",
      "FL8Y J1216.6-1030   PointSource    PowerLaw         10.861      3.36        88.8\n",
      "FL8Y J1332.6-1256   PointSource    LogParabola      11.487     38.50       269.2\n",
      "galdiff             MapCubeFunctio PowerLaw          -----   1662.01     10692.5\n",
      "isodiff             ConstantValue  FileFunction      -----   1947.40     13507.7\n",
      "\n"
     ]
    }
   ],
   "source": [
    "gta.print_roi()"
   ]
  },
  {
   "cell_type": "code",
   "execution_count": 5,
   "metadata": {},
   "outputs": [
    {
     "name": "stderr",
     "output_type": "stream",
     "text": [
      "2019-05-31 18:53:39 INFO    GTAnalysis.fit(): Starting fit.\n",
      "2019-05-31 18:53:39 INFO    GTAnalysis.fit(): Skipping fit.  No free parameters.\n"
     ]
    }
   ],
   "source": [
    "fit = gta.fit()"
   ]
  },
  {
   "cell_type": "code",
   "execution_count": 6,
   "metadata": {},
   "outputs": [
    {
     "data": {
      "text/plain": [
       "{'config': {'covar': True,\n",
       "  'init_lambda': 0.0001,\n",
       "  'max_iter': 100,\n",
       "  'min_fit_quality': 2,\n",
       "  'optimizer': 'MINUIT',\n",
       "  'reoptimize': False,\n",
       "  'retries': 3,\n",
       "  'tol': 0.001,\n",
       "  'verbosity': 0},\n",
       " 'correlation': None,\n",
       " 'covariance': None,\n",
       " 'dloglike': 0.0,\n",
       " 'edm': 0.0,\n",
       " 'errors': array([], dtype=float64),\n",
       " 'fit_quality': 3,\n",
       " 'fit_status': 0,\n",
       " 'fit_success': True,\n",
       " 'indices': array([], dtype=int64),\n",
       " 'is_norm': array([], dtype=bool),\n",
       " 'loglike': -146710.03606467778,\n",
       " 'par_names': [],\n",
       " 'src_names': [],\n",
       " 'values': array([], dtype=float64)}"
      ]
     },
     "execution_count": 6,
     "metadata": {},
     "output_type": "execute_result"
    }
   ],
   "source": [
    "fit"
   ]
  },
  {
   "cell_type": "markdown",
   "metadata": {},
   "source": [
    "## Load the SED\n",
    "\n",
    "We calculated the SED before."
   ]
  },
  {
   "cell_type": "code",
   "execution_count": 7,
   "metadata": {},
   "outputs": [],
   "source": [
    "c = np.load('data/fit2_sed.npy').flat[0]"
   ]
  },
  {
   "cell_type": "code",
   "execution_count": 9,
   "metadata": {},
   "outputs": [],
   "source": [
    "E = np.array(c['sources']['FL8Y J1256.1-0547']['model_flux']['energies'])\n",
    "dnde = np.array(c['sources']['FL8Y J1256.1-0547']['model_flux']['dnde'])\n",
    "dnde_hi = np.array(c['sources']['FL8Y J1256.1-0547']['model_flux']['dnde_hi'])\n",
    "dnde_lo = np.array(c['sources']['FL8Y J1256.1-0547']['model_flux']['dnde_lo'])"
   ]
  },
  {
   "cell_type": "code",
   "execution_count": 10,
   "metadata": {},
   "outputs": [],
   "source": [
    "sed = np.load('data/fl8y_j1256.1-0547_sed.npy').flat[0]"
   ]
  },
  {
   "cell_type": "code",
   "execution_count": 11,
   "metadata": {},
   "outputs": [
    {
     "data": {
      "image/png": "[encoded data removed]",
      "text/plain": [
       "<matplotlib.figure.Figure at 0x7f58fa9479d0>"
      ]
     },
     "metadata": {
      "needs_background": "light"
     },
     "output_type": "display_data"
    }
   ],
   "source": [
    "plt.loglog(E, (E**2)*dnde, 'k--')\n",
    "plt.loglog(E, (E**2)*dnde_hi, 'k')\n",
    "plt.loglog(E, (E**2)*dnde_lo, 'k')\n",
    "plt.errorbar(sed['e_ctr'][:-4],\n",
    "             sed['e2dnde'][:-4], \n",
    "             yerr=sed['e2dnde_err'][:-4], fmt ='o')\n",
    "plt.errorbar(np.array(sed['e_ctr'][-4:]),\n",
    "         sed['e2dnde_ul95'][-4:], yerr=0.2*sed['e2dnde_ul95'][-4:], \n",
    "             fmt='o', uplims=True)\n",
    "plt.xlabel('E [MeV]')\n",
    "plt.ylabel(r'E$^{2}$ dN/dE [MeV cm$^{-2}$ s$^{-1}$]')\n",
    "plt.show()"
   ]
  },
  {
   "cell_type": "code",
   "execution_count": 12,
   "metadata": {},
   "outputs": [
    {
     "name": "stderr",
     "output_type": "stream",
     "text": [
      "2019-05-31 18:54:47 INFO    GTAnalysis.delete_source(): Deleting source FL8Y J1256.1-0547\n"
     ]
    }
   ],
   "source": [
    "src_logpar = gta.delete_source('FL8Y J1256.1-0547')"
   ]
  },
  {
   "cell_type": "code",
   "execution_count": 13,
   "metadata": {},
   "outputs": [
    {
     "name": "stderr",
     "output_type": "stream",
     "text": [
      "2019-05-31 18:54:51 INFO    GTAnalysis.add_source(): Adding source FL8Y J1256.1-0547\n"
     ]
    }
   ],
   "source": [
    "gta.add_source(src_logpar['name'],{ 'ra' : src_logpar['ra'], 'dec' : src_logpar['dec'],\n",
    "                 'SpectrumType' : 'PowerLaw', 'Index' : 2.0,\n",
    "                 'Scale' : 1000, 'Prefactor' : 1e-11,\n",
    "                 'SpatialModel' : 'PointSource' })"
   ]
  },
  {
   "cell_type": "code",
   "execution_count": 14,
   "metadata": {},
   "outputs": [
    {
     "name": "stderr",
     "output_type": "stream",
     "text": [
      "2019-05-31 18:55:34 INFO    GTAnalysis.print_roi(): \n",
      "name                SpatialModel   SpectrumType     offset        ts       npred\n",
      "--------------------------------------------------------------------------------\n",
      "FL8Y J1256.1-0547   PointSource    PowerLaw          0.000       nan      1203.7\n",
      "FL8Y J1258.7-0452   PointSource    PowerLaw          1.120      2.89        10.6\n",
      "FL8Y J1249.3-0546   PointSource    PowerLaw          1.696      6.98       105.8\n",
      "FL8Y J1304.4-0358   PointSource    PowerLaw          2.761      5.63       100.9\n",
      "FL8Y J1243.9-0218   PointSource    PowerLaw          4.629     13.58        82.7\n",
      "FL8Y J1315.9-0732   PointSource    PowerLaw          5.215     17.28        61.6\n",
      "FL8Y J1234.7-0433   PointSource    PowerLaw          5.463      3.90        28.3\n",
      "FL8Y J1256.2-1146   PointSource    PowerLaw          5.983     32.48       102.0\n",
      "FL8Y J1322.3-0606   PointSource    PowerLaw          6.529      6.23        30.3\n",
      "FL8Y J1233.7-0144   PointSource    PowerLaw          6.905     26.36       119.3\n",
      "FL8Y J1310.2-1158   PointSource    PowerLaw          7.100     11.55        33.4\n",
      "FL8Y J1228.8-0317   PointSource    PowerLaw          7.260      3.48        52.9\n",
      "FL8Y J1310.9+0033   PointSource    PowerLaw          7.354     17.11        56.4\n",
      "FL8Y J1238.5-1159   PointSource    PowerLaw          7.564      4.30        87.3\n",
      "FL8Y J1322.6-0938   PointSource    PowerLaw          7.603    125.11       457.1\n",
      "FL8Y J1312.7+0050   PointSource    PLSuperExpCuto    7.827    115.66       158.3\n",
      "FL8Y J1224.0-0544   PointSource    PowerLaw          7.980      3.26        83.5\n",
      "FL8Y J1245.8+0232   PointSource    PowerLaw          8.720      3.96        93.7\n",
      "FL8Y J1318.7-1234   PointSource    PowerLaw          8.781      6.77        43.2\n",
      "FL8Y J1332.0-0509   PointSource    LogParabola       8.960     32.23       302.9\n",
      "FL8Y J1229.0+0202   PointSource    LogParabola      10.347   1838.41      1663.1\n",
      "FL8Y J1231.1-1412   PointSource    PLSuperExpCuto   10.414     24.52       149.5\n",
      "FL8Y J1216.6-1030   PointSource    PowerLaw         10.861      3.36        88.8\n",
      "FL8Y J1332.6-1256   PointSource    LogParabola      11.487     38.50       269.2\n",
      "galdiff             MapCubeFunctio PowerLaw          -----   1662.01     10692.5\n",
      "isodiff             ConstantValue  FileFunction      -----   1947.40     13507.7\n",
      "\n"
     ]
    }
   ],
   "source": [
    "gta.print_roi()"
   ]
  },
  {
   "cell_type": "code",
   "execution_count": 15,
   "metadata": {},
   "outputs": [
    {
     "name": "stderr",
     "output_type": "stream",
     "text": [
      "2019-05-31 18:55:44 INFO    GTAnalysis.free_source(): Freeing parameters for FL8Y J1256.1-0547     : ['Index']\n"
     ]
    }
   ],
   "source": [
    "gta.free_source('FL8Y J1256.1-0547', pars=['Prefactor','Index'])"
   ]
  },
  {
   "cell_type": "code",
   "execution_count": 16,
   "metadata": {},
   "outputs": [
    {
     "name": "stderr",
     "output_type": "stream",
     "text": [
      "2019-05-31 18:55:45 INFO    GTAnalysis.fit(): Starting fit.\n",
      "2019-05-31 18:55:47 INFO    GTAnalysis.fit(): Fit returned successfully. Quality:   3 Status:   0\n",
      "2019-05-31 18:55:47 INFO    GTAnalysis.fit(): LogLike:  -146722.878 DeltaLogLike:     3295.883 \n"
     ]
    }
   ],
   "source": [
    "fit2 = gta.fit()"
   ]
  },
  {
   "cell_type": "code",
   "execution_count": 17,
   "metadata": {},
   "outputs": [
    {
     "data": {
      "text/plain": [
       "{'config': {'covar': True,\n",
       "  'init_lambda': 0.0001,\n",
       "  'max_iter': 100,\n",
       "  'min_fit_quality': 2,\n",
       "  'optimizer': 'MINUIT',\n",
       "  'reoptimize': False,\n",
       "  'retries': 3,\n",
       "  'tol': 0.001,\n",
       "  'verbosity': 0},\n",
       " 'correlation': array([[ 1.        , -0.67691226],\n",
       "        [-0.67691226,  1.        ]]),\n",
       " 'covariance': array([[ 0.00992405, -0.00097631],\n",
       "        [-0.00097631,  0.00020961]]),\n",
       " 'dloglike': 3295.8832549688814,\n",
       " 'edm': 2.13151019902105e-11,\n",
       " 'errors': array([ 0.09961954,  0.01447805]),\n",
       " 'fit_quality': 3,\n",
       " 'fit_status': 0,\n",
       " 'fit_success': True,\n",
       " 'indices': array([36, 37]),\n",
       " 'is_norm': array([ True, False], dtype=bool),\n",
       " 'loglike': -146722.87795475972,\n",
       " 'niter': 3,\n",
       " 'par_names': ['Prefactor', 'Index'],\n",
       " 'src_names': ['FL8Y J1256.1-0547', 'FL8Y J1256.1-0547'],\n",
       " 'values': array([ 5.07505639,  2.25869935])}"
      ]
     },
     "execution_count": 17,
     "metadata": {},
     "output_type": "execute_result"
    }
   ],
   "source": [
    "fit2"
   ]
  },
  {
   "cell_type": "code",
   "execution_count": 18,
   "metadata": {},
   "outputs": [
    {
     "name": "stderr",
     "output_type": "stream",
     "text": [
      "2019-05-31 18:55:52 INFO    GTAnalysis.print_roi(): \n",
      "name                SpatialModel   SpectrumType     offset        ts       npred\n",
      "--------------------------------------------------------------------------------\n",
      "FL8Y J1256.1-0547   PointSource    PowerLaw          0.000  16223.76      7931.0\n",
      "FL8Y J1258.7-0452   PointSource    PowerLaw          1.120      2.89        10.6\n",
      "FL8Y J1249.3-0546   PointSource    PowerLaw          1.696      6.98       105.8\n",
      "FL8Y J1304.4-0358   PointSource    PowerLaw          2.761      5.63       100.9\n",
      "FL8Y J1243.9-0218   PointSource    PowerLaw          4.629     13.58        82.7\n",
      "FL8Y J1315.9-0732   PointSource    PowerLaw          5.215     17.28        61.6\n",
      "FL8Y J1234.7-0433   PointSource    PowerLaw          5.463      3.90        28.3\n",
      "FL8Y J1256.2-1146   PointSource    PowerLaw          5.983     32.48       102.0\n",
      "FL8Y J1322.3-0606   PointSource    PowerLaw          6.529      6.23        30.3\n",
      "FL8Y J1233.7-0144   PointSource    PowerLaw          6.905     26.36       119.3\n",
      "FL8Y J1310.2-1158   PointSource    PowerLaw          7.100     11.55        33.4\n",
      "FL8Y J1228.8-0317   PointSource    PowerLaw          7.260      3.48        52.9\n",
      "FL8Y J1310.9+0033   PointSource    PowerLaw          7.354     17.11        56.4\n",
      "FL8Y J1238.5-1159   PointSource    PowerLaw          7.564      4.30        87.3\n",
      "FL8Y J1322.6-0938   PointSource    PowerLaw          7.603    125.11       457.1\n",
      "FL8Y J1312.7+0050   PointSource    PLSuperExpCuto    7.827    115.66       158.3\n",
      "FL8Y J1224.0-0544   PointSource    PowerLaw          7.980      3.26        83.5\n",
      "FL8Y J1245.8+0232   PointSource    PowerLaw          8.720      3.96        93.7\n",
      "FL8Y J1318.7-1234   PointSource    PowerLaw          8.781      6.77        43.2\n",
      "FL8Y J1332.0-0509   PointSource    LogParabola       8.960     32.23       302.9\n",
      "FL8Y J1229.0+0202   PointSource    LogParabola      10.347   1838.41      1663.1\n",
      "FL8Y J1231.1-1412   PointSource    PLSuperExpCuto   10.414     24.52       149.5\n",
      "FL8Y J1216.6-1030   PointSource    PowerLaw         10.861      3.36        88.8\n",
      "FL8Y J1332.6-1256   PointSource    LogParabola      11.487     38.50       269.2\n",
      "galdiff             MapCubeFunctio PowerLaw          -----   1662.01     10692.5\n",
      "isodiff             ConstantValue  FileFunction      -----   1947.40     13507.7\n",
      "\n"
     ]
    }
   ],
   "source": [
    "gta.print_roi()"
   ]
  },
  {
   "cell_type": "code",
   "execution_count": 19,
   "metadata": {},
   "outputs": [],
   "source": [
    "source = gta.roi.get_source_by_name('FL8Y J1256.1-0547')"
   ]
  },
  {
   "cell_type": "code",
   "execution_count": 20,
   "metadata": {},
   "outputs": [
    {
     "name": "stdout",
     "output_type": "stream",
     "text": [
      "Name           : FL8Y J1256.1-0547\n",
      "Associations   : ['FL8Y J1256.1-0547']\n",
      "RA/DEC         :    194.041/    -5.792\n",
      "GLON/GLAT      :    305.093/    57.060\n",
      "TS             : 16223.76\n",
      "Npred          : 7931.04\n",
      "Flux           : 7.319e-07 +/- 1.23e-08\n",
      "EnergyFlux     : 0.0002963 +/- 6.34e-06\n",
      "SpatialModel   : PointSource\n",
      "SpectrumType   : PowerLaw\n",
      "Spectral Parameters\n",
      "Prefactor      :  5.075e-11 +/-  9.962e-13\n",
      "Index          :     -2.259 +/-    0.01448\n",
      "Scale          :       1000 +/-        nan\n"
     ]
    }
   ],
   "source": [
    "print source"
   ]
  },
  {
   "cell_type": "code",
   "execution_count": 21,
   "metadata": {},
   "outputs": [],
   "source": [
    "E = np.array(source['model_flux']['energies'])\n",
    "dnde = np.array(source['model_flux']['dnde'])\n",
    "dnde_hi = np.array(source['model_flux']['dnde_hi'])\n",
    "dnde_lo = np.array(source['model_flux']['dnde_lo'])"
   ]
  },
  {
   "cell_type": "code",
   "execution_count": 22,
   "metadata": {},
   "outputs": [
    {
     "data": {
      "image/png": "[encoded data removed]",
      "text/plain": [
       "<matplotlib.figure.Figure at 0x7f58f9af5d50>"
      ]
     },
     "metadata": {
      "needs_background": "light"
     },
     "output_type": "display_data"
    }
   ],
   "source": [
    "plt.loglog(E, (E**2)*dnde, 'k--')\n",
    "plt.loglog(E, (E**2)*dnde_hi, 'k')\n",
    "plt.loglog(E, (E**2)*dnde_lo, 'k')\n",
    "plt.errorbar(sed['e_ctr'][:-4],\n",
    "             sed['e2dnde'][:-4], \n",
    "             yerr=sed['e2dnde_err'][:-4], fmt ='o')\n",
    "plt.errorbar(np.array(sed['e_ctr'][-4:]),\n",
    "         sed['e2dnde_ul95'][-4:], yerr=0.2*sed['e2dnde_ul95'][-4:], \n",
    "             fmt='o', uplims=True)\n",
    "plt.xlabel('E [MeV]')\n",
    "plt.ylabel(r'E$^{2}$ dN/dE [MeV cm$^{-2}$ s$^{-1}$]')\n",
    "plt.show()"
   ]
  },
  {
   "cell_type": "markdown",
   "metadata": {
    "collapsed": true
   },
   "source": [
    "## Likelihood ratio test"
   ]
  },
  {
   "cell_type": "code",
   "execution_count": 23,
   "metadata": {},
   "outputs": [],
   "source": [
    "TS = -2*(fit2['loglike'] - fit['loglike'])"
   ]
  },
  {
   "cell_type": "code",
   "execution_count": 24,
   "metadata": {},
   "outputs": [
    {
     "data": {
      "text/plain": [
       "25.68378016387578"
      ]
     },
     "execution_count": 24,
     "metadata": {},
     "output_type": "execute_result"
    }
   ],
   "source": [
    "TS"
   ]
  },
  {
   "cell_type": "markdown",
   "metadata": {},
   "source": [
    "Is this significant?"
   ]
  },
  {
   "cell_type": "code",
   "execution_count": null,
   "metadata": {
    "collapsed": true
   },
   "outputs": [],
   "source": []
  }
 ],
 "metadata": {
  "kernelspec": {
   "display_name": "Python 2",
   "language": "python",
   "name": "python2"
  },
  "language_info": {
   "codemirror_mode": {
    "name": "ipython",
    "version": 2
   },
   "file_extension": ".py",
   "mimetype": "text/x-python",
   "name": "python",
   "nbconvert_exporter": "python",
   "pygments_lexer": "ipython2",
   "version": "2.7.14"
  }
 },
 "nbformat": 4,
 "nbformat_minor": 2
}
