{
 "metadata": {
  "name": "Data Exploration"
 },
 "nbformat": 3,
 "nbformat_minor": 0,
 "worksheets": [
  {
   "cells": [
    {
     "cell_type": "markdown",
     "metadata": {},
     "source": [
      "FSSC Science Tools\n",
      "=========================\n",
      "Data Retrieval, Selection and Exploration\n",
      "-------------------------"
     ]
    },
    {
     "cell_type": "markdown",
     "metadata": {},
     "source": [
      "Where do we start?\n",
      "---------------------------\n",
      "\n",
      "Go to the [FSSC Website](http://fermi.gsfc.nasa.gov/ssc/)&rarr;[Data](http://fermi.gsfc.nasa.gov/ssc/data/)&rarr;[Documenation](http://fermi.gsfc.nasa.gov/ssc/data/analysis/documentation/)\n"
     ]
    },
    {
     "cell_type": "markdown",
     "metadata": {},
     "source": [
      "###Multiple levels of documentation"
     ]
    },
    {
     "cell_type": "code",
     "collapsed": false,
     "input": [
      "from IPython.display import Image,HTML"
     ],
     "language": "python",
     "metadata": {},
     "outputs": [],
     "prompt_number": 147
    },
    {
     "cell_type": "code",
     "collapsed": false,
     "input": [
      "HTML(\"<iframe src='http://fermi.gsfc.nasa.gov/ssc/data/analysis/documentation/' width='1000' height='500'>\")"
     ],
     "language": "python",
     "metadata": {},
     "outputs": [
      {
       "html": [
        "<iframe src='http://fermi.gsfc.nasa.gov/ssc/data/analysis/documentation/' width='1000' height='500'>"
       ],
       "output_type": "pyout",
       "prompt_number": 152,
       "text": [
        "<IPython.core.display.HTML at 0x10844d510>"
       ]
      }
     ],
     "prompt_number": 152
    },
    {
     "cell_type": "markdown",
     "metadata": {},
     "source": [
      "\n",
      "* Installation \n",
      "    * Details the installation procedure.\n",
      "* Analysis Threads \n",
      "    * Examples of actual science analysis where eyou can follow along step-by-step.\n",
      "* Cicerone \n",
      "    * General information on the satellite and instruments\n",
      "    * Describes instrumentation and data acquisition\n",
      "    * Explains analysis methods\n",
      "* Individual Tool Descriptions \n",
      "    * Explains individual tools in detail\n",
      "    * (Identical to the information available via *fhelp*) "
     ]
    },
    {
     "cell_type": "markdown",
     "metadata": {},
     "source": [
      "### Downloading and installing the software"
     ]
    },
    {
     "cell_type": "markdown",
     "metadata": {},
     "source": [
      "Go to the [FSSC Website](http://fermi.gsfc.nasa.gov/ssc/)&rarr;[Data](http://fermi.gsfc.nasa.gov/ssc/data/)&rarr;[Data Analysis](http://fermi.gsfc.nasa.gov/ssc/data/analysis/)&rarr;[Software Download](http://fermi.gsfc.nasa.gov/ssc/data/analysis/software/)"
     ]
    },
    {
     "cell_type": "markdown",
     "metadata": {},
     "source": [
      "* **Important** things about software installation\n",
      "    * Pay attention to the supported platforms, if yours isn't supported, it probably isn't supported.\n",
      "    * Figure out your distribution with *uname -a*"
     ]
    },
    {
     "cell_type": "code",
     "collapsed": false,
     "input": [
      "%system uname -a"
     ],
     "language": "python",
     "metadata": {},
     "outputs": [
      {
       "output_type": "pyout",
       "prompt_number": 24,
       "text": [
        "['Darwin gs66-malindi 12.3.0 Darwin Kernel Version 12.3.0: Sun Jan  6 22:37:10 PST 2013; root:xnu-2050.22.13~1/RELEASE_X86_64 x86_64']"
       ]
      }
     ],
     "prompt_number": 24
    },
    {
     "cell_type": "markdown",
     "metadata": {},
     "source": [
      "You can see that I'm running on a 64 bit OSX machine and the kernel version is 12.3.0 (Mountain Lion) so I probably should download the MAC OSX 10.8 binary (I could also try to build from source if I wanted)."
     ]
    },
    {
     "cell_type": "markdown",
     "metadata": {},
     "source": [
      "* More **important** things:\n",
      "    * Make sure you read the about any [Known Bugs](http://fermi.gsfc.nasa.gov/ssc/data/analysis/software/KnownBugs_v9r31p1.txt)\n",
      "    * Make sure your read the [Release Notes](http://fermi.gsfc.nasa.gov/ssc/data/analysis/software/ReleaseNotes_Apr24_2013_v0.txt)"
     ]
    },
    {
     "cell_type": "markdown",
     "metadata": {},
     "source": [
      "### Science Analysis Threads\n",
      "Go to the [FSSC Website](http://fermi.gsfc.nasa.gov/ssc/)&rarr;[Data](http://fermi.gsfc.nasa.gov/ssc/data/)&rarr;[Data Analysis](http://fermi.gsfc.nasa.gov/ssc/data/analysis/)&rarr;[Analysis Threads](http://fermi.gsfc.nasa.gov/ssc/data/analysis/scitools/)"
     ]
    },
    {
     "cell_type": "markdown",
     "metadata": {},
     "source": [
      "* What if I'm not at the Summer School?  Where do I start?\n",
      "    * A good place to start is the data analysis threads.  These are step-by-step guides that reproduce actual science results.  \n",
      "    * **The best way to learn how to do something is to do it.**\n",
      "    * Lot's of good stuff:"
     ]
    },
    {
     "cell_type": "code",
     "collapsed": false,
     "input": [
      "HTML(\"<iframe src='http://fermi.gsfc.nasa.gov/ssc/data/analysis/scitools/' width='1000' height='500'>\")"
     ],
     "language": "python",
     "metadata": {},
     "outputs": [
      {
       "html": [
        "<iframe src='http://fermi.gsfc.nasa.gov/ssc/data/analysis/scitools/' width='1000' height='500'>"
       ],
       "output_type": "pyout",
       "prompt_number": 153,
       "text": [
        "<IPython.core.display.HTML at 0x10844da50>"
       ]
      }
     ],
     "prompt_number": 153
    },
    {
     "cell_type": "markdown",
     "metadata": {},
     "source": [
      "###What if I can't figure it out?\n",
      "Contact us!  **fermihelp@milkyway.gsfc.nasa.gov**  Most of us are nice most of the time."
     ]
    },
    {
     "cell_type": "markdown",
     "metadata": {},
     "source": [
      "### Getting the data\n",
      "Go to the [FSSC Website](http://fermi.gsfc.nasa.gov/ssc/)&rarr;[Data](http://fermi.gsfc.nasa.gov/ssc/data/)&rarr;[Data Access](http://fermi.gsfc.nasa.gov/ssc/data/access/)"
     ]
    },
    {
     "cell_type": "code",
     "collapsed": false,
     "input": [
      "HTML(\"<iframe src='http://fermi.gsfc.nasa.gov/ssc/data/access/' width='1000' height='500'>\")"
     ],
     "language": "python",
     "metadata": {},
     "outputs": [
      {
       "html": [
        "<iframe src='http://fermi.gsfc.nasa.gov/ssc/data/access/' width='1000' height='500'>"
       ],
       "output_type": "pyout",
       "prompt_number": 154,
       "text": [
        "<IPython.core.display.HTML at 0x10844dd10>"
       ]
      }
     ],
     "prompt_number": 154
    },
    {
     "cell_type": "markdown",
     "metadata": {},
     "source": [
      "Lits of data products are available.  What you use depends on what you're doing.  Here are some highlights:\n",
      "\n",
      "* I want to perform a detailed source anaylsis:\n",
      "    * LAT Data Server (Pass 7 data updated Apr-18-2012)\n",
      "* I want to perform an analysis of a short timescale flare like a GRB or a Solar Flare\n",
      "    * LAT Low-Energy (LLE) Data\n",
      "    * Fermi Solar Flare Observations\n",
      "    * GBM Data\n",
      "* I want to monitor all sources in the full sky \n",
      "    * Pass 7 (V6) Weekly files (Archived)\n",
      "* I want to be alerted to flares in known sources or do a high-level analysis\n",
      "    * LAT Monitored Source List Light Curves\n",
      "    * Aperture Photometry Light Curves for the LAT 2-year Point Source Catalog\n",
      "* I want to find out about known sources or GRBs.\n",
      "    * LAT Burst Catalog\n",
      "    * LAT 2-year Point Source Catalog\n",
      "    * LAT 1-year Point Source Catalog\n",
      "    * GBM Burst Catalog\n",
      "* I want to know what the spacecraft was doing\n",
      "    * Spacecraft Data\n",
      "    * Spacecraft Pointing Files\n",
      "\n",
      "Don't forget to pay attention to the [caveats](http://fermi.gsfc.nasa.gov/ssc/data/analysis/caveats.html) for the data products you are using.  You never know, it might say don't do what you're trying to do or tell you to do something else!"
     ]
    },
    {
     "cell_type": "code",
     "collapsed": false,
     "input": [],
     "language": "python",
     "metadata": {},
     "outputs": []
    }
   ],
   "metadata": {}
  }
 ]
}