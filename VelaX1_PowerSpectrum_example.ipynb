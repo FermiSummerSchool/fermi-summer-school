{
 "cells": [
  {
   "cell_type": "markdown",
   "metadata": {},
   "source": [
    "# How to make a powerspectrum from Vela X-1's daily fits light curve"
   ]
  },
  {
   "cell_type": "markdown",
   "metadata": {},
   "source": [
    "### 1. Download VELAX-1_daily_lc.fits, VELAX-1_steps_lc.fits, and OccView.py files from GBM Earth Occultation website http://heastro.phys.lsu.edu/gbm/."
   ]
  },
  {
   "cell_type": "markdown",
   "metadata": {},
   "source": [
    "# 2. Load numpy and matplotlib into the interactive name space so they can be easily used"
   ]
  },
  {
   "cell_type": "code",
   "execution_count": 1,
   "metadata": {},
   "outputs": [
    {
     "name": "stdout",
     "output_type": "stream",
     "text": [
      "Populating the interactive namespace from numpy and matplotlib\n"
     ]
    }
   ],
   "source": [
    "%pylab inline"
   ]
  },
  {
   "cell_type": "markdown",
   "metadata": {},
   "source": [
    "### 3. Examine Daily Fits file headers"
   ]
  },
  {
   "cell_type": "code",
   "execution_count": 2,
   "metadata": {},
   "outputs": [
    {
     "name": "stdout",
     "output_type": "stream",
     "text": [
      "Filename: VELAX-1_daily_lc.fits\n",
      "No.    Name         Type      Cards   Dimensions   Format\n",
      "  0  PRIMARY     PrimaryHDU       4   ()      \n",
      "  1  RATE        BinTableHDU     96   1601R x 7C   [D, 6D, 6D, D, D, I, I]   \n",
      "  2  ENEBAND     BinTableHDU     27   6R x 2C   [D, D]   \n",
      "*******Primary Header********\n",
      "SIMPLE  =                    T /Dummy Created by MWRFITS v1.8                   \n",
      "BITPIX  =                    8 /Dummy primary header created by MWRFITS         \n",
      "NAXIS   =                    0 /No data is associated with this header          \n",
      "EXTEND  =                    T /Extensions may (will!) be present               \n",
      "*******FlUX_HIST Header*******\n",
      "XTENSION= 'BINTABLE'           /Written by IDL:  Thu May 18 12:25:40 2017       \n",
      "BITPIX  =                    8 /                                                \n",
      "NAXIS   =                    2 /Binary table                                    \n",
      "NAXIS1  =                  124 /Number of bytes per row                         \n",
      "NAXIS2  =                 1601 /Number of rows                                  \n",
      "PCOUNT  =                    0 /Random parameter count                          \n",
      "GCOUNT  =                    1 /Group count                                     \n",
      "TFIELDS =                    7 /Number of columns                               \n",
      "TSTART  =        55966.0273833 /[d] time start (MJD)                            \n",
      "TSTOP   =        57890.9910769 /[d] time start (MJD)                            \n",
      "DATE-OBS= '2012-02-09'         /date of first observation yyyy-mm-dd            \n",
      "TIME-OBS= '00:00:00'           /time of first observation (NA)                  \n",
      "DATE-END= '2017-05-17'         /date of last observation yyyy-mm-dd             \n",
      "TIME-END= '23:59:59'           /time of last observation (NA)                   \n",
      "TIMESYS = 'MJD     '           /                                                \n",
      "TIMEUNIT= 'd       '           /Units for TSTART,TSTOP,TIMEZERO                 \n",
      "CLOCKCOR= 'NO      '           /if time corrected to UT                         \n",
      "TIMEZERO=              0.00000 /zero time used to calculate the n-time event or \n",
      "TIMEREF = 'LOCAL   '           /other values LOCAL, SOLARSYSTEM, HELIOCENTRIC,GE\n",
      "TASSIGN = 'SATELLITE'          /                                                \n",
      "ONTIME  =        41.6875000000 /total time on source in days                    \n",
      "NUMBAND =                    6 /number of energy bands                          \n",
      "COMMENT                                                                         \n",
      "COMMENT  *** End of mandatory fields ***                                        \n",
      "COMMENT                                                                         \n",
      "EXTNAME = 'RATE    '           /Extension name                                  \n",
      "SRC_NAME= 'VELAX-1 '           /Name of monitored object                        \n",
      "BACKAPP =                    T /Was background correction applied?              \n",
      "OBJECT  = 'VELAX-1 '           /Name of monitored object                        \n",
      "RA_OBJ  =              135.529 /[deg] R.A. Object J2000                         \n",
      "DEC_OBJ =       -40.5550000000 /[deg] Dec Object J2000                          \n",
      "EQUINOX =                 2000 /Equinox for RA and Dec                          \n",
      "RADECSYS= 'FK5     '           /Stellar reference frame                         \n",
      "TELESCOP= 'FERMI   '           /Telescope (mission) name                        \n",
      "INSTRUME= 'GBM     '           /GAMMA RAY Burst Monitor                         \n",
      "DATE_CRE= '2017-05-18T17:25:40.00' /FITS file Creation Date                     \n",
      "OBSERVER= 'Wilson-Hodge'       /PI of the GBM Earth Occultation Project         \n",
      "CREATOR = 'make_FSSC_fits.pro' /Name of software writing file                   \n",
      "HDUCLASS= 'OGIP    '           /Conforms to OGIP/GSFC standards                 \n",
      "HDUCLAS1= 'LIGHTCURVE'         /Contains light curve                            \n",
      "HDUCLAS2= 'NET     '           /Light curve is background subtracted            \n",
      "HDUCLAS3= 'RATE    '           /Light curve is count/cm^2/s                     \n",
      "TIMVERSN= 'OGIP/93-003'        /Version of light curve format                   \n",
      "NUMCHAN =                    6 /Number of channels included in this file        \n",
      "COMMENT                                                                         \n",
      "COMMENT  *** Column names ***                                                   \n",
      "COMMENT                                                                         \n",
      "TTYPE1  = 'TIME    '           /Modified Julian Date (TT)                       \n",
      "TUNIT1  = 'd       '           /                                                \n",
      "TTYPE2  = 'RATE    '           /Daily averaged occultation flux measurements    \n",
      "TUNIT2  = 'photons/cm^2/s'     /                                                \n",
      "TTYPE3  = 'ERROR   '           /Statistical error only                          \n",
      "TUNIT3  = 'photons/cm^2/s'     /                                                \n",
      "TTYPE4  = 'TIMEDEL '           /TSTOP-TSTART for the day                        \n",
      "TUNIT4  = 'd       '           /                                                \n",
      "TTYPE5  = 'EXPOSURE'           /Exposure                                        \n",
      "TUNIT5  = 'd       '           /                                                \n",
      "TTYPE6  = 'NOCC    '           /Number of occultation steps in averaged flux    \n",
      "TTYPE7  = 'QUALITY '           /Data quality flag (0=good)                      \n",
      "COMMENT                                                                         \n",
      "COMMENT  *** Column formats ***                                                 \n",
      "COMMENT                                                                         \n",
      "TFORM1  = 'D       '           /                                                \n",
      "TFORM2  = '6D      '           /                                                \n",
      "TFORM3  = '6D      '           /                                                \n",
      "TFORM4  = 'D       '           /                                                \n",
      "TFORM5  = 'D       '           /                                                \n",
      "TFORM6  = 'I       '           /                                                \n",
      "TFORM7  = 'I       '           /                                                \n",
      "COMMENT Contains daily average Earth occultation measurements of VELAX-1 in     \n",
      "COMMENT six energy bands                                                        \n",
      "COMMENT                                                                         \n",
      "COMMENT                                                                         \n",
      "COMMENT Average fluxes (photons/cm^2/s) for the Crab for each channel           \n",
      "COMMENT Channel 0 = 0.3369                                                      \n",
      "COMMENT Channel 1 = 0.1217                                                      \n",
      "COMMENT Channel 2 = 0.0656                                                      \n",
      "COMMENT Channel 3 = 0.0353                                                      \n",
      "COMMENT Channel 4 = 0.0058                                                      \n",
      "COMMENT Channel 5 = 0.0040                                                      \n",
      "COMMENT                                                                         \n",
      "COMMENT                                                                         \n",
      "COMMENT For reference, approximate energy band ranges are 12-25, 25-50, 50-100, \n",
      "COMMENT 100-300, 300-500 keV, 500-900 keV                                       \n",
      "COMMENT Exact energy ranges are given in extension 2 ENEBAND                    \n",
      "COMMENT Users of these files please reference:                                  \n",
      "COMMENT C.A. Wilson-Hodge et al. 2011,                                          \n",
      "COMMENT Three Years of Fermi GBM Earth Occultation Monitoring: Observations of  \n",
      "COMMENT Hard X-Ray/Soft Gamma-Ray Sources                                       \n",
      "COMMENT http://adsabs.harvard.edu/abs/2012ApJS..201...33W                       \n",
      "COMMENT G.L Case et al. 2011,                                                   \n",
      "COMMENT First Results from Fermi Gamma-ray Burst Monitor Earth Occultation      \n",
      "COMMENT Monitoring: Observations of Soft Gamma-ray Sources Above 100 keV        \n",
      "COMMENT http://adsabs.harvard.edu/abs/2011ApJ...729..105C                       \n",
      "COMMENT                                                                         \n",
      "COMMENT                                                                         \n",
      "*******ECHAN Header**********\n",
      "XTENSION= 'BINTABLE'           /Written by IDL:  Tue Mar  6 13:29:18 2012       \n",
      "BITPIX  =                    8 /                                                \n",
      "NAXIS   =                    2 /Binary table                                    \n",
      "NAXIS1  =                   16 /Number of bytes per row                         \n",
      "NAXIS2  =                    6 /Number of rows                                  \n",
      "PCOUNT  =                    0 /Random parameter count                          \n",
      "GCOUNT  =                    1 /Group count                                     \n",
      "TFIELDS =                    2 /Number of columns                               \n",
      "COMMENT                                                                         \n",
      "COMMENT  *** End of mandatory fields ***                                        \n",
      "COMMENT                                                                         \n",
      "EXTNAME = 'ENEBAND '           /Extension Name                                  \n",
      "DATE_CRE= '2017-05-18T17:25:40.00' /FITS file Creation Date                     \n",
      "COMMENT                                                                         \n",
      "COMMENT  *** Column names ***                                                   \n",
      "COMMENT                                                                         \n",
      "TTYPE1  = 'E_MIN   '           /                                                \n",
      "TUNIT1  = 'keV     '           /Units for E_MIN                                 \n",
      "TTYPE2  = 'E_MAX   '           /                                                \n",
      "TUNIT2  = 'keV     '           /Units for E_MAX                                 \n",
      "COMMENT                                                                         \n",
      "COMMENT  *** Column formats ***                                                 \n",
      "COMMENT                                                                         \n",
      "TFORM1  = 'D       '           /                                                \n",
      "TELESCOP= 'FERMI   '           /Telescope (mission) name                        \n",
      "INSTRUME= 'GBM     '           /GAMMA RAY Burst Monitor                         \n",
      "TFORM2  = 'D       '           /                                                \n"
     ]
    }
   ],
   "source": [
    "import astropy.io.fits as fits\n",
    "hdulist = fits.open(\"VELAX-1_daily_lc.fits\")\n",
    "hdulist.info()\n",
    "print '*******Primary Header********'\n",
    "print repr(hdulist[0].header)\n",
    "print '*******FlUX_HIST Header*******'\n",
    "print repr(hdulist[1].header)\n",
    "print '*******ECHAN Header**********'\n",
    "print repr(hdulist[2].header)"
   ]
  },
  {
   "cell_type": "markdown",
   "metadata": {},
   "source": [
    "### 4.Examine energy channels edges"
   ]
  },
  {
   "cell_type": "code",
   "execution_count": 3,
   "metadata": {},
   "outputs": [
    {
     "name": "stdout",
     "output_type": "stream",
     "text": [
      "[(  11.6729002 ,   26.77063179) (  26.77063179,   50.30397415)\n",
      " (  50.30397415,  101.91491699) ( 101.91491699,  294.7149353 )\n",
      " ( 294.7149353 ,  539.11651611) ( 539.11651611,  985.02740479)]\n"
     ]
    }
   ],
   "source": [
    "echan = hdulist[2].data\n",
    "print echan"
   ]
  },
  {
   "cell_type": "markdown",
   "metadata": {},
   "source": [
    "### 5. Load python modules"
   ]
  },
  {
   "cell_type": "code",
   "execution_count": 4,
   "metadata": {
    "collapsed": true
   },
   "outputs": [],
   "source": [
    "from OccView import OccView\n",
    "import scipy.signal\n",
    "import numpy\n",
    "import matplotlib.pyplot as plt"
   ]
  },
  {
   "cell_type": "markdown",
   "metadata": {},
   "source": [
    "### 6. Read daily FITS file"
   ]
  },
  {
   "cell_type": "code",
   "execution_count": 5,
   "metadata": {
    "collapsed": true
   },
   "outputs": [],
   "source": [
    "ov = OccView(\"VELAX-1_daily_lc.fits\")"
   ]
  },
  {
   "cell_type": "markdown",
   "metadata": {},
   "source": [
    "### 8. Get times (MJD), fluxes and errors (photons/cm^2/s)  for channel 0 (12-25 keV)"
   ]
  },
  {
   "cell_type": "code",
   "execution_count": 6,
   "metadata": {
    "collapsed": true
   },
   "outputs": [],
   "source": [
    "h=ov.GetFluxes(56000,57890,0)\n",
    "t = h[\"time\"]\n",
    "flux = h[\"flux\"]\n",
    "err = h[\"error\"]\n",
    "flx=flux.byteswap().newbyteorder()"
   ]
  },
  {
   "cell_type": "markdown",
   "metadata": {},
   "source": [
    "### 9. Plot light curve"
   ]
  },
  {
   "cell_type": "code",
   "execution_count": 7,
   "metadata": {},
   "outputs": [
    {
     "data": {
      "text/plain": [
       "<matplotlib.text.Text at 0x7fcc0fa64b50>"
      ]
     },
     "execution_count": 7,
     "metadata": {},
     "output_type": "execute_result"
    },
    {
     "data": {
      "image/png": "[encoded data removed]",
      "text/plain": [
       "<matplotlib.figure.Figure at 0x7fcc1c88dd50>"
      ]
     },
     "metadata": {},
     "output_type": "display_data"
    }
   ],
   "source": [
    "plt.errorbar(t,flx,yerr=err,fmt='o')\n",
    "plt.axhline(y=0, xmin=0, xmax=1,color='k')\n",
    "plt.xlim(56000,57890)\n",
    "plt.xlabel(\"Time (MJD)\")\n",
    "plt.ylabel(\"12-25 keV Flux (photons/cm**2/s)\")\n",
    "plt.title('VELAX-1')"
   ]
  },
  {
   "cell_type": "markdown",
   "metadata": {},
   "source": [
    "### 10. Set up angular frequencies for Lomb Scargle, using periods between 2 days and 200 days."
   ]
  },
  {
   "cell_type": "code",
   "execution_count": 8,
   "metadata": {
    "collapsed": true
   },
   "outputs": [],
   "source": [
    "nout=4500\n",
    "om=numpy.linspace(0.005*2*numpy.pi,0.5*2*numpy.pi,nout)"
   ]
  },
  {
   "cell_type": "markdown",
   "metadata": {},
   "source": [
    "### 11. Make power spectrum using scipy.lombscargle"
   ]
  },
  {
   "cell_type": "code",
   "execution_count": 9,
   "metadata": {
    "collapsed": true
   },
   "outputs": [],
   "source": [
    "pgram=scipy.signal.lombscargle(t-min(t),flx,om)"
   ]
  },
  {
   "cell_type": "markdown",
   "metadata": {},
   "source": [
    "### 12. Plot power spectrum"
   ]
  },
  {
   "cell_type": "code",
   "execution_count": 10,
   "metadata": {},
   "outputs": [
    {
     "data": {
      "text/plain": [
       "<matplotlib.text.Text at 0x7fcc0f89f710>"
      ]
     },
     "execution_count": 10,
     "metadata": {},
     "output_type": "execute_result"
    },
    {
     "data": {
      "image/png": "[encoded data removed]",
      "text/plain": [
       "<matplotlib.figure.Figure at 0x7fcc0f9c49d0>"
      ]
     },
     "metadata": {},
     "output_type": "display_data"
    }
   ],
   "source": [
    "plt.plot(2*numpy.pi/om,numpy.sqrt(4*pgram))\n",
    "plt.xlim(0,100)\n",
    "plt.xlabel(\"Period (days)\")\n",
    "plt.ylabel(\"Power\")"
   ]
  },
  {
   "cell_type": "markdown",
   "metadata": {},
   "source": [
    "### 13. Find period for peak power."
   ]
  },
  {
   "cell_type": "code",
   "execution_count": 11,
   "metadata": {},
   "outputs": [
    {
     "name": "stdout",
     "output_type": "stream",
     "text": [
      "Peak power : 1.09821521194\n",
      "at period : 8.96831487775 days\n"
     ]
    }
   ],
   "source": [
    "print \"Peak power : \"+str(max(pgram))\n",
    "print \"at period : \"+str(2*numpy.pi/om[numpy.argmax(pgram)])+\" days\""
   ]
  },
  {
   "cell_type": "markdown",
   "metadata": {},
   "source": [
    "### Orbital period for Vela X-1 is 8.96 days"
   ]
  },
  {
   "cell_type": "code",
   "execution_count": null,
   "metadata": {
    "collapsed": true
   },
   "outputs": [],
   "source": []
  }
 ],
 "metadata": {
  "kernelspec": {
   "display_name": "Python 2",
   "language": "python",
   "name": "python2"
  },
  "language_info": {
   "codemirror_mode": {
    "name": "ipython",
    "version": 2
   },
   "file_extension": ".py",
   "mimetype": "text/x-python",
   "name": "python",
   "nbconvert_exporter": "python",
   "pygments_lexer": "ipython2",
   "version": "2.7.8"
  }
 },
 "nbformat": 4,
 "nbformat_minor": 1
}
