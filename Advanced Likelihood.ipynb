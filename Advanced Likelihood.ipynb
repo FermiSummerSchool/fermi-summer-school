{
 "metadata": {
  "name": "Advanced Likelihood"
 },
 "nbformat": 3,
 "nbformat_minor": 0,
 "worksheets": [
  {
   "cells": [
    {
     "cell_type": "markdown",
     "metadata": {},
     "source": [
      "Advanced Likelihood\n",
      "===================\n",
      "*Jeremy S. Perkins, FSSC*"
     ]
    },
    {
     "cell_type": "markdown",
     "metadata": {},
     "source": [
      "Fit Verification\n",
      "----------------\n",
      "\n",
      "Most of the time, your initial fit will not converge.  This can manifest in several ways:\n",
      "\n",
      "* It will say it didn't converge,\n",
      "* It will crash (this is annoying),\n",
      "* It will fail silently (this is also annoying).\n",
      "\n",
      "When this happens, your fit is probably not correct and the errors are not accurate.  This is a bad thing and can lead to incorrect science results.  You don't want this.  \n",
      "\n",
      "## How do I fix this?\n",
      "\n",
      "1. The culprit is usually a parameter (or parameters) in the model that reach the limits set in the XML file. If this happens the minimizer cannot reach the formal minimum, and hence cannot calculate the curvature. \n",
      "\n",
      "    * Often the problem is with spectral shape parameters (PL index etc..), so simply freezing the shape of all spectral parameters to their values from the full time period (and certainly for weaker background sources) may solve the problem (this could introduce errors, so be careful if you have variable sources).\n",
      "\n",
      "    * Weak background sources are more likely to cause problems, so you could consider just freezing them completely (or removing them from the model). For example a background source from the catalog that is detected at TS~=25 in 2 years could cause convergence problems in a 1-month light curve, where it will often not be detectable at all.\n",
      "\n",
      "2. If there are no parameters at their limits, then increasing the overall convergence tolerance may help - try using a value of 1E-8 for the absolute tolerance.\n",
      "\n",
      "3. If that doesn't help then try to systematically simplify the model. Progressively freeze all sources, starting with those at the edge of the ROI in and moving in until you get a model simple enough for the minimizer to work reliably. For example if you are using a 10 degree ROI, you could start by freezing all background sources further than 7 degrees from the source of interest, and move to 5 degrees if that doesn't solve the problem.\n",
      "\n",
      "Also, check and make sure there aren't any bright pulsars in your ROI. They might need to be gated. It's also really difficult to get convergence at low energies (100 - 200 MeV) so you could restrict your fit to above 200 (or 300 MeV).\n",
      "\n",
      "## How do I check for convergence?\n",
      "\n",
      "Glad you asked, if you're using python, you can query the optimizer directly this way (using our little data set as an example).\n"
     ]
    },
    {
     "cell_type": "code",
     "collapsed": false,
     "input": [
      "from UnbinnedAnalysis import *"
     ],
     "language": "python",
     "metadata": {},
     "outputs": [],
     "prompt_number": 3
    },
    {
     "cell_type": "code",
     "collapsed": false,
     "input": [
      "obs = UnbinnedObs(eventFile='data/3C279_filtered_gti.fits', \n",
      "                  scFile='data/L1305211547389D489E7F87_SC00.fits', \n",
      "                  expMap='data/3C279_expmap.fits',\n",
      "                  expCube='data/3C279_ltcube.fits',\n",
      "                  irfs='P7SOURCE_V6')"
     ],
     "language": "python",
     "metadata": {},
     "outputs": [],
     "prompt_number": 4
    },
    {
     "cell_type": "code",
     "collapsed": false,
     "input": [
      "analysis = UnbinnedAnalysis(obs,srcModel='3C279_input_model.xml', optimizer='NEWMINUIT')"
     ],
     "language": "python",
     "metadata": {},
     "outputs": [],
     "prompt_number": 5
    },
    {
     "cell_type": "markdown",
     "metadata": {},
     "source": [
      "Now, you have to create a logLike object (instead of having the fit routine create one on the fly) so we can access it later."
     ]
    },
    {
     "cell_type": "code",
     "collapsed": false,
     "input": [
      "likeObj = pyLike.NewMinuit(analysis.logLike)"
     ],
     "language": "python",
     "metadata": {},
     "outputs": [],
     "prompt_number": 6
    },
    {
     "cell_type": "markdown",
     "metadata": {},
     "source": [
      "And then, when you do the fit, you pass that object to the fit function so it will use that one."
     ]
    },
    {
     "cell_type": "code",
     "collapsed": false,
     "input": [
      "analysis.fit(covar=True,optObject=likeObj)"
     ],
     "language": "python",
     "metadata": {},
     "outputs": [
      {
       "output_type": "pyout",
       "prompt_number": 7,
       "text": [
        "792575.4298611565"
       ]
      }
     ],
     "prompt_number": 7
    },
    {
     "cell_type": "markdown",
     "metadata": {},
     "source": [
      "Now we can check out if the fit converged.."
     ]
    },
    {
     "cell_type": "code",
     "collapsed": false,
     "input": [
      "likeObj.getRetCode()"
     ],
     "language": "python",
     "metadata": {},
     "outputs": [
      {
       "output_type": "pyout",
       "prompt_number": 8,
       "text": [
        "0"
       ]
      }
     ],
     "prompt_number": 8
    },
    {
     "cell_type": "markdown",
     "metadata": {},
     "source": [
      "If this isn't 0 (for Minuit and NewMinuit at least) than you've got a problem and you need to work on your fit."
     ]
    },
    {
     "cell_type": "code",
     "collapsed": false,
     "input": [
      "analysis2 = UnbinnedAnalysis(obs,srcModel='3C279_input_model.xml', optimizer='MINUIT')"
     ],
     "language": "python",
     "metadata": {},
     "outputs": [],
     "prompt_number": 9
    },
    {
     "cell_type": "code",
     "collapsed": false,
     "input": [
      "likeObj2 = pyLike.Minuit(analysis2.logLike)"
     ],
     "language": "python",
     "metadata": {},
     "outputs": [],
     "prompt_number": 10
    },
    {
     "cell_type": "code",
     "collapsed": false,
     "input": [
      "analysis2.fit(covar=True, optObject=likeObj2)"
     ],
     "language": "python",
     "metadata": {},
     "outputs": [
      {
       "output_type": "pyout",
       "prompt_number": 11,
       "text": [
        "792575.4298216011"
       ]
      }
     ],
     "prompt_number": 11
    },
    {
     "cell_type": "code",
     "collapsed": false,
     "input": [
      "likeObj2.getRetCode()"
     ],
     "language": "python",
     "metadata": {},
     "outputs": [
      {
       "output_type": "pyout",
       "prompt_number": 12,
       "text": [
        "0"
       ]
      }
     ],
     "prompt_number": 12
    },
    {
     "cell_type": "markdown",
     "metadata": {},
     "source": [
      "The FSSC provides a [user contributed tool](http://fermi.gsfc.nasa.gov/ssc/data/analysis/user/) called [LATAnalysisScripts](http://fermi.gsfc.nasa.gov/ssc/data/analysis/user/LATAnalysisScripts-0.1.11.tar.gz) which provides several functions that help in the fitting and analysis process.  I use this everyday and continue to add features as I need them ([you can too](https://github.com/kialio/LATAnalysisScripts)). You can install these later (I can help out) but here are some nice features:"
     ]
    },
    {
     "cell_type": "code",
     "collapsed": false,
     "input": [
      "from quickLike import *"
     ],
     "language": "python",
     "metadata": {},
     "outputs": [],
     "prompt_number": 19
    },
    {
     "cell_type": "code",
     "collapsed": false,
     "input": [
      "help(quickLike)"
     ],
     "language": "python",
     "metadata": {},
     "outputs": [
      {
       "output_type": "stream",
       "stream": "stdout",
       "text": [
        "Help on class quickLike in module quickLike:\n",
        "\n",
        "class quickLike\n",
        " |  This is the base class.  A usual likelihood analysis will\n",
        " |  consists of running the following functions (assuming you have a\n",
        " |  configuration file):\n",
        " |  \n",
        " |  * qL = quickLike('MySource', True)\n",
        " |  * qL.makeObs()\n",
        " |  * qL.initDRM()\n",
        " |  * qL.fitDRM()\n",
        " |  * qL.initMIN()\n",
        " |  * qL.fitMIN()\n",
        " |  \n",
        " |  This will set up all of the objects needed for the analysis and do an\n",
        " |  initial fit with one of the DRM optimizers.  It'll save these results\n",
        " |  and use them for the second fit with one of the Minuit optimizers.\n",
        " |  \n",
        " |  If you do not have a configuration file, you'll need to input all\n",
        " |  of the options for this module when you create the quickLike\n",
        " |  object (see the various options below).  You can create a\n",
        " |  configuration file by executing writeConfig().\n",
        " |  \n",
        " |  * qL.writeConfig()\n",
        " |  \n",
        " |  This module will catch any failures from the optimizers and will\n",
        " |  report them to the user.  There are a few functions that are useful to\n",
        " |  use in this case:\n",
        " |  \n",
        " |  Methods defined here:\n",
        " |  \n",
        " |  Print(self)\n",
        " |      Prints out information about the various objects to the\n",
        " |      terminal and to the log file.\n",
        " |  \n",
        " |  __init__(self, base='MySource', configFile=False, likelihoodConfig={'drmtol': 0.1, 'mintol': 0.0001, 'model': 'MySource_model.xml', 'sourcename': 'Source Name'}, commonConfig={'base': 'MySource', 'binned': False, 'eventclass': 2, 'irfs': 'P7SOURCE_V6', 'multicore': 0, 'verbosity': 0})\n",
        " |  \n",
        " |  calcBowtie(self, srcName, minE, maxE, numBins)\n",
        " |      This is derived from T. Johnson's likeSED code which was in turn\n",
        " |      derived from D. Sanchez's pyUnfoldPlot code which was probably\n",
        " |      based on some code developed by J. Chiang.\n",
        " |  \n",
        " |  calcUpper(self, source, Emin=100, Emax=300000)\n",
        " |      Calculates an upper limit for a source in your model.\n",
        " |  \n",
        " |  customERange(self, Emin, Emax)\n",
        " |      Sets a smaller energy range for the fitting of both the DRM\n",
        " |      and MIN optimization steps.\n",
        " |  \n",
        " |  decodeRetCode(self, optimizer, retCode)\n",
        " |      Decodes the return codes from the Minuit and New Minuit fit\n",
        " |      functions.  Used in the fitting functions in this module.\n",
        " |      You'll probably never use this function.\n",
        " |  \n",
        " |  fitDRM(self)\n",
        " |      Performs a DRM inital fit on your data using the\n",
        " |      <basename>_model.xml model file.  It tries an intial fit and\n",
        " |      if that fails, tries a tighter tolerance.  If that fails, it\n",
        " |      tries a looser tolerance.  If that fails, it tries to do this\n",
        " |      initial fit with the MINUIT optimizer.  If that fails, this\n",
        " |      function bails.  If the fit converges, it saves the results to\n",
        " |      <basename>_likeDRM.xml which will be used in the NewMinuit\n",
        " |      fit.  If no fit is found, it will save the results to\n",
        " |      <basename>_badDRMFit.xml.  You can use this in the NewMinuit fit\n",
        " |      if you use the useBadFit option in initMIN.  You need to have run\n",
        " |      initDRM before you run this function.\n",
        " |  \n",
        " |  fitMIN(self)\n",
        " |      Does a New Minuit fit on your data based on the model\n",
        " |      output by the fitDRM function.  You need to have run initMIN\n",
        " |      before running this function.  Saves the results to\n",
        " |      <basename>_likeMIN.xml if there is convergence.  If\n",
        " |      convergence is not found, saves the results to\n",
        " |      <basename>_badMINFit.xml.\n",
        " |  \n",
        " |  initAltFit(self, opt='MINUIT')\n",
        " |      Initiallizes a minuit optimizer to use as a backup to the\n",
        " |      DRM optimizer.  This function is used internally in the fitDRM\n",
        " |      function so you probably will never use it.  You need to run\n",
        " |      makeObs before you run this function.  If it hasn't been run,\n",
        " |      this function will exit.\n",
        " |  \n",
        " |  initDRM(self)\n",
        " |      Initializes the DRM optimizer (either binned or unbinned).\n",
        " |      This is usually the second function that you run when using\n",
        " |      this module.  You need to run makeObs before you run this\n",
        " |      function.  If it hasn't been run, this function will exit.\n",
        " |  \n",
        " |  initMIN(self, useBadFit=False, modelFile='', useEdisp=False)\n",
        " |      Initiallizes a New Minuit optimizer to use as a backup to\n",
        " |      the DRM optimizer.  This is usually run after you have\n",
        " |      initially run fitDRM and created a <basename>_likeDRM.xml\n",
        " |      model file which is used a seed for the New Minuit optimizer.\n",
        " |      You can skip the DRM process if you like but you need to have\n",
        " |      the proper model file (<basename>_likeDRM.xml) present in the\n",
        " |      working directory. You need to run makeObs before you run this\n",
        " |      function.  If it hasn't been run, this function will exit.  If\n",
        " |      you want to use the non convergant fit from fitDRM, set\n",
        " |      useBadFit to True.  You can also pass a custom model file name\n",
        " |      via the modelFile parameter.\n",
        " |  \n",
        " |  makeObs(self)\n",
        " |      Creates either a binned or unbinned observation object for\n",
        " |      use in the likelihood analysis.  This function checks for all\n",
        " |      of the needed files first.  If you do not have a needed file,\n",
        " |      see the quickAnalysis module for creation.  This function\n",
        " |      should be run before any of the init or fit functions.\n",
        " |  \n",
        " |  paramsAtLimit(self, limit=0.1)\n",
        " |      This function will print out any sources whoes parameters\n",
        " |      are close to their limits.  You could use this to find sources\n",
        " |      that are having issues being fit.  This function is useful\n",
        " |      when you're having trouble getting convergence from the New\n",
        " |      Minuit fit routine. The limit is in percentage difference of a\n",
        " |      bound.  If one of the bounds is zero it uses the value of the\n",
        " |      parameter to check for closeness (absolute instead of percent\n",
        " |      differenct).  The default is 0.1 (1%) difference for a measure\n",
        " |      of closeness.\n",
        " |  \n",
        " |  pokeSource(self, source, paramName='Prefactor')\n",
        " |      This function pokes a paramter of a source to a value that is 10%\n",
        " |      of what it was.  This is a useful function to use when you are trying\n",
        " |      to get convergence on a fit.  Many times, a fit won't converge because\n",
        " |      the initial model is too close to the final answer (ie. the minimizer\n",
        " |      does not have enough flexibility to accurately calculate a correlation\n",
        " |      matrix).  In this case, run this funciton on one of the stronger\n",
        " |      sources in your model and redo the fit.  This function is also useful\n",
        " |      to determine how robust your fit is. Note that it defaults to using\n",
        " |      poking the 'Prefactor' parameter which might not exist for your\n",
        " |      specific source.  In that case, choose a different paramter.\n",
        " |  \n",
        " |  printSource(self, source, Emin=100, Emax=300000)\n",
        " |      Prints various details for a source in your model.\n",
        " |  \n",
        " |  reLoadSource(self)\n",
        " |      This function puts the source removed by the unLoadSource function\n",
        " |      back into the model.\n",
        " |  \n",
        " |  removeWeak(self, mySource='', tslimit=0, distlimit=0, RemoveFree=False, RemoveFixed=False)\n",
        " |      This function has two main uses: it will print out details\n",
        " |      on all of the sources in your model and it will remove sources\n",
        " |      according to different requirements.  If you just want to\n",
        " |      print out details, execute it this way:\n",
        " |      \n",
        " |      <obj>.removeWeak(<my_source>)\n",
        " |      \n",
        " |      Where <obj> is the quickLike object you're using here and\n",
        " |      <my_source> is the name of your source of interest.  You can\n",
        " |      then remove some of these sources from the model if you like.\n",
        " |      For example, if you want to remove all of the fixed sources\n",
        " |      with TS values less than 1, execute it this way:\n",
        " |      \n",
        " |      <obj>.removeWeak(<my_source>,tslimit=1,RemoveFixed=True)\n",
        " |      \n",
        " |      You can mix and match any of the options.  You could remove\n",
        " |      all sources (fixed and free) that are below a TS value of 3\n",
        " |      and are 10 degrees from your source of interest by executing:\n",
        " |      \n",
        " |      <obj>.removeWeak(<my_source>,tslimit=3,distlimit=10,RemoveFree=True,RemoveFixed=True)\n",
        " |  \n",
        " |  unLoadSource(self, name)\n",
        " |      This function removes a source from the model and stores it so that\n",
        " |      you can use it later if you would like.  This is useful if you are\n",
        " |      working on an upper limit and need to get a fit to work before you can\n",
        " |      calculate the upper limit.\n",
        " |  \n",
        " |  writeConfig(self)\n",
        " |      Writes all of the initialization variables to the config\n",
        " |      file called <basename>.cfg\n",
        "\n"
       ]
      }
     ],
     "prompt_number": 20
    },
    {
     "cell_type": "markdown",
     "metadata": {},
     "source": [
      "Inspecting the code will also give you an idea of how to interact with the python tools.  Now, we're going to do an analysis of a more advanced region.  You need to download some files and we'll jump right into the analysis and get a handle on how to do an interactive fitting session:\n",
      "\n",
      "* Download and install the LAT Analysis Scripts: \n",
      "    * Untar it and (with the science tools setup), type '> python setup.py install'\n",
      "* Download the data set/config files/ancillary files and unpack/untar it.\n",
      "* Link the galactic/isotropic diffuse sources into the working directory.\n",
      "\n",
      "There are [detailed instructions avaialable](http://nbviewer.ipython.org/urls/raw.github.com/kialio/fermi-summer-school/master/Installing_Python_Packages_in_ST.ipynb).\n",
      "\n",
      "Let's do this thing (you should do all of this in a terminal).  First, download, untar the data and have a look around..\n",
      "\n",
      "    []$ wget https://dl.dropboxusercontent.com/u/9098221/SwiftJ1644.tgz\n",
      "    []$ tar zxf SwiftJ1644.tgz\n",
      "    []$ cd SwiftJ1644/\n",
      "    [ SwiftJ1644]$ ls\n",
      "    L120404155224B0489E7F72_PH00.fits SwiftJ1644.cfg                    SwiftJ1644_SC.fits                SwiftJ1644_filtered.fits          SwiftJ1644_ltcube.fits\n",
      "    L120404155224B0489E7F72_SC00.fits SwiftJ1644.list                   SwiftJ1644_expMap.fits            SwiftJ1644_filtered_gti.fits      SwiftJ1644_model.xml\n",
      "\n",
      "You can see that there's a configuration flie that tells the code how to do the analysis.  It looks like this:\n",
      "\n",
      "    [common]\n",
      "    irfs = P7SOURCE_V6\n",
      "    verbosity = 0\n",
      "    base = SwiftJ1644\n",
      "    binned = False\n",
      "    eventclass = 2\n",
      "    multicore=6\n",
      "    \n",
      "    [quickAnalysis]\n",
      "    rad = 10\n",
      "    tmin = 322963202\n",
      "    emin = 100\n",
      "    emax = 300000\n",
      "    tmax = 323568002\n",
      "    binsize = 0.1\n",
      "    ra = 251.2054\n",
      "    zmax = 100\n",
      "    dec = 57.5808\n",
      "    convtype = -1\n",
      "\n",
      "    [quickLike]\n",
      "    sourcename = SwiftJ1644\n",
      "    model = SwiftJ1644_model.xml\n",
      "    drmtol = 0.1\n",
      "    mintol = 0.0001\n",
      "\n",
      "And there are some other ancillary files in that directory that have already been pre-computed.  Let's start...\n"
     ]
    },
    {
     "cell_type": "code",
     "collapsed": false,
     "input": [
      "from quickLike import *"
     ],
     "language": "python",
     "metadata": {},
     "outputs": [],
     "prompt_number": 21
    },
    {
     "cell_type": "code",
     "collapsed": false,
     "input": [
      "qL = quickLike('SwiftJ1644', True)"
     ],
     "language": "python",
     "metadata": {},
     "outputs": [
      {
       "output_type": "stream",
       "stream": "stderr",
       "text": [
        "2013-05-27 10:46:41,346 - quickLike - INFO - Reading from config file (SwiftJ1644.cfg)\n"
       ]
      },
      {
       "output_type": "stream",
       "stream": "stderr",
       "text": [
        "2013-05-27 10:46:41,348 - quickLike - INFO - Reading common variables...\n"
       ]
      },
      {
       "output_type": "stream",
       "stream": "stderr",
       "text": [
        "2013-05-27 10:46:41,348 - quickLike - INFO - Reading quickAnalysis variables...\n"
       ]
      },
      {
       "output_type": "stream",
       "stream": "stderr",
       "text": [
        "2013-05-27 10:46:41,349 - quickLike - INFO - Reading quickLike variables...\n"
       ]
      },
      {
       "output_type": "stream",
       "stream": "stderr",
       "text": [
        "2013-05-27 10:46:41,349 - quickLike - INFO - Reading quickPlot variables...\n"
       ]
      },
      {
       "output_type": "stream",
       "stream": "stderr",
       "text": [
        "2013-05-27 10:46:41,350 - quickLike - INFO - Created quickLike object: irfs=P7SOURCE_V6,verbosity=0,binned=False,multicore=6,base=SwiftJ1644,eventclass=2,sourcename=SwiftJ1644,model=SwiftJ1644_model.xml,drmtol=0.1,mintol=0.0001,\n"
       ]
      }
     ],
     "prompt_number": 23
    },
    {
     "cell_type": "code",
     "collapsed": false,
     "input": [
      "qL.makeObs()"
     ],
     "language": "python",
     "metadata": {},
     "outputs": [
      {
       "output_type": "stream",
       "stream": "stderr",
       "text": [
        "2013-05-27 10:46:48,742 - quickLike - INFO - Event file(s): SwiftJ1644_filtered_gti.fits, Spacecraft file(s): SwiftJ1644_SC.fits, Exposure map: SwiftJ1644_expMap.fits, Exposure cube: SwiftJ1644_ltcube.fits, IRFs: P7SOURCE_V6\n"
       ]
      }
     ],
     "prompt_number": 24
    },
    {
     "cell_type": "code",
     "collapsed": false,
     "input": [
      "qL.initMIN(modelFile='SwiftJ1644_model.xml')"
     ],
     "language": "python",
     "metadata": {},
     "outputs": [
      {
       "output_type": "stream",
       "stream": "stderr",
       "text": [
        "2013-05-27 10:47:42,897 - quickLike - INFO - Event file(s): SwiftJ1644_filtered_gti.fits, Spacecraft file(s): SwiftJ1644_SC.fits, Exposure map: SwiftJ1644_expMap.fits, Exposure cube: SwiftJ1644_ltcube.fits, IRFs: P7SOURCE_V6, Source model file: SwiftJ1644_model.xml, Optimizer: NewMinuit\n"
       ]
      }
     ],
     "prompt_number": 26
    },
    {
     "cell_type": "code",
     "collapsed": false,
     "input": [
      "qL.fitMIN()"
     ],
     "language": "python",
     "metadata": {},
     "outputs": [
      {
       "output_type": "stream",
       "stream": "stderr",
       "text": [
        "2013-05-27 10:49:08,868 - quickLike - INFO - NEWMINUIT Fit Finished.  -log(likelihood): -11435.9325456\n"
       ]
      },
      {
       "output_type": "stream",
       "stream": "stderr",
       "text": [
        "2013-05-27 10:49:08,869 - quickLike - INFO - NEWMINUIT Fit Status: 156\n"
       ]
      },
      {
       "output_type": "stream",
       "stream": "stderr",
       "text": [
        "2013-05-27 10:49:08,869 - quickLike - INFO - NEWMINUIT fit Distance: 6.64365379104e-05\n"
       ]
      },
      {
       "output_type": "stream",
       "stream": "stderr",
       "text": [
        "2013-05-27 10:49:08,870 - quickLike - ERROR - NEWMINUIT DID NOT CONVERGE!!!\n"
       ]
      },
      {
       "output_type": "stream",
       "stream": "stderr",
       "text": [
        "2013-05-27 10:49:08,870 - quickLike - ERROR - The fit failed the following tests:  HasMadePosDefCovar HasPosDefCovar HasAccurateCovar\n"
       ]
      }
     ],
     "prompt_number": 27
    },
    {
     "cell_type": "markdown",
     "metadata": {},
     "source": [
      "This didn't converge (see the return code there, we can get at this directly if you want).  And if you run the following command you can see why, lots of really weak sources (including our source of interest)\n"
     ]
    },
    {
     "cell_type": "code",
     "collapsed": false,
     "input": [
      "qL.removeWeak()"
     ],
     "language": "python",
     "metadata": {},
     "outputs": [
      {
       "output_type": "stream",
       "stream": "stderr",
       "text": [
        "2013-05-27 10:49:22,467 - quickLike - INFO - Retaining SwiftJ1644, TS: 0.00423144732122, Frozen?: Free, Distance: 0.0\n"
       ]
      },
      {
       "output_type": "stream",
       "stream": "stderr",
       "text": [
        "2013-05-27 10:49:22,643 - quickLike - INFO - Retaining _2FGLJ1502.1+5548, TS: 0.0106549263364, Frozen?: Fixed, Distance: 14.118352898\n"
       ]
      },
      {
       "output_type": "stream",
       "stream": "stderr",
       "text": [
        "2013-05-27 10:49:22,815 - quickLike - INFO - Retaining _2FGLJ1509.7+5556, TS: 0.00233741167176, Frozen?: Fixed, Distance: 13.0611066299\n"
       ]
      },
      {
       "output_type": "stream",
       "stream": "stderr",
       "text": [
        "2013-05-27 10:49:22,994 - quickLike - INFO - Retaining _2FGLJ1518.0+6526, TS: 0.0222604442351, Frozen?: Fixed, Distance: 12.8803773974\n"
       ]
      },
      {
       "output_type": "stream",
       "stream": "stderr",
       "text": [
        "2013-05-27 10:49:23,166 - quickLike - INFO - Retaining _2FGLJ1531.0+5725, TS: 1.0023750647, Frozen?: Free, Distance: 9.88336167075\n"
       ]
      },
      {
       "output_type": "stream",
       "stream": "stderr",
       "text": [
        "2013-05-27 10:49:23,334 - quickLike - INFO - Retaining _2FGLJ1542.9+6129, TS: 2.12583221956, Frozen?: Free, Distance: 8.73700550143\n"
       ]
      },
      {
       "output_type": "stream",
       "stream": "stderr",
       "text": [
        "2013-05-27 10:49:23,505 - quickLike - INFO - Retaining _2FGLJ1559.0+5627, TS: 0.994628371602, Frozen?: Free, Distance: 6.31934864235\n"
       ]
      },
      {
       "output_type": "stream",
       "stream": "stderr",
       "text": [
        "2013-05-27 10:49:23,688 - quickLike - INFO - Retaining _2FGLJ1604.6+5710, TS: 0.283984000656, Frozen?: Free, Distance: 5.42831120837\n"
       ]
      },
      {
       "output_type": "stream",
       "stream": "stderr",
       "text": [
        "2013-05-27 10:49:23,867 - quickLike - INFO - Retaining _2FGLJ1614.8+4703, TS: 0.116404748162, Frozen?: Fixed, Distance: 11.463869255\n"
       ]
      },
      {
       "output_type": "stream",
       "stream": "stderr",
       "text": [
        "2013-05-27 10:49:24,044 - quickLike - INFO - Retaining _2FGLJ1623.2+4328, TS: 0.0241078275867, Frozen?: Fixed, Distance: 14.5103770052\n"
       ]
      },
      {
       "output_type": "stream",
       "stream": "stderr",
       "text": [
        "2013-05-27 10:49:24,237 - quickLike - INFO - Retaining _2FGLJ1630.4+5218, TS: 0.0986017043251, Frozen?: Free, Distance: 5.66450701607\n"
       ]
      },
      {
       "output_type": "stream",
       "stream": "stderr",
       "text": [
        "2013-05-27 10:49:24,424 - quickLike - INFO - Retaining _2FGLJ1637.7+4714, TS: 1.33768793198, Frozen?: Fixed, Distance: 10.3919915474\n"
       ]
      },
      {
       "output_type": "stream",
       "stream": "stderr",
       "text": [
        "2013-05-27 10:49:24,602 - quickLike - INFO - Retaining _2FGLJ1647.0+4351, TS: 0.0148642362255, Frozen?: Fixed, Distance: 13.7277161761\n"
       ]
      },
      {
       "output_type": "stream",
       "stream": "stderr",
       "text": [
        "2013-05-27 10:49:24,776 - quickLike - INFO - Retaining _2FGLJ1647.5+4950, TS: 15.9566331588, Frozen?: Free, Distance: 7.75101781419\n"
       ]
      },
      {
       "output_type": "stream",
       "stream": "stderr",
       "text": [
        "2013-05-27 10:49:24,950 - quickLike - INFO - Retaining _2FGLJ1649.6+5238, TS: 0.216742813089, Frozen?: Free, Distance: 4.98294451276\n"
       ]
      },
      {
       "output_type": "stream",
       "stream": "stderr",
       "text": [
        "2013-05-27 10:49:25,122 - quickLike - INFO - Retaining _2FGLJ1656.5+6012, TS: 0.779293492502, Frozen?: Free, Distance: 3.02281657046\n"
       ]
      },
      {
       "output_type": "stream",
       "stream": "stderr",
       "text": [
        "2013-05-27 10:49:25,295 - quickLike - INFO - Retaining _2FGLJ1657.9+4809, TS: 9.48661308557, Frozen?: Free, Distance: 9.62200269148\n"
       ]
      },
      {
       "output_type": "stream",
       "stream": "stderr",
       "text": [
        "2013-05-27 10:49:25,470 - quickLike - INFO - Retaining _2FGLJ1700.2+6831, TS: 2.29009877659, Frozen?: Fixed, Distance: 11.0700621434\n"
       ]
      },
      {
       "output_type": "stream",
       "stream": "stderr",
       "text": [
        "2013-05-27 10:49:25,657 - quickLike - INFO - Retaining _2FGLJ1709.7+4319, TS: 0.041363180484, Frozen?: Fixed, Distance: 14.787179253\n"
       ]
      },
      {
       "output_type": "stream",
       "stream": "stderr",
       "text": [
        "2013-05-27 10:49:25,843 - quickLike - INFO - Retaining _2FGLJ1714.8+6836, TS: 0.0358868039984, Frozen?: Fixed, Distance: 11.5267838761\n"
       ]
      },
      {
       "output_type": "stream",
       "stream": "stderr",
       "text": [
        "2013-05-27 10:49:26,018 - quickLike - INFO - Retaining _2FGLJ1725.2+5853, TS: 3.00292618669, Frozen?: Free, Distance: 5.46785773321\n"
       ]
      },
      {
       "output_type": "stream",
       "stream": "stderr",
       "text": [
        "2013-05-27 10:49:26,203 - quickLike - INFO - Retaining _2FGLJ1727.1+4531, TS: 0.272455346654, Frozen?: Fixed, Distance: 13.6980548002\n"
       ]
      },
      {
       "output_type": "stream",
       "stream": "stderr",
       "text": [
        "2013-05-27 10:49:26,378 - quickLike - INFO - Retaining _2FGLJ1728.2+5015, TS: 0.078672115691, Frozen?: Free, Distance: 9.69529631055\n"
       ]
      },
      {
       "output_type": "stream",
       "stream": "stderr",
       "text": [
        "2013-05-27 10:49:26,557 - quickLike - INFO - Retaining _2FGLJ1730.8+5427, TS: 0.0758606332129, Frozen?: Free, Distance: 7.13956431989\n"
       ]
      },
      {
       "output_type": "stream",
       "stream": "stderr",
       "text": [
        "2013-05-27 10:49:26,735 - quickLike - INFO - Retaining _2FGLJ1739.5+4955, TS: -0.140293336524, Frozen?: Fixed, Distance: 11.0968700684\n"
       ]
      },
      {
       "output_type": "stream",
       "stream": "stderr",
       "text": [
        "2013-05-27 10:49:26,913 - quickLike - INFO - Retaining _2FGLJ1740.2+5212, TS: 13.5387858175, Frozen?: Free, Distance: 9.58626862845\n"
       ]
      },
      {
       "output_type": "stream",
       "stream": "stderr",
       "text": [
        "2013-05-27 10:49:27,092 - quickLike - INFO - Retaining _2FGLJ1740.3+4738, TS: 0.0104787679229, Frozen?: Fixed, Distance: 12.9794693474\n"
       ]
      },
      {
       "output_type": "stream",
       "stream": "stderr",
       "text": [
        "2013-05-27 10:49:27,267 - quickLike - INFO - Retaining _2FGLJ1742.1+5948, TS: 0.0777785084174, Frozen?: Free, Distance: 7.7505303021\n"
       ]
      },
      {
       "output_type": "stream",
       "stream": "stderr",
       "text": [
        "2013-05-27 10:49:27,447 - quickLike - INFO - Retaining _2FGLJ1748.8+7006, TS: 0.0756821766336, Frozen?: Fixed, Distance: 14.2788818566\n"
       ]
      },
      {
       "output_type": "stream",
       "stream": "stderr",
       "text": [
        "2013-05-27 10:49:27,626 - quickLike - INFO - Retaining _2FGLJ1756.5+5523, TS: -0.424864288587, Frozen?: Fixed, Distance: 10.10772469\n"
       ]
      },
      {
       "output_type": "stream",
       "stream": "stderr",
       "text": [
        "2013-05-27 10:49:27,803 - quickLike - INFO - Retaining _2FGLJ1811.0+5340, TS: -0.00385466019725, Frozen?: Fixed, Distance: 12.7265339798\n"
       ]
      },
      {
       "output_type": "stream",
       "stream": "stderr",
       "text": [
        "2013-05-27 10:49:27,982 - quickLike - INFO - Retaining _2FGLJ1824.0+5650, TS: -0.0641408713491, Frozen?: Fixed, Distance: 13.3739986375\n"
       ]
      },
      {
       "output_type": "stream",
       "stream": "stderr",
       "text": [
        "2013-05-27 10:49:28,162 - quickLike - INFO - Retaining _2FGLJ1829.2+5402, TS: 0.000228391771088, Frozen?: Fixed, Distance: 14.9908308023\n"
       ]
      },
      {
       "output_type": "stream",
       "stream": "stderr",
       "text": [
        "2013-05-27 10:49:28,339 - quickLike - INFO - Retaining _2FGLJ1836.2+5926, TS: 0.158850579901, Frozen?: Fixed, Distance: 14.5615624322\n"
       ]
      },
      {
       "output_type": "stream",
       "stream": "stderr",
       "text": [
        "2013-05-27 10:49:28,514 - quickLike - INFO - Retaining gal_2yearp7v6_v0, TS: 94.1013393059, Frozen?: Free, Distance: 0\n"
       ]
      },
      {
       "output_type": "stream",
       "stream": "stderr",
       "text": [
        "2013-05-27 10:49:28,693 - quickLike - INFO - Retaining iso_p7v6source, TS: 29.8147820457, Frozen?: Free, Distance: 0\n"
       ]
      }
     ],
     "prompt_number": 28
    },
    {
     "cell_type": "markdown",
     "metadata": {},
     "source": [
      "Let's remove the weakest sources..."
     ]
    },
    {
     "cell_type": "code",
     "collapsed": false,
     "input": [
      "qL.removeWeak(RemoveFixed=True, RemoveFree=True, tslimit=1.0)"
     ],
     "language": "python",
     "metadata": {},
     "outputs": [
      {
       "output_type": "stream",
       "stream": "stderr",
       "text": [
        "2013-05-27 10:50:10,550 - quickLike - INFO - Retaining SwiftJ1644, TS: 0.00423144732122, Frozen?: Free, Distance: 0.0\n"
       ]
      },
      {
       "output_type": "stream",
       "stream": "stderr",
       "text": [
        "2013-05-27 10:50:10,727 - quickLike - INFO - Removing _2FGLJ1502.1+5548, TS: 0.0106549263364, Frozen?: Fixed, Distance: 14.118352898\n"
       ]
      },
      {
       "output_type": "stream",
       "stream": "stderr",
       "text": [
        "2013-05-27 10:50:10,903 - quickLike - INFO - Removing _2FGLJ1509.7+5556, TS: 0.0025544324053, Frozen?: Fixed, Distance: 13.0611066299\n"
       ]
      },
      {
       "output_type": "stream",
       "stream": "stderr",
       "text": [
        "2013-05-27 10:50:11,078 - quickLike - INFO - Removing _2FGLJ1518.0+6526, TS: 0.0223970922634, Frozen?: Fixed, Distance: 12.8803773974\n"
       ]
      },
      {
       "output_type": "stream",
       "stream": "stderr",
       "text": [
        "2013-05-27 10:50:11,243 - quickLike - INFO - Retaining _2FGLJ1531.0+5725, TS: 1.04792107685, Frozen?: Free, Distance: 9.88336167075\n"
       ]
      },
      {
       "output_type": "stream",
       "stream": "stderr",
       "text": [
        "2013-05-27 10:50:11,407 - quickLike - INFO - Retaining _2FGLJ1542.9+6129, TS: 2.14402634149, Frozen?: Free, Distance: 8.73700550143\n"
       ]
      },
      {
       "output_type": "stream",
       "stream": "stderr",
       "text": [
        "2013-05-27 10:50:11,565 - quickLike - INFO - Retaining _2FGLJ1559.0+5627, TS: 1.00083305455, Frozen?: Free, Distance: 6.31934864235\n"
       ]
      },
      {
       "output_type": "stream",
       "stream": "stderr",
       "text": [
        "2013-05-27 10:50:11,730 - quickLike - INFO - Removing _2FGLJ1604.6+5710, TS: 0.294786576535, Frozen?: Free, Distance: 5.42831120837\n"
       ]
      },
      {
       "output_type": "stream",
       "stream": "stderr",
       "text": [
        "2013-05-27 10:50:11,889 - quickLike - INFO - Removing _2FGLJ1614.8+4703, TS: 0.0947747596947, Frozen?: Fixed, Distance: 11.463869255\n"
       ]
      },
      {
       "output_type": "stream",
       "stream": "stderr",
       "text": [
        "2013-05-27 10:50:12,047 - quickLike - INFO - Removing _2FGLJ1623.2+4328, TS: -0.00198121436915, Frozen?: Fixed, Distance: 14.5103770052\n"
       ]
      },
      {
       "output_type": "stream",
       "stream": "stderr",
       "text": [
        "2013-05-27 10:50:12,196 - quickLike - INFO - Removing _2FGLJ1630.4+5218, TS: 0.0655523723544, Frozen?: Free, Distance: 5.66450701607\n"
       ]
      },
      {
       "output_type": "stream",
       "stream": "stderr",
       "text": [
        "2013-05-27 10:50:12,336 - quickLike - INFO - Retaining _2FGLJ1637.7+4714, TS: 1.3236956898, Frozen?: Fixed, Distance: 10.3919915474\n"
       ]
      },
      {
       "output_type": "stream",
       "stream": "stderr",
       "text": [
        "2013-05-27 10:50:12,477 - quickLike - INFO - Removing _2FGLJ1647.0+4351, TS: -0.0203759303186, Frozen?: Fixed, Distance: 13.7277161761\n"
       ]
      },
      {
       "output_type": "stream",
       "stream": "stderr",
       "text": [
        "2013-05-27 10:50:12,615 - quickLike - INFO - Retaining _2FGLJ1647.5+4950, TS: 15.8246027401, Frozen?: Free, Distance: 7.75101781419\n"
       ]
      },
      {
       "output_type": "stream",
       "stream": "stderr",
       "text": [
        "2013-05-27 10:50:12,751 - quickLike - INFO - Removing _2FGLJ1649.6+5238, TS: 0.205140710161, Frozen?: Free, Distance: 4.98294451276\n"
       ]
      },
      {
       "output_type": "stream",
       "stream": "stderr",
       "text": [
        "2013-05-27 10:50:12,880 - quickLike - INFO - Removing _2FGLJ1656.5+6012, TS: 0.701646623864, Frozen?: Free, Distance: 3.02281657046\n"
       ]
      },
      {
       "output_type": "stream",
       "stream": "stderr",
       "text": [
        "2013-05-27 10:50:13,007 - quickLike - INFO - Retaining _2FGLJ1657.9+4809, TS: 9.03527597526, Frozen?: Free, Distance: 9.62200269148\n"
       ]
      },
      {
       "output_type": "stream",
       "stream": "stderr",
       "text": [
        "2013-05-27 10:50:13,129 - quickLike - INFO - Retaining _2FGLJ1700.2+6831, TS: 1.91786827286, Frozen?: Fixed, Distance: 11.0700621434\n"
       ]
      },
      {
       "output_type": "stream",
       "stream": "stderr",
       "text": [
        "2013-05-27 10:50:13,252 - quickLike - INFO - Removing _2FGLJ1709.7+4319, TS: -0.255761013774, Frozen?: Fixed, Distance: 14.787179253\n"
       ]
      },
      {
       "output_type": "stream",
       "stream": "stderr",
       "text": [
        "2013-05-27 10:50:13,378 - quickLike - INFO - Removing _2FGLJ1714.8+6836, TS: -0.304585495585, Frozen?: Fixed, Distance: 11.5267838761\n"
       ]
      },
      {
       "output_type": "stream",
       "stream": "stderr",
       "text": [
        "2013-05-27 10:50:13,499 - quickLike - INFO - Retaining _2FGLJ1725.2+5853, TS: 2.57455564232, Frozen?: Free, Distance: 5.46785773321\n"
       ]
      },
      {
       "output_type": "stream",
       "stream": "stderr",
       "text": [
        "2013-05-27 10:50:13,622 - quickLike - INFO - Removing _2FGLJ1727.1+4531, TS: -0.0488689841295, Frozen?: Fixed, Distance: 13.6980548002\n"
       ]
      },
      {
       "output_type": "stream",
       "stream": "stderr",
       "text": [
        "2013-05-27 10:50:13,736 - quickLike - INFO - Removing _2FGLJ1728.2+5015, TS: -0.327683966832, Frozen?: Free, Distance: 9.69529631055\n"
       ]
      },
      {
       "output_type": "stream",
       "stream": "stderr",
       "text": [
        "2013-05-27 10:50:13,843 - quickLike - INFO - Removing _2FGLJ1730.8+5427, TS: -0.37733059657, Frozen?: Free, Distance: 7.13956431989\n"
       ]
      },
      {
       "output_type": "stream",
       "stream": "stderr",
       "text": [
        "2013-05-27 10:50:13,943 - quickLike - INFO - Removing _2FGLJ1739.5+4955, TS: -0.57704258271, Frozen?: Fixed, Distance: 11.0968700684\n"
       ]
      },
      {
       "output_type": "stream",
       "stream": "stderr",
       "text": [
        "2013-05-27 10:50:14,036 - quickLike - INFO - Retaining _2FGLJ1740.2+5212, TS: 13.0557858067, Frozen?: Free, Distance: 9.58626862845\n"
       ]
      },
      {
       "output_type": "stream",
       "stream": "stderr",
       "text": [
        "2013-05-27 10:50:14,135 - quickLike - INFO - Removing _2FGLJ1740.3+4738, TS: -0.513749019508, Frozen?: Fixed, Distance: 12.9794693474\n"
       ]
      },
      {
       "output_type": "stream",
       "stream": "stderr",
       "text": [
        "2013-05-27 10:50:14,226 - quickLike - INFO - Removing _2FGLJ1742.1+5948, TS: -0.503443818976, Frozen?: Free, Distance: 7.7505303021\n"
       ]
      },
      {
       "output_type": "stream",
       "stream": "stderr",
       "text": [
        "2013-05-27 10:50:14,314 - quickLike - INFO - Removing _2FGLJ1748.8+7006, TS: -0.523092065549, Frozen?: Fixed, Distance: 14.2788818566\n"
       ]
      },
      {
       "output_type": "stream",
       "stream": "stderr",
       "text": [
        "2013-05-27 10:50:14,399 - quickLike - INFO - Removing _2FGLJ1756.5+5523, TS: -1.05010963742, Frozen?: Fixed, Distance: 10.10772469\n"
       ]
      },
      {
       "output_type": "stream",
       "stream": "stderr",
       "text": [
        "2013-05-27 10:50:14,481 - quickLike - INFO - Removing _2FGLJ1811.0+5340, TS: -0.636522485314, Frozen?: Fixed, Distance: 12.7265339798\n"
       ]
      },
      {
       "output_type": "stream",
       "stream": "stderr",
       "text": [
        "2013-05-27 10:50:14,561 - quickLike - INFO - Removing _2FGLJ1824.0+5650, TS: -0.686040101922, Frozen?: Fixed, Distance: 13.3739986375\n"
       ]
      },
      {
       "output_type": "stream",
       "stream": "stderr",
       "text": [
        "2013-05-27 10:50:14,632 - quickLike - INFO - Removing _2FGLJ1829.2+5402, TS: -0.716988142209, Frozen?: Fixed, Distance: 14.9908308023\n"
       ]
      },
      {
       "output_type": "stream",
       "stream": "stderr",
       "text": [
        "2013-05-27 10:50:14,702 - quickLike - INFO - Removing _2FGLJ1836.2+5926, TS: -0.494728344253, Frozen?: Fixed, Distance: 14.5615624322\n"
       ]
      },
      {
       "output_type": "stream",
       "stream": "stderr",
       "text": [
        "2013-05-27 10:50:14,767 - quickLike - INFO - Retaining gal_2yearp7v6_v0, TS: 88.107249672, Frozen?: Free, Distance: 0\n"
       ]
      },
      {
       "output_type": "stream",
       "stream": "stderr",
       "text": [
        "2013-05-27 10:50:14,826 - quickLike - INFO - Retaining iso_p7v6source, TS: 40.0924034505, Frozen?: Free, Distance: 0\n"
       ]
      }
     ],
     "prompt_number": 29
    },
    {
     "cell_type": "markdown",
     "metadata": {},
     "source": [
      "This really simplies the model.  Let's run the fit again.."
     ]
    },
    {
     "cell_type": "code",
     "collapsed": false,
     "input": [
      "qL.fitMIN()"
     ],
     "language": "python",
     "metadata": {},
     "outputs": [
      {
       "output_type": "stream",
       "stream": "stderr",
       "text": [
        "2013-05-27 10:51:41,562 - quickLike - INFO - NEWMINUIT Fit Finished.  -log(likelihood): -11436.6969823\n"
       ]
      },
      {
       "output_type": "stream",
       "stream": "stderr",
       "text": [
        "2013-05-27 10:51:41,562 - quickLike - INFO - NEWMINUIT Fit Status: 0\n"
       ]
      },
      {
       "output_type": "stream",
       "stream": "stderr",
       "text": [
        "2013-05-27 10:51:41,563 - quickLike - INFO - NEWMINUIT fit Distance: 8.22747277816e-06\n"
       ]
      }
     ],
     "prompt_number": 30
    },
    {
     "cell_type": "markdown",
     "metadata": {},
     "source": [
      "That should do it.  This was quick.  Usually this is an iterative process where I \n",
      "\n",
      "* Remove any sources with TS < 1.0\n",
      "* Remove higher TS sources (TS < 1.5, 2.0\u2026)\n",
      "* Figure out what parameters are trouble (with the *paramsAtLimit* funciton) and might fix the problematic ones\n",
      "* Generate a TS Map and look if I'm missing something (see below).\n",
      "\n",
      "Now we can take a look at our source with the 'printSource' function and then calculate an upper limit if we wish.  Let's use the underlying function instead of the function in the LATAnalysisScripts."
     ]
    },
    {
     "cell_type": "code",
     "collapsed": false,
     "input": [
      "qL.printSource('SwiftJ1644')"
     ],
     "language": "python",
     "metadata": {},
     "outputs": [
      {
       "output_type": "stream",
       "stream": "stderr",
       "text": [
        "2013-05-27 10:52:15,092 - quickLike - INFO - SwiftJ1644 TS: 0.15  NPred: 3.88  Flux: 1.52e-08  Flux Error: 4.28e-08 Integral: 0.15 +- 0.43 x 1.00e-07 Index: 4.46 +- 3.30 x -1.00e+00 LowerLimit: 100.00 +- 0.00 x 1.00e+00 UpperLimit: 300,000.00 +- 0.00 x 1.00e+00 \n"
       ]
      },
      {
       "output_type": "stream",
       "stream": "stdout",
       "text": [
        "TS: 0.15\n",
        "Npred: 3.88\n",
        "Flux: 1.52e-08 +- 4.28e-08\n",
        "Integral : 0.15 +- 0.43 x 1.00e-07\n",
        "Index : 4.46 +- 3.30 x -1.00e+00\n",
        "LowerLimit : 100.00 +- 0.00 x 1.00e+00\n",
        "UpperLimit : 300,000.00 +- 0.00 x 1.00e+00\n"
       ]
      }
     ],
     "prompt_number": 31
    },
    {
     "cell_type": "markdown",
     "metadata": {},
     "source": [
      "We're not detecting any emission from this object (TS = 0.15) so we should really calculate an upper limit.\n",
      "\n",
      "Upper Limits\n",
      "------------\n",
      "\n",
      "There's an upper limit function in the LAT Analysis Scripts but we'll use the raw funation since it's more instructive."
     ]
    },
    {
     "cell_type": "code",
     "collapsed": false,
     "input": [
      "from UpperLimits import UpperLimit"
     ],
     "language": "python",
     "metadata": {},
     "outputs": [],
     "prompt_number": 32
    },
    {
     "cell_type": "markdown",
     "metadata": {},
     "source": [
      "You need to create an UpperLimit object by giving it the likelihood object (called *qL.MIN* in this case) and the source name:"
     ]
    },
    {
     "cell_type": "code",
     "collapsed": false,
     "input": [
      "ul = UpperLimit(qL.MIN, 'SwiftJ1644')"
     ],
     "language": "python",
     "metadata": {},
     "outputs": [],
     "prompt_number": 33
    },
    {
     "cell_type": "markdown",
     "metadata": {},
     "source": [
      "There's a simple upper limit function that we can run. "
     ]
    },
    {
     "cell_type": "code",
     "collapsed": false,
     "input": [
      "ul.compute()"
     ],
     "language": "python",
     "metadata": {},
     "outputs": [
      {
       "output_type": "stream",
       "stream": "stdout",
       "text": [
        "0 0.151297995994 0.000642520964902 1.52246864865e-08\n",
        "1"
       ]
      },
      {
       "output_type": "stream",
       "stream": "stdout",
       "text": [
        " 0.322430834298 0.0765273412635 3.24601243812e-08\n",
        "2"
       ]
      },
      {
       "output_type": "stream",
       "stream": "stdout",
       "text": [
        " 0.493563672603 0.291951185089 4.96996993255e-08\n",
        "3"
       ]
      },
      {
       "output_type": "stream",
       "stream": "stdout",
       "text": [
        " 0.664696510907 0.6280135623 6.69441613385e-08\n",
        "4"
       ]
      },
      {
       "output_type": "stream",
       "stream": "stdout",
       "text": [
        " 0.835829349212 1.07150782707 8.41906860058e-08\n",
        "5"
       ]
      },
      {
       "output_type": "stream",
       "stream": "stdout",
       "text": [
        " 1.00696218752 1.61097994352 1.01447417625e-07\n"
       ]
      },
      {
       "output_type": "pyout",
       "prompt_number": 34,
       "text": [
        "(9.325908490013786e-08, 0.92575952115342941)"
       ]
      }
     ],
     "prompt_number": 34
    },
    {
     "cell_type": "code",
     "collapsed": false,
     "input": [
      "ul.results"
     ],
     "language": "python",
     "metadata": {},
     "outputs": [
      {
       "output_type": "pyout",
       "prompt_number": 35,
       "text": [
        "[9.33e-08 ph/cm^2/s for emin=100.0, emax=300000.0, delta(logLike)=1.35]"
       ]
      }
     ],
     "prompt_number": 35
    },
    {
     "cell_type": "markdown",
     "metadata": {},
     "source": [
      "You can change the limits if you want:"
     ]
    },
    {
     "cell_type": "code",
     "collapsed": false,
     "input": [
      "ul.compute(emin=1000.0)"
     ],
     "language": "python",
     "metadata": {},
     "outputs": [
      {
       "output_type": "stream",
       "stream": "stdout",
       "text": [
        "0 0.151297995994 0.000642520964902 6.12240674896e-12\n",
        "1"
       ]
      },
      {
       "output_type": "stream",
       "stream": "stdout",
       "text": [
        " 0.322430834298 0.0765273412635 9.84508629344e-12\n",
        "2"
       ]
      },
      {
       "output_type": "stream",
       "stream": "stdout",
       "text": [
        " 0.493563672603 0.291951185089 1.31782748296e-11\n",
        "3"
       ]
      },
      {
       "output_type": "stream",
       "stream": "stdout",
       "text": [
        " 0.664696510907 0.6280135623 1.59405619272e-11\n",
        "4"
       ]
      },
      {
       "output_type": "stream",
       "stream": "stdout",
       "text": [
        " 0.835829349212 1.07150782707 1.8557807318e-11\n",
        "5"
       ]
      },
      {
       "output_type": "stream",
       "stream": "stdout",
       "text": [
        " 1.00696218752 1.61097994352 2.00557872456e-11\n"
       ]
      },
      {
       "output_type": "pyout",
       "prompt_number": 36,
       "text": [
        "(1.934499459190187e-11, 0.92575952115342941)"
       ]
      }
     ],
     "prompt_number": 36
    },
    {
     "cell_type": "code",
     "collapsed": false,
     "input": [
      "ul.results"
     ],
     "language": "python",
     "metadata": {},
     "outputs": [
      {
       "output_type": "pyout",
       "prompt_number": 37,
       "text": [
        "[9.33e-08 ph/cm^2/s for emin=100.0, emax=300000.0, delta(logLike)=1.35,\n",
        " 1.93e-11 ph/cm^2/s for emin=1000.0, emax=300000.0, delta(logLike)=1.35]"
       ]
      }
     ],
     "prompt_number": 37
    },
    {
     "cell_type": "markdown",
     "metadata": {},
     "source": [
      "You can also compute a Baysian Upper Limit"
     ]
    },
    {
     "cell_type": "code",
     "collapsed": false,
     "input": [
      "ul.bayesianUL()"
     ],
     "language": "python",
     "metadata": {},
     "outputs": [
      {
       "output_type": "stream",
       "stream": "stdout",
       "text": [
        "Setting lower bound on normalization parameter to zero temporarily for upper limit calculation.\n"
       ]
      },
      {
       "output_type": "pyout",
       "prompt_number": 38,
       "text": [
        "(1.0956491920264195e-07, 1.0861935636339912)"
       ]
      }
     ],
     "prompt_number": 38
    },
    {
     "cell_type": "code",
     "collapsed": false,
     "input": [
      "ul.results"
     ],
     "language": "python",
     "metadata": {},
     "outputs": [
      {
       "output_type": "pyout",
       "prompt_number": 39,
       "text": [
        "[9.33e-08 ph/cm^2/s for emin=100.0, emax=300000.0, delta(logLike)=1.35,\n",
        " 1.93e-11 ph/cm^2/s for emin=1000.0, emax=300000.0, delta(logLike)=1.35]"
       ]
      }
     ],
     "prompt_number": 39
    },
    {
     "cell_type": "markdown",
     "metadata": {},
     "source": [
      "https://dl.dropboxusercontent.com/u/9098221/LATAnalysisScripts-0.1.11.tar.gz"
     ]
    },
    {
     "cell_type": "code",
     "collapsed": false,
     "input": [],
     "language": "python",
     "metadata": {},
     "outputs": []
    }
   ],
   "metadata": {}
  }
 ]
}