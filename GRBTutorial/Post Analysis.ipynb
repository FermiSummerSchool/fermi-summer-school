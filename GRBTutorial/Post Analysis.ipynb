{
 "cells": [
  {
   "cell_type": "markdown",
   "metadata": {},
   "source": [
    "# Post Analysis with SCAT files\n",
    "\n",
    "After saving and SCAT file, we often want to do post analysis on the spectral data.\n",
    "For example, calculating fluxes and light curves from the fitted models.\n",
    "\n",
    "A set of tools in included that allow you to do a few of these things."
   ]
  },
  {
   "cell_type": "code",
   "execution_count": 1,
   "metadata": {
    "collapsed": false
   },
   "outputs": [
    {
     "name": "stdout",
     "output_type": "stream",
     "text": [
      "Populating the interactive namespace from numpy and matplotlib\n"
     ]
    }
   ],
   "source": [
    "%pylab inline\n",
    "\n",
    "# The SCAT reader class will read in an SCAT file\n",
    "# and process it so that you can easily access the \n",
    "# fitted parameters. Additionally, there are hooks \n",
    "# from other programs that read these files.\n",
    "\n",
    "from spectralTools.scatReader import scatReader\n",
    "\n",
    "# Often we need to compute the energy/photon fluxes \n",
    "# from our spectral fits. The following utility allows\n",
    "# you to do this with a few bonuses. When doing multi-component\n",
    "# spectral fitting, it is important to properly propoagte your\n",
    "# errors when computing the fluxes. This code will handle that \n",
    "# for you.\n",
    "\n",
    "from spectralTools.temporal.fluxLightCurve import fluxLightCurve\n"
   ]
  },
  {
   "cell_type": "code",
   "execution_count": 2,
   "metadata": {
    "collapsed": true
   },
   "outputs": [],
   "source": [
    "# Create and SCAT object\n",
    "s=scatReader(\"batchFit.fit\")"
   ]
  },
  {
   "cell_type": "code",
   "execution_count": 3,
   "metadata": {
    "collapsed": false
   },
   "outputs": [
    {
     "name": "stdout",
     "output_type": "stream",
     "text": [
      "SCAT Models:\n",
      "Band's GRB, Epeak\n",
      "\n",
      "\n",
      "Time Bins:\n",
      "0.0 : 5.0\n",
      "5.0 : 10.0\n",
      "10.0 : 15.0\n",
      "15.0 : 20.0\n",
      "20.0 : 25.0\n",
      "25.0 : 30.0\n",
      "30.0 : 35.0\n",
      "35.0 : 40.0\n",
      "40.0 : 45.0\n",
      "45.0 : 50.0\n",
      "50.0 : 55.0\n",
      "55.0 : 60.0\n",
      "60.0 : 65.0\n",
      "65.0 : 70.0\n",
      "\n",
      "\n",
      "\n"
     ]
    }
   ],
   "source": [
    "# If you made multiple fits by hand,\n",
    "# scatReader objects add\n",
    "# s = s1 + s2\n",
    "\n",
    "# Printing the scatReader object tells\n",
    "# you the models loaded and the time\n",
    "# bins that are included\n",
    "print s"
   ]
  },
  {
   "cell_type": "markdown",
   "metadata": {},
   "source": [
    "Let's look at the Ep evolution from the Band fits"
   ]
  },
  {
   "cell_type": "code",
   "execution_count": 4,
   "metadata": {
    "collapsed": false
   },
   "outputs": [
    {
     "data": {
      "image/png": "[encoded data removed]",
      "text/plain": [
       "<matplotlib.figure.Figure at 0x10934d790>"
      ]
     },
     "metadata": {},
     "output_type": "display_data"
    }
   ],
   "source": [
    "# The GetParamArray(model,param) member \n",
    "# returns an array of the values and the \n",
    "# errors. The 0th column is the values\n",
    "# and the final two are the symmetric or\n",
    "# asymmetric errors\n",
    "\n",
    "Ep = s.GetParamArray(\"Band's GRB, Epeak\",\"Epeak\")[:,0]\n",
    "EpErr = s.GetParamArray(\"Band's GRB, Epeak\",\"Epeak\")[:,1]\n",
    "\n",
    "# Get the mean of the time bins for plotting\n",
    "\n",
    "time = s.meanTbins\n",
    "\n",
    "# And plot\n",
    "\n",
    "errorbar(time,Ep,yerr=EpErr,fmt=',',color='k')\n",
    "ylabel(r\"$E_{\\rm p}$\")\n",
    "xlabel(\"Time\")\n",
    "xscale('log')\n",
    "yscale('log')"
   ]
  },
  {
   "cell_type": "markdown",
   "metadata": {},
   "source": [
    "We can do the same for otehr parameters or models"
   ]
  },
  {
   "cell_type": "code",
   "execution_count": 5,
   "metadata": {
    "collapsed": false
   },
   "outputs": [
    {
     "data": {
      "text/plain": [
       "<matplotlib.text.Text at 0x109694a90>"
      ]
     },
     "execution_count": 5,
     "metadata": {},
     "output_type": "execute_result"
    },
    {
     "data": {
      "image/png": "[encoded data removed]",
      "text/plain": [
       "<matplotlib.figure.Figure at 0x10934d5d0>"
      ]
     },
     "metadata": {},
     "output_type": "display_data"
    }
   ],
   "source": [
    "alpha = s.GetParamArray(\"Band's GRB, Epeak\",\"alpha\")[:,0]\n",
    "alphaErr = s.GetParamArray(\"Band's GRB, Epeak\",\"alpha\")[:,1]\n",
    "\n",
    "# Get the mean of the time bins for plotting\n",
    "\n",
    "time = s.meanTbins\n",
    "\n",
    "# And plot\n",
    "\n",
    "errorbar(time,alpha,yerr=alphaErr,fmt=',',color='k')\n",
    "ylabel(r\"$\\alpha$\")\n",
    "xlabel(\"Time\")\n"
   ]
  },
  {
   "cell_type": "markdown",
   "metadata": {},
   "source": [
    "These arrays can now be used to fit relations.\n",
    "\n",
    "As an example, let's look at the hardness-intensity correlation (Golenetskii 1986)\n",
    "\n",
    "We will need to calculate the energy flux for the Band function from the fits.\n",
    "\n",
    "## Creating a flux light curve"
   ]
  },
  {
   "cell_type": "code",
   "execution_count": 6,
   "metadata": {
    "collapsed": true
   },
   "outputs": [],
   "source": [
    "# Feed in he scat object and select an energy range\\\n",
    "# Optionally you can  input a redshift to perform\n",
    "# k-corrections\n",
    "\n",
    "flc = fluxLightCurve(s, 8., 40000.)"
   ]
  },
  {
   "cell_type": "code",
   "execution_count": 7,
   "metadata": {
    "collapsed": false
   },
   "outputs": [
    {
     "name": "stderr",
     "output_type": "stream",
     "text": [
      "/usr/local/lib/python2.7/site-packages/scipy/integrate/quadrature.py:195: AccuracyWarning: maxiter (200) exceeded. Latest difference = 7.065317e-03\n",
      "  AccuracyWarning)\n",
      "/usr/local/lib/python2.7/site-packages/scipy/integrate/quadrature.py:195: AccuracyWarning: maxiter (200) exceeded. Latest difference = 2.481586e-03\n",
      "  AccuracyWarning)\n",
      "/usr/local/lib/python2.7/site-packages/scipy/integrate/quadrature.py:195: AccuracyWarning: maxiter (200) exceeded. Latest difference = 2.703928e-03\n",
      "  AccuracyWarning)\n",
      "/usr/local/lib/python2.7/site-packages/scipy/integrate/quadrature.py:195: AccuracyWarning: maxiter (200) exceeded. Latest difference = 1.239952e-03\n",
      "  AccuracyWarning)\n",
      "/usr/local/lib/python2.7/site-packages/scipy/integrate/quadrature.py:195: AccuracyWarning: maxiter (200) exceeded. Latest difference = 4.125791e-03\n",
      "  AccuracyWarning)\n",
      "/usr/local/lib/python2.7/site-packages/scipy/integrate/quadrature.py:195: AccuracyWarning: maxiter (200) exceeded. Latest difference = 3.243201e-03\n",
      "  AccuracyWarning)\n"
     ]
    },
    {
     "name": "stdout",
     "output_type": "stream",
     "text": [
      "Completed 1 of 14 fluxes\n",
      "\n",
      "\n",
      "Completed 2 of 14 fluxes\n",
      "\n",
      "\n",
      "Completed 3 of 14 fluxes\n",
      "\n",
      "\n",
      "Completed 4 of 14 fluxes\n",
      "\n",
      "\n",
      "Completed 5 of 14 fluxes\n",
      "\n",
      "\n",
      "Completed 6 of 14 fluxes\n",
      "\n",
      "\n",
      "Completed 7 of 14 fluxes\n",
      "\n",
      "\n",
      "Completed 8 of 14 fluxes\n",
      "\n",
      "\n",
      "Completed 9 of 14 fluxes\n",
      "\n",
      "\n",
      "Completed 10 of 14 fluxes\n",
      "\n",
      "\n",
      "Completed 11 of 14 fluxes\n",
      "\n",
      "\n",
      "Completed 12 of 14 fluxes\n",
      "\n"
     ]
    },
    {
     "name": "stderr",
     "output_type": "stream",
     "text": [
      "/usr/local/lib/python2.7/site-packages/scipy/integrate/quadrature.py:195: AccuracyWarning: maxiter (200) exceeded. Latest difference = 1.309435e-03\n",
      "  AccuracyWarning)\n",
      "/usr/local/lib/python2.7/site-packages/scipy/integrate/quadrature.py:195: AccuracyWarning: maxiter (200) exceeded. Latest difference = 3.798081e-03\n",
      "  AccuracyWarning)\n",
      "/usr/local/lib/python2.7/site-packages/scipy/integrate/quadrature.py:195: AccuracyWarning: maxiter (200) exceeded. Latest difference = 2.543827e-05\n",
      "  AccuracyWarning)\n",
      "/usr/local/lib/python2.7/site-packages/scipy/integrate/quadrature.py:195: AccuracyWarning: maxiter (200) exceeded. Latest difference = 2.065273e-03\n",
      "  AccuracyWarning)\n",
      "/usr/local/lib/python2.7/site-packages/scipy/integrate/quadrature.py:195: AccuracyWarning: maxiter (200) exceeded. Latest difference = 6.575358e-03\n",
      "  AccuracyWarning)\n",
      "/usr/local/lib/python2.7/site-packages/scipy/integrate/quadrature.py:195: AccuracyWarning: maxiter (200) exceeded. Latest difference = 2.288845e-04\n",
      "  AccuracyWarning)\n",
      "/usr/local/lib/python2.7/site-packages/scipy/integrate/quadrature.py:195: AccuracyWarning: maxiter (200) exceeded. Latest difference = 6.636045e-04\n",
      "  AccuracyWarning)\n",
      "/usr/local/lib/python2.7/site-packages/scipy/integrate/quadrature.py:195: AccuracyWarning: maxiter (200) exceeded. Latest difference = 7.065318e-03\n",
      "  AccuracyWarning)\n",
      "/usr/local/lib/python2.7/site-packages/scipy/integrate/quadrature.py:195: AccuracyWarning: maxiter (200) exceeded. Latest difference = 7.065316e-03\n",
      "  AccuracyWarning)\n",
      "/usr/local/lib/python2.7/site-packages/scipy/integrate/quadrature.py:195: AccuracyWarning: maxiter (200) exceeded. Latest difference = 2.481585e-03\n",
      "  AccuracyWarning)\n",
      "/usr/local/lib/python2.7/site-packages/scipy/integrate/quadrature.py:195: AccuracyWarning: maxiter (200) exceeded. Latest difference = 2.703929e-03\n",
      "  AccuracyWarning)\n",
      "/usr/local/lib/python2.7/site-packages/scipy/integrate/quadrature.py:195: AccuracyWarning: maxiter (200) exceeded. Latest difference = 1.239951e-03\n",
      "  AccuracyWarning)\n",
      "/usr/local/lib/python2.7/site-packages/scipy/integrate/quadrature.py:195: AccuracyWarning: maxiter (200) exceeded. Latest difference = 4.125790e-03\n",
      "  AccuracyWarning)\n",
      "/usr/local/lib/python2.7/site-packages/scipy/integrate/quadrature.py:195: AccuracyWarning: maxiter (200) exceeded. Latest difference = 3.243202e-03\n",
      "  AccuracyWarning)\n",
      "/usr/local/lib/python2.7/site-packages/scipy/integrate/quadrature.py:195: AccuracyWarning: maxiter (200) exceeded. Latest difference = 1.309434e-03\n",
      "  AccuracyWarning)\n",
      "/usr/local/lib/python2.7/site-packages/scipy/integrate/quadrature.py:195: AccuracyWarning: maxiter (200) exceeded. Latest difference = 3.798083e-03\n",
      "  AccuracyWarning)\n",
      "/usr/local/lib/python2.7/site-packages/scipy/integrate/quadrature.py:195: AccuracyWarning: maxiter (200) exceeded. Latest difference = 3.798080e-03\n",
      "  AccuracyWarning)\n",
      "/usr/local/lib/python2.7/site-packages/scipy/integrate/quadrature.py:195: AccuracyWarning: maxiter (200) exceeded. Latest difference = 3.798082e-03\n",
      "  AccuracyWarning)\n",
      "/usr/local/lib/python2.7/site-packages/scipy/integrate/quadrature.py:195: AccuracyWarning: maxiter (200) exceeded. Latest difference = 2.543828e-05\n",
      "  AccuracyWarning)\n",
      "/usr/local/lib/python2.7/site-packages/scipy/integrate/quadrature.py:195: AccuracyWarning: maxiter (200) exceeded. Latest difference = 2.543826e-05\n",
      "  AccuracyWarning)\n",
      "/usr/local/lib/python2.7/site-packages/scipy/integrate/quadrature.py:195: AccuracyWarning: maxiter (200) exceeded. Latest difference = 2.543868e-05\n",
      "  AccuracyWarning)\n",
      "/usr/local/lib/python2.7/site-packages/scipy/integrate/quadrature.py:195: AccuracyWarning: maxiter (200) exceeded. Latest difference = 2.543785e-05\n",
      "  AccuracyWarning)\n",
      "/usr/local/lib/python2.7/site-packages/scipy/integrate/quadrature.py:195: AccuracyWarning: maxiter (200) exceeded. Latest difference = 2.065274e-03\n",
      "  AccuracyWarning)\n",
      "/usr/local/lib/python2.7/site-packages/scipy/integrate/quadrature.py:195: AccuracyWarning: maxiter (200) exceeded. Latest difference = 6.575360e-03\n",
      "  AccuracyWarning)\n",
      "/usr/local/lib/python2.7/site-packages/scipy/integrate/quadrature.py:195: AccuracyWarning: maxiter (200) exceeded. Latest difference = 6.575357e-03\n",
      "  AccuracyWarning)\n",
      "/usr/local/lib/python2.7/site-packages/scipy/integrate/quadrature.py:195: AccuracyWarning: maxiter (200) exceeded. Latest difference = 6.575359e-03\n",
      "  AccuracyWarning)\n",
      "/usr/local/lib/python2.7/site-packages/scipy/integrate/quadrature.py:195: AccuracyWarning: maxiter (200) exceeded. Latest difference = 2.288847e-04\n",
      "  AccuracyWarning)\n",
      "/usr/local/lib/python2.7/site-packages/scipy/integrate/quadrature.py:195: AccuracyWarning: maxiter (200) exceeded. Latest difference = 2.288844e-04\n",
      "  AccuracyWarning)\n",
      "/usr/local/lib/python2.7/site-packages/scipy/integrate/quadrature.py:195: AccuracyWarning: maxiter (200) exceeded. Latest difference = 6.636051e-04\n",
      "  AccuracyWarning)\n"
     ]
    },
    {
     "name": "stdout",
     "output_type": "stream",
     "text": [
      "\n",
      "Completed 13 of 14 fluxes\n",
      "\n",
      "\n",
      "Completed 14 of 14 fluxes\n",
      "\n",
      "\n"
     ]
    },
    {
     "name": "stderr",
     "output_type": "stream",
     "text": [
      "/usr/local/lib/python2.7/site-packages/scipy/integrate/quadrature.py:195: AccuracyWarning: maxiter (200) exceeded. Latest difference = 6.636039e-04\n",
      "  AccuracyWarning)\n"
     ]
    }
   ],
   "source": [
    "# Calcualte the fluxes and\n",
    "# The errors\n",
    "flc.CreateEnergyLightCurve()\n",
    "flc.EnergyLightCurveErrors()\n",
    "flc.SaveEnergy() # Save out these possibly lengthy calculations"
   ]
  },
  {
   "cell_type": "code",
   "execution_count": 8,
   "metadata": {
    "collapsed": false
   },
   "outputs": [],
   "source": [
    "bandEflux    = flc.energyFluxes[\"Band's GRB, Epeak\"]\n",
    "bandEfluxErr = flc.energyFluxErrors[\"Band's GRB, Epeak\"]"
   ]
  },
  {
   "cell_type": "markdown",
   "metadata": {},
   "source": [
    "Now we can look at the HIC"
   ]
  },
  {
   "cell_type": "code",
   "execution_count": 9,
   "metadata": {
    "collapsed": false
   },
   "outputs": [
    {
     "data": {
      "text/plain": [
       "<matplotlib.text.Text at 0x109829150>"
      ]
     },
     "execution_count": 9,
     "metadata": {},
     "output_type": "execute_result"
    },
    {
     "data": {
      "image/png": "[encoded data removed]",
      "text/plain": [
       "<matplotlib.figure.Figure at 0x1097a0f90>"
      ]
     },
     "metadata": {},
     "output_type": "display_data"
    }
   ],
   "source": [
    "errorbar(Ep,bandEflux,xerr=EpErr,yerr=bandEfluxErr,fmt='o',color='k')\n",
    "xscale('log')\n",
    "yscale('log')\n",
    "ylim(bottom = 5E-8)\n",
    "xlim(left = 50)\n",
    "xlabel(r\"$E_{\\rm p}$\")\n",
    "ylabel(r\"$F_{\\rm E}$\")"
   ]
  },
  {
   "cell_type": "markdown",
   "metadata": {},
   "source": [
    "## Multi component analysis\n",
    "\n",
    "Now we want to look at the light curves of two components in a spectrum"
   ]
  },
  {
   "cell_type": "code",
   "execution_count": 10,
   "metadata": {
    "collapsed": true
   },
   "outputs": [],
   "source": [
    "s2 = scatReader(\"batchFit_BB.fit\")"
   ]
  },
  {
   "cell_type": "code",
   "execution_count": 11,
   "metadata": {
    "collapsed": false
   },
   "outputs": [
    {
     "name": "stdout",
     "output_type": "stream",
     "text": [
      "SCAT Models:\n",
      "Band's GRB, Epeak\n",
      "Black Body\n",
      "\n",
      "\n",
      "Time Bins:\n",
      "0.0 : 5.0\n",
      "5.0 : 10.0\n",
      "10.0 : 15.0\n",
      "15.0 : 20.0\n",
      "20.0 : 25.0\n",
      "25.0 : 30.0\n",
      "30.0 : 35.0\n",
      "35.0 : 40.0\n",
      "40.0 : 45.0\n",
      "45.0 : 50.0\n",
      "50.0 : 55.0\n",
      "55.0 : 60.0\n",
      "60.0 : 65.0\n",
      "65.0 : 70.0\n",
      "\n",
      "\n",
      "\n"
     ]
    }
   ],
   "source": [
    "print s2"
   ]
  },
  {
   "cell_type": "code",
   "execution_count": 29,
   "metadata": {
    "collapsed": true
   },
   "outputs": [
    {
     "name": "stderr",
     "output_type": "stream",
     "text": [
      "/usr/local/lib/python2.7/site-packages/scipy/integrate/quadrature.py:195: AccuracyWarning: maxiter (200) exceeded. Latest difference = 4.182498e-03\n",
      "  AccuracyWarning)\n",
      "/usr/local/lib/python2.7/site-packages/scipy/integrate/quadrature.py:195: AccuracyWarning: maxiter (200) exceeded. Latest difference = 8.080775e-04\n",
      "  AccuracyWarning)\n",
      "/usr/local/lib/python2.7/site-packages/scipy/integrate/quadrature.py:195: AccuracyWarning: maxiter (200) exceeded. Latest difference = 6.417886e-05\n",
      "  AccuracyWarning)\n",
      "/usr/local/lib/python2.7/site-packages/scipy/integrate/quadrature.py:195: AccuracyWarning: maxiter (200) exceeded. Latest difference = 3.126330e-04\n",
      "  AccuracyWarning)\n",
      "/usr/local/lib/python2.7/site-packages/scipy/integrate/quadrature.py:195: AccuracyWarning: maxiter (200) exceeded. Latest difference = 1.199619e-03\n",
      "  AccuracyWarning)\n",
      "/usr/local/lib/python2.7/site-packages/scipy/integrate/quadrature.py:195: AccuracyWarning: maxiter (200) exceeded. Latest difference = 2.299797e-03\n",
      "  AccuracyWarning)\n"
     ]
    },
    {
     "name": "stdout",
     "output_type": "stream",
     "text": [
      "Completed 1 of 14 fluxes\n",
      "\n",
      "\n",
      "Completed 2 of 14 fluxes\n",
      "\n",
      "\n",
      "Completed 3 of 14 fluxes\n",
      "\n",
      "\n",
      "Completed 4 of 14 fluxes\n",
      "\n",
      "\n",
      "Completed 5 of 14 fluxes\n",
      "\n",
      "\n",
      "Completed 6 of 14 fluxes\n",
      "\n",
      "\n",
      "Completed 7 of 14 fluxes\n",
      "\n",
      "\n",
      "Completed 8 of 14 fluxes\n",
      "\n",
      "\n",
      "Completed 9 of 14 fluxes\n",
      "\n",
      "\n",
      "Completed 10 of 14 fluxes\n",
      "\n",
      "\n",
      "Completed 11 of 14 fluxes\n",
      "\n"
     ]
    },
    {
     "name": "stderr",
     "output_type": "stream",
     "text": [
      "/usr/local/lib/python2.7/site-packages/scipy/integrate/quadrature.py:195: AccuracyWarning: maxiter (200) exceeded. Latest difference = 2.516339e-03\n",
      "  AccuracyWarning)\n",
      "/usr/local/lib/python2.7/site-packages/scipy/integrate/quadrature.py:195: AccuracyWarning: maxiter (200) exceeded. Latest difference = 2.884052e-05\n",
      "  AccuracyWarning)\n",
      "/usr/local/lib/python2.7/site-packages/scipy/integrate/quadrature.py:195: AccuracyWarning: maxiter (200) exceeded. Latest difference = 5.341812e-05\n",
      "  AccuracyWarning)\n",
      "/usr/local/lib/python2.7/site-packages/scipy/integrate/quadrature.py:195: AccuracyWarning: maxiter (200) exceeded. Latest difference = 2.346899e-05\n",
      "  AccuracyWarning)\n",
      "/usr/local/lib/python2.7/site-packages/scipy/integrate/quadrature.py:195: AccuracyWarning: maxiter (200) exceeded. Latest difference = 3.237692e-06\n",
      "  AccuracyWarning)\n",
      "/usr/local/lib/python2.7/site-packages/scipy/integrate/quadrature.py:195: AccuracyWarning: maxiter (200) exceeded. Latest difference = 2.046663e-03\n",
      "  AccuracyWarning)\n"
     ]
    },
    {
     "name": "stdout",
     "output_type": "stream",
     "text": [
      "\n",
      "Completed 12 of 14 fluxes\n",
      "\n",
      "\n",
      "Completed 13 of 14 fluxes\n",
      "\n",
      "\n",
      "Completed 14 of 14 fluxes\n",
      "\n",
      "\n",
      "Completed 15 of 14 fluxes\n",
      "\n",
      "\n",
      "Completed 16 of 14 fluxes\n",
      "\n",
      "\n",
      "Completed 17 of 14 fluxes\n",
      "\n",
      "\n",
      "Completed 18 of 14 fluxes\n",
      "\n",
      "\n",
      "Completed 19 of 14 fluxes\n",
      "\n",
      "\n",
      "Completed 20 of 14 fluxes\n",
      "\n",
      "\n",
      "Completed 21 of 14 fluxes\n",
      "\n",
      "\n",
      "Completed 22 of 14 fluxes\n",
      "\n",
      "\n",
      "Completed 23 of 14 fluxes\n",
      "\n",
      "\n",
      "Completed 24 of 14 fluxes\n",
      "\n",
      "\n",
      "Completed 25 of 14 fluxes\n",
      "\n",
      "\n",
      "Completed 26 of 14 fluxes\n",
      "\n",
      "\n",
      "Completed 27 of 14 fluxes\n",
      "\n",
      "\n",
      "Completed 28 of 14 fluxes\n",
      "\n"
     ]
    },
    {
     "name": "stderr",
     "output_type": "stream",
     "text": [
      "/usr/local/lib/python2.7/site-packages/scipy/integrate/quadrature.py:195: AccuracyWarning: maxiter (200) exceeded. Latest difference = 7.736018e-06\n",
      "  AccuracyWarning)\n",
      "/Users/jburgess/Research/spectralTools/temporal/eFluxModels.py:24: RuntimeWarning: overflow encountered in exp\n",
      "  val = A*power(x,2)*power(exp(x/float64(kT))-1,-1)\n",
      "/usr/local/lib/python2.7/site-packages/scipy/integrate/quadrature.py:195: AccuracyWarning: maxiter (200) exceeded. Latest difference = 4.182499e-03\n",
      "  AccuracyWarning)\n",
      "/usr/local/lib/python2.7/site-packages/scipy/integrate/quadrature.py:195: AccuracyWarning: maxiter (200) exceeded. Latest difference = 4.182497e-03\n",
      "  AccuracyWarning)\n",
      "/usr/local/lib/python2.7/site-packages/scipy/integrate/quadrature.py:195: AccuracyWarning: maxiter (200) exceeded. Latest difference = 8.080777e-04\n",
      "  AccuracyWarning)\n",
      "/usr/local/lib/python2.7/site-packages/scipy/integrate/quadrature.py:195: AccuracyWarning: maxiter (200) exceeded. Latest difference = 8.080772e-04\n",
      "  AccuracyWarning)\n",
      "/usr/local/lib/python2.7/site-packages/scipy/integrate/quadrature.py:195: AccuracyWarning: maxiter (200) exceeded. Latest difference = 8.080774e-04\n",
      "  AccuracyWarning)\n",
      "/usr/local/lib/python2.7/site-packages/scipy/integrate/quadrature.py:195: AccuracyWarning: maxiter (200) exceeded. Latest difference = 8.080776e-04\n",
      "  AccuracyWarning)\n",
      "/usr/local/lib/python2.7/site-packages/scipy/integrate/quadrature.py:195: AccuracyWarning: maxiter (200) exceeded. Latest difference = 8.080773e-04\n",
      "  AccuracyWarning)\n",
      "/usr/local/lib/python2.7/site-packages/scipy/integrate/quadrature.py:195: AccuracyWarning: maxiter (200) exceeded. Latest difference = 6.417888e-05\n",
      "  AccuracyWarning)\n",
      "/usr/local/lib/python2.7/site-packages/scipy/integrate/quadrature.py:195: AccuracyWarning: maxiter (200) exceeded. Latest difference = 6.417885e-05\n",
      "  AccuracyWarning)\n",
      "/usr/local/lib/python2.7/site-packages/scipy/integrate/quadrature.py:195: AccuracyWarning: maxiter (200) exceeded. Latest difference = 6.417880e-05\n",
      "  AccuracyWarning)\n",
      "/usr/local/lib/python2.7/site-packages/scipy/integrate/quadrature.py:195: AccuracyWarning: maxiter (200) exceeded. Latest difference = 6.417893e-05\n",
      "  AccuracyWarning)\n",
      "/usr/local/lib/python2.7/site-packages/scipy/integrate/quadrature.py:195: AccuracyWarning: maxiter (200) exceeded. Latest difference = 6.417932e-05\n",
      "  AccuracyWarning)\n",
      "/usr/local/lib/python2.7/site-packages/scipy/integrate/quadrature.py:195: AccuracyWarning: maxiter (200) exceeded. Latest difference = 6.417841e-05\n",
      "  AccuracyWarning)\n",
      "/usr/local/lib/python2.7/site-packages/scipy/integrate/quadrature.py:195: AccuracyWarning: maxiter (200) exceeded. Latest difference = 3.126332e-04\n",
      "  AccuracyWarning)\n",
      "/usr/local/lib/python2.7/site-packages/scipy/integrate/quadrature.py:195: AccuracyWarning: maxiter (200) exceeded. Latest difference = 3.126328e-04\n",
      "  AccuracyWarning)\n",
      "/usr/local/lib/python2.7/site-packages/scipy/integrate/quadrature.py:195: AccuracyWarning: maxiter (200) exceeded. Latest difference = 3.126329e-04\n",
      "  AccuracyWarning)\n",
      "/usr/local/lib/python2.7/site-packages/scipy/integrate/quadrature.py:195: AccuracyWarning: maxiter (200) exceeded. Latest difference = 3.126331e-04\n",
      "  AccuracyWarning)\n",
      "/usr/local/lib/python2.7/site-packages/scipy/integrate/quadrature.py:195: AccuracyWarning: maxiter (200) exceeded. Latest difference = 1.199618e-03\n",
      "  AccuracyWarning)\n",
      "/usr/local/lib/python2.7/site-packages/scipy/integrate/quadrature.py:195: AccuracyWarning: maxiter (200) exceeded. Latest difference = 2.299798e-03\n",
      "  AccuracyWarning)\n",
      "/usr/local/lib/python2.7/site-packages/scipy/integrate/quadrature.py:195: AccuracyWarning: maxiter (200) exceeded. Latest difference = 2.299796e-03\n",
      "  AccuracyWarning)\n",
      "/usr/local/lib/python2.7/site-packages/scipy/integrate/quadrature.py:195: AccuracyWarning: maxiter (200) exceeded. Latest difference = 2.516340e-03\n",
      "  AccuracyWarning)\n",
      "/usr/local/lib/python2.7/site-packages/scipy/integrate/quadrature.py:195: AccuracyWarning: maxiter (200) exceeded. Latest difference = 2.516338e-03\n",
      "  AccuracyWarning)\n",
      "/usr/local/lib/python2.7/site-packages/scipy/integrate/quadrature.py:195: AccuracyWarning: maxiter (200) exceeded. Latest difference = 2.884054e-05\n",
      "  AccuracyWarning)\n",
      "/usr/local/lib/python2.7/site-packages/scipy/integrate/quadrature.py:195: AccuracyWarning: maxiter (200) exceeded. Latest difference = 2.884049e-05\n",
      "  AccuracyWarning)\n",
      "/usr/local/lib/python2.7/site-packages/scipy/integrate/quadrature.py:195: AccuracyWarning: maxiter (200) exceeded. Latest difference = 2.884051e-05\n",
      "  AccuracyWarning)\n",
      "/usr/local/lib/python2.7/site-packages/scipy/integrate/quadrature.py:195: AccuracyWarning: maxiter (200) exceeded. Latest difference = 2.884039e-05\n",
      "  AccuracyWarning)\n",
      "/usr/local/lib/python2.7/site-packages/scipy/integrate/quadrature.py:195: AccuracyWarning: maxiter (200) exceeded. Latest difference = 2.884064e-05\n",
      "  AccuracyWarning)\n",
      "/usr/local/lib/python2.7/site-packages/scipy/integrate/quadrature.py:195: AccuracyWarning: maxiter (200) exceeded. Latest difference = 5.341817e-05\n",
      "  AccuracyWarning)\n",
      "/usr/local/lib/python2.7/site-packages/scipy/integrate/quadrature.py:195: AccuracyWarning: maxiter (200) exceeded. Latest difference = 5.341807e-05\n",
      "  AccuracyWarning)\n",
      "/usr/local/lib/python2.7/site-packages/scipy/integrate/quadrature.py:195: AccuracyWarning: maxiter (200) exceeded. Latest difference = 5.341799e-05\n",
      "  AccuracyWarning)\n",
      "/usr/local/lib/python2.7/site-packages/scipy/integrate/quadrature.py:195: AccuracyWarning: maxiter (200) exceeded. Latest difference = 5.341825e-05\n",
      "  AccuracyWarning)\n",
      "/usr/local/lib/python2.7/site-packages/scipy/integrate/quadrature.py:195: AccuracyWarning: maxiter (200) exceeded. Latest difference = 2.346901e-05\n",
      "  AccuracyWarning)\n",
      "/usr/local/lib/python2.7/site-packages/scipy/integrate/quadrature.py:195: AccuracyWarning: maxiter (200) exceeded. Latest difference = 2.346896e-05\n",
      "  AccuracyWarning)\n",
      "/usr/local/lib/python2.7/site-packages/scipy/integrate/quadrature.py:195: AccuracyWarning: maxiter (200) exceeded. Latest difference = 2.346889e-05\n",
      "  AccuracyWarning)\n",
      "/usr/local/lib/python2.7/site-packages/scipy/integrate/quadrature.py:195: AccuracyWarning: maxiter (200) exceeded. Latest difference = 2.346908e-05\n",
      "  AccuracyWarning)\n",
      "/usr/local/lib/python2.7/site-packages/scipy/integrate/quadrature.py:195: AccuracyWarning: maxiter (200) exceeded. Latest difference = 3.237699e-06\n",
      "  AccuracyWarning)\n",
      "/usr/local/lib/python2.7/site-packages/scipy/integrate/quadrature.py:195: AccuracyWarning: maxiter (200) exceeded. Latest difference = 3.237686e-06\n",
      "  AccuracyWarning)\n",
      "/usr/local/lib/python2.7/site-packages/scipy/integrate/quadrature.py:195: AccuracyWarning: maxiter (200) exceeded. Latest difference = 2.046664e-03\n",
      "  AccuracyWarning)\n"
     ]
    },
    {
     "name": "stdout",
     "output_type": "stream",
     "text": [
      "\n"
     ]
    },
    {
     "name": "stderr",
     "output_type": "stream",
     "text": [
      "/usr/local/lib/python2.7/site-packages/scipy/integrate/quadrature.py:195: AccuracyWarning: maxiter (200) exceeded. Latest difference = 7.736026e-06\n",
      "  AccuracyWarning)\n",
      "/usr/local/lib/python2.7/site-packages/scipy/integrate/quadrature.py:195: AccuracyWarning: maxiter (200) exceeded. Latest difference = 7.736010e-06\n",
      "  AccuracyWarning)\n"
     ]
    }
   ],
   "source": [
    "flc2 = fluxLightCurve(s2, 8., 40000.)\n",
    "flc2.CreateEnergyLightCurve()\n",
    "flc2.EnergyLightCurveErrors()\n",
    "flc2.SaveEnergy() # Save out these possibly lengthy calculations"
   ]
  },
  {
   "cell_type": "code",
   "execution_count": 31,
   "metadata": {
    "collapsed": false
   },
   "outputs": [],
   "source": [
    "from spectralTools.step import Step"
   ]
  },
  {
   "cell_type": "code",
   "execution_count": 32,
   "metadata": {
    "collapsed": true
   },
   "outputs": [],
   "source": [
    "bandFlux2 = flc2.energyFluxes[\"Band's GRB, Epeak\"]\n",
    "bbFlux2 = flc2.energyFluxes[\"Black Body\"]"
   ]
  },
  {
   "cell_type": "code",
   "execution_count": 43,
   "metadata": {
    "collapsed": false
   },
   "outputs": [
    {
     "data": {
      "text/plain": [
       "<matplotlib.legend.Legend at 0x111432410>"
      ]
     },
     "execution_count": 43,
     "metadata": {},
     "output_type": "execute_result"
    },
    {
     "data": {
      "image/png": "[encoded data removed]",
      "text/plain": [
       "<matplotlib.figure.Figure at 0x1114995d0>"
      ]
     },
     "metadata": {},
     "output_type": "display_data"
    }
   ],
   "source": [
    "fig = figure(123)\n",
    "ax = fig.add_subplot(111)\n",
    "Step(ax,flc2.tBins,bandFlux2,col=\"blue\")\n",
    "Step(ax,flc2.tBins,bbFlux2,col=\"red\")\n",
    "ylabel(r\"$F_{\\rm E}$\")\n",
    "xlabel(\"Time\")\n",
    "ylim(bottom=0)\n",
    "legend([\"Band\",\"Blackbody\"])"
   ]
  },
  {
   "cell_type": "code",
   "execution_count": 14,
   "metadata": {
    "collapsed": false
   },
   "outputs": [
    {
     "data": {
      "text/plain": [
       "<matplotlib.legend.Legend at 0x109d67290>"
      ]
     },
     "execution_count": 14,
     "metadata": {},
     "output_type": "execute_result"
    },
    {
     "data": {
      "image/png": "[encoded data removed]",
      "text/plain": [
       "<matplotlib.figure.Figure at 0x109ba9450>"
      ]
     },
     "metadata": {},
     "output_type": "display_data"
    }
   ],
   "source": [
    "Ep = s2.GetParamArray(\"Band's GRB, Epeak\",\"Epeak\")[:,0]\n",
    "EpErr = s2.GetParamArray(\"Band's GRB, Epeak\",\"Epeak\")[:,1]\n",
    "\n",
    "kT = s2.GetParamArray(\"Black Body\",\"kT\")[:,0]\n",
    "kTErr = s2.GetParamArray(\"Black Body\",\"kT\")[:,1]\n",
    "\n",
    "\n",
    "# Get the mean of the time bins for plotting\n",
    "\n",
    "time = s.meanTbins\n",
    "\n",
    "\n",
    "errorbar(time,Ep,yerr=EpErr,fmt=',',color='k')\n",
    "errorbar(time,kT,yerr=kTErr,fmt=',',color='g')\n",
    "#ylabel(r\"$E_{\\rm p}$\")\n",
    "xlabel(\"Time\")\n",
    "xscale('log')\n",
    "yscale('log', nonposy='clip')\n",
    "\n",
    "legend([\"Ep\",\"kT\"])\n"
   ]
  },
  {
   "cell_type": "code",
   "execution_count": null,
   "metadata": {
    "collapsed": true
   },
   "outputs": [],
   "source": []
  }
 ],
 "metadata": {
  "kernelspec": {
   "display_name": "Python 2",
   "language": "python",
   "name": "python2"
  },
  "language_info": {
   "codemirror_mode": {
    "name": "ipython",
    "version": 2
   },
   "file_extension": ".py",
   "mimetype": "text/x-python",
   "name": "python",
   "nbconvert_exporter": "python",
   "pygments_lexer": "ipython2",
   "version": "2.7.10"
  }
 },
 "nbformat": 4,
 "nbformat_minor": 0
}
