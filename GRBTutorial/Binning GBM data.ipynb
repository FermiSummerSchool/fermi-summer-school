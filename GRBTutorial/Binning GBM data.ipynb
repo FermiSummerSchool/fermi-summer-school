{
 "cells": [
  {
   "cell_type": "markdown",
   "metadata": {},
   "source": [
    "# Playing with TTE Data"
   ]
  },
  {
   "cell_type": "markdown",
   "metadata": {},
   "source": [
    "Unfortuantely, there are not built in ways to arbitraily bin data with RMFIT. Therefore, we must make our own. Here we will see how to:\n",
    "- Open GBM TTE files\n",
    "- Make energy selections \n",
    "- Bin the data with various methods\n",
    "\n",
    "\n"
   ]
  },
  {
   "cell_type": "code",
   "execution_count": 1,
   "metadata": {
    "collapsed": false
   },
   "outputs": [
    {
     "name": "stdout",
     "output_type": "stream",
     "text": [
      "Populating the interactive namespace from numpy and matplotlib\n"
     ]
    }
   ],
   "source": [
    "import astropy.io.fits as fits\n",
    "%pylab inline"
   ]
  },
  {
   "cell_type": "code",
   "execution_count": 2,
   "metadata": {
    "collapsed": true
   },
   "outputs": [],
   "source": [
    "tteFile = fits.open(\"glg_tte_n0_bn080916009_v01.fit\")\n",
    "\n",
    "# Select the EBOUNDS extension \n",
    "# This extension allows us to map\n",
    "# energy into channel number\n",
    "ebounds = tteFile[\"EBOUNDS\"]\n",
    "\n",
    "# The events extension is where the time\n",
    "# and energy tags are stored\n",
    "events  = tteFile[\"EVENTS\"]\n",
    "\n",
    "# We will also need the trigger time\n",
    "# which we grab from the primary\n",
    "# header file\n",
    "trigTime = tteFile[0].header[\"TRIGTIME \"]\n"
   ]
  },
  {
   "cell_type": "markdown",
   "metadata": {},
   "source": [
    "TTE events are tagged in time and PHA channel number. It is important fro us to be able to make selections on energy when binning data with various methods. For example, we do not want to include overflow channels when creating Bayesian blocks. Or, we may be interested in the variability of the 30-40 keV range and chose to bin from there.\n",
    "\n",
    "\n",
    "Therefore we must write some functions to properly select events by channel. Then we must right a function that selects events over a particular energy range."
   ]
  },
  {
   "cell_type": "code",
   "execution_count": 3,
   "metadata": {
    "collapsed": false
   },
   "outputs": [],
   "source": [
    "def Energy2Channel(energy,ebounds):\n",
    "    \n",
    "    # Find which channel contains the energy you select\n",
    "    index = ebounds.data[\"E_MAX\"].searchsorted(energy)\n",
    "    return ebounds.data[\"CHANNEL\"][index]\n",
    "\n",
    "\n",
    "def SelectEvents(emin,emax,ebounds,events):\n",
    "    \n",
    "    # Obatain or maximum and minimum channels\n",
    "    chanMax = Energy2Channel(emax,ebounds)\n",
    "    chanMin = Energy2Channel(emin,ebounds)\n",
    "    \n",
    "    \n",
    "    # Make a logical selection on the data\n",
    "    \n",
    "    greaterTruthTable = events.data[\"PHA\"] >= chanMin\n",
    "    lesserTruthTable  = events.data[\"PHA\"] <= chanMax\n",
    "    \n",
    "    combinedSelection = greaterTruthTable & lesserTruthTable\n",
    "    \n",
    "    # Return the events selection in trigger time\n",
    "    return events.data[\"TIME\"][combinedSelection] - trigTime\n",
    "    \n",
    "    \n",
    "    "
   ]
  },
  {
   "cell_type": "markdown",
   "metadata": {},
   "source": [
    "With these two functions, we can easily select events that are between two energies. **Try and make similar functions that allow you too select non-contiguous regions in energy space.** These types of functions are easily integrated into classes that allow for nice clean operation of TTE files.\n"
   ]
  },
  {
   "cell_type": "markdown",
   "metadata": {},
   "source": [
    "# Binning data"
   ]
  },
  {
   "cell_type": "markdown",
   "metadata": {},
   "source": [
    "Now let's actaully bin the data. First we will select some events from the NaI we loaded above. We choose the sweet spot of the detector (8-300 keV) for binning."
   ]
  },
  {
   "cell_type": "code",
   "execution_count": 4,
   "metadata": {
    "collapsed": false
   },
   "outputs": [],
   "source": [
    "selectedEvents = SelectEvents(8.,300.,ebounds,events)"
   ]
  },
  {
   "cell_type": "markdown",
   "metadata": {},
   "source": [
    "The library astroML has some very nice utilities for binning data. We will use it here to bin the events."
   ]
  },
  {
   "cell_type": "code",
   "execution_count": 5,
   "metadata": {
    "collapsed": true
   },
   "outputs": [],
   "source": [
    "from astroML.density_estimation import bayesian_blocks, knuth_bin_width"
   ]
  },
  {
   "cell_type": "markdown",
   "metadata": {},
   "source": [
    "Some of these algorithms take a long time to run. We are only interested in the events around the source (unless we believe there is something else off-source). Therefore, we use numpy to select events around the source time."
   ]
  },
  {
   "cell_type": "code",
   "execution_count": 6,
   "metadata": {
    "collapsed": false
   },
   "outputs": [],
   "source": [
    "timeSelectedEvents = selectedEvents[(selectedEvents>=-1.) & (selectedEvents<=72.) ]"
   ]
  },
  {
   "cell_type": "code",
   "execution_count": 60,
   "metadata": {
    "collapsed": false
   },
   "outputs": [],
   "source": [
    "bb = bayesian_blocks(timeSelectedEvents,p0=0.05)"
   ]
  },
  {
   "cell_type": "code",
   "execution_count": 59,
   "metadata": {
    "collapsed": false
   },
   "outputs": [
    {
     "data": {
      "text/plain": [
       "(array([ 0.00757724,  0.01287145,  0.00256339,  0.01149585,  0.01476928,\n",
       "         0.01915651,  0.23048999,  0.01777719,  0.01518724,  0.10786262,\n",
       "         0.01419023,  0.01874876,  0.01363137,  0.04276961,  0.01450479,\n",
       "         0.01553554,  0.01395919,  0.01295626,  0.01168701,  0.04875434,\n",
       "         0.01107698,  0.01301815,  0.01130138,  0.01333201,  0.04612093,\n",
       "         0.01151899]),\n",
       " array([ -0.998548  ,  -0.97569299,  -0.94482699,  -0.93290499,\n",
       "          0.18274501,   0.903521  ,   4.82109801,   4.821319  ,\n",
       "          6.78224002,  10.17492402,  10.17577401,  13.62089701,\n",
       "         13.75075501,  16.63987501,  16.645115  ,  20.22060101,\n",
       "         26.386316  ,  38.63615701,  48.809513  ,  50.99298501,\n",
       "         50.996746  ,  56.22218901,  60.03304802,  62.34060101,\n",
       "         63.61740501,  63.620939  ,  71.99936402]),\n",
       " <a list of 26 Patch objects>)"
      ]
     },
     "execution_count": 59,
     "metadata": {},
     "output_type": "execute_result"
    },
    {
     "data": {
      "image/png": "[encoded data removed]",
      "text/plain": [
       "<matplotlib.figure.Figure at 0x112fc8810>"
      ]
     },
     "metadata": {},
     "output_type": "display_data"
    }
   ],
   "source": [
    "_,_,_ = hist(timeSelectedEvents,bins=bb,normed=True,histtype=\"step\",color='k')"
   ]
  },
  {
   "cell_type": "code",
   "execution_count": 13,
   "metadata": {
    "collapsed": false
   },
   "outputs": [
    {
     "name": "stdout",
     "output_type": "stream",
     "text": [
      "Optimization terminated successfully.\n",
      "         Current function value: -808.284842\n",
      "         Iterations: 16\n",
      "         Function evaluations: 44\n"
     ]
    },
    {
     "data": {
      "image/png": "[encoded data removed]",
      "text/plain": [
       "<matplotlib.figure.Figure at 0x10d6f1290>"
      ]
     },
     "metadata": {},
     "output_type": "display_data"
    }
   ],
   "source": [
    "knWidth = knuth_bin_width(timeSelectedEvents)\n",
    "_,_,_ = hist(timeSelectedEvents,bins=arange(-1.,72.,knWidth),histtype=\"step\",color='k')"
   ]
  },
  {
   "cell_type": "markdown",
   "metadata": {},
   "source": [
    "There is an included tool to help with binning. It is still in alpha stage but can be used to bin TTE data easily and \n",
    "make GBM .ti files for custom binning. "
   ]
  },
  {
   "cell_type": "code",
   "execution_count": 14,
   "metadata": {
    "collapsed": false
   },
   "outputs": [],
   "source": [
    "from spectralTools.binning.tteBinning import tteBinning"
   ]
  },
  {
   "cell_type": "code",
   "execution_count": 19,
   "metadata": {
    "collapsed": false
   },
   "outputs": [
    {
     "name": "stdout",
     "output_type": "stream",
     "text": [
      "The Trigger Time for this event::\n",
      "243216766.613542\n",
      "Optimization terminated successfully.\n",
      "         Current function value: -844.321976\n",
      "         Iterations: 17\n",
      "         Function evaluations: 47\n"
     ]
    },
    {
     "data": {
      "image/png": "[encoded data removed]",
      "text/plain": [
       "<matplotlib.figure.Figure at 0x10d5baa90>"
      ]
     },
     "metadata": {},
     "output_type": "display_data"
    }
   ],
   "source": [
    "# Load a TTE file and set the start and stop times\n",
    "tb = tteBinning(\"glg_tte_n0_bn080916009_v01.fit\",-1,72.)\n",
    "# Select a method to bin the data\n",
    "tb.MakeKnuth()\n",
    "\n",
    "# Can print out the plot\n",
    "tb.Preview()\n",
    "\n",
    "# Write ti files to a sub-folder\n",
    "tb.MakeTI()"
   ]
  },
  {
   "cell_type": "code",
   "execution_count": null,
   "metadata": {
    "collapsed": true
   },
   "outputs": [],
   "source": []
  },
  {
   "cell_type": "code",
   "execution_count": null,
   "metadata": {
    "collapsed": true
   },
   "outputs": [],
   "source": []
  }
 ],
 "metadata": {
  "kernelspec": {
   "display_name": "Python 2",
   "language": "python",
   "name": "python2"
  },
  "language_info": {
   "codemirror_mode": {
    "name": "ipython",
    "version": 2
   },
   "file_extension": ".py",
   "mimetype": "text/x-python",
   "name": "python",
   "nbconvert_exporter": "python",
   "pygments_lexer": "ipython2",
   "version": "2.7.10"
  }
 },
 "nbformat": 4,
 "nbformat_minor": 0
}
