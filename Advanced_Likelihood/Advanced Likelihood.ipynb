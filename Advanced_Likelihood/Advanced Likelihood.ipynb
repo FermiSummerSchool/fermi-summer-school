{
 "metadata": {
  "name": "",
  "signature": "sha256:244e3220b68446b361be87637b711ce2a754ef2d5ea0c4597df7072b179c24e9"
 },
 "nbformat": 3,
 "nbformat_minor": 0,
 "worksheets": [
  {
   "cells": [
    {
     "cell_type": "markdown",
     "metadata": {},
     "source": [
      "Advanced Likelihood\n",
      "===================\n",
      "*Jeremy S. Perkins, FSSC*"
     ]
    },
    {
     "cell_type": "markdown",
     "metadata": {},
     "source": [
      "Software/Data Needed\n",
      "---------------------\n",
      "\n",
      "Before we start, please download and extract the 'Advanced Likelihood' tarball and Download and Install the two software packages on the agenda page:\n",
      "\n",
      "* To install the packages, download them, unpack them, go into the directory and execute 'python setup.py install'.\n",
      "\n",
      " `wget https://github.com/kialio/LATAnalysisScripts/archive/master.zip`\n",
      " \n",
      " `unzip master.zip`\n",
      " \n",
      " `cd LATAnalysisScripts-master`\n",
      " \n",
      " `python setup.py install`\n",
      " \n",
      " \n",
      "* Do the same for both the 'LATAnalysisScripts' and 'gtapps_mp'.  These are basically helper packages that are useful for making your analysis more efficient.  There are [some on the FSSC website](http://fermi.gsfc.nasa.gov/ssc/data/analysis/user/) and other packages like [enrico](http://enrico.readthedocs.org/en/latest/).\n",
      "\n",
      "* If you use these and like them, you should contribute back to these projects: [LATAnalysisScripts](https://github.com/kialio/LATAnalysisScripts), [gtapps_mp](https://github.com/kialio/gtapps_mp), [enrico](https://github.com/gammapy/enrico).\n",
      "\n",
      "* Download and extract the data file 'Advanced_Likelihood.tgz' and go into that directory.  I've included lots of data files etc. for you to use.\n",
      " "
     ]
    },
    {
     "cell_type": "markdown",
     "metadata": {},
     "source": [
      "Fit Verification\n",
      "----------------\n",
      "\n",
      "Most of the time, your initial fit will not converge.  This can manifest in several ways:\n",
      "\n",
      "* It will say it didn't converge,\n",
      "* It will crash (this is annoying),\n",
      "* It will fail silently (this is also annoying).\n",
      "\n",
      "When this happens, your fit is probably not correct and the errors are not accurate.  This is a bad thing and can lead to incorrect science results.  You don't want this.  \n",
      "\n",
      "## How do I fix this?\n",
      "\n",
      "1. The culprit is usually a parameter (or parameters) in the model that reach the limits set in the XML file. If this happens the minimizer cannot reach the formal minimum, and hence cannot calculate the curvature. \n",
      "\n",
      "    * Often the problem is with spectral shape parameters (PL index etc..), so simply freezing the shape of all spectral parameters to their values from the full time period (and certainly for weaker background sources) may solve the problem (this could introduce errors, so be careful if you have variable sources).\n",
      "\n",
      "    * Weak background sources are more likely to cause problems, so you could consider just freezing them completely (or removing them from the model). For example a background source from the catalog that is detected at TS~=25 in 2 years could cause convergence problems in a 1-month light curve, where it will often not be detectable at all.\n",
      "\n",
      "2. If there are no parameters at their limits, then increasing the overall convergence tolerance may help - try using a value of 1E-8 for the absolute tolerance.\n",
      "\n",
      "3. If that doesn't help then try to systematically simplify the model. Progressively freeze all sources, starting with those at the edge of the ROI in and moving in until you get a model simple enough for the minimizer to work reliably. For example if you are using a 10 degree ROI, you could start by freezing all background sources further than 7 degrees from the source of interest, and move to 5 degrees if that doesn't solve the problem.\n",
      "\n",
      "Also, check and make sure there aren't any bright pulsars in your ROI. They might need to be gated. It's also really difficult to get convergence at low energies (100 - 200 MeV) so you could restrict your fit to above 200 (or 300 MeV).\n",
      "\n",
      "## How do I check for convergence?\n",
      "\n",
      "Glad you asked, if you're using python, you can query the optimizer directly this way (using our little data set as an example).\n"
     ]
    },
    {
     "cell_type": "code",
     "collapsed": false,
     "input": [
      "from UnbinnedAnalysis import *"
     ],
     "language": "python",
     "metadata": {},
     "outputs": [],
     "prompt_number": 1
    },
    {
     "cell_type": "code",
     "collapsed": false,
     "input": [
      "obs = UnbinnedObs(eventFile='3C279_filtered_gti.fits', \n",
      "                  scFile='L1405221252264C652E7F67_SC00.fits', \n",
      "                  expMap='3C279_expmap.fits',\n",
      "                  expCube='3C279_ltcube.fits',\n",
      "                  irfs='P7REP_SOURCE_V15')"
     ],
     "language": "python",
     "metadata": {},
     "outputs": [],
     "prompt_number": 2
    },
    {
     "cell_type": "code",
     "collapsed": false,
     "input": [
      "analysis = UnbinnedAnalysis(obs,srcModel='3C279_input_model.xml', optimizer='NEWMINUIT')"
     ],
     "language": "python",
     "metadata": {},
     "outputs": [],
     "prompt_number": 3
    },
    {
     "cell_type": "markdown",
     "metadata": {},
     "source": [
      "Now, you have to create a logLike object (instead of having the fit routine create one on the fly) so we can access it later."
     ]
    },
    {
     "cell_type": "code",
     "collapsed": false,
     "input": [
      "likeObj = pyLike.NewMinuit(analysis.logLike)"
     ],
     "language": "python",
     "metadata": {},
     "outputs": [],
     "prompt_number": 4
    },
    {
     "cell_type": "markdown",
     "metadata": {},
     "source": [
      "And then, when you do the fit, you pass that object to the fit function so it will use that one."
     ]
    },
    {
     "cell_type": "code",
     "collapsed": false,
     "input": [
      "analysis.fit(covar=True,optObject=likeObj)"
     ],
     "language": "python",
     "metadata": {},
     "outputs": [
      {
       "metadata": {},
       "output_type": "pyout",
       "prompt_number": 5,
       "text": [
        "815515.8994541339"
       ]
      }
     ],
     "prompt_number": 5
    },
    {
     "cell_type": "markdown",
     "metadata": {},
     "source": [
      "Now we can check out if the fit converged.."
     ]
    },
    {
     "cell_type": "code",
     "collapsed": false,
     "input": [
      "likeObj.getRetCode()"
     ],
     "language": "python",
     "metadata": {},
     "outputs": [
      {
       "metadata": {},
       "output_type": "pyout",
       "prompt_number": 6,
       "text": [
        "0"
       ]
      }
     ],
     "prompt_number": 6
    },
    {
     "cell_type": "markdown",
     "metadata": {},
     "source": [
      "If this isn't 0 (for Minuit and NewMinuit at least) than you've got a problem and you need to work on your fit."
     ]
    },
    {
     "cell_type": "code",
     "collapsed": false,
     "input": [
      "analysis2 = UnbinnedAnalysis(obs,srcModel='3C279_input_model.xml', optimizer='MINUIT')"
     ],
     "language": "python",
     "metadata": {},
     "outputs": [],
     "prompt_number": 7
    },
    {
     "cell_type": "code",
     "collapsed": false,
     "input": [
      "likeObj2 = pyLike.Minuit(analysis2.logLike)"
     ],
     "language": "python",
     "metadata": {},
     "outputs": [],
     "prompt_number": 8
    },
    {
     "cell_type": "code",
     "collapsed": false,
     "input": [
      "analysis2.fit(covar=True, optObject=likeObj2)"
     ],
     "language": "python",
     "metadata": {},
     "outputs": [
      {
       "metadata": {},
       "output_type": "pyout",
       "prompt_number": 9,
       "text": [
        "815515.8992054253"
       ]
      }
     ],
     "prompt_number": 9
    },
    {
     "cell_type": "code",
     "collapsed": false,
     "input": [
      "likeObj2.getRetCode()"
     ],
     "language": "python",
     "metadata": {},
     "outputs": [
      {
       "metadata": {},
       "output_type": "pyout",
       "prompt_number": 10,
       "text": [
        "0"
       ]
      }
     ],
     "prompt_number": 10
    },
    {
     "cell_type": "markdown",
     "metadata": {},
     "source": [
      "The FSSC provides a [user contributed tool](http://fermi.gsfc.nasa.gov/ssc/data/analysis/user/) called [LATAnalysisScripts](http://fermi.gsfc.nasa.gov/ssc/data/analysis/user/LATAnalysisScripts-0.1.11.tar.gz) which provides several functions that help in the fitting and analysis process.  I use this everyday and continue to add features as I need them ([you can too](https://github.com/kialio/LATAnalysisScripts)). You can install these later (I can help out) but here are some nice features:"
     ]
    },
    {
     "cell_type": "code",
     "collapsed": false,
     "input": [
      "from quickLike import *"
     ],
     "language": "python",
     "metadata": {},
     "outputs": [],
     "prompt_number": 11
    },
    {
     "cell_type": "code",
     "collapsed": false,
     "input": [
      "help(quickLike)"
     ],
     "language": "python",
     "metadata": {},
     "outputs": [
      {
       "output_type": "stream",
       "stream": "stdout",
       "text": [
        "Help on class quickLike in module quickLike:\n",
        "\n",
        "class quickLike\n",
        " |  This is the base class.  A usual likelihood analysis will\n",
        " |  consists of running the following functions (assuming you have a\n",
        " |  configuration file):\n",
        " |  \n",
        " |  * qL = quickLike('MySource', True)\n",
        " |  * qL.makeObs()\n",
        " |  * qL.initDRM()\n",
        " |  * qL.fitDRM()\n",
        " |  * qL.initMIN()\n",
        " |  * qL.fitMIN()\n",
        " |  \n",
        " |  This will set up all of the objects needed for the analysis and do an\n",
        " |  initial fit with one of the DRM optimizers.  It'll save these results\n",
        " |  and use them for the second fit with one of the Minuit optimizers.\n",
        " |  \n",
        " |  If you do not have a configuration file, you'll need to input all\n",
        " |  of the options for this module when you create the quickLike\n",
        " |  object (see the various options below).  You can create a\n",
        " |  configuration file by executing writeConfig().\n",
        " |  \n",
        " |  * qL.writeConfig()\n",
        " |  \n",
        " |  This module will catch any failures from the optimizers and will\n",
        " |  report them to the user.  There are a few functions that are useful to\n",
        " |  use in this case:\n",
        " |  \n",
        " |  Methods defined here:\n",
        " |  \n",
        " |  Print(self)\n",
        " |      Prints out information about the various objects to the\n",
        " |      terminal and to the log file.\n",
        " |  \n",
        " |  __init__(self, base='MySource', configFile=False, likelihoodConfig={'drmtol': 0.1, 'mintol': 0.0001, 'model': 'MySource_model.xml', 'sourcename': 'Source Name'}, commonConfig={'base': 'MySource', 'binned': False, 'eventclass': 2, 'irfs': 'P7SOURCE_V6', 'multicore': 0, 'verbosity': 0})\n",
        " |  \n",
        " |  calcBowtie(self, srcName, minE, maxE, numBins)\n",
        " |      This is derived from T. Johnson's likeSED code which was in turn\n",
        " |      derived from D. Sanchez's pyUnfoldPlot code which was probably\n",
        " |      based on some code developed by J. Chiang.\n",
        " |  \n",
        " |  calcUpper(self, source, Emin=100, Emax=300000)\n",
        " |      Calculates an upper limit for a source in your model.\n",
        " |  \n",
        " |  customERange(self, Emin, Emax)\n",
        " |      Sets a smaller energy range for the fitting of both the DRM\n",
        " |      and MIN optimization steps.\n",
        " |  \n",
        " |  decodeRetCode(self, optimizer, retCode)\n",
        " |      Decodes the return codes from the Minuit and New Minuit fit\n",
        " |      functions.  Used in the fitting functions in this module.\n",
        " |      You'll probably never use this function.\n",
        " |  \n",
        " |  fitDRM(self)\n",
        " |      Performs a DRM inital fit on your data using the\n",
        " |      <basename>_model.xml model file.  It tries an intial fit and\n",
        " |      if that fails, tries a tighter tolerance.  If that fails, it\n",
        " |      tries a looser tolerance.  If that fails, it tries to do this\n",
        " |      initial fit with the MINUIT optimizer.  If that fails, this\n",
        " |      function bails.  If the fit converges, it saves the results to\n",
        " |      <basename>_likeDRM.xml which will be used in the NewMinuit\n",
        " |      fit.  If no fit is found, it will save the results to\n",
        " |      <basename>_badDRMFit.xml.  You can use this in the NewMinuit fit\n",
        " |      if you use the useBadFit option in initMIN.  You need to have run\n",
        " |      initDRM before you run this function.\n",
        " |  \n",
        " |  fitMIN(self)\n",
        " |      Does a New Minuit fit on your data based on the model\n",
        " |      output by the fitDRM function.  You need to have run initMIN\n",
        " |      before running this function.  Saves the results to\n",
        " |      <basename>_likeMIN.xml if there is convergence.  If\n",
        " |      convergence is not found, saves the results to\n",
        " |      <basename>_badMINFit.xml.\n",
        " |  \n",
        " |  initAltFit(self, opt='MINUIT')\n",
        " |      Initiallizes a minuit optimizer to use as a backup to the\n",
        " |      DRM optimizer.  This function is used internally in the fitDRM\n",
        " |      function so you probably will never use it.  You need to run\n",
        " |      makeObs before you run this function.  If it hasn't been run,\n",
        " |      this function will exit.\n",
        " |  \n",
        " |  initDRM(self)\n",
        " |      Initializes the DRM optimizer (either binned or unbinned).\n",
        " |      This is usually the second function that you run when using\n",
        " |      this module.  You need to run makeObs before you run this\n",
        " |      function.  If it hasn't been run, this function will exit.\n",
        " |  \n",
        " |  initMIN(self, useBadFit=False, modelFile='', useEdisp=False)\n",
        " |      Initiallizes a New Minuit optimizer to use as a backup to\n",
        " |      the DRM optimizer.  This is usually run after you have\n",
        " |      initially run fitDRM and created a <basename>_likeDRM.xml\n",
        " |      model file which is used a seed for the New Minuit optimizer.\n",
        " |      You can skip the DRM process if you like but you need to have\n",
        " |      the proper model file (<basename>_likeDRM.xml) present in the\n",
        " |      working directory. You need to run makeObs before you run this\n",
        " |      function.  If it hasn't been run, this function will exit.  If\n",
        " |      you want to use the non convergant fit from fitDRM, set\n",
        " |      useBadFit to True.  You can also pass a custom model file name\n",
        " |      via the modelFile parameter.\n",
        " |  \n",
        " |  makeObs(self)\n",
        " |      Creates either a binned or unbinned observation object for\n",
        " |      use in the likelihood analysis.  This function checks for all\n",
        " |      of the needed files first.  If you do not have a needed file,\n",
        " |      see the quickAnalysis module for creation.  This function\n",
        " |      should be run before any of the init or fit functions.\n",
        " |  \n",
        " |  paramsAtLimit(self, limit=0.1)\n",
        " |      This function will print out any sources whoes parameters\n",
        " |      are close to their limits.  You could use this to find sources\n",
        " |      that are having issues being fit.  This function is useful\n",
        " |      when you're having trouble getting convergence from the New\n",
        " |      Minuit fit routine. The limit is in percentage difference of a\n",
        " |      bound.  If one of the bounds is zero it uses the value of the\n",
        " |      parameter to check for closeness (absolute instead of percent\n",
        " |      differenct).  The default is 0.1 (1%) difference for a measure\n",
        " |      of closeness.\n",
        " |  \n",
        " |  pokeSource(self, source, paramName='Prefactor')\n",
        " |      This function pokes a paramter of a source to a value that is 10%\n",
        " |      of what it was.  This is a useful function to use when you are trying\n",
        " |      to get convergence on a fit.  Many times, a fit won't converge because\n",
        " |      the initial model is too close to the final answer (ie. the minimizer\n",
        " |      does not have enough flexibility to accurately calculate a correlation\n",
        " |      matrix).  In this case, run this funciton on one of the stronger\n",
        " |      sources in your model and redo the fit.  This function is also useful\n",
        " |      to determine how robust your fit is. Note that it defaults to using\n",
        " |      poking the 'Prefactor' parameter which might not exist for your\n",
        " |      specific source.  In that case, choose a different paramter.\n",
        " |  \n",
        " |  printSource(self, source, Emin=100, Emax=300000)\n",
        " |      Prints various details for a source in your model.\n",
        " |  \n",
        " |  reLoadSource(self)\n",
        " |      This function puts the source removed by the unLoadSource function\n",
        " |      back into the model.\n",
        " |  \n",
        " |  removeWeak(self, mySource='', tslimit=0, distlimit=0, RemoveFree=False, RemoveFixed=False, recalc=True)\n",
        " |      This function has two main uses: it will print out details\n",
        " |      on all of the sources in your model and it will remove sources\n",
        " |      according to different requirements.  If you just want to\n",
        " |      print out details, execute it this way:\n",
        " |      \n",
        " |      <obj>.removeWeak(<my_source>)\n",
        " |      \n",
        " |      Where <obj> is the quickLike object you're using here and\n",
        " |      <my_source> is the name of your source of interest.  You can\n",
        " |      then remove some of these sources from the model if you like.\n",
        " |      For example, if you want to remove all of the fixed sources\n",
        " |      with TS values less than 1, execute it this way:\n",
        " |      \n",
        " |      <obj>.removeWeak(<my_source>,tslimit=1,RemoveFixed=True)\n",
        " |      \n",
        " |      You can mix and match any of the options.  You could remove\n",
        " |      all sources (fixed and free) that are below a TS value of 3\n",
        " |      and are 10 degrees from your source of interest by executing:\n",
        " |      \n",
        " |      <obj>.removeWeak(<my_source>,tslimit=3,distlimit=10,RemoveFree=True,RemoveFixed=True)\n",
        " |      \n",
        " |      This funcitons precalculates all of the relavant source\n",
        " |      details and saves them to <obj>.sourceDetails.  You can choose\n",
        " |      to not recalculate these values and use the saved ones by\n",
        " |      passing 'recalc=False' to the function.\n",
        " |  \n",
        " |  unLoadSource(self, name)\n",
        " |      This function removes a source from the model and stores it so that\n",
        " |      you can use it later if you would like.  This is useful if you are\n",
        " |      working on an upper limit and need to get a fit to work before you can\n",
        " |      calculate the upper limit.\n",
        " |  \n",
        " |  writeConfig(self)\n",
        " |      Writes all of the initialization variables to the config\n",
        " |      file called <basename>.cfg\n",
        "\n"
       ]
      }
     ],
     "prompt_number": 12
    },
    {
     "cell_type": "markdown",
     "metadata": {},
     "source": [
      "Inspecting the code will also give you an idea of how to interact with the python tools.  Now, we're going to do an analysis of a more advanced region. \n",
      "\n",
      "Let's do this thing (you should do all of this in a terminal).  First, take a look in the directory to see what we have..."
     ]
    },
    {
     "cell_type": "code",
     "collapsed": false,
     "input": [
      "ls"
     ],
     "language": "python",
     "metadata": {},
     "outputs": [
      {
       "output_type": "stream",
       "stream": "stdout",
       "text": [
        "3C279_expmap.fits        Advanced Likelihood.ipynb          L1405221252264C652E7F67_SC00.fits  SwiftJ1644_filtered_gti.fits\r\n",
        "3C279_filtered.fits      events.txt                         L1405231710349D489E7F57_PH00.fits  SwiftJ1644_likeMinuit.xml\r\n",
        "3C279_filtered_gti.fits  gll_iem_v05_rev1.fit               L1405231710349D489E7F57_SC00.fits  SwiftJ1644.list\r\n",
        "3C279_input_model.xml    iso_source_v05.txt                 SwiftJ1644.cfg                     SwiftJ1644_ltcube.fits\r\n",
        "3C279_input_model.xml~   L1405221252264C652E7F67_PH00.fits  SwiftJ1644_expMap.fits             SwiftJ1644_model.xml\r\n",
        "3C279_ltcube.fits        L1405221252264C652E7F67_PH01.fits  SwiftJ1644_filtered.fits           SwiftJ1644_SC.fits\r\n"
       ]
      }
     ],
     "prompt_number": 13
    },
    {
     "cell_type": "markdown",
     "metadata": {},
     "source": [
      "You can see that there's a configuration flie that tells the code how to do the analysis.  It looks like this:"
     ]
    },
    {
     "cell_type": "code",
     "collapsed": false,
     "input": [
      "!cat SwiftJ1644.cfg"
     ],
     "language": "python",
     "metadata": {},
     "outputs": [
      {
       "output_type": "stream",
       "stream": "stdout",
       "text": [
        "[common]\r\n",
        "irfs = P7REP_SOURCE_V15\r\n",
        "verbosity = 0\r\n",
        "eventclass = 2\r\n",
        "base = SwiftJ1644\r\n",
        "binned = False\r\n",
        "multicore = 2\r\n",
        "\r\n",
        "\r\n",
        "[quickAnalysis]\r\n",
        "rad = 10\r\n",
        "tmin = 322963202\r\n",
        "tmax = 323568002\r\n",
        "emin = 100\r\n",
        "emax = 300000\r\n",
        "zmax = 100\r\n",
        "convtype = -1\r\n",
        "binsize = 0.1\r\n",
        "filter = DATA_QUAL==1 && LAT_CONFIG==1\r\n",
        "ra = 251.2054\r\n",
        "dec = 57.5808\r\n",
        "ltzmax = 180\r\n",
        "roicut = yes\r\n",
        "nxpix = -1\r\n",
        "nypix = -1\r\n",
        "\r\n",
        "[quickLike]\r\n",
        "sourcename = SwiftJ1644\r\n",
        "model = SwiftJ1644_model.xml\r\n",
        "drmtol = 0.1\r\n",
        "mintol = 0.0001\r\n",
        "\r\n",
        "\r\n"
       ]
      }
     ],
     "prompt_number": 14
    },
    {
     "cell_type": "markdown",
     "metadata": {},
     "source": [
      "And there are some other ancillary files in that directory that have already been pre-computed.  Let's start..."
     ]
    },
    {
     "cell_type": "code",
     "collapsed": false,
     "input": [
      "qL = quickLike('SwiftJ1644', True)"
     ],
     "language": "python",
     "metadata": {},
     "outputs": [
      {
       "output_type": "stream",
       "stream": "stderr",
       "text": [
        "2014-05-29 09:52:10,901 - quickLike - INFO - Reading from config file (SwiftJ1644.cfg)\n"
       ]
      },
      {
       "output_type": "stream",
       "stream": "stderr",
       "text": [
        "INFO:quickLike:Reading from config file (SwiftJ1644.cfg)\n"
       ]
      },
      {
       "output_type": "stream",
       "stream": "stderr",
       "text": [
        "2014-05-29 09:52:10,905 - quickLike - INFO - Reading common variables...\n"
       ]
      },
      {
       "output_type": "stream",
       "stream": "stderr",
       "text": [
        "INFO:quickLike:Reading common variables...\n"
       ]
      },
      {
       "output_type": "stream",
       "stream": "stderr",
       "text": [
        "2014-05-29 09:52:10,907 - quickLike - INFO - Reading quickAnalysis variables...\n"
       ]
      },
      {
       "output_type": "stream",
       "stream": "stderr",
       "text": [
        "INFO:quickLike:Reading quickAnalysis variables...\n"
       ]
      },
      {
       "output_type": "stream",
       "stream": "stderr",
       "text": [
        "2014-05-29 09:52:10,908 - quickLike - INFO - Reading quickLike variables...\n"
       ]
      },
      {
       "output_type": "stream",
       "stream": "stderr",
       "text": [
        "INFO:quickLike:Reading quickLike variables...\n"
       ]
      },
      {
       "output_type": "stream",
       "stream": "stderr",
       "text": [
        "2014-05-29 09:52:10,910 - quickLike - INFO - Created quickLike object: irfs=P7REP_SOURCE_V15,verbosity=0,binned=False,multicore=2,base=SwiftJ1644,eventclass=2,sourcename=SwiftJ1644,model=SwiftJ1644_model.xml,drmtol=0.1,mintol=0.0001,\n"
       ]
      },
      {
       "output_type": "stream",
       "stream": "stderr",
       "text": [
        "INFO:quickLike:Created quickLike object: irfs=P7REP_SOURCE_V15,verbosity=0,binned=False,multicore=2,base=SwiftJ1644,eventclass=2,sourcename=SwiftJ1644,model=SwiftJ1644_model.xml,drmtol=0.1,mintol=0.0001,\n"
       ]
      }
     ],
     "prompt_number": 15
    },
    {
     "cell_type": "code",
     "collapsed": false,
     "input": [
      "qL.makeObs()"
     ],
     "language": "python",
     "metadata": {},
     "outputs": [
      {
       "output_type": "stream",
       "stream": "stderr",
       "text": [
        "2014-05-29 09:52:15,946 - quickLike - INFO - Event file(s): SwiftJ1644_filtered_gti.fits, Spacecraft file(s): SwiftJ1644_SC.fits, Exposure map: SwiftJ1644_expMap.fits, Exposure cube: SwiftJ1644_ltcube.fits, IRFs: P7REP_SOURCE_V15\n"
       ]
      },
      {
       "output_type": "stream",
       "stream": "stderr",
       "text": [
        "INFO:quickLike:Event file(s): SwiftJ1644_filtered_gti.fits, Spacecraft file(s): SwiftJ1644_SC.fits, Exposure map: SwiftJ1644_expMap.fits, Exposure cube: SwiftJ1644_ltcube.fits, IRFs: P7REP_SOURCE_V15\n"
       ]
      }
     ],
     "prompt_number": 16
    },
    {
     "cell_type": "code",
     "collapsed": false,
     "input": [
      "qL.initMIN(modelFile='SwiftJ1644_model.xml')"
     ],
     "language": "python",
     "metadata": {},
     "outputs": [
      {
       "output_type": "stream",
       "stream": "stderr",
       "text": [
        "2014-05-29 09:53:06,392 - quickLike - INFO - Event file(s): SwiftJ1644_filtered_gti.fits, Spacecraft file(s): SwiftJ1644_SC.fits, Exposure map: SwiftJ1644_expMap.fits, Exposure cube: SwiftJ1644_ltcube.fits, IRFs: P7REP_SOURCE_V15, Source model file: SwiftJ1644_model.xml, Optimizer: NewMinuit\n"
       ]
      },
      {
       "output_type": "stream",
       "stream": "stderr",
       "text": [
        "INFO:quickLike:Event file(s): SwiftJ1644_filtered_gti.fits, Spacecraft file(s): SwiftJ1644_SC.fits, Exposure map: SwiftJ1644_expMap.fits, Exposure cube: SwiftJ1644_ltcube.fits, IRFs: P7REP_SOURCE_V15, Source model file: SwiftJ1644_model.xml, Optimizer: NewMinuit\n"
       ]
      }
     ],
     "prompt_number": 18
    },
    {
     "cell_type": "code",
     "collapsed": false,
     "input": [
      "qL.fitMIN()"
     ],
     "language": "python",
     "metadata": {},
     "outputs": [
      {
       "output_type": "stream",
       "stream": "stderr",
       "text": [
        "2014-05-29 09:54:23,998 - quickLike - INFO - NEWMINUIT Fit Finished.  -log(likelihood): -11799.8698365\n"
       ]
      },
      {
       "output_type": "stream",
       "stream": "stderr",
       "text": [
        "INFO:quickLike:NEWMINUIT Fit Finished.  -log(likelihood): -11799.8698365\n"
       ]
      },
      {
       "output_type": "stream",
       "stream": "stderr",
       "text": [
        "2014-05-29 09:54:24,000 - quickLike - INFO - NEWMINUIT Fit Status: 156\n"
       ]
      },
      {
       "output_type": "stream",
       "stream": "stderr",
       "text": [
        "INFO:quickLike:NEWMINUIT Fit Status: 156\n"
       ]
      },
      {
       "output_type": "stream",
       "stream": "stderr",
       "text": [
        "2014-05-29 09:54:24,001 - quickLike - INFO - NEWMINUIT fit Distance: 0.000141859658014\n"
       ]
      },
      {
       "output_type": "stream",
       "stream": "stderr",
       "text": [
        "INFO:quickLike:NEWMINUIT fit Distance: 0.000141859658014\n"
       ]
      },
      {
       "output_type": "stream",
       "stream": "stderr",
       "text": [
        "2014-05-29 09:54:24,005 - quickLike - ERROR - NEWMINUIT DID NOT CONVERGE!!!\n"
       ]
      },
      {
       "output_type": "stream",
       "stream": "stderr",
       "text": [
        "ERROR:quickLike:NEWMINUIT DID NOT CONVERGE!!!\n"
       ]
      },
      {
       "output_type": "stream",
       "stream": "stderr",
       "text": [
        "2014-05-29 09:54:24,008 - quickLike - ERROR - The fit failed the following tests:  HasMadePosDefCovar HasPosDefCovar HasAccurateCovar\n"
       ]
      },
      {
       "output_type": "stream",
       "stream": "stderr",
       "text": [
        "ERROR:quickLike:The fit failed the following tests:  HasMadePosDefCovar HasPosDefCovar HasAccurateCovar\n"
       ]
      }
     ],
     "prompt_number": 19
    },
    {
     "cell_type": "markdown",
     "metadata": {},
     "source": [
      "This didn't converge (see the return code there, we can get at this directly if you want).  And if you run the following command you can see why, lots of really weak sources (including our source of interest)\n"
     ]
    },
    {
     "cell_type": "code",
     "collapsed": false,
     "input": [
      "qL.removeWeak()"
     ],
     "language": "python",
     "metadata": {},
     "outputs": [
      {
       "output_type": "stream",
       "stream": "stderr",
       "text": [
        "2014-05-29 09:54:28,382 - quickLike - INFO - Calculating TS values for all sources.  This could take a bit.\n"
       ]
      },
      {
       "output_type": "stream",
       "stream": "stderr",
       "text": [
        "INFO:quickLike:Calculating TS values for all sources.  This could take a bit.\n"
       ]
      },
      {
       "output_type": "stream",
       "stream": "stderr",
       "text": [
        "2014-05-29 09:54:35,581 - quickLike - INFO - Retaining _2FGLJ1740.2+5212, TS: 33.2567161596, Frozen?: Free, Distance: 9.58626862845\n"
       ]
      },
      {
       "output_type": "stream",
       "stream": "stderr",
       "text": [
        "INFO:quickLike:Retaining _2FGLJ1740.2+5212, TS: 33.2567161596, Frozen?: Free, Distance: 9.58626862845\n"
       ]
      },
      {
       "output_type": "stream",
       "stream": "stderr",
       "text": [
        "2014-05-29 09:54:35,583 - quickLike - INFO - Retaining _2FGLJ1614.8+4703, TS: 0.0791098328191, Frozen?: Fixed, Distance: 11.463869255\n"
       ]
      },
      {
       "output_type": "stream",
       "stream": "stderr",
       "text": [
        "INFO:quickLike:Retaining _2FGLJ1614.8+4703, TS: 0.0791098328191, Frozen?: Fixed, Distance: 11.463869255\n"
       ]
      },
      {
       "output_type": "stream",
       "stream": "stderr",
       "text": [
        "2014-05-29 09:54:35,584 - quickLike - INFO - Retaining _2FGLJ1756.5+5523, TS: -0.519135059239, Frozen?: Fixed, Distance: 10.10772469\n"
       ]
      },
      {
       "output_type": "stream",
       "stream": "stderr",
       "text": [
        "INFO:quickLike:Retaining _2FGLJ1756.5+5523, TS: -0.519135059239, Frozen?: Fixed, Distance: 10.10772469\n"
       ]
      },
      {
       "output_type": "stream",
       "stream": "stderr",
       "text": [
        "2014-05-29 09:54:35,585 - quickLike - INFO - Retaining _2FGLJ1836.2+5926, TS: -0.331212157071, Frozen?: Fixed, Distance: 14.5615624322\n"
       ]
      },
      {
       "output_type": "stream",
       "stream": "stderr",
       "text": [
        "INFO:quickLike:Retaining _2FGLJ1836.2+5926, TS: -0.331212157071, Frozen?: Fixed, Distance: 14.5615624322\n"
       ]
      },
      {
       "output_type": "stream",
       "stream": "stderr",
       "text": [
        "2014-05-29 09:54:35,586 - quickLike - INFO - Retaining _2FGLJ1811.0+5340, TS: 0.00340798322941, Frozen?: Fixed, Distance: 12.7265339798\n"
       ]
      },
      {
       "output_type": "stream",
       "stream": "stderr",
       "text": [
        "INFO:quickLike:Retaining _2FGLJ1811.0+5340, TS: 0.00340798322941, Frozen?: Fixed, Distance: 12.7265339798\n"
       ]
      },
      {
       "output_type": "stream",
       "stream": "stderr",
       "text": [
        "2014-05-29 09:54:35,588 - quickLike - INFO - Retaining _2FGLJ1502.1+5548, TS: 0.0430710513101, Frozen?: Fixed, Distance: 14.118352898\n"
       ]
      },
      {
       "output_type": "stream",
       "stream": "stderr",
       "text": [
        "INFO:quickLike:Retaining _2FGLJ1502.1+5548, TS: 0.0430710513101, Frozen?: Fixed, Distance: 14.118352898\n"
       ]
      },
      {
       "output_type": "stream",
       "stream": "stderr",
       "text": [
        "2014-05-29 09:54:35,589 - quickLike - INFO - Retaining _2FGLJ1623.2+4328, TS: 0.0116478121672, Frozen?: Fixed, Distance: 14.5103770052\n"
       ]
      },
      {
       "output_type": "stream",
       "stream": "stderr",
       "text": [
        "INFO:quickLike:Retaining _2FGLJ1623.2+4328, TS: 0.0116478121672, Frozen?: Fixed, Distance: 14.5103770052\n"
       ]
      },
      {
       "output_type": "stream",
       "stream": "stderr",
       "text": [
        "2014-05-29 09:54:35,590 - quickLike - INFO - Retaining _2FGLJ1725.2+5853, TS: 0.97548010114, Frozen?: Free, Distance: 5.46785773321\n"
       ]
      },
      {
       "output_type": "stream",
       "stream": "stderr",
       "text": [
        "INFO:quickLike:Retaining _2FGLJ1725.2+5853, TS: 0.97548010114, Frozen?: Free, Distance: 5.46785773321\n"
       ]
      },
      {
       "output_type": "stream",
       "stream": "stderr",
       "text": [
        "2014-05-29 09:54:35,592 - quickLike - INFO - Retaining _2FGLJ1604.6+5710, TS: 0.20672484074, Frozen?: Free, Distance: 5.42831120837\n"
       ]
      },
      {
       "output_type": "stream",
       "stream": "stderr",
       "text": [
        "INFO:quickLike:Retaining _2FGLJ1604.6+5710, TS: 0.20672484074, Frozen?: Free, Distance: 5.42831120837\n"
       ]
      },
      {
       "output_type": "stream",
       "stream": "stderr",
       "text": [
        "2014-05-29 09:54:35,594 - quickLike - INFO - Retaining _2FGLJ1714.8+6836, TS: 0.0214660371857, Frozen?: Fixed, Distance: 11.5267838761\n"
       ]
      },
      {
       "output_type": "stream",
       "stream": "stderr",
       "text": [
        "INFO:quickLike:Retaining _2FGLJ1714.8+6836, TS: 0.0214660371857, Frozen?: Fixed, Distance: 11.5267838761\n"
       ]
      },
      {
       "output_type": "stream",
       "stream": "stderr",
       "text": [
        "2014-05-29 09:54:35,595 - quickLike - INFO - Retaining SwiftJ1644, TS: 0.0844756745391, Frozen?: Free, Distance: 0.0\n"
       ]
      },
      {
       "output_type": "stream",
       "stream": "stderr",
       "text": [
        "INFO:quickLike:Retaining SwiftJ1644, TS: 0.0844756745391, Frozen?: Free, Distance: 0.0\n"
       ]
      },
      {
       "output_type": "stream",
       "stream": "stderr",
       "text": [
        "2014-05-29 09:54:35,596 - quickLike - INFO - Retaining _2FGLJ1649.6+5238, TS: 0.12099777846, Frozen?: Free, Distance: 4.98294451276\n"
       ]
      },
      {
       "output_type": "stream",
       "stream": "stderr",
       "text": [
        "INFO:quickLike:Retaining _2FGLJ1649.6+5238, TS: 0.12099777846, Frozen?: Free, Distance: 4.98294451276\n"
       ]
      },
      {
       "output_type": "stream",
       "stream": "stderr",
       "text": [
        "2014-05-29 09:54:35,597 - quickLike - INFO - Retaining _2FGLJ1748.8+7006, TS: 0.0531520874792, Frozen?: Fixed, Distance: 14.2788818566\n"
       ]
      },
      {
       "output_type": "stream",
       "stream": "stderr",
       "text": [
        "INFO:quickLike:Retaining _2FGLJ1748.8+7006, TS: 0.0531520874792, Frozen?: Fixed, Distance: 14.2788818566\n"
       ]
      },
      {
       "output_type": "stream",
       "stream": "stderr",
       "text": [
        "2014-05-29 09:54:35,598 - quickLike - INFO - Retaining _2FGLJ1559.0+5627, TS: 1.62237291, Frozen?: Free, Distance: 6.31934864235\n"
       ]
      },
      {
       "output_type": "stream",
       "stream": "stderr",
       "text": [
        "INFO:quickLike:Retaining _2FGLJ1559.0+5627, TS: 1.62237291, Frozen?: Free, Distance: 6.31934864235\n"
       ]
      },
      {
       "output_type": "stream",
       "stream": "stderr",
       "text": [
        "2014-05-29 09:54:35,599 - quickLike - INFO - Retaining _2FGLJ1709.7+4319, TS: -0.0173247148778, Frozen?: Fixed, Distance: 14.787179253\n"
       ]
      },
      {
       "output_type": "stream",
       "stream": "stderr",
       "text": [
        "INFO:quickLike:Retaining _2FGLJ1709.7+4319, TS: -0.0173247148778, Frozen?: Fixed, Distance: 14.787179253\n"
       ]
      },
      {
       "output_type": "stream",
       "stream": "stderr",
       "text": [
        "2014-05-29 09:54:35,600 - quickLike - INFO - Retaining _2FGLJ1656.5+6012, TS: -1.24600992422e-05, Frozen?: Free, Distance: 3.02281657046\n"
       ]
      },
      {
       "output_type": "stream",
       "stream": "stderr",
       "text": [
        "INFO:quickLike:Retaining _2FGLJ1656.5+6012, TS: -1.24600992422e-05, Frozen?: Free, Distance: 3.02281657046\n"
       ]
      },
      {
       "output_type": "stream",
       "stream": "stderr",
       "text": [
        "2014-05-29 09:54:35,601 - quickLike - INFO - Retaining _2FGLJ1647.5+4950, TS: 20.9782763833, Frozen?: Free, Distance: 7.75101781419\n"
       ]
      },
      {
       "output_type": "stream",
       "stream": "stderr",
       "text": [
        "INFO:quickLike:Retaining _2FGLJ1647.5+4950, TS: 20.9782763833, Frozen?: Free, Distance: 7.75101781419\n"
       ]
      },
      {
       "output_type": "stream",
       "stream": "stderr",
       "text": [
        "2014-05-29 09:54:35,602 - quickLike - INFO - Retaining _2FGLJ1647.0+4351, TS: 0.00876157688981, Frozen?: Fixed, Distance: 13.7277161761\n"
       ]
      },
      {
       "output_type": "stream",
       "stream": "stderr",
       "text": [
        "INFO:quickLike:Retaining _2FGLJ1647.0+4351, TS: 0.00876157688981, Frozen?: Fixed, Distance: 13.7277161761\n"
       ]
      },
      {
       "output_type": "stream",
       "stream": "stderr",
       "text": [
        "2014-05-29 09:54:35,603 - quickLike - INFO - Retaining _2FGLJ1700.2+6831, TS: 2.73693723057, Frozen?: Fixed, Distance: 11.0700621434\n"
       ]
      },
      {
       "output_type": "stream",
       "stream": "stderr",
       "text": [
        "INFO:quickLike:Retaining _2FGLJ1700.2+6831, TS: 2.73693723057, Frozen?: Fixed, Distance: 11.0700621434\n"
       ]
      },
      {
       "output_type": "stream",
       "stream": "stderr",
       "text": [
        "2014-05-29 09:54:35,604 - quickLike - INFO - Retaining _2FGLJ1637.7+4714, TS: 2.72933268224, Frozen?: Fixed, Distance: 10.3919915474\n"
       ]
      },
      {
       "output_type": "stream",
       "stream": "stderr",
       "text": [
        "INFO:quickLike:Retaining _2FGLJ1637.7+4714, TS: 2.72933268224, Frozen?: Fixed, Distance: 10.3919915474\n"
       ]
      },
      {
       "output_type": "stream",
       "stream": "stderr",
       "text": [
        "2014-05-29 09:54:35,605 - quickLike - INFO - Retaining _2FGLJ1531.0+5725, TS: -7.02833276591e-05, Frozen?: Free, Distance: 9.88336167075\n"
       ]
      },
      {
       "output_type": "stream",
       "stream": "stderr",
       "text": [
        "INFO:quickLike:Retaining _2FGLJ1531.0+5725, TS: -7.02833276591e-05, Frozen?: Free, Distance: 9.88336167075\n"
       ]
      },
      {
       "output_type": "stream",
       "stream": "stderr",
       "text": [
        "2014-05-29 09:54:35,606 - quickLike - INFO - Retaining _2FGLJ1509.7+5556, TS: 0.00629215932349, Frozen?: Fixed, Distance: 13.0611066299\n"
       ]
      },
      {
       "output_type": "stream",
       "stream": "stderr",
       "text": [
        "INFO:quickLike:Retaining _2FGLJ1509.7+5556, TS: 0.00629215932349, Frozen?: Fixed, Distance: 13.0611066299\n"
       ]
      },
      {
       "output_type": "stream",
       "stream": "stderr",
       "text": [
        "2014-05-29 09:54:35,607 - quickLike - INFO - Retaining _2FGLJ1829.2+5402, TS: -5.39973552804e-06, Frozen?: Fixed, Distance: 14.9908308023\n"
       ]
      },
      {
       "output_type": "stream",
       "stream": "stderr",
       "text": [
        "INFO:quickLike:Retaining _2FGLJ1829.2+5402, TS: -5.39973552804e-06, Frozen?: Fixed, Distance: 14.9908308023\n"
       ]
      },
      {
       "output_type": "stream",
       "stream": "stderr",
       "text": [
        "2014-05-29 09:54:35,608 - quickLike - INFO - Retaining _2FGLJ1542.9+6129, TS: 0.286235267027, Frozen?: Free, Distance: 8.73700550143\n"
       ]
      },
      {
       "output_type": "stream",
       "stream": "stderr",
       "text": [
        "INFO:quickLike:Retaining _2FGLJ1542.9+6129, TS: 0.286235267027, Frozen?: Free, Distance: 8.73700550143\n"
       ]
      },
      {
       "output_type": "stream",
       "stream": "stderr",
       "text": [
        "2014-05-29 09:54:35,609 - quickLike - INFO - Retaining _2FGLJ1728.2+5015, TS: 2.80994971754, Frozen?: Free, Distance: 9.69529631055\n"
       ]
      },
      {
       "output_type": "stream",
       "stream": "stderr",
       "text": [
        "INFO:quickLike:Retaining _2FGLJ1728.2+5015, TS: 2.80994971754, Frozen?: Free, Distance: 9.69529631055\n"
       ]
      },
      {
       "output_type": "stream",
       "stream": "stderr",
       "text": [
        "2014-05-29 09:54:35,609 - quickLike - INFO - Retaining _2FGLJ1824.0+5650, TS: -0.192817098352, Frozen?: Fixed, Distance: 13.3739986375\n"
       ]
      },
      {
       "output_type": "stream",
       "stream": "stderr",
       "text": [
        "INFO:quickLike:Retaining _2FGLJ1824.0+5650, TS: -0.192817098352, Frozen?: Fixed, Distance: 13.3739986375\n"
       ]
      },
      {
       "output_type": "stream",
       "stream": "stderr",
       "text": [
        "2014-05-29 09:54:35,610 - quickLike - INFO - Retaining gll_iem_v05_rev1, TS: 66.9434134189, Frozen?: Free, Distance: 14.5615624322\n"
       ]
      },
      {
       "output_type": "stream",
       "stream": "stderr",
       "text": [
        "INFO:quickLike:Retaining gll_iem_v05_rev1, TS: 66.9434134189, Frozen?: Free, Distance: 14.5615624322\n"
       ]
      },
      {
       "output_type": "stream",
       "stream": "stderr",
       "text": [
        "2014-05-29 09:54:35,611 - quickLike - INFO - Retaining _2FGLJ1742.1+5948, TS: 0.0303747632861, Frozen?: Free, Distance: 7.7505303021\n"
       ]
      },
      {
       "output_type": "stream",
       "stream": "stderr",
       "text": [
        "INFO:quickLike:Retaining _2FGLJ1742.1+5948, TS: 0.0303747632861, Frozen?: Free, Distance: 7.7505303021\n"
       ]
      },
      {
       "output_type": "stream",
       "stream": "stderr",
       "text": [
        "2014-05-29 09:54:35,612 - quickLike - INFO - Retaining _2FGLJ1740.3+4738, TS: -0.0227545721536, Frozen?: Fixed, Distance: 12.9794693474\n"
       ]
      },
      {
       "output_type": "stream",
       "stream": "stderr",
       "text": [
        "INFO:quickLike:Retaining _2FGLJ1740.3+4738, TS: -0.0227545721536, Frozen?: Fixed, Distance: 12.9794693474\n"
       ]
      },
      {
       "output_type": "stream",
       "stream": "stderr",
       "text": [
        "2014-05-29 09:54:35,613 - quickLike - INFO - Retaining _2FGLJ1739.5+4955, TS: -0.235516472916, Frozen?: Fixed, Distance: 11.0968700684\n"
       ]
      },
      {
       "output_type": "stream",
       "stream": "stderr",
       "text": [
        "INFO:quickLike:Retaining _2FGLJ1739.5+4955, TS: -0.235516472916, Frozen?: Fixed, Distance: 11.0968700684\n"
       ]
      },
      {
       "output_type": "stream",
       "stream": "stderr",
       "text": [
        "2014-05-29 09:54:35,614 - quickLike - INFO - Retaining _2FGLJ1518.0+6526, TS: 0.00753989167788, Frozen?: Fixed, Distance: 12.8803773974\n"
       ]
      },
      {
       "output_type": "stream",
       "stream": "stderr",
       "text": [
        "INFO:quickLike:Retaining _2FGLJ1518.0+6526, TS: 0.00753989167788, Frozen?: Fixed, Distance: 12.8803773974\n"
       ]
      },
      {
       "output_type": "stream",
       "stream": "stderr",
       "text": [
        "2014-05-29 09:54:35,615 - quickLike - INFO - Retaining _2FGLJ1657.9+4809, TS: 9.99359347509, Frozen?: Free, Distance: 9.62200269148\n"
       ]
      },
      {
       "output_type": "stream",
       "stream": "stderr",
       "text": [
        "INFO:quickLike:Retaining _2FGLJ1657.9+4809, TS: 9.99359347509, Frozen?: Free, Distance: 9.62200269148\n"
       ]
      },
      {
       "output_type": "stream",
       "stream": "stderr",
       "text": [
        "2014-05-29 09:54:35,615 - quickLike - INFO - Retaining _2FGLJ1730.8+5427, TS: 0.0562145643999, Frozen?: Free, Distance: 7.13956431989\n"
       ]
      },
      {
       "output_type": "stream",
       "stream": "stderr",
       "text": [
        "INFO:quickLike:Retaining _2FGLJ1730.8+5427, TS: 0.0562145643999, Frozen?: Free, Distance: 7.13956431989\n"
       ]
      },
      {
       "output_type": "stream",
       "stream": "stderr",
       "text": [
        "2014-05-29 09:54:35,616 - quickLike - INFO - Retaining iso_source_v05, TS: 64.9101886594, Frozen?: Free, Distance: 14.5615624322\n"
       ]
      },
      {
       "output_type": "stream",
       "stream": "stderr",
       "text": [
        "INFO:quickLike:Retaining iso_source_v05, TS: 64.9101886594, Frozen?: Free, Distance: 14.5615624322\n"
       ]
      },
      {
       "output_type": "stream",
       "stream": "stderr",
       "text": [
        "2014-05-29 09:54:35,617 - quickLike - INFO - Retaining _2FGLJ1727.1+4531, TS: -0.0600230324817, Frozen?: Fixed, Distance: 13.6980548002\n"
       ]
      },
      {
       "output_type": "stream",
       "stream": "stderr",
       "text": [
        "INFO:quickLike:Retaining _2FGLJ1727.1+4531, TS: -0.0600230324817, Frozen?: Fixed, Distance: 13.6980548002\n"
       ]
      },
      {
       "output_type": "stream",
       "stream": "stderr",
       "text": [
        "2014-05-29 09:54:35,619 - quickLike - INFO - Retaining _2FGLJ1630.4+5218, TS: 1.05461918478, Frozen?: Free, Distance: 5.66450701607\n"
       ]
      },
      {
       "output_type": "stream",
       "stream": "stderr",
       "text": [
        "INFO:quickLike:Retaining _2FGLJ1630.4+5218, TS: 1.05461918478, Frozen?: Free, Distance: 5.66450701607\n"
       ]
      }
     ],
     "prompt_number": 20
    },
    {
     "cell_type": "markdown",
     "metadata": {},
     "source": [
      "Let's remove the weakest sources..."
     ]
    },
    {
     "cell_type": "code",
     "collapsed": false,
     "input": [
      "qL.removeWeak(RemoveFixed=True, RemoveFree=True, tslimit=1.0, recalc=False)"
     ],
     "language": "python",
     "metadata": {},
     "outputs": [
      {
       "output_type": "stream",
       "stream": "stderr",
       "text": [
        "2014-05-29 09:54:41,395 - quickLike - INFO - Retaining _2FGLJ1740.2+5212, TS: 33.2567161596, Frozen?: Free, Distance: 9.58626862845\n"
       ]
      },
      {
       "output_type": "stream",
       "stream": "stderr",
       "text": [
        "INFO:quickLike:Retaining _2FGLJ1740.2+5212, TS: 33.2567161596, Frozen?: Free, Distance: 9.58626862845\n"
       ]
      },
      {
       "output_type": "stream",
       "stream": "stderr",
       "text": [
        "2014-05-29 09:54:41,398 - quickLike - INFO - Removing _2FGLJ1614.8+4703, TS: 0.0791098328191, Frozen?: Fixed, Distance: 11.463869255\n"
       ]
      },
      {
       "output_type": "stream",
       "stream": "stderr",
       "text": [
        "INFO:quickLike:Removing _2FGLJ1614.8+4703, TS: 0.0791098328191, Frozen?: Fixed, Distance: 11.463869255\n"
       ]
      },
      {
       "output_type": "stream",
       "stream": "stderr",
       "text": [
        "2014-05-29 09:54:41,408 - quickLike - INFO - Removing _2FGLJ1756.5+5523, TS: -0.519135059239, Frozen?: Fixed, Distance: 10.10772469\n"
       ]
      },
      {
       "output_type": "stream",
       "stream": "stderr",
       "text": [
        "INFO:quickLike:Removing _2FGLJ1756.5+5523, TS: -0.519135059239, Frozen?: Fixed, Distance: 10.10772469\n"
       ]
      },
      {
       "output_type": "stream",
       "stream": "stderr",
       "text": [
        "2014-05-29 09:54:41,418 - quickLike - INFO - Removing _2FGLJ1836.2+5926, TS: -0.331212157071, Frozen?: Fixed, Distance: 14.5615624322\n"
       ]
      },
      {
       "output_type": "stream",
       "stream": "stderr",
       "text": [
        "INFO:quickLike:Removing _2FGLJ1836.2+5926, TS: -0.331212157071, Frozen?: Fixed, Distance: 14.5615624322\n"
       ]
      },
      {
       "output_type": "stream",
       "stream": "stderr",
       "text": [
        "2014-05-29 09:54:41,425 - quickLike - INFO - Removing _2FGLJ1811.0+5340, TS: 0.00340798322941, Frozen?: Fixed, Distance: 12.7265339798\n"
       ]
      },
      {
       "output_type": "stream",
       "stream": "stderr",
       "text": [
        "INFO:quickLike:Removing _2FGLJ1811.0+5340, TS: 0.00340798322941, Frozen?: Fixed, Distance: 12.7265339798\n"
       ]
      },
      {
       "output_type": "stream",
       "stream": "stderr",
       "text": [
        "2014-05-29 09:54:41,431 - quickLike - INFO - Removing _2FGLJ1502.1+5548, TS: 0.0430710513101, Frozen?: Fixed, Distance: 14.118352898\n"
       ]
      },
      {
       "output_type": "stream",
       "stream": "stderr",
       "text": [
        "INFO:quickLike:Removing _2FGLJ1502.1+5548, TS: 0.0430710513101, Frozen?: Fixed, Distance: 14.118352898\n"
       ]
      },
      {
       "output_type": "stream",
       "stream": "stderr",
       "text": [
        "2014-05-29 09:54:41,443 - quickLike - INFO - Removing _2FGLJ1623.2+4328, TS: 0.0116478121672, Frozen?: Fixed, Distance: 14.5103770052\n"
       ]
      },
      {
       "output_type": "stream",
       "stream": "stderr",
       "text": [
        "INFO:quickLike:Removing _2FGLJ1623.2+4328, TS: 0.0116478121672, Frozen?: Fixed, Distance: 14.5103770052\n"
       ]
      },
      {
       "output_type": "stream",
       "stream": "stderr",
       "text": [
        "2014-05-29 09:54:41,449 - quickLike - INFO - Removing _2FGLJ1725.2+5853, TS: 0.97548010114, Frozen?: Free, Distance: 5.46785773321\n"
       ]
      },
      {
       "output_type": "stream",
       "stream": "stderr",
       "text": [
        "INFO:quickLike:Removing _2FGLJ1725.2+5853, TS: 0.97548010114, Frozen?: Free, Distance: 5.46785773321\n"
       ]
      },
      {
       "output_type": "stream",
       "stream": "stderr",
       "text": [
        "2014-05-29 09:54:41,457 - quickLike - INFO - Removing _2FGLJ1604.6+5710, TS: 0.20672484074, Frozen?: Free, Distance: 5.42831120837\n"
       ]
      },
      {
       "output_type": "stream",
       "stream": "stderr",
       "text": [
        "INFO:quickLike:Removing _2FGLJ1604.6+5710, TS: 0.20672484074, Frozen?: Free, Distance: 5.42831120837\n"
       ]
      },
      {
       "output_type": "stream",
       "stream": "stderr",
       "text": [
        "2014-05-29 09:54:41,463 - quickLike - INFO - Removing _2FGLJ1714.8+6836, TS: 0.0214660371857, Frozen?: Fixed, Distance: 11.5267838761\n"
       ]
      },
      {
       "output_type": "stream",
       "stream": "stderr",
       "text": [
        "INFO:quickLike:Removing _2FGLJ1714.8+6836, TS: 0.0214660371857, Frozen?: Fixed, Distance: 11.5267838761\n"
       ]
      },
      {
       "output_type": "stream",
       "stream": "stderr",
       "text": [
        "2014-05-29 09:54:41,469 - quickLike - INFO - Retaining SwiftJ1644, TS: 0.0844756745391, Frozen?: Free, Distance: 0.0\n"
       ]
      },
      {
       "output_type": "stream",
       "stream": "stderr",
       "text": [
        "INFO:quickLike:Retaining SwiftJ1644, TS: 0.0844756745391, Frozen?: Free, Distance: 0.0\n"
       ]
      },
      {
       "output_type": "stream",
       "stream": "stderr",
       "text": [
        "2014-05-29 09:54:41,470 - quickLike - INFO - Removing _2FGLJ1649.6+5238, TS: 0.12099777846, Frozen?: Free, Distance: 4.98294451276\n"
       ]
      },
      {
       "output_type": "stream",
       "stream": "stderr",
       "text": [
        "INFO:quickLike:Removing _2FGLJ1649.6+5238, TS: 0.12099777846, Frozen?: Free, Distance: 4.98294451276\n"
       ]
      },
      {
       "output_type": "stream",
       "stream": "stderr",
       "text": [
        "2014-05-29 09:54:41,475 - quickLike - INFO - Removing _2FGLJ1748.8+7006, TS: 0.0531520874792, Frozen?: Fixed, Distance: 14.2788818566\n"
       ]
      },
      {
       "output_type": "stream",
       "stream": "stderr",
       "text": [
        "INFO:quickLike:Removing _2FGLJ1748.8+7006, TS: 0.0531520874792, Frozen?: Fixed, Distance: 14.2788818566\n"
       ]
      },
      {
       "output_type": "stream",
       "stream": "stderr",
       "text": [
        "2014-05-29 09:54:41,480 - quickLike - INFO - Retaining _2FGLJ1559.0+5627, TS: 1.62237291, Frozen?: Free, Distance: 6.31934864235\n"
       ]
      },
      {
       "output_type": "stream",
       "stream": "stderr",
       "text": [
        "INFO:quickLike:Retaining _2FGLJ1559.0+5627, TS: 1.62237291, Frozen?: Free, Distance: 6.31934864235\n"
       ]
      },
      {
       "output_type": "stream",
       "stream": "stderr",
       "text": [
        "2014-05-29 09:54:41,481 - quickLike - INFO - Removing _2FGLJ1709.7+4319, TS: -0.0173247148778, Frozen?: Fixed, Distance: 14.787179253\n"
       ]
      },
      {
       "output_type": "stream",
       "stream": "stderr",
       "text": [
        "INFO:quickLike:Removing _2FGLJ1709.7+4319, TS: -0.0173247148778, Frozen?: Fixed, Distance: 14.787179253\n"
       ]
      },
      {
       "output_type": "stream",
       "stream": "stderr",
       "text": [
        "2014-05-29 09:54:41,486 - quickLike - INFO - Removing _2FGLJ1656.5+6012, TS: -1.24600992422e-05, Frozen?: Free, Distance: 3.02281657046\n"
       ]
      },
      {
       "output_type": "stream",
       "stream": "stderr",
       "text": [
        "INFO:quickLike:Removing _2FGLJ1656.5+6012, TS: -1.24600992422e-05, Frozen?: Free, Distance: 3.02281657046\n"
       ]
      },
      {
       "output_type": "stream",
       "stream": "stderr",
       "text": [
        "2014-05-29 09:54:41,492 - quickLike - INFO - Retaining _2FGLJ1647.5+4950, TS: 20.9782763833, Frozen?: Free, Distance: 7.75101781419\n"
       ]
      },
      {
       "output_type": "stream",
       "stream": "stderr",
       "text": [
        "INFO:quickLike:Retaining _2FGLJ1647.5+4950, TS: 20.9782763833, Frozen?: Free, Distance: 7.75101781419\n"
       ]
      },
      {
       "output_type": "stream",
       "stream": "stderr",
       "text": [
        "2014-05-29 09:54:41,494 - quickLike - INFO - Removing _2FGLJ1647.0+4351, TS: 0.00876157688981, Frozen?: Fixed, Distance: 13.7277161761\n"
       ]
      },
      {
       "output_type": "stream",
       "stream": "stderr",
       "text": [
        "INFO:quickLike:Removing _2FGLJ1647.0+4351, TS: 0.00876157688981, Frozen?: Fixed, Distance: 13.7277161761\n"
       ]
      },
      {
       "output_type": "stream",
       "stream": "stderr",
       "text": [
        "2014-05-29 09:54:41,498 - quickLike - INFO - Retaining _2FGLJ1700.2+6831, TS: 2.73693723057, Frozen?: Fixed, Distance: 11.0700621434\n"
       ]
      },
      {
       "output_type": "stream",
       "stream": "stderr",
       "text": [
        "INFO:quickLike:Retaining _2FGLJ1700.2+6831, TS: 2.73693723057, Frozen?: Fixed, Distance: 11.0700621434\n"
       ]
      },
      {
       "output_type": "stream",
       "stream": "stderr",
       "text": [
        "2014-05-29 09:54:41,500 - quickLike - INFO - Retaining _2FGLJ1637.7+4714, TS: 2.72933268224, Frozen?: Fixed, Distance: 10.3919915474\n"
       ]
      },
      {
       "output_type": "stream",
       "stream": "stderr",
       "text": [
        "INFO:quickLike:Retaining _2FGLJ1637.7+4714, TS: 2.72933268224, Frozen?: Fixed, Distance: 10.3919915474\n"
       ]
      },
      {
       "output_type": "stream",
       "stream": "stderr",
       "text": [
        "2014-05-29 09:54:41,501 - quickLike - INFO - Removing _2FGLJ1531.0+5725, TS: -7.02833276591e-05, Frozen?: Free, Distance: 9.88336167075\n"
       ]
      },
      {
       "output_type": "stream",
       "stream": "stderr",
       "text": [
        "INFO:quickLike:Removing _2FGLJ1531.0+5725, TS: -7.02833276591e-05, Frozen?: Free, Distance: 9.88336167075\n"
       ]
      },
      {
       "output_type": "stream",
       "stream": "stderr",
       "text": [
        "2014-05-29 09:54:41,505 - quickLike - INFO - Removing _2FGLJ1509.7+5556, TS: 0.00629215932349, Frozen?: Fixed, Distance: 13.0611066299\n"
       ]
      },
      {
       "output_type": "stream",
       "stream": "stderr",
       "text": [
        "INFO:quickLike:Removing _2FGLJ1509.7+5556, TS: 0.00629215932349, Frozen?: Fixed, Distance: 13.0611066299\n"
       ]
      },
      {
       "output_type": "stream",
       "stream": "stderr",
       "text": [
        "2014-05-29 09:54:41,512 - quickLike - INFO - Removing _2FGLJ1829.2+5402, TS: -5.39973552804e-06, Frozen?: Fixed, Distance: 14.9908308023\n"
       ]
      },
      {
       "output_type": "stream",
       "stream": "stderr",
       "text": [
        "INFO:quickLike:Removing _2FGLJ1829.2+5402, TS: -5.39973552804e-06, Frozen?: Fixed, Distance: 14.9908308023\n"
       ]
      },
      {
       "output_type": "stream",
       "stream": "stderr",
       "text": [
        "2014-05-29 09:54:41,516 - quickLike - INFO - Removing _2FGLJ1542.9+6129, TS: 0.286235267027, Frozen?: Free, Distance: 8.73700550143\n"
       ]
      },
      {
       "output_type": "stream",
       "stream": "stderr",
       "text": [
        "INFO:quickLike:Removing _2FGLJ1542.9+6129, TS: 0.286235267027, Frozen?: Free, Distance: 8.73700550143\n"
       ]
      },
      {
       "output_type": "stream",
       "stream": "stderr",
       "text": [
        "2014-05-29 09:54:41,520 - quickLike - INFO - Retaining _2FGLJ1728.2+5015, TS: 2.80994971754, Frozen?: Free, Distance: 9.69529631055\n"
       ]
      },
      {
       "output_type": "stream",
       "stream": "stderr",
       "text": [
        "INFO:quickLike:Retaining _2FGLJ1728.2+5015, TS: 2.80994971754, Frozen?: Free, Distance: 9.69529631055\n"
       ]
      },
      {
       "output_type": "stream",
       "stream": "stderr",
       "text": [
        "2014-05-29 09:54:41,521 - quickLike - INFO - Removing _2FGLJ1824.0+5650, TS: -0.192817098352, Frozen?: Fixed, Distance: 13.3739986375\n"
       ]
      },
      {
       "output_type": "stream",
       "stream": "stderr",
       "text": [
        "INFO:quickLike:Removing _2FGLJ1824.0+5650, TS: -0.192817098352, Frozen?: Fixed, Distance: 13.3739986375\n"
       ]
      },
      {
       "output_type": "stream",
       "stream": "stderr",
       "text": [
        "2014-05-29 09:54:41,526 - quickLike - INFO - Retaining gll_iem_v05_rev1, TS: 66.9434134189, Frozen?: Free, Distance: 14.5615624322\n"
       ]
      },
      {
       "output_type": "stream",
       "stream": "stderr",
       "text": [
        "INFO:quickLike:Retaining gll_iem_v05_rev1, TS: 66.9434134189, Frozen?: Free, Distance: 14.5615624322\n"
       ]
      },
      {
       "output_type": "stream",
       "stream": "stderr",
       "text": [
        "2014-05-29 09:54:41,527 - quickLike - INFO - Removing _2FGLJ1742.1+5948, TS: 0.0303747632861, Frozen?: Free, Distance: 7.7505303021\n"
       ]
      },
      {
       "output_type": "stream",
       "stream": "stderr",
       "text": [
        "INFO:quickLike:Removing _2FGLJ1742.1+5948, TS: 0.0303747632861, Frozen?: Free, Distance: 7.7505303021\n"
       ]
      },
      {
       "output_type": "stream",
       "stream": "stderr",
       "text": [
        "2014-05-29 09:54:41,530 - quickLike - INFO - Removing _2FGLJ1740.3+4738, TS: -0.0227545721536, Frozen?: Fixed, Distance: 12.9794693474\n"
       ]
      },
      {
       "output_type": "stream",
       "stream": "stderr",
       "text": [
        "INFO:quickLike:Removing _2FGLJ1740.3+4738, TS: -0.0227545721536, Frozen?: Fixed, Distance: 12.9794693474\n"
       ]
      },
      {
       "output_type": "stream",
       "stream": "stderr",
       "text": [
        "2014-05-29 09:54:41,535 - quickLike - INFO - Removing _2FGLJ1739.5+4955, TS: -0.235516472916, Frozen?: Fixed, Distance: 11.0968700684\n"
       ]
      },
      {
       "output_type": "stream",
       "stream": "stderr",
       "text": [
        "INFO:quickLike:Removing _2FGLJ1739.5+4955, TS: -0.235516472916, Frozen?: Fixed, Distance: 11.0968700684\n"
       ]
      },
      {
       "output_type": "stream",
       "stream": "stderr",
       "text": [
        "2014-05-29 09:54:41,538 - quickLike - INFO - Removing _2FGLJ1518.0+6526, TS: 0.00753989167788, Frozen?: Fixed, Distance: 12.8803773974\n"
       ]
      },
      {
       "output_type": "stream",
       "stream": "stderr",
       "text": [
        "INFO:quickLike:Removing _2FGLJ1518.0+6526, TS: 0.00753989167788, Frozen?: Fixed, Distance: 12.8803773974\n"
       ]
      },
      {
       "output_type": "stream",
       "stream": "stderr",
       "text": [
        "2014-05-29 09:54:41,542 - quickLike - INFO - Retaining _2FGLJ1657.9+4809, TS: 9.99359347509, Frozen?: Free, Distance: 9.62200269148\n"
       ]
      },
      {
       "output_type": "stream",
       "stream": "stderr",
       "text": [
        "INFO:quickLike:Retaining _2FGLJ1657.9+4809, TS: 9.99359347509, Frozen?: Free, Distance: 9.62200269148\n"
       ]
      },
      {
       "output_type": "stream",
       "stream": "stderr",
       "text": [
        "2014-05-29 09:54:41,543 - quickLike - INFO - Removing _2FGLJ1730.8+5427, TS: 0.0562145643999, Frozen?: Free, Distance: 7.13956431989\n"
       ]
      },
      {
       "output_type": "stream",
       "stream": "stderr",
       "text": [
        "INFO:quickLike:Removing _2FGLJ1730.8+5427, TS: 0.0562145643999, Frozen?: Free, Distance: 7.13956431989\n"
       ]
      },
      {
       "output_type": "stream",
       "stream": "stderr",
       "text": [
        "2014-05-29 09:54:41,547 - quickLike - INFO - Retaining iso_source_v05, TS: 64.9101886594, Frozen?: Free, Distance: 14.5615624322\n"
       ]
      },
      {
       "output_type": "stream",
       "stream": "stderr",
       "text": [
        "INFO:quickLike:Retaining iso_source_v05, TS: 64.9101886594, Frozen?: Free, Distance: 14.5615624322\n"
       ]
      },
      {
       "output_type": "stream",
       "stream": "stderr",
       "text": [
        "2014-05-29 09:54:41,548 - quickLike - INFO - Removing _2FGLJ1727.1+4531, TS: -0.0600230324817, Frozen?: Fixed, Distance: 13.6980548002\n"
       ]
      },
      {
       "output_type": "stream",
       "stream": "stderr",
       "text": [
        "INFO:quickLike:Removing _2FGLJ1727.1+4531, TS: -0.0600230324817, Frozen?: Fixed, Distance: 13.6980548002\n"
       ]
      },
      {
       "output_type": "stream",
       "stream": "stderr",
       "text": [
        "2014-05-29 09:54:41,552 - quickLike - INFO - Retaining _2FGLJ1630.4+5218, TS: 1.05461918478, Frozen?: Free, Distance: 5.66450701607\n"
       ]
      },
      {
       "output_type": "stream",
       "stream": "stderr",
       "text": [
        "INFO:quickLike:Retaining _2FGLJ1630.4+5218, TS: 1.05461918478, Frozen?: Free, Distance: 5.66450701607\n"
       ]
      }
     ],
     "prompt_number": 21
    },
    {
     "cell_type": "markdown",
     "metadata": {},
     "source": [
      "This really simplies the model.  Let's run the fit again.."
     ]
    },
    {
     "cell_type": "code",
     "collapsed": false,
     "input": [
      "qL.fitMIN()"
     ],
     "language": "python",
     "metadata": {},
     "outputs": [
      {
       "output_type": "stream",
       "stream": "stderr",
       "text": [
        "2014-05-29 09:54:51,510 - quickLike - INFO - NEWMINUIT Fit Finished.  -log(likelihood): -11800.1142372\n"
       ]
      },
      {
       "output_type": "stream",
       "stream": "stderr",
       "text": [
        "INFO:quickLike:NEWMINUIT Fit Finished.  -log(likelihood): -11800.1142372\n"
       ]
      },
      {
       "output_type": "stream",
       "stream": "stderr",
       "text": [
        "2014-05-29 09:54:51,512 - quickLike - INFO - NEWMINUIT Fit Status: 0\n"
       ]
      },
      {
       "output_type": "stream",
       "stream": "stderr",
       "text": [
        "INFO:quickLike:NEWMINUIT Fit Status: 0\n"
       ]
      },
      {
       "output_type": "stream",
       "stream": "stderr",
       "text": [
        "2014-05-29 09:54:51,513 - quickLike - INFO - NEWMINUIT fit Distance: 0.000378293229038\n"
       ]
      },
      {
       "output_type": "stream",
       "stream": "stderr",
       "text": [
        "INFO:quickLike:NEWMINUIT fit Distance: 0.000378293229038\n"
       ]
      }
     ],
     "prompt_number": 22
    },
    {
     "cell_type": "markdown",
     "metadata": {},
     "source": [
      "That should do it.  This was quick.  Usually this is an iterative process where I \n",
      "\n",
      "* Remove any sources with TS < 1.0\n",
      "* Remove higher TS sources (TS < 1.5, 2.0\u2026)\n",
      "* Figure out what parameters are trouble (with the *paramsAtLimit* funciton) and might fix the problematic ones\n",
      "* Generate a TS Map and look if I'm missing something (see below).\n",
      "\n",
      "Now we can take a look at our source with the 'printSource' function and then calculate an upper limit if we wish.  Let's use the underlying function instead of the function in the LATAnalysisScripts."
     ]
    },
    {
     "cell_type": "code",
     "collapsed": false,
     "input": [
      "qL.printSource('SwiftJ1644')"
     ],
     "language": "python",
     "metadata": {},
     "outputs": [
      {
       "output_type": "stream",
       "stream": "stderr",
       "text": [
        "2014-05-29 09:55:01,425 - quickLike - INFO - SwiftJ1644 TS: 0.09  NPred: 2.72  Flux: 1.01e-08  Flux Error: 3.71e-08 Integral: 0.10 +- 0.37 x 1.00e-07 Index: 5.00 +- 0.31 x -1.00e+00 LowerLimit: 100.00 +- 0.00 x 1.00e+00 UpperLimit: 300,000.00 +- 0.00 x 1.00e+00 \n"
       ]
      },
      {
       "output_type": "stream",
       "stream": "stderr",
       "text": [
        "INFO:quickLike:SwiftJ1644 TS: 0.09  NPred: 2.72  Flux: 1.01e-08  Flux Error: 3.71e-08 Integral: 0.10 +- 0.37 x 1.00e-07 Index: 5.00 +- 0.31 x -1.00e+00 LowerLimit: 100.00 +- 0.00 x 1.00e+00 UpperLimit: 300,000.00 +- 0.00 x 1.00e+00 \n"
       ]
      },
      {
       "output_type": "stream",
       "stream": "stdout",
       "text": [
        "TS: 0.09\n",
        "Npred: 2.72\n",
        "Flux: 1.01e-08 +- 3.71e-08\n",
        "Integral : 0.10 +- 0.37 x 1.00e-07\n",
        "Index : 5.00 +- 0.31 x -1.00e+00\n",
        "LowerLimit : 100.00 +- 0.00 x 1.00e+00\n",
        "UpperLimit : 300,000.00 +- 0.00 x 1.00e+00\n"
       ]
      }
     ],
     "prompt_number": 23
    },
    {
     "cell_type": "markdown",
     "metadata": {},
     "source": [
      "We're not detecting any emission from this object (TS = 0.15) so we should really calculate an upper limit.\n",
      "\n",
      "Upper Limits\n",
      "------------\n",
      "\n",
      "There's an upper limit function in the LAT Analysis Scripts but we'll use the raw funation since it's more instructive."
     ]
    },
    {
     "cell_type": "code",
     "collapsed": false,
     "input": [
      "from UpperLimits import UpperLimit"
     ],
     "language": "python",
     "metadata": {},
     "outputs": [],
     "prompt_number": 24
    },
    {
     "cell_type": "markdown",
     "metadata": {},
     "source": [
      "You need to create an UpperLimit object by giving it the likelihood object (called *qL.MIN* in this case) and the source name:"
     ]
    },
    {
     "cell_type": "code",
     "collapsed": false,
     "input": [
      "ul = UpperLimit(qL.MIN, 'SwiftJ1644')"
     ],
     "language": "python",
     "metadata": {},
     "outputs": [],
     "prompt_number": 25
    },
    {
     "cell_type": "markdown",
     "metadata": {},
     "source": [
      "There's a simple upper limit function that we can run. "
     ]
    },
    {
     "cell_type": "code",
     "collapsed": false,
     "input": [
      "ul.compute()"
     ],
     "language": "python",
     "metadata": {},
     "outputs": [
      {
       "output_type": "stream",
       "stream": "stdout",
       "text": [
        "0 0.100423097942 -0.000370333680621 1.01297308889e-08\n",
        "1"
       ]
      },
      {
       "output_type": "stream",
       "stream": "stdout",
       "text": [
        " 0.248907291884 0.0750424319067 2.51074098974e-08\n",
        "2"
       ]
      },
      {
       "output_type": "stream",
       "stream": "stdout",
       "text": [
        " 0.397391485827 0.286186870624 4.00850889381e-08\n",
        "3"
       ]
      },
      {
       "output_type": "stream",
       "stream": "stdout",
       "text": [
        " 0.545875679769 0.612836377475 5.50627684172e-08\n",
        "4"
       ]
      },
      {
       "output_type": "stream",
       "stream": "stdout",
       "text": [
        " 0.694359873711 1.04273766746 7.00404475721e-08\n",
        "5"
       ]
      },
      {
       "output_type": "stream",
       "stream": "stdout",
       "text": [
        " 0.81529139742 1.46092111083 8.22388743174e-08\n"
       ]
      },
      {
       "metadata": {},
       "output_type": "pyout",
       "prompt_number": 26,
       "text": [
        "(7.91491515373984e-08, 0.78466081763863771)"
       ]
      }
     ],
     "prompt_number": 26
    },
    {
     "cell_type": "code",
     "collapsed": false,
     "input": [
      "ul.results"
     ],
     "language": "python",
     "metadata": {},
     "outputs": [
      {
       "metadata": {},
       "output_type": "pyout",
       "prompt_number": 27,
       "text": [
        "[7.91e-08 ph/cm^2/s for emin=100.0, emax=300000.0, delta(logLike)=1.35]"
       ]
      }
     ],
     "prompt_number": 27
    },
    {
     "cell_type": "markdown",
     "metadata": {},
     "source": [
      "You can change the limits if you want:"
     ]
    },
    {
     "cell_type": "code",
     "collapsed": false,
     "input": [
      "ul.compute(emin=1000.0)"
     ],
     "language": "python",
     "metadata": {},
     "outputs": [
      {
       "output_type": "stream",
       "stream": "stdout",
       "text": [
        "0 0.100423097942 -0.000370333680621 1.00867743654e-12\n",
        "1"
       ]
      },
      {
       "output_type": "stream",
       "stream": "stdout",
       "text": [
        " 0.248907291884 0.0750424319067 2.50009378075e-12\n",
        "2"
       ]
      },
      {
       "output_type": "stream",
       "stream": "stdout",
       "text": [
        " 0.397391485827 0.286186870624 3.991508415e-12\n",
        "3"
       ]
      },
      {
       "output_type": "stream",
       "stream": "stdout",
       "text": [
        " 0.545875679769 0.612836377475 5.48289973742e-12\n",
        "4"
       ]
      },
      {
       "output_type": "stream",
       "stream": "stdout",
       "text": [
        " 0.694359873711 1.04273766746 6.97430829765e-12\n",
        "5"
       ]
      },
      {
       "output_type": "stream",
       "stream": "stdout",
       "text": [
        " 0.81529139742 1.46092111083 8.18897135957e-12\n"
       ]
      },
      {
       "metadata": {},
       "output_type": "pyout",
       "prompt_number": 28,
       "text": [
        "(7.881311018541935e-12, 0.78466081763863771)"
       ]
      }
     ],
     "prompt_number": 28
    },
    {
     "cell_type": "code",
     "collapsed": false,
     "input": [
      "ul.results"
     ],
     "language": "python",
     "metadata": {},
     "outputs": [
      {
       "metadata": {},
       "output_type": "pyout",
       "prompt_number": 29,
       "text": [
        "[7.91e-08 ph/cm^2/s for emin=100.0, emax=300000.0, delta(logLike)=1.35,\n",
        " 7.88e-12 ph/cm^2/s for emin=1000.0, emax=300000.0, delta(logLike)=1.35]"
       ]
      }
     ],
     "prompt_number": 29
    },
    {
     "cell_type": "markdown",
     "metadata": {},
     "source": [
      "You can also compute a Baysian Upper Limit"
     ]
    },
    {
     "cell_type": "code",
     "collapsed": false,
     "input": [
      "ul.bayesianUL()"
     ],
     "language": "python",
     "metadata": {},
     "outputs": [
      {
       "output_type": "stream",
       "stream": "stdout",
       "text": [
        "Setting lower bound on normalization parameter to zero temporarily for upper limit calculation.\n"
       ]
      },
      {
       "metadata": {},
       "output_type": "pyout",
       "prompt_number": 30,
       "text": [
        "(9.466806236121872e-08, 0.9385106188810538)"
       ]
      }
     ],
     "prompt_number": 30
    },
    {
     "cell_type": "code",
     "collapsed": false,
     "input": [],
     "language": "python",
     "metadata": {},
     "outputs": []
    }
   ],
   "metadata": {}
  }
 ]
}