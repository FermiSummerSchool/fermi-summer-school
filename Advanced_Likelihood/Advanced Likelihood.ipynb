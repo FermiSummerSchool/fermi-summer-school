{
 "cells": [
  {
   "cell_type": "markdown",
   "metadata": {},
   "source": [
    "Advanced Likelihood\n",
    "===================\n",
    "*Jeremy S. Perkins, FSSC*"
   ]
  },
  {
   "cell_type": "markdown",
   "metadata": {},
   "source": [
    "Fit Verification\n",
    "----------------\n",
    "\n",
    "Most of the time, your initial fit will not converge.  This can manifest in several ways:\n",
    "\n",
    "* It will say it didn't converge,\n",
    "* It will crash (this is annoying),\n",
    "* It will fail silently (this is also annoying).\n",
    "\n",
    "When this happens, your fit is probably not correct and the errors are not accurate.  This is a bad thing and can lead to incorrect science results.  You don't want this.  \n",
    "\n",
    "## How do I fix this?\n",
    "\n",
    "1. The culprit is usually a parameter (or parameters) in the model that reach the limits set in the XML file. If this happens the minimizer cannot reach the formal minimum, and hence cannot calculate the curvature. \n",
    "\n",
    "    * Often the problem is with spectral shape parameters (PL index etc..), so simply freezing the shape of all spectral parameters to their values from the full time period (and certainly for weaker background sources) may solve the problem (this could introduce errors, so be careful if you have variable sources).\n",
    "\n",
    "    * Weak background sources are more likely to cause problems, so you could consider just freezing them completely (or removing them from the model). For example a background source from the catalog that is detected at TS~=25 in 2 years could cause convergence problems in a 1-month light curve, where it will often not be detectable at all.\n",
    "\n",
    "2. If there are no parameters at their limits, then increasing the overall convergence tolerance may help - try using a value of 1E-8 for the absolute tolerance.\n",
    "\n",
    "3. If that doesn't help then try to systematically simplify the model. Progressively freeze all sources, starting with those at the edge of the ROI in and moving in until you get a model simple enough for the minimizer to work reliably. For example if you are using a 10 degree ROI, you could start by freezing all background sources further than 7 degrees from the source of interest, and move to 5 degrees if that doesn't solve the problem.\n",
    "\n",
    "Also, check and make sure there aren't any bright pulsars in your ROI. They might need to be gated. It's also really difficult to get convergence at low energies (100 - 200 MeV) so you could restrict your fit to above 200 (or 300 MeV).\n",
    "\n",
    "## How do I check for convergence?\n",
    "\n",
    "Glad you asked, if you're using python, you can query the optimizer directly this way (using our little data set as an example).\n"
   ]
  },
  {
   "cell_type": "code",
   "execution_count": 1,
   "metadata": {
    "collapsed": false
   },
   "outputs": [],
   "source": [
    "%matplotlib inline\n",
    "from UnbinnedAnalysis import *\n",
    "import numpy as np\n",
    "import matplotlib.pylab as plt"
   ]
  },
  {
   "cell_type": "code",
   "execution_count": 2,
   "metadata": {
    "collapsed": false
   },
   "outputs": [],
   "source": [
    "obs = UnbinnedObs(eventFile='3C279_filtered_gti.fits', \n",
    "                  scFile='L1405221252264C652E7F67_SC00.fits', \n",
    "                  expMap='3C279_expmap.fits',\n",
    "                  expCube='3C279_ltcube.fits',\n",
    "                  irfs='P7REP_SOURCE_V15')"
   ]
  },
  {
   "cell_type": "code",
   "execution_count": 3,
   "metadata": {
    "collapsed": false
   },
   "outputs": [],
   "source": [
    "analysis = UnbinnedAnalysis(obs,srcModel='3C279_input_model.xml', optimizer='NEWMINUIT')"
   ]
  },
  {
   "cell_type": "markdown",
   "metadata": {},
   "source": [
    "Now, you have to create a logLike object (instead of having the fit routine create one on the fly) so we can access it later."
   ]
  },
  {
   "cell_type": "code",
   "execution_count": 4,
   "metadata": {
    "collapsed": false
   },
   "outputs": [],
   "source": [
    "likeObj = pyLike.NewMinuit(analysis.logLike)"
   ]
  },
  {
   "cell_type": "markdown",
   "metadata": {},
   "source": [
    "And then, when you do the fit, you pass that object to the fit function so it will use that one."
   ]
  },
  {
   "cell_type": "code",
   "execution_count": 5,
   "metadata": {
    "collapsed": false
   },
   "outputs": [
    {
     "data": {
      "text/plain": [
       "815515.8994541339"
      ]
     },
     "execution_count": 5,
     "metadata": {},
     "output_type": "execute_result"
    }
   ],
   "source": [
    "analysis.fit(covar=True,optObject=likeObj)"
   ]
  },
  {
   "cell_type": "markdown",
   "metadata": {},
   "source": [
    "Now we can check out if the fit converged.."
   ]
  },
  {
   "cell_type": "code",
   "execution_count": 6,
   "metadata": {
    "collapsed": false
   },
   "outputs": [
    {
     "data": {
      "text/plain": [
       "0"
      ]
     },
     "execution_count": 6,
     "metadata": {},
     "output_type": "execute_result"
    }
   ],
   "source": [
    "likeObj.getRetCode()"
   ]
  },
  {
   "cell_type": "markdown",
   "metadata": {},
   "source": [
    "If this isn't 0 (for Minuit and NewMinuit at least) than you've got a problem and you need to work on your fit."
   ]
  },
  {
   "cell_type": "code",
   "execution_count": 7,
   "metadata": {
    "collapsed": false
   },
   "outputs": [],
   "source": [
    "analysis2 = UnbinnedAnalysis(obs,srcModel='3C279_input_model.xml', optimizer='MINUIT')"
   ]
  },
  {
   "cell_type": "code",
   "execution_count": 8,
   "metadata": {
    "collapsed": false
   },
   "outputs": [],
   "source": [
    "likeObj2 = pyLike.Minuit(analysis2.logLike)"
   ]
  },
  {
   "cell_type": "code",
   "execution_count": 9,
   "metadata": {
    "collapsed": false
   },
   "outputs": [
    {
     "data": {
      "text/plain": [
       "815515.8992054253"
      ]
     },
     "execution_count": 9,
     "metadata": {},
     "output_type": "execute_result"
    }
   ],
   "source": [
    "analysis2.fit(covar=True, optObject=likeObj2)"
   ]
  },
  {
   "cell_type": "code",
   "execution_count": 10,
   "metadata": {
    "collapsed": false
   },
   "outputs": [
    {
     "data": {
      "text/plain": [
       "0"
      ]
     },
     "execution_count": 10,
     "metadata": {},
     "output_type": "execute_result"
    }
   ],
   "source": [
    "likeObj2.getRetCode()"
   ]
  },
  {
   "cell_type": "markdown",
   "metadata": {},
   "source": [
    "## Here's and example that shouldn't converge...\n",
    "\n",
    "There are some other ancillary files in the directory that have already been pre-computed.  Let's start..."
   ]
  },
  {
   "cell_type": "code",
   "execution_count": 2,
   "metadata": {
    "collapsed": true
   },
   "outputs": [],
   "source": [
    "obs = UnbinnedObs(eventFile='SwiftJ1644_filtered_gti.fits', \n",
    "                  scFile='SwiftJ1644_SC.fits', \n",
    "                  expMap='SwiftJ1644_expMap.fits',\n",
    "                  expCube='SwiftJ1644_ltcube.fits',\n",
    "                  irfs='P7REP_SOURCE_V15')"
   ]
  },
  {
   "cell_type": "code",
   "execution_count": 3,
   "metadata": {
    "collapsed": true
   },
   "outputs": [],
   "source": [
    "like = UnbinnedAnalysis(obs,srcModel='SwiftJ1644_model.xml',optimizer='NewMinuit')"
   ]
  },
  {
   "cell_type": "code",
   "execution_count": 4,
   "metadata": {
    "collapsed": true
   },
   "outputs": [],
   "source": [
    "likeObj = pyLike.NewMinuit(like.logLike)"
   ]
  },
  {
   "cell_type": "code",
   "execution_count": 5,
   "metadata": {
    "collapsed": false
   },
   "outputs": [
    {
     "data": {
      "text/plain": [
       "11799.872950814914"
      ]
     },
     "execution_count": 5,
     "metadata": {},
     "output_type": "execute_result"
    }
   ],
   "source": [
    "like.fit(covar=True,optObject=likeObj)"
   ]
  },
  {
   "cell_type": "code",
   "execution_count": 6,
   "metadata": {
    "collapsed": false
   },
   "outputs": [
    {
     "data": {
      "text/plain": [
       "156"
      ]
     },
     "execution_count": 6,
     "metadata": {},
     "output_type": "execute_result"
    }
   ],
   "source": [
    "likeObj.getRetCode()"
   ]
  },
  {
   "cell_type": "markdown",
   "metadata": {},
   "source": [
    "This didn't converge.  \n",
    "\n",
    "And if you run the following command you can see why, lots of really weak sources (including our source of interest)\n"
   ]
  },
  {
   "cell_type": "code",
   "execution_count": 9,
   "metadata": {
    "collapsed": false
   },
   "outputs": [],
   "source": [
    "sourceDetails = {}\n",
    "\n",
    "for name in like.sourceNames():\n",
    "    sourceTS = like.Ts(name)\n",
    "    sourceNPred = like.NpredValue(name)\n",
    "    if(like.model[name].src.getType() == 'Point'):\n",
    "        distance = like._separation(like.model['SwiftJ1644'].src,like.model[name].src)\n",
    "    if(np.shape(like.freePars(name))[0] > 0):\n",
    "        free = True\n",
    "    else:\n",
    "        free = False\n",
    "    sourceDetails[name] = {'TS' : sourceTS,\n",
    "                           'NPred' : sourceNPred,\n",
    "                           'dist' : distance,\n",
    "                           'free' : free}"
   ]
  },
  {
   "cell_type": "code",
   "execution_count": 10,
   "metadata": {
    "collapsed": false,
    "scrolled": false
   },
   "outputs": [
    {
     "data": {
      "text/plain": [
       "{'SwiftJ1644': {'NPred': 2.581599950159946,\n",
       "  'TS': 0.07947799397879862,\n",
       "  'dist': 0.0,\n",
       "  'free': True},\n",
       " '_2FGLJ1502.1+5548': {'NPred': 0.24530409427144112,\n",
       "  'TS': 0.04340127732939436,\n",
       "  'dist': 14.118352897974725,\n",
       "  'free': False},\n",
       " '_2FGLJ1509.7+5556': {'NPred': 0.037348485957553884,\n",
       "  'TS': 0.006325255028059473,\n",
       "  'dist': 13.06110662993602,\n",
       "  'free': False},\n",
       " '_2FGLJ1518.0+6526': {'NPred': 0.05774272676891549,\n",
       "  'TS': 0.0075971514779666904,\n",
       "  'dist': 12.880377397359386,\n",
       "  'free': False},\n",
       " '_2FGLJ1531.0+5725': {'NPred': 0.00023975763712912455,\n",
       "  'TS': -7.316073242691346e-05,\n",
       "  'dist': 9.883361670754805,\n",
       "  'free': True},\n",
       " '_2FGLJ1542.9+6129': {'NPred': 2.7549834508596915,\n",
       "  'TS': 0.2853402619330154,\n",
       "  'dist': 8.73700550143424,\n",
       "  'free': True},\n",
       " '_2FGLJ1559.0+5627': {'NPred': 8.247846425755206,\n",
       "  'TS': 1.626274630867556,\n",
       "  'dist': 6.31934864234825,\n",
       "  'free': True},\n",
       " '_2FGLJ1604.6+5710': {'NPred': 3.9004610392382544,\n",
       "  'TS': 0.206889324610529,\n",
       "  'dist': 5.428311208373493,\n",
       "  'free': True},\n",
       " '_2FGLJ1614.8+4703': {'NPred': 0.5456495041376236,\n",
       "  'TS': 0.07937504053188604,\n",
       "  'dist': 11.46386925499516,\n",
       "  'free': False},\n",
       " '_2FGLJ1623.2+4328': {'NPred': 0.13358948248051133,\n",
       "  'TS': 0.011752865568269044,\n",
       "  'dist': 14.510377005176512,\n",
       "  'free': False},\n",
       " '_2FGLJ1630.4+5218': {'NPred': 2.7798932024297986,\n",
       "  'TS': 1.0546888961398508,\n",
       "  'dist': 5.664507016068484,\n",
       "  'free': True},\n",
       " '_2FGLJ1637.7+4714': {'NPred': 5.948029954966756,\n",
       "  'TS': 2.7275367645852384,\n",
       "  'dist': 10.391991547420714,\n",
       "  'free': False},\n",
       " '_2FGLJ1647.0+4351': {'NPred': 0.15561969253863633,\n",
       "  'TS': 0.00888046257023234,\n",
       "  'dist': 13.727716176082577,\n",
       "  'free': False},\n",
       " '_2FGLJ1647.5+4950': {'NPred': 33.87331773841653,\n",
       "  'TS': 20.96711569438048,\n",
       "  'dist': 7.751017814194529,\n",
       "  'free': True},\n",
       " '_2FGLJ1649.6+5238': {'NPred': 3.4433172279232784,\n",
       "  'TS': 0.12236983505499666,\n",
       "  'dist': 4.982944512756061,\n",
       "  'free': True},\n",
       " '_2FGLJ1656.5+6012': {'NPred': 0.00047388327219628865,\n",
       "  'TS': -7.701015783823095e-05,\n",
       "  'dist': 3.022816570458566,\n",
       "  'free': True},\n",
       " '_2FGLJ1657.9+4809': {'NPred': 11.922019883417729,\n",
       "  'TS': 9.993344149108452,\n",
       "  'dist': 9.622002691476514,\n",
       "  'free': True},\n",
       " '_2FGLJ1700.2+6831': {'NPred': 7.245539017233681,\n",
       "  'TS': 2.7333358262585534,\n",
       "  'dist': 11.070062143373358,\n",
       "  'free': False},\n",
       " '_2FGLJ1709.7+4319': {'NPred': 0.443250472418373,\n",
       "  'TS': -0.016962728786893422,\n",
       "  'dist': 14.787179252983453,\n",
       "  'free': False},\n",
       " '_2FGLJ1714.8+6836': {'NPred': 0.3432280878498361,\n",
       "  'TS': 0.021616318183077965,\n",
       "  'dist': 11.526783876092889,\n",
       "  'free': False},\n",
       " '_2FGLJ1725.2+5853': {'NPred': 3.7344578752188267,\n",
       "  'TS': 0.9763343658742087,\n",
       "  'dist': 5.467857733212849,\n",
       "  'free': True},\n",
       " '_2FGLJ1727.1+4531': {'NPred': 1.0412544425807195,\n",
       "  'TS': -0.05909678421448916,\n",
       "  'dist': 13.69805480020176,\n",
       "  'free': False},\n",
       " '_2FGLJ1728.2+5015': {'NPred': 3.2300039604528874,\n",
       "  'TS': 2.81086978087842,\n",
       "  'dist': 9.695296310550864,\n",
       "  'free': True},\n",
       " '_2FGLJ1730.8+5427': {'NPred': 1.1681478994342114,\n",
       "  'TS': 0.056929302256321535,\n",
       "  'dist': 7.1395643198929015,\n",
       "  'free': True},\n",
       " '_2FGLJ1739.5+4955': {'NPred': 1.4977991095185703,\n",
       "  'TS': -0.23446600353418035,\n",
       "  'dist': 11.096870068375312,\n",
       "  'free': False},\n",
       " '_2FGLJ1740.2+5212': {'NPred': 19.442285105767255,\n",
       "  'TS': 33.25847635869286,\n",
       "  'dist': 9.58626862844863,\n",
       "  'free': True},\n",
       " '_2FGLJ1740.3+4738': {'NPred': 0.1644729857531187,\n",
       "  'TS': -0.022588377352803946,\n",
       "  'dist': 12.979469347418606,\n",
       "  'free': False},\n",
       " '_2FGLJ1742.1+5948': {'NPred': 1.3960532253776197,\n",
       "  'TS': 0.030176485674019204,\n",
       "  'dist': 7.75053030209644,\n",
       "  'free': True},\n",
       " '_2FGLJ1748.8+7006': {'NPred': 0.2619579323484869,\n",
       "  'TS': 0.053347526340076,\n",
       "  'dist': 14.278881856639911,\n",
       "  'free': False},\n",
       " '_2FGLJ1756.5+5523': {'NPred': 0.6996788957768731,\n",
       "  'TS': -0.5186680268488999,\n",
       "  'dist': 10.107724690022108,\n",
       "  'free': False},\n",
       " '_2FGLJ1811.0+5340': {'NPred': 0.1227310736384692,\n",
       "  'TS': 0.003554210259608226,\n",
       "  'dist': 12.726533979782419,\n",
       "  'free': False},\n",
       " '_2FGLJ1824.0+5650': {'NPred': 1.4969096268342166,\n",
       "  'TS': -0.19149501558422344,\n",
       "  'dist': 13.373998637506793,\n",
       "  'free': False},\n",
       " '_2FGLJ1829.2+5402': {'NPred': 0.04043990092108574,\n",
       "  'TS': 4.7469980927417055e-05,\n",
       "  'dist': 14.990830802255811,\n",
       "  'free': False},\n",
       " '_2FGLJ1836.2+5926': {'NPred': 3.626822884246846,\n",
       "  'TS': -0.32939642968631233,\n",
       "  'dist': 14.561562432150275,\n",
       "  'free': False},\n",
       " 'gll_iem_v05_rev1': {'NPred': 441.574116474784,\n",
       "  'TS': 66.63696685899049,\n",
       "  'dist': 14.561562432150275,\n",
       "  'free': True},\n",
       " 'iso_source_v05': {'NPred': 504.5092348963764,\n",
       "  'TS': 65.39183550857706,\n",
       "  'dist': 14.561562432150275,\n",
       "  'free': True}}"
      ]
     },
     "execution_count": 10,
     "metadata": {},
     "output_type": "execute_result"
    }
   ],
   "source": [
    "sourceDetails"
   ]
  },
  {
   "cell_type": "markdown",
   "metadata": {},
   "source": [
    "Let's remove the weakest sources..."
   ]
  },
  {
   "cell_type": "code",
   "execution_count": 11,
   "metadata": {
    "collapsed": false
   },
   "outputs": [
    {
     "name": "stdout",
     "output_type": "stream",
     "text": [
      "Retaining _2FGLJ1740.2+5212\n",
      "Removing _2FGLJ1614.8+4703\n",
      "Removing _2FGLJ1756.5+5523\n",
      "Removing _2FGLJ1836.2+5926\n",
      "Removing _2FGLJ1811.0+5340\n",
      "Removing _2FGLJ1502.1+5548\n",
      "Removing _2FGLJ1623.2+4328\n",
      "Removing _2FGLJ1725.2+5853\n",
      "Removing _2FGLJ1604.6+5710\n",
      "Removing _2FGLJ1714.8+6836\n",
      "Retaining SwiftJ1644\n",
      "Removing _2FGLJ1649.6+5238\n",
      "Removing _2FGLJ1748.8+7006\n",
      "Retaining _2FGLJ1559.0+5627\n",
      "Removing _2FGLJ1709.7+4319\n",
      "Removing _2FGLJ1656.5+6012\n",
      "Retaining _2FGLJ1647.5+4950\n",
      "Removing _2FGLJ1647.0+4351\n",
      "Retaining _2FGLJ1700.2+6831\n",
      "Retaining _2FGLJ1637.7+4714\n",
      "Removing _2FGLJ1531.0+5725\n",
      "Removing _2FGLJ1509.7+5556\n",
      "Removing _2FGLJ1829.2+5402\n",
      "Removing _2FGLJ1542.9+6129\n",
      "Retaining _2FGLJ1728.2+5015\n",
      "Removing _2FGLJ1824.0+5650\n",
      "Retaining gll_iem_v05_rev1\n",
      "Removing _2FGLJ1742.1+5948\n",
      "Removing _2FGLJ1740.3+4738\n",
      "Removing _2FGLJ1739.5+4955\n",
      "Removing _2FGLJ1518.0+6526\n",
      "Retaining _2FGLJ1657.9+4809\n",
      "Removing _2FGLJ1730.8+5427\n",
      "Retaining iso_source_v05\n",
      "Removing _2FGLJ1727.1+4531\n",
      "Retaining _2FGLJ1630.4+5218\n"
     ]
    }
   ],
   "source": [
    "for source,details in sourceDetails.iteritems():\n",
    "    remove = False\n",
    "    if ((details['TS'] < 1.0) and (details['dist'] > 0.0)):\n",
    "        remove = True\n",
    "    if (remove):\n",
    "        print 'Removing ' + source\n",
    "        like.deleteSource(source)\n",
    "    else:\n",
    "        print 'Retaining ' + source\n"
   ]
  },
  {
   "cell_type": "code",
   "execution_count": 15,
   "metadata": {
    "collapsed": false
   },
   "outputs": [
    {
     "data": {
      "text/plain": [
       "SwiftJ1644\n",
       "   Spectrum: PowerLaw2\n",
       "0       Integral:  9.284e-02  3.749e-01  1.000e-04  1.000e+04 ( 1.000e-07)\n",
       "1          Index:  4.632e+00  1.807e+00  0.000e+00  5.000e+00 (-1.000e+00)\n",
       "2     LowerLimit:  1.000e+02  0.000e+00  2.000e+01  5.000e+05 ( 1.000e+00) fixed\n",
       "3     UpperLimit:  3.000e+05  0.000e+00  2.000e+01  5.000e+05 ( 1.000e+00) fixed\n",
       "\n",
       "_2FGLJ1559.0+5627\n",
       "   Spectrum: PowerLaw\n",
       "4      Prefactor:  7.382e+00  6.981e+00  1.000e-04  1.000e+04 ( 1.000e-13)\n",
       "5          Index:  2.098e+00  0.000e+00  0.000e+00  5.000e+00 (-1.000e+00) fixed\n",
       "6          Scale:  1.553e+03  0.000e+00  3.000e+01  5.000e+05 ( 1.000e+00) fixed\n",
       "\n",
       "_2FGLJ1630.4+5218\n",
       "   Spectrum: PowerLaw\n",
       "7      Prefactor:  2.847e+00  3.853e+00  1.000e-04  1.000e+04 ( 1.000e-13)\n",
       "8          Index:  1.944e+00  9.869e-01  0.000e+00  5.000e+00 (-1.000e+00)\n",
       "9          Scale:  1.573e+03  0.000e+00  3.000e+01  5.000e+05 ( 1.000e+00) fixed\n",
       "\n",
       "_2FGLJ1637.7+4714\n",
       "   Spectrum: PowerLaw\n",
       "10     Prefactor:  9.962e+00  0.000e+00  1.000e-04  1.000e+04 ( 1.000e-12) fixed\n",
       "11         Index:  2.411e+00  0.000e+00  0.000e+00  5.000e+00 (-1.000e+00) fixed\n",
       "12         Scale:  5.698e+02  0.000e+00  3.000e+01  5.000e+05 ( 1.000e+00) fixed\n",
       "\n",
       "_2FGLJ1647.5+4950\n",
       "   Spectrum: PowerLaw\n",
       "13     Prefactor:  2.272e+01  7.362e+00  1.000e-04  1.000e+04 ( 1.000e-12)\n",
       "14         Index:  2.400e+00  2.832e-01  0.000e+00  5.000e+00 (-1.000e+00)\n",
       "15         Scale:  5.546e+02  0.000e+00  3.000e+01  5.000e+05 ( 1.000e+00) fixed\n",
       "\n",
       "_2FGLJ1657.9+4809\n",
       "   Spectrum: PowerLaw\n",
       "16     Prefactor:  1.300e+01  6.941e+00  1.000e-04  1.000e+04 ( 1.000e-12)\n",
       "17         Index:  2.130e+00  3.660e-01  0.000e+00  5.000e+00 (-1.000e+00)\n",
       "18         Scale:  5.548e+02  0.000e+00  3.000e+01  5.000e+05 ( 1.000e+00) fixed\n",
       "\n",
       "_2FGLJ1700.2+6831\n",
       "   Spectrum: PowerLaw\n",
       "19     Prefactor:  2.414e+00  0.000e+00  1.000e-04  1.000e+04 ( 1.000e-11) fixed\n",
       "20         Index:  2.396e+00  0.000e+00  0.000e+00  5.000e+00 (-1.000e+00) fixed\n",
       "21         Scale:  5.313e+02  0.000e+00  3.000e+01  5.000e+05 ( 1.000e+00) fixed\n",
       "\n",
       "_2FGLJ1728.2+5015\n",
       "   Spectrum: PowerLaw\n",
       "22     Prefactor:  1.644e+01  1.629e+01  1.000e-04  1.000e+04 ( 1.000e-14)\n",
       "23         Index:  1.860e+00  5.339e-01  0.000e+00  5.000e+00 (-1.000e+00)\n",
       "24         Scale:  2.935e+03  0.000e+00  3.000e+01  5.000e+05 ( 1.000e+00) fixed\n",
       "\n",
       "_2FGLJ1740.2+5212\n",
       "   Spectrum: PowerLaw\n",
       "25     Prefactor:  2.689e+00  1.102e+00  1.000e-04  1.000e+04 ( 1.000e-11)\n",
       "26         Index:  1.834e+00  2.319e-01  0.000e+00  5.000e+00 (-1.000e+00)\n",
       "27         Scale:  4.813e+02  0.000e+00  3.000e+01  5.000e+05 ( 1.000e+00) fixed\n",
       "\n",
       "gll_iem_v05_rev1\n",
       "   Spectrum: PowerLaw\n",
       "28     Prefactor:  1.033e+00  1.725e-01  0.000e+00  1.000e+01 ( 1.000e+00)\n",
       "29         Index:  0.000e+00  0.000e+00 -1.000e+00  1.000e+00 ( 1.000e+00) fixed\n",
       "30         Scale:  1.000e+02  0.000e+00  5.000e+01  2.000e+02 ( 1.000e+00) fixed\n",
       "\n",
       "iso_source_v05\n",
       "   Spectrum: FileFunction\n",
       "31    Normalization:  9.363e-01  1.555e-01  1.000e-02  1.000e+01 ( 1.000e+00)"
      ]
     },
     "execution_count": 15,
     "metadata": {},
     "output_type": "execute_result"
    }
   ],
   "source": [
    "like.model"
   ]
  },
  {
   "cell_type": "markdown",
   "metadata": {},
   "source": [
    "This really simplies the model.  Let's run the fit again.."
   ]
  },
  {
   "cell_type": "code",
   "execution_count": 12,
   "metadata": {
    "collapsed": true
   },
   "outputs": [],
   "source": [
    "likeObj = pyLike.NewMinuit(like.logLike)"
   ]
  },
  {
   "cell_type": "code",
   "execution_count": 13,
   "metadata": {
    "collapsed": false
   },
   "outputs": [
    {
     "data": {
      "text/plain": [
       "11800.11393207484"
      ]
     },
     "execution_count": 13,
     "metadata": {},
     "output_type": "execute_result"
    }
   ],
   "source": [
    "like.fit(covar=True,optObject=likeObj)"
   ]
  },
  {
   "cell_type": "code",
   "execution_count": 14,
   "metadata": {
    "collapsed": false
   },
   "outputs": [
    {
     "data": {
      "text/plain": [
       "0"
      ]
     },
     "execution_count": 14,
     "metadata": {},
     "output_type": "execute_result"
    }
   ],
   "source": [
    "likeObj.getRetCode()"
   ]
  },
  {
   "cell_type": "code",
   "execution_count": null,
   "metadata": {
    "collapsed": true
   },
   "outputs": [],
   "source": []
  },
  {
   "cell_type": "code",
   "execution_count": 15,
   "metadata": {
    "collapsed": false
   },
   "outputs": [],
   "source": [
    "sourceDetails2 = {}\n",
    "\n",
    "for name in like.sourceNames():\n",
    "    sourceTS = like.Ts(name)\n",
    "    sourceNPred = like.NpredValue(name)\n",
    "    if(like.model[name].src.getType() == 'Point'):\n",
    "        distance = like._separation(like.model['SwiftJ1644'].src,like.model[name].src)\n",
    "    if(np.shape(like.freePars(name))[0] > 0):\n",
    "        free = True\n",
    "    else:\n",
    "        free = False\n",
    "    sourceDetails2[name] = {'TS' : sourceTS,\n",
    "                           'NPred' : sourceNPred,\n",
    "                           'dist' : distance,\n",
    "                           'free' : free}"
   ]
  },
  {
   "cell_type": "code",
   "execution_count": 18,
   "metadata": {
    "collapsed": false
   },
   "outputs": [
    {
     "name": "stdout",
     "output_type": "stream",
     "text": [
      "{'NPred': 8.188536223149509, 'dist': 6.31934864234825, 'TS': 1.5902910185905057, 'free': True}\n",
      "{'NPred': 8.247846425755206, 'dist': 6.31934864234825, 'TS': 1.626274630867556, 'free': True}\n"
     ]
    }
   ],
   "source": [
    "print sourceDetails2['_2FGLJ1559.0+5627']\n",
    "print sourceDetails['_2FGLJ1559.0+5627']"
   ]
  },
  {
   "cell_type": "markdown",
   "metadata": {},
   "source": [
    "That should do it.  This was quick.  Usually this is an iterative process where I \n",
    "\n",
    "* Remove any sources with TS < 1.0\n",
    "* Remove higher TS sources (TS < 1.5, 2.0…)\n",
    "* Remove sources with low NPred\n",
    "* Figure out what parameters are trouble (you'll have to write a function to do this) and might fix the problematic ones\n",
    "* Generate a TS Map and look if I'm missing something (see below).\n",
    "\n",
    "Now we can take a look at our source with the 'printSource' function and then calculate an upper limit if we wish.  Let's use the underlying function instead of the function in the LATAnalysisScripts."
   ]
  },
  {
   "cell_type": "code",
   "execution_count": 19,
   "metadata": {
    "collapsed": false
   },
   "outputs": [
    {
     "data": {
      "text/plain": [
       "SwiftJ1644\n",
       "   Spectrum: PowerLaw2\n",
       "0       Integral:  1.040e-01  3.686e-01  1.000e-04  1.000e+04 ( 1.000e-07)\n",
       "1          Index:  4.998e+00  4.726e-01  0.000e+00  5.000e+00 (-1.000e+00)\n",
       "2     LowerLimit:  1.000e+02  0.000e+00  2.000e+01  5.000e+05 ( 1.000e+00) fixed\n",
       "3     UpperLimit:  3.000e+05  0.000e+00  2.000e+01  5.000e+05 ( 1.000e+00) fixed"
      ]
     },
     "execution_count": 19,
     "metadata": {},
     "output_type": "execute_result"
    }
   ],
   "source": [
    "like.model['SwiftJ1644']"
   ]
  },
  {
   "cell_type": "code",
   "execution_count": 20,
   "metadata": {
    "collapsed": false
   },
   "outputs": [
    {
     "data": {
      "text/plain": [
       "0.08955769957901794"
      ]
     },
     "execution_count": 20,
     "metadata": {},
     "output_type": "execute_result"
    }
   ],
   "source": [
    "like.Ts('SwiftJ1644')"
   ]
  },
  {
   "cell_type": "code",
   "execution_count": 21,
   "metadata": {
    "collapsed": false
   },
   "outputs": [
    {
     "data": {
      "text/plain": [
       "2.813193647739525"
      ]
     },
     "execution_count": 21,
     "metadata": {},
     "output_type": "execute_result"
    }
   ],
   "source": [
    "like.NpredValue('SwiftJ1644')"
   ]
  },
  {
   "cell_type": "code",
   "execution_count": 22,
   "metadata": {
    "collapsed": false
   },
   "outputs": [
    {
     "data": {
      "image/png": "[encoded data removed]",
      "text/plain": [
       "<matplotlib.figure.Figure at 0x12040650>"
      ]
     },
     "metadata": {},
     "output_type": "display_data"
    }
   ],
   "source": [
    "E = (like.energies[:-1] + like.energies[1:])/2.\n",
    "#The 'energies' array are the endpoints so we take the midpoint of the bins.\n",
    "plt.figure(figsize=(9,9))\n",
    "plt.ylim((0.4,1e3))\n",
    "plt.xlim((100,100000))\n",
    "sum_model = np.zeros_like(like._srcCnts(like.sourceNames()[0]))\n",
    "for sourceName in like.sourceNames():\n",
    "    if sourceName[0] == '_':\n",
    "        sourceName_lab = sourceName[1:]\n",
    "    else:\n",
    "        sourceName_lab = sourceName\n",
    "    sum_model = sum_model + like._srcCnts(sourceName)\n",
    "    plt.loglog(E,like._srcCnts(sourceName),label=sourceName_lab)\n",
    "plt.loglog(E,sum_model,label='Total Model')\n",
    "plt.errorbar(E,like._Nobs(),yerr=np.sqrt(like._Nobs()), fmt='o',label='Counts')\n",
    "plt.legend(bbox_to_anchor=(1.05, 1), loc=2)\n",
    "plt.show()"
   ]
  },
  {
   "cell_type": "markdown",
   "metadata": {},
   "source": [
    "We're not detecting any emission from this object (TS = 0.09) so we should really calculate an upper limit.\n",
    "\n",
    "Upper Limits\n",
    "------------\n",
    "\n",
    "There's an upper limit function in the LAT Analysis Scripts but we'll use the raw funation since it's more instructive."
   ]
  },
  {
   "cell_type": "code",
   "execution_count": 23,
   "metadata": {
    "collapsed": false
   },
   "outputs": [],
   "source": [
    "from UpperLimits import UpperLimit"
   ]
  },
  {
   "cell_type": "markdown",
   "metadata": {},
   "source": [
    "You need to create an UpperLimit object by giving it the likelihood object (called *qL.MIN* in this case) and the source name:"
   ]
  },
  {
   "cell_type": "code",
   "execution_count": 24,
   "metadata": {
    "collapsed": false
   },
   "outputs": [],
   "source": [
    "ul = UpperLimit(like, 'SwiftJ1644')"
   ]
  },
  {
   "cell_type": "markdown",
   "metadata": {},
   "source": [
    "There's a simple upper limit function that we can run. "
   ]
  },
  {
   "cell_type": "code",
   "execution_count": 25,
   "metadata": {
    "collapsed": false
   },
   "outputs": [
    {
     "name": "stdout",
     "output_type": "stream",
     "text": [
      "0 0.103996054476 -2.93786797556e-05 1.0490136964e-08\n",
      "1 0.251419489225 0.0778381564051 2.53608167225e-08\n",
      "2 0.398842923973 0.289248386032 4.02314964816e-08\n",
      "3 0.546266358722 0.615635953294 5.51021762574e-08\n",
      "4 0.69368979347 1.04077990529 6.99728560981e-08\n",
      "5 0.815313902324 1.46103590634 8.22411442627e-08\n"
     ]
    },
    {
     "data": {
      "text/plain": [
       "(7.914569993457501e-08, 0.78462660081426927)"
      ]
     },
     "execution_count": 25,
     "metadata": {},
     "output_type": "execute_result"
    }
   ],
   "source": [
    "ul.compute()"
   ]
  },
  {
   "cell_type": "code",
   "execution_count": 26,
   "metadata": {
    "collapsed": false
   },
   "outputs": [
    {
     "data": {
      "text/plain": [
       "[7.91e-08 ph/cm^2/s for emin=100.0, emax=300000.0, delta(logLike)=1.35]"
      ]
     },
     "execution_count": 26,
     "metadata": {},
     "output_type": "execute_result"
    }
   ],
   "source": [
    "ul.results"
   ]
  },
  {
   "cell_type": "markdown",
   "metadata": {},
   "source": [
    "You can change the limits if you want:"
   ]
  },
  {
   "cell_type": "code",
   "execution_count": 27,
   "metadata": {
    "collapsed": false
   },
   "outputs": [
    {
     "name": "stdout",
     "output_type": "stream",
     "text": [
      "0 0.103996054476 -2.93786797556e-05 1.04456180778e-12\n",
      "1 0.251419489225 0.0778381564051 2.5253188268e-12\n",
      "2 0.398842923973 0.289248386032 4.00607580742e-12\n",
      "3 0.546266358722 0.615635953294 5.48683190654e-12\n",
      "4 0.69368979347 1.04077990529 6.96758455054e-12\n",
      "5 0.815313902324 1.46103590634 8.18920465281e-12\n"
     ]
    },
    {
     "data": {
      "text/plain": [
       "(7.88097444449431e-12, 0.78462660081426927)"
      ]
     },
     "execution_count": 27,
     "metadata": {},
     "output_type": "execute_result"
    }
   ],
   "source": [
    "ul.compute(emin=1000.0)"
   ]
  },
  {
   "cell_type": "code",
   "execution_count": 28,
   "metadata": {
    "collapsed": false
   },
   "outputs": [
    {
     "data": {
      "text/plain": [
       "[7.91e-08 ph/cm^2/s for emin=100.0, emax=300000.0, delta(logLike)=1.35,\n",
       " 7.88e-12 ph/cm^2/s for emin=1000.0, emax=300000.0, delta(logLike)=1.35]"
      ]
     },
     "execution_count": 28,
     "metadata": {},
     "output_type": "execute_result"
    }
   ],
   "source": [
    "ul.results"
   ]
  },
  {
   "cell_type": "markdown",
   "metadata": {},
   "source": [
    "You can also compute a Baysian Upper Limit"
   ]
  },
  {
   "cell_type": "code",
   "execution_count": 29,
   "metadata": {
    "collapsed": false
   },
   "outputs": [
    {
     "name": "stdout",
     "output_type": "stream",
     "text": [
      "Setting lower bound on normalization parameter to zero temporarily for upper limit calculation.\n"
     ]
    },
    {
     "data": {
      "text/plain": [
       "(9.462969325975763e-08, 0.93813024107019827)"
      ]
     },
     "execution_count": 29,
     "metadata": {},
     "output_type": "execute_result"
    }
   ],
   "source": [
    "ul.bayesianUL()"
   ]
  },
  {
   "cell_type": "markdown",
   "metadata": {
    "collapsed": false
   },
   "source": [
    "## And More...\n",
    "\n",
    "There are some good scripting tools out there:\n",
    "\n",
    "http://fermi.gsfc.nasa.gov/ssc/data/analysis/user/\n",
    "\n",
    "It's **very** important that you understand how everything works before you use these.  Black boxes are bad (except when they're good)."
   ]
  },
  {
   "cell_type": "markdown",
   "metadata": {},
   "source": [
    "## Explore the python tools:"
   ]
  },
  {
   "cell_type": "code",
   "execution_count": 30,
   "metadata": {
    "collapsed": false
   },
   "outputs": [
    {
     "name": "stdout",
     "output_type": "stream",
     "text": [
      "Help on method flux in module AnalysisBase:\n",
      "\n",
      "flux(self, srcName, emin=100, emax=300000.0, energyFlux=False) method of UnbinnedAnalysis.UnbinnedAnalysis instance\n",
      "    Returns the flux for a source with name \"srcName\" from emin\n",
      "    (in MeV) to emax (in MeV).  If \"energyFlux=False\" it returns\n",
      "    the integral flux; if True it will return the differential\n",
      "    flux.\n",
      "\n"
     ]
    }
   ],
   "source": [
    "help(like.flux)"
   ]
  },
  {
   "cell_type": "code",
   "execution_count": 31,
   "metadata": {
    "collapsed": false
   },
   "outputs": [
    {
     "name": "stdout",
     "output_type": "stream",
     "text": [
      "Help on method compute in module UpperLimits:\n",
      "\n",
      "compute(self, emin=100, emax=300000.0, delta=1.355, tmpfile='temp_model.xml', fix_src_pars=False, verbosity=1, nsigmax=2, npts=5, renorm=False, mindelta=0.01, resample=False) method of UpperLimits.UpperLimit instance\n",
      "\n"
     ]
    }
   ],
   "source": [
    "help(ul.compute)"
   ]
  },
  {
   "cell_type": "code",
   "execution_count": 32,
   "metadata": {
    "collapsed": false
   },
   "outputs": [
    {
     "name": "stdout",
     "output_type": "stream",
     "text": [
      "Help on method bayesianUL in module UpperLimits:\n",
      "\n",
      "bayesianUL(self, cl=0.95, nsig=10, renorm=False, emin=100, emax=300000.0, npts=50, verbosity=1) method of UpperLimits.UpperLimit instance\n",
      "\n"
     ]
    }
   ],
   "source": [
    "help(ul.bayesianUL)"
   ]
  },
  {
   "cell_type": "code",
   "execution_count": null,
   "metadata": {
    "collapsed": true
   },
   "outputs": [],
   "source": []
  }
 ],
 "metadata": {
  "kernelspec": {
   "display_name": "Python 2",
   "language": "python",
   "name": "python2"
  },
  "language_info": {
   "codemirror_mode": {
    "name": "ipython",
    "version": 2
   },
   "file_extension": ".py",
   "mimetype": "text/x-python",
   "name": "python",
   "nbconvert_exporter": "python",
   "pygments_lexer": "ipython2",
   "version": "2.7.2"
  }
 },
 "nbformat": 4,
 "nbformat_minor": 0
}
