{
 "cells": [
  {
   "cell_type": "markdown",
   "metadata": {},
   "source": [
    "## Generate a lightcurve using fermipy"
   ]
  },
  {
   "cell_type": "code",
   "execution_count": 1,
   "metadata": {
    "collapsed": true
   },
   "outputs": [],
   "source": [
    "%matplotlib inline\n",
    "import matplotlib.pyplot as plt\n",
    "import matplotlib\n",
    "import numpy as np"
   ]
  },
  {
   "cell_type": "code",
   "execution_count": 2,
   "metadata": {},
   "outputs": [
    {
     "name": "stdout",
     "output_type": "stream",
     "text": [
      "Plotter is MatPlotlib\n"
     ]
    }
   ],
   "source": [
    "from fermipy.gtanalysis import GTAnalysis"
   ]
  },
  {
   "cell_type": "code",
   "execution_count": 3,
   "metadata": {},
   "outputs": [
    {
     "name": "stderr",
     "output_type": "stream",
     "text": [
      "2017-06-07 13:31:07 INFO    GTAnalysis.__init__(): \n",
      "--------------------------------------------------------------------------------\n",
      "fermipy version 0.14.1 \n",
      "ScienceTools version \n",
      "WARNING: UnitsWarning: 'photon/cm**2/MeV/s' contains multiple slashes, which is discouraged by the FITS standard [astropy.units.format.generic]\n",
      "WARNING: UnitsWarning: 'photon/cm**2/s' contains multiple slashes, which is discouraged by the FITS standard [astropy.units.format.generic]\n",
      "WARNING: UnitsWarning: The unit 'erg' has been deprecated in the FITS standard. Suggested: cm2 g s-2. [astropy.units.format.utils]\n",
      "WARNING: UnitsWarning: 'erg/cm**2/s' contains multiple slashes, which is discouraged by the FITS standard [astropy.units.format.generic]\n",
      "2017-06-07 13:31:19 INFO    GTAnalysis.setup(): Running setup.\n",
      "2017-06-07 13:31:19 INFO    GTBinnedAnalysis.setup(): Running setup for component 00\n",
      "2017-06-07 13:31:19 INFO    GTBinnedAnalysis._select_data(): Skipping data selection.\n",
      "2017-06-07 13:31:19 INFO    GTBinnedAnalysis._create_ltcube(): Skipping LT Cube.\n",
      "2017-06-07 13:31:19 INFO    GTBinnedAnalysis._create_expcube(): Skipping gtexpcube.\n",
      "WARNING: FITSFixedWarning: RADECSYS= 'FK5 ' \n",
      "the RADECSYS keyword is deprecated, use RADESYSa. [astropy.wcs.wcs]\n",
      "2017-06-07 13:31:19 INFO    GTBinnedAnalysis._create_srcmaps(): Skipping gtsrcmaps.\n",
      "2017-06-07 13:31:19 INFO    GTBinnedAnalysis.setup(): Finished setup for component 00\n",
      "2017-06-07 13:31:19 INFO    GTBinnedAnalysis.setup(): Running setup for component 01\n",
      "2017-06-07 13:31:19 INFO    GTBinnedAnalysis._select_data(): Skipping data selection.\n",
      "2017-06-07 13:31:19 INFO    GTBinnedAnalysis._create_ltcube(): Skipping LT Cube.\n",
      "2017-06-07 13:31:20 INFO    GTBinnedAnalysis._create_expcube(): Skipping gtexpcube.\n",
      "2017-06-07 13:31:20 INFO    GTBinnedAnalysis._create_srcmaps(): Skipping gtsrcmaps.\n",
      "2017-06-07 13:31:20 INFO    GTBinnedAnalysis.setup(): Finished setup for component 01\n",
      "2017-06-07 13:31:20 INFO    GTBinnedAnalysis.setup(): Running setup for component 02\n",
      "2017-06-07 13:31:20 INFO    GTBinnedAnalysis._select_data(): Skipping data selection.\n",
      "2017-06-07 13:31:20 INFO    GTBinnedAnalysis._create_ltcube(): Skipping LT Cube.\n",
      "2017-06-07 13:31:20 INFO    GTBinnedAnalysis._create_expcube(): Skipping gtexpcube.\n",
      "2017-06-07 13:31:20 INFO    GTBinnedAnalysis._create_srcmaps(): Skipping gtsrcmaps.\n",
      "2017-06-07 13:31:20 INFO    GTBinnedAnalysis.setup(): Finished setup for component 02\n",
      "2017-06-07 13:31:20 INFO    GTBinnedAnalysis.setup(): Running setup for component 03\n",
      "2017-06-07 13:31:20 INFO    GTBinnedAnalysis._select_data(): Skipping data selection.\n",
      "2017-06-07 13:31:20 INFO    GTBinnedAnalysis._create_ltcube(): Skipping LT Cube.\n",
      "2017-06-07 13:31:21 INFO    GTBinnedAnalysis._create_expcube(): Skipping gtexpcube.\n",
      "2017-06-07 13:31:21 INFO    GTBinnedAnalysis._create_srcmaps(): Skipping gtsrcmaps.\n",
      "2017-06-07 13:31:21 INFO    GTBinnedAnalysis.setup(): Finished setup for component 03\n",
      "2017-06-07 13:31:21 INFO    GTBinnedAnalysis._create_binned_analysis(): Creating BinnedAnalysis for component 00.\n",
      "2017-06-07 13:31:34 INFO    GTBinnedAnalysis._create_binned_analysis(): Creating BinnedAnalysis for component 01.\n",
      "2017-06-07 13:31:45 INFO    GTBinnedAnalysis._create_binned_analysis(): Creating BinnedAnalysis for component 02.\n",
      "2017-06-07 13:31:56 INFO    GTBinnedAnalysis._create_binned_analysis(): Creating BinnedAnalysis for component 03.\n",
      "2017-06-07 13:32:08 INFO    GTAnalysis.setup(): Finished setup.\n",
      "2017-06-07 13:32:08 INFO    GTAnalysis.load_roi(): Loading ROI file: /home/vagrant/Advanced_Likelihood/data/fit2_sed.npy\n",
      "2017-06-07 13:32:12 INFO    GTBinnedAnalysis._create_binned_analysis(): Creating BinnedAnalysis for component 00.\n",
      "2017-06-07 13:32:20 INFO    GTBinnedAnalysis._create_binned_analysis(): Creating BinnedAnalysis for component 01.\n",
      "2017-06-07 13:32:28 INFO    GTBinnedAnalysis._create_binned_analysis(): Creating BinnedAnalysis for component 02.\n",
      "2017-06-07 13:32:40 INFO    GTBinnedAnalysis._create_binned_analysis(): Creating BinnedAnalysis for component 03.\n",
      "2017-06-07 13:32:57 INFO    GTAnalysis.load_roi(): Finished Loading ROI\n"
     ]
    }
   ],
   "source": [
    "gta = GTAnalysis.create('data/fit2_sed.npy')"
   ]
  },
  {
   "cell_type": "code",
   "execution_count": 4,
   "metadata": {
    "collapsed": true
   },
   "outputs": [],
   "source": [
    "gta.lightcurve?"
   ]
  },
  {
   "cell_type": "code",
   "execution_count": 5,
   "metadata": {
    "scrolled": false
   },
   "outputs": [
    {
     "name": "stderr",
     "output_type": "stream",
     "text": [
      "2017-06-07 13:34:00 INFO    GTAnalysis.lightcurve(): Computing Lightcurve for 3FGL J1256.1-0547\n",
      "2017-06-07 13:34:00 INFO    GTAnalysis._make_lc(): Fitting time range 239557417 242197580\n",
      "WARNING: FITSFixedWarning: 'datfix' made the change 'Invalid parameter value: invalid date '        ''. [astropy.wcs.wcs]\n",
      "2017-06-07 13:34:54 INFO    GTBinnedAnalysis.write_xml(): Writing /home/vagrant/Advanced_Likelihood/data/lightcurve_239557417_242197581/base_00.xml...\n",
      "2017-06-07 13:34:55 INFO    GTBinnedAnalysis.write_xml(): Writing /home/vagrant/Advanced_Likelihood/data/lightcurve_239557417_242197581/base_01.xml...\n",
      "2017-06-07 13:34:55 INFO    GTBinnedAnalysis.write_xml(): Writing /home/vagrant/Advanced_Likelihood/data/lightcurve_239557417_242197581/base_02.xml...\n",
      "2017-06-07 13:34:57 INFO    GTBinnedAnalysis.write_xml(): Writing /home/vagrant/Advanced_Likelihood/data/lightcurve_239557417_242197581/base_03.xml...\n",
      "/usr/local/fermisoft/v10r0p5-fssc-20150518A/x86_64-unknown-linux-gnu-libc2.17/lib/python2.7/site-packages/fermipy/utils.py:746: RuntimeWarning: invalid value encountered in absolute\n",
      "  err_lo = np.abs(x0 - find_function_root(fn, x0, xlo, 0.5))\n",
      "2017-06-07 13:37:08 INFO    GTBinnedAnalysis.write_xml(): Writing /home/vagrant/Advanced_Likelihood/data/lightcurve_239557417_242197581/fit_model_final_00.xml...\n",
      "2017-06-07 13:37:08 INFO    GTBinnedAnalysis.write_xml(): Writing /home/vagrant/Advanced_Likelihood/data/lightcurve_239557417_242197581/fit_model_final_01.xml...\n",
      "2017-06-07 13:37:08 INFO    GTBinnedAnalysis.write_xml(): Writing /home/vagrant/Advanced_Likelihood/data/lightcurve_239557417_242197581/fit_model_final_02.xml...\n",
      "2017-06-07 13:37:08 INFO    GTBinnedAnalysis.write_xml(): Writing /home/vagrant/Advanced_Likelihood/data/lightcurve_239557417_242197581/fit_model_final_03.xml...\n",
      "2017-06-07 13:37:08 INFO    GTAnalysis._make_lc(): Finished time range 239557417 242197580\n",
      "2017-06-07 13:37:08 INFO    GTAnalysis._make_lc(): Fitting time range 242197580 244837744\n",
      "2017-06-07 13:37:52 INFO    GTBinnedAnalysis.write_xml(): Writing /home/vagrant/Advanced_Likelihood/data/lightcurve_242197581_244837745/base_00.xml...\n",
      "2017-06-07 13:37:52 INFO    GTBinnedAnalysis.write_xml(): Writing /home/vagrant/Advanced_Likelihood/data/lightcurve_242197581_244837745/base_01.xml...\n",
      "2017-06-07 13:37:52 INFO    GTBinnedAnalysis.write_xml(): Writing /home/vagrant/Advanced_Likelihood/data/lightcurve_242197581_244837745/base_02.xml...\n",
      "2017-06-07 13:37:52 INFO    GTBinnedAnalysis.write_xml(): Writing /home/vagrant/Advanced_Likelihood/data/lightcurve_242197581_244837745/base_03.xml...\n",
      "/usr/local/fermisoft/v10r0p5-fssc-20150518A/x86_64-unknown-linux-gnu-libc2.17/lib/python2.7/site-packages/scipy/interpolate/fitpack2.py:224: UserWarning: \n",
      "The maximal number of iterations maxit (set to 20 by the program)\n",
      "allowed for finding a smoothing spline with fp=s has been reached: s\n",
      "too small.\n",
      "There is an approximation returned but the corresponding weighted sum\n",
      "of squared residuals does not satisfy the condition abs(fp-s)/s < tol.\n",
      "  warnings.warn(message)\n",
      "2017-06-07 13:40:02 INFO    GTBinnedAnalysis.write_xml(): Writing /home/vagrant/Advanced_Likelihood/data/lightcurve_242197581_244837745/fit_model_final_00.xml...\n",
      "2017-06-07 13:40:02 INFO    GTBinnedAnalysis.write_xml(): Writing /home/vagrant/Advanced_Likelihood/data/lightcurve_242197581_244837745/fit_model_final_01.xml...\n",
      "2017-06-07 13:40:02 INFO    GTBinnedAnalysis.write_xml(): Writing /home/vagrant/Advanced_Likelihood/data/lightcurve_242197581_244837745/fit_model_final_02.xml...\n",
      "2017-06-07 13:40:02 INFO    GTBinnedAnalysis.write_xml(): Writing /home/vagrant/Advanced_Likelihood/data/lightcurve_242197581_244837745/fit_model_final_03.xml...\n",
      "2017-06-07 13:40:03 INFO    GTAnalysis._make_lc(): Finished time range 242197580 244837744\n",
      "2017-06-07 13:40:03 INFO    GTAnalysis._make_lc(): Fitting time range 244837744 247477908\n",
      "2017-06-07 13:40:47 INFO    GTBinnedAnalysis.write_xml(): Writing /home/vagrant/Advanced_Likelihood/data/lightcurve_244837745_247477908/base_00.xml...\n",
      "2017-06-07 13:40:47 INFO    GTBinnedAnalysis.write_xml(): Writing /home/vagrant/Advanced_Likelihood/data/lightcurve_244837745_247477908/base_01.xml...\n",
      "2017-06-07 13:40:47 INFO    GTBinnedAnalysis.write_xml(): Writing /home/vagrant/Advanced_Likelihood/data/lightcurve_244837745_247477908/base_02.xml...\n",
      "2017-06-07 13:40:47 INFO    GTBinnedAnalysis.write_xml(): Writing /home/vagrant/Advanced_Likelihood/data/lightcurve_244837745_247477908/base_03.xml...\n",
      "2017-06-07 13:43:12 INFO    GTBinnedAnalysis.write_xml(): Writing /home/vagrant/Advanced_Likelihood/data/lightcurve_244837745_247477908/fit_model_final_00.xml...\n",
      "2017-06-07 13:43:12 INFO    GTBinnedAnalysis.write_xml(): Writing /home/vagrant/Advanced_Likelihood/data/lightcurve_244837745_247477908/fit_model_final_01.xml...\n",
      "2017-06-07 13:43:12 INFO    GTBinnedAnalysis.write_xml(): Writing /home/vagrant/Advanced_Likelihood/data/lightcurve_244837745_247477908/fit_model_final_02.xml...\n",
      "2017-06-07 13:43:12 INFO    GTBinnedAnalysis.write_xml(): Writing /home/vagrant/Advanced_Likelihood/data/lightcurve_244837745_247477908/fit_model_final_03.xml...\n",
      "2017-06-07 13:43:12 INFO    GTAnalysis._make_lc(): Finished time range 244837744 247477908\n",
      "2017-06-07 13:43:12 INFO    GTAnalysis._make_lc(): Fitting time range 247477908 250118072\n",
      "2017-06-07 13:43:59 INFO    GTBinnedAnalysis.write_xml(): Writing /home/vagrant/Advanced_Likelihood/data/lightcurve_247477908_250118072/base_00.xml...\n",
      "2017-06-07 13:43:59 INFO    GTBinnedAnalysis.write_xml(): Writing /home/vagrant/Advanced_Likelihood/data/lightcurve_247477908_250118072/base_01.xml...\n",
      "2017-06-07 13:43:59 INFO    GTBinnedAnalysis.write_xml(): Writing /home/vagrant/Advanced_Likelihood/data/lightcurve_247477908_250118072/base_02.xml...\n",
      "2017-06-07 13:43:59 INFO    GTBinnedAnalysis.write_xml(): Writing /home/vagrant/Advanced_Likelihood/data/lightcurve_247477908_250118072/base_03.xml...\n",
      "2017-06-07 13:46:03 INFO    GTBinnedAnalysis.write_xml(): Writing /home/vagrant/Advanced_Likelihood/data/lightcurve_247477908_250118072/fit_model_final_00.xml...\n",
      "2017-06-07 13:46:03 INFO    GTBinnedAnalysis.write_xml(): Writing /home/vagrant/Advanced_Likelihood/data/lightcurve_247477908_250118072/fit_model_final_01.xml...\n",
      "2017-06-07 13:46:03 INFO    GTBinnedAnalysis.write_xml(): Writing /home/vagrant/Advanced_Likelihood/data/lightcurve_247477908_250118072/fit_model_final_02.xml...\n",
      "2017-06-07 13:46:03 INFO    GTBinnedAnalysis.write_xml(): Writing /home/vagrant/Advanced_Likelihood/data/lightcurve_247477908_250118072/fit_model_final_03.xml...\n",
      "2017-06-07 13:46:03 INFO    GTAnalysis._make_lc(): Finished time range 247477908 250118072\n",
      "2017-06-07 13:46:03 INFO    GTAnalysis._make_lc(): Fitting time range 250118072 252758236\n",
      "2017-06-07 13:46:51 INFO    GTBinnedAnalysis.write_xml(): Writing /home/vagrant/Advanced_Likelihood/data/lightcurve_250118072_252758236/base_00.xml...\n",
      "2017-06-07 13:46:51 INFO    GTBinnedAnalysis.write_xml(): Writing /home/vagrant/Advanced_Likelihood/data/lightcurve_250118072_252758236/base_01.xml...\n",
      "2017-06-07 13:46:51 INFO    GTBinnedAnalysis.write_xml(): Writing /home/vagrant/Advanced_Likelihood/data/lightcurve_250118072_252758236/base_02.xml...\n",
      "2017-06-07 13:46:51 INFO    GTBinnedAnalysis.write_xml(): Writing /home/vagrant/Advanced_Likelihood/data/lightcurve_250118072_252758236/base_03.xml...\n",
      "2017-06-07 13:48:59 INFO    GTBinnedAnalysis.write_xml(): Writing /home/vagrant/Advanced_Likelihood/data/lightcurve_250118072_252758236/fit_model_final_00.xml...\n",
      "2017-06-07 13:48:59 INFO    GTBinnedAnalysis.write_xml(): Writing /home/vagrant/Advanced_Likelihood/data/lightcurve_250118072_252758236/fit_model_final_01.xml...\n",
      "2017-06-07 13:48:59 INFO    GTBinnedAnalysis.write_xml(): Writing /home/vagrant/Advanced_Likelihood/data/lightcurve_250118072_252758236/fit_model_final_02.xml...\n",
      "2017-06-07 13:48:59 INFO    GTBinnedAnalysis.write_xml(): Writing /home/vagrant/Advanced_Likelihood/data/lightcurve_250118072_252758236/fit_model_final_03.xml...\n",
      "2017-06-07 13:49:00 INFO    GTAnalysis._make_lc(): Finished time range 250118072 252758236\n",
      "2017-06-07 13:49:00 INFO    GTAnalysis._make_lc(): Fitting time range 252758236 255398400\n",
      "2017-06-07 13:49:46 INFO    GTBinnedAnalysis.write_xml(): Writing /home/vagrant/Advanced_Likelihood/data/lightcurve_252758236_255398400/base_00.xml...\n"
     ]
    },
    {
     "name": "stderr",
     "output_type": "stream",
     "text": [
      "2017-06-07 13:49:46 INFO    GTBinnedAnalysis.write_xml(): Writing /home/vagrant/Advanced_Likelihood/data/lightcurve_252758236_255398400/base_01.xml...\n",
      "2017-06-07 13:49:46 INFO    GTBinnedAnalysis.write_xml(): Writing /home/vagrant/Advanced_Likelihood/data/lightcurve_252758236_255398400/base_02.xml...\n",
      "2017-06-07 13:49:46 INFO    GTBinnedAnalysis.write_xml(): Writing /home/vagrant/Advanced_Likelihood/data/lightcurve_252758236_255398400/base_03.xml...\n",
      "2017-06-07 13:51:45 INFO    GTBinnedAnalysis.write_xml(): Writing /home/vagrant/Advanced_Likelihood/data/lightcurve_252758236_255398400/fit_model_final_00.xml...\n",
      "2017-06-07 13:51:45 INFO    GTBinnedAnalysis.write_xml(): Writing /home/vagrant/Advanced_Likelihood/data/lightcurve_252758236_255398400/fit_model_final_01.xml...\n",
      "2017-06-07 13:51:45 INFO    GTBinnedAnalysis.write_xml(): Writing /home/vagrant/Advanced_Likelihood/data/lightcurve_252758236_255398400/fit_model_final_02.xml...\n",
      "2017-06-07 13:51:45 INFO    GTBinnedAnalysis.write_xml(): Writing /home/vagrant/Advanced_Likelihood/data/lightcurve_252758236_255398400/fit_model_final_03.xml...\n",
      "2017-06-07 13:51:45 INFO    GTAnalysis._make_lc(): Finished time range 252758236 255398400\n",
      "2017-06-07 13:51:45 INFO    GTAnalysis.lightcurve(): Finished Lightcurve\n"
     ]
    }
   ],
   "source": [
    "lc = gta.lightcurve('3C 279',nbins=6,make_plots=True)"
   ]
  },
  {
   "cell_type": "code",
   "execution_count": 6,
   "metadata": {},
   "outputs": [
    {
     "data": {
      "text/plain": [
       "['dloglike_scan',\n",
       " 'file',\n",
       " 'flux10000',\n",
       " 'dnde1000_err',\n",
       " 'eflux100_err',\n",
       " 'flux100_ul95',\n",
       " 'flux_err',\n",
       " 'dnde1000',\n",
       " 'param_errors',\n",
       " 'dnde100_index',\n",
       " 'flux10000_ul95',\n",
       " 'eflux100',\n",
       " 'flux100',\n",
       " 'dnde100_err',\n",
       " 'flux_ul95',\n",
       " 'dnde10000',\n",
       " 'eflux_ul95',\n",
       " 'dnde10000_err',\n",
       " 'eflux1000_err',\n",
       " 'flux10000_err',\n",
       " 'ts',\n",
       " 'eflux_err',\n",
       " 'eflux10000',\n",
       " 'eflux100_ul95',\n",
       " 'eflux10000_err',\n",
       " 'config',\n",
       " 'eflux1000',\n",
       " 'dnde100',\n",
       " 'loglike_scan',\n",
       " 'tmin_mjd',\n",
       " 'tmin',\n",
       " 'eflux1000_ul95',\n",
       " 'flux_scan',\n",
       " 'dnde1000_index',\n",
       " 'param_values',\n",
       " 'eflux',\n",
       " 'eflux_scan',\n",
       " 'dnde',\n",
       " 'eflux10000_ul95',\n",
       " 'dnde10000_index',\n",
       " 'flux100_err',\n",
       " 'flux1000_err',\n",
       " 'norm_scan',\n",
       " 'flux1000_ul95',\n",
       " 'flux1000',\n",
       " 'name',\n",
       " 'dnde_index',\n",
       " 'tmax',\n",
       " 'dnde_err',\n",
       " 'flux',\n",
       " 'npred',\n",
       " 'loglike',\n",
       " 'pivot_energy',\n",
       " 'tmax_mjd',\n",
       " 'param_names']"
      ]
     },
     "execution_count": 6,
     "metadata": {},
     "output_type": "execute_result"
    }
   ],
   "source": [
    "list(lc.keys())"
   ]
  },
  {
   "cell_type": "code",
   "execution_count": 7,
   "metadata": {},
   "outputs": [
    {
     "data": {
      "image/png": "[encoded data removed]",
      "text/plain": [
       "<matplotlib.figure.Figure at 0x7fef10cd5210>"
      ]
     },
     "metadata": {},
     "output_type": "display_data"
    }
   ],
   "source": [
    "plt.errorbar(lc['tmax_mjd'],lc['flux'],yerr=lc['flux_err'],fmt='o')\n",
    "\n",
    "plt.xlabel('Time [MJD]')\n",
    "plt.ylabel(r'dN/dE [MeV cm$^{-2}$ s$^{-1}$]')\n",
    "plt.show()\n",
    "plt.show()"
   ]
  },
  {
   "cell_type": "code",
   "execution_count": 8,
   "metadata": {},
   "outputs": [
    {
     "data": {
      "image/png": "[encoded data removed]",
      "text/plain": [
       "<matplotlib.figure.Figure at 0x7fef0f76c4d0>"
      ]
     },
     "metadata": {},
     "output_type": "display_data"
    }
   ],
   "source": [
    "plt.plot(lc['flux']/lc['flux_err'],lc['npred']/np.sqrt(lc['npred']),'o')\n",
    "\n",
    "plt.xlabel('Flux/Flux_err')\n",
    "plt.ylabel('Npred/sqrt(Npred)')\n",
    "plt.show()"
   ]
  },
  {
   "cell_type": "code",
   "execution_count": null,
   "metadata": {
    "collapsed": true
   },
   "outputs": [],
   "source": []
  }
 ],
 "metadata": {
  "kernelspec": {
   "display_name": "Python 2",
   "language": "python",
   "name": "python2"
  },
  "language_info": {
   "codemirror_mode": {
    "name": "ipython",
    "version": 2
   },
   "file_extension": ".py",
   "mimetype": "text/x-python",
   "name": "python",
   "nbconvert_exporter": "python",
   "pygments_lexer": "ipython2",
   "version": "2.7.8"
  }
 },
 "nbformat": 4,
 "nbformat_minor": 2
}
