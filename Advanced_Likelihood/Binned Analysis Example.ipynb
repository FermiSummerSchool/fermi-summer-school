{
 "cells": [
  {
   "cell_type": "code",
   "execution_count": 1,
   "metadata": {
    "collapsed": false
   },
   "outputs": [
    {
     "name": "stdout",
     "output_type": "stream",
     "text": [
      "3C279_expmap.fits                  L1405231710349D489E7F57_PH00.fits\r\n",
      "3C279_filtered.fits                L1405231710349D489E7F57_SC00.fits\r\n",
      "3C279_filtered_gti.fits            SwiftJ1644_badMINFit.xml\r\n",
      "3C279_input_model.xml              SwiftJ1644_CCUBE.fits\r\n",
      "3C279_ltcube.fits                  SwiftJ1644.cfg\r\n",
      "Advanced Likelihood.ipynb          SwiftJ1644_expMap.fits\r\n",
      "Binned Analysis Example.ipynb      SwiftJ1644_filtered.fits\r\n",
      "events.txt                         SwiftJ1644_filtered_gti.fits\r\n",
      "example.cfg                        SwiftJ1644_likeMinuit.xml\r\n",
      "example_quickAnalysis.log          SwiftJ1644.list\r\n",
      "example_quickLike.log              SwiftJ1644_ltcube.fits\r\n",
      "\u001b[0m\u001b[01;36mgll_iem_v05_rev1.fit\u001b[0m@              SwiftJ1644_model.xml\r\n",
      "iso_source_v05.txt                 SwiftJ1644_quickAnalysis.log\r\n",
      "L1405221252264C652E7F67_PH00.fits  SwiftJ1644_quickLike.log\r\n",
      "L1405221252264C652E7F67_PH01.fits  SwiftJ1644_SC.fits\r\n",
      "L1405221252264C652E7F67_SC00.fits  test_ltcube.fits\r\n",
      "\u001b[m"
     ]
    }
   ],
   "source": [
    "ls"
   ]
  },
  {
   "cell_type": "markdown",
   "metadata": {},
   "source": [
    "We're going to use the same filtered data as before and you can use the same livetime cube since we didn't change any of our cuts.  First thing to do is to create a counts cube.\n",
    "\n",
    "For more details on all of this see: http://fermi.gsfc.nasa.gov/ssc/data/analysis/scitools/extended/extended.html"
   ]
  },
  {
   "cell_type": "code",
   "execution_count": 7,
   "metadata": {
    "collapsed": true
   },
   "outputs": [],
   "source": [
    "from gt_apps import evtbin, gtexpcube2, srcMaps"
   ]
  },
  {
   "cell_type": "code",
   "execution_count": 13,
   "metadata": {
    "collapsed": true
   },
   "outputs": [],
   "source": [
    "import numpy as np"
   ]
  },
  {
   "cell_type": "code",
   "execution_count": 15,
   "metadata": {
    "collapsed": false
   },
   "outputs": [
    {
     "data": {
      "text/plain": [
       "21.213203435596427"
      ]
     },
     "execution_count": 15,
     "metadata": {},
     "output_type": "execute_result"
    }
   ],
   "source": [
    "15*np.sqrt(2)"
   ]
  },
  {
   "cell_type": "code",
   "execution_count": 58,
   "metadata": {
    "collapsed": true
   },
   "outputs": [],
   "source": [
    "evtbin['evfile']= '3C279_filtered_gti.fits'\n",
    "evtbin['scfile']='NONE' \n",
    "evtbin['outfile']= '3C279_ccube.fits'\n",
    "evtbin['algorithm']=\"CCUBE\" \n",
    "evtbin['ebinalg']=\"LOG\" \n",
    "evtbin['emin']=100.0 \n",
    "evtbin['emax']=100000.0 \n",
    "evtbin['coordsys']=\"CEL\" \n",
    "evtbin['proj']=\"AIT\"\n",
    "evtbin['nxpix'] = 140\n",
    "evtbin['nypix'] = 140\n",
    "evtbin['binsz'] = 0.1\n",
    "evtbin['xref'] = 194.046527\n",
    "evtbin['yref'] = -5.789312\n",
    "evtbin['ebinalg'] = 'LOG'\n",
    "evtbin['enumbins'] = 30\n",
    "evtbin['scfile'] = 'L1405221252264C652E7F67_SC00.fits'"
   ]
  },
  {
   "cell_type": "code",
   "execution_count": 59,
   "metadata": {
    "collapsed": false
   },
   "outputs": [
    {
     "name": "stdout",
     "output_type": "stream",
     "text": [
      "time -p /home/fermiuser/AstroSoft/ScienceTools/x86_64-unknown-linux-gnu-libc2.12/bin/gtbin evfile=3C279_filtered_gti.fits scfile=L1405221252264C652E7F67_SC00.fits outfile=3C279_ccube.fits algorithm=\"CCUBE\" ebinalg=\"LOG\" emin=100.0 emax=100000.0 enumbins=30 ebinfile=NONE tbinalg=\"LIN\" tbinfile=NONE nxpix=140 nypix=140 binsz=0.1 coordsys=\"CEL\" xref=194.046527 yref=-5.789312 axisrot=0.0 rafield=\"RA\" decfield=\"DEC\" proj=\"AIT\" hpx_ordering_scheme=\"RING\" hpx_order=3 hpx_ebin=yes evtable=\"EVENTS\" sctable=\"SC_DATA\" efield=\"ENERGY\" tfield=\"TIME\" chatter=2 clobber=yes debug=no gui=no mode=\"ql\"\n",
      "This is gtbin version ScienceTools-v9r33p0-fssc-20140520\n",
      "real 14.63\n",
      "user 0.15\n",
      "sys 1.78\n"
     ]
    }
   ],
   "source": [
    "evtbin.run()"
   ]
  },
  {
   "cell_type": "code",
   "execution_count": 60,
   "metadata": {
    "collapsed": true
   },
   "outputs": [],
   "source": [
    "gtexpcube2['infile'] = \"3C279_ltcube.fits\"\n",
    "gtexpcube2['cmap'] = '3C279_ccube.fits'\n",
    "gtexpcube2['outfile'] = \"3C279_BinnedExpMap.fits\"\n",
    "gtexpcube2['irfs'] = \"P7REP_SOURCE_V15\"\n",
    "gtexpcube2['xref'] = 194.046527\n",
    "gtexpcube2['yref'] = -5.789312\n",
    "gtexpcube2['nxpix'] = 600\n",
    "gtexpcube2['nypix'] = 600\n",
    "gtexpcube2['binsz'] = 0.1\n",
    "gtexpcube2['coordsys'] = \"CEL\"\n",
    "gtexpcube2['axisrot'] = 0\n",
    "gtexpcube2['proj'] = 'AIT'\n",
    "gtexpcube2['ebinalg'] = \"LOG\"\n",
    "gtexpcube2['emin'] = 100.0\n",
    "gtexpcube2['emax'] = 100000.0\n",
    "gtexpcube2['enumbins'] = 30"
   ]
  },
  {
   "cell_type": "code",
   "execution_count": 61,
   "metadata": {
    "collapsed": false
   },
   "outputs": [
    {
     "name": "stdout",
     "output_type": "stream",
     "text": [
      "time -p /home/fermiuser/AstroSoft/ScienceTools/x86_64-unknown-linux-gnu-libc2.12/bin/gtexpcube2 infile=3C279_ltcube.fits cmap=3C279_ccube.fits outfile=3C279_BinnedExpMap.fits irfs=\"P7REP_SOURCE_V15\" nxpix=600 nypix=600 binsz=0.1 coordsys=\"CEL\" xref=194.046527 yref=-5.789312 axisrot=0.0 proj=\"AIT\" ebinalg=\"LOG\" emin=100.0 emax=100000.0 enumbins=30 ebinfile=\"NONE\" bincalc=\"EDGE\" ignorephi=no thmax=180.0 thmin=0.0 table=\"EXPOSURE\" chatter=2 clobber=yes debug=no mode=\"ql\"\n",
      "Computing binned exposure map....................!\n",
      "real 15.23\n",
      "user 3.42\n",
      "sys 1.54\n"
     ]
    }
   ],
   "source": [
    "gtexpcube2.run()"
   ]
  },
  {
   "cell_type": "code",
   "execution_count": 64,
   "metadata": {
    "collapsed": false
   },
   "outputs": [],
   "source": [
    "srcMaps['scfile'] = 'L1405221252264C652E7F67_SC00.fits'\n",
    "srcMaps['expcube'] = \"3C279_ltcube.fits\"\n",
    "srcMaps['cmap'] = \"3C279_ccube.fits\"\n",
    "srcMaps['srcmdl'] = \"3C279_input_model.xml\"\n",
    "srcMaps['bexpmap'] = \"3C279_BinnedExpMap.fits\"\n",
    "srcMaps['outfile'] = \"3C279_srcMaps.fits\"\n",
    "srcMaps['irfs'] = \"P7REP_SOURCE_V15\"\n",
    "srcMaps['rfactor'] = 4\n",
    "srcMaps['emapbnds'] = \"no\""
   ]
  },
  {
   "cell_type": "code",
   "execution_count": null,
   "metadata": {
    "collapsed": false,
    "scrolled": true
   },
   "outputs": [],
   "source": [
    "srcMaps.run()"
   ]
  },
  {
   "cell_type": "code",
   "execution_count": null,
   "metadata": {
    "collapsed": true
   },
   "outputs": [],
   "source": [
    "from BinnedAnalysis import *\n",
    "obs = BinnedObs(srcMaps='3C279_srcMaps.fits',\n",
    "                expCube='3C279_ltcube.fits',\n",
    "                binnedExpMap='3C279_BinnedExpMap.fits',\n",
    "                irfs='P7REP_SOURCE_V15')\n",
    "like = BinnedAnalysis(obs,'3C279_imput_model.xml',optimizer='MINUIT')"
   ]
  },
  {
   "cell_type": "markdown",
   "metadata": {},
   "source": [
    "Now you can just follow the unbinned example like before..."
   ]
  },
  {
   "cell_type": "code",
   "execution_count": null,
   "metadata": {
    "collapsed": true
   },
   "outputs": [],
   "source": []
  }
 ],
 "metadata": {
  "kernelspec": {
   "display_name": "Python 2",
   "language": "python",
   "name": "python2"
  },
  "language_info": {
   "codemirror_mode": {
    "name": "ipython",
    "version": 2
   },
   "file_extension": ".py",
   "mimetype": "text/x-python",
   "name": "python",
   "nbconvert_exporter": "python",
   "pygments_lexer": "ipython2",
   "version": "2.7.2"
  }
 },
 "nbformat": 4,
 "nbformat_minor": 0
}
