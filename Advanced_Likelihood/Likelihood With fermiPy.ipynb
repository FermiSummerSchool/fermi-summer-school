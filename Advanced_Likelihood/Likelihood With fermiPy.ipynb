{
 "cells": [
  {
   "cell_type": "code",
   "execution_count": 4,
   "metadata": {},
   "outputs": [
    {
     "name": "stdout",
     "output_type": "stream",
     "text": [
      "3C279_input_model.xml          PH00.fits\r\n",
      "Advanced Likelihood.ipynb      PH01.fits\r\n",
      "Binned Analysis Example.ipynb  SC00.fits\r\n",
      "events.txt                     SwiftJ1644.cfg\r\n",
      "Likelihood With fermiPy.ipynb  SwiftJ1644_model.xml\r\n"
     ]
    }
   ],
   "source": [
    "ls"
   ]
  },
  {
   "cell_type": "markdown",
   "metadata": {},
   "source": [
    "```\n",
    "data:\n",
    "  evfile : events.txt\n",
    "  scfile : SC00.fits\n",
    "\n",
    "binning:\n",
    "  roiwidth   : 15.0\n",
    "  binsz      : 0.1\n",
    "  binsperdec : 8\n",
    "\n",
    "selection :\n",
    "  emin : 100\n",
    "  emax : 100000\n",
    "  zmax    : 100\n",
    "  evclass : 128\n",
    "  evtype  : 3\n",
    "  tmin    : 239557417\n",
    "  tmax    : 255398400\n",
    "  filter  : null\n",
    "  target : 'mkn421'\n",
    "\n",
    "gtlike:\n",
    "  edisp : True\n",
    "  irfs : 'P8R2_SOURCE_V6'\n",
    "  edisp_disable : ['isodiff','galdiff']\n",
    "\n",
    "model:\n",
    "  src_roiwidth : 20.0\n",
    "  galdiff  : '/vagrant/gll_iem_v06.fits'\n",
    "  isodiff  : 'iso_P8R2_SOURCE_V6_v06.txt'\n",
    "  catalogs : ['3FGL']\n",
    "\n",
    "components:\n",
    "  - { selection : { evtype : 4  } } # PSF0\n",
    "  - { selection : { evtype : 8  } } # PSF1\n",
    "  - { selection : { evtype : 16 } } # PSF2\n",
    "  - { selection : { evtype : 32 } } # PSF3\n",
    " ```"
   ]
  },
  {
   "cell_type": "code",
   "execution_count": 3,
   "metadata": {},
   "outputs": [
    {
     "ename": "SyntaxError",
     "evalue": "invalid syntax (<ipython-input-3-ef18297fd796>, line 1)",
     "output_type": "error",
     "traceback": [
      "\u001b[0;36m  File \u001b[0;32m\"<ipython-input-3-ef18297fd796>\"\u001b[0;36m, line \u001b[0;32m1\u001b[0m\n\u001b[0;31m    cp ../data/PH00.fits .\u001b[0m\n\u001b[0m        ^\u001b[0m\n\u001b[0;31mSyntaxError\u001b[0m\u001b[0;31m:\u001b[0m invalid syntax\n"
     ]
    }
   ],
   "source": [
    "cp ../data/PH00.fits .\n",
    "cp ../data/PH01.fits .\n",
    "cp ../data/SC00.fits ."
   ]
  },
  {
   "cell_type": "code",
   "execution_count": null,
   "metadata": {
    "collapsed": true
   },
   "outputs": [],
   "source": []
  }
 ],
 "metadata": {
  "kernelspec": {
   "display_name": "Python 2",
   "language": "python",
   "name": "python2"
  },
  "language_info": {
   "codemirror_mode": {
    "name": "ipython",
    "version": 2
   },
   "file_extension": ".py",
   "mimetype": "text/x-python",
   "name": "python",
   "nbconvert_exporter": "python",
   "pygments_lexer": "ipython2",
   "version": "2.7.8"
  }
 },
 "nbformat": 4,
 "nbformat_minor": 2
}
