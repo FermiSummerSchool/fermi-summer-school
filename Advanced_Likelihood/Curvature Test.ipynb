{
 "cells": [
  {
   "cell_type": "code",
   "execution_count": 1,
   "metadata": {
    "collapsed": true
   },
   "outputs": [],
   "source": [
    "%matplotlib inline\n",
    "import matplotlib.pyplot as plt\n",
    "import matplotlib\n",
    "import numpy as np"
   ]
  },
  {
   "cell_type": "code",
   "execution_count": 2,
   "metadata": {},
   "outputs": [
    {
     "name": "stdout",
     "output_type": "stream",
     "text": [
      "Plotter is MatPlotlib\n"
     ]
    }
   ],
   "source": [
    "from fermipy.gtanalysis import GTAnalysis"
   ]
  },
  {
   "cell_type": "code",
   "execution_count": 3,
   "metadata": {},
   "outputs": [
    {
     "name": "stderr",
     "output_type": "stream",
     "text": [
      "2017-06-05 19:49:17 INFO    GTAnalysis.__init__(): \n",
      "--------------------------------------------------------------------------------\n",
      "fermipy version 0.14.1 \n",
      "ScienceTools version \n",
      "WARNING: UnitsWarning: 'photon/cm**2/MeV/s' contains multiple slashes, which is discouraged by the FITS standard [astropy.units.format.generic]\n",
      "WARNING: UnitsWarning: 'photon/cm**2/s' contains multiple slashes, which is discouraged by the FITS standard [astropy.units.format.generic]\n",
      "WARNING: UnitsWarning: The unit 'erg' has been deprecated in the FITS standard. Suggested: cm2 g s-2. [astropy.units.format.utils]\n",
      "WARNING: UnitsWarning: 'erg/cm**2/s' contains multiple slashes, which is discouraged by the FITS standard [astropy.units.format.generic]\n",
      "2017-06-05 19:49:27 INFO    GTAnalysis.setup(): Running setup.\n",
      "2017-06-05 19:49:27 INFO    GTBinnedAnalysis.setup(): Running setup for component 00\n",
      "2017-06-05 19:49:27 INFO    GTBinnedAnalysis._select_data(): Skipping data selection.\n",
      "2017-06-05 19:49:27 INFO    GTBinnedAnalysis._create_ltcube(): Skipping LT Cube.\n",
      "2017-06-05 19:49:27 INFO    GTBinnedAnalysis._create_expcube(): Skipping gtexpcube.\n",
      "WARNING: FITSFixedWarning: RADECSYS= 'FK5 ' \n",
      "the RADECSYS keyword is deprecated, use RADESYSa. [astropy.wcs.wcs]\n",
      "2017-06-05 19:49:27 INFO    GTBinnedAnalysis._create_srcmaps(): Skipping gtsrcmaps.\n",
      "2017-06-05 19:49:27 INFO    GTBinnedAnalysis.setup(): Finished setup for component 00\n",
      "2017-06-05 19:49:27 INFO    GTBinnedAnalysis.setup(): Running setup for component 01\n",
      "2017-06-05 19:49:27 INFO    GTBinnedAnalysis._select_data(): Skipping data selection.\n",
      "2017-06-05 19:49:27 INFO    GTBinnedAnalysis._create_ltcube(): Skipping LT Cube.\n",
      "2017-06-05 19:49:27 INFO    GTBinnedAnalysis._create_expcube(): Skipping gtexpcube.\n",
      "2017-06-05 19:49:28 INFO    GTBinnedAnalysis._create_srcmaps(): Skipping gtsrcmaps.\n",
      "2017-06-05 19:49:28 INFO    GTBinnedAnalysis.setup(): Finished setup for component 01\n",
      "2017-06-05 19:49:28 INFO    GTBinnedAnalysis.setup(): Running setup for component 02\n",
      "2017-06-05 19:49:28 INFO    GTBinnedAnalysis._select_data(): Skipping data selection.\n",
      "2017-06-05 19:49:28 INFO    GTBinnedAnalysis._create_ltcube(): Skipping LT Cube.\n",
      "2017-06-05 19:49:28 INFO    GTBinnedAnalysis._create_expcube(): Skipping gtexpcube.\n",
      "2017-06-05 19:49:28 INFO    GTBinnedAnalysis._create_srcmaps(): Skipping gtsrcmaps.\n",
      "2017-06-05 19:49:28 INFO    GTBinnedAnalysis.setup(): Finished setup for component 02\n",
      "2017-06-05 19:49:28 INFO    GTBinnedAnalysis.setup(): Running setup for component 03\n",
      "2017-06-05 19:49:28 INFO    GTBinnedAnalysis._select_data(): Skipping data selection.\n",
      "2017-06-05 19:49:28 INFO    GTBinnedAnalysis._create_ltcube(): Skipping LT Cube.\n",
      "2017-06-05 19:49:28 INFO    GTBinnedAnalysis._create_expcube(): Skipping gtexpcube.\n",
      "2017-06-05 19:49:28 INFO    GTBinnedAnalysis._create_srcmaps(): Skipping gtsrcmaps.\n",
      "2017-06-05 19:49:28 INFO    GTBinnedAnalysis.setup(): Finished setup for component 03\n",
      "2017-06-05 19:49:28 INFO    GTBinnedAnalysis._create_binned_analysis(): Creating BinnedAnalysis for component 00.\n",
      "2017-06-05 19:49:40 INFO    GTBinnedAnalysis._create_binned_analysis(): Creating BinnedAnalysis for component 01.\n",
      "2017-06-05 19:49:51 INFO    GTBinnedAnalysis._create_binned_analysis(): Creating BinnedAnalysis for component 02.\n",
      "2017-06-05 19:50:03 INFO    GTBinnedAnalysis._create_binned_analysis(): Creating BinnedAnalysis for component 03.\n",
      "2017-06-05 19:50:15 INFO    GTAnalysis.setup(): Finished setup.\n",
      "2017-06-05 19:50:15 INFO    GTAnalysis.load_roi(): Loading ROI file: /home/vagrant/Advanced_Likelihood/data/fit2_sed.npy\n",
      "2017-06-05 19:50:18 INFO    GTBinnedAnalysis._create_binned_analysis(): Creating BinnedAnalysis for component 00.\n",
      "2017-06-05 19:50:25 INFO    GTBinnedAnalysis._create_binned_analysis(): Creating BinnedAnalysis for component 01.\n",
      "2017-06-05 19:50:32 INFO    GTBinnedAnalysis._create_binned_analysis(): Creating BinnedAnalysis for component 02.\n",
      "2017-06-05 19:50:44 INFO    GTBinnedAnalysis._create_binned_analysis(): Creating BinnedAnalysis for component 03.\n",
      "2017-06-05 19:51:04 INFO    GTAnalysis.load_roi(): Finished Loading ROI\n"
     ]
    }
   ],
   "source": [
    "gta = GTAnalysis.create('data/fit2_sed.npy')"
   ]
  },
  {
   "cell_type": "code",
   "execution_count": 4,
   "metadata": {},
   "outputs": [
    {
     "name": "stderr",
     "output_type": "stream",
     "text": [
      "2017-06-05 19:51:08 INFO    GTAnalysis.print_roi(): \n",
      "name                SpatialModel   SpectrumType     offset        ts       npred\n",
      "--------------------------------------------------------------------------------\n",
      "3FGL J1256.1-0547   PointSource    LogParabola       0.000  14212.91      7906.8\n",
      "3FGL J1249.5-0546   PointSource    PowerLaw          1.651      8.28       144.5\n",
      "3FGL J1243.9-0217   PointSource    PowerLaw          4.652     15.73        78.1\n",
      "3FGL J1315.7-0732   PointSource    PowerLaw          5.180     19.74        69.5\n",
      "3FGL J1256.3-1146   PointSource    PowerLaw          5.990     29.36        80.3\n",
      "3FGL J1233.7-0145   PointSource    PowerLaw          6.897     28.66       143.2\n",
      "3FGL J1310.2-1159   PointSource    PowerLaw          7.106      9.15        23.1\n",
      "3FGL J1311.0+0036   PointSource    PowerLaw          7.409     15.94        18.1\n",
      "3FGL J1239.1-1158   PointSource    PowerLaw          7.472      7.20       113.3\n",
      "3FGL J1322.8-0938   PointSource    PowerLaw          7.645    114.85       422.9\n",
      "3FGL J1312.7+0051   PointSource    PLSuperExpCuto    7.840    133.35       179.6\n",
      "3FGL J1221.5-0632   PointSource    PowerLaw          8.646      6.61       130.9\n",
      "3FGL J1318.7-1232   PointSource    PowerLaw          8.756      5.94        50.5\n",
      "3FGL J1332.0-0508   PointSource    LogParabola       8.956     33.72       310.9\n",
      "3FGL J1229.1+0202   PointSource    LogParabola      10.336   1883.96      1692.4\n",
      "3FGL J1231.2-1411   PointSource    PLSuperExpCuto   10.410     19.37       142.7\n",
      "3FGL J1332.6-1256   PointSource    PowerLaw         11.484     35.69       263.1\n",
      "isodiff             ConstantValue  FileFunction      -----   1389.41     11477.6\n",
      "galdiff             MapCubeFunctio PowerLaw          -----   3324.97     13046.3\n",
      "\n"
     ]
    }
   ],
   "source": [
    "gta.print_roi()"
   ]
  },
  {
   "cell_type": "code",
   "execution_count": 5,
   "metadata": {},
   "outputs": [
    {
     "name": "stderr",
     "output_type": "stream",
     "text": [
      "2017-06-05 19:51:22 INFO    GTAnalysis.fit(): Starting fit.\n",
      "2017-06-05 19:51:22 INFO    GTAnalysis.fit(): Skipping fit.  No free parameters.\n"
     ]
    }
   ],
   "source": [
    "fit = gta.fit()"
   ]
  },
  {
   "cell_type": "code",
   "execution_count": 6,
   "metadata": {},
   "outputs": [
    {
     "data": {
      "text/plain": [
       "{'config': {'covar': True,\n",
       "  'init_lambda': 0.0001,\n",
       "  'max_iter': 100,\n",
       "  'min_fit_quality': 2,\n",
       "  'optimizer': 'MINUIT',\n",
       "  'reoptimize': False,\n",
       "  'retries': 3,\n",
       "  'tol': 0.001,\n",
       "  'verbosity': 0},\n",
       " 'correlation': None,\n",
       " 'covariance': None,\n",
       " 'dloglike': 0.0,\n",
       " 'edm': 0.0,\n",
       " 'errors': array([], dtype=float64),\n",
       " 'fit_quality': 3,\n",
       " 'fit_status': 0,\n",
       " 'fit_success': True,\n",
       " 'indices': array([], dtype=int64),\n",
       " 'is_norm': array([], dtype=bool),\n",
       " 'loglike': -146707.92529483067,\n",
       " 'par_names': [],\n",
       " 'src_names': [],\n",
       " 'values': array([], dtype=float64)}"
      ]
     },
     "execution_count": 6,
     "metadata": {},
     "output_type": "execute_result"
    }
   ],
   "source": [
    "fit"
   ]
  },
  {
   "cell_type": "code",
   "execution_count": 7,
   "metadata": {
    "collapsed": true
   },
   "outputs": [],
   "source": [
    "c = np.load('data/fit2_sed.npy').flat[0]"
   ]
  },
  {
   "cell_type": "code",
   "execution_count": 8,
   "metadata": {},
   "outputs": [],
   "source": [
    "E = np.array(c['sources']['3FGL J1256.1-0547']['model_flux']['energies'])\n",
    "dnde = np.array(c['sources']['3FGL J1256.1-0547']['model_flux']['dnde'])\n",
    "dnde_hi = np.array(c['sources']['3FGL J1256.1-0547']['model_flux']['dnde_hi'])\n",
    "dnde_lo = np.array(c['sources']['3FGL J1256.1-0547']['model_flux']['dnde_lo'])"
   ]
  },
  {
   "cell_type": "code",
   "execution_count": 9,
   "metadata": {},
   "outputs": [],
   "source": [
    "sed = np.load('data/3fgl_j1256.1-0547_sed.npy').flat[0]"
   ]
  },
  {
   "cell_type": "code",
   "execution_count": 10,
   "metadata": {},
   "outputs": [
    {
     "data": {
      "image/png": "[encoded data removed]",
      "text/plain": [
       "<matplotlib.figure.Figure at 0x7fd91d23ff10>"
      ]
     },
     "metadata": {},
     "output_type": "display_data"
    }
   ],
   "source": [
    "plt.loglog(E, (E**2)*dnde, 'k--')\n",
    "plt.loglog(E, (E**2)*dnde_hi, 'k')\n",
    "plt.loglog(E, (E**2)*dnde_lo, 'k')\n",
    "plt.errorbar(sed['e_ctr'][:-4],\n",
    "             sed['e2dnde'][:-4], \n",
    "             yerr=sed['e2dnde_err'][:-4], fmt ='o')\n",
    "plt.errorbar(np.array(sed['e_ctr'][-4:]),\n",
    "         sed['e2dnde_ul95'][-4:], yerr=0.2*sed['e2dnde_ul95'][-4:], \n",
    "             fmt='o', uplims=True)\n",
    "plt.xlabel('E [MeV]')\n",
    "plt.ylabel(r'E$^{2}$ dN/dE [MeV cm$^{-2}$ s$^{-1}$]')\n",
    "plt.show()"
   ]
  },
  {
   "cell_type": "code",
   "execution_count": 11,
   "metadata": {},
   "outputs": [
    {
     "name": "stderr",
     "output_type": "stream",
     "text": [
      "2017-06-05 19:52:54 INFO    GTAnalysis.delete_source(): Deleting source 3FGL J1256.1-0547\n"
     ]
    }
   ],
   "source": [
    "src_logpar = gta.delete_source('3FGL J1256.1-0547')"
   ]
  },
  {
   "cell_type": "code",
   "execution_count": 12,
   "metadata": {},
   "outputs": [
    {
     "name": "stderr",
     "output_type": "stream",
     "text": [
      "2017-06-05 19:53:24 INFO    GTAnalysis.add_source(): Adding source 3FGL J1256.1-0547\n"
     ]
    }
   ],
   "source": [
    "gta.add_source(src_logpar['name'],{ 'ra' : src_logpar['ra'], 'dec' : src_logpar['dec'],\n",
    "                 'SpectrumType' : 'PowerLaw', 'Index' : 2.0,\n",
    "                 'Scale' : 1000, 'Prefactor' : 1e-11,\n",
    "                 'SpatialModel' : 'PointSource' })"
   ]
  },
  {
   "cell_type": "code",
   "execution_count": 13,
   "metadata": {},
   "outputs": [
    {
     "name": "stderr",
     "output_type": "stream",
     "text": [
      "2017-06-05 19:53:41 INFO    GTAnalysis.print_roi(): \n",
      "name                SpatialModel   SpectrumType     offset        ts       npred\n",
      "--------------------------------------------------------------------------------\n",
      "3FGL J1256.1-0547   PointSource    PowerLaw          0.000       nan      1246.7\n",
      "3FGL J1249.5-0546   PointSource    PowerLaw          1.651      8.28       144.5\n",
      "3FGL J1243.9-0217   PointSource    PowerLaw          4.652     15.73        78.1\n",
      "3FGL J1315.7-0732   PointSource    PowerLaw          5.180     19.74        69.5\n",
      "3FGL J1256.3-1146   PointSource    PowerLaw          5.990     29.36        80.3\n",
      "3FGL J1233.7-0145   PointSource    PowerLaw          6.897     28.66       143.2\n",
      "3FGL J1310.2-1159   PointSource    PowerLaw          7.106      9.15        23.1\n",
      "3FGL J1311.0+0036   PointSource    PowerLaw          7.409     15.94        18.1\n",
      "3FGL J1239.1-1158   PointSource    PowerLaw          7.472      7.20       113.3\n",
      "3FGL J1322.8-0938   PointSource    PowerLaw          7.645    114.85       422.9\n",
      "3FGL J1312.7+0051   PointSource    PLSuperExpCuto    7.840    133.35       179.6\n",
      "3FGL J1221.5-0632   PointSource    PowerLaw          8.646      6.61       130.9\n",
      "3FGL J1318.7-1232   PointSource    PowerLaw          8.756      5.94        50.5\n",
      "3FGL J1332.0-0508   PointSource    LogParabola       8.956     33.72       310.9\n",
      "3FGL J1229.1+0202   PointSource    LogParabola      10.336   1883.96      1692.4\n",
      "3FGL J1231.2-1411   PointSource    PLSuperExpCuto   10.410     19.37       142.7\n",
      "3FGL J1332.6-1256   PointSource    PowerLaw         11.484     35.69       263.1\n",
      "isodiff             ConstantValue  FileFunction      -----   1389.41     11477.6\n",
      "galdiff             MapCubeFunctio PowerLaw          -----   3324.97     13046.3\n",
      "\n"
     ]
    }
   ],
   "source": [
    "gta.print_roi()"
   ]
  },
  {
   "cell_type": "code",
   "execution_count": 14,
   "metadata": {},
   "outputs": [
    {
     "name": "stderr",
     "output_type": "stream",
     "text": [
      "2017-06-05 19:53:55 INFO    GTAnalysis.free_source(): Freeing parameters for 3FGL J1256.1-0547     : ['Index']\n"
     ]
    }
   ],
   "source": [
    "gta.free_source('3FGL J1256.1-0547', pars=['Prefactor','Index'])"
   ]
  },
  {
   "cell_type": "code",
   "execution_count": 15,
   "metadata": {},
   "outputs": [
    {
     "name": "stderr",
     "output_type": "stream",
     "text": [
      "2017-06-05 19:54:08 INFO    GTAnalysis.fit(): Starting fit.\n",
      "2017-06-05 19:54:11 INFO    GTAnalysis.fit(): Fit returned successfully. Quality:   3 Status:   0\n",
      "2017-06-05 19:54:11 INFO    GTAnalysis.fit(): LogLike:  -146726.821 DeltaLogLike:     3252.884 \n"
     ]
    }
   ],
   "source": [
    "fit2 = gta.fit()"
   ]
  },
  {
   "cell_type": "code",
   "execution_count": 16,
   "metadata": {},
   "outputs": [
    {
     "data": {
      "text/plain": [
       "{'config': {'covar': True,\n",
       "  'init_lambda': 0.0001,\n",
       "  'max_iter': 100,\n",
       "  'min_fit_quality': 2,\n",
       "  'optimizer': 'MINUIT',\n",
       "  'reoptimize': False,\n",
       "  'retries': 3,\n",
       "  'tol': 0.001,\n",
       "  'verbosity': 0},\n",
       " 'correlation': array([[ 1.        , -0.66853494],\n",
       "        [-0.66853494,  1.        ]]),\n",
       " 'covariance': array([[ 0.00966284, -0.0009065 ],\n",
       "        [-0.0009065 ,  0.00019028]]),\n",
       " 'dloglike': 3252.8843559062225,\n",
       " 'edm': 0.000798294289850869,\n",
       " 'errors': array([ 0.09829972,  0.01379411]),\n",
       " 'fit_quality': 3,\n",
       " 'fit_status': 0,\n",
       " 'fit_success': True,\n",
       " 'indices': array([24, 25]),\n",
       " 'is_norm': array([ True, False], dtype=bool),\n",
       " 'loglike': -146726.82139917265,\n",
       " 'niter': 1,\n",
       " 'par_names': ['Prefactor', 'Index'],\n",
       " 'src_names': ['3FGL J1256.1-0547', '3FGL J1256.1-0547'],\n",
       " 'values': array([ 5.06742676,  2.22231379])}"
      ]
     },
     "execution_count": 16,
     "metadata": {},
     "output_type": "execute_result"
    }
   ],
   "source": [
    "fit2"
   ]
  },
  {
   "cell_type": "code",
   "execution_count": 17,
   "metadata": {},
   "outputs": [
    {
     "name": "stderr",
     "output_type": "stream",
     "text": [
      "2017-06-05 19:54:25 INFO    GTAnalysis.print_roi(): \n",
      "name                SpatialModel   SpectrumType     offset        ts       npred\n",
      "--------------------------------------------------------------------------------\n",
      "3FGL J1256.1-0547   PointSource    PowerLaw          0.000  16216.36      7966.3\n",
      "3FGL J1249.5-0546   PointSource    PowerLaw          1.651      8.28       144.5\n",
      "3FGL J1243.9-0217   PointSource    PowerLaw          4.652     15.73        78.1\n",
      "3FGL J1315.7-0732   PointSource    PowerLaw          5.180     19.74        69.5\n",
      "3FGL J1256.3-1146   PointSource    PowerLaw          5.990     29.36        80.3\n",
      "3FGL J1233.7-0145   PointSource    PowerLaw          6.897     28.66       143.2\n",
      "3FGL J1310.2-1159   PointSource    PowerLaw          7.106      9.15        23.1\n",
      "3FGL J1311.0+0036   PointSource    PowerLaw          7.409     15.94        18.1\n",
      "3FGL J1239.1-1158   PointSource    PowerLaw          7.472      7.20       113.3\n",
      "3FGL J1322.8-0938   PointSource    PowerLaw          7.645    114.85       422.9\n",
      "3FGL J1312.7+0051   PointSource    PLSuperExpCuto    7.840    133.35       179.6\n",
      "3FGL J1221.5-0632   PointSource    PowerLaw          8.646      6.61       130.9\n",
      "3FGL J1318.7-1232   PointSource    PowerLaw          8.756      5.94        50.5\n",
      "3FGL J1332.0-0508   PointSource    LogParabola       8.956     33.72       310.9\n",
      "3FGL J1229.1+0202   PointSource    LogParabola      10.336   1883.96      1692.4\n",
      "3FGL J1231.2-1411   PointSource    PLSuperExpCuto   10.410     19.37       142.7\n",
      "3FGL J1332.6-1256   PointSource    PowerLaw         11.484     35.69       263.1\n",
      "isodiff             ConstantValue  FileFunction      -----   1389.41     11477.6\n",
      "galdiff             MapCubeFunctio PowerLaw          -----   3324.97     13046.3\n",
      "\n"
     ]
    }
   ],
   "source": [
    "gta.print_roi()"
   ]
  },
  {
   "cell_type": "code",
   "execution_count": 18,
   "metadata": {},
   "outputs": [],
   "source": [
    "source = gta.roi.get_source_by_name('3FGL J1256.1-0547')"
   ]
  },
  {
   "cell_type": "code",
   "execution_count": 19,
   "metadata": {},
   "outputs": [
    {
     "name": "stdout",
     "output_type": "stream",
     "text": [
      "Name           : 3FGL J1256.1-0547\n",
      "Associations   : ['3FGL J1256.1-0547']\n",
      "RA/DEC         :    194.041/    -5.791\n",
      "GLON/GLAT      :    305.094/    57.061\n",
      "TS             : 16216.36\n",
      "Npred          : 7966.34\n",
      "Flux           :  6.92e-07 +/- 1.13e-08\n",
      "EnergyFlux     : 0.0002984 +/- 6.68e-06\n",
      "SpatialModel   : PointSource\n",
      "SpectrumType   : PowerLaw\n",
      "Spectral Parameters\n",
      "Prefactor      :  5.067e-11 +/-   9.83e-13\n",
      "Index          :     -2.222 +/-    0.01379\n",
      "Scale          :       1000 +/-        nan\n"
     ]
    }
   ],
   "source": [
    "print source"
   ]
  },
  {
   "cell_type": "code",
   "execution_count": 20,
   "metadata": {
    "collapsed": true
   },
   "outputs": [],
   "source": [
    "E = np.array(source['model_flux']['energies'])\n",
    "dnde = np.array(source['model_flux']['dnde'])\n",
    "dnde_hi = np.array(source['model_flux']['dnde_hi'])\n",
    "dnde_lo = np.array(source['model_flux']['dnde_lo'])"
   ]
  },
  {
   "cell_type": "code",
   "execution_count": 21,
   "metadata": {},
   "outputs": [
    {
     "data": {
      "image/png": "[encoded data removed]",
      "text/plain": [
       "<matplotlib.figure.Figure at 0x7fd91d23fed0>"
      ]
     },
     "metadata": {},
     "output_type": "display_data"
    }
   ],
   "source": [
    "plt.loglog(E, (E**2)*dnde, 'k--')\n",
    "plt.loglog(E, (E**2)*dnde_hi, 'k')\n",
    "plt.loglog(E, (E**2)*dnde_lo, 'k')\n",
    "plt.errorbar(sed['e_ctr'][:-4],\n",
    "             sed['e2dnde'][:-4], \n",
    "             yerr=sed['e2dnde_err'][:-4], fmt ='o')\n",
    "plt.errorbar(np.array(sed['e_ctr'][-4:]),\n",
    "         sed['e2dnde_ul95'][-4:], yerr=0.2*sed['e2dnde_ul95'][-4:], \n",
    "             fmt='o', uplims=True)\n",
    "plt.xlabel('E [MeV]')\n",
    "plt.ylabel(r'E$^{2}$ dN/dE [MeV cm$^{-2}$ s$^{-1}$]')\n",
    "plt.show()"
   ]
  },
  {
   "cell_type": "code",
   "execution_count": null,
   "metadata": {
    "collapsed": true
   },
   "outputs": [],
   "source": []
  },
  {
   "cell_type": "code",
   "execution_count": 22,
   "metadata": {},
   "outputs": [
    {
     "data": {
      "text/plain": [
       "6.1475367980979225"
      ]
     },
     "execution_count": 22,
     "metadata": {},
     "output_type": "execute_result"
    }
   ],
   "source": [
    "np.sqrt(-2*(fit2['loglike'] - fit['loglike']))"
   ]
  },
  {
   "cell_type": "code",
   "execution_count": 23,
   "metadata": {},
   "outputs": [
    {
     "name": "stderr",
     "output_type": "stream",
     "text": [
      "2017-06-05 19:57:49 INFO    GTAnalysis.delete_source(): Deleting source 3FGL J1256.1-0547\n"
     ]
    },
    {
     "data": {
      "text/plain": [
       "<fermipy.roi_model.Source at 0x7fd9605a1110>"
      ]
     },
     "execution_count": 23,
     "metadata": {},
     "output_type": "execute_result"
    }
   ],
   "source": [
    "gta.delete_source('3FGL J1256.1-0547')"
   ]
  },
  {
   "cell_type": "code",
   "execution_count": 25,
   "metadata": {},
   "outputs": [
    {
     "name": "stderr",
     "output_type": "stream",
     "text": [
      "2017-06-05 19:58:20 INFO    GTAnalysis.add_source(): Adding source 3FGL J1256.1-0547\n"
     ]
    }
   ],
   "source": [
    "gta.add_source('3FGL J1256.1-0547',src_logpar)"
   ]
  },
  {
   "cell_type": "code",
   "execution_count": 26,
   "metadata": {},
   "outputs": [
    {
     "name": "stderr",
     "output_type": "stream",
     "text": [
      "2017-06-05 19:58:46 INFO    GTAnalysis.print_roi(): \n",
      "name                SpatialModel   SpectrumType     offset        ts       npred\n",
      "--------------------------------------------------------------------------------\n",
      "3FGL J1256.1-0547   PointSource    LogParabola       0.000       nan      7906.8\n",
      "3FGL J1249.5-0546   PointSource    PowerLaw          1.651      8.28       144.5\n",
      "3FGL J1243.9-0217   PointSource    PowerLaw          4.652     15.73        78.1\n",
      "3FGL J1315.7-0732   PointSource    PowerLaw          5.180     19.74        69.5\n",
      "3FGL J1256.3-1146   PointSource    PowerLaw          5.990     29.36        80.3\n",
      "3FGL J1233.7-0145   PointSource    PowerLaw          6.897     28.66       143.2\n",
      "3FGL J1310.2-1159   PointSource    PowerLaw          7.106      9.15        23.1\n",
      "3FGL J1311.0+0036   PointSource    PowerLaw          7.409     15.94        18.1\n",
      "3FGL J1239.1-1158   PointSource    PowerLaw          7.472      7.20       113.3\n",
      "3FGL J1322.8-0938   PointSource    PowerLaw          7.645    114.85       422.9\n",
      "3FGL J1312.7+0051   PointSource    PLSuperExpCuto    7.840    133.35       179.6\n",
      "3FGL J1221.5-0632   PointSource    PowerLaw          8.646      6.61       130.9\n",
      "3FGL J1318.7-1232   PointSource    PowerLaw          8.756      5.94        50.5\n",
      "3FGL J1332.0-0508   PointSource    LogParabola       8.956     33.72       310.9\n",
      "3FGL J1229.1+0202   PointSource    LogParabola      10.336   1883.96      1692.4\n",
      "3FGL J1231.2-1411   PointSource    PLSuperExpCuto   10.410     19.37       142.7\n",
      "3FGL J1332.6-1256   PointSource    PowerLaw         11.484     35.69       263.1\n",
      "isodiff             ConstantValue  FileFunction      -----   1389.41     11477.6\n",
      "galdiff             MapCubeFunctio PowerLaw          -----   3324.97     13046.3\n",
      "\n"
     ]
    }
   ],
   "source": [
    "gta.print_roi()"
   ]
  },
  {
   "cell_type": "code",
   "execution_count": 27,
   "metadata": {},
   "outputs": [
    {
     "data": {
      "text/plain": [
       "'3FGL J1256.1-0547'"
      ]
     },
     "execution_count": 27,
     "metadata": {},
     "output_type": "execute_result"
    }
   ],
   "source": [
    "src_logpar['name']"
   ]
  },
  {
   "cell_type": "code",
   "execution_count": null,
   "metadata": {
    "collapsed": true
   },
   "outputs": [],
   "source": []
  }
 ],
 "metadata": {
  "kernelspec": {
   "display_name": "Python 2",
   "language": "python",
   "name": "python2"
  },
  "language_info": {
   "codemirror_mode": {
    "name": "ipython",
    "version": 2
   },
   "file_extension": ".py",
   "mimetype": "text/x-python",
   "name": "python",
   "nbconvert_exporter": "python",
   "pygments_lexer": "ipython2",
   "version": "2.7.8"
  }
 },
 "nbformat": 4,
 "nbformat_minor": 2
}
