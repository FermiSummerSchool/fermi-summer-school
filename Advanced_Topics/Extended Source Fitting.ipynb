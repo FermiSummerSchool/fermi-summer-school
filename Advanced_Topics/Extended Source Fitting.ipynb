{
 "cells": [
  {
   "cell_type": "markdown",
   "metadata": {},
   "source": [
    "Extended Source Fitting\n",
    "===================\n",
    "*J. W. Hewitt, UMBC/GSFC*"
   ]
  },
  {
   "cell_type": "markdown",
   "metadata": {},
   "source": [
    "Analyzing the Extension of LAT Sources\n",
    "----------------\n",
    "\n",
    "WARNING: This tutorial is being updated for Pass 8. The method is correct, but the files need to be updated.\n",
    "\n",
    "The purpose of this tutorial is to demonstrate one method to fit the extension of a spatially resolved source within the likelihood analysis framework.\n",
    "\n",
    "For an introduction to fitting extended source templates, see the FSSC tutorial:\n",
    "http://fermi.gsfc.nasa.gov/ssc/data/analysis/scitools/extended/extended.html\n",
    "\n",
    "For a detailed discussion of fitting source extension using LAT data, including Monte Carlo validations, see Lande et al. (2012):\n",
    "http://adsabs.harvard.edu/abs/2012ApJ...756....5L\n",
    "\n",
    "For this tutorial we will make use of the Extended Source templates: http://fermi.gsfc.nasa.gov/ssc/data/access/lat/4yr_catalog/LAT_extended_sources_v15.tgz\n",
    "\n",
    "## Extension significance\n",
    "\n",
    "Just as we can use a test-statistic to establish the significance of a point source, we can define a quantity that measures the significance of source extension:\n",
    "\n",
    "<img src=\"tsext.gif\">\n",
    "\n",
    "Here the null hypothesis is that of a point source, with the position localized by gtfindsrc. Below we will see how to scan over the likelihood space of the extended source hypothesis.\n"
   ]
  },
  {
   "cell_type": "markdown",
   "metadata": {},
   "source": [
    "### Setup our analysis\n",
    "\n",
    "Files for this analysis are temporarily available here: \n",
    "\n",
    "\n",
    "In our analysis we will use two XML files.\n",
    "\n",
    "    inputxml: has been fit to the ROI with a point source model for HB9.\n",
    "    diskxml: includes an extended disk tempalte as a spatial map for HB9.\n",
    "    \n",
    "The inputxml file includes a point source model for HB9. We will fit this hypothesis and use the resulting loglikelihood as our null hypothesis in computing TSext.\n",
    "\n",
    "We then scan the likelihood space by fitting the disk template at the same center, but for different disk radii. In practice, we should also vary the disk centroid to account for the source localization, but this is excluded here for simplicity.\n",
    "\n",
    "For the spatial template we will use a uniform disk, described by:\n",
    "<img src=\"uniformdisk.gif\">\n",
    "\n",
    "You can encode any spatial distribution you like into a FITS file and pass this into the ScienceTools as a spatial map. For this example we will makes use of the pre-defined extended spatial templates included with 2FGL. Here we use the uniform disk template for the SNR W30 (W30.fits), but a gaussian (e.g. IC443.fits) or any other spatial template written to FITS can also be used.\n",
    "\n",
    "In all fits we leave the normalization of the Galactic and isotropic diffuse components free, the normalization and index of the source representing HB9, as well as the normalization of the nearby source."
   ]
  },
  {
   "cell_type": "code",
   "execution_count": 4,
   "metadata": {},
   "outputs": [],
   "source": [
    "mysource = 'HB9'\n",
    "inputxml = 'model_HB9_point.xml'\n",
    "diskxml = 'model_HB9_diskfit.xml'"
   ]
  },
  {
   "cell_type": "code",
   "execution_count": 5,
   "metadata": {},
   "outputs": [
    {
     "data": {
      "text/plain": [
       "'time -p /software/Glast/ScienceTools-v9r32p5-fssc-20130916-x86_64-apple-darwin12.4.0/x86_64-apple-darwin12.4.0/bin/gtsrcmaps scfile=/Users/jhewitt/Dropbox/Public/hb9_lat_analysis/HB9_P7REP_ft2.fits sctable=\"SC_DATA\" expcube=/Users/jhewitt/Dropbox/Public/hb9_lat_analysis/expCube_both1-300gev.fits cmap=/Users/jhewitt/Dropbox/Public/hb9_lat_analysis/CountsMap3D_HB9_P7REP_both1-300gev_6bins.fits srcmdl=/Users/jhewitt/Dropbox/Public/hb9_lat_analysis/model_HB9_P7REP_2fgl_point.xml bexpmap=/Users/jhewitt/Dropbox/Public/hb9_lat_analysis/bexpmap_HB9_P7REP_both1-300gev_6bins.fits outfile=/Users/jhewitt/Dropbox/Public/hb9_lat_analysis/srcMaps_HB9_P7REP_both1-300gev_6bins.fits irfs=\"P7REP_SOURCE_V15\" convol=yes resample=yes rfactor=2 minbinsz=0.1 ptsrc=yes psfcorr=yes emapbnds=no copyall=no chatter=2 clobber=True debug=no gui=no mode=\"ql\"'"
      ]
     },
     "execution_count": 5,
     "metadata": {},
     "output_type": "execute_result"
    }
   ],
   "source": [
    "from gt_apps import *\n",
    "srcMaps['srcmdl']= inputxml\n",
    "srcMaps['outfile']='srcMaps_HB9_1-300gev_6bins.fits'\n",
    "srcMaps['cmap']='CountsMap3D_HB9_1-300gev_6bins.fits'\n",
    "srcMaps['irfs']= 'P8R2_SOURCE_V6'\n",
    "srcMaps['scfile']= 'HB9_SC.fits'\n",
    "srcMaps['bexpmap']= 'bexpmap_HB9_1-300gev_6bins.fits'\n",
    "srcMaps['expcube']= 'expCube_both1-300gev.fits'\n",
    "srcMaps['rfactor']= 4\n",
    "srcMaps['emapbnds']= 'no'\n",
    "srcMaps['clobber']= True\n",
    "srcMaps.command()\n",
    "#srcMaps.run() #uncomment this line if you really want to generate this sourcemap"
   ]
  },
  {
   "cell_type": "code",
   "execution_count": 7,
   "metadata": {},
   "outputs": [],
   "source": [
    "from BinnedAnalysis import *\n",
    "obs = BinnedObs(srcMaps='srcMaps_HB9_1-300gev_6bins.fits',\n",
    "                binnedExpMap=wd+'bexpmap_HB9_1-300gev_6bins.fits', \n",
    "                expCube=wd+'expCube_1-300gev.fits',\n",
    "                irfs='P8R2_SOURCE_V6')\n",
    "\n",
    "analysis = BinnedAnalysis(obs, srcModel=inputxml, optimizer='NEWMINUIT')"
   ]
  },
  {
   "cell_type": "code",
   "execution_count": 8,
   "metadata": {},
   "outputs": [
    {
     "name": "stdout",
     "output_type": "stream",
     "text": [
      "Null hypothesis is LLps =  146276.205795\n"
     ]
    }
   ],
   "source": [
    "#### Record the null hypothesis for the point source fit\n",
    "null_hyp = analysis.fit(0)\n",
    "print \"Null hypothesis is LLps = \",null_hyp"
   ]
  },
  {
   "cell_type": "markdown",
   "metadata": {},
   "source": [
    "### Scan the likelihood space for different disk radii\n",
    "\n",
    "Now we want to scan the likelihood space as a function of disk radius. To do so we repeat a binned likelihood fit of the ROI stepping through some radial extent. The step size should be chosen to be sufficiently small the sample the LAT PSF. Typically 0.03 degrees is sufficient. \n",
    "\n",
    "The XML source model that is present in the diskxml file but not the inputxml file is:\n",
    "<img src=\"xmlmodel.png\">\n",
    "\n",
    "<source name=\"HB9\" type=\"DiffuseSource\">\n",
    "  <spectrum type=\"PowerLaw\">\n",
    "    <parameter error=\"0.695\" free=\"1\" max=\"1000000\" min=\"1e-06\" name=\"Prefactor\" scale=\"1e-12\" value=\"6.59\" />\n",
    "    <parameter error=\"0.192\" free=\"1\" max=\"5\" min=\"0\" name=\"Index\" scale=\"-1\" value=\"3.010\" />\n",
    "    <parameter free=\"0\" max=\"500000\" min=\"30\" name=\"Scale\" scale=\"1\" value=\"2000\" />\n",
    "  </spectrum>\n",
    "  <spatialModel file=\"/data/fermi/hb9_10deg/uniform_disk.fits\" type=\"SpatialMap\">\n",
    "    <parameter free=\"0\" max=\"1000\" min=\"0.001\" name=\"Prefactor\" scale=\"1\" value=\"1\" />\n",
    "  </spatialModel>\n",
    "</source>"
   ]
  },
  {
   "cell_type": "code",
   "execution_count": null,
   "metadata": {},
   "outputs": [],
   "source": [
    "import pyfits\n",
    "\n",
    "# open disk template of W30 for use as HB9\n",
    "image = pyfits.open('W30.fits')\n",
    "\n",
    "# change centroid to that of HB9\n",
    "print image.info()\n",
    "image[0].header['CRVAL1'] = 75.166667\n",
    "image[0].header['CRVAL2'] = 46.609722\n",
    "\n",
    "# change disk radius through pixel scale to match SNR\n",
    "radius_in_degrees = 1.08\n",
    "radius_in_pixels = 32\n",
    "image[0].header['CDELT1'] = radius_in_degrees/radius_in_pixels\n",
    "image[0].header['CDELT2'] = radius_in_degrees/radius_in_pixels\n",
    "\n",
    "# renormalize template\n",
    "sum = 0\n",
    "for element in image[0].data.flat:\n",
    "  sum += element\n",
    "\n",
    "norm = sum * (m.pi/180)**2 * (0.1**2)\n",
    "for x,row in enumerate(image[0].data):\n",
    "  for y in enumerate(row):\n",
    "   image[0].data[x,y[0]] /= norm\n",
    " \n",
    "image.writeto('uniform_disk.fits')\n",
    "image.close()"
   ]
  },
  {
   "cell_type": "markdown",
   "metadata": {},
   "source": [
    "Since we will be rescaling the disk radius frequently, let's write a function to do this."
   ]
  },
  {
   "cell_type": "code",
   "execution_count": null,
   "metadata": {},
   "outputs": [],
   "source": [
    "import pyfits\n",
    "def scale_disk(fits_template,radius_in_degrees):\n",
    "    image = pyfits.open(fits_template)\n",
    "    radius_in_pixels = 32\n",
    "    image[0].header['CDELT1'] = radius_in_degrees/radius_in_pixels\n",
    "    image[0].header['CDELT2'] = radius_in_degrees/radius_in_pixels\n",
    "    image.writeto(template,clobber=True)\n",
    "    image.close()"
   ]
  },
  {
   "cell_type": "markdown",
   "metadata": {},
   "source": [
    "Now let's loop over some range of radii, recording the global loglikelihood. Note that this will take quite some time... Make sure that at each step you see the message \"Generating SourceMap for HB9....................!\". The HB9 spatial template is changing and needs to be recomputed for each fit of the sourcemap. By excluding HB9 from the initial sourcemap, I've save some time so that only HB9 is recomputed at each step, and not all sources in the sourcemap (the diffuse usually takes the longest time)."
   ]
  },
  {
   "cell_type": "code",
   "execution_count": null,
   "metadata": {},
   "outputs": [],
   "source": [
    "n_steps = 9\n",
    "step_size = 0.1 # in degrees\n",
    "initial_radius = 1.3\n",
    "template = 'uniform_disk.fits'\n",
    "\n",
    "hb9_radius = []\n",
    "hb9_flux = []\n",
    "hb9_index = []\n",
    "hb9_ll = []\n",
    "for radius in ((x-n_steps/2)*step_size+initial_radius for x in range(0,n_steps)):\n",
    "    print \"Fitting disk radius = \",radius\n",
    "    scale_disk(template,radius)\n",
    "    mylike = BinnedAnalysis(obs,diskxml,optimizer='NEWMINUIT')\n",
    "    hb9_ll.append(mylike.fit(0))\n",
    "    hb9_radius.append(radius)\n",
    "    hb9_flux.append(mylike.normPar('HB9').getTrueValue())\n",
    "    hb9_index.append(mylike[mylike.par_index('HB9','Index')])\n",
    "    del mylike"
   ]
  },
  {
   "cell_type": "markdown",
   "metadata": {},
   "source": [
    "Now we can plot the Global LogLikelihood as a function of radius, and calculate TSext for the best-fit radius."
   ]
  },
  {
   "cell_type": "code",
   "execution_count": null,
   "metadata": {},
   "outputs": [],
   "source": [
    "TSext = -2*(min(hb9_ll)-null_hyp)\n",
    "print \"HB9 has TSext = \",TSext,\" for a radius of \", hb9_radius[hb9_ll.index(min(hb9_ll))]"
   ]
  },
  {
   "cell_type": "code",
   "execution_count": 3,
   "metadata": {},
   "outputs": [
    {
     "name": "stdout",
     "output_type": "stream",
     "text": [
      "Populating the interactive namespace from numpy and matplotlib\n"
     ]
    },
    {
     "ename": "NameError",
     "evalue": "name 'hb9_ll' is not defined",
     "output_type": "error",
     "traceback": [
      "\u001b[0;31m---------------------------------------------------------------------------\u001b[0m\n\u001b[0;31mNameError\u001b[0m                                 Traceback (most recent call last)",
      "\u001b[0;32m<ipython-input-3-fda28caacb05>\u001b[0m in \u001b[0;36m<module>\u001b[0;34m()\u001b[0m\n\u001b[1;32m      2\u001b[0m \u001b[0mfig\u001b[0m \u001b[0;34m=\u001b[0m \u001b[0mplt\u001b[0m\u001b[0;34m.\u001b[0m\u001b[0mfigure\u001b[0m\u001b[0;34m(\u001b[0m\u001b[0;34m)\u001b[0m\u001b[0;34m\u001b[0m\u001b[0m\n\u001b[1;32m      3\u001b[0m \u001b[0max\u001b[0m \u001b[0;34m=\u001b[0m \u001b[0mfig\u001b[0m\u001b[0;34m.\u001b[0m\u001b[0madd_subplot\u001b[0m\u001b[0;34m(\u001b[0m\u001b[0;36m111\u001b[0m\u001b[0;34m)\u001b[0m\u001b[0;34m\u001b[0m\u001b[0m\n\u001b[0;32m----> 4\u001b[0;31m \u001b[0mhb9_tsext\u001b[0m \u001b[0;34m=\u001b[0m \u001b[0;34m[\u001b[0m \u001b[0;34m-\u001b[0m\u001b[0;36m2\u001b[0m\u001b[0;34m*\u001b[0m\u001b[0;34m(\u001b[0m\u001b[0mhb9_ll\u001b[0m\u001b[0;34m[\u001b[0m\u001b[0mx\u001b[0m\u001b[0;34m]\u001b[0m\u001b[0;34m-\u001b[0m\u001b[0mnull_hyp\u001b[0m\u001b[0;34m)\u001b[0m \u001b[0;32mfor\u001b[0m \u001b[0mx\u001b[0m \u001b[0;32min\u001b[0m \u001b[0mrange\u001b[0m\u001b[0;34m(\u001b[0m\u001b[0mlen\u001b[0m\u001b[0;34m(\u001b[0m\u001b[0mhb9_ll\u001b[0m\u001b[0;34m)\u001b[0m\u001b[0;34m)\u001b[0m \u001b[0;34m]\u001b[0m\u001b[0;34m\u001b[0m\u001b[0m\n\u001b[0m\u001b[1;32m      5\u001b[0m \u001b[0mp\u001b[0m \u001b[0;34m=\u001b[0m \u001b[0max\u001b[0m\u001b[0;34m.\u001b[0m\u001b[0mplot\u001b[0m\u001b[0;34m(\u001b[0m\u001b[0mhb9_radius\u001b[0m\u001b[0;34m,\u001b[0m \u001b[0mhb9_tsext\u001b[0m\u001b[0;34m,\u001b[0m \u001b[0;34m'b'\u001b[0m\u001b[0;34m)\u001b[0m\u001b[0;34m\u001b[0m\u001b[0m\n\u001b[1;32m      6\u001b[0m \u001b[0max\u001b[0m\u001b[0;34m.\u001b[0m\u001b[0mset_xlabel\u001b[0m\u001b[0;34m(\u001b[0m\u001b[0;34m'Disk Radius (degrees)'\u001b[0m\u001b[0;34m)\u001b[0m\u001b[0;34m\u001b[0m\u001b[0m\n",
      "\u001b[0;31mNameError\u001b[0m: name 'hb9_ll' is not defined"
     ]
    },
    {
     "data": {
      "image/png": "[encoded data removed]",
      "text/plain": [
       "<matplotlib.figure.Figure at 0x108f7f750>"
      ]
     },
     "metadata": {},
     "output_type": "display_data"
    }
   ],
   "source": [
    "%pylab inline\n",
    "fig = plt.figure()\n",
    "ax = fig.add_subplot(111)\n",
    "hb9_tsext = [ -2*(hb9_ll[x]-null_hyp) for x in range(len(hb9_ll)) ]\n",
    "p = ax.plot(hb9_radius, hb9_tsext, 'b')\n",
    "ax.set_xlabel('Disk Radius (degrees)')\n",
    "ax.set_ylabel('TSext')\n",
    "ax.set_title('Radius vs TSext')\n",
    "fig.show()\n",
    "\n",
    "print \"HB9 has a best-fit radius = \",hb9_radius[hb9_ll.index(min(hb9_ll))],\" with an error of ??? degrees.\"\n",
    "\n",
    "print \"Homework:\"\n",
    "print \"Determine the statistical error on extension by finding the 68% confidence interval in the plot of TSext vs Radius.\""
   ]
  },
  {
   "cell_type": "code",
   "execution_count": 1,
   "metadata": {},
   "outputs": [],
   "source": []
  },
  {
   "cell_type": "code",
   "execution_count": null,
   "metadata": {},
   "outputs": [],
   "source": []
  }
 ],
 "metadata": {
  "kernelspec": {
   "display_name": "Python 2",
   "language": "python",
   "name": "python2"
  },
  "language_info": {
   "codemirror_mode": {
    "name": "ipython",
    "version": 2
   },
   "file_extension": ".py",
   "mimetype": "text/x-python",
   "name": "python",
   "nbconvert_exporter": "python",
   "pygments_lexer": "ipython2",
   "version": "2.7.14"
  }
 },
 "nbformat": 4,
 "nbformat_minor": 1
}
