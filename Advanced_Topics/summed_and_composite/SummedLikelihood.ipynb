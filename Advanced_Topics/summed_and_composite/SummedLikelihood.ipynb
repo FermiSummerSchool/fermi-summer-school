{
 "cells": [
  {
   "cell_type": "markdown",
   "metadata": {},
   "source": [
    "# Advanced Likelihood: Summed Likelihood\n",
    "\n",
    "\n",
    "## Summed Likelihood Analysis\n",
    "The summed likelihood method available in the Fermi Science tools is a way of performing a joint likelihood fit on two data selections using the same XML model, i.e., you can estimate a single parameter simultaneously for multiple data sets. Remember this is exactly what the likelihood formalism implies. You can't stop me from writing down a likelihood function containing as many independent data sets as I like as long as I have a response matrix for each selection. \n",
    "\n",
    "This is useful if you want to do the following:\n",
    "\n",
    "* Coanalysis of Front and Back selections (not using the combined IRF for whatever reason)\n",
    "* Coanalysis of separate time intervals\n",
    "* Coanalysis of separate energy ranges\n",
    "* Pass 8 PSF type analysis\n",
    "* Pass 8 EDISP type analysis\n",
    "\n",
    "There are many other possible applications. Remember that the likelihood framework is very flexible! You're mainly limited by your imagination."
   ]
  },
  {
   "cell_type": "markdown",
   "metadata": {},
   "source": [
    "### Example with 3C 279\n",
    "We're going to use the 3C 279 data set that we know and love and perform a seperate front/back analysis and then perform a summed likelihood at the end.  We're going to do a binned anlysis this time since we haven't really done one yet.\n",
    "\n",
    "I've provided a lot of the ancillary files in a tarball linked to the agenda.  Let's look at the directory"
   ]
  },
  {
   "cell_type": "code",
   "execution_count": 1,
   "metadata": {
    "collapsed": false
   },
   "outputs": [
    {
     "name": "stdout",
     "output_type": "stream",
     "text": [
      "3C279_back_filtered.fits\r\n",
      "3C279_front_filtered.fits\r\n",
      "events.txt\r\n",
      "L1405221252264C652E7F67_PH00.fits\r\n",
      "L1405221252264C652E7F67_PH01.fits\r\n",
      "L1405221252264C652E7F67_SC00.fits\r\n",
      "Summed_and_Composite.ipynb\r\n"
     ]
    }
   ],
   "source": [
    "!ls -1"
   ]
  },
  {
   "cell_type": "markdown",
   "metadata": {},
   "source": [
    "Note that you need to place the galactic diffuse model and the raw data files in the working directory (gll_iem_v05_rev1.fit, L1405221252264C652E7F67_PH00.fits and L1405221252264C652E7F67_SC00.fits).  I didn't put them in the tar ball since they are big and you already have them in your VM.  You'll need to copy or link isotropic models for the front and back data selections into your working directory (iso_source_back_v05_rev1.fits and iso_source_front_v05_rev1.fits) -- check.  These two files are in $FERMI_DIR/refdata/fermi/galdiffuse. \n",
    "\n",
    "Now, we need to import some functions so that we can work on these data.  Note that you don't have to run all of these.  If I say 'Don't run this', don't run it; the output file is already generated for you."
   ]
  },
  {
   "cell_type": "code",
   "execution_count": 2,
   "metadata": {
    "collapsed": false
   },
   "outputs": [],
   "source": [
    "from gt_apps import filter, maketime, expMap, expCube, evtbin, srcMaps"
   ]
  },
  {
   "cell_type": "markdown",
   "metadata": {},
   "source": [
    "#### Selecting Front and Back Events\n",
    "\n",
    "**<font color='red'>Don't run these commands</font>** (unless you want to rerun everything).\n",
    "\n",
    "We need to run gtselect (called 'filter' in python) twice.  Once, we select only the front events and the other time we select only back events.  You do this with the hidden parameter 'convtype'."
   ]
  },
  {
   "cell_type": "code",
   "execution_count": 3,
   "metadata": {
    "collapsed": false
   },
   "outputs": [],
   "source": [
    "filter['rad'] = 15\n",
    "filter['evclass'] = 2\n",
    "filter['infile'] = '@events.txt'\n",
    "filter['outfile'] = '3C279_front_filtered.fits'\n",
    "filter['ra'] = 194.046527\n",
    "filter['dec'] = -5.789312\n",
    "filter['tmin'] = 239557417\n",
    "filter['tmax'] = 255398400\n",
    "filter['emin'] = 100\n",
    "filter['emax'] = 100000\n",
    "filter['zmax'] = 100\n",
    "filter['convtype'] = 0"
   ]
  },
  {
   "cell_type": "code",
   "execution_count": 4,
   "metadata": {
    "collapsed": false
   },
   "outputs": [
    {
     "name": "stdout",
     "output_type": "stream",
     "text": [
      "time -p /home/fermiuser/AstroSoft/ScienceTools/x86_64-unknown-linux-gnu-libc2.12/bin/gtselect infile=@events.txt outfile=3C279_front_filtered.fits ra=194.046527 dec=-5.789312 rad=15.0 tmin=239557417.0 tmax=255398400.0 emin=100.0 emax=100000.0 zmax=100.0 evclsmin=\"INDEF\" evclsmax=\"INDEF\" evclass=2 convtype=0 phasemin=0.0 phasemax=1.0 evtable=\"EVENTS\" chatter=2 clobber=yes debug=no gui=no mode=\"ql\"\n",
      "Done.\n",
      "real 1.89\n",
      "user 0.11\n",
      "sys 1.11\n"
     ]
    }
   ],
   "source": [
    "filter.run()"
   ]
  },
  {
   "cell_type": "code",
   "execution_count": 5,
   "metadata": {
    "collapsed": false
   },
   "outputs": [],
   "source": [
    "filter['rad'] = 15\n",
    "filter['evclass'] = 2\n",
    "filter['infile'] = \"@events.txt\"\n",
    "filter['outfile'] = \"3C279_back_filtered.fits\"\n",
    "filter['ra'] = 194.046527\n",
    "filter['dec'] = -5.789312\n",
    "filter['tmin'] = 239557417\n",
    "filter['tmax'] = 255398400\n",
    "filter['emin'] = 100\n",
    "filter['emax'] = 100000\n",
    "filter['zmax'] = 100\n",
    "filter['convtype'] = 1"
   ]
  },
  {
   "cell_type": "code",
   "execution_count": 6,
   "metadata": {
    "collapsed": false
   },
   "outputs": [
    {
     "name": "stdout",
     "output_type": "stream",
     "text": [
      "time -p /home/fermiuser/AstroSoft/ScienceTools/x86_64-unknown-linux-gnu-libc2.12/bin/gtselect infile=@events.txt outfile=3C279_back_filtered.fits ra=194.046527 dec=-5.789312 rad=15.0 tmin=239557417.0 tmax=255398400.0 emin=100.0 emax=100000.0 zmax=100.0 evclsmin=\"INDEF\" evclsmax=\"INDEF\" evclass=2 convtype=1 phasemin=0.0 phasemax=1.0 evtable=\"EVENTS\" chatter=2 clobber=yes debug=no gui=no mode=\"ql\"\n",
      "Done.\n",
      "real 1.97\n",
      "user 0.09\n",
      "sys 1.22\n"
     ]
    }
   ],
   "source": [
    "filter.run()"
   ]
  },
  {
   "cell_type": "markdown",
   "metadata": {},
   "source": [
    "#### Compute the GTIs\n",
    "\n",
    "**<font color='red'>Don't run these commands.</font>** (unless you want to rerun everything).\n",
    "\n",
    "Now, we need to find the GTIs for each data set (front and back)."
   ]
  },
  {
   "cell_type": "code",
   "execution_count": 7,
   "metadata": {
    "collapsed": false
   },
   "outputs": [],
   "source": [
    "maketime['scfile'] = 'L1405221252264C652E7F67_SC00.fits'\n",
    "maketime['filter'] = '(DATA_QUAL==1)&&(LAT_CONFIG==1)'\n",
    "maketime['roicut'] = 'yes'\n",
    "maketime['evfile'] = '3C279_front_filtered.fits'\n",
    "maketime['outfile'] = '3C279_front_filtered_gti.fits'"
   ]
  },
  {
   "cell_type": "code",
   "execution_count": 8,
   "metadata": {
    "collapsed": false
   },
   "outputs": [
    {
     "name": "stdout",
     "output_type": "stream",
     "text": [
      "time -p /home/fermiuser/AstroSoft/ScienceTools/x86_64-unknown-linux-gnu-libc2.12/bin/gtmktime scfile=L1405221252264C652E7F67_SC00.fits sctable=\"SC_DATA\" filter=\"(DATA_QUAL==1)&&(LAT_CONFIG==1)\" roicut=yes evfile=3C279_front_filtered.fits evtable=\"EVENTS\" outfile=\"3C279_front_filtered_gti.fits\" apply_filter=yes overwrite=no header_obstimes=yes tstart=0.0 tstop=0.0 gtifile=\"default\" chatter=2 clobber=yes debug=no gui=no mode=\"ql\"\n",
      "real 3.36\n",
      "user 0.66\n",
      "sys 1.28\n"
     ]
    }
   ],
   "source": [
    "maketime.run()"
   ]
  },
  {
   "cell_type": "code",
   "execution_count": 9,
   "metadata": {
    "collapsed": false
   },
   "outputs": [],
   "source": [
    "maketime['scfile'] = 'L1405221252264C652E7F67_SC00.fits'\n",
    "maketime['filter'] = '(DATA_QUAL==1)&&(LAT_CONFIG==1)'\n",
    "maketime['roicut'] = 'yes'\n",
    "maketime['evfile'] = '3C279_back_filtered.fits'\n",
    "maketime['outfile'] = '3C279_back_filtered_gti.fits'"
   ]
  },
  {
   "cell_type": "code",
   "execution_count": 10,
   "metadata": {
    "collapsed": false
   },
   "outputs": [
    {
     "name": "stdout",
     "output_type": "stream",
     "text": [
      "time -p /home/fermiuser/AstroSoft/ScienceTools/x86_64-unknown-linux-gnu-libc2.12/bin/gtmktime scfile=L1405221252264C652E7F67_SC00.fits sctable=\"SC_DATA\" filter=\"(DATA_QUAL==1)&&(LAT_CONFIG==1)\" roicut=yes evfile=3C279_back_filtered.fits evtable=\"EVENTS\" outfile=\"3C279_back_filtered_gti.fits\" apply_filter=yes overwrite=no header_obstimes=yes tstart=0.0 tstop=0.0 gtifile=\"default\" chatter=2 clobber=yes debug=no gui=no mode=\"ql\"\n",
      "real 2.82\n",
      "user 0.48\n",
      "sys 1.50\n"
     ]
    }
   ],
   "source": [
    "maketime.run()"
   ]
  },
  {
   "cell_type": "markdown",
   "metadata": {},
   "source": [
    "#### Compute the Livetime Cube\n",
    "\n",
    "You only need to do this once sincein this case we made the exact same time cuts and used the same GTI filter on both data sets.\n",
    "\n",
    "**<font color='red'>Don't run these commands.</font>** (unless you want to rerun everything).\n"
   ]
  },
  {
   "cell_type": "code",
   "execution_count": 11,
   "metadata": {
    "collapsed": false
   },
   "outputs": [],
   "source": [
    "expCube['evfile'] = '3C279_front_filtered_gti.fits'\n",
    "expCube['scfile'] = 'L1405221252264C652E7F67_SC00.fits'\n",
    "expCube['outfile'] = '3C279_front_ltcube.fits'\n",
    "expCube['dcostheta'] = 0.025\n",
    "expCube['binsz'] = 1.0"
   ]
  },
  {
   "cell_type": "code",
   "execution_count": 12,
   "metadata": {
    "collapsed": false
   },
   "outputs": [
    {
     "name": "stdout",
     "output_type": "stream",
     "text": [
      "time -p /home/fermiuser/AstroSoft/ScienceTools/x86_64-unknown-linux-gnu-libc2.12/bin/gtltcube evfile=\"3C279_front_filtered_gti.fits\" evtable=\"EVENTS\" scfile=L1405221252264C652E7F67_SC00.fits sctable=\"SC_DATA\" outfile=3C279_front_ltcube.fits dcostheta=0.025 binsz=1.0 phibins=0 tmin=0.0 tmax=0.0 file_version=\"1\" zmin=0.0 zmax=180.0 chatter=2 clobber=yes debug=no gui=no mode=\"ql\"\n",
      "Working on file L1405221252264C652E7F67_SC00.fits\n",
      ".....................!\n",
      "real 574.72\n",
      "user 547.75\n",
      "sys 6.94\n"
     ]
    }
   ],
   "source": [
    "expCube.run()"
   ]
  },
  {
   "cell_type": "markdown",
   "metadata": {},
   "source": [
    "#### Compute the counts cube\n",
    "\n",
    "**<font color='red'>Don't run these commands.</font>** (unless you want to rerun everything).\n",
    "\n",
    "The counts cube is the counts from our data file binned in space and energy.  All of the steps above use a circular ROI (or a cone, really).  Once you switch to binned analysis, you start doing things in squares.  Your counts cube can only be as big as the biggest square that can fit in the circular ROI you already selected.  \n",
    "\n",
    "![CCUBE Geometry](http://fermi.gsfc.nasa.gov/ssc/data/analysis/scitools/images/BinnedLikelihood/square_in_circle.png)\n",
    "\n",
    "This basically means that width of your square, s, should be less than $r\\times\\sqrt(2)$.  We are using an ROI with a radius, r, of 15, so we can only use a square with sides of size:"
   ]
  },
  {
   "cell_type": "code",
   "execution_count": 13,
   "metadata": {
    "collapsed": false
   },
   "outputs": [
    {
     "data": {
      "text/plain": [
       "21.213203435596427"
      ]
     },
     "execution_count": 13,
     "metadata": {},
     "output_type": "execute_result"
    }
   ],
   "source": [
    "import numpy as np\n",
    "15.*np.sqrt(2)"
   ]
  },
  {
   "cell_type": "markdown",
   "metadata": {},
   "source": [
    "So, we're going to make a square with 100 pixels in each dimension and set the degrees/pixel to 0.2 so that we have a 20x20 degree cube.  We are also making 30 energy bins with logarithmic spacing.  You have to bin up both the front and back data sets."
   ]
  },
  {
   "cell_type": "code",
   "execution_count": 14,
   "metadata": {
    "collapsed": false
   },
   "outputs": [],
   "source": [
    "evtbin['evfile'] = '3C279_front_filtered_gti.fits'\n",
    "evtbin['outfile'] = '3C279_front_CCUBE.fits'\n",
    "evtbin['algorithm'] = 'CCUBE'\n",
    "evtbin['nxpix'] = 100\n",
    "evtbin['nypix'] = 100\n",
    "evtbin['binsz'] = 0.2\n",
    "evtbin['coordsys'] = 'CEL'\n",
    "evtbin['xref'] = 194.046527\n",
    "evtbin['yref'] =  -5.789312\n",
    "evtbin['axisrot'] = 0\n",
    "evtbin['proj'] = 'AIT'\n",
    "evtbin['ebinalg'] = 'LOG'\n",
    "evtbin['emin'] = 100\n",
    "evtbin['emax'] = 100000\n",
    "evtbin['enumbins'] = 30\n",
    "evtbin['scfile'] = 'L1405221252264C652E7F67_SC00.fits'"
   ]
  },
  {
   "cell_type": "code",
   "execution_count": 15,
   "metadata": {
    "collapsed": false
   },
   "outputs": [
    {
     "name": "stdout",
     "output_type": "stream",
     "text": [
      "time -p /home/fermiuser/AstroSoft/ScienceTools/x86_64-unknown-linux-gnu-libc2.12/bin/gtbin evfile=3C279_front_filtered_gti.fits scfile=L1405221252264C652E7F67_SC00.fits outfile=3C279_front_CCUBE.fits algorithm=\"CCUBE\" ebinalg=\"LOG\" emin=100.0 emax=100000.0 enumbins=30 ebinfile=NONE tbinalg=\"LIN\" tbinfile=NONE nxpix=100 nypix=100 binsz=0.2 coordsys=\"CEL\" xref=194.046527 yref=-5.789312 axisrot=0.0 rafield=\"RA\" decfield=\"DEC\" proj=\"AIT\" hpx_ordering_scheme=\"RING\" hpx_order=3 hpx_ebin=yes evtable=\"EVENTS\" sctable=\"SC_DATA\" efield=\"ENERGY\" tfield=\"TIME\" chatter=2 clobber=yes debug=no gui=no mode=\"ql\"\n",
      "This is gtbin version ScienceTools-v9r33p0-fssc-20140520\n",
      "real 1.52\n",
      "user 0.05\n",
      "sys 1.05\n"
     ]
    }
   ],
   "source": [
    "evtbin.run()"
   ]
  },
  {
   "cell_type": "code",
   "execution_count": 16,
   "metadata": {
    "collapsed": false
   },
   "outputs": [],
   "source": [
    "evtbin['evfile'] = '3C279_back_filtered_gti.fits'\n",
    "evtbin['outfile'] = '3C279_back_CCUBE.fits'\n",
    "evtbin['algorithm'] = 'CCUBE'\n",
    "evtbin['nxpix'] = 100\n",
    "evtbin['nypix'] = 100\n",
    "evtbin['binsz'] = 0.2\n",
    "evtbin['coordsys'] = 'CEL'\n",
    "evtbin['xref'] = 194.046527\n",
    "evtbin['yref'] =  -5.789312\n",
    "evtbin['axisrot'] = 0\n",
    "evtbin['proj'] = 'AIT'\n",
    "evtbin['ebinalg'] = 'LOG'\n",
    "evtbin['emin'] = 100\n",
    "evtbin['emax'] = 100000\n",
    "evtbin['enumbins'] = 30\n",
    "evtbin['scfile'] = 'L1405221252264C652E7F67_SC00.fits'"
   ]
  },
  {
   "cell_type": "code",
   "execution_count": 17,
   "metadata": {
    "collapsed": false
   },
   "outputs": [
    {
     "name": "stdout",
     "output_type": "stream",
     "text": [
      "time -p /home/fermiuser/AstroSoft/ScienceTools/x86_64-unknown-linux-gnu-libc2.12/bin/gtbin evfile=3C279_back_filtered_gti.fits scfile=L1405221252264C652E7F67_SC00.fits outfile=3C279_back_CCUBE.fits algorithm=\"CCUBE\" ebinalg=\"LOG\" emin=100.0 emax=100000.0 enumbins=30 ebinfile=NONE tbinalg=\"LIN\" tbinfile=NONE nxpix=100 nypix=100 binsz=0.2 coordsys=\"CEL\" xref=194.046527 yref=-5.789312 axisrot=0.0 rafield=\"RA\" decfield=\"DEC\" proj=\"AIT\" hpx_ordering_scheme=\"RING\" hpx_order=3 hpx_ebin=yes evtable=\"EVENTS\" sctable=\"SC_DATA\" efield=\"ENERGY\" tfield=\"TIME\" chatter=2 clobber=yes debug=no gui=no mode=\"ql\"\n",
      "This is gtbin version ScienceTools-v9r33p0-fssc-20140520\n",
      "real 1.55\n",
      "user 0.05\n",
      "sys 1.07\n"
     ]
    }
   ],
   "source": [
    "evtbin.run()"
   ]
  },
  {
   "cell_type": "markdown",
   "metadata": {},
   "source": [
    "#### Generate a Binned Exposure Map\n",
    "\n",
    "The binned exposure map is an exposure map binned in space and energy.  \n",
    "\n",
    "**<font color='red'>Don't run these commands.</font>** (unless you want to rerun everything).\n",
    "\n",
    "\n",
    "You first need to import the python version of 'gtexpcube2' which doesn't have a gtapp version by default.  It's easy to do (you can import any of the command line tools into python this way).  Then, you can check out the parameters with the pars function."
   ]
  },
  {
   "cell_type": "code",
   "execution_count": 18,
   "metadata": {
    "collapsed": false
   },
   "outputs": [],
   "source": [
    "from GtApp import GtApp\n",
    "expCube2 = GtApp('gtexpcube2','Likelihood')"
   ]
  },
  {
   "cell_type": "code",
   "execution_count": 19,
   "metadata": {
    "collapsed": false
   },
   "outputs": [
    {
     "data": {
      "text/plain": [
       "' infile= cmap= outfile= irfs=\"CALDB\" nxpix=360 nypix=180 binsz=1.0 coordsys=\"GAL\" xref=0.0 yref=0.0 axisrot=0.0 proj=\"CAR\" ebinalg=\"LOG\" emin=100.0 emax=300000.0 enumbins=10 ebinfile=\"NONE\" bincalc=\"EDGE\" ignorephi=no thmax=180.0 thmin=0.0 table=\"EXPOSURE\" chatter=2 clobber=yes debug=no mode=\"ql\"'"
      ]
     },
     "execution_count": 19,
     "metadata": {},
     "output_type": "execute_result"
    }
   ],
   "source": [
    "expCube2.pars()"
   ]
  },
  {
   "cell_type": "markdown",
   "metadata": {},
   "source": [
    "There's a tricky bit here that came up when we discussed binned exposure maps.  You need to compute the exposure beyond the spatial bounds of your counts cube.  This is because in your likelihood model you need consider photons produced by a source lying outside your ROI but within range of the PSF.  There is no harm in generating a larger exposure map than you need. You could generate one for the whole sky to cover all possible regions. Since this does increase the calculation time, you might prefer something a little smaller. \n",
    "\n",
    "A good rule of thumb is to add a margin to the exposure cube spatial size that is larger than the 68% value for the PSF at the lowest energy in your analysis.  At 100 MeV the LAT has a PSF of about 10 degrees, thus, we need to add more than 10 degrees to both sides of our square, or make an exposure cube with a side length of more than 20+10+10 = 40 deg. In this case, to be safe we'll make the exposure map using 300 pixels x 300 pixels with the same pixel size (0.2 deg) that we used for the counts cube. The result is an exposure cube that is 60 deg x 60 deg and leaves plenty of margin beyond a 20 deg x 20 deg counts cube.  For the energy binning, use the same size as the counts cube.\n",
    "\n",
    "The exposure calculation requires an IRF set. For each data selection, you should use the IRF that matches the data, and so here you should specify the front or back IRFs as appropriate."
   ]
  },
  {
   "cell_type": "code",
   "execution_count": 20,
   "metadata": {
    "collapsed": false
   },
   "outputs": [],
   "source": [
    "expCube2['infile'] = '3C279_front_ltcube.fits'\n",
    "expCube2['cmap'] = 'none'\n",
    "expCube2['outfile'] = '3C279_front_BinnedExpMap.fits'\n",
    "expCube2['irfs'] = 'P7REP_SOURCE_V15::FRONT'\n",
    "expCube2['nxpix'] = 300\n",
    "expCube2['nypix'] = 300\n",
    "expCube2['binsz'] = 0.2\n",
    "expCube2['coordsys'] = 'CEL'\n",
    "expCube2['xref'] = 194.046527\n",
    "expCube2['yref'] = -5.789312\n",
    "expCube2['axisrot'] = 0.0\n",
    "expCube2['proj'] = 'AIT'\n",
    "expCube2['ebinalg'] = 'LOG'\n",
    "expCube2['emin'] = 100\n",
    "expCube2['emax'] = 100000\n",
    "expCube2['enumbins'] = 30"
   ]
  },
  {
   "cell_type": "code",
   "execution_count": 21,
   "metadata": {
    "collapsed": false
   },
   "outputs": [
    {
     "name": "stdout",
     "output_type": "stream",
     "text": [
      "time -p /home/fermiuser/AstroSoft/ScienceTools/x86_64-unknown-linux-gnu-libc2.12/bin/gtexpcube2 infile=3C279_front_ltcube.fits cmap=none outfile=3C279_front_BinnedExpMap.fits irfs=\"P7REP_SOURCE_V15::FRONT\" nxpix=300 nypix=300 binsz=0.2 coordsys=\"CEL\" xref=194.046527 yref=-5.789312 axisrot=0.0 proj=\"AIT\" ebinalg=\"LOG\" emin=100.0 emax=100000.0 enumbins=30 ebinfile=\"NONE\" bincalc=\"EDGE\" ignorephi=no thmax=180.0 thmin=0.0 table=\"EXPOSURE\" chatter=2 clobber=yes debug=no mode=\"ql\"\n",
      "Computing binned exposure map....................!\n",
      "real 8.99\n",
      "user 4.97\n",
      "sys 2.55\n"
     ]
    }
   ],
   "source": [
    "expCube2.run()"
   ]
  },
  {
   "cell_type": "code",
   "execution_count": 22,
   "metadata": {
    "collapsed": false
   },
   "outputs": [],
   "source": [
    "expCube2['infile'] = '3C279_front_ltcube.fits'\n",
    "expCube2['cmap'] = 'none'\n",
    "expCube2['outfile'] = '3C279_back_BinnedExpMap.fits'\n",
    "expCube2['irfs'] = 'P7REP_SOURCE_V15::BACK'\n",
    "expCube2['nxpix'] = 300\n",
    "expCube2['nypix'] = 300\n",
    "expCube2['binsz'] = 0.2\n",
    "expCube2['coordsys'] = 'CEL'\n",
    "expCube2['xref'] = 194.046527\n",
    "expCube2['yref'] = -5.789312\n",
    "expCube2['axisrot'] = 0.0\n",
    "expCube2['proj'] = 'AIT'\n",
    "expCube2['ebinalg'] = 'LOG'\n",
    "expCube2['emin'] = 100\n",
    "expCube2['emax'] = 100000\n",
    "expCube2['enumbins'] = 30"
   ]
  },
  {
   "cell_type": "code",
   "execution_count": 23,
   "metadata": {
    "collapsed": false
   },
   "outputs": [
    {
     "name": "stdout",
     "output_type": "stream",
     "text": [
      "time -p /home/fermiuser/AstroSoft/ScienceTools/x86_64-unknown-linux-gnu-libc2.12/bin/gtexpcube2 infile=3C279_front_ltcube.fits cmap=none outfile=3C279_back_BinnedExpMap.fits irfs=\"P7REP_SOURCE_V15::BACK\" nxpix=300 nypix=300 binsz=0.2 coordsys=\"CEL\" xref=194.046527 yref=-5.789312 axisrot=0.0 proj=\"AIT\" ebinalg=\"LOG\" emin=100.0 emax=100000.0 enumbins=30 ebinfile=\"NONE\" bincalc=\"EDGE\" ignorephi=no thmax=180.0 thmin=0.0 table=\"EXPOSURE\" chatter=2 clobber=yes debug=no mode=\"ql\"\n",
      "Computing binned exposure map....................!\n",
      "real 8.63\n",
      "user 4.95\n",
      "sys 2.49\n"
     ]
    }
   ],
   "source": [
    "expCube2.run()"
   ]
  },
  {
   "cell_type": "markdown",
   "metadata": {},
   "source": [
    "#### Compute the sourcemaps\n",
    "\n",
    "The sourcemaps step convolves the LAT response with your source model generating maps for each source in the model for use in the likelihood calculation.\n",
    "\n",
    "**<font color='red'>Don't run these commands.</font>** (unless you want to rerun everything)."
   ]
  },
  {
   "cell_type": "code",
   "execution_count": 24,
   "metadata": {
    "collapsed": false
   },
   "outputs": [],
   "source": [
    "srcMaps['scfile'] = 'L1405221252264C652E7F67_SC00.fits'\n",
    "srcMaps['expcube'] = '3C279_front_ltcube.fits'\n",
    "srcMaps['cmap'] = '3C279_front_CCUBE.fits'\n",
    "srcMaps['srcmdl'] = '3C279_input_model_front.xml'\n",
    "srcMaps['bexpmap'] = '3C279_front_BinnedExpMap.fits'\n",
    "srcMaps['outfile'] = '3C279_front_srcMap.fits'\n",
    "srcMaps['irfs'] = 'P7REP_SOURCE_V15::FRONT'"
   ]
  },
  {
   "cell_type": "code",
   "execution_count": 29,
   "metadata": {
    "collapsed": false,
    "scrolled": false
   },
   "outputs": [
    {
     "name": "stdout",
     "output_type": "stream",
     "text": [
      "time -p /home/fermiuser/AstroSoft/ScienceTools/x86_64-unknown-linux-gnu-libc2.12/bin/gtsrcmaps scfile=L1405221252264C652E7F67_SC00.fits sctable=\"SC_DATA\" expcube=3C279_front_ltcube.fits cmap=3C279_front_CCUBE.fits srcmdl=3C279_input_model_front.xml bexpmap=3C279_front_BinnedExpMap.fits outfile=3C279_front_srcMap.fits irfs=\"P7REP_SOURCE_V15::FRONT\" convol=yes resample=yes rfactor=2 minbinsz=0.1 ptsrc=yes psfcorr=yes emapbnds=yes copyall=no chatter=2 clobber=yes debug=no gui=no mode=\"ql\"\n",
      "Generating SourceMap for 3C 273....................!\n",
      "Generating SourceMap for 3C 279....................!\n",
      "Generating SourceMap for gll_iem_v05_rev1....................!\n",
      "Generating SourceMap for iso_source_v05....................!\n",
      "real 108.95\n",
      "user 97.15\n",
      "sys 8.08\n"
     ]
    }
   ],
   "source": [
    "srcMaps.run()"
   ]
  },
  {
   "cell_type": "code",
   "execution_count": 30,
   "metadata": {
    "collapsed": false
   },
   "outputs": [],
   "source": [
    "srcMaps['scfile'] = 'L1405221252264C652E7F67_SC00.fits'\n",
    "srcMaps['expcube'] = '3C279_front_ltcube.fits'\n",
    "srcMaps['cmap'] = '3C279_back_CCUBE.fits'\n",
    "srcMaps['srcmdl'] = '3C279_input_model_back.xml'\n",
    "srcMaps['bexpmap'] = '3C279_back_BinnedExpMap.fits'\n",
    "srcMaps['outfile'] = '3C279_back_srcMap.fits'\n",
    "srcMaps['irfs'] = 'P7REP_SOURCE_V15::BACK'"
   ]
  },
  {
   "cell_type": "code",
   "execution_count": 31,
   "metadata": {
    "collapsed": false
   },
   "outputs": [
    {
     "name": "stdout",
     "output_type": "stream",
     "text": [
      "time -p /home/fermiuser/AstroSoft/ScienceTools/x86_64-unknown-linux-gnu-libc2.12/bin/gtsrcmaps scfile=L1405221252264C652E7F67_SC00.fits sctable=\"SC_DATA\" expcube=3C279_front_ltcube.fits cmap=3C279_back_CCUBE.fits srcmdl=3C279_input_model_back.xml bexpmap=3C279_back_BinnedExpMap.fits outfile=3C279_back_srcMap.fits irfs=\"P7REP_SOURCE_V15::BACK\" convol=yes resample=yes rfactor=2 minbinsz=0.1 ptsrc=yes psfcorr=yes emapbnds=yes copyall=no chatter=2 clobber=yes debug=no gui=no mode=\"ql\"\n",
      "Generating SourceMap for 3C 273....................!\n",
      "Generating SourceMap for 3C 279....................!\n",
      "Generating SourceMap for gll_iem_v05_rev1....................!\n",
      "Generating SourceMap for iso_source_v05....................!\n",
      "real 108.52\n",
      "user 97.72\n",
      "sys 5.99\n"
     ]
    }
   ],
   "source": [
    "srcMaps.run()"
   ]
  },
  {
   "cell_type": "markdown",
   "metadata": {},
   "source": [
    "#### Now, Perform the Likelihood Analysis\n",
    "\n",
    "**<font color='red'>Start running commands now if you want.</font>**\n",
    "\n",
    "First, import the BinnedAnalysis and SummedAnalysis libraries."
   ]
  },
  {
   "cell_type": "code",
   "execution_count": 32,
   "metadata": {
    "collapsed": false
   },
   "outputs": [],
   "source": [
    "from BinnedAnalysis import *\n",
    "from SummedLikelihood import *"
   ]
  },
  {
   "cell_type": "markdown",
   "metadata": {},
   "source": [
    "Then, create a likelihood object for both the front and back data sets."
   ]
  },
  {
   "cell_type": "code",
   "execution_count": 33,
   "metadata": {
    "collapsed": false
   },
   "outputs": [],
   "source": [
    "like_f = binnedAnalysis(irfs='P7REP_SOURCE_V15::FRONT', \n",
    "                        expcube='3C279_front_ltcube.fits', \n",
    "                        srcmdl='3C279_input_model_front.xml',\n",
    "                        optimizer='NEWMINUIT',\n",
    "                        cmap='3C279_front_srcMap.fits',\n",
    "                        bexpmap='3C279_front_BinnedExpMap.fits')\n",
    "\n",
    "like_b = binnedAnalysis(irfs='P7REP_SOURCE_V15::BACK', \n",
    "                        expcube='3C279_front_ltcube.fits', \n",
    "                        srcmdl='3C279_input_model_back.xml',\n",
    "                        optimizer='NEWMINUIT',\n",
    "                        cmap='3C279_back_srcMap.fits',\n",
    "                        bexpmap='3C279_back_BinnedExpMap.fits')"
   ]
  },
  {
   "cell_type": "markdown",
   "metadata": {},
   "source": [
    "Then, create the summed likelihood object and add the two likelihood objects, one for the front selection and the second for the back selection."
   ]
  },
  {
   "cell_type": "code",
   "execution_count": 34,
   "metadata": {
    "collapsed": false
   },
   "outputs": [],
   "source": [
    "summed_like = SummedLikelihood()\n",
    "summed_like.addComponent(like_f)\n",
    "summed_like.addComponent(like_b)"
   ]
  },
  {
   "cell_type": "markdown",
   "metadata": {},
   "source": [
    "Perform the fit and print out the results."
   ]
  },
  {
   "cell_type": "code",
   "execution_count": 35,
   "metadata": {
    "collapsed": false
   },
   "outputs": [
    {
     "data": {
      "text/plain": [
       "121893.38576423892"
      ]
     },
     "execution_count": 35,
     "metadata": {},
     "output_type": "execute_result"
    }
   ],
   "source": [
    "summed_like.fit(0)"
   ]
  },
  {
   "cell_type": "code",
   "execution_count": 36,
   "metadata": {
    "collapsed": false
   },
   "outputs": [
    {
     "data": {
      "text/plain": [
       "3C 273\n",
       "   Spectrum: PowerLaw\n",
       "0      Prefactor:  9.342e+00  3.351e-01  1.000e-03  1.000e+03 ( 1.000e-09)\n",
       "1          Index: -2.639e+00  2.587e-02 -5.000e+00 -1.000e+00 ( 1.000e+00)\n",
       "2          Scale:  1.000e+02  0.000e+00  3.000e+01  2.000e+03 ( 1.000e+00) fixed\n",
       "\n",
       "3C 279\n",
       "   Spectrum: PowerLaw\n",
       "3      Prefactor:  8.173e+00  2.554e-01  1.000e-03  1.000e+03 ( 1.000e-09)\n",
       "4          Index: -2.236e+00  1.695e-02 -5.000e+00 -1.000e+00 ( 1.000e+00)\n",
       "5          Scale:  1.000e+02  0.000e+00  3.000e+01  2.000e+03 ( 1.000e+00) fixed\n",
       "\n",
       "gll_iem_v05_rev1\n",
       "   Spectrum: ConstantValue\n",
       "6          Value:  1.398e+00  2.670e-02  0.000e+00  1.000e+01 ( 1.000e+00)\n",
       "\n",
       "iso_source_v05\n",
       "   Spectrum: FileFunction\n",
       "7     Normalization:  1.147e+00  2.984e-02  1.000e-05  1.000e+03 ( 1.000e+00)"
      ]
     },
     "execution_count": 36,
     "metadata": {},
     "output_type": "execute_result"
    }
   ],
   "source": [
    "summed_like.model"
   ]
  },
  {
   "cell_type": "code",
   "execution_count": 38,
   "metadata": {
    "collapsed": false
   },
   "outputs": [
    {
     "data": {
      "text/plain": [
       "9797.14946402298"
      ]
     },
     "execution_count": 38,
     "metadata": {},
     "output_type": "execute_result"
    }
   ],
   "source": [
    "summed_like.Ts('3C 279')"
   ]
  },
  {
   "cell_type": "code",
   "execution_count": 40,
   "metadata": {
    "collapsed": false
   },
   "outputs": [
    {
     "data": {
      "text/plain": [
       "5681.121429178282"
      ]
     },
     "execution_count": 40,
     "metadata": {},
     "output_type": "execute_result"
    }
   ],
   "source": [
    "summed_like.NpredValue('3C 279')"
   ]
  },
  {
   "cell_type": "markdown",
   "metadata": {},
   "source": [
    "#### Summary\n",
    "\n",
    "Now, we have maximized the likelihood for our model simultaneously for two data sets with distinct IRFs, the front and back event type selections. Let's compare with the standard analysis that uses only one data set containing both Front and Back event types that are represented by a single, combined IRF set. Since we did not run the binned analysis for the combined front + back events yet, I'll do that below.\n",
    "\n",
    "The TS for the front + back analysis is 9357, a bit lower than what we found for the separate front and back analysis. The important difference is that in the separated version of the analysis each event type has a dedicated response function set instead of using the averaged Front+Back response. This should increase the sensitivity, and therefore, the TS value. \n",
    "\n",
    "Note that the TS value for the binned analysis is lower than what we found for the unbinned likelihood analysis of the same data. That could be because the binning chosen for our analysis does not preserve all of the response information for each photon, meaning the spatial binning may be too course for some energy bins. We could test that by rerunning the binned analysis with a finer spatial binning scheme. One nice application of summed likelihood is to combine a binned analysis below 1 GeV or so, where the spatial information is less precise and the number of events is much higher, and to run an unbinned analysis above 1 GeV, where the data have higher spatial resolution but are more sparse."
   ]
  },
  {
   "cell_type": "markdown",
   "metadata": {},
   "source": [
    "#### Standard Front + Back Analysis for Comparison"
   ]
  },
  {
   "cell_type": "code",
   "execution_count": 41,
   "metadata": {
    "collapsed": false
   },
   "outputs": [],
   "source": [
    "filter['rad'] = 15\n",
    "filter['evclass'] = 2\n",
    "filter['infile'] = '@events.txt'\n",
    "filter['outfile'] = '3C279_filtered.fits'\n",
    "filter['ra'] = 194.046527\n",
    "filter['dec'] = -5.789312\n",
    "filter['tmin'] = 239557417\n",
    "filter['tmax'] = 255398400\n",
    "filter['emin'] = 100\n",
    "filter['emax'] = 100000\n",
    "filter['zmax'] = 100\n",
    "filter['convtype'] = -1"
   ]
  },
  {
   "cell_type": "code",
   "execution_count": 42,
   "metadata": {
    "collapsed": false
   },
   "outputs": [
    {
     "name": "stdout",
     "output_type": "stream",
     "text": [
      "time -p /home/fermiuser/AstroSoft/ScienceTools/x86_64-unknown-linux-gnu-libc2.12/bin/gtselect infile=@events.txt outfile=3C279_filtered.fits ra=194.046527 dec=-5.789312 rad=15.0 tmin=239557417.0 tmax=255398400.0 emin=100.0 emax=100000.0 zmax=100.0 evclsmin=\"INDEF\" evclsmax=\"INDEF\" evclass=2 convtype=-1 phasemin=0.0 phasemax=1.0 evtable=\"EVENTS\" chatter=2 clobber=yes debug=no gui=no mode=\"ql\"\n",
      "Done.\n",
      "real 2.51\n",
      "user 0.13\n",
      "sys 1.53\n"
     ]
    }
   ],
   "source": [
    "filter.run()"
   ]
  },
  {
   "cell_type": "code",
   "execution_count": 44,
   "metadata": {
    "collapsed": false
   },
   "outputs": [],
   "source": [
    "maketime['scfile'] = 'L1405221252264C652E7F67_SC00.fits'\n",
    "maketime['filter'] = '(DATA_QUAL==1)&&(LAT_CONFIG==1)'\n",
    "maketime['roicut'] = 'yes'\n",
    "maketime['evfile'] = '3C279_filtered.fits'\n",
    "maketime['outfile'] = '3C279_filtered_gti.fits'"
   ]
  },
  {
   "cell_type": "code",
   "execution_count": 45,
   "metadata": {
    "collapsed": false
   },
   "outputs": [
    {
     "name": "stdout",
     "output_type": "stream",
     "text": [
      "time -p /home/fermiuser/AstroSoft/ScienceTools/x86_64-unknown-linux-gnu-libc2.12/bin/gtmktime scfile=L1405221252264C652E7F67_SC00.fits sctable=\"SC_DATA\" filter=\"(DATA_QUAL==1)&&(LAT_CONFIG==1)\" roicut=yes evfile=3C279_filtered.fits evtable=\"EVENTS\" outfile=\"3C279_filtered_gti.fits\" apply_filter=yes overwrite=no header_obstimes=yes tstart=0.0 tstop=0.0 gtifile=\"default\" chatter=2 clobber=yes debug=no gui=no mode=\"ql\"\n",
      "real 3.15\n",
      "user 0.61\n",
      "sys 1.49\n"
     ]
    }
   ],
   "source": [
    "maketime.run()"
   ]
  },
  {
   "cell_type": "code",
   "execution_count": 49,
   "metadata": {
    "collapsed": false
   },
   "outputs": [],
   "source": [
    "evtbin['evfile'] = '3C279_filtered_gti.fits'\n",
    "evtbin['outfile'] = '3C279_CCUBE.fits'\n",
    "evtbin['algorithm'] = 'CCUBE'\n",
    "evtbin['nxpix'] = 100\n",
    "evtbin['nypix'] = 100\n",
    "evtbin['binsz'] = 0.2\n",
    "evtbin['coordsys'] = 'CEL'\n",
    "evtbin['xref'] = 194.046527\n",
    "evtbin['yref'] =  -5.789312\n",
    "evtbin['axisrot'] = 0\n",
    "evtbin['proj'] = 'AIT'\n",
    "evtbin['ebinalg'] = 'LOG'\n",
    "evtbin['emin'] = 100\n",
    "evtbin['emax'] = 100000\n",
    "evtbin['enumbins'] = 30\n",
    "evtbin['scfile'] = 'L1405221252264C652E7F67_SC00.fits'"
   ]
  },
  {
   "cell_type": "code",
   "execution_count": 50,
   "metadata": {
    "collapsed": false
   },
   "outputs": [
    {
     "name": "stdout",
     "output_type": "stream",
     "text": [
      "time -p /home/fermiuser/AstroSoft/ScienceTools/x86_64-unknown-linux-gnu-libc2.12/bin/gtbin evfile=3C279_filtered_gti.fits scfile=L1405221252264C652E7F67_SC00.fits outfile=3C279_CCUBE.fits algorithm=\"CCUBE\" ebinalg=\"LOG\" emin=100.0 emax=100000.0 enumbins=30 ebinfile=NONE tbinalg=\"LIN\" tbinfile=NONE nxpix=100 nypix=100 binsz=0.2 coordsys=\"CEL\" xref=194.046527 yref=-5.789312 axisrot=0.0 rafield=\"RA\" decfield=\"DEC\" proj=\"AIT\" hpx_ordering_scheme=\"RING\" hpx_order=3 hpx_ebin=yes evtable=\"EVENTS\" sctable=\"SC_DATA\" efield=\"ENERGY\" tfield=\"TIME\" chatter=2 clobber=yes debug=no gui=no mode=\"ql\"\n",
      "This is gtbin version ScienceTools-v9r33p0-fssc-20140520\n",
      "real 1.65\n",
      "user 0.05\n",
      "sys 1.14\n"
     ]
    }
   ],
   "source": [
    "evtbin.run()"
   ]
  },
  {
   "cell_type": "code",
   "execution_count": 46,
   "metadata": {
    "collapsed": false
   },
   "outputs": [],
   "source": [
    "expCube2['infile'] = '3C279_front_ltcube.fits'\n",
    "expCube2['cmap'] = 'none'\n",
    "expCube2['outfile'] = '3C279_BinnedExpMap.fits'\n",
    "expCube2['irfs'] = 'P7REP_SOURCE_V15'\n",
    "expCube2['nxpix'] = 300\n",
    "expCube2['nypix'] = 300\n",
    "expCube2['binsz'] = 0.2\n",
    "expCube2['coordsys'] = 'CEL'\n",
    "expCube2['xref'] = 194.046527\n",
    "expCube2['yref'] = -5.789312\n",
    "expCube2['axisrot'] = 0.0\n",
    "expCube2['proj'] = 'AIT'\n",
    "expCube2['ebinalg'] = 'LOG'\n",
    "expCube2['emin'] = 100\n",
    "expCube2['emax'] = 100000\n",
    "expCube2['enumbins'] = 30"
   ]
  },
  {
   "cell_type": "code",
   "execution_count": 48,
   "metadata": {
    "collapsed": false
   },
   "outputs": [
    {
     "name": "stdout",
     "output_type": "stream",
     "text": [
      "time -p /home/fermiuser/AstroSoft/ScienceTools/x86_64-unknown-linux-gnu-libc2.12/bin/gtexpcube2 infile=3C279_front_ltcube.fits cmap=none outfile=3C279_BinnedExpMap.fits irfs=\"P7REP_SOURCE_V15\" nxpix=300 nypix=300 binsz=0.2 coordsys=\"CEL\" xref=194.046527 yref=-5.789312 axisrot=0.0 proj=\"AIT\" ebinalg=\"LOG\" emin=100.0 emax=100000.0 enumbins=30 ebinfile=\"NONE\" bincalc=\"EDGE\" ignorephi=no thmax=180.0 thmin=0.0 table=\"EXPOSURE\" chatter=2 clobber=yes debug=no mode=\"ql\"\n",
      "Computing binned exposure map....................!\n",
      "real 14.51\n",
      "user 10.69\n",
      "sys 2.33\n"
     ]
    }
   ],
   "source": [
    "expCube2.run()"
   ]
  },
  {
   "cell_type": "code",
   "execution_count": 51,
   "metadata": {
    "collapsed": false
   },
   "outputs": [],
   "source": [
    "srcMaps['scfile'] = 'L1405221252264C652E7F67_SC00.fits'\n",
    "srcMaps['expcube'] = '3C279_front_ltcube.fits'\n",
    "srcMaps['cmap'] = '3C279_CCUBE.fits'\n",
    "srcMaps['srcmdl'] = '3C279_input_model.xml'\n",
    "srcMaps['bexpmap'] = '3C279_BinnedExpMap.fits'\n",
    "srcMaps['outfile'] = '3C279_srcMap.fits'\n",
    "srcMaps['irfs'] = 'P7REP_SOURCE_V15'"
   ]
  },
  {
   "cell_type": "code",
   "execution_count": 54,
   "metadata": {
    "collapsed": false,
    "scrolled": true
   },
   "outputs": [
    {
     "name": "stdout",
     "output_type": "stream",
     "text": [
      "time -p /home/fermiuser/AstroSoft/ScienceTools/x86_64-unknown-linux-gnu-libc2.12/bin/gtsrcmaps scfile=L1405221252264C652E7F67_SC00.fits sctable=\"SC_DATA\" expcube=3C279_front_ltcube.fits cmap=3C279_CCUBE.fits srcmdl=3C279_input_model.xml bexpmap=3C279_BinnedExpMap.fits outfile=3C279_srcMap.fits irfs=\"P7REP_SOURCE_V15\" convol=yes resample=yes rfactor=2 minbinsz=0.1 ptsrc=yes psfcorr=yes emapbnds=yes copyall=no chatter=2 clobber=yes debug=no gui=no mode=\"ql\"\n",
      "Generating SourceMap for 3C 273....................!\n",
      "Generating SourceMap for 3C 279....................!\n",
      "Generating SourceMap for gll_iem_v05_rev1....................!\n",
      "Generating SourceMap for iso_source_v05....................!\n",
      "real 112.46\n",
      "user 99.31\n",
      "sys 7.05\n"
     ]
    }
   ],
   "source": [
    "srcMaps.run()"
   ]
  },
  {
   "cell_type": "code",
   "execution_count": 55,
   "metadata": {
    "collapsed": false
   },
   "outputs": [],
   "source": [
    "like = binnedAnalysis(irfs='P7REP_SOURCE_V15', \n",
    "                        expcube='3C279_front_ltcube.fits', \n",
    "                        srcmdl='3C279_input_model.xml',\n",
    "                        optimizer='NEWMINUIT',\n",
    "                        cmap='3C279_srcMap.fits',\n",
    "                        bexpmap='3C279_BinnedExpMap.fits')"
   ]
  },
  {
   "cell_type": "code",
   "execution_count": 56,
   "metadata": {
    "collapsed": false
   },
   "outputs": [
    {
     "data": {
      "text/plain": [
       "89892.82922313765"
      ]
     },
     "execution_count": 56,
     "metadata": {},
     "output_type": "execute_result"
    }
   ],
   "source": [
    "like.fit(0)"
   ]
  },
  {
   "cell_type": "code",
   "execution_count": 58,
   "metadata": {
    "collapsed": false
   },
   "outputs": [
    {
     "data": {
      "text/plain": [
       "3C 273\n",
       "   Spectrum: PowerLaw\n",
       "0      Prefactor:  9.187e+00  3.344e-01  1.000e-03  1.000e+03 ( 1.000e-09)\n",
       "1          Index: -2.629e+00  2.589e-02 -5.000e+00 -1.000e+00 ( 1.000e+00)\n",
       "2          Scale:  1.000e+02  0.000e+00  3.000e+01  2.000e+03 ( 1.000e+00) fixed\n",
       "\n",
       "3C 279\n",
       "   Spectrum: PowerLaw\n",
       "3      Prefactor:  8.010e+00  2.536e-01  1.000e-03  1.000e+03 ( 1.000e-09)\n",
       "4          Index: -2.227e+00  1.698e-02 -5.000e+00 -1.000e+00 ( 1.000e+00)\n",
       "5          Scale:  1.000e+02  0.000e+00  3.000e+01  2.000e+03 ( 1.000e+00) fixed\n",
       "\n",
       "gll_iem_v05_rev1\n",
       "   Spectrum: ConstantValue\n",
       "6          Value:  1.365e+00  2.810e-02  0.000e+00  1.000e+01 ( 1.000e+00)\n",
       "\n",
       "iso_source_v05\n",
       "   Spectrum: FileFunction\n",
       "7     Normalization:  1.188e+00  3.165e-02  1.000e-05  1.000e+03 ( 1.000e+00)"
      ]
     },
     "execution_count": 58,
     "metadata": {},
     "output_type": "execute_result"
    }
   ],
   "source": [
    "like.model"
   ]
  },
  {
   "cell_type": "code",
   "execution_count": 60,
   "metadata": {
    "collapsed": false
   },
   "outputs": [
    {
     "data": {
      "text/plain": [
       "9357.415123912418"
      ]
     },
     "execution_count": 60,
     "metadata": {},
     "output_type": "execute_result"
    }
   ],
   "source": [
    "like.Ts('3C 279')"
   ]
  },
  {
   "cell_type": "code",
   "execution_count": 61,
   "metadata": {
    "collapsed": false
   },
   "outputs": [
    {
     "data": {
      "text/plain": [
       "5629.9876856669225"
      ]
     },
     "execution_count": 61,
     "metadata": {},
     "output_type": "execute_result"
    }
   ],
   "source": [
    "like.NpredValue('3C 279')"
   ]
  },
  {
   "cell_type": "code",
   "execution_count": null,
   "metadata": {
    "collapsed": true
   },
   "outputs": [],
   "source": []
  }
 ],
 "metadata": {
  "kernelspec": {
   "display_name": "Python 2",
   "language": "python",
   "name": "python2"
  },
  "language_info": {
   "codemirror_mode": {
    "name": "ipython",
    "version": 2
   },
   "file_extension": ".py",
   "mimetype": "text/x-python",
   "name": "python",
   "nbconvert_exporter": "python",
   "pygments_lexer": "ipython2",
   "version": "2.7.2"
  }
 },
 "nbformat": 4,
 "nbformat_minor": 0
}
