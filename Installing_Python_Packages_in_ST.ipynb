{
 "metadata": {
  "name": "Installing_Python_Packages_in_ST"
 },
 "nbformat": 3,
 "nbformat_minor": 0,
 "worksheets": [
  {
   "cells": [
    {
     "cell_type": "markdown",
     "metadata": {},
     "source": [
      "Installing/Upgrading Python Packages in the Science Tools\n",
      "---------------------------------------------------------\n",
      "\n",
      "The science tools include some additional python packages that might be useful in your research.  This include\n",
      "\n",
      "* [numpy](http://www.numpy.org): the fundamental package for scientific computing with Python\n",
      "* [scipy](http://www.scipy.org): an open-source software for mathematics, science, and engineering\n",
      "* [matplotlib](http://matplotlib.org): a python 2D plotting library which produces publication quality figures\n",
      "* [pyfits](http://www.stsci.edu/institute/software_hardware/pyfits): a library for reading and writing FITS files\n",
      "\n",
      "Once you set-up the tools ('export FERMI_DIR=...', '$FERMI_DIR/fermi-init.sh'), you should be able to import these modules and start using them immediately.\n",
      "\n"
     ]
    },
    {
     "cell_type": "code",
     "collapsed": false,
     "input": [
      "import numpy as np"
     ],
     "language": "python",
     "metadata": {},
     "outputs": [],
     "prompt_number": 1
    },
    {
     "cell_type": "code",
     "collapsed": false,
     "input": [
      "np.__version__"
     ],
     "language": "python",
     "metadata": {},
     "outputs": [
      {
       "output_type": "pyout",
       "prompt_number": 2,
       "text": [
        "'1.6.1'"
       ]
      }
     ],
     "prompt_number": 2
    },
    {
     "cell_type": "code",
     "collapsed": false,
     "input": [
      "import scipy as sp"
     ],
     "language": "python",
     "metadata": {},
     "outputs": [],
     "prompt_number": 3
    },
    {
     "cell_type": "code",
     "collapsed": false,
     "input": [
      "sp.__version__"
     ],
     "language": "python",
     "metadata": {},
     "outputs": [
      {
       "output_type": "pyout",
       "prompt_number": 4,
       "text": [
        "'0.10.1'"
       ]
      }
     ],
     "prompt_number": 4
    },
    {
     "cell_type": "code",
     "collapsed": false,
     "input": [
      "import matplotlib as mpl"
     ],
     "language": "python",
     "metadata": {},
     "outputs": [],
     "prompt_number": 5
    },
    {
     "cell_type": "code",
     "collapsed": false,
     "input": [
      "mpl.__version__"
     ],
     "language": "python",
     "metadata": {},
     "outputs": [
      {
       "output_type": "pyout",
       "prompt_number": 6,
       "text": [
        "'1.1.1'"
       ]
      }
     ],
     "prompt_number": 6
    },
    {
     "cell_type": "code",
     "collapsed": false,
     "input": [
      "import pyfits as pf"
     ],
     "language": "python",
     "metadata": {},
     "outputs": [],
     "prompt_number": 7
    },
    {
     "cell_type": "code",
     "collapsed": false,
     "input": [
      "pf.__version__"
     ],
     "language": "python",
     "metadata": {},
     "outputs": [
      {
       "output_type": "pyout",
       "prompt_number": 8,
       "text": [
        "'2.1.1'"
       ]
      }
     ],
     "prompt_number": 8
    },
    {
     "cell_type": "markdown",
     "metadata": {},
     "source": [
      "**But what if I want to install a new package, like iPython or pywcs or something similar?**\n",
      "\n",
      "I suggest you first install [setuptools](https://pypi.python.org/pypi/setuptools), an interface to download, install, upgrade and uninstall python packages.  Then, you should probably install [pip](https://pypi.python.org/pypi/pip/1.3.1), a tool for installing and managing Python packages.  This'll make your life a lot easier in the end.\n",
      "\n",
      "I'm goning to start from scratch here on my Mountain Lion machine with the v9r31p1 version of the Science Tools (specifically: http://fermi.gsfc.nasa.gov/ssc/data/analysis/software/tar/ScienceTools-v9r31p1-fssc-20130410-x86_64-apple-darwin12.2.0.tar.gz).  Your experience might vary and I suggest forking this notebook and adding details if you run into different issues.  In any case, this is how I usually get all of the packages I want/need into my version of the STs.\n",
      "\n",
      "So, I assume you've followed the installation instructions for the STs and you're ready to set them up.  *You have to do this before you install any packages* so that the packages you're installing will be installed in the STs python tree and not your system python tree.\n",
      "\n",
      "    []$ export FERMI_DIR=/usr/local/fermisoft/fssc_built/ScienceTools-v9r31p1-fssc-20130410-x86_64-apple-darwin12.2.0/x86_64-apple-darwin12.2.0/\n",
      "    []$ . $FERMI_DIR/fermi-init.sh\n",
      "    []$ which python\n",
      "    /usr/local/fermisoft/fssc_built/ScienceTools-v9r31p1-fssc-20130410-x86_64-apple-darwin12.2.0/x86_64-apple-darwin12.2.0/bin/python\n",
      "\n",
      "The Fermi science tools are now set-up and I verified (via the *which python* command) that I'm using the python built into the tools.  Let's now download and install the setuptools package.\n",
      "\n",
      "    []$ wget https://pypi.python.org/pypi/setuptools\n",
      "    []$ tar zxf setuptools-0.6c11.tar.gz\n",
      "    []$ cd setuptools-0.6c11\n",
      "    [setuptools-0.6c11]$ python setup.py install\n",
      "    running install\n",
      "    running bdist_egg\n",
      "    running egg_info\n",
      "    writing setuptools.egg-info/PKG-INFO\n",
      "    writing top-level names to setuptools.egg-info/top_level.txt\n",
      "    writing dependency_links to setuptools.egg-info/dependency_links.txt\n",
      "    writing entry points to setuptools.egg-info/entry_points.txt\n",
      "\n",
      "\u2026and there's lots of more ouput as the setup process does its magic.  The key thing that you should have now is a program called easy_install\n",
      "\n",
      "    [setuptools-0.6c11]$ which easy_install\n",
      "    /usr/local/fermisoft/fssc_built/ScienceTools-v9r31p1-fssc-20130410-x86_64-apple-darwin12.2.0/x86_64-apple-darwin12.2.0/bin/easy_install\n",
      "\n",
      "This should be in the bin directory of the Science Tools and not in any other place (like /usr/bin).  If it's not in the Science Tools directory you need to take a look at the install process and verify that it installed where you think it did.\n",
      "\n",
      "Now, you can install pip and since you've got easy_install, this is easy (get it?).\n",
      "\n",
      "    [setuptools-0.6c11]$ easy_install pip\n",
      "    Searching for pip\n",
      "    Reading http://pypi.python.org/simple/pip/\n",
      "    Best match: pip 1.3.1\n",
      "    Downloading http://pypi.python.org/packages/source/p/pip/pip-1.3.1.tar.gz#md5=cbb27a191cebc58997c4da8513863153\n",
      "    Processing pip-1.3.1.tar.gz\n",
      "    Running pip-1.3.1/setup.py -q bdist_egg --dist-dir /var/folders/wf/fd0h95195b10ycgh_g0vdn8m8ftw9h/T/easy_install-9k0VMD/pip-1.3.1/egg-dist-tmp-WOOlPe\n",
      "    warning: no files found matching '*.html' under directory 'docs'\n",
      "    warning: no previously-included files matching '*.txt' found under directory 'docs/_build'\n",
      "    no previously-included directories found matching 'docs/_build/_sources'\n",
      "    Adding pip 1.3.1 to easy-install.pth file\n",
      "    Installing pip script to /usr/local/fermisoft/fssc_built/ScienceTools-v9r31p1-fssc-20130410-x86_64-apple-darwin12.2.0/x86_64-apple-darwin12.2.0/bin\n",
      "    Installing pip-2.7 script to /usr/local/fermisoft/fssc_built/ScienceTools-v9r31p1-fssc-20130410-x86_64-apple-darwin12.2.0/x86_64-apple-darwin12.2.0/bin\n",
      "\n",
      "    Installed /usr/local/fermisoft/fssc_built/ScienceTools-v9r31p1-fssc-20130410-x86_64-apple-darwin12.2.0/x86_64-apple-darwin12.2.0/lib/python2.7/site-packages/pip-1.3.1-py2.7.egg\n",
      "    Processing dependencies for pip\n",
      "    Finished processing dependencies for pip\n",
      "    [setuptools-0.6c11]$ which pip\n",
      "    /usr/local/fermisoft/fssc_built/ScienceTools-v9r31p1-fssc-20130410-x86_64-apple-darwin12.2.0/x86_64-apple-darwin12.2.0/bin/pip\n",
      "\n",
      "And you now have pip (same goes for *which pip*, make sure it's in the ST directory bin).  \n",
      "\n",
      "###All, good.  Now it's all dandy.  Let's install iPython:\n",
      "\n",
      "    [setuptools-0.6c11] pip install ipython\n",
      "    Downloading/unpacking ipython\n",
      "      Downloading ipython-0.13.2.zip (6.4MB): 6.4MB downloaded\n",
      "      Running setup.py egg_info for package ipython\n",
      "\n",
      "    Installing collected packages: ipython\n",
      "      Running setup.py install for ipython\n",
      "\n",
      "            Installing ipcontroller script to /usr/local/fermisoft/fssc_built/ScienceTools-v9r31p1-fssc-20130410-x86_64-apple-darwin12.2.0/x86_64-apple-darwin12.2.0/bin\n",
      "        Installing iptest script to /usr/local/fermisoft/fssc_built/ScienceTools-v9r31p1-fssc-20130410-x86_64-apple-darwin12.2.0/x86_64-apple-darwin12.2.0/bin\n",
      "        Installing ipcluster script to /usr/local/fermisoft/fssc_built/ScienceTools-v9r31p1-fssc-20130410-x86_64-apple-darwin12.2.0/x86_64-apple-darwin12.2.0/bin\n",
      "        Installing ipython script to /usr/local/fermisoft/fssc_built/ScienceTools-v9r31p1-fssc-20130410-x86_64-apple-darwin12.2.0/x86_64-apple-darwin12.2.0/bin\n",
      "        Installing pycolor script to /usr/local/fermisoft/fssc_built/ScienceTools-v9r31p1-fssc-20130410-x86_64-apple-darwin12.2.0/x86_64-apple-darwin12.2.0/bin\n",
      "        Installing iplogger script to /usr/local/fermisoft/fssc_built/ScienceTools-v9r31p1-fssc-20130410-x86_64-apple-darwin12.2.0/x86_64-apple-darwin12.2.0/bin\n",
      "        Installing irunner script to /usr/local/fermisoft/fssc_built/ScienceTools-v9r31p1-fssc-20130410-x86_64-apple-darwin12.2.0/x86_64-apple-darwin12.2.0/bin\n",
      "        Installing ipengine script to /usr/local/fermisoft/fssc_built/ScienceTools-v9r31p1-fssc-20130410-x86_64-apple-darwin12.2.0/x86_64-apple-darwin12.2.0/bin\n",
      "    Successfully installed ipython\n",
      "    Cleaning up...\n",
      "\n",
      "Ain't that cool.  And if you want to run a notebook like this you need to install two other dependencies (*pip install tornado; pip install pyzmq*) and you can then run *ipython notebook* and you're good to go.\n",
      "\n",
      "###Upgrading Packages...\n",
      "\n",
      "You can upgrade packages as well.  Say we want to upgrade pyfits.  Just do\n",
      "\n",
      "    []$ pip install --upgrade pyfits \n",
      "\n",
      "and it'll do its business.\n",
      "\n",
      "###I get an error about readline when I execute ipython..\n",
      "\n",
      "You might see this error:\n",
      "\n",
      "    []$ ipython\n",
      "    /usr/local/fermisoft/fssc_built/ScienceTools-v9r31p1-fssc-20130410-x86_64-apple-darwin12.2.0/x86_64-apple-darwin12.2.0/lib/python2.7/site-packages/IPython/utils/rlineimpl.py:111: RuntimeWarning:\n",
      "    ******************************************************************************\n",
      "    libedit detected - readline will not be well behaved, including but not limited to:\n",
      "       * crashes on tab completion\n",
      "       * incorrect history navigation\n",
      "       * corrupting long-lines\n",
      "       * failure to wrap or indent lines properly\n",
      "    It is highly recommended that you install readline, which is easy_installable:\n",
      "         easy_install readline\n",
      "    Note that `pip install readline` generally DOES NOT WORK, because\n",
      "    it installs to site-packages, which come *after* lib-dynload in sys.path,\n",
      "    where readline is located.  It must be `easy_install readline`, or to a custom\n",
      "    location on your PYTHONPATH (even --user comes after lib-dyload).\n",
      "    ******************************************************************************\n",
      "      RuntimeWarning)\n",
      "\n",
      "so, you should do what it says:\n",
      "\n",
      "    []$ easy_install readline\n",
      "\n",
      "and it'll go away.\n",
      "\n",
      "\n",
      "###I can't get matplotlib to load or I can't get it to plot\n",
      "\n",
      "You might need to reinstall matplotlib so that it can find the libraries on your system.  Easy, just do\n",
      "\n",
      "    []$ pip install --upgrade matplotlib\n",
      "\n",
      "If you don't see plots when using matplotlib you probably need to try a different backend.  Try this in python\n",
      "\n",
      "    > import matplotlib as mpl\n",
      "    > mpl.use('TkAgg')\n",
      "\n",
      "and that might work.  You might have to try several backends (see http://matplotlib.org/faq/usage_faq.html#what-is-a-backend).\n",
      "\n",
      "### I want to install something that pip can't find.\n",
      "\n",
      "If it's a normal python package, you should be able to install it via the *python setup.py install* method we used for setuptools.  If that doesn't work, you should copy the package into some place in the PYTHONPATH environment."
     ]
    },
    {
     "cell_type": "code",
     "collapsed": false,
     "input": [],
     "language": "python",
     "metadata": {},
     "outputs": []
    }
   ],
   "metadata": {}
  }
 ]
}