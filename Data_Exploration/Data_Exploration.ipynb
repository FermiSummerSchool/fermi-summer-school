{
 "cells": [
  {
   "cell_type": "markdown",
   "metadata": {},
   "source": [
    "FSSC Science Tools\n",
    "=========================\n",
    "Data Retrieval, Selection and Exploration\n",
    "-------------------------\n",
    "\n",
    "This tutorial is designed to not only make you comfortable running a LAT analysis but also make you familiar with the data and where to go if you want to find more information.  At the end of this tutorial and the likelihood tutorial you should be able to know what all of the various file formats are and be able to perform your own customized simple analysis.  \n",
    "\n",
    "**Goal:**  *Find information, download data, explore data, make simple views of the data, establish individual projects*"
   ]
  },
  {
   "cell_type": "markdown",
   "metadata": {},
   "source": [
    "Setting up the Summer School VM\n",
    "-------------------\n",
    "\n",
    "In order to follow along with this tutorial, you need to have the VM downloaded, installed and running. \n",
    "\n",
    "The software, instructions on getting started, and iPhython notebooks that we'll be following during the school are all on GitHub at:\n",
    "https://github.com/FermiSummerSchool\n",
    "\n",
    "If you go to the ssvm project and look at the Readme.md file, you will see the setup instructions:"
   ]
  },
  {
   "cell_type": "code",
   "execution_count": 1,
   "metadata": {},
   "outputs": [],
   "source": [
    "from IPython.display import Image,HTML"
   ]
  },
  {
   "cell_type": "markdown",
   "metadata": {},
   "source": [
    "![VM_readme](images/Readme.png)"
   ]
  },
  {
   "cell_type": "markdown",
   "metadata": {},
   "source": [
    "Any problems with installation of repository, VirtualBox, or Vagrant?\n",
    "---------\n",
    "\n",
    "<u>Links:</u>\n",
    "* Github repository: https://github.com/FermiSummerSchool/ssvm.git\n",
    "* VirtualBox: https://www.virtualbox.org/wiki/Downloads\n",
    "* Vagrant: https://www.vagrantup.com/downloads.html\n"
   ]
  },
  {
   "cell_type": "markdown",
   "metadata": {},
   "source": [
    "Any problems with the VM setup script?\n",
    "---------\n",
    "\n",
    "What does a \"which vagrant\" return? If \"command not found\":\n",
    "\n",
    "Try:\n",
    "\n",
    "\\> hash -r\n",
    "\n",
    "or\n",
    "\n",
    "\\> rehash\n"
   ]
  },
  {
   "cell_type": "markdown",
   "metadata": {},
   "source": [
    "You should copy the content of the USB key we have (hopefully) handed you into the VM shared directory so that you can access it. If you didn't set up a shared directory, you should stop your VM and do that now.\n",
    "\n",
    "In VirtualBox, select the Summer School VM, then 'Settings', then 'Shared Folders'. Add a shared folder by clicking the plus-folder icon. Provide the full path to the directory wth the contents of the USB key. Name the folder 'shared', and do not check any of the boxes. Click \"OK\", and then start the VM."
   ]
  },
  {
   "cell_type": "markdown",
   "metadata": {},
   "source": [
    "Once you have started the VM, the shared folder is the /vagrant directory...NOT the /home/vagrant directory. The shared folder will be writeable from both the VM and your native operating system.\n"
   ]
  },
  {
   "cell_type": "markdown",
   "metadata": {},
   "source": [
    "Accessing these lectures\n",
    "------------------------\n",
    "\n",
    "Inside the VM, open Firefox and go to https://confluence.slac.stanford.edu/display/LSP/Fermi+Summer+School+2016 where the lectures are linked. If you click on one of the notebooks it will open in jupyter's notebook viewer. \n",
    "\n",
    "If you want copies of the content of the notebooks, you will need to download the contents of Jeremy's GitHub repository. However, more ipython notebooks will be added as the summer school progresses. So you may wish to wait for now. The repository is available at https://github.com/kialio/fermi-summer-school .\n",
    "\n",
    "If you want to run a notebook locally in the VM, change into the directory where you have saved the notebooks and run them by typing:\n",
    "\n",
    "> \\> jupyter notebook\n",
    "\n",
    "This will start the jupyter notebook server and open Firefox with links to each notebook in the directory. Click on a notebook and it will open in a new tab."
   ]
  },
  {
   "cell_type": "markdown",
   "metadata": {},
   "source": [
    "Now...Where do we start?\n",
    "---------------------------\n",
    "\n",
    "Go to the [FSSC Website](http://fermi.gsfc.nasa.gov/ssc/)&rarr;[Data](http://fermi.gsfc.nasa.gov/ssc/data/)&rarr;[Data Analysis](http://fermi.gsfc.nasa.gov/ssc/data/analysis/)&rarr;[System Overview](http://fermi.gsfc.nasa.gov/ssc/data/analysis/scitools/overview.html)\n"
   ]
  },
  {
   "cell_type": "code",
   "execution_count": 2,
   "metadata": {},
   "outputs": [
    {
     "data": {
      "text/html": [
       "<iframe src='http://fermi.gsfc.nasa.gov/ssc/data/analysis/scitools/overview.html' width='1000' height='500'></iframe>"
      ],
      "text/plain": [
       "<IPython.core.display.HTML object>"
      ]
     },
     "execution_count": 2,
     "metadata": {},
     "output_type": "execute_result"
    }
   ],
   "source": [
    "HTML(\"<iframe src='http://fermi.gsfc.nasa.gov/ssc/data/analysis/scitools/overview.html' width='1000' height='500'></iframe>\")"
   ]
  },
  {
   "cell_type": "markdown",
   "metadata": {},
   "source": [
    "### Multiple levels of documentation\n",
    "\n",
    "Available from [FSSC Website](http://fermi.gsfc.nasa.gov/ssc/)&rarr;[Data](http://fermi.gsfc.nasa.gov/ssc/data/)&rarr;[Documentation](http://fermi.gsfc.nasa.gov/ssc/data/analysis/documentation/)"
   ]
  },
  {
   "cell_type": "code",
   "execution_count": 3,
   "metadata": {},
   "outputs": [
    {
     "data": {
      "text/html": [
       "<iframe src='http://fermi.gsfc.nasa.gov/ssc/data/analysis/documentation/' width='1000' height='500'></iframe>"
      ],
      "text/plain": [
       "<IPython.core.display.HTML object>"
      ]
     },
     "execution_count": 3,
     "metadata": {},
     "output_type": "execute_result"
    }
   ],
   "source": [
    "HTML(\"<iframe src='http://fermi.gsfc.nasa.gov/ssc/data/analysis/documentation/' width='1000' height='500'></iframe>\")"
   ]
  },
  {
   "cell_type": "markdown",
   "metadata": {},
   "source": [
    "\n",
    "* [Installation](http://fermi.gsfc.nasa.gov/ssc/data/analysis/software/) \n",
    "    * Details the installation procedure\n",
    "* [LAT Analysis Start Page](http://http://fermi.gsfc.nasa.gov/ssc/data/analysis/LAT_essentials.html)\n",
    "    * Summary of the important resources that are needed for standard LAT analysis\n",
    "* [Analysis Threads](http://fermi.gsfc.nasa.gov/ssc/data/analysis/scitools/) \n",
    "    * Examples of actual science analysis where you can follow along step-by-step\n",
    "* [Cicerone](http://translate.google.com/#it/en/cicerone)\n",
    "    * General information on the satellite and instruments\n",
    "    * Describes instrumentation and data acquisition\n",
    "    * Explains analysis methods\n",
    "* [Individual Tool Descriptions](http://fermi.gsfc.nasa.gov/ssc/data/analysis/scitools/references.html) \n",
    "    * Explains individual tools in detail\n",
    "    * (Identical to the information available via [*fhelp*](http://heasarc.gsfc.nasa.gov/ftools/users/node7.html)) "
   ]
  },
  {
   "cell_type": "markdown",
   "metadata": {},
   "source": [
    "### Downloading and installing the software"
   ]
  },
  {
   "cell_type": "markdown",
   "metadata": {},
   "source": [
    "Go to the [FSSC Website](http://fermi.gsfc.nasa.gov/ssc/)&rarr;[Data](http://fermi.gsfc.nasa.gov/ssc/data/)&rarr;[Data Analysis](http://fermi.gsfc.nasa.gov/ssc/data/analysis/)&rarr;[Software Download](http://fermi.gsfc.nasa.gov/ssc/data/analysis/software/)"
   ]
  },
  {
   "cell_type": "markdown",
   "metadata": {},
   "source": [
    "* **Important** things about software installation\n",
    "    * Pay attention to the supported platforms, if yours isn't supported, it probably isn't supported.\n",
    "    * Figure out your distribution with *uname -a*"
   ]
  },
  {
   "cell_type": "code",
   "execution_count": 4,
   "metadata": {},
   "outputs": [
    {
     "data": {
      "text/plain": [
       "['Linux dd1385382530 4.9.87-linuxkit-aufs #1 SMP Wed Mar 14 15:12:16 UTC 2018 x86_64 x86_64 x86_64 GNU/Linux']"
      ]
     },
     "execution_count": 4,
     "metadata": {},
     "output_type": "execute_result"
    }
   ],
   "source": [
    "%system uname -a"
   ]
  },
  {
   "cell_type": "markdown",
   "metadata": {},
   "source": [
    "You can see that I'm running on a 64 bit Linux machine and the kernel version is 2.6.32 (Scientific Linux 6). So I should download the appropriate binary (I could also try to build from source if I wanted). We have already installed the Science Tools in the VM for you, so this is not necessary right now."
   ]
  },
  {
   "cell_type": "markdown",
   "metadata": {},
   "source": [
    "* More **important** things:\n",
    "    * Make sure you read the about any [Known Bugs](http://fermi.gsfc.nasa.gov/ssc/data/analysis/software/KnownBugs_v10r0p5_v0.txt)\n",
    "    * Make sure your read the [Release Notes](http://fermi.gsfc.nasa.gov/ssc/data/analysis/software/ReleaseNotes_Jun24_2015.txt)\n",
    "\n",
    "**Note:** This would be a good time to make sure everyone has a working installation of the VM, is running Jupyter Notebook and following along."
   ]
  },
  {
   "cell_type": "markdown",
   "metadata": {},
   "source": [
    "### Science Analysis Threads\n",
    "Go to the [FSSC Website](http://fermi.gsfc.nasa.gov/ssc/)&rarr;[Data](http://fermi.gsfc.nasa.gov/ssc/data/)&rarr;[Data Analysis](http://fermi.gsfc.nasa.gov/ssc/data/analysis/)&rarr;[Analysis Threads](http://fermi.gsfc.nasa.gov/ssc/data/analysis/scitools/)"
   ]
  },
  {
   "cell_type": "markdown",
   "metadata": {},
   "source": [
    "* What if I'm not at the Summer School?  Where do I start?\n",
    "    * A good place to start is the data analysis threads.  These are step-by-step guides that reproduce actual science results.  \n",
    "    * **The best way to learn how to do something is to do it.**\n",
    "    * Lots of good stuff:"
   ]
  },
  {
   "cell_type": "code",
   "execution_count": 5,
   "metadata": {},
   "outputs": [
    {
     "data": {
      "text/html": [
       "<iframe src='http://fermi.gsfc.nasa.gov/ssc/data/analysis/scitools/' width='1000' height='500'></iframe>"
      ],
      "text/plain": [
       "<IPython.core.display.HTML object>"
      ]
     },
     "execution_count": 5,
     "metadata": {},
     "output_type": "execute_result"
    }
   ],
   "source": [
    "HTML(\"<iframe src='http://fermi.gsfc.nasa.gov/ssc/data/analysis/scitools/' width='1000' height='500'></iframe>\")"
   ]
  },
  {
   "cell_type": "markdown",
   "metadata": {},
   "source": [
    "### What if I can't figure it out?\n",
    "\n",
    "Contact us!  **fermihelp@milkyway.gsfc.nasa.gov** . Most of us are nice...most of the time."
   ]
  },
  {
   "cell_type": "markdown",
   "metadata": {},
   "source": [
    "### Getting the data\n",
    "Go to the [FSSC Website](http://fermi.gsfc.nasa.gov/ssc/)&rarr;[Data](http://fermi.gsfc.nasa.gov/ssc/data/)&rarr;[Data Access](http://fermi.gsfc.nasa.gov/ssc/data/access/)"
   ]
  },
  {
   "cell_type": "code",
   "execution_count": 6,
   "metadata": {
    "scrolled": true
   },
   "outputs": [
    {
     "data": {
      "text/html": [
       "<iframe src='http://fermi.gsfc.nasa.gov/ssc/data/access/' width='1000' height='500'></iframe>"
      ],
      "text/plain": [
       "<IPython.core.display.HTML object>"
      ]
     },
     "execution_count": 6,
     "metadata": {},
     "output_type": "execute_result"
    }
   ],
   "source": [
    "HTML(\"<iframe src='http://fermi.gsfc.nasa.gov/ssc/data/access/' width='1000' height='500'></iframe>\")"
   ]
  },
  {
   "cell_type": "markdown",
   "metadata": {},
   "source": [
    "Lits of data products are available.  What you use depends on what you're doing.  Here are some highlights:\n",
    "\n",
    "* I want to perform a detailed source anaylsis:\n",
    "    * LAT Data Server (Pass 7 Reprocessed data)\n",
    "    \n",
    "* I want to perform an analysis of a short timescale flare like a GRB or a Solar Flare\n",
    "    * LAT Low-Energy (LLE) Data\n",
    "    * Fermi Solar Flare Observations\n",
    "    * GBM Data\n",
    "    \n",
    "* I want to monitor all sources in the full sky \n",
    "    * Pass 7 Reprocessed Weekly files\n",
    "    \n",
    "* I want to be alerted to flares in known sources\n",
    "    * LAT Monitored Source List Light Curves\n",
    "    * Aperture Photometry Light Curves for the LAT 2-year Point Source Catalog\n",
    "    \n",
    "* I want to find out about known sources, GRBs, or solar flares.\n",
    "    * LAT Burst Catalog\n",
    "    * LAT 4-year Point Source Catalog\n",
    "    * LAT List of Flaring Sources\n",
    "    * LAT Pulsar Catalog\n",
    "    * LAT Hard Sources Catalog\n",
    "    * GBM Burst Catalog\n",
    "    * GBM Earth Occultation Sources\n",
    "    * Fermi Solar Flare Data\n",
    "    \n",
    "* I want to know what the spacecraft was doing\n",
    "    * Spacecraft Data\n",
    "    * Spacecraft Pointing Files\n",
    "\n",
    "Don't forget to pay attention to the [caveats](http://fermi.gsfc.nasa.gov/ssc/data/analysis/caveats.html) for the data products you are using.  You never know, it might say don't do what you're trying to do or tell you to do something else!"
   ]
  },
  {
   "cell_type": "markdown",
   "metadata": {},
   "source": [
    "### Getting our Data\n",
    "We're going to look at a 20 degree region around the AGN 3C 279 from August 4, 2008 to February 4, 2009 and perform a detailed source anlysis so let's use the LAT data server."
   ]
  },
  {
   "cell_type": "markdown",
   "metadata": {},
   "source": [
    "Go to the [FSSC Website](http://fermi.gsfc.nasa.gov/ssc/)&rarr;[Data](http://fermi.gsfc.nasa.gov/ssc/data/)&rarr;[LAT Data Server](http://fermi.gsfc.nasa.gov/cgi-bin/ssc/LAT/LATDataQuery.cgi)"
   ]
  },
  {
   "cell_type": "code",
   "execution_count": 7,
   "metadata": {},
   "outputs": [
    {
     "data": {
      "text/html": [
       "<iframe src='http://fermi.gsfc.nasa.gov/cgi-bin/ssc/LAT/LATDataQuery.cgi' width='1000' height='500'></iframe>"
      ],
      "text/plain": [
       "<IPython.core.display.HTML object>"
      ]
     },
     "execution_count": 7,
     "metadata": {},
     "output_type": "execute_result"
    }
   ],
   "source": [
    "HTML(\"<iframe src='http://fermi.gsfc.nasa.gov/cgi-bin/ssc/LAT/LATDataQuery.cgi' width='1000' height='500'></iframe>\")"
   ]
  },
  {
   "cell_type": "markdown",
   "metadata": {},
   "source": [
    "***How do I fill in these parameters?***\n",
    "\n",
    "(You can click on the field name for more details.)\n",
    "\n",
    "* *Object name or coordinates*: you can use the NED/Simbad/GRB Name or the coordinates (like RA,Dec)\n",
    "    * If you use coordinate lookup, be careful with the coordinates it uses. A name may correspond to several different positions.\n",
    "* *Search Radius*: This depends on your source region.  I usually do an anlysis on 10 - 15 degrees but I always download 30 degrees of data so I have freedom later to change my mind.  If you want to grab more than this, you probably should think about using the weekly files.\n",
    "* *Observation dates*:  Lots of options (see the help).  [xtime](http://heasarc.gsfc.nasa.gov/cgi-bin/Tools/xTime/xTime.pl) is very useful.\n",
    "* *Energy Range*: separated by a comma.\n",
    "* *LAT data type*: Photon or Extended, more on this later.\n",
    "* *Spacecraft data*: yes.  You want this.\n",
    "\n",
    "Here are the selection commands so you can copy/paste\n",
    "\n",
    "* Coordinates: 194.05, -5.79\n",
    "* Search Radius: 30\n",
    "* Time range (MET): 239557417,255398400 (or START, 2009-02-04 00:00:00)\n",
    "* Energy range (MeV): 100, 500000\n",
    "\n",
    "I've already downloaded these data.  You can get them in the data directory in the USB drive we've given you.  Here's the resulting page (for the record)."
   ]
  },
  {
   "cell_type": "markdown",
   "metadata": {},
   "source": [
    "![DataServer1](images/FSSC_DataServer1.png)"
   ]
  },
  {
   "cell_type": "markdown",
   "metadata": {},
   "source": [
    "If you click on the link to get to the query result you get this:\n",
    "\n",
    "https://fermi.gsfc.nasa.gov/cgi-bin/ssc/LAT/QueryResults.cgi?id=L170529092347D1C7019386"
   ]
  },
  {
   "cell_type": "markdown",
   "metadata": {
    "scrolled": true
   },
   "source": [
    "![DataServer2](images/FSSC_DataServer2.png)"
   ]
  },
  {
   "cell_type": "markdown",
   "metadata": {},
   "source": [
    "You could click the *Available* links or you could just use the *wget* commands in a terminal window. \n",
    "(I added the '-q' for quiet)."
   ]
  },
  {
   "cell_type": "code",
   "execution_count": 8,
   "metadata": {},
   "outputs": [
    {
     "data": {
      "text/plain": [
       "['--2018-05-24 13:20:45--  http://fermi.gsfc.nasa.gov/FTP/fermi/data/lat/queries/L170529092347D1C7019386_PH00.fits',\n",
       " 'Resolving fermi.gsfc.nasa.gov... 129.164.179.26',\n",
       " 'Connecting to fermi.gsfc.nasa.gov|129.164.179.26|:80... connected.',\n",
       " 'HTTP request sent, awaiting response... 301 Moved Permanently',\n",
       " 'Location: https://fermi.gsfc.nasa.gov/FTP/fermi/data/lat/queries/L170529092347D1C7019386_PH00.fits [following]',\n",
       " '--2018-05-24 13:20:45--  https://fermi.gsfc.nasa.gov/FTP/fermi/data/lat/queries/L170529092347D1C7019386_PH00.fits',\n",
       " 'Connecting to fermi.gsfc.nasa.gov|129.164.179.26|:443... connected.',\n",
       " 'HTTP request sent, awaiting response... 404 Not Found',\n",
       " '2018-05-24 13:20:45 ERROR 404: Not Found.',\n",
       " '']"
      ]
     },
     "execution_count": 8,
     "metadata": {},
     "output_type": "execute_result"
    }
   ],
   "source": [
    "%system wget http://fermi.gsfc.nasa.gov/FTP/fermi/data/lat/queries/L170529092347D1C7019386_SC00.fits\n",
    "%system wget http://fermi.gsfc.nasa.gov/FTP/fermi/data/lat/queries/L170529092347D1C7019386_PH00.fits"
   ]
  },
  {
   "cell_type": "markdown",
   "metadata": {},
   "source": [
    "We put these in the data directory of the current working directory, and rename them for ease of use to SC00.fits and PH00.fits."
   ]
  },
  {
   "cell_type": "code",
   "execution_count": 10,
   "metadata": {},
   "outputs": [
    {
     "name": "stdout",
     "output_type": "stream",
     "text": [
      "PH00.fits  SC00.fits\r\n"
     ]
    }
   ],
   "source": [
    "ls ../data/"
   ]
  },
  {
   "cell_type": "markdown",
   "metadata": {},
   "source": [
    "So, what do we have now?  We've got a photon file (you could get several of these depending on how the query was executed) and one spacecraft file. According to the data server, the photon file contains 569,325 events.\n",
    "\n",
    "Let's take a look at these with the ftool *fv* and see what we have."
   ]
  },
  {
   "cell_type": "code",
   "execution_count": 11,
   "metadata": {},
   "outputs": [
    {
     "data": {
      "text/plain": [
       "['No protocol specified',\n",
       " 'No protocol specified',\n",
       " 'application-specific initialization failed: couldn\\'t connect to display \"docker.for.mac.localhost:0\"',\n",
       " 'No protocol specified',\n",
       " 'No protocol specified',\n",
       " 'Error in startup script: couldn\\'t connect to display \"docker.for.mac.localhost:0\"',\n",
       " '    while executing',\n",
       " '\"load /home/astrosoft/ftools/x86_64-pc-linux-gnu-libc2.12/lib/libtk8.6.so Tk\"',\n",
       " '    (\"package ifneeded Tk 8.6.6\" script)',\n",
       " '    invoked from within',\n",
       " '\"load /home/astrosoft/ftools/x86_64-pc-linux-gnu-libc2.12/lib/itk4.1.0/libitk4.1.0.so Itk\"',\n",
       " '    (\"package ifneeded Itk 4.1.0\" script)',\n",
       " '    invoked from within',\n",
       " '\"package require Itk\"',\n",
       " '    (procedure \"fvInit\" line 11)',\n",
       " '    invoked from within',\n",
       " '\"fvInit data/PH00.fits\"',\n",
       " '    (\"eval\" body line 1)',\n",
       " '    invoked from within',\n",
       " '\"eval fvInit $argv\"',\n",
       " '    (file \"/home/fermi/astrosoft/ftools/x86_64-pc-linux-gnu-libc2.12/lib/fv/fvInit.tcl\" line 18)']"
      ]
     },
     "execution_count": 11,
     "metadata": {},
     "output_type": "execute_result"
    }
   ],
   "source": [
    "%system fv data/PH00.fits"
   ]
  },
  {
   "cell_type": "markdown",
   "metadata": {},
   "source": [
    "Here's what you should see.  Let's poke at the GUI for a bit and talk about what we have."
   ]
  },
  {
   "cell_type": "markdown",
   "metadata": {},
   "source": [
    "![Data_FV1](images/FSSC_fv1.png)"
   ]
  },
  {
   "cell_type": "markdown",
   "metadata": {},
   "source": [
    "This is a [FITS](http://en.wikipedia.org/wiki/FITS) file which is an open standard defining a digital file format useful for storage, transmission and processing of scientific and other images.  It has three Header Data Units (HDUs); the first is (and always must be) an image even if it's empty (as it is in this case).  The second and third are binary types and store data.  All of our data are in the second hdu (index = 1) and you can see that there are 23 columns and 569,420 rows.  This means we have 569,420 events in this single photon file!  The last HDU is a binary table called GTI which details the good time intervals for the data in this file.  If you poke the 'Header' button for the second HDU (the EVENTS table) you get this."
   ]
  },
  {
   "cell_type": "markdown",
   "metadata": {},
   "source": [
    "![Data_FV2](images/FSSC_fv2.png)"
   ]
  },
  {
   "cell_type": "markdown",
   "metadata": {},
   "source": [
    "All sorts of useful information.  \n",
    "\n",
    "The FTOOLS software package contains a number of commands that can help you view, add, delete and/or modify header information. For Fermi-LAT data files, we do not advise you to make any header changes (except in dire circumstances). Modifying these headers could corrupt the file so that the analysis tools can no longer read it."
   ]
  },
  {
   "cell_type": "markdown",
   "metadata": {},
   "source": [
    "Let's close the header and click on the 'All' button for the sedcond HDU (the one with all of our data).  It should look like this:"
   ]
  },
  {
   "cell_type": "markdown",
   "metadata": {},
   "source": [
    "![Data_FV3](images/FSSC_fv3.png)"
   ]
  },
  {
   "cell_type": "markdown",
   "metadata": {},
   "source": [
    "There's a row for every event and each column details all of the information about that event.  You could click the header to find more details or check out the [information about the columns](http://fermi.gsfc.nasa.gov/ssc/data/analysis/documentation/Cicerone/Cicerone_Data/LAT_Data_Columns.html) on the FSSC site.  We can have a look at them.  And you can see what the 'extended' data are all about."
   ]
  },
  {
   "cell_type": "code",
   "execution_count": 12,
   "metadata": {},
   "outputs": [
    {
     "data": {
      "text/html": [
       "<iframe src='http://fermi.gsfc.nasa.gov/ssc/data/analysis/documentation/Cicerone/Cicerone_Data/LAT_Data_Columns.html' width='1000' height='500'></iframe>"
      ],
      "text/plain": [
       "<IPython.core.display.HTML object>"
      ]
     },
     "execution_count": 12,
     "metadata": {},
     "output_type": "execute_result"
    }
   ],
   "source": [
    "HTML(\"<iframe src='http://fermi.gsfc.nasa.gov/ssc/data/analysis/documentation/Cicerone/Cicerone_Data/LAT_Data_Columns.html' width='1000' height='500'></iframe>\")"
   ]
  },
  {
   "cell_type": "markdown",
   "metadata": {},
   "source": [
    "The extended file just has some extra information about each event.  \n",
    "\n",
    "This page also details what's in the spacecraft file.  You can use 'fv' to plot some of these parameters or we can actually plot them here in python."
   ]
  },
  {
   "cell_type": "code",
   "execution_count": 15,
   "metadata": {},
   "outputs": [],
   "source": [
    "from astropy.io import fits as pyfits"
   ]
  },
  {
   "cell_type": "code",
   "execution_count": 16,
   "metadata": {},
   "outputs": [],
   "source": [
    "sc_hdulist = pyfits.open('../data/SC00.fits')"
   ]
  },
  {
   "cell_type": "code",
   "execution_count": 17,
   "metadata": {},
   "outputs": [
    {
     "name": "stdout",
     "output_type": "stream",
     "text": [
      "Filename: ../data/SC00.fits\n",
      "No.    Name      Ver    Type      Cards   Dimensions   Format\n",
      "  0  PRIMARY       1 PrimaryHDU      28   ()      \n",
      "  1  SC_DATA       1 BinTableHDU    265   445088R x 30C   [D, D, 3E, E, E, D, E, E, E, E, E, E, L, E, E, E, E, E, E, E, J, B, I, D, D, D, D, D, E, E]   \n"
     ]
    }
   ],
   "source": [
    "sc_hdulist.info()"
   ]
  },
  {
   "cell_type": "code",
   "execution_count": 18,
   "metadata": {},
   "outputs": [],
   "source": [
    "sc_data = sc_hdulist[1].data"
   ]
  },
  {
   "cell_type": "code",
   "execution_count": 19,
   "metadata": {},
   "outputs": [
    {
     "name": "stdout",
     "output_type": "stream",
     "text": [
      "Populating the interactive namespace from numpy and matplotlib\n"
     ]
    }
   ],
   "source": [
    "%pylab inline"
   ]
  },
  {
   "cell_type": "code",
   "execution_count": 21,
   "metadata": {},
   "outputs": [
    {
     "data": {
      "image/png": "[encoded data removed]",
      "text/plain": [
       "<Figure size 1152x576 with 1 Axes>"
      ]
     },
     "metadata": {},
     "output_type": "display_data"
    }
   ],
   "source": [
    "figsize(16,8)\n",
    "plot(sc_data.field('START'),sc_data.field('DATA_QUAL'),'.')\n",
    "plot(sc_data.field('START'),sc_data.field('LAT_CONFIG'),'.')\n",
    "ylim(-0.1,1.1)\n",
    "show()"
   ]
  },
  {
   "cell_type": "markdown",
   "metadata": {},
   "source": [
    "[Cool Cool Cool](http://www.youtube.com/watch?v=8IIrf_JSuQk).  You can see that there were some times in there when the LAT data quality was less than perfect.  We'll need to filter these out and figure out which of the events we want to keep."
   ]
  },
  {
   "cell_type": "markdown",
   "metadata": {},
   "source": [
    "Filtering and Selecting Data\n",
    "----------------------------\n",
    "You can filter and select on any of the parameters of the events but there are some [recommendations and good practices](http://fermi.gsfc.nasa.gov/ssc/data/analysis/documentation/Cicerone/Cicerone_Data_Exploration/Data_preparation.html) listed at the FSSC site.\n"
   ]
  },
  {
   "cell_type": "markdown",
   "metadata": {},
   "source": [
    "![Event_recommendations](images/Event_recommendations.png)"
   ]
  },
  {
   "cell_type": "markdown",
   "metadata": {},
   "source": [
    "Let's talk about these for a bit:\n",
    "\n",
    "* The minimum and maximum energy cuts are pretty obvious.  Don't really want to go down below 100 MeV and most of the time could actually raise this to 200 MeV.\n",
    "* Zenith Angle:  This cut is there to remove events originating from the Earth's limb.\n",
    "* Event Class: The LAT team makes cuts on the raw data that classifies events based on the probability that they are photons.  Each class has it's own Instrument Response Functions (the description of how the instrument responds to events). With the exception of Solar Flare data, the event classes are nested as shown below."
   ]
  },
  {
   "cell_type": "code",
   "execution_count": 22,
   "metadata": {},
   "outputs": [
    {
     "data": {
      "image/png": "[encoded data removed]",
      "text/plain": [
       "<Figure size 720x720 with 1 Axes>"
      ]
     },
     "metadata": {},
     "output_type": "display_data"
    }
   ],
   "source": [
    "fig = figure(figsize=(10, 10), facecolor='w')\n",
    "ax = axes((0,0,1,1),xticks=[], yticks=[], frameon=False)\n",
    "ax.set_xlim(0, 11)\n",
    "ax.set_ylim(0, 11)\n",
    "\n",
    "patches = [Rectangle((0.5,0.5),9,9, zorder=1, fc='#777777'),\n",
    "           Rectangle((1,1),7.5,7.5, zorder=1, fc='#999999'),\n",
    "           Rectangle((1.5,1.5),6.5,6.3, zorder=1, fc='#AAAAAA'),\n",
    "           Rectangle((2,2),5.5,5, zorder=1, fc='#BBBBBB'),\n",
    "           Rectangle((2.5,2.5),4.5,3.7, zorder=1, fc='#CCCCCC'),\n",
    "           Rectangle((3,3),3.5,2.5, zorder=1, fc='#DDDDDD'),\n",
    "           Rectangle((3.2,3.2),2.3,1.5, zorder=1, fc='#EEEEEE')]\n",
    "\n",
    "for p in patches:\n",
    "    ax.add_patch(p)\n",
    "    \n",
    "text(1, 9, \"All Events\",ha='left', va='center', fontsize=16)\n",
    "text(1.5, 8.1, \"Transient020 (evclass=16)\",ha='left', va='center', fontsize=16)\n",
    "text(1.8, 7.4, \"Transient010 (evclass=64)\",ha='left', va='center', fontsize=16)\n",
    "text(2.3, 6.6, \"Source (evclass=128)\",ha='left', va='center', fontsize=16)\n",
    "text(2.8, 5.8, \"Clean (evclass=256)\",ha='left', va='center', fontsize=16)\n",
    "text(3.2, 5, \"UltraClean (evclass=512)\",ha='left', va='center', fontsize=16)\n",
    "text(3.4, 4, \"UltraCleanVeto\\n(evclass=1024)\",ha='left', va='center', fontsize=16)\n",
    "text(0.5,9.7, \"Not to scale.\",ha='left', va='center', fontsize=16)\n",
    "show()"
   ]
  },
  {
   "cell_type": "markdown",
   "metadata": {},
   "source": [
    "In addition to Event Classes, there are also *Event Types*. There are no recommendations made in the table about which event type to use. This means that filtering on event type is an option available to you, but not necessary for these analyses.\n",
    "\n",
    "Event Types allow you to futher refine your data set, removing events with less desireable characteristics. There are three event types defined in the PASS 8 LAT data:\n",
    "* Front/Back - filters based on where the conversion occurred in the instrument\n",
    "* PSF - Divides the data into four quadriles, based on the quality of the reconstructed direction\n",
    "* EDISP - Divides the data into four quadriles, based on the quality of the reconstructed energy"
   ]
  },
  {
   "cell_type": "markdown",
   "metadata": {},
   "source": [
    "![EventType_hierarchy](images/EventType_hierarchy.png)"
   ]
  },
  {
   "cell_type": "markdown",
   "metadata": {},
   "source": [
    "Both *Event Class* and *Event Type* are bitfields. So to use ALL events for a particular class, you can use an event type value of 3, 60, or 960."
   ]
  },
  {
   "cell_type": "markdown",
   "metadata": {},
   "source": [
    "### What makes up an Instument Response Function?"
   ]
  },
  {
   "cell_type": "markdown",
   "metadata": {},
   "source": [
    "The best place to get a look at this is the [LAT Performance Page](http://www.slac.stanford.edu/exp/glast/groups/canda/lat_Performance.htm) but you have access to the IRFs if you want to play with them. You can find the IRF files in:\n",
    "\n",
    "/home/fermiuser/AstroSoft/ScienceTools/x86_64-unknown-linux-gnu-libc2.12/refdata/fermi/caldb/CALDB/data/glast/lat/bcf"
   ]
  },
  {
   "cell_type": "code",
   "execution_count": 23,
   "metadata": {},
   "outputs": [
    {
     "data": {
      "text/html": [
       "<iframe src='http://www.slac.stanford.edu/exp/glast/groups/canda/lat_Performance.htm' width='1000' height='500'></iframe>"
      ],
      "text/plain": [
       "<IPython.core.display.HTML object>"
      ]
     },
     "execution_count": 23,
     "metadata": {},
     "output_type": "execute_result"
    }
   ],
   "source": [
    "HTML(\"<iframe src='http://www.slac.stanford.edu/exp/glast/groups/canda/lat_Performance.htm' width='1000' height='500'></iframe>\")"
   ]
  },
  {
   "cell_type": "code",
   "execution_count": 24,
   "metadata": {},
   "outputs": [],
   "source": [
    "from os import environ"
   ]
  },
  {
   "cell_type": "code",
   "execution_count": 25,
   "metadata": {},
   "outputs": [
    {
     "name": "stdout",
     "output_type": "stream",
     "text": [
      "/home/fermi/astrosoft/sciencetools/x86_64-unknown-linux-gnu-libc2.12/refdata/fermi/caldb/CALDB\n"
     ]
    }
   ],
   "source": [
    "caldb = environ['CALDB']\n",
    "print caldb"
   ]
  },
  {
   "cell_type": "code",
   "execution_count": 26,
   "metadata": {},
   "outputs": [
    {
     "name": "stdout",
     "output_type": "stream",
     "text": [
      "\u001b[0m\u001b[01;34mdata\u001b[0m/  \u001b[01;34msoftware\u001b[0m/\r\n",
      "\u001b[m"
     ]
    }
   ],
   "source": [
    "ls $caldb"
   ]
  },
  {
   "cell_type": "code",
   "execution_count": 27,
   "metadata": {},
   "outputs": [
    {
     "name": "stdout",
     "output_type": "stream",
     "text": [
      "\u001b[0m\u001b[01;36maeff_P6_v11_diff_back.fits\u001b[0m@            \u001b[01;36maeff_P7TRANSIENT_V6_front.fits\u001b[0m@\r\n",
      "\u001b[01;36maeff_P6_v11_diff_front.fits\u001b[0m@           \u001b[01;36maeff_P7ULTRACLEAN_V6_back.fits\u001b[0m@\r\n",
      "\u001b[01;36maeff_P6_v1_diff_back.fits\u001b[0m@             \u001b[01;36maeff_P7ULTRACLEAN_V6_front.fits\u001b[0m@\r\n",
      "\u001b[01;36maeff_P6_v1_diff_front.fits\u001b[0m@            \u001b[01;36maeff_P8R2_CLEAN_V6_EDISP.fits\u001b[0m@\r\n",
      "\u001b[01;36maeff_P6_v1_source_back.fits\u001b[0m@           \u001b[01;36maeff_P8R2_CLEAN_V6_FB.fits\u001b[0m@\r\n",
      "\u001b[01;36maeff_P6_v1_source_front.fits\u001b[0m@          \u001b[01;36maeff_P8R2_CLEAN_V6_PSF.fits\u001b[0m@\r\n",
      "\u001b[01;36maeff_P6_v1_trans_back.fits\u001b[0m@            \u001b[01;36maeff_P8R2_SOURCE_V6_EDISP.fits\u001b[0m@\r\n",
      "\u001b[01;36maeff_P6_v1_trans_front.fits\u001b[0m@           \u001b[01;36maeff_P8R2_SOURCE_V6_FB.fits\u001b[0m@\r\n",
      "\u001b[01;36maeff_p6_v3_dataclean_back.fits\u001b[0m@        \u001b[01;36maeff_P8R2_SOURCE_V6_PSF.fits\u001b[0m@\r\n",
      "\u001b[01;36maeff_p6_v3_dataclean_front.fits\u001b[0m@       \u001b[01;36maeff_P8R2_TRANSIENT010E_V6_EDISP.fits\u001b[0m@\r\n",
      "\u001b[01;36maeff_P6_v3_diff_back.fits\u001b[0m@             \u001b[01;36maeff_P8R2_TRANSIENT010E_V6_FB.fits\u001b[0m@\r\n",
      "\u001b[01;36maeff_P6_v3_diff_front.fits\u001b[0m@            \u001b[01;36maeff_P8R2_TRANSIENT010E_V6_PSF.fits\u001b[0m@\r\n",
      "\u001b[01;36maeff_P6_v3_source_back.fits\u001b[0m@           \u001b[01;36maeff_P8R2_TRANSIENT010_V6_EDISP.fits\u001b[0m@\r\n",
      "\u001b[01;36maeff_P6_v3_source_front.fits\u001b[0m@          \u001b[01;36maeff_P8R2_TRANSIENT010_V6_FB.fits\u001b[0m@\r\n",
      "\u001b[01;36maeff_P6_v3_trans_back.fits\u001b[0m@            \u001b[01;36maeff_P8R2_TRANSIENT010_V6_PSF.fits\u001b[0m@\r\n",
      "\u001b[01;36maeff_P6_v3_trans_front.fits\u001b[0m@           \u001b[01;36maeff_P8R2_TRANSIENT015S_V6_EDISP.fits\u001b[0m@\r\n",
      "\u001b[01;36maeff_P7CLEAN_V6_back.fits\u001b[0m@             \u001b[01;36maeff_P8R2_TRANSIENT015S_V6_FB.fits\u001b[0m@\r\n",
      "\u001b[01;36maeff_P7CLEAN_V6_front.fits\u001b[0m@            \u001b[01;36maeff_P8R2_TRANSIENT015S_V6_PSF.fits\u001b[0m@\r\n",
      "\u001b[01;36maeff_P7REP_CLEAN_V10_back.fits\u001b[0m@        \u001b[01;36maeff_P8R2_TRANSIENT020E_V6_EDISP.fits\u001b[0m@\r\n",
      "\u001b[01;36maeff_P7REP_CLEAN_V10_front.fits\u001b[0m@       \u001b[01;36maeff_P8R2_TRANSIENT020E_V6_FB.fits\u001b[0m@\r\n",
      "\u001b[01;36maeff_P7REP_CLEAN_V15_back.fits\u001b[0m@        \u001b[01;36maeff_P8R2_TRANSIENT020E_V6_PSF.fits\u001b[0m@\r\n",
      "\u001b[01;36maeff_P7REP_CLEAN_V15_front.fits\u001b[0m@       \u001b[01;36maeff_P8R2_TRANSIENT020_V6_EDISP.fits\u001b[0m@\r\n",
      "\u001b[01;36maeff_P7REP_SOURCE_V10_back.fits\u001b[0m@       \u001b[01;36maeff_P8R2_TRANSIENT020_V6_FB.fits\u001b[0m@\r\n",
      "\u001b[01;36maeff_P7REP_SOURCE_V10_front.fits\u001b[0m@      \u001b[01;36maeff_P8R2_TRANSIENT020_V6_PSF.fits\u001b[0m@\r\n",
      "\u001b[01;36maeff_P7REP_SOURCE_V15_back.fits\u001b[0m@       \u001b[01;36maeff_P8R2_TRANSIENT100E_V6_EDISP.fits\u001b[0m@\r\n",
      "\u001b[01;36maeff_P7REP_SOURCE_V15_front.fits\u001b[0m@      \u001b[01;36maeff_P8R2_TRANSIENT100E_V6_FB.fits\u001b[0m@\r\n",
      "\u001b[01;36maeff_P7REP_TRANSIENT_V10_back.fits\u001b[0m@    \u001b[01;36maeff_P8R2_TRANSIENT100E_V6_PSF.fits\u001b[0m@\r\n",
      "\u001b[01;36maeff_P7REP_TRANSIENT_V10_front.fits\u001b[0m@   \u001b[01;36maeff_P8R2_TRANSIENT100S_V6_EDISP.fits\u001b[0m@\r\n",
      "\u001b[01;36maeff_P7REP_TRANSIENT_V15_back.fits\u001b[0m@    \u001b[01;36maeff_P8R2_TRANSIENT100S_V6_FB.fits\u001b[0m@\r\n",
      "\u001b[01;36maeff_P7REP_TRANSIENT_V15_front.fits\u001b[0m@   \u001b[01;36maeff_P8R2_TRANSIENT100S_V6_PSF.fits\u001b[0m@\r\n",
      "\u001b[01;36maeff_P7REP_ULTRACLEAN_V10_back.fits\u001b[0m@   \u001b[01;36maeff_P8R2_TRANSIENT100_V6_EDISP.fits\u001b[0m@\r\n",
      "\u001b[01;36maeff_P7REP_ULTRACLEAN_V10_front.fits\u001b[0m@  \u001b[01;36maeff_P8R2_TRANSIENT100_V6_FB.fits\u001b[0m@\r\n",
      "\u001b[01;36maeff_P7REP_ULTRACLEAN_V15_back.fits\u001b[0m@   \u001b[01;36maeff_P8R2_TRANSIENT100_V6_PSF.fits\u001b[0m@\r\n",
      "\u001b[01;36maeff_P7REP_ULTRACLEAN_V15_front.fits\u001b[0m@  \u001b[01;36maeff_P8R2_ULTRACLEAN_V6_EDISP.fits\u001b[0m@\r\n",
      "\u001b[01;36maeff_P7SOURCE_V6_back.fits\u001b[0m@            \u001b[01;36maeff_P8R2_ULTRACLEAN_V6_FB.fits\u001b[0m@\r\n",
      "\u001b[01;36maeff_P7SOURCE_V6_front.fits\u001b[0m@           \u001b[01;36maeff_P8R2_ULTRACLEAN_V6_PSF.fits\u001b[0m@\r\n",
      "\u001b[01;36maeff_P7SOURCE_V6MC_back.fits\u001b[0m@          \u001b[01;36maeff_P8R2_ULTRACLEANVETO_V6_EDISP.fits\u001b[0m@\r\n",
      "\u001b[01;36maeff_P7SOURCE_V6MC_front.fits\u001b[0m@         \u001b[01;36maeff_P8R2_ULTRACLEANVETO_V6_FB.fits\u001b[0m@\r\n",
      "\u001b[01;36maeff_P7TRANSIENT_V6_back.fits\u001b[0m@         \u001b[01;36maeff_P8R2_ULTRACLEANVETO_V6_PSF.fits\u001b[0m@\r\n",
      "\u001b[m"
     ]
    }
   ],
   "source": [
    "ls $caldb/data/glast/lat/bcf/ea"
   ]
  },
  {
   "cell_type": "code",
   "execution_count": 28,
   "metadata": {},
   "outputs": [],
   "source": [
    "aeff_P8R2_SOURCE_V6_FB_HDUs = pyfits.open(caldb+'/data/glast/lat/bcf/ea/aeff_P8R2_SOURCE_V6_FB.fits')"
   ]
  },
  {
   "cell_type": "code",
   "execution_count": 29,
   "metadata": {},
   "outputs": [
    {
     "name": "stdout",
     "output_type": "stream",
     "text": [
      "Filename: /home/fermi/astrosoft/sciencetools/x86_64-unknown-linux-gnu-libc2.12/refdata/fermi/caldb/CALDB/data/glast/lat/bcf/ea/aeff_P8R2_SOURCE_V6_FB.fits\n",
      "No.    Name      Ver    Type      Cards   Dimensions   Format\n",
      "  0  PRIMARY       1 PrimaryHDU      10   ()      \n",
      "  1  EFFECTIVE AREA_FRONT    1 BinTableHDU     58   1R x 5C   [74E, 74E, 32E, 32E, 2368E]   \n",
      "  2  PHI_DEPENDENCE_FRONT    1 BinTableHDU     61   1R x 6C   [23E, 23E, 8E, 8E, 184E, 184E]   \n",
      "  3  EFFICIENCY_PARAMS_FRONT    1 BinTableHDU     36   2R x 1C   [6E]   \n",
      "  4  EFFECTIVE AREA_BACK    1 BinTableHDU     58   1R x 5C   [74E, 74E, 32E, 32E, 2368E]   \n",
      "  5  PHI_DEPENDENCE_BACK    1 BinTableHDU     61   1R x 6C   [23E, 23E, 8E, 8E, 184E, 184E]   \n",
      "  6  EFFICIENCY_PARAMS_BACK    1 BinTableHDU     36   2R x 1C   [6E]   \n",
      "None\n"
     ]
    }
   ],
   "source": [
    "print aeff_P8R2_SOURCE_V6_FB_HDUs.info()"
   ]
  },
  {
   "cell_type": "markdown",
   "metadata": {},
   "source": [
    "Getting Help for the Science Tools\n",
    "------------------\n",
    "\n",
    "The Science Tools consist of a set of 'ballistic' tools that each perform a very specific function. Some of these tools (like the data filtering tool gtselect) will be used in essentially every kind of analysis. Other are very specialized (like the pulsar phase assignment tool *gtpphase*). A complete analysis will string the execution of these tools together in a custom and customizable fashion.\n",
    "\n",
    "It's important to know how to find information about these tools.\n",
    "\n",
    "All of the fermi ballistic tools are here:"
   ]
  },
  {
   "cell_type": "code",
   "execution_count": 30,
   "metadata": {},
   "outputs": [
    {
     "name": "stdout",
     "output_type": "stream",
     "text": [
      "/home/fermi/astrosoft/sciencetools/x86_64-unknown-linux-gnu-libc2.12\n"
     ]
    }
   ],
   "source": [
    "fermi_dir = environ['FERMI_DIR']\n",
    "print fermi_dir"
   ]
  },
  {
   "cell_type": "code",
   "execution_count": 31,
   "metadata": {},
   "outputs": [
    {
     "name": "stdout",
     "output_type": "stream",
     "text": [
      "\u001b[0m\u001b[01;36m/home/fermi/astrosoft/sciencetools/x86_64-unknown-linux-gnu-libc2.12/bin/gtbary\u001b[0m@\r\n",
      "\u001b[01;36m/home/fermi/astrosoft/sciencetools/x86_64-unknown-linux-gnu-libc2.12/bin/gtbin\u001b[0m@\r\n",
      "\u001b[01;36m/home/fermi/astrosoft/sciencetools/x86_64-unknown-linux-gnu-libc2.12/bin/gtbindef\u001b[0m\u001b[K@\r\n",
      "\u001b[01;36m/home/fermi/astrosoft/sciencetools/x86_64-unknown-linux-gnu-libc2.12/bin/gtbkg\u001b[0m@\r\n",
      "\u001b[01;36m/home/fermi/astrosoft/sciencetools/x86_64-unknown-linux-gnu-libc2.12/bin/gtburst\u001b[0m@\r\n",
      "\u001b[01;36m/home/fermi/astrosoft/sciencetools/x86_64-unknown-linux-gnu-libc2.12/bin/gtburstfit\u001b[0m\u001b[K@\r\n",
      "\u001b[01;36m/home/fermi/astrosoft/sciencetools/x86_64-unknown-linux-gnu-libc2.12/bin/gtdiffrsp\u001b[0m\u001b[K@\r\n",
      "\u001b[01;36m/home/fermi/astrosoft/sciencetools/x86_64-unknown-linux-gnu-libc2.12/bin/gtdispcube\u001b[0m\u001b[K@\r\n",
      "\u001b[01;36m/home/fermi/astrosoft/sciencetools/x86_64-unknown-linux-gnu-libc2.12/bin/gtephem\u001b[0m@\r\n",
      "\u001b[01;36m/home/fermi/astrosoft/sciencetools/x86_64-unknown-linux-gnu-libc2.12/bin/gtexpcube\u001b[0m\u001b[K@\r\n",
      "\u001b[01;36m/home/fermi/astrosoft/sciencetools/x86_64-unknown-linux-gnu-libc2.12/bin/gtexpcube2\u001b[0m\u001b[K@\r\n",
      "\u001b[01;36m/home/fermi/astrosoft/sciencetools/x86_64-unknown-linux-gnu-libc2.12/bin/gtexphpsun\u001b[0m\u001b[K@\r\n",
      "\u001b[01;36m/home/fermi/astrosoft/sciencetools/x86_64-unknown-linux-gnu-libc2.12/bin/gtexpmap\u001b[0m\u001b[K@\r\n",
      "\u001b[01;36m/home/fermi/astrosoft/sciencetools/x86_64-unknown-linux-gnu-libc2.12/bin/gtexposure\u001b[0m\u001b[K@\r\n",
      "\u001b[01;36m/home/fermi/astrosoft/sciencetools/x86_64-unknown-linux-gnu-libc2.12/bin/gtfindsrc\u001b[0m\u001b[K@\r\n",
      "\u001b[01;36m/home/fermi/astrosoft/sciencetools/x86_64-unknown-linux-gnu-libc2.12/bin/gtirfs\u001b[0m@\r\n",
      "\u001b[01;36m/home/fermi/astrosoft/sciencetools/x86_64-unknown-linux-gnu-libc2.12/bin/gtlike\u001b[0m@\r\n",
      "\u001b[01;36m/home/fermi/astrosoft/sciencetools/x86_64-unknown-linux-gnu-libc2.12/bin/gtltcube\u001b[0m\u001b[K@\r\n",
      "\u001b[01;36m/home/fermi/astrosoft/sciencetools/x86_64-unknown-linux-gnu-libc2.12/bin/gtltcubesun\u001b[0m\u001b[K@\r\n",
      "\u001b[01;36m/home/fermi/astrosoft/sciencetools/x86_64-unknown-linux-gnu-libc2.12/bin/gtltsum\u001b[0m@\r\n",
      "\u001b[01;36m/home/fermi/astrosoft/sciencetools/x86_64-unknown-linux-gnu-libc2.12/bin/gtltsumsun\u001b[0m\u001b[K@\r\n",
      "\u001b[01;36m/home/fermi/astrosoft/sciencetools/x86_64-unknown-linux-gnu-libc2.12/bin/gtmktime\u001b[0m\u001b[K@\r\n",
      "\u001b[01;36m/home/fermi/astrosoft/sciencetools/x86_64-unknown-linux-gnu-libc2.12/bin/gtmodel\u001b[0m@\r\n",
      "\u001b[01;36m/home/fermi/astrosoft/sciencetools/x86_64-unknown-linux-gnu-libc2.12/bin/gtobspsf\u001b[0m\u001b[K@\r\n",
      "\u001b[01;36m/home/fermi/astrosoft/sciencetools/x86_64-unknown-linux-gnu-libc2.12/bin/gtobssim\u001b[0m\u001b[K@\r\n",
      "\u001b[01;36m/home/fermi/astrosoft/sciencetools/x86_64-unknown-linux-gnu-libc2.12/bin/gtophase\u001b[0m\u001b[K@\r\n",
      "\u001b[01;36m/home/fermi/astrosoft/sciencetools/x86_64-unknown-linux-gnu-libc2.12/bin/gtorbsim\u001b[0m\u001b[K@\r\n",
      "\u001b[01;36m/home/fermi/astrosoft/sciencetools/x86_64-unknown-linux-gnu-libc2.12/bin/gtpphase\u001b[0m\u001b[K@\r\n",
      "\u001b[01;36m/home/fermi/astrosoft/sciencetools/x86_64-unknown-linux-gnu-libc2.12/bin/gtpsearch\u001b[0m\u001b[K@\r\n",
      "\u001b[01;36m/home/fermi/astrosoft/sciencetools/x86_64-unknown-linux-gnu-libc2.12/bin/gtpsf\u001b[0m@\r\n",
      "\u001b[01;36m/home/fermi/astrosoft/sciencetools/x86_64-unknown-linux-gnu-libc2.12/bin/gtpspec\u001b[0m@\r\n",
      "\u001b[01;36m/home/fermi/astrosoft/sciencetools/x86_64-unknown-linux-gnu-libc2.12/bin/gtptest\u001b[0m@\r\n",
      "\u001b[01;36m/home/fermi/astrosoft/sciencetools/x86_64-unknown-linux-gnu-libc2.12/bin/gtpulsardb\u001b[0m\u001b[K@\r\n",
      "\u001b[01;36m/home/fermi/astrosoft/sciencetools/x86_64-unknown-linux-gnu-libc2.12/bin/gtrspgen\u001b[0m\u001b[K@\r\n",
      "\u001b[01;36m/home/fermi/astrosoft/sciencetools/x86_64-unknown-linux-gnu-libc2.12/bin/gtselect\u001b[0m\u001b[K@\r\n",
      "\u001b[01;36m/home/fermi/astrosoft/sciencetools/x86_64-unknown-linux-gnu-libc2.12/bin/gtsrcid\u001b[0m@\r\n",
      "\u001b[01;36m/home/fermi/astrosoft/sciencetools/x86_64-unknown-linux-gnu-libc2.12/bin/gtsrcmaps\u001b[0m\u001b[K@\r\n",
      "\u001b[01;36m/home/fermi/astrosoft/sciencetools/x86_64-unknown-linux-gnu-libc2.12/bin/gtsrcprob\u001b[0m\u001b[K@\r\n",
      "\u001b[01;36m/home/fermi/astrosoft/sciencetools/x86_64-unknown-linux-gnu-libc2.12/bin/gtsuntemp\u001b[0m\u001b[K@\r\n",
      "\u001b[01;36m/home/fermi/astrosoft/sciencetools/x86_64-unknown-linux-gnu-libc2.12/bin/gttsmap\u001b[0m@\r\n",
      "\u001b[01;36m/home/fermi/astrosoft/sciencetools/x86_64-unknown-linux-gnu-libc2.12/bin/gtvcut\u001b[0m@\r\n",
      "\u001b[01;32m/home/fermi/astrosoft/sciencetools/x86_64-unknown-linux-gnu-libc2.12/bin/gtversion\u001b[0m\u001b[K*\r\n",
      "\u001b[m"
     ]
    }
   ],
   "source": [
    "ls $fermi_dir/bin/gt*"
   ]
  },
  {
   "cell_type": "markdown",
   "metadata": {},
   "source": [
    "You can find more information out about a tool by using *fhelp*."
   ]
  },
  {
   "cell_type": "code",
   "execution_count": 32,
   "metadata": {},
   "outputs": [
    {
     "data": {
      "text/plain": [
       "['NAME',\n",
       " '',\n",
       " '    gtselect - Performs selection cuts on event data files.',\n",
       " '',\n",
       " '',\n",
       " 'USAGE',\n",
       " '    ',\n",
       " '    gtselect infile outfile ra dec rad tmin tmax emin emax zmin zmax',\n",
       " '             evclass evtype ',\n",
       " '',\n",
       " '',\n",
       " 'DESCRIPTION',\n",
       " '',\n",
       " '    gtselect creates a filtered FITS file by selecting rows from an input',\n",
       " '    event data file based on user-specified cuts that are applied to',\n",
       " '    each row of the input file. This application enables detailed',\n",
       " '    selections to be made on Fermi photon and event data obtained from the ',\n",
       " '    FSSC data server or simulated data generated using gtobssim',\n",
       " '    (see gtobssim help). The most common selections are these',\n",
       " '    involving time range (minimum and maximum time) and energy range',\n",
       " '    (minimum and maximum energy), and event class.  For each cut that is applied Data',\n",
       " '    Subspace (DSS) keywords are written to the EVENTS header of the',\n",
       " '    output FITS file that describe the selection.  This information is',\n",
       " '    used by the likelihood tools and gtrspgen for computing',\n",
       " '    exposure-related information. ',\n",
       " '    ',\n",
       " '    ',\n",
       " 'NOTES',\n",
       " '',\n",
       " '    - The selection cone center (right ascension and declination)',\n",
       " '      must match exactly that which was used in the original selection',\n",
       " '      from the data server.',\n",
       " '',\n",
       " '    - both evclass and evtype are \"hidden\" parameters, i.e. they are',\n",
       " '      not propmted for but must be supplied on the command line',\n",
       " '   ',\n",
       " '    - evclass, recommended selection for standard analysis = 128 (source)',\n",
       " '',\n",
       " '      The event classification system in Pass 8 is similar to that employed ',\n",
       " '      in Pass 7 (i.e. a bitmask classification system for various event classes), ',\n",
       " '      Additionally, through the use of the new data filter EVENT_TYPE (see below), ',\n",
       " '      further subselection of events are allowed in data preparation. Each bit ',\n",
       " '      in the EVENT_CLASS variable corresponds to a ',\n",
       " '      particular set of the Instrument Response Functions (IRFs). The more ',\n",
       " '      used event classes (Transient, Source, Clean and UltraCleanVeto ) are ',\n",
       " '      still hierarchical, i.e., Transient > Source > Clean > UltraCleanVeto.',\n",
       " '      Most analyses will use either the Source or Clean event samples.',\n",
       " '      **NOTE** once you perform selection on event class or event type, you ',\n",
       " '      cannot revert to a more general selection at a later stage of your analysis.',\n",
       " '',\n",
       " '      Table of standard (non-transient) event classes (for a complete',\n",
       " '      list see the FSSC Website or Cicerone)',\n",
       " '',\n",
       " '      -----------------------------------------',\n",
       " '      |Class (Pass 8)|  evclass\\t\\t\\t   ',\n",
       " '      |----------------------------------------',\n",
       " '      |Source        |  128\\t |\\t  ',\n",
       " '      |Clean\\t     |  256\\t |\\t  ',\n",
       " '      |UltraCleanVeto|  1024\\t |\\t  ',\n",
       " '      -----------------------------------------',\n",
       " '  ',\n",
       " '    - evtype, recommended selection for standard analysis = 3 (front +',\n",
       " '      back events)',\n",
       " '        ',\n",
       " '\\tThe Pass 8 processing implements a new scheme for partitioning',\n",
       " '        the data within an event class with \"event type\" selections.',\n",
       " '        The event type selections partition the data within a class',\n",
       " '        into independent subsets. Currently, evtype has the ability to',\n",
       " '        select on 2 different types of event conversions (front/back),',\n",
       " '        4 different PSF classes, and 4 different energy reconstruction',\n",
       " '        classes. You may select a sub-sample within a given event type',\n",
       " '        (e.g. PSF2), but those events can only be used with other',\n",
       " '        events of the same type. If you select one of the \"all events\"',\n",
       " '        values (3 = front+back, 60 = PSF0+PSF1+PSF2+PSF3, 960 =',\n",
       " '        EDISP0+EDISP1+EDISP2+EDISP3). be aware that different IRFs',\n",
       " '        will be applied. If you do not select an \"all events\" value,',\n",
       " '        then the tool may apply results only to a subset of the',\n",
       " '        events.',\n",
       " '',\n",
       " ' ',\n",
       " 'PARAMETERS',\n",
       " '',\n",
       " '    infile [filename]',\n",
       " '         Input event FITS file. This is the file containing the event data. ',\n",
       " '       ',\n",
       " '    outfile [filename]',\n",
       " '         Output event FITS file with events that satisfy the selections',\n",
       " '         performed with gtselect.',\n",
       " '       ',\n",
       " '    ra [double]',\n",
       " '         Right ascension of acceptance cone (J2000) in decimal degrees.',\n",
       " '         If the parameter is set to INDEF the right ascension will be read from the ',\n",
       " '         header of the input file. ',\n",
       " '       ',\n",
       " '    dec [double]',\n",
       " '         Declination of acceptance cone (J2000) in decimal degrees.',\n",
       " '         If the parameter is set to INDEF the declination will be read from the ',\n",
       " '         header of the input file. ',\n",
       " '   ',\n",
       " '    rad [double]',\n",
       " '         Radius of acceptance cone (decimal degrees). A value of 180 (default)',\n",
       " '         indicates that no acceptance cone cut will be applied.  If the',\n",
       " '         parameter is set to INDEF the radius will be read from the header',\n",
       " '         of the input file.',\n",
       " '              ',\n",
       " '    tmin [double]',\n",
       " '         Event arrival time lower limit in mission elapsed time (MET)',\n",
       " '         seconds. All the events in the output FITS file will have \"event',\n",
       " '         arrival time\" larger than this value. The reference time used for MET',\n",
       " '         is midnight (0h:0m:0s) on January 1, 2001, in Coordinated Universal',\n",
       " '         Time (UTC). The FERMI convention is that MJDREF=51910',\n",
       " '         (UTC)=51910.0007428703703703703 (TT); the fractional part of MJDREF in',\n",
       " '         the TT system compensates for the use of midnight in the UTC system as',\n",
       " '         the reference time.  MJDREF is divided into two keywords:',\n",
       " '         MJDREFI=51910, the integer part; and MJDREFF=7.428703703703703D-4, the',\n",
       " '         fractional part. If the parameter is set to INDEF (default) tmin will be',\n",
       " '         read from the header of the input file. For conversions',\n",
       " '         between MET and other commonly used time conventions we refer',\n",
       " '         the user to the HEASARC online tool',\n",
       " '         http://heasarc.gsfc.nasa.gov/cgi-bin/Tools/xTime/xTime.pl.',\n",
       " '',\n",
       " '    tmax [double]',\n",
       " '         Event arrival time upper limit in mission elapsed time (MET)',\n",
       " '         seconds. All the events in the output FITS file will have',\n",
       " '         \"event arrival time\" smaller than this value. A value of zero',\n",
       " '         in this context means that no upper limit will be applied. If',\n",
       " '         the parameter is set to INDEF (default) the tmax will be read',\n",
       " '         from the header of the input file.',\n",
       " '       ',\n",
       " '    emin [double]',\n",
       " '         Minimum event energy in MeV. All the events in the output FITS file',\n",
       " '         will have \"event energy\" larger than this value. Default is \"100\" MeV.',\n",
       " '       ',\n",
       " '    emax [double]',\n",
       " '         Maximum event energy in MeV. All the events in the output',\n",
       " '         FITS file will have \"event energy\" smaller than this',\n",
       " '         value. Default is \"300000\" MeV.',\n",
       " '      ',\n",
       " '    zmax [double]',\n",
       " '         Maximum apparent zenith angle (degrees). It ranges from 0 to 180 (default).',\n",
       " '    ',\n",
       " '    (evclsmin) [integer] ',\n",
       " '         This parameter is ignored for data reprocessed after Aug. 1, 2011 ',\n",
       " '         (Pass 7 series).',\n",
       " '         Mininum event class ID to include. Each set of IRFs will define a set ',\n",
       " '         of event classes numbered 0 to n, where n+1 is the number of event ',\n",
       " '         classes. These numbers will be ordered such that the more inclusive ',\n",
       " '         classes are numbered lowest. Default is \"INDEF\".',\n",
       " '   ',\n",
       " '     (evclsmax) [integer]',\n",
       " '         This parameter is ignored for data reprocessed after Aug. 1, 2011 ',\n",
       " '         (Pass 7 series).',\n",
       " '         Maximum event class ID to include. Default is \"INDEF\".',\n",
       " '',\n",
       " '     (evclass) [integer] ',\n",
       " '         Event class selection for pass 8. The default is 128 (source',\n",
       " '         class).',\n",
       " '  ',\n",
       " '     (evtype) [integer]',\n",
       " '         The event type selection for Pass 8 data. The event type is a',\n",
       " '         subselection of the event class. Users can select on range of',\n",
       " '         events based on conversion type (front/back), angular',\n",
       " '         reconstruction quality (PSF values), and energy',\n",
       " '         reconstruction quality (EDISP values). The default value is',\n",
       " '         INDEF, which will not apply a subselection.',\n",
       " '',\n",
       " '    (convtype) [integer]',\n",
       " '         Conversion type. This parameter screens events based on which',\n",
       " '         portion of the instrument the incident gamma-ray pair conversion',\n",
       " '         event occurred. 0=Front, 1=Back, -1=both (defalt value). Refer ',\n",
       " '         to the Cicerone manual for details',\n",
       " '         (http://fermi.gsfc.nasa.gov/ssc/data/analysis/documentation/Cicerone). ',\n",
       " '   ',\n",
       " '    (phasemin) [double]',\n",
       " '         Minimum pulsar phase to include. This cut is only applied if',\n",
       " '         the PULSE_PHASE column has been added to the FT1 file by the',\n",
       " '         gtpphase tool.  Default is \"0\".',\n",
       " '   ',\n",
       " '    (phasemax) [double]',\n",
       " '         Maximum pulsar phase to include. Default is \"1\".',\n",
       " '',\n",
       " '    (evtable) [string]',\n",
       " '         Event data extension. Default is \"EVENTS\".',\n",
       " '',\n",
       " '    (chatter) [integer]  ',\n",
       " '         This parameter fixes the output verbosity: no screen output (0),',\n",
       " '         nominal screen output (2), maximum verbosity (4). Default is \"2\".',\n",
       " '',\n",
       " '    (clobber) [boolean]',\n",
       " '         If true, an existing file of the same name will be overwritten. ',\n",
       " '         Default is \"yes\".',\n",
       " '    ',\n",
       " '    (debug) [boolean]',\n",
       " '         Activate debugging mode. Default is \"no\". When debug is \"no\", all ',\n",
       " '         exceptions that are not caught and',\n",
       " '         handled by individual tool-specific code are caught by a top-level',\n",
       " '         exception handler that displays information about the exception and',\n",
       " '         then exits. When debug is \"yes\", such exceptions are not caught by the',\n",
       " '         top level code. Instead the tool produces a segmentation violation,',\n",
       " '         which is more useful for debugging. When debugging mode is enabled,',\n",
       " '         the tool produces more verbose output describing any errors or',\n",
       " '         exceptions that are encountered.',\n",
       " '    ',\n",
       " '    (gui) [boolean]',\n",
       " '         Graphical User Interface (GUI) mode is activated if set to \"yes\".',\n",
       " '         Default is \"no\".',\n",
       " '    ',\n",
       " '    (mode) [string]',\n",
       " '         Mode of automatic parameters: \"h\" for batch, \"ql\" for interactive. ',\n",
       " '         Default is \"ql\".',\n",
       " '',\n",
       " '        ',\n",
       " 'EXAMPLES',\n",
       " '',\n",
       " '    The way that the parameters are passed follows the FTOOLs model. They',\n",
       " '    could be passed by answering from a prompt, as a list in a command',\n",
       " '    line, or by modifying the parameter file. The command line option',\n",
       " '    facilitates calling gtselect from a script.',\n",
       " ' ',\n",
       " '    To prompt for gtselect type in the command line: ',\n",
       " '',\n",
       " '> gtselect ',\n",
       " '',\n",
       " '    This will prompt for parameter values. Not all parameter are prompted: ',\n",
       " '    some of them are \"hidden\". To change one of the \"hidden\" parameter, ',\n",
       " '    the user should specify the values in the command line or modify its ',\n",
       " '    mode by editing the parameter file. ',\n",
       " '    For example, to prevent overwrite the existing output file, the following ',\n",
       " '    command line as to be typed:',\n",
       " ' ',\n",
       " '> gtselect clobber=no  ',\n",
       " ' ',\n",
       " '    This is an example of how to run the tool: ',\n",
       " '    In this case the quasar 3C279 (centered on Ra=193.98, Dec=-5.82) was',\n",
       " '    simulated using gtobssim (type \"fhelp gtobssim\" for further explanation), ',\n",
       " '    although the indentical procedure could be followed for actual data. ',\n",
       " '    Note that a radius of 40 degrees was specified in the input simulation.',\n",
       " '    The energy for the simulated events ranges between 20 MeV and 200000 MeV. ',\n",
       " '    Using gtselect it possible to select the events with energy larger than ',\n",
       " '    100 MeV and within a radius of 20 degrees centered on Ra=193.98, ',\n",
       " '    Dec=-5.82 and a time range between 220838400 and 225590400 MET seconds:',\n",
       " '',\n",
       " '> gtselect evclass=2',\n",
       " 'Input FT1 file[] 3C279_events_0000.fits',\n",
       " 'Output FT1 file[] 3c279_filtered.fits',\n",
       " 'RA for new search center (degrees) (0:360) [INDEF] 193.98',\n",
       " 'Dec for new search center (degrees) (-90:90) [INDEF] -5.82',\n",
       " 'radius of new search region (degrees) (0:180) [INDEF] 20',\n",
       " 'start time (MET in s) (0:) [INDEF] 220838400',\n",
       " 'end time (MET in s) (0:) [INDEF] 225590400',\n",
       " 'lower energy limit (MeV) (0:) [100] 100',\n",
       " 'upper energy limit (MeV) (0:) [300000] 100000',\n",
       " 'maximum zenith angle value (degrees) (0:180) [180] 105',\n",
       " 'Done.',\n",
       " '',\n",
       " '    The last example could be also run from the command line as:',\n",
       " '',\n",
       " '> gtselect infile=3C279_events_0000.fits outfile=3c279_filtered.fits \\\\',\n",
       " '  ra=193.98 dec=-5.82 rad=20 evclass=128 evtype=3 \\\\',\n",
       " '  tmin=220838400 tmax=225590400  emin=100 emax=100000 zmax=100',\n",
       " '',\n",
       " '    You can also use the defaults in the input file header by using',\n",
       " '    the INDEF syntax',\n",
       " '',\n",
       " '> gtselect infile=3C279_events_0000.fits outfile=3c279_filtered.fits \\\\',\n",
       " '  ra=INDEF dec=INDEF rad=INDEF evclass=128 evtype=INDEF tmin=INDEF \\\\',\n",
       " '  tmax=INDEF emin=100 emax=100000 zmax=100',\n",
       " '',\n",
       " '',\n",
       " 'KNOWN BUGS',\n",
       " '',\n",
       " '    Use the INDEF values for right ascension, declination, and radius',\n",
       " '    are handled peculiarly. If any one of the parameters are set to',\n",
       " '    INDEF it is treated if all are set to INDEF. ',\n",
       " '    ',\n",
       " '',\n",
       " 'SEE ALSO',\n",
       " '',\n",
       " '     fselect',\n",
       " '     ',\n",
       " '     gtobssim',\n",
       " '     ',\n",
       " '     gtpphase',\n",
       " '     ',\n",
       " '     gtrspgen',\n",
       " '     ',\n",
       " '',\n",
       " '   ']"
      ]
     },
     "execution_count": 32,
     "metadata": {},
     "output_type": "execute_result"
    }
   ],
   "source": [
    "%system fhelp gtselect"
   ]
  },
  {
   "cell_type": "markdown",
   "metadata": {},
   "source": [
    "There is a parameter file associated with each tool that holds the last used values for each parameter needed to run the tool. These files are copied to a working directory when you first run a specific Science Tool. In the VM, the working copy of the parameter files can be found in /home/fermiuser/pfiles.\n",
    "\n",
    "If you corrupt the parameter file for a specific tool, you can always delete it from your working directory. The Science Tools will generate a new working copy the next time you run that particular tool. \n",
    "\n",
    "You can view the parameters associated with each tool and their current values by running the *plist* command. Parameters inside parentheses () are *hidden parameters* and must be called explicity as part of the command when running on the command line. \n",
    "\n",
    "You can also reset the parameters to the initial defaults by using the *punlearn* command. The is VERY USEFUL for scripting."
   ]
  },
  {
   "cell_type": "code",
   "execution_count": 33,
   "metadata": {},
   "outputs": [
    {
     "data": {
      "text/plain": [
       "['Parameters for /home/fermi/pfiles/gtselect.par',\n",
       " '       infile =                  Input FT1 file',\n",
       " '      outfile =                  Output FT1 file',\n",
       " '           ra = INDEF            RA for new search center (degrees)',\n",
       " '          dec = INDEF            Dec for new search center (degrees)',\n",
       " '          rad = INDEF            radius of new search region (degrees)',\n",
       " '         tmin = INDEF            start time (MET in s)',\n",
       " '         tmax = INDEF            end time (MET in s)',\n",
       " '         emin = 30               lower energy limit (MeV)',\n",
       " '         emax = 300000           upper energy limit (MeV)',\n",
       " '        (zmin = 0)               minimum zenith angle value (degrees)',\n",
       " '         zmax = 180              maximum zenith angle value (degrees)',\n",
       " '     (evclass = INDEF)           Event class selection',\n",
       " '    (evclsmin = 0)               Minimum event class ID',\n",
       " '    (evclsmax = 10)              Maximum event class ID',\n",
       " '      (evtype = INDEF)           Event type selections',\n",
       " '    (convtype = -1)              Conversion type (-1=both, 0=Front, 1=Back)',\n",
       " '    (phasemin = 0)               minimum pulse phase',\n",
       " '    (phasemax = 1)               maximum pulse phase',\n",
       " '     (evtable = EVENTS)          Event data extension',\n",
       " '     (chatter = 2)               Output verbosity',\n",
       " '     (clobber = yes)             Overwrite existing output files',\n",
       " '       (debug = no)              Activate debugging mode',\n",
       " '         (gui = no)              GUI mode activated',\n",
       " '        (mode = ql)              Mode of automatic parameters']"
      ]
     },
     "execution_count": 33,
     "metadata": {},
     "output_type": "execute_result"
    }
   ],
   "source": [
    "%system plist gtselect"
   ]
  },
  {
   "cell_type": "markdown",
   "metadata": {},
   "source": [
    "Filtering the Data\n",
    "------------------\n",
    "\n",
    "So, for the point source analysis we're doing, we'll use source class events, and we won't filter on event type.  We use *[gtselect](http://fermi.gsfc.nasa.gov/ssc/data/analysis/scitools/help/gtselect.txt)* to do the selection.  There are ways to do this from within python (you'll see these in a moment) but we'll run this from a terminal right now. \n",
    "\n",
    "Since we were given two separate photon files from the data server we need to make a file list so that when we run *gtselect* it knows to look in both files for events that match our selections.  Here's a quick way to do this:"
   ]
  },
  {
   "cell_type": "code",
   "execution_count": 35,
   "metadata": {},
   "outputs": [
    {
     "data": {
      "text/plain": [
       "['PH00.fits', 'SC00.fits']"
      ]
     },
     "execution_count": 35,
     "metadata": {},
     "output_type": "execute_result"
    }
   ],
   "source": [
    "%system ls ../data/"
   ]
  },
  {
   "cell_type": "code",
   "execution_count": 47,
   "metadata": {},
   "outputs": [
    {
     "data": {
      "text/plain": [
       "[]"
      ]
     },
     "execution_count": 47,
     "metadata": {},
     "output_type": "execute_result"
    }
   ],
   "source": [
    "%system ls ../data/*PH* > ../data/events.txt"
   ]
  },
  {
   "cell_type": "code",
   "execution_count": 48,
   "metadata": {},
   "outputs": [
    {
     "data": {
      "text/plain": [
       "['../data/PH00.fits']"
      ]
     },
     "execution_count": 48,
     "metadata": {},
     "output_type": "execute_result"
    }
   ],
   "source": [
    "%system cat ../data/events.txt"
   ]
  },
  {
   "cell_type": "markdown",
   "metadata": {},
   "source": [
    "Now we're ready to go.  Note in the usage for *gtselect* that the event class isn't listed.  It's a 'hidden parameter', so you'll need to run the tool like this:\n",
    "\n",
    "> \\> gtselect evclass=128\n",
    "\n",
    "There's lots of info we need to give gtselect so it makes sense to run *gtvcut* on one of our photon files to figure out what we were doing.\n"
   ]
  },
  {
   "cell_type": "code",
   "execution_count": 49,
   "metadata": {
    "scrolled": false
   },
   "outputs": [
    {
     "data": {
      "text/plain": [
       "['DSTYP1: TIME',\n",
       " 'DSUNI1: s',\n",
       " 'DSVAL1: TABLE',\n",
       " 'DSREF1: :GTI',\n",
       " '',\n",
       " 'GTIs: (suppressed)',\n",
       " '',\n",
       " 'DSTYP2: BIT_MASK(EVENT_CLASS,128,P8R2)',\n",
       " 'DSUNI2: DIMENSIONLESS',\n",
       " 'DSVAL2: 1:1',\n",
       " '',\n",
       " 'DSTYP3: POS(RA,DEC)',\n",
       " 'DSUNI3: deg',\n",
       " 'DSVAL3: CIRCLE(194.047,-5.78931,30)',\n",
       " '',\n",
       " 'DSTYP4: TIME',\n",
       " 'DSUNI4: s',\n",
       " 'DSVAL4: 239557417:255398400',\n",
       " '',\n",
       " 'DSTYP5: ENERGY',\n",
       " 'DSUNI5: MeV',\n",
       " 'DSVAL5: 100:300000',\n",
       " '']"
      ]
     },
     "execution_count": 49,
     "metadata": {},
     "output_type": "execute_result"
    }
   ],
   "source": [
    "%system gtvcut ../data/PH00.fits EVENTS"
   ]
  },
  {
   "cell_type": "markdown",
   "metadata": {},
   "source": [
    "We can then filter the data, using the recommentations in the table above as a guide:"
   ]
  },
  {
   "cell_type": "code",
   "execution_count": 50,
   "metadata": {},
   "outputs": [
    {
     "data": {
      "image/png": "[encoded data removed]",
      "text/plain": [
       "<IPython.core.display.Image object>"
      ]
     },
     "execution_count": 50,
     "metadata": {},
     "output_type": "execute_result"
    }
   ],
   "source": [
    "Image(filename='images/gtselect.png')"
   ]
  },
  {
   "cell_type": "markdown",
   "metadata": {},
   "source": [
    "Some things to note here:\n",
    "\n",
    "* For the ballistic tool, we had to explicitly give the event class on the command line (it's a *hidden* parameter).\n",
    "    * You can change this by manually editing your local version of the *parameter file* for this tool, if you wish.\n",
    "    * This is not an issue for running in python.\n",
    "* We put an '@' sign in front of the input filename which tells gtselect that this isn't actually a FITS file but a list of FITS files.\n",
    "* We used the recommended zenith angle cut of 90.\n",
    "* We could have used INDEF for the start and end times, rather than explicitly stating them. \n",
    "* We reduced the radius from 30 degrees (from the data server) to 15 degrees. This means we had to also provide the RA and DEC values (rather than using INDEF). The science tools use a position keyword that includes all three values. If you declare one, you have to declare them all.\n",
    "* We used a slightly different position from the one used in the data server.  This is fine if you are reducing the radius. However, if you don't reduce the radius, you should use INDEF for all the parameters (RA, DEC, Radius) to avoid offsetting your circle and ending up with a sliver of sky without data.\n"
   ]
  },
  {
   "cell_type": "code",
   "execution_count": 51,
   "metadata": {},
   "outputs": [
    {
     "data": {
      "image/png": "[encoded data removed]",
      "text/plain": [
       "<Figure size 720x720 with 1 Axes>"
      ]
     },
     "metadata": {},
     "output_type": "display_data"
    }
   ],
   "source": [
    "box_bg = '#CCCCCC'\n",
    "fig = figure(figsize=(10, 10), facecolor='w')\n",
    "ax = axes((0,0,1,1),xticks=[], yticks=[], frameon=False)\n",
    "ax.set_xlim(0, 11)\n",
    "ax.set_ylim(0, 11)\n",
    "\n",
    "patches = [Circle((5,5),4, zorder=1),\n",
    "           Circle((5.1,5.1),4, zorder=1, fc='#CCCCCC'),\n",
    "           Circle((5,5),0.01),\n",
    "           Circle((5.1,5.1),0.01)]\n",
    "        \n",
    "\n",
    "for p in patches:\n",
    "    ax.add_patch(p)\n",
    "    \n",
    "text(5.15, 5.25, \"Position 1\",ha='left', va='center', fontsize=16)\n",
    "text(4.9, 4.9, \"Position 2\",ha='right', va='center', fontsize=16)\n",
    "text(1, 1.2, \"Here lies no data\",ha='left', va='center', fontsize=16)\n",
    "show()"
   ]
  },
  {
   "cell_type": "markdown",
   "metadata": {},
   "source": [
    "You can run all the analysis tools on the command line, as above. However, in python, it's (obviously) easier to run using a python version of the science tools. I'm going to run this using the python toolset called *[gtapps](http://fermi.gsfc.nasa.gov/ssc/data/analysis/user/gtapps_mp_README.txt)*.\n",
    "\n",
    "In python, this same call to getselect would look like this:"
   ]
  },
  {
   "cell_type": "code",
   "execution_count": 52,
   "metadata": {},
   "outputs": [
    {
     "data": {
      "text/plain": [
       "' infile=@../data/events.txt outfile=../data/3C279_filtered.fits ra=194.0 dec=-5.8 rad=15.0 tmin=\"INDEF\" tmax=\"INDEF\" emin=100.0 emax=300000.0 zmin=0.0 zmax=90.0 evclass=128 evclsmin=0 evclsmax=10 evtype=3 convtype=-1 phasemin=0.0 phasemax=1.0 evtable=\"EVENTS\" chatter=2 clobber=yes debug=no gui=no mode=\"ql\"'"
      ]
     },
     "execution_count": 52,
     "metadata": {},
     "output_type": "execute_result"
    }
   ],
   "source": [
    "import gt_apps\n",
    "from gt_apps import filter\n",
    "filter.pars()"
   ]
  },
  {
   "cell_type": "code",
   "execution_count": 53,
   "metadata": {},
   "outputs": [],
   "source": [
    "filter['infile'] = '@../data/events.txt'\n",
    "filter['outfile'] = '../data/3C279_filtered.fits'\n",
    "filter['ra'] = 194.0\n",
    "filter['dec'] = -5.8\n",
    "filter['rad'] = 15\n",
    "filter['tmin'] = 'INDEF'\n",
    "filter['tmax'] = 'INDEF'\n",
    "filter['emin'] = 100\n",
    "filter['emax'] = 300000\n",
    "filter['zmax'] = 90\n",
    "filter['evclass'] = 128\n",
    "filter['evtype'] = 3"
   ]
  },
  {
   "cell_type": "markdown",
   "metadata": {},
   "source": [
    "You can check what the command will look like before you run it. This is also useful for logging, and when building scripts."
   ]
  },
  {
   "cell_type": "code",
   "execution_count": 54,
   "metadata": {},
   "outputs": [
    {
     "data": {
      "text/plain": [
       "'time -p /home/fermi/astrosoft/sciencetools/x86_64-unknown-linux-gnu-libc2.12/bin/gtselect infile=@../data/events.txt outfile=../data/3C279_filtered.fits ra=194.0 dec=-5.8 rad=15.0 tmin=\"INDEF\" tmax=\"INDEF\" emin=100.0 emax=300000.0 zmin=0.0 zmax=90.0 evclass=128 evclsmin=0 evclsmax=10 evtype=3 convtype=-1 phasemin=0.0 phasemax=1.0 evtable=\"EVENTS\" chatter=2 clobber=yes debug=no gui=no mode=\"ql\"'"
      ]
     },
     "execution_count": 54,
     "metadata": {},
     "output_type": "execute_result"
    }
   ],
   "source": [
    "filter.command()"
   ]
  },
  {
   "cell_type": "code",
   "execution_count": 55,
   "metadata": {},
   "outputs": [
    {
     "name": "stdout",
     "output_type": "stream",
     "text": [
      "time -p /home/fermi/astrosoft/sciencetools/x86_64-unknown-linux-gnu-libc2.12/bin/gtselect infile=@../data/events.txt outfile=../data/3C279_filtered.fits ra=194.0 dec=-5.8 rad=15.0 tmin=\"INDEF\" tmax=\"INDEF\" emin=100.0 emax=300000.0 zmin=0.0 zmax=90.0 evclass=128 evclsmin=0 evclsmax=10 evtype=3 convtype=-1 phasemin=0.0 phasemax=1.0 evtable=\"EVENTS\" chatter=2 clobber=yes debug=no gui=no mode=\"ql\"\n",
      "Done.\n",
      "real 3.43\n",
      "user 0.54\n",
      "sys 1.24\n"
     ]
    }
   ],
   "source": [
    "filter.run()"
   ]
  },
  {
   "cell_type": "markdown",
   "metadata": {},
   "source": [
    "If you tried to compute an exposure map later on you'd get a nasty error and I'd get a help desk message from you.\n",
    "\n",
    "The Filtered Data\n",
    "-----------------\n",
    "\n",
    "Let's take a look at what we have."
   ]
  },
  {
   "cell_type": "code",
   "execution_count": 56,
   "metadata": {},
   "outputs": [],
   "source": [
    "filtered_data = pyfits.open('../data/3C279_filtered.fits')"
   ]
  },
  {
   "cell_type": "code",
   "execution_count": 57,
   "metadata": {},
   "outputs": [
    {
     "name": "stdout",
     "output_type": "stream",
     "text": [
      "Filename: ../data/3C279_filtered.fits\n",
      "No.    Name      Ver    Type      Cards   Dimensions   Format\n",
      "  0  PRIMARY       1 PrimaryHDU      31   ()      \n",
      "  1  EVENTS        1 BinTableHDU    220   56960R x 23C   [E, E, E, E, E, E, E, E, E, D, J, J, I, 3I, 32X, 32X, I, D, E, E, E, E, E]   \n",
      "  2  GTI           1 BinTableHDU     46   1537R x 2C   [D, D]   \n"
     ]
    }
   ],
   "source": [
    "filtered_data.info()"
   ]
  },
  {
   "cell_type": "markdown",
   "metadata": {},
   "source": [
    "Notice in the dimensions that we now have 101,844 events in the combined event file.  This is quite a reduction from the 569k events returned by the query.  Lots of events have been filtered out.  \n",
    "\n",
    "The next thing to do is to make sure we update the good time interval (the GTI) column using the recommended GTI filters.  These can also be found on the [recommendations and good practices](http://fermi.gsfc.nasa.gov/ssc/data/analysis/documentation/Cicerone/Cicerone_Data_Exploration/Data_preparation.html).  Here's the relevant table:"
   ]
  },
  {
   "cell_type": "markdown",
   "metadata": {},
   "source": [
    "![Maketime_recommendations](images/Maketime_recommendations.png)"
   ]
  },
  {
   "cell_type": "markdown",
   "metadata": {},
   "source": [
    "> ** NOTE: For analyses where an ROI-based zenith cut is NOT performed, an exposure correction must be made using the \"zmax\" option in the <a href=\"/ssc/data/analysis/scitools/help/gtltcube.txt\">gtltcube</a> tool.**\n",
    "                \n",
    "So, the relevant column here is the last one; these filters are just filtering on columns in the spacecraft file we looked at before.  We do this via the *[gtmktime](http://fermi.gsfc.nasa.gov/ssc/data/analysis/scitools/help/gtmktime.txt)* command, which is called **maketime** in *gtapps*:  "
   ]
  },
  {
   "cell_type": "code",
   "execution_count": 58,
   "metadata": {},
   "outputs": [
    {
     "name": "stdout",
     "output_type": "stream",
     "text": [
      "time -p /home/fermi/astrosoft/sciencetools/x86_64-unknown-linux-gnu-libc2.12/bin/gtmktime scfile=../data/SC00.fits sctable=\"SC_DATA\" filter=\"DATA_QUAL>0 && LAT_CONFIG==1\" roicut=no evfile=../data/3C279_filtered.fits evtable=\"EVENTS\" outfile=\"../data/3C279_mktime.fits\" apply_filter=yes overwrite=no header_obstimes=yes tstart=0.0 tstop=0.0 gtifile=\"default\" chatter=2 clobber=yes debug=no gui=no mode=\"ql\"\n",
      "real 1.70\n",
      "user 0.57\n",
      "sys 0.29\n"
     ]
    }
   ],
   "source": [
    "from gt_apps import maketime\n",
    "maketime['evfile'] = '../data/3C279_filtered.fits'\n",
    "maketime['outfile'] = '../data/3C279_mktime.fits'\n",
    "maketime['scfile'] = '../data/SC00.fits'\n",
    "maketime['filter'] = 'DATA_QUAL>0 && LAT_CONFIG==1'\n",
    "maketime['apply_filter'] = 'yes'\n",
    "maketime['roicut'] = 'no'\n",
    "maketime.run()"
   ]
  },
  {
   "cell_type": "markdown",
   "metadata": {},
   "source": [
    "Some things to note here:\n",
    "\n",
    "* We gave it the spacecraft file as input (this makes sense).\n",
    "* We said 'no' to the ROI-based zenith angle cut, as that was the recommendation in the table. This means we will need to apply a zmax cut in *gtltcube* instead.\n",
    "* Had we said 'yes' to the ROI-based zenith cut, maketime would have made this cut: \"angsep(RA_ZENITH,DEC_ZENITH,RA_ROI,DEC_ROI) < ZMAX - ROI_RADIUS\". This just cuts out periods when your ROI is close to the zenith and away from the Earth's limb.\n",
    "\n",
    "Now what do we have..."
   ]
  },
  {
   "cell_type": "code",
   "execution_count": 59,
   "metadata": {},
   "outputs": [
    {
     "name": "stdout",
     "output_type": "stream",
     "text": [
      "Filename: ../data/3C279_filtered.fits\n",
      "No.    Name      Ver    Type      Cards   Dimensions   Format\n",
      "  0  PRIMARY       1 PrimaryHDU      31   ()      \n",
      "  1  EVENTS        1 BinTableHDU    220   56960R x 23C   [E, E, E, E, E, E, E, E, E, D, J, J, I, 3I, 32X, 32X, I, D, E, E, E, E, E]   \n",
      "  2  GTI           1 BinTableHDU     46   1537R x 2C   [D, D]   \n"
     ]
    }
   ],
   "source": [
    "filtered_data.info()"
   ]
  },
  {
   "cell_type": "code",
   "execution_count": 61,
   "metadata": {},
   "outputs": [
    {
     "name": "stdout",
     "output_type": "stream",
     "text": [
      "Filename: ../data/3C279_mktime.fits\n",
      "No.    Name      Ver    Type      Cards   Dimensions   Format\n",
      "  0  PRIMARY       1 PrimaryHDU      31   ()      \n",
      "  1  EVENTS        1 BinTableHDU    223   56960R x 23C   [E, E, E, E, E, E, E, E, E, D, J, J, I, 3I, 32X, 32X, I, D, E, E, E, E, E]   \n",
      "  2  GTI           1 BinTableHDU     46   1537R x 2C   [D, D]   \n"
     ]
    }
   ],
   "source": [
    "mktime_data = pyfits.open('../data/3C279_mktime.fits')\n",
    "mktime_data.info()"
   ]
  },
  {
   "cell_type": "markdown",
   "metadata": {},
   "source": [
    "You can see that the maketime command did not actually remove any events. This means that the bad times we saw early on in the spacecraft file were not associated with periods when the LAT was taking data.   "
   ]
  },
  {
   "cell_type": "markdown",
   "metadata": {},
   "source": [
    "### Things to think about when making data selections\n",
    "\n",
    "* What scientific question am I trying to answer?\n",
    "    * Am I looking at a point source?\n",
    "    * What spectral shape do I expect (hard spectral shapes could benefit from a higher low-energy cut).\n",
    "    * Is this a short timescale event (~200 s, like a GRB)?\n",
    "    * Am I interested in a small region or the whole sky?\n",
    "    * Is the region close to the galactic plane (here lies analysis dragons, might want to raise the energy threshold, make your ROI smaller)\n",
    "\n",
    "**Always double check the recommended cuts, especially after a data/software release.**  Don't hesitate to ask the FSSC for advice.  We are working scientists and have proably run into the types of problems you are seeing. And if we can't, we can always contact the software developers."
   ]
  },
  {
   "cell_type": "markdown",
   "metadata": {},
   "source": [
    "Quick Looks at the Data\n",
    "==========================\n",
    "These are quick ways you can have a look at the data you have. These give you some insight, but they are not statistically rigorous (rigor needs the Likelihood method).  The data you are about to see have not been corrected for things like livetime, exposure, background, random acts of statistics etc.  but go for it…\n",
    "\n",
    "### Using gtbin to make a counts map\n",
    "\n",
    "*[gtbin](http://fermi.gsfc.nasa.gov/ssc/data/analysis/scitools/help/gtbin.txt)* is a pretty versitle tool: It can make:\n",
    "* counts maps (counts_map + CMAP)\n",
    "* healpix maps (counts_map + HEALPIX)\n",
    "* counts cubes (counts_map + CCUBE)\n",
    "* simple light curves (evtbin + LC)\n",
    "* simple spectra (evtbin + PHA1/PHA2)\n",
    "\n",
    "We're going to make a counts map and plot it with python.  You can also use [ds9](http://hea-www.harvard.edu/RD/ds9/site/Home.html) or fv to plot this."
   ]
  },
  {
   "cell_type": "code",
   "execution_count": 62,
   "metadata": {},
   "outputs": [
    {
     "name": "stdout",
     "output_type": "stream",
     "text": [
      "time -p /home/fermi/astrosoft/sciencetools/x86_64-unknown-linux-gnu-libc2.12/bin/gtbin evfile=../data/3C279_mktime.fits scfile=NONE outfile=../data/3C279_cmap.fits algorithm=\"CMAP\" ebinalg=\"LOG\" emin=30.0 emax=200000.0 ebinfile=NONE tbinalg=\"LIN\" tbinfile=NONE nxpix=400 nypix=400 binsz=0.1 coordsys=\"CEL\" xref=194.0 yref=-5.8 axisrot=0.0 rafield=\"RA\" decfield=\"DEC\" proj=\"AIT\" hpx_ordering_scheme=\"RING\" hpx_order=3 hpx_ebin=yes hpx_region=\"\" evtable=\"EVENTS\" sctable=\"SC_DATA\" efield=\"ENERGY\" tfield=\"TIME\" chatter=2 clobber=yes debug=no gui=no mode=\"ql\"\n",
      "This is gtbin version ScienceTools-v11r5p3-fssc-20170716\n",
      "gtbin: WARNING: No spacecraft file: EXPOSURE keyword will be set equal to ontime.\n",
      "real 0.93\n",
      "user 0.22\n",
      "sys 0.19\n"
     ]
    }
   ],
   "source": [
    "from gt_apps import counts_map\n",
    "counts_map['evfile'] = '../data/3C279_mktime.fits'\n",
    "counts_map['scfile'] = 'NONE'\n",
    "counts_map['outfile'] = '../data/3C279_cmap.fits'\n",
    "counts_map['algorithm'] = 'CMAP'\n",
    "counts_map['xref'] = 194.0\n",
    "counts_map['yref'] = -5.8\n",
    "counts_map['coordsys'] = 'CEL'\n",
    "counts_map['nxpix'] = 400\n",
    "counts_map['nypix'] = 400\n",
    "counts_map['binsz'] = 0.1\n",
    "counts_map['axisrot'] = 0.0\n",
    "counts_map['proj'] = 'AIT'\n",
    "counts_map.run()"
   ]
  },
  {
   "cell_type": "code",
   "execution_count": 63,
   "metadata": {},
   "outputs": [],
   "source": [
    "cmap = pyfits.open('../data/3C279_cmap.fits')"
   ]
  },
  {
   "cell_type": "code",
   "execution_count": 64,
   "metadata": {},
   "outputs": [
    {
     "name": "stdout",
     "output_type": "stream",
     "text": [
      "Filename: ../data/3C279_cmap.fits\n",
      "No.    Name      Ver    Type      Cards   Dimensions   Format\n",
      "  0  PRIMARY       1 PrimaryHDU     126   (400, 400)   int32   \n",
      "  1  GTI           1 BinTableHDU     48   1537R x 2C   [D, D]   \n"
     ]
    }
   ],
   "source": [
    "cmap.info()"
   ]
  },
  {
   "cell_type": "code",
   "execution_count": 65,
   "metadata": {},
   "outputs": [
    {
     "data": {
      "text/plain": [
       "<matplotlib.image.AxesImage at 0x7ff5faf43450>"
      ]
     },
     "execution_count": 65,
     "metadata": {},
     "output_type": "execute_result"
    },
    {
     "data": {
      "image/png": "[encoded data removed]",
      "text/plain": [
       "<Figure size 1152x576 with 1 Axes>"
      ]
     },
     "metadata": {},
     "output_type": "display_data"
    }
   ],
   "source": [
    "imshow(cmap[0].data)"
   ]
  },
  {
   "cell_type": "markdown",
   "metadata": {},
   "source": [
    "Note that I'm not using any packages to figure out the World Coordinate System (WCS) of this image so the X and Y are just pixel coordinates.  I could use ds9, fv or aplpy to get proper RA/DEC on this.  But you can immediately see the ROI cut we made, 3C 279 at the center and the other two to five background sources in the field of view.  It'll take a likelihood analysis to wrangle out all of the relevant details about these sources…that's for tomorrow.\n",
    "\n",
    "## Using gtselect to make a light curve.\n",
    "\n",
    "We can use gtselect to make a really tight selection around 3C 279. And since it's so bright we can assume that what we're looking at is almost entirely due to the photons from the AGN.  "
   ]
  },
  {
   "cell_type": "code",
   "execution_count": 66,
   "metadata": {},
   "outputs": [],
   "source": [
    "from gt_apps import filter"
   ]
  },
  {
   "cell_type": "code",
   "execution_count": 67,
   "metadata": {},
   "outputs": [],
   "source": [
    "filter['infile'] = '../data/3C279_mktime.fits'\n",
    "filter['outfile'] = '../data/3C279_1deg.fits'\n",
    "filter['ra'] = 194.047\n",
    "filter['dec'] = -5.78931\n",
    "filter['rad'] = 1.0\n",
    "filter['tmin'] = 'INDEF'\n",
    "filter['tmax'] = 'INDEF'\n",
    "filter['emin'] = 100\n",
    "filter['emax'] = 300000\n",
    "filter['zmax'] = 90\n",
    "filter['evclass'] = 128\n",
    "filter['evtype'] = 3"
   ]
  },
  {
   "cell_type": "code",
   "execution_count": 68,
   "metadata": {},
   "outputs": [
    {
     "data": {
      "text/plain": [
       "'time -p /home/fermi/astrosoft/sciencetools/x86_64-unknown-linux-gnu-libc2.12/bin/gtselect infile=../data/3C279_mktime.fits outfile=../data/3C279_1deg.fits ra=194.047 dec=-5.78931 rad=1.0 tmin=\"INDEF\" tmax=\"INDEF\" emin=100.0 emax=300000.0 zmin=0.0 zmax=90.0 evclass=128 evclsmin=0 evclsmax=10 evtype=3 convtype=-1 phasemin=0.0 phasemax=1.0 evtable=\"EVENTS\" chatter=2 clobber=yes debug=no gui=no mode=\"ql\"'"
      ]
     },
     "execution_count": 68,
     "metadata": {},
     "output_type": "execute_result"
    }
   ],
   "source": [
    "filter.command()"
   ]
  },
  {
   "cell_type": "code",
   "execution_count": 69,
   "metadata": {},
   "outputs": [
    {
     "name": "stdout",
     "output_type": "stream",
     "text": [
      "time -p /home/fermi/astrosoft/sciencetools/x86_64-unknown-linux-gnu-libc2.12/bin/gtselect infile=../data/3C279_mktime.fits outfile=../data/3C279_1deg.fits ra=194.047 dec=-5.78931 rad=1.0 tmin=\"INDEF\" tmax=\"INDEF\" emin=100.0 emax=300000.0 zmin=0.0 zmax=90.0 evclass=128 evclsmin=0 evclsmax=10 evtype=3 convtype=-1 phasemin=0.0 phasemax=1.0 evtable=\"EVENTS\" chatter=2 clobber=yes debug=no gui=no mode=\"ql\"\n",
      "Done.\n",
      "real 0.78\n",
      "user 0.17\n",
      "sys 0.18\n"
     ]
    }
   ],
   "source": [
    "filter.run()"
   ]
  },
  {
   "cell_type": "code",
   "execution_count": 71,
   "metadata": {},
   "outputs": [],
   "source": [
    "lc_gtselect = pyfits.open('../data/3C279_1deg.fits')"
   ]
  },
  {
   "cell_type": "code",
   "execution_count": 72,
   "metadata": {},
   "outputs": [
    {
     "data": {
      "image/png": "[encoded data removed]",
      "text/plain": [
       "<Figure size 1152x576 with 1 Axes>"
      ]
     },
     "metadata": {},
     "output_type": "display_data"
    }
   ],
   "source": [
    "n, bins, patches = hist(lc_gtselect[1].data.field('TIME'), bins=100)"
   ]
  },
  {
   "cell_type": "markdown",
   "metadata": {},
   "source": [
    "### Using gtbin to make a light curve\n",
    "\n",
    "It looks a bit weird using a histogram to make a light curve.  We can use *gtbin* to make a more 'sciency' light curve with errors and everything.  We should probably first run gtmktime to update the GTIs of the file we just made."
   ]
  },
  {
   "cell_type": "code",
   "execution_count": 73,
   "metadata": {},
   "outputs": [],
   "source": [
    "from gt_apps import maketime, evtbin"
   ]
  },
  {
   "cell_type": "code",
   "execution_count": 74,
   "metadata": {},
   "outputs": [],
   "source": [
    "maketime['scfile'] = '../data/SC00.fits'\n",
    "maketime['filter'] = \"(DATA_QUAL==1)&&(LAT_CONFIG==1)\"\n",
    "maketime['roicut'] = 'yes'\n",
    "maketime['evfile'] = '../data/3C279_1deg.fits'\n",
    "maketime['outfile'] = '../data/3C279_1deg_gti.fits'"
   ]
  },
  {
   "cell_type": "code",
   "execution_count": 75,
   "metadata": {},
   "outputs": [
    {
     "name": "stdout",
     "output_type": "stream",
     "text": [
      "time -p /home/fermi/astrosoft/sciencetools/x86_64-unknown-linux-gnu-libc2.12/bin/gtmktime scfile=../data/SC00.fits sctable=\"SC_DATA\" filter=\"(DATA_QUAL==1)&&(LAT_CONFIG==1)\" roicut=yes evfile=../data/3C279_1deg.fits evtable=\"EVENTS\" outfile=\"../data/3C279_1deg_gti.fits\" apply_filter=yes overwrite=no header_obstimes=yes tstart=0.0 tstop=0.0 gtifile=\"default\" chatter=2 clobber=yes debug=no gui=no mode=\"ql\"\n",
      "real 0.92\n",
      "user 0.48\n",
      "sys 0.11\n"
     ]
    }
   ],
   "source": [
    "maketime.run()"
   ]
  },
  {
   "cell_type": "code",
   "execution_count": 76,
   "metadata": {},
   "outputs": [
    {
     "name": "stdout",
     "output_type": "stream",
     "text": [
      " evfile= scfile=NONE outfile= algorithm=\"PHA2\" ebinalg=\"LOG\" emin=30.0 emax=200000.0 ebinfile=NONE tbinalg=\"LIN\" tbinfile=NONE coordsys=\"CEL\" axisrot=0.0 rafield=\"RA\" decfield=\"DEC\" proj=\"AIT\" hpx_ordering_scheme=\"RING\" hpx_order=3 hpx_ebin=yes hpx_region=\"\" evtable=\"EVENTS\" sctable=\"SC_DATA\" efield=\"ENERGY\" tfield=\"TIME\" chatter=2 clobber=yes debug=no gui=no mode=\"ql\"\n"
     ]
    }
   ],
   "source": [
    "print evtbin.pars()"
   ]
  },
  {
   "cell_type": "code",
   "execution_count": 77,
   "metadata": {},
   "outputs": [],
   "source": [
    "evtbin['algorithm'] = 'LC'\n",
    "evtbin['outfile'] = '../data/3C279_1deg_lc.fits'\n",
    "evtbin['evfile'] = '../data/3C279_1deg_gti.fits'\n",
    "evtbin['scfile'] = '../data/SC00.fits'\n",
    "evtbin['tbinalg'] = 'LIN'\n",
    "evtbin['tstart'] = 239557417\n",
    "evtbin['tstop'] = 255398400\n",
    "evtbin['dtime'] = 86400"
   ]
  },
  {
   "cell_type": "code",
   "execution_count": 78,
   "metadata": {},
   "outputs": [
    {
     "name": "stdout",
     "output_type": "stream",
     "text": [
      "time -p /home/fermi/astrosoft/sciencetools/x86_64-unknown-linux-gnu-libc2.12/bin/gtbin evfile=../data/3C279_1deg_gti.fits scfile=../data/SC00.fits outfile=../data/3C279_1deg_lc.fits algorithm=\"LC\" ebinalg=\"LOG\" emin=30.0 emax=200000.0 ebinfile=NONE tbinalg=\"LIN\" tstart=239557417.0 tstop=255398400.0 dtime=86400.0 tbinfile=NONE coordsys=\"CEL\" axisrot=0.0 rafield=\"RA\" decfield=\"DEC\" proj=\"AIT\" hpx_ordering_scheme=\"RING\" hpx_order=3 hpx_ebin=yes hpx_region=\"\" evtable=\"EVENTS\" sctable=\"SC_DATA\" efield=\"ENERGY\" tfield=\"TIME\" chatter=2 clobber=yes debug=no gui=no mode=\"ql\"\n",
      "This is gtbin version ScienceTools-v11r5p3-fssc-20170716\n",
      "real 0.83\n",
      "user 0.46\n",
      "sys 0.08\n"
     ]
    }
   ],
   "source": [
    "evtbin.run()"
   ]
  },
  {
   "cell_type": "code",
   "execution_count": 79,
   "metadata": {},
   "outputs": [],
   "source": [
    "lc_gtbin = pyfits.open('../data/3C279_1deg_lc.fits')"
   ]
  },
  {
   "cell_type": "code",
   "execution_count": 80,
   "metadata": {},
   "outputs": [
    {
     "data": {
      "text/plain": [
       "<ErrorbarContainer object of 3 artists>"
      ]
     },
     "execution_count": 80,
     "metadata": {},
     "output_type": "execute_result"
    },
    {
     "data": {
      "image/png": "[encoded data removed]",
      "text/plain": [
       "<Figure size 1152x576 with 1 Axes>"
      ]
     },
     "metadata": {},
     "output_type": "display_data"
    }
   ],
   "source": [
    "errorbar(lc_gtbin[1].data.field('TIME'),lc_gtbin[1].data.field('Counts'),yerr=lc_gtbin[1].data.field('Error'))"
   ]
  },
  {
   "cell_type": "markdown",
   "metadata": {},
   "source": [
    "### Other views of the data\n",
    "Of course, we can't go over all of the ways you can quickly look at the data here are some others (and links to examples):\n",
    "\n",
    "* [Aperture photometry](http://fermi.gsfc.nasa.gov/ssc/data/analysis/scitools/aperture_photometry.html)\n",
    "    * R. Corbet of the FSSC also generates [Light curves for all of the 3FGL sources](http://fermi.gsfc.nasa.gov/ssc/data/access/lat/4yr_catalog/ap_lcs.php).\n",
    "* Exposure corrected light curves.\n",
    "* Looking for clusters of photons.\n",
    "* And lots more...\n"
   ]
  },
  {
   "cell_type": "markdown",
   "metadata": {},
   "source": [
    "Projects!\n",
    "============\n"
   ]
  },
  {
   "cell_type": "markdown",
   "metadata": {},
   "source": [
    "Our goal is to help you complete an analysis on a topic of your choice during the next two weeks. We're happy to work on both simple and complex projects, but we are unlikely to have enough time/computational power to complete the complex ones.\n",
    "\n",
    "Simple project examples:\n",
    "* Single source spectral and variability analysis for point sources, extended sources, etc.\n",
    "* Time-dependent characteristics of gamma-ray binaries\n",
    "* GRB spectra and light curves\n",
    "* Temporal and spectral characteristics of stellar novae\n",
    "* Pulsar spectral analysis, weighting, and pulsation searching (using a known pulsar with current timing information)\n",
    "\n",
    "Complex project examples:\n",
    "* Characterization of a large-scale/all-sky signal: anisotropy in the EBL, dark matter signals in the GC, Galactic diffuse emission\n",
    "* Stacking analyses: searching for AGN halos, dark matter search from dwarf spheroidal galaxies\n",
    "* Searching for new pulsars in the gamma rays\n",
    "* Characterizing the positron/electron ratio detected by the LAT"
   ]
  },
  {
   "cell_type": "markdown",
   "metadata": {},
   "source": [
    "## What would you like to try to accomplish?"
   ]
  },
  {
   "cell_type": "code",
   "execution_count": null,
   "metadata": {
    "collapsed": true
   },
   "outputs": [],
   "source": []
  }
 ],
 "metadata": {
  "kernelspec": {
   "display_name": "Python 2",
   "language": "python",
   "name": "python2"
  },
  "language_info": {
   "codemirror_mode": {
    "name": "ipython",
    "version": 2
   },
   "file_extension": ".py",
   "mimetype": "text/x-python",
   "name": "python",
   "nbconvert_exporter": "python",
   "pygments_lexer": "ipython2",
   "version": "2.7.14"
  }
 },
 "nbformat": 4,
 "nbformat_minor": 1
}
