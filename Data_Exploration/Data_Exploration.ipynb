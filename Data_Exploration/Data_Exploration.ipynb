{
 "cells": [
  {
   "cell_type": "markdown",
   "metadata": {},
   "source": [
    "FSSC Science Tools\n",
    "=========================\n",
    "Data Retrieval, Selection and Exploration\n",
    "-------------------------\n",
    "\n",
    "This tutorial is designed to not only make you comfortable running a LAT analysis but also make you familiar with the data and where to go if you want to find more information.  At the end of this tutorial and the likelihood tutorial you should be able to know what all of the various file formats are and be able to perform your own customized simple analysis.  \n",
    "\n",
    "**Goal:**  *Find information, download data, explore data, make simple views of the data, establish individual projects*"
   ]
  },
  {
   "cell_type": "markdown",
   "metadata": {},
   "source": [
    "Setting up the Summer School VM\n",
    "-------------------\n",
    "\n",
    "In order to follow along with this tutorial, you need to have the Docker software package and the Fermi container FermiBottle, installed and running. \n",
    "\n",
    "The software, instructions on getting started, and iPhython notebooks that we'll be following during the school are all on GitHub at:\n",
    "https://github.com/FermiSummerSchool/\n",
    "\n",
    "If you go to the project and look at the wiki documentation link, you will see the setup instructions:"
   ]
  },
  {
   "cell_type": "code",
   "execution_count": 1,
   "metadata": {},
   "outputs": [],
   "source": [
    "from IPython.display import Image,HTML"
   ]
  },
  {
   "cell_type": "markdown",
   "metadata": {},
   "source": [
    "Any problems with installation of Docker and FermiBottle?\n",
    "---------\n",
    "\n",
    "<u>Links:</u>\n",
    "* Github repository: https://github.com/FermiSummerSchool/\n",
    "* Github repository for VM: https://github.com/FermiSummerSchool/FermiBottle"
   ]
  },
  {
   "cell_type": "markdown",
   "metadata": {},
   "source": [
    "Any problems with starting the VM?\n",
    "---------\n",
    "\n",
    "Check output of this command for the container NAME\n",
    "> \\> docker ps -a\n",
    "\n",
    "Start the VM\n",
    "> \\> docker start <NAME from above>\n",
    "\n",
    "Connect to the VM\n",
    "> \\> docker attach <NAME from above>"
   ]
  },
  {
   "cell_type": "markdown",
   "metadata": {},
   "source": [
    "To share files between your native operating system and the virtual machine environment, put them in the directory you created as part of the setup for the container. That directory will be writeable from both systems. In the VM it is called /data. On your native computer, it is whatever directory you chose when creating the container."
   ]
  },
  {
   "cell_type": "markdown",
   "metadata": {},
   "source": [
    "Accessing these lectures\n",
    "------------------------\n",
    "\n",
    "Inside the VM, open Firefox and go to https://confluence.slac.stanford.edu/display/LSP/Fermi+Summer+School+2018 where the lectures are linked. If you click on one of the notebooks it will open in jupyter's notebook viewer. \n",
    "\n",
    "If you want copies of the content of the notebooks, you can download the contents from the GitHub repository. https://github.com/FermiSummerSchool/ \n",
    "\n",
    "If you want to run a notebook locally in the VM, change into the directory where you have saved the notebooks and run them by typing:\n",
    "\n",
    "> \\> notebook\n",
    "\n",
    "This will start the jupyter notebook server using this command 'jupyter notebook --ip 00.00.00.00 --no-browser' and will open Firefox with links to each notebook in the directory. Click on a notebook and it will open in a new tab."
   ]
  },
  {
   "cell_type": "markdown",
   "metadata": {},
   "source": [
    "Now...Where do we start?\n",
    "---------------------------\n",
    "\n",
    "Go to the [FSSC Website](http://fermi.gsfc.nasa.gov/ssc/)&rarr;[Data](http://fermi.gsfc.nasa.gov/ssc/data/)&rarr;[Data Analysis](http://fermi.gsfc.nasa.gov/ssc/data/analysis/)&rarr;[System Overview](http://fermi.gsfc.nasa.gov/ssc/data/analysis/scitools/overview.html)\n"
   ]
  },
  {
   "cell_type": "code",
   "execution_count": 2,
   "metadata": {},
   "outputs": [
    {
     "data": {
      "text/html": [
       "<iframe src='http://fermi.gsfc.nasa.gov/ssc/data/analysis/scitools/overview.html' width='1000' height='500'></iframe>"
      ],
      "text/plain": [
       "<IPython.core.display.HTML object>"
      ]
     },
     "execution_count": 2,
     "metadata": {},
     "output_type": "execute_result"
    }
   ],
   "source": [
    "HTML(\"<iframe src='http://fermi.gsfc.nasa.gov/ssc/data/analysis/scitools/overview.html' width='1000' height='500'></iframe>\")"
   ]
  },
  {
   "cell_type": "markdown",
   "metadata": {},
   "source": [
    "### Multiple levels of documentation\n",
    "\n",
    "Available from [FSSC Website](http://fermi.gsfc.nasa.gov/ssc/)&rarr;[Data](http://fermi.gsfc.nasa.gov/ssc/data/)&rarr;[Documentation](http://fermi.gsfc.nasa.gov/ssc/data/analysis/documentation/)"
   ]
  },
  {
   "cell_type": "code",
   "execution_count": 3,
   "metadata": {},
   "outputs": [
    {
     "data": {
      "text/html": [
       "<iframe src='http://fermi.gsfc.nasa.gov/ssc/data/analysis/documentation/' width='1000' height='500'></iframe>"
      ],
      "text/plain": [
       "<IPython.core.display.HTML object>"
      ]
     },
     "execution_count": 3,
     "metadata": {},
     "output_type": "execute_result"
    }
   ],
   "source": [
    "HTML(\"<iframe src='http://fermi.gsfc.nasa.gov/ssc/data/analysis/documentation/' width='1000' height='500'></iframe>\")"
   ]
  },
  {
   "cell_type": "markdown",
   "metadata": {},
   "source": [
    "\n",
    "* [Installation](http://fermi.gsfc.nasa.gov/ssc/data/analysis/software/) \n",
    "    * Details the installation procedure\n",
    "* [LAT Analysis Start Page](http://http://fermi.gsfc.nasa.gov/ssc/data/analysis/LAT_essentials.html)\n",
    "    * Summary of the important resources that are needed for standard LAT analysis\n",
    "* [Analysis Threads](http://fermi.gsfc.nasa.gov/ssc/data/analysis/scitools/) \n",
    "    * Examples of actual science analysis where you can follow along step-by-step\n",
    "* [Cicerone](http://translate.google.com/#it/en/cicerone)\n",
    "    * General information on the satellite and instruments\n",
    "    * Describes instrumentation and data acquisition\n",
    "    * Explains analysis methods\n",
    "* [Individual Tool Descriptions](http://fermi.gsfc.nasa.gov/ssc/data/analysis/scitools/references.html) \n",
    "    * Explains individual tools in detail\n",
    "    * (Identical to the information available via [*fhelp*](http://heasarc.gsfc.nasa.gov/ftools/users/node7.html)) "
   ]
  },
  {
   "cell_type": "markdown",
   "metadata": {},
   "source": [
    "\n",
    "**Note:** Let's check to make sure everyone has a working installation of the VM, is running Jupyter Notebook and following along."
   ]
  },
  {
   "cell_type": "markdown",
   "metadata": {},
   "source": [
    "### What if I can't figure something out and I am not at the summer school?\n",
    "\n",
    "Contact us!  fermihelp@milkyway.gsfc.nasa.gov . Most of us are nice...most of the time."
   ]
  },
  {
   "cell_type": "markdown",
   "metadata": {},
   "source": [
    "### Getting the data\n",
    "Go to the [FSSC Website](http://fermi.gsfc.nasa.gov/ssc/)&rarr;[Data](http://fermi.gsfc.nasa.gov/ssc/data/)&rarr;[Data Access](http://fermi.gsfc.nasa.gov/ssc/data/access/)"
   ]
  },
  {
   "cell_type": "code",
   "execution_count": 4,
   "metadata": {
    "scrolled": true
   },
   "outputs": [
    {
     "data": {
      "text/html": [
       "<iframe src='http://fermi.gsfc.nasa.gov/ssc/data/access/' width='1000' height='500'></iframe>"
      ],
      "text/plain": [
       "<IPython.core.display.HTML object>"
      ]
     },
     "execution_count": 4,
     "metadata": {},
     "output_type": "execute_result"
    }
   ],
   "source": [
    "HTML(\"<iframe src='http://fermi.gsfc.nasa.gov/ssc/data/access/' width='1000' height='500'></iframe>\")"
   ]
  },
  {
   "cell_type": "markdown",
   "metadata": {},
   "source": [
    "### Getting our Data\n",
    "We're going to look at a 20 degree region around the AGN 3C 279 from August 4, 2008 to February 4, 2009 and perform a detailed source anlysis so let's use the LAT data server."
   ]
  },
  {
   "cell_type": "markdown",
   "metadata": {},
   "source": [
    "Go to the [FSSC Website](http://fermi.gsfc.nasa.gov/ssc/)&rarr;[Data](http://fermi.gsfc.nasa.gov/ssc/data/)&rarr;[LAT Data Server](http://fermi.gsfc.nasa.gov/cgi-bin/ssc/LAT/LATDataQuery.cgi)"
   ]
  },
  {
   "cell_type": "code",
   "execution_count": 5,
   "metadata": {},
   "outputs": [
    {
     "data": {
      "text/html": [
       "<iframe src='http://fermi.gsfc.nasa.gov/cgi-bin/ssc/LAT/LATDataQuery.cgi' width='1000' height='500'></iframe>"
      ],
      "text/plain": [
       "<IPython.core.display.HTML object>"
      ]
     },
     "execution_count": 5,
     "metadata": {},
     "output_type": "execute_result"
    }
   ],
   "source": [
    "HTML(\"<iframe src='http://fermi.gsfc.nasa.gov/cgi-bin/ssc/LAT/LATDataQuery.cgi' width='1000' height='500'></iframe>\")"
   ]
  },
  {
   "cell_type": "markdown",
   "metadata": {},
   "source": [
    "***How do I fill in these parameters?***\n",
    "\n",
    "(You can click on the field name for more details.)\n",
    "\n",
    "* *Object name or coordinates*: you can use the NED/Simbad/GRB Name or the coordinates (like RA,Dec)\n",
    "    * If you use coordinate lookup, be careful with the coordinates it uses. A name may correspond to several different positions.\n",
    "* *Search Radius*: This depends on your source region.  I usually do an anlysis on 10 - 15 degrees but I always download 30 degrees of data so I have freedom later to change my mind.  If you want to grab more than this, you probably should think about using the weekly files.\n",
    "* *Observation dates*:  Lots of options (see the help).  [xtime](http://heasarc.gsfc.nasa.gov/cgi-bin/Tools/xTime/xTime.pl) is very useful.\n",
    "* *Energy Range*: separated by a comma.\n",
    "* *LAT data type*: Photon or Extended, more on this later.\n",
    "* *Spacecraft data*: yes.  You want this.\n",
    "\n",
    "Here are the selection commands so you can copy/paste\n",
    "\n",
    "* Coordinates: 194.05, -5.79\n",
    "* Search Radius: 30\n",
    "* Time range (MET): 239557417,255398400 (or START, 2009-02-04 00:00:00)\n",
    "* Energy range (MeV): 100, 500000\n",
    "\n",
    "I've already downloaded these data.  You can get them in the data directory in the USB drive we've given you.  Here's the resulting page (for the record)."
   ]
  },
  {
   "cell_type": "markdown",
   "metadata": {},
   "source": [
    "![DataServer1](images/FSSC_DataServer1.png)"
   ]
  },
  {
   "cell_type": "markdown",
   "metadata": {},
   "source": [
    "If you click on the link to get to the query result you get this:\n",
    "\n",
    "https://fermi.gsfc.nasa.gov/cgi-bin/ssc/LAT/QueryResults.cgi?id=L190522170052BB65347F15\n"
   ]
  },
  {
   "cell_type": "markdown",
   "metadata": {
    "scrolled": true
   },
   "source": [
    "![DataServer2](images/FSSC_DataServer2.png)"
   ]
  },
  {
   "cell_type": "markdown",
   "metadata": {},
   "source": [
    "You could click the *Available* links or you could just use the *wget* commands in a terminal window. \n",
    "(I added the '-q' for quiet)."
   ]
  },
  {
   "cell_type": "markdown",
   "metadata": {},
   "source": [
    "We put these in the data directory of the current working directory, and rename them for ease of use to SC00.fits, PH00.fits and PH01.fits."
   ]
  },
  {
   "cell_type": "code",
   "execution_count": 7,
   "metadata": {},
   "outputs": [
    {
     "name": "stdout",
     "output_type": "stream",
     "text": [
      "PH00.fits  PH01.fits  SC00.fits\r\n"
     ]
    }
   ],
   "source": [
    "ls ../data/"
   ]
  },
  {
   "cell_type": "markdown",
   "metadata": {},
   "source": [
    "So, what do we have now?  We've got a photon file (you could get several of these depending on how the query was executed) and one spacecraft file. According to the data server, the photon file contains 569,325 events.\n",
    "\n",
    "You can use the ftool *fv* to investigate these FITS tables directly."
   ]
  },
  {
   "cell_type": "markdown",
   "metadata": {},
   "source": [
    "There's a row for every event and each column details all of the information about that event.  You could click the header to find more details or check out the [information about the columns](http://fermi.gsfc.nasa.gov/ssc/data/analysis/documentation/Cicerone/Cicerone_Data/LAT_Data_Columns.html) on the FSSC site.  We can have a look at them.  And you can see what the 'extended' data are all about."
   ]
  },
  {
   "cell_type": "code",
   "execution_count": 8,
   "metadata": {},
   "outputs": [
    {
     "data": {
      "text/html": [
       "<iframe src='http://fermi.gsfc.nasa.gov/ssc/data/analysis/documentation/Cicerone/Cicerone_Data/LAT_Data_Columns.html' width='1000' height='500'></iframe>"
      ],
      "text/plain": [
       "<IPython.core.display.HTML object>"
      ]
     },
     "execution_count": 8,
     "metadata": {},
     "output_type": "execute_result"
    }
   ],
   "source": [
    "HTML(\"<iframe src='http://fermi.gsfc.nasa.gov/ssc/data/analysis/documentation/Cicerone/Cicerone_Data/LAT_Data_Columns.html' width='1000' height='500'></iframe>\")"
   ]
  },
  {
   "cell_type": "markdown",
   "metadata": {},
   "source": [
    "The extended file just has some extra information about each event.  \n",
    "\n",
    "This page also details what's in the spacecraft file.  You can use 'fv' to plot some of these parameters or we can actually plot them here in python."
   ]
  },
  {
   "cell_type": "code",
   "execution_count": 9,
   "metadata": {},
   "outputs": [],
   "source": [
    "from astropy.io import fits as pyfits"
   ]
  },
  {
   "cell_type": "code",
   "execution_count": 10,
   "metadata": {},
   "outputs": [],
   "source": [
    "sc_hdulist = pyfits.open('../data/SC00.fits')"
   ]
  },
  {
   "cell_type": "code",
   "execution_count": 11,
   "metadata": {},
   "outputs": [
    {
     "name": "stdout",
     "output_type": "stream",
     "text": [
      "Filename: ../data/SC00.fits\n",
      "No.    Name      Ver    Type      Cards   Dimensions   Format\n",
      "  0  PRIMARY       1 PrimaryHDU      28   ()      \n",
      "  1  SC_DATA       1 BinTableHDU    265   445088R x 30C   [D, D, 3E, E, E, D, E, E, E, E, E, E, L, E, E, E, E, E, E, E, J, B, I, D, D, D, D, D, E, E]   \n"
     ]
    }
   ],
   "source": [
    "sc_hdulist.info()"
   ]
  },
  {
   "cell_type": "code",
   "execution_count": 12,
   "metadata": {},
   "outputs": [],
   "source": [
    "sc_data = sc_hdulist[1].data"
   ]
  },
  {
   "cell_type": "code",
   "execution_count": 13,
   "metadata": {},
   "outputs": [
    {
     "name": "stdout",
     "output_type": "stream",
     "text": [
      "Populating the interactive namespace from numpy and matplotlib\n"
     ]
    }
   ],
   "source": [
    "%pylab inline"
   ]
  },
  {
   "cell_type": "code",
   "execution_count": 14,
   "metadata": {},
   "outputs": [
    {
     "data": {
      "image/png": "[encoded data removed]",
      "text/plain": [
       "<matplotlib.figure.Figure at 0x7fcbe5f85550>"
      ]
     },
     "metadata": {
      "needs_background": "light"
     },
     "output_type": "display_data"
    }
   ],
   "source": [
    "figsize(16,8)\n",
    "plot(sc_data.field('START'),sc_data.field('DATA_QUAL'),'.')\n",
    "plot(sc_data.field('START'),sc_data.field('LAT_CONFIG'),'.')\n",
    "ylim(-0.1,1.1)\n",
    "show()"
   ]
  },
  {
   "cell_type": "markdown",
   "metadata": {},
   "source": [
    "[Cool Cool Cool](http://www.youtube.com/watch?v=8IIrf_JSuQk).  You can see that there were some times in there when the LAT data quality was less than perfect.  We'll need to filter these out and figure out which of the events we want to keep."
   ]
  },
  {
   "cell_type": "markdown",
   "metadata": {},
   "source": [
    "Filtering and Selecting Data\n",
    "----------------------------\n",
    "You can filter and select on any of the parameters of the events but there are some [recommendations and good practices](http://fermi.gsfc.nasa.gov/ssc/data/analysis/documentation/Cicerone/Cicerone_Data_Exploration/Data_preparation.html) listed at the FSSC site.\n"
   ]
  },
  {
   "cell_type": "markdown",
   "metadata": {},
   "source": [
    "![Event_recommendations](images/Event_recommendations.png)"
   ]
  },
  {
   "cell_type": "markdown",
   "metadata": {},
   "source": [
    "Let's talk about these for a bit:\n",
    "\n",
    "* The minimum and maximum energy cuts are pretty obvious.  Many analyses don't work as well below 100 MeV and need extra care. \n",
    "* Zenith Angle:  This cut helps to exclude photons originating from the Earth's limb.\n",
    "* Event Class: The LAT team classifies events based on the probability that they are photons.  Each event class has distinct Instrument Response Functions (the description of how the instrument responds to events). With the exception of Solar Flare data, the event classes are nested as shown below."
   ]
  },
  {
   "cell_type": "code",
   "execution_count": 15,
   "metadata": {},
   "outputs": [
    {
     "data": {
      "image/png": "[encoded data removed]",
      "text/plain": [
       "<matplotlib.figure.Figure at 0x7fcbe5e85f50>"
      ]
     },
     "metadata": {},
     "output_type": "display_data"
    }
   ],
   "source": [
    "fig = figure(figsize=(10, 10), facecolor='w')\n",
    "ax = axes((0,0,1,1),xticks=[], yticks=[], frameon=False)\n",
    "ax.set_xlim(0, 11)\n",
    "ax.set_ylim(0, 11)\n",
    "\n",
    "patches = [Rectangle((0.5,0.5),9,9, zorder=1, fc='#777777'),\n",
    "           Rectangle((1,1),7.5,7.5, zorder=1, fc='#999999'),\n",
    "           Rectangle((1.5,1.5),6.5,6.3, zorder=1, fc='#AAAAAA'),\n",
    "           Rectangle((2,2),5.5,5, zorder=1, fc='#BBBBBB'),\n",
    "           Rectangle((2.5,2.5),4.5,3.7, zorder=1, fc='#CCCCCC'),\n",
    "           Rectangle((3,3),3.5,2.5, zorder=1, fc='#DDDDDD'),\n",
    "           Rectangle((3.2,3.2),2.3,1.5, zorder=1, fc='#EEEEEE')]\n",
    "\n",
    "for p in patches:\n",
    "    ax.add_patch(p)\n",
    "    \n",
    "text(1, 9, \"All Events\",ha='left', va='center', fontsize=16)\n",
    "text(1.5, 8.1, \"Transient020 (evclass=16)\",ha='left', va='center', fontsize=16)\n",
    "text(1.8, 7.4, \"Transient010 (evclass=64)\",ha='left', va='center', fontsize=16)\n",
    "text(2.3, 6.6, \"Source (evclass=128)\",ha='left', va='center', fontsize=16)\n",
    "text(2.8, 5.8, \"Clean (evclass=256)\",ha='left', va='center', fontsize=16)\n",
    "text(3.2, 5, \"UltraClean (evclass=512)\",ha='left', va='center', fontsize=16)\n",
    "text(3.4, 4, \"UltraCleanVeto\\n(evclass=1024)\",ha='left', va='center', fontsize=16)\n",
    "text(0.5,9.7, \"Not to scale.\",ha='left', va='center', fontsize=16)\n",
    "show()"
   ]
  },
  {
   "cell_type": "markdown",
   "metadata": {},
   "source": [
    "In addition to Event Classes, there are also *Event Types*. There are no recommendations made in the table about which event type to use. This means that filtering on event type is an option available to you, but not necessary for these analyses.\n",
    "\n",
    "Event Types allow you to futher refine your data set, removing events with less desireable characteristics. There are three event types defined in the PASS 8 LAT data:\n",
    "* Front/Back - filters based on where the conversion occurred in the instrument\n",
    "* PSF - Divides the data into four quadriles, based on the quality of the reconstructed direction\n",
    "* EDISP - Divides the data into four quadriles, based on the quality of the reconstructed energy"
   ]
  },
  {
   "cell_type": "markdown",
   "metadata": {},
   "source": [
    "![EventType_hierarchy](images/EventType_hierarchy.png)"
   ]
  },
  {
   "cell_type": "markdown",
   "metadata": {},
   "source": [
    "Both *Event Class* and *Event Type* are bitfields. So to use ALL events for a particular class, you can use an event type value of 3, 60, or 960."
   ]
  },
  {
   "cell_type": "markdown",
   "metadata": {},
   "source": [
    "### What makes up an Instrument Response Function?"
   ]
  },
  {
   "cell_type": "markdown",
   "metadata": {},
   "source": [
    "The best place to get a look at this is the [LAT Performance Page](http://www.slac.stanford.edu/exp/glast/groups/canda/lat_Performance.htm) but you have access to the IRFs if you want to play with them. You can find the IRF files in your conda environment:\n",
    "\n",
    "$CONDA_PREFIX/share/fermitools/refdata/fermi/galdiffuse/\n"
   ]
  },
  {
   "cell_type": "code",
   "execution_count": 16,
   "metadata": {},
   "outputs": [
    {
     "name": "stdout",
     "output_type": "stream",
     "text": [
      "\u001b[0m\u001b[01;32mEGRET_diffuse_cel.fits\u001b[0m*\r\n",
      "\u001b[01;32mEGRET_diffuse_gal.fits\u001b[0m*\r\n",
      "\u001b[01;32mgll_iem_v07.fits\u001b[0m*\r\n",
      "\u001b[01;32mGP_gamma.fits\u001b[0m*\r\n",
      "\u001b[01;32mGP_gamma_v0r0p1.fits\u001b[0m*\r\n",
      "\u001b[01;32miso_clean_back_v05_rev1.txt\u001b[0m*\r\n",
      "\u001b[01;32miso_clean_front_v05_rev1.txt\u001b[0m*\r\n",
      "\u001b[01;32miso_clean_v05_rev1.txt\u001b[0m*\r\n",
      "\u001b[01;32miso_clean_v05.txt\u001b[0m*\r\n",
      "\u001b[01;32miso_p7v6clean.txt\u001b[0m*\r\n",
      "\u001b[01;32miso_p7v6source.txt\u001b[0m*\r\n",
      "\u001b[01;32miso_P8R2_CLEAN_V6_BACK_v06.txt\u001b[0m*\r\n",
      "\u001b[01;32miso_P8R2_CLEAN_V6_EDISP0_v06.txt\u001b[0m*\r\n",
      "\u001b[01;32miso_P8R2_CLEAN_V6_EDISP1_v06.txt\u001b[0m*\r\n",
      "\u001b[01;32miso_P8R2_CLEAN_V6_EDISP2_v06.txt\u001b[0m*\r\n",
      "\u001b[01;32miso_P8R2_CLEAN_V6_EDISP3_v06.txt\u001b[0m*\r\n",
      "\u001b[01;32miso_P8R2_CLEAN_V6_FRONT_v06.txt\u001b[0m*\r\n",
      "\u001b[01;32miso_P8R2_CLEAN_V6_PSF0_v06.txt\u001b[0m*\r\n",
      "\u001b[01;32miso_P8R2_CLEAN_V6_PSF1_v06.txt\u001b[0m*\r\n",
      "\u001b[01;32miso_P8R2_CLEAN_V6_PSF2_v06.txt\u001b[0m*\r\n",
      "\u001b[01;32miso_P8R2_CLEAN_V6_PSF3_v06.txt\u001b[0m*\r\n",
      "\u001b[01;32miso_P8R2_CLEAN_V6_v06.txt\u001b[0m*\r\n",
      "\u001b[01;32miso_P8R2_SOURCE_V6_BACK_v06.txt\u001b[0m*\r\n",
      "\u001b[01;32miso_P8R2_SOURCE_V6_EDISP0_v06.txt\u001b[0m*\r\n",
      "\u001b[01;32miso_P8R2_SOURCE_V6_EDISP1_v06.txt\u001b[0m*\r\n",
      "\u001b[01;32miso_P8R2_SOURCE_V6_EDISP2_v06.txt\u001b[0m*\r\n",
      "\u001b[01;32miso_P8R2_SOURCE_V6_EDISP3_v06.txt\u001b[0m*\r\n",
      "\u001b[01;32miso_P8R2_SOURCE_V6_FRONT_v06.txt\u001b[0m*\r\n",
      "\u001b[01;32miso_P8R2_SOURCE_V6_PSF0_v06.txt\u001b[0m*\r\n",
      "\u001b[01;32miso_P8R2_SOURCE_V6_PSF1_v06.txt\u001b[0m*\r\n",
      "\u001b[01;32miso_P8R2_SOURCE_V6_PSF2_v06.txt\u001b[0m*\r\n",
      "\u001b[01;32miso_P8R2_SOURCE_V6_PSF3_v06.txt\u001b[0m*\r\n",
      "\u001b[01;32miso_P8R2_SOURCE_V6_v06.txt\u001b[0m*\r\n",
      "\u001b[01;32miso_P8R2_TRANSIENT010E_V6_BACK_v06.txt\u001b[0m*\r\n",
      "\u001b[01;32miso_P8R2_TRANSIENT010E_V6_EDISP0_v06.txt\u001b[0m*\r\n",
      "\u001b[01;32miso_P8R2_TRANSIENT010E_V6_EDISP1_v06.txt\u001b[0m*\r\n",
      "\u001b[01;32miso_P8R2_TRANSIENT010E_V6_EDISP2_v06.txt\u001b[0m*\r\n",
      "\u001b[01;32miso_P8R2_TRANSIENT010E_V6_EDISP3_v06.txt\u001b[0m*\r\n",
      "\u001b[01;32miso_P8R2_TRANSIENT010E_V6_FRONT_v06.txt\u001b[0m*\r\n",
      "\u001b[01;32miso_P8R2_TRANSIENT010E_V6_PSF0_v06.txt\u001b[0m*\r\n",
      "\u001b[01;32miso_P8R2_TRANSIENT010E_V6_PSF1_v06.txt\u001b[0m*\r\n",
      "\u001b[01;32miso_P8R2_TRANSIENT010E_V6_PSF2_v06.txt\u001b[0m*\r\n",
      "\u001b[01;32miso_P8R2_TRANSIENT010E_V6_PSF3_v06.txt\u001b[0m*\r\n",
      "\u001b[01;32miso_P8R2_TRANSIENT010E_V6_v06.txt\u001b[0m*\r\n",
      "\u001b[01;32miso_P8R2_TRANSIENT010_V6_BACK_v06.txt\u001b[0m*\r\n",
      "\u001b[01;32miso_P8R2_TRANSIENT010_V6_EDISP0_v06.txt\u001b[0m*\r\n",
      "\u001b[01;32miso_P8R2_TRANSIENT010_V6_EDISP1_v06.txt\u001b[0m*\r\n",
      "\u001b[01;32miso_P8R2_TRANSIENT010_V6_EDISP2_v06.txt\u001b[0m*\r\n",
      "\u001b[01;32miso_P8R2_TRANSIENT010_V6_EDISP3_v06.txt\u001b[0m*\r\n",
      "\u001b[01;32miso_P8R2_TRANSIENT010_V6_FRONT_v06.txt\u001b[0m*\r\n",
      "\u001b[01;32miso_P8R2_TRANSIENT010_V6_PSF0_v06.txt\u001b[0m*\r\n",
      "\u001b[01;32miso_P8R2_TRANSIENT010_V6_PSF1_v06.txt\u001b[0m*\r\n",
      "\u001b[01;32miso_P8R2_TRANSIENT010_V6_PSF2_v06.txt\u001b[0m*\r\n",
      "\u001b[01;32miso_P8R2_TRANSIENT010_V6_PSF3_v06.txt\u001b[0m*\r\n",
      "\u001b[01;32miso_P8R2_TRANSIENT010_V6_v06.txt\u001b[0m*\r\n",
      "\u001b[01;32miso_P8R2_TRANSIENT015S_V6_BACK_v06.txt\u001b[0m*\r\n",
      "\u001b[01;32miso_P8R2_TRANSIENT015S_V6_EDISP0_v06.txt\u001b[0m*\r\n",
      "\u001b[01;32miso_P8R2_TRANSIENT015S_V6_EDISP1_v06.txt\u001b[0m*\r\n",
      "\u001b[01;32miso_P8R2_TRANSIENT015S_V6_EDISP2_v06.txt\u001b[0m*\r\n",
      "\u001b[01;32miso_P8R2_TRANSIENT015S_V6_EDISP3_v06.txt\u001b[0m*\r\n",
      "\u001b[01;32miso_P8R2_TRANSIENT015S_V6_FRONT_v06.txt\u001b[0m*\r\n",
      "\u001b[01;32miso_P8R2_TRANSIENT015S_V6_PSF0_v06.txt\u001b[0m*\r\n",
      "\u001b[01;32miso_P8R2_TRANSIENT015S_V6_PSF1_v06.txt\u001b[0m*\r\n",
      "\u001b[01;32miso_P8R2_TRANSIENT015S_V6_PSF2_v06.txt\u001b[0m*\r\n",
      "\u001b[01;32miso_P8R2_TRANSIENT015S_V6_PSF3_v06.txt\u001b[0m*\r\n",
      "\u001b[01;32miso_P8R2_TRANSIENT015S_V6_v06.txt\u001b[0m*\r\n",
      "\u001b[01;32miso_P8R2_TRANSIENT020E_V6_BACK_v06.txt\u001b[0m*\r\n",
      "\u001b[01;32miso_P8R2_TRANSIENT020E_V6_EDISP0_v06.txt\u001b[0m*\r\n",
      "\u001b[01;32miso_P8R2_TRANSIENT020E_V6_EDISP1_v06.txt\u001b[0m*\r\n",
      "\u001b[01;32miso_P8R2_TRANSIENT020E_V6_EDISP2_v06.txt\u001b[0m*\r\n",
      "\u001b[01;32miso_P8R2_TRANSIENT020E_V6_EDISP3_v06.txt\u001b[0m*\r\n",
      "\u001b[01;32miso_P8R2_TRANSIENT020E_V6_FRONT_v06.txt\u001b[0m*\r\n",
      "\u001b[01;32miso_P8R2_TRANSIENT020E_V6_PSF0_v06.txt\u001b[0m*\r\n",
      "\u001b[01;32miso_P8R2_TRANSIENT020E_V6_PSF1_v06.txt\u001b[0m*\r\n",
      "\u001b[01;32miso_P8R2_TRANSIENT020E_V6_PSF2_v06.txt\u001b[0m*\r\n",
      "\u001b[01;32miso_P8R2_TRANSIENT020E_V6_PSF3_v06.txt\u001b[0m*\r\n",
      "\u001b[01;32miso_P8R2_TRANSIENT020E_V6_v06.txt\u001b[0m*\r\n",
      "\u001b[01;32miso_P8R2_TRANSIENT020_V6_BACK_v06.txt\u001b[0m*\r\n",
      "\u001b[01;32miso_P8R2_TRANSIENT020_V6_EDISP0_v06.txt\u001b[0m*\r\n",
      "\u001b[01;32miso_P8R2_TRANSIENT020_V6_EDISP1_v06.txt\u001b[0m*\r\n",
      "\u001b[01;32miso_P8R2_TRANSIENT020_V6_EDISP2_v06.txt\u001b[0m*\r\n",
      "\u001b[01;32miso_P8R2_TRANSIENT020_V6_EDISP3_v06.txt\u001b[0m*\r\n",
      "\u001b[01;32miso_P8R2_TRANSIENT020_V6_FRONT_v06.txt\u001b[0m*\r\n",
      "\u001b[01;32miso_P8R2_TRANSIENT020_V6_PSF0_v06.txt\u001b[0m*\r\n",
      "\u001b[01;32miso_P8R2_TRANSIENT020_V6_PSF1_v06.txt\u001b[0m*\r\n",
      "\u001b[01;32miso_P8R2_TRANSIENT020_V6_PSF2_v06.txt\u001b[0m*\r\n",
      "\u001b[01;32miso_P8R2_TRANSIENT020_V6_PSF3_v06.txt\u001b[0m*\r\n",
      "\u001b[01;32miso_P8R2_TRANSIENT020_V6_v06.txt\u001b[0m*\r\n",
      "\u001b[01;32miso_P8R2_ULTRACLEAN_V6_BACK_v06.txt\u001b[0m*\r\n",
      "\u001b[01;32miso_P8R2_ULTRACLEAN_V6_EDISP0_v06.txt\u001b[0m*\r\n",
      "\u001b[01;32miso_P8R2_ULTRACLEAN_V6_EDISP1_v06.txt\u001b[0m*\r\n",
      "\u001b[01;32miso_P8R2_ULTRACLEAN_V6_EDISP2_v06.txt\u001b[0m*\r\n",
      "\u001b[01;32miso_P8R2_ULTRACLEAN_V6_EDISP3_v06.txt\u001b[0m*\r\n",
      "\u001b[01;32miso_P8R2_ULTRACLEAN_V6_FRONT_v06.txt\u001b[0m*\r\n",
      "\u001b[01;32miso_P8R2_ULTRACLEAN_V6_PSF0_v06.txt\u001b[0m*\r\n",
      "\u001b[01;32miso_P8R2_ULTRACLEAN_V6_PSF1_v06.txt\u001b[0m*\r\n",
      "\u001b[01;32miso_P8R2_ULTRACLEAN_V6_PSF2_v06.txt\u001b[0m*\r\n",
      "\u001b[01;32miso_P8R2_ULTRACLEAN_V6_PSF3_v06.txt\u001b[0m*\r\n",
      "\u001b[01;32miso_P8R2_ULTRACLEAN_V6_v06.txt\u001b[0m*\r\n",
      "\u001b[01;32miso_P8R2_ULTRACLEANVETO_V6_BACK_v06.txt\u001b[0m*\r\n",
      "\u001b[01;32miso_P8R2_ULTRACLEANVETO_V6_EDISP0_v06.txt\u001b[0m*\r\n",
      "\u001b[01;32miso_P8R2_ULTRACLEANVETO_V6_EDISP1_v06.txt\u001b[0m*\r\n",
      "\u001b[01;32miso_P8R2_ULTRACLEANVETO_V6_EDISP2_v06.txt\u001b[0m*\r\n",
      "\u001b[01;32miso_P8R2_ULTRACLEANVETO_V6_EDISP3_v06.txt\u001b[0m*\r\n",
      "\u001b[01;32miso_P8R2_ULTRACLEANVETO_V6_FRONT_v06.txt\u001b[0m*\r\n",
      "\u001b[01;32miso_P8R2_ULTRACLEANVETO_V6_PSF0_v06.txt\u001b[0m*\r\n",
      "\u001b[01;32miso_P8R2_ULTRACLEANVETO_V6_PSF1_v06.txt\u001b[0m*\r\n",
      "\u001b[01;32miso_P8R2_ULTRACLEANVETO_V6_PSF2_v06.txt\u001b[0m*\r\n",
      "\u001b[01;32miso_P8R2_ULTRACLEANVETO_V6_PSF3_v06.txt\u001b[0m*\r\n",
      "\u001b[01;32miso_P8R2_ULTRACLEANVETO_V6_v06.txt\u001b[0m*\r\n",
      "\u001b[01;32miso_P8R3_CLEAN_BACK_V2.txt\u001b[0m*\r\n",
      "\u001b[01;32miso_P8R3_CLEAN_EDISP0_V2.txt\u001b[0m*\r\n",
      "\u001b[01;32miso_P8R3_CLEAN_EDISP1_V2.txt\u001b[0m*\r\n",
      "\u001b[01;32miso_P8R3_CLEAN_EDISP2_V2.txt\u001b[0m*\r\n",
      "\u001b[01;32miso_P8R3_CLEAN_EDISP3_V2.txt\u001b[0m*\r\n",
      "\u001b[01;32miso_P8R3_CLEAN_FRONT_V2.txt\u001b[0m*\r\n",
      "\u001b[01;32miso_P8R3_CLEAN_PSF0_V2.txt\u001b[0m*\r\n",
      "\u001b[01;32miso_P8R3_CLEAN_PSF1_V2.txt\u001b[0m*\r\n",
      "\u001b[01;32miso_P8R3_CLEAN_PSF2_V2.txt\u001b[0m*\r\n",
      "\u001b[01;32miso_P8R3_CLEAN_PSF3_V2.txt\u001b[0m*\r\n",
      "\u001b[01;32miso_P8R3_CLEAN_V2_BACK_v1.txt\u001b[0m*\r\n",
      "\u001b[01;32miso_P8R3_CLEAN_V2_EDISP0_v1.txt\u001b[0m*\r\n",
      "\u001b[01;32miso_P8R3_CLEAN_V2_EDISP1_v1.txt\u001b[0m*\r\n",
      "\u001b[01;32miso_P8R3_CLEAN_V2_EDISP2_v1.txt\u001b[0m*\r\n",
      "\u001b[01;32miso_P8R3_CLEAN_V2_EDISP3_v1.txt\u001b[0m*\r\n",
      "\u001b[01;32miso_P8R3_CLEAN_V2_FRONT_v1.txt\u001b[0m*\r\n",
      "\u001b[01;32miso_P8R3_CLEAN_V2_PSF0_v1.txt\u001b[0m*\r\n",
      "\u001b[01;32miso_P8R3_CLEAN_V2_PSF1_v1.txt\u001b[0m*\r\n",
      "\u001b[01;32miso_P8R3_CLEAN_V2_PSF2_v1.txt\u001b[0m*\r\n",
      "\u001b[01;32miso_P8R3_CLEAN_V2_PSF3_v1.txt\u001b[0m*\r\n",
      "\u001b[01;32miso_P8R3_CLEAN_V2.txt\u001b[0m*\r\n",
      "\u001b[01;32miso_P8R3_CLEAN_V2_v1.txt\u001b[0m*\r\n",
      "\u001b[01;32miso_P8R3_SOURCE_BACK_V2.txt\u001b[0m*\r\n",
      "\u001b[01;32miso_P8R3_SOURCE_EDISP0_V2.txt\u001b[0m*\r\n",
      "\u001b[01;32miso_P8R3_SOURCE_EDISP1_V2.txt\u001b[0m*\r\n",
      "\u001b[01;32miso_P8R3_SOURCE_EDISP2_V2.txt\u001b[0m*\r\n",
      "\u001b[01;32miso_P8R3_SOURCE_EDISP3_V2.txt\u001b[0m*\r\n",
      "\u001b[01;32miso_P8R3_SOURCE_FRONT_V2.txt\u001b[0m*\r\n",
      "\u001b[01;32miso_P8R3_SOURCE_PSF0_V2.txt\u001b[0m*\r\n",
      "\u001b[01;32miso_P8R3_SOURCE_PSF1_V2.txt\u001b[0m*\r\n",
      "\u001b[01;32miso_P8R3_SOURCE_PSF2_V2.txt\u001b[0m*\r\n",
      "\u001b[01;32miso_P8R3_SOURCE_PSF3_V2.txt\u001b[0m*\r\n",
      "\u001b[01;32miso_P8R3_SOURCE_V2_BACK_v1.txt\u001b[0m*\r\n",
      "\u001b[01;32miso_P8R3_SOURCE_V2_EDISP0_v1.txt\u001b[0m*\r\n",
      "\u001b[01;32miso_P8R3_SOURCE_V2_EDISP1_v1.txt\u001b[0m*\r\n",
      "\u001b[01;32miso_P8R3_SOURCE_V2_EDISP2_v1.txt\u001b[0m*\r\n",
      "\u001b[01;32miso_P8R3_SOURCE_V2_EDISP3_v1.txt\u001b[0m*\r\n",
      "\u001b[01;32miso_P8R3_SOURCE_V2_FRONT_v1.txt\u001b[0m*\r\n",
      "\u001b[01;32miso_P8R3_SOURCE_V2_PSF0_v1.txt\u001b[0m*\r\n",
      "\u001b[01;32miso_P8R3_SOURCE_V2_PSF1_v1.txt\u001b[0m*\r\n",
      "\u001b[01;32miso_P8R3_SOURCE_V2_PSF2_v1.txt\u001b[0m*\r\n",
      "\u001b[01;32miso_P8R3_SOURCE_V2_PSF3_v1.txt\u001b[0m*\r\n",
      "\u001b[01;32miso_P8R3_SOURCE_V2.txt\u001b[0m*\r\n",
      "\u001b[01;32miso_P8R3_SOURCE_V2_v1.txt\u001b[0m*\r\n",
      "\u001b[01;32miso_P8R3_SOURCEVETO_BACK_V2.txt\u001b[0m*\r\n",
      "\u001b[01;32miso_P8R3_SOURCEVETO_EDISP0_V2.txt\u001b[0m*\r\n",
      "\u001b[01;32miso_P8R3_SOURCEVETO_EDISP1_V2.txt\u001b[0m*\r\n",
      "\u001b[01;32miso_P8R3_SOURCEVETO_EDISP2_V2.txt\u001b[0m*\r\n",
      "\u001b[01;32miso_P8R3_SOURCEVETO_EDISP3_V2.txt\u001b[0m*\r\n",
      "\u001b[01;32miso_P8R3_SOURCEVETO_FRONT_V2.txt\u001b[0m*\r\n",
      "\u001b[01;32miso_P8R3_SOURCEVETO_PSF0_V2.txt\u001b[0m*\r\n",
      "\u001b[01;32miso_P8R3_SOURCEVETO_PSF1_V2.txt\u001b[0m*\r\n",
      "\u001b[01;32miso_P8R3_SOURCEVETO_PSF2_V2.txt\u001b[0m*\r\n",
      "\u001b[01;32miso_P8R3_SOURCEVETO_PSF3_V2.txt\u001b[0m*\r\n",
      "\u001b[01;32miso_P8R3_SOURCEVETO_V2_BACK_v1.txt\u001b[0m*\r\n",
      "\u001b[01;32miso_P8R3_SOURCEVETO_V2_EDISP0_v1.txt\u001b[0m*\r\n",
      "\u001b[01;32miso_P8R3_SOURCEVETO_V2_EDISP1_v1.txt\u001b[0m*\r\n",
      "\u001b[01;32miso_P8R3_SOURCEVETO_V2_EDISP2_v1.txt\u001b[0m*\r\n",
      "\u001b[01;32miso_P8R3_SOURCEVETO_V2_EDISP3_v1.txt\u001b[0m*\r\n",
      "\u001b[01;32miso_P8R3_SOURCEVETO_V2_FRONT_v1.txt\u001b[0m*\r\n",
      "\u001b[01;32miso_P8R3_SOURCEVETO_V2_PSF0_v1.txt\u001b[0m*\r\n",
      "\u001b[01;32miso_P8R3_SOURCEVETO_V2_PSF1_v1.txt\u001b[0m*\r\n",
      "\u001b[01;32miso_P8R3_SOURCEVETO_V2_PSF2_v1.txt\u001b[0m*\r\n",
      "\u001b[01;32miso_P8R3_SOURCEVETO_V2_PSF3_v1.txt\u001b[0m*\r\n",
      "\u001b[01;32miso_P8R3_SOURCEVETO_V2.txt\u001b[0m*\r\n",
      "\u001b[01;32miso_P8R3_SOURCEVETO_V2_v1.txt\u001b[0m*\r\n",
      "\u001b[01;32miso_P8R3_TRANSIENT010_BACK_V2.txt\u001b[0m*\r\n",
      "\u001b[01;32miso_P8R3_TRANSIENT010E_BACK_V2.txt\u001b[0m*\r\n",
      "\u001b[01;32miso_P8R3_TRANSIENT010_EDISP0_V2.txt\u001b[0m*\r\n",
      "\u001b[01;32miso_P8R3_TRANSIENT010_EDISP1_V2.txt\u001b[0m*\r\n",
      "\u001b[01;32miso_P8R3_TRANSIENT010_EDISP2_V2.txt\u001b[0m*\r\n",
      "\u001b[01;32miso_P8R3_TRANSIENT010_EDISP3_V2.txt\u001b[0m*\r\n",
      "\u001b[01;32miso_P8R3_TRANSIENT010E_EDISP0_V2.txt\u001b[0m*\r\n",
      "\u001b[01;32miso_P8R3_TRANSIENT010E_EDISP1_V2.txt\u001b[0m*\r\n",
      "\u001b[01;32miso_P8R3_TRANSIENT010E_EDISP2_V2.txt\u001b[0m*\r\n",
      "\u001b[01;32miso_P8R3_TRANSIENT010E_EDISP3_V2.txt\u001b[0m*\r\n",
      "\u001b[01;32miso_P8R3_TRANSIENT010E_FRONT_V2.txt\u001b[0m*\r\n",
      "\u001b[01;32miso_P8R3_TRANSIENT010E_PSF0_V2.txt\u001b[0m*\r\n",
      "\u001b[01;32miso_P8R3_TRANSIENT010E_PSF1_V2.txt\u001b[0m*\r\n",
      "\u001b[01;32miso_P8R3_TRANSIENT010E_PSF2_V2.txt\u001b[0m*\r\n",
      "\u001b[01;32miso_P8R3_TRANSIENT010E_PSF3_V2.txt\u001b[0m*\r\n",
      "\u001b[01;32miso_P8R3_TRANSIENT010E_V2_BACK_v1.txt\u001b[0m*\r\n",
      "\u001b[01;32miso_P8R3_TRANSIENT010E_V2_EDISP0_v1.txt\u001b[0m*\r\n",
      "\u001b[01;32miso_P8R3_TRANSIENT010E_V2_EDISP1_v1.txt\u001b[0m*\r\n",
      "\u001b[01;32miso_P8R3_TRANSIENT010E_V2_EDISP2_v1.txt\u001b[0m*\r\n",
      "\u001b[01;32miso_P8R3_TRANSIENT010E_V2_EDISP3_v1.txt\u001b[0m*\r\n",
      "\u001b[01;32miso_P8R3_TRANSIENT010E_V2_FRONT_v1.txt\u001b[0m*\r\n",
      "\u001b[01;32miso_P8R3_TRANSIENT010E_V2_PSF0_v1.txt\u001b[0m*\r\n",
      "\u001b[01;32miso_P8R3_TRANSIENT010E_V2_PSF1_v1.txt\u001b[0m*\r\n",
      "\u001b[01;32miso_P8R3_TRANSIENT010E_V2_PSF2_v1.txt\u001b[0m*\r\n",
      "\u001b[01;32miso_P8R3_TRANSIENT010E_V2_PSF3_v1.txt\u001b[0m*\r\n",
      "\u001b[01;32miso_P8R3_TRANSIENT010E_V2.txt\u001b[0m*\r\n",
      "\u001b[01;32miso_P8R3_TRANSIENT010E_V2_v1.txt\u001b[0m*\r\n",
      "\u001b[01;32miso_P8R3_TRANSIENT010_FRONT_V2.txt\u001b[0m*\r\n",
      "\u001b[01;32miso_P8R3_TRANSIENT010_PSF0_V2.txt\u001b[0m*\r\n",
      "\u001b[01;32miso_P8R3_TRANSIENT010_PSF1_V2.txt\u001b[0m*\r\n",
      "\u001b[01;32miso_P8R3_TRANSIENT010_PSF2_V2.txt\u001b[0m*\r\n",
      "\u001b[01;32miso_P8R3_TRANSIENT010_PSF3_V2.txt\u001b[0m*\r\n",
      "\u001b[01;32miso_P8R3_TRANSIENT010_V2_BACK_v1.txt\u001b[0m*\r\n",
      "\u001b[01;32miso_P8R3_TRANSIENT010_V2_EDISP0_v1.txt\u001b[0m*\r\n",
      "\u001b[01;32miso_P8R3_TRANSIENT010_V2_EDISP1_v1.txt\u001b[0m*\r\n",
      "\u001b[01;32miso_P8R3_TRANSIENT010_V2_EDISP2_v1.txt\u001b[0m*\r\n",
      "\u001b[01;32miso_P8R3_TRANSIENT010_V2_EDISP3_v1.txt\u001b[0m*\r\n",
      "\u001b[01;32miso_P8R3_TRANSIENT010_V2_FRONT_v1.txt\u001b[0m*\r\n",
      "\u001b[01;32miso_P8R3_TRANSIENT010_V2_PSF0_v1.txt\u001b[0m*\r\n",
      "\u001b[01;32miso_P8R3_TRANSIENT010_V2_PSF1_v1.txt\u001b[0m*\r\n",
      "\u001b[01;32miso_P8R3_TRANSIENT010_V2_PSF2_v1.txt\u001b[0m*\r\n",
      "\u001b[01;32miso_P8R3_TRANSIENT010_V2_PSF3_v1.txt\u001b[0m*\r\n",
      "\u001b[01;32miso_P8R3_TRANSIENT010_V2.txt\u001b[0m*\r\n",
      "\u001b[01;32miso_P8R3_TRANSIENT010_V2_v1.txt\u001b[0m*\r\n",
      "\u001b[01;32miso_P8R3_TRANSIENT015S_BACK_V2.txt\u001b[0m*\r\n",
      "\u001b[01;32miso_P8R3_TRANSIENT015S_EDISP0_V2.txt\u001b[0m*\r\n",
      "\u001b[01;32miso_P8R3_TRANSIENT015S_EDISP1_V2.txt\u001b[0m*\r\n",
      "\u001b[01;32miso_P8R3_TRANSIENT015S_EDISP2_V2.txt\u001b[0m*\r\n",
      "\u001b[01;32miso_P8R3_TRANSIENT015S_EDISP3_V2.txt\u001b[0m*\r\n",
      "\u001b[01;32miso_P8R3_TRANSIENT015S_FRONT_V2.txt\u001b[0m*\r\n",
      "\u001b[01;32miso_P8R3_TRANSIENT015S_PSF0_V2.txt\u001b[0m*\r\n",
      "\u001b[01;32miso_P8R3_TRANSIENT015S_PSF1_V2.txt\u001b[0m*\r\n",
      "\u001b[01;32miso_P8R3_TRANSIENT015S_PSF2_V2.txt\u001b[0m*\r\n",
      "\u001b[01;32miso_P8R3_TRANSIENT015S_PSF3_V2.txt\u001b[0m*\r\n",
      "\u001b[01;32miso_P8R3_TRANSIENT015S_V2_BACK_v1.txt\u001b[0m*\r\n",
      "\u001b[01;32miso_P8R3_TRANSIENT015S_V2_EDISP0_v1.txt\u001b[0m*\r\n",
      "\u001b[01;32miso_P8R3_TRANSIENT015S_V2_EDISP1_v1.txt\u001b[0m*\r\n",
      "\u001b[01;32miso_P8R3_TRANSIENT015S_V2_EDISP2_v1.txt\u001b[0m*\r\n",
      "\u001b[01;32miso_P8R3_TRANSIENT015S_V2_EDISP3_v1.txt\u001b[0m*\r\n",
      "\u001b[01;32miso_P8R3_TRANSIENT015S_V2_FRONT_v1.txt\u001b[0m*\r\n",
      "\u001b[01;32miso_P8R3_TRANSIENT015S_V2_PSF0_v1.txt\u001b[0m*\r\n",
      "\u001b[01;32miso_P8R3_TRANSIENT015S_V2_PSF1_v1.txt\u001b[0m*\r\n",
      "\u001b[01;32miso_P8R3_TRANSIENT015S_V2_PSF2_v1.txt\u001b[0m*\r\n",
      "\u001b[01;32miso_P8R3_TRANSIENT015S_V2_PSF3_v1.txt\u001b[0m*\r\n",
      "\u001b[01;32miso_P8R3_TRANSIENT015S_V2.txt\u001b[0m*\r\n",
      "\u001b[01;32miso_P8R3_TRANSIENT015S_V2_v1.txt\u001b[0m*\r\n",
      "\u001b[01;32miso_P8R3_TRANSIENT020_BACK_V2.txt\u001b[0m*\r\n",
      "\u001b[01;32miso_P8R3_TRANSIENT020E_BACK_V2.txt\u001b[0m*\r\n",
      "\u001b[01;32miso_P8R3_TRANSIENT020_EDISP0_V2.txt\u001b[0m*\r\n",
      "\u001b[01;32miso_P8R3_TRANSIENT020_EDISP1_V2.txt\u001b[0m*\r\n",
      "\u001b[01;32miso_P8R3_TRANSIENT020_EDISP2_V2.txt\u001b[0m*\r\n",
      "\u001b[01;32miso_P8R3_TRANSIENT020_EDISP3_V2.txt\u001b[0m*\r\n",
      "\u001b[01;32miso_P8R3_TRANSIENT020E_EDISP0_V2.txt\u001b[0m*\r\n",
      "\u001b[01;32miso_P8R3_TRANSIENT020E_EDISP1_V2.txt\u001b[0m*\r\n",
      "\u001b[01;32miso_P8R3_TRANSIENT020E_EDISP2_V2.txt\u001b[0m*\r\n",
      "\u001b[01;32miso_P8R3_TRANSIENT020E_EDISP3_V2.txt\u001b[0m*\r\n",
      "\u001b[01;32miso_P8R3_TRANSIENT020E_FRONT_V2.txt\u001b[0m*\r\n",
      "\u001b[01;32miso_P8R3_TRANSIENT020E_PSF0_V2.txt\u001b[0m*\r\n",
      "\u001b[01;32miso_P8R3_TRANSIENT020E_PSF1_V2.txt\u001b[0m*\r\n",
      "\u001b[01;32miso_P8R3_TRANSIENT020E_PSF2_V2.txt\u001b[0m*\r\n",
      "\u001b[01;32miso_P8R3_TRANSIENT020E_PSF3_V2.txt\u001b[0m*\r\n",
      "\u001b[01;32miso_P8R3_TRANSIENT020E_V2_BACK_v1.txt\u001b[0m*\r\n",
      "\u001b[01;32miso_P8R3_TRANSIENT020E_V2_EDISP0_v1.txt\u001b[0m*\r\n",
      "\u001b[01;32miso_P8R3_TRANSIENT020E_V2_EDISP1_v1.txt\u001b[0m*\r\n",
      "\u001b[01;32miso_P8R3_TRANSIENT020E_V2_EDISP2_v1.txt\u001b[0m*\r\n",
      "\u001b[01;32miso_P8R3_TRANSIENT020E_V2_EDISP3_v1.txt\u001b[0m*\r\n",
      "\u001b[01;32miso_P8R3_TRANSIENT020E_V2_FRONT_v1.txt\u001b[0m*\r\n",
      "\u001b[01;32miso_P8R3_TRANSIENT020E_V2_PSF0_v1.txt\u001b[0m*\r\n",
      "\u001b[01;32miso_P8R3_TRANSIENT020E_V2_PSF1_v1.txt\u001b[0m*\r\n",
      "\u001b[01;32miso_P8R3_TRANSIENT020E_V2_PSF2_v1.txt\u001b[0m*\r\n",
      "\u001b[01;32miso_P8R3_TRANSIENT020E_V2_PSF3_v1.txt\u001b[0m*\r\n",
      "\u001b[01;32miso_P8R3_TRANSIENT020E_V2.txt\u001b[0m*\r\n",
      "\u001b[01;32miso_P8R3_TRANSIENT020E_V2_v1.txt\u001b[0m*\r\n",
      "\u001b[01;32miso_P8R3_TRANSIENT020_FRONT_V2.txt\u001b[0m*\r\n",
      "\u001b[01;32miso_P8R3_TRANSIENT020_PSF0_V2.txt\u001b[0m*\r\n",
      "\u001b[01;32miso_P8R3_TRANSIENT020_PSF1_V2.txt\u001b[0m*\r\n",
      "\u001b[01;32miso_P8R3_TRANSIENT020_PSF2_V2.txt\u001b[0m*\r\n",
      "\u001b[01;32miso_P8R3_TRANSIENT020_PSF3_V2.txt\u001b[0m*\r\n",
      "\u001b[01;32miso_P8R3_TRANSIENT020_V2_BACK_v1.txt\u001b[0m*\r\n",
      "\u001b[01;32miso_P8R3_TRANSIENT020_V2_EDISP0_v1.txt\u001b[0m*\r\n",
      "\u001b[01;32miso_P8R3_TRANSIENT020_V2_EDISP1_v1.txt\u001b[0m*\r\n",
      "\u001b[01;32miso_P8R3_TRANSIENT020_V2_EDISP2_v1.txt\u001b[0m*\r\n",
      "\u001b[01;32miso_P8R3_TRANSIENT020_V2_EDISP3_v1.txt\u001b[0m*\r\n",
      "\u001b[01;32miso_P8R3_TRANSIENT020_V2_FRONT_v1.txt\u001b[0m*\r\n",
      "\u001b[01;32miso_P8R3_TRANSIENT020_V2_PSF0_v1.txt\u001b[0m*\r\n",
      "\u001b[01;32miso_P8R3_TRANSIENT020_V2_PSF1_v1.txt\u001b[0m*\r\n",
      "\u001b[01;32miso_P8R3_TRANSIENT020_V2_PSF2_v1.txt\u001b[0m*\r\n",
      "\u001b[01;32miso_P8R3_TRANSIENT020_V2_PSF3_v1.txt\u001b[0m*\r\n",
      "\u001b[01;32miso_P8R3_TRANSIENT020_V2.txt\u001b[0m*\r\n",
      "\u001b[01;32miso_P8R3_TRANSIENT020_V2_v1.txt\u001b[0m*\r\n",
      "\u001b[01;32miso_P8R3_ULTRACLEAN_BACK_V2.txt\u001b[0m*\r\n",
      "\u001b[01;32miso_P8R3_ULTRACLEAN_EDISP0_V2.txt\u001b[0m*\r\n",
      "\u001b[01;32miso_P8R3_ULTRACLEAN_EDISP1_V2.txt\u001b[0m*\r\n",
      "\u001b[01;32miso_P8R3_ULTRACLEAN_EDISP2_V2.txt\u001b[0m*\r\n",
      "\u001b[01;32miso_P8R3_ULTRACLEAN_EDISP3_V2.txt\u001b[0m*\r\n",
      "\u001b[01;32miso_P8R3_ULTRACLEAN_FRONT_V2.txt\u001b[0m*\r\n",
      "\u001b[01;32miso_P8R3_ULTRACLEAN_PSF0_V2.txt\u001b[0m*\r\n",
      "\u001b[01;32miso_P8R3_ULTRACLEAN_PSF1_V2.txt\u001b[0m*\r\n",
      "\u001b[01;32miso_P8R3_ULTRACLEAN_PSF2_V2.txt\u001b[0m*\r\n",
      "\u001b[01;32miso_P8R3_ULTRACLEAN_PSF3_V2.txt\u001b[0m*\r\n",
      "\u001b[01;32miso_P8R3_ULTRACLEAN_V2_BACK_v1.txt\u001b[0m*\r\n",
      "\u001b[01;32miso_P8R3_ULTRACLEAN_V2_EDISP0_v1.txt\u001b[0m*\r\n",
      "\u001b[01;32miso_P8R3_ULTRACLEAN_V2_EDISP1_v1.txt\u001b[0m*\r\n",
      "\u001b[01;32miso_P8R3_ULTRACLEAN_V2_EDISP2_v1.txt\u001b[0m*\r\n",
      "\u001b[01;32miso_P8R3_ULTRACLEAN_V2_EDISP3_v1.txt\u001b[0m*\r\n",
      "\u001b[01;32miso_P8R3_ULTRACLEAN_V2_FRONT_v1.txt\u001b[0m*\r\n",
      "\u001b[01;32miso_P8R3_ULTRACLEAN_V2_PSF0_v1.txt\u001b[0m*\r\n",
      "\u001b[01;32miso_P8R3_ULTRACLEAN_V2_PSF1_v1.txt\u001b[0m*\r\n",
      "\u001b[01;32miso_P8R3_ULTRACLEAN_V2_PSF2_v1.txt\u001b[0m*\r\n",
      "\u001b[01;32miso_P8R3_ULTRACLEAN_V2_PSF3_v1.txt\u001b[0m*\r\n",
      "\u001b[01;32miso_P8R3_ULTRACLEAN_V2.txt\u001b[0m*\r\n",
      "\u001b[01;32miso_P8R3_ULTRACLEAN_V2_v1.txt\u001b[0m*\r\n",
      "\u001b[01;32miso_P8R3_ULTRACLEANVETO_BACK_V2.txt\u001b[0m*\r\n",
      "\u001b[01;32miso_P8R3_ULTRACLEANVETO_EDISP0_V2.txt\u001b[0m*\r\n",
      "\u001b[01;32miso_P8R3_ULTRACLEANVETO_EDISP1_V2.txt\u001b[0m*\r\n",
      "\u001b[01;32miso_P8R3_ULTRACLEANVETO_EDISP2_V2.txt\u001b[0m*\r\n",
      "\u001b[01;32miso_P8R3_ULTRACLEANVETO_EDISP3_V2.txt\u001b[0m*\r\n",
      "\u001b[01;32miso_P8R3_ULTRACLEANVETO_FRONT_V2.txt\u001b[0m*\r\n",
      "\u001b[01;32miso_P8R3_ULTRACLEANVETO_PSF0_V2.txt\u001b[0m*\r\n",
      "\u001b[01;32miso_P8R3_ULTRACLEANVETO_PSF1_V2.txt\u001b[0m*\r\n",
      "\u001b[01;32miso_P8R3_ULTRACLEANVETO_PSF2_V2.txt\u001b[0m*\r\n",
      "\u001b[01;32miso_P8R3_ULTRACLEANVETO_PSF3_V2.txt\u001b[0m*\r\n",
      "\u001b[01;32miso_P8R3_ULTRACLEANVETO_V2_BACK_v1.txt\u001b[0m*\r\n",
      "\u001b[01;32miso_P8R3_ULTRACLEANVETO_V2_EDISP0_v1.txt\u001b[0m*\r\n",
      "\u001b[01;32miso_P8R3_ULTRACLEANVETO_V2_EDISP1_v1.txt\u001b[0m*\r\n",
      "\u001b[01;32miso_P8R3_ULTRACLEANVETO_V2_EDISP2_v1.txt\u001b[0m*\r\n",
      "\u001b[01;32miso_P8R3_ULTRACLEANVETO_V2_EDISP3_v1.txt\u001b[0m*\r\n",
      "\u001b[01;32miso_P8R3_ULTRACLEANVETO_V2_FRONT_v1.txt\u001b[0m*\r\n",
      "\u001b[01;32miso_P8R3_ULTRACLEANVETO_V2_PSF0_v1.txt\u001b[0m*\r\n",
      "\u001b[01;32miso_P8R3_ULTRACLEANVETO_V2_PSF1_v1.txt\u001b[0m*\r\n",
      "\u001b[01;32miso_P8R3_ULTRACLEANVETO_V2_PSF2_v1.txt\u001b[0m*\r\n",
      "\u001b[01;32miso_P8R3_ULTRACLEANVETO_V2_PSF3_v1.txt\u001b[0m*\r\n",
      "\u001b[01;32miso_P8R3_ULTRACLEANVETO_V2.txt\u001b[0m*\r\n",
      "\u001b[01;32miso_P8R3_ULTRACLEANVETO_V2_v1.txt\u001b[0m*\r\n",
      "\u001b[01;32miso_source_back_v05_rev1.txt\u001b[0m*\r\n",
      "\u001b[01;32miso_source_front_v05_rev1.txt\u001b[0m*\r\n",
      "\u001b[01;32miso_source_v05_rev1.txt\u001b[0m*\r\n",
      "\u001b[01;32miso_source_v05.txt\u001b[0m*\r\n",
      "\u001b[01;32misotrop_4years_P7_v9_repro_clean_front_v1.txt\u001b[0m*\r\n",
      "\u001b[01;32misotrop_4years_P7_v9_repro_clean_v1.txt\u001b[0m*\r\n",
      "\u001b[01;32misotrop_4years_P7_v9_repro_source_v1.txt\u001b[0m*\r\n",
      "\u001b[01;32misotropic_iem_back_v02_P6_V11_DIFFUSE.txt\u001b[0m*\r\n",
      "\u001b[01;32misotropic_iem_back_v02.txt\u001b[0m*\r\n",
      "\u001b[01;32misotropic_iem_front_v02_P6_V11_DIFFUSE.txt\u001b[0m*\r\n",
      "\u001b[01;32misotropic_iem_front_v02.txt\u001b[0m*\r\n",
      "\u001b[01;32misotropic_iem_p6v3dataclean_v02.txt\u001b[0m*\r\n",
      "\u001b[01;32misotropic_iem_v02_P6_V11_DIFFUSE.txt\u001b[0m*\r\n",
      "\u001b[01;32misotropic_iem_v02_P6_V11_DIFFUSE.txt.1\u001b[0m*\r\n",
      "\u001b[01;32misotropic_iem_v02.txt\u001b[0m*\r\n",
      "\u001b[01;32mREADME\u001b[0m*\r\n",
      "\u001b[m"
     ]
    }
   ],
   "source": [
    "ls $CONDA_PREFIX/share/fermitools/refdata/fermi/galdiffuse/"
   ]
  },
  {
   "cell_type": "code",
   "execution_count": 17,
   "metadata": {
    "scrolled": true
   },
   "outputs": [
    {
     "data": {
      "text/html": [
       "<iframe src='http://www.slac.stanford.edu/exp/glast/groups/canda/lat_Performance.htm' width='1000' height='500'></iframe>"
      ],
      "text/plain": [
       "<IPython.core.display.HTML object>"
      ]
     },
     "execution_count": 17,
     "metadata": {},
     "output_type": "execute_result"
    }
   ],
   "source": [
    "HTML(\"<iframe src='http://www.slac.stanford.edu/exp/glast/groups/canda/lat_Performance.htm' width='1000' height='500'></iframe>\")"
   ]
  },
  {
   "cell_type": "markdown",
   "metadata": {},
   "source": [
    "Filtering the Data\n",
    "------------------\n",
    "\n",
    "So, for the point source analysis we're doing, we'll use source class events, and we won't filter on event type.  We use *[gtselect](http://fermi.gsfc.nasa.gov/ssc/data/analysis/scitools/help/gtselect.txt)* to do the selection.  There are ways to do this from within python (you'll see these in a moment) but we'll run this from a terminal right now. \n",
    "\n",
    "Since we were given two separate photon files from the data server we need to make a file list so that when we run *gtselect* it knows to look in both files for events that match our selections.  Here's a quick way to do this:"
   ]
  },
  {
   "cell_type": "code",
   "execution_count": 18,
   "metadata": {},
   "outputs": [
    {
     "data": {
      "text/plain": [
       "['PH00.fits', 'PH01.fits', 'SC00.fits']"
      ]
     },
     "execution_count": 18,
     "metadata": {},
     "output_type": "execute_result"
    }
   ],
   "source": [
    "%system ls ../data/"
   ]
  },
  {
   "cell_type": "code",
   "execution_count": 19,
   "metadata": {},
   "outputs": [
    {
     "data": {
      "text/plain": [
       "[]"
      ]
     },
     "execution_count": 19,
     "metadata": {},
     "output_type": "execute_result"
    }
   ],
   "source": [
    "%system ls ../data/*PH* > ../data/events.txt"
   ]
  },
  {
   "cell_type": "code",
   "execution_count": 20,
   "metadata": {},
   "outputs": [
    {
     "data": {
      "text/plain": [
       "['../data/PH00.fits', '../data/PH01.fits']"
      ]
     },
     "execution_count": 20,
     "metadata": {},
     "output_type": "execute_result"
    }
   ],
   "source": [
    "%system cat ../data/events.txt"
   ]
  },
  {
   "cell_type": "markdown",
   "metadata": {},
   "source": [
    "Now we're ready to go.  Note in the usage for *gtselect* that the event class isn't listed.  It's a 'hidden parameter', so you'll need to run the tool like this:\n",
    "\n",
    "> \\> gtselect evclass=128 evtype=3\n",
    "\n",
    "There's lots of info we need to give gtselect so it makes sense to run *gtvcut* on one of our photon files to figure out what we were doing.\n"
   ]
  },
  {
   "cell_type": "code",
   "execution_count": 22,
   "metadata": {
    "scrolled": false
   },
   "outputs": [
    {
     "data": {
      "text/plain": [
       "['',\n",
       " 'WARNING: version mismatch between CFITSIO header (v3.43) and linked library (v3.41).',\n",
       " '',\n",
       " 'DSTYP1: TIME',\n",
       " 'DSUNI1: s',\n",
       " 'DSVAL1: TABLE',\n",
       " 'DSREF1: :GTI',\n",
       " '',\n",
       " 'GTIs: (suppressed)',\n",
       " '',\n",
       " 'DSTYP2: BIT_MASK(EVENT_CLASS,128,P8R3)',\n",
       " 'DSUNI2: DIMENSIONLESS',\n",
       " 'DSVAL2: 1:1',\n",
       " '',\n",
       " 'DSTYP3: POS(RA,DEC)',\n",
       " 'DSUNI3: deg',\n",
       " 'DSVAL3: CIRCLE(194.05,-5.79,30)',\n",
       " '',\n",
       " 'DSTYP4: TIME',\n",
       " 'DSUNI4: s',\n",
       " 'DSVAL4: 239557417:255398400',\n",
       " '',\n",
       " 'DSTYP5: ENERGY',\n",
       " 'DSUNI5: MeV',\n",
       " 'DSVAL5: 100:500000',\n",
       " '']"
      ]
     },
     "execution_count": 22,
     "metadata": {},
     "output_type": "execute_result"
    }
   ],
   "source": [
    "%system gtvcut ../data/PH00.fits EVENTS"
   ]
  },
  {
   "cell_type": "markdown",
   "metadata": {},
   "source": [
    "We can then filter the data, using the recommentations in the table above as a guide:"
   ]
  },
  {
   "cell_type": "markdown",
   "metadata": {},
   "source": [
    "    (fermi) [fermi@4df7918df652 Data_Exploration]$ gtselect evclass=128\n",
    "\n",
    "    WARNING: version mismatch between CFITSIO header (v3.43) and linked library (v3.41).\n",
    "\n",
    "    Input FT1 file[] @../data/events.txt\n",
    "    Output FT1 file[] ../data/3C279_filtered.fits\n",
    "    RA for new search center (degrees) (0:360) [INDEF] 194.05\n",
    "    Dec for new search center (degrees) (-90:90) [INDEF] -5.79\n",
    "    radius of new search region (degrees) (0:180) [INDEF] 30\n",
    "    start time (MET in s) (0:) [INDEF] 239557417\n",
    "    end time (MET in s) (0:) [INDEF] 255398400\n",
    "    lower energy limit (MeV) (0:) [30] 100\n",
    "    upper energy limit (MeV) (0:) [300000] 500000\n",
    "    maximum zenith angle value (degrees) (0:180) [180] 100\n",
    "    Done.\n",
    "    (fermi) [fermi@4df7918df652 Data_Exploration]$```"
   ]
  },
  {
   "cell_type": "markdown",
   "metadata": {},
   "source": [
    "Some things to note here:\n",
    "\n",
    "* For the ballistic tool, we had to explicitly give the event class on the command line (it's a *hidden* parameter).\n",
    "    * You can change this by manually editing your local version of the *parameter file* for this tool, if you wish.\n",
    "    * This is not an issue for running in python.\n",
    "* We put an '@' sign in front of the input filename which tells gtselect that this isn't actually a FITS file but a list of FITS files.\n",
    "* We used the recommended zenith angle cut of 90 (you can check the documentation to make sure it makes sense for your analysis).\n",
    "* We could have used INDEF to represent the start and end times if we want to use the full time range of the downloaded file. \n",
    "* We reduced the radius from 30 degrees (from the data server) to 15 degrees. This means we had to also provide the RA and DEC values (rather than using INDEF). The science tools use a position keyword that includes all three values. If you declare one, you have to declare them all.\n",
    "* We used a slightly different position from the one used in the data server.  This is fine if you are reducing the radius. WARNING: if you don't reduce the radius, you should use INDEF for all the parameters (RA, DEC, Radius) to avoid offsetting your circle and ending up with a sliver of sky without data.\n"
   ]
  },
  {
   "cell_type": "code",
   "execution_count": 23,
   "metadata": {},
   "outputs": [
    {
     "data": {
      "image/png": "[encoded data removed]",
      "text/plain": [
       "<matplotlib.figure.Figure at 0x7fcbe5ee6e90>"
      ]
     },
     "metadata": {},
     "output_type": "display_data"
    }
   ],
   "source": [
    "box_bg = '#CCCCCC'\n",
    "fig = figure(figsize=(10, 10), facecolor='w')\n",
    "ax = axes((0,0,1,1),xticks=[], yticks=[], frameon=False)\n",
    "ax.set_xlim(0, 11)\n",
    "ax.set_ylim(0, 11)\n",
    "\n",
    "patches = [Circle((5,5),4, zorder=1),\n",
    "           Circle((5.1,5.1),4, zorder=1, fc='#CCCCCC'),\n",
    "           Circle((5,5),0.01),\n",
    "           Circle((5.1,5.1),0.01)]\n",
    "        \n",
    "\n",
    "for p in patches:\n",
    "    ax.add_patch(p)\n",
    "    \n",
    "text(5.15, 5.25, \"Position 1\",ha='left', va='center', fontsize=16)\n",
    "text(4.9, 4.9, \"Position 2\",ha='right', va='center', fontsize=16)\n",
    "text(1, 1.2, \"Here lies no data\",ha='left', va='center', fontsize=16)\n",
    "show()"
   ]
  },
  {
   "cell_type": "markdown",
   "metadata": {},
   "source": [
    "You can run all the analysis tools on the command line, as above. However, in python, it's (obviously) easier to run using a python version of the science tools. I'm going to run this using the python toolset called *[gtapps](http://fermi.gsfc.nasa.gov/ssc/data/analysis/user/gtapps_mp_README.txt)*.\n",
    "\n",
    "In python, this same call to getselect would look like this:"
   ]
  },
  {
   "cell_type": "code",
   "execution_count": 24,
   "metadata": {},
   "outputs": [
    {
     "data": {
      "text/plain": [
       "' infile=@../data/events.txt outfile=../data/3C279_filtered.fits ra=194.05 dec=-5.79 rad=30.0 tmin=239557417.0 tmax=255398400.0 emin=100.0 emax=500000.0 zmin=0.0 zmax=100.0 evclass=\"INDEF\" evtype=\"INDEF\" convtype=-1 phasemin=0.0 phasemax=1.0 evtable=\"EVENTS\" chatter=2 clobber=yes debug=no gui=no mode=\"ql\"'"
      ]
     },
     "execution_count": 24,
     "metadata": {},
     "output_type": "execute_result"
    }
   ],
   "source": [
    "import gt_apps\n",
    "from gt_apps import filter\n",
    "filter.pars()"
   ]
  },
  {
   "cell_type": "code",
   "execution_count": 25,
   "metadata": {},
   "outputs": [],
   "source": [
    "filter['infile'] = '@../data/events.txt'\n",
    "filter['outfile'] = '../data/3C279_filtered.fits'\n",
    "filter['ra'] = 194.0\n",
    "filter['dec'] = -5.8\n",
    "filter['rad'] = 15\n",
    "filter['tmin'] = 'INDEF'\n",
    "filter['tmax'] = 'INDEF'\n",
    "filter['emin'] = 100\n",
    "filter['emax'] = 300000\n",
    "filter['zmax'] = 90\n",
    "filter['evclass'] = 128\n",
    "filter['evtype'] = 3"
   ]
  },
  {
   "cell_type": "markdown",
   "metadata": {},
   "source": [
    "You can check what the command will look like before you run it. This is also useful for logging, and when building scripts."
   ]
  },
  {
   "cell_type": "code",
   "execution_count": 26,
   "metadata": {},
   "outputs": [
    {
     "data": {
      "text/plain": [
       "'time -p gtselect infile=@../data/events.txt outfile=../data/3C279_filtered.fits ra=194.0 dec=-5.8 rad=15.0 tmin=\"INDEF\" tmax=\"INDEF\" emin=100.0 emax=300000.0 zmin=0.0 zmax=90.0 evclass=128 evtype=3 convtype=-1 phasemin=0.0 phasemax=1.0 evtable=\"EVENTS\" chatter=2 clobber=yes debug=no gui=no mode=\"ql\"'"
      ]
     },
     "execution_count": 26,
     "metadata": {},
     "output_type": "execute_result"
    }
   ],
   "source": [
    "filter.command()"
   ]
  },
  {
   "cell_type": "code",
   "execution_count": 27,
   "metadata": {},
   "outputs": [
    {
     "name": "stdout",
     "output_type": "stream",
     "text": [
      "time -p gtselect infile=@../data/events.txt outfile=../data/3C279_filtered.fits ra=194.0 dec=-5.8 rad=15.0 tmin=\"INDEF\" tmax=\"INDEF\" emin=100.0 emax=300000.0 zmin=0.0 zmax=90.0 evclass=128 evtype=3 convtype=-1 phasemin=0.0 phasemax=1.0 evtable=\"EVENTS\" chatter=2 clobber=yes debug=no gui=no mode=\"ql\"\n",
      "\n",
      "WARNING: version mismatch between CFITSIO header (v3.43) and linked library (v3.41).\n",
      "\n",
      "Done.\n",
      "real 6.42\n",
      "user 2.39\n",
      "sys 0.61\n"
     ]
    }
   ],
   "source": [
    "filter.run()"
   ]
  },
  {
   "cell_type": "markdown",
   "metadata": {},
   "source": [
    "If you tried to compute an exposure map later on you'd get a nasty error and I'd get a help desk message from you.\n",
    "\n",
    "The Filtered Data\n",
    "-----------------\n",
    "\n",
    "Let's take a look at what we have."
   ]
  },
  {
   "cell_type": "code",
   "execution_count": 28,
   "metadata": {},
   "outputs": [],
   "source": [
    "filtered_data = pyfits.open('../data/3C279_filtered.fits')"
   ]
  },
  {
   "cell_type": "code",
   "execution_count": 29,
   "metadata": {},
   "outputs": [
    {
     "name": "stdout",
     "output_type": "stream",
     "text": [
      "Filename: ../data/3C279_filtered.fits\n",
      "No.    Name      Ver    Type      Cards   Dimensions   Format\n",
      "  0  PRIMARY       1 PrimaryHDU      31   ()      \n",
      "  1  EVENTS        1 BinTableHDU    221   94662R x 23C   [E, E, E, E, E, E, E, E, E, D, J, J, I, 3I, 32X, 32X, I, D, E, E, E, E, E]   \n",
      "  2  GTI           1 BinTableHDU     46   2791R x 2C   [D, D]   \n"
     ]
    }
   ],
   "source": [
    "filtered_data.info()"
   ]
  },
  {
   "cell_type": "markdown",
   "metadata": {},
   "source": [
    "Notice in the dimensions that we now have 101,844 events in the combined event file.  This is quite a reduction from the 569k events returned by the query.  Lots of events have been filtered out.  \n",
    "\n",
    "The next thing to do is to make sure we update the good time interval (the GTI) column using the recommended GTI filters.  These can also be found on the [recommendations and good practices](http://fermi.gsfc.nasa.gov/ssc/data/analysis/documentation/Cicerone/Cicerone_Data_Exploration/Data_preparation.html).  Here's the relevant table:"
   ]
  },
  {
   "cell_type": "markdown",
   "metadata": {},
   "source": [
    "![Maketime_recommendations](images/Maketime_recommendations.png)"
   ]
  },
  {
   "cell_type": "markdown",
   "metadata": {},
   "source": [
    "> ** NOTE: For analyses where an ROI-based zenith cut is NOT performed, an exposure correction must be made using the \"zmax\" option in the <a href=\"/ssc/data/analysis/scitools/help/gtltcube.txt\">gtltcube</a> tool.**\n",
    "                \n",
    "So, the relevant column here is the last one; these filters are just filtering on columns in the spacecraft file we looked at before.  We do this via the *[gtmktime](http://fermi.gsfc.nasa.gov/ssc/data/analysis/scitools/help/gtmktime.txt)* command, which is called **maketime** in *gtapps*:  "
   ]
  },
  {
   "cell_type": "code",
   "execution_count": 30,
   "metadata": {},
   "outputs": [
    {
     "name": "stdout",
     "output_type": "stream",
     "text": [
      "time -p gtmktime scfile=../data/SC00.fits sctable=\"SC_DATA\" filter=\"DATA_QUAL>0 && LAT_CONFIG==1\" roicut=no evfile=../data/3C279_filtered.fits evtable=\"EVENTS\" outfile=\"../data/3C279_mktime.fits\" apply_filter=yes overwrite=no header_obstimes=yes tstart=0.0 tstop=0.0 gtifile=\"default\" chatter=2 clobber=yes debug=no gui=no mode=\"ql\"\n",
      "\n",
      "WARNING: version mismatch between CFITSIO header (v3.43) and linked library (v3.41).\n",
      "\n",
      "real 2.82\n",
      "user 1.12\n",
      "sys 0.35\n"
     ]
    }
   ],
   "source": [
    "from gt_apps import maketime\n",
    "maketime['evfile'] = '../data/3C279_filtered.fits'\n",
    "maketime['outfile'] = '../data/3C279_mktime.fits'\n",
    "maketime['scfile'] = '../data/SC00.fits'\n",
    "maketime['filter'] = 'DATA_QUAL>0 && LAT_CONFIG==1'\n",
    "maketime['apply_filter'] = 'yes'\n",
    "maketime['roicut'] = 'no'\n",
    "maketime.run()"
   ]
  },
  {
   "cell_type": "markdown",
   "metadata": {},
   "source": [
    "Some things to note here:\n",
    "\n",
    "* We gave it the spacecraft file as input (this makes sense).\n",
    "* We said 'no' to the ROI-based zenith angle cut, as that was the recommendation in the table. This means we will need to apply a zmax cut in *gtltcube* instead.\n",
    "* Had we said 'yes' to the ROI-based zenith cut, maketime would have made this cut: \"angsep(RA_ZENITH,DEC_ZENITH,RA_ROI,DEC_ROI) < ZMAX - ROI_RADIUS\". This just cuts out periods when your ROI is close to the zenith and away from the Earth's limb.\n",
    "\n",
    "Now what do we have..."
   ]
  },
  {
   "cell_type": "code",
   "execution_count": 31,
   "metadata": {},
   "outputs": [
    {
     "name": "stdout",
     "output_type": "stream",
     "text": [
      "Filename: ../data/3C279_filtered.fits\n",
      "No.    Name      Ver    Type      Cards   Dimensions   Format\n",
      "  0  PRIMARY       1 PrimaryHDU      31   ()      \n",
      "  1  EVENTS        1 BinTableHDU    221   94662R x 23C   [E, E, E, E, E, E, E, E, E, D, J, J, I, 3I, 32X, 32X, I, D, E, E, E, E, E]   \n",
      "  2  GTI           1 BinTableHDU     46   2791R x 2C   [D, D]   \n"
     ]
    }
   ],
   "source": [
    "filtered_data.info()"
   ]
  },
  {
   "cell_type": "code",
   "execution_count": 32,
   "metadata": {},
   "outputs": [
    {
     "name": "stdout",
     "output_type": "stream",
     "text": [
      "Filename: ../data/3C279_mktime.fits\n",
      "No.    Name      Ver    Type      Cards   Dimensions   Format\n",
      "  0  PRIMARY       1 PrimaryHDU      31   ()      \n",
      "  1  EVENTS        1 BinTableHDU    224   94662R x 23C   [E, E, E, E, E, E, E, E, E, D, J, J, I, 3I, 32X, 32X, I, D, E, E, E, E, E]   \n",
      "  2  GTI           1 BinTableHDU     46   2791R x 2C   [D, D]   \n"
     ]
    }
   ],
   "source": [
    "mktime_data = pyfits.open('../data/3C279_mktime.fits')\n",
    "mktime_data.info()"
   ]
  },
  {
   "cell_type": "markdown",
   "metadata": {},
   "source": [
    "You can see that the maketime command did not actually remove any events. This means that the bad times we saw early on in the spacecraft file were not associated with periods when the LAT was taking data.   "
   ]
  },
  {
   "cell_type": "markdown",
   "metadata": {},
   "source": [
    "### Things to think about when making data selections\n",
    "\n",
    "* What scientific question am I trying to answer?\n",
    "    * Am I looking at a point source?\n",
    "    * What spectral shape do I expect (hard spectral shapes could benefit from a higher low-energy cut).\n",
    "    * Is this a short timescale event (~200 s, like a GRB)?\n",
    "    * Am I interested in a small region or the whole sky?\n",
    "    * Is the region close to the galactic plane (here lies analysis dragons, might want to raise the energy threshold, make your ROI smaller)\n",
    "\n",
    "**Always double check the recommended cuts, especially after a data/software release.**  Don't hesitate to ask the FSSC for advice.  We are working scientists and have proably run into the types of problems you are seeing. And if we can't, we can always contact the software developers.\n",
    "\n",
    "fermihelp@milkyway.gsfc.nasa.gov\n",
    "\n",
    "To take a quick look at the data, try going through the next tutorial, DATA_Quicklook.ipynb"
   ]
  },
  {
   "cell_type": "markdown",
   "metadata": {},
   "source": [
    "Projects!\n",
    "============\n"
   ]
  },
  {
   "cell_type": "markdown",
   "metadata": {},
   "source": [
    "Our goal is to help you complete an analysis on a topic of your choice during the next two weeks. We're happy to work on both simple and complex projects, but we are unlikely to have enough time/computational power to complete the complex ones.\n",
    "\n",
    "Simple project examples:\n",
    "* Single source spectral and variability analysis for point sources, extended sources, etc.\n",
    "* Time-dependent characteristics of gamma-ray binaries\n",
    "* GRB spectra and light curves\n",
    "* Temporal and spectral characteristics of stellar novae\n",
    "* Pulsar spectral analysis, weighting, and pulsation searching (using a known pulsar with current timing information)\n",
    "\n",
    "Complex project examples:\n",
    "* Characterization of a large-scale/all-sky signal: anisotropy in the EBL, dark matter signals in the GC, Galactic diffuse emission\n",
    "* Stacking analyses: searching for AGN halos, dark matter search from dwarf spheroidal galaxies\n",
    "* Searching for new pulsars in the gamma rays\n",
    "* Characterizing the positron/electron ratio detected by the LAT"
   ]
  },
  {
   "cell_type": "markdown",
   "metadata": {},
   "source": [
    "## What would you like to do with Fermi data?"
   ]
  },
  {
   "cell_type": "code",
   "execution_count": null,
   "metadata": {
    "collapsed": true
   },
   "outputs": [],
   "source": []
  }
 ],
 "metadata": {
  "kernelspec": {
   "display_name": "Python 2",
   "language": "python",
   "name": "python2"
  },
  "language_info": {
   "codemirror_mode": {
    "name": "ipython",
    "version": 2
   },
   "file_extension": ".py",
   "mimetype": "text/x-python",
   "name": "python",
   "nbconvert_exporter": "python",
   "pygments_lexer": "ipython2",
   "version": "2.7.14"
  }
 },
 "nbformat": 4,
 "nbformat_minor": 1
}
