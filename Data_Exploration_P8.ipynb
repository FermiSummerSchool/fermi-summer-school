{
 "cells": [
  {
   "cell_type": "markdown",
   "metadata": {},
   "source": [
    "FSSC Science Tools\n",
    "=========================\n",
    "Data Retrieval, Selection and Exploration\n",
    "-------------------------\n",
    "\n",
    "This tutorial is designed to not only make you comfortable running a LAT analysis but also make you familiar with the data and where to go if you want to find more information.  At the end of this tutorial and the likelihood tutorial you should be able to know what all of the various file formats are and be able to perform your own customized simple analysis.  \n",
    "\n",
    "**Goal:**  *Find information, download data, explore data, make simple views of the data, establish individual projects*"
   ]
  },
  {
   "cell_type": "markdown",
   "metadata": {},
   "source": [
    "Setting up the Summer School VM\n",
    "-------------------\n",
    "\n",
    "In order to follow along with this tutorial, you need to have the VM downloaded, installed and running. \n",
    "\n",
    "The software, instructions on getting started, and iPhython notebooks that we'll be following during the school are all on GitHub at:\n",
    "https://github.com/FermiSummerSchool\n",
    "\n",
    "If you go to the ssvm project and look at the Readme.md file, you will see the setup instructions:"
   ]
  },
  {
   "cell_type": "code",
   "execution_count": 1,
   "metadata": {
    "collapsed": true
   },
   "outputs": [],
   "source": [
    "from IPython.display import Image,HTML"
   ]
  },
  {
   "cell_type": "markdown",
   "metadata": {},
   "source": [
    "![VM_readme](images/Readme.png)"
   ]
  },
  {
   "cell_type": "markdown",
   "metadata": {},
   "source": [
    "Any problems with installation of repository, VirtualBox, or Vagrant?\n",
    "---------\n",
    "\n",
    "<u>Links:</u>\n",
    "* Github repository: https://github.com/FermiSummerSchool/ssvm.git\n",
    "* VirtualBox: https://www.virtualbox.org/wiki/Downloads\n",
    "* Vagrant: https://www.vagrantup.com/downloads.html\n"
   ]
  },
  {
   "cell_type": "markdown",
   "metadata": {},
   "source": [
    "Any problems with the VM setup script?\n",
    "---------\n",
    "\n",
    "What does a \"which vagrant\" return? If \"command not found\":\n",
    "\n",
    "Try:\n",
    "\n",
    "\\> hash -r\n",
    "\n",
    "or\n",
    "\n",
    "\\> rehash\n"
   ]
  },
  {
   "cell_type": "markdown",
   "metadata": {},
   "source": [
    "You should copy the content of the USB key we have (hopefully) handed you into the VM shared directory so that you can access it. If you didn't set up a shared directory, you should stop your VM and do that now.\n",
    "\n",
    "In VirtualBox, select the Summer School VM, then 'Settings', then 'Shared Folders'. Add a shared folder by clicking the plus-folder icon. Provide the full path to the directory wth the contents of the USB key. Name the folder 'shared', and do not check any of the boxes. Click \"OK\", and then start the VM."
   ]
  },
  {
   "cell_type": "markdown",
   "metadata": {},
   "source": [
    "Once you have started the VM, the shared folder is the /vagrant directory...NOT the /home/vagrant directory. The shared folder will be writeable from both the VM and your native operating system.\n"
   ]
  },
  {
   "cell_type": "markdown",
   "metadata": {},
   "source": [
    "Accessing these lectures\n",
    "------------------------\n",
    "\n",
    "Inside the VM, open Firefox and go to https://confluence.slac.stanford.edu/display/LSP/Fermi+Summer+School+2016 where the lectures are linked. If you click on one of the notebooks it will open in jupyter's notebook viewer. \n",
    "\n",
    "If you want copies of the content of the notebooks, you will need to download the contents of Jeremy's GitHub repository. However, more ipython notebooks will be added as the summer school progresses. So you may wish to wait for now. The repository is available at https://github.com/kialio/fermi-summer-school .\n",
    "\n",
    "If you want to run a notebook locally in the VM, change into the directory where you have saved the notebooks and run them by typing:\n",
    "\n",
    "> \\> jupyter notebook\n",
    "\n",
    "This will start the jupyter notebook server and open Firefox with links to each notebook in the directory. Click on a notebook and it will open in a new tab."
   ]
  },
  {
   "cell_type": "markdown",
   "metadata": {},
   "source": [
    "Now...Where do we start?\n",
    "---------------------------\n",
    "\n",
    "Go to the [FSSC Website](http://fermi.gsfc.nasa.gov/ssc/)&rarr;[Data](http://fermi.gsfc.nasa.gov/ssc/data/)&rarr;[Data Analysis](http://fermi.gsfc.nasa.gov/ssc/data/analysis/)&rarr;[System Overview](http://fermi.gsfc.nasa.gov/ssc/data/analysis/scitools/overview.html)\n"
   ]
  },
  {
   "cell_type": "code",
   "execution_count": 2,
   "metadata": {},
   "outputs": [
    {
     "data": {
      "text/html": [
       "<iframe src='http://fermi.gsfc.nasa.gov/ssc/data/analysis/scitools/overview.html' width='1000' height='500'></iframe>"
      ],
      "text/plain": [
       "<IPython.core.display.HTML object>"
      ]
     },
     "execution_count": 2,
     "metadata": {},
     "output_type": "execute_result"
    }
   ],
   "source": [
    "HTML(\"<iframe src='http://fermi.gsfc.nasa.gov/ssc/data/analysis/scitools/overview.html' width='1000' height='500'></iframe>\")"
   ]
  },
  {
   "cell_type": "markdown",
   "metadata": {},
   "source": [
    "### Multiple levels of documentation\n",
    "\n",
    "Available from [FSSC Website](http://fermi.gsfc.nasa.gov/ssc/)&rarr;[Data](http://fermi.gsfc.nasa.gov/ssc/data/)&rarr;[Documentation](http://fermi.gsfc.nasa.gov/ssc/data/analysis/documentation/)"
   ]
  },
  {
   "cell_type": "code",
   "execution_count": 3,
   "metadata": {},
   "outputs": [
    {
     "data": {
      "text/html": [
       "<iframe src='http://fermi.gsfc.nasa.gov/ssc/data/analysis/documentation/' width='1000' height='500'></iframe>"
      ],
      "text/plain": [
       "<IPython.core.display.HTML object>"
      ]
     },
     "execution_count": 3,
     "metadata": {},
     "output_type": "execute_result"
    }
   ],
   "source": [
    "HTML(\"<iframe src='http://fermi.gsfc.nasa.gov/ssc/data/analysis/documentation/' width='1000' height='500'></iframe>\")"
   ]
  },
  {
   "cell_type": "markdown",
   "metadata": {},
   "source": [
    "\n",
    "* [Installation](http://fermi.gsfc.nasa.gov/ssc/data/analysis/software/) \n",
    "    * Details the installation procedure\n",
    "* [LAT Analysis Start Page](http://http://fermi.gsfc.nasa.gov/ssc/data/analysis/LAT_essentials.html)\n",
    "    * Summary of the important resources that are needed for standard LAT analysis\n",
    "* [Analysis Threads](http://fermi.gsfc.nasa.gov/ssc/data/analysis/scitools/) \n",
    "    * Examples of actual science analysis where you can follow along step-by-step\n",
    "* [Cicerone](http://translate.google.com/#it/en/cicerone)\n",
    "    * General information on the satellite and instruments\n",
    "    * Describes instrumentation and data acquisition\n",
    "    * Explains analysis methods\n",
    "* [Individual Tool Descriptions](http://fermi.gsfc.nasa.gov/ssc/data/analysis/scitools/references.html) \n",
    "    * Explains individual tools in detail\n",
    "    * (Identical to the information available via [*fhelp*](http://heasarc.gsfc.nasa.gov/ftools/users/node7.html)) "
   ]
  },
  {
   "cell_type": "markdown",
   "metadata": {},
   "source": [
    "### Downloading and installing the software"
   ]
  },
  {
   "cell_type": "markdown",
   "metadata": {},
   "source": [
    "Go to the [FSSC Website](http://fermi.gsfc.nasa.gov/ssc/)&rarr;[Data](http://fermi.gsfc.nasa.gov/ssc/data/)&rarr;[Data Analysis](http://fermi.gsfc.nasa.gov/ssc/data/analysis/)&rarr;[Software Download](http://fermi.gsfc.nasa.gov/ssc/data/analysis/software/)"
   ]
  },
  {
   "cell_type": "markdown",
   "metadata": {},
   "source": [
    "* **Important** things about software installation\n",
    "    * Pay attention to the supported platforms, if yours isn't supported, it probably isn't supported.\n",
    "    * Figure out your distribution with *uname -a*"
   ]
  },
  {
   "cell_type": "code",
   "execution_count": 4,
   "metadata": {},
   "outputs": [
    {
     "data": {
      "text/plain": [
       "['Linux host-10-0-2-15.nss.udel.edu 3.10.0-327.el7.x86_64 #1 SMP Thu Nov 19 22:10:57 UTC 2015 x86_64 x86_64 x86_64 GNU/Linux']"
      ]
     },
     "execution_count": 4,
     "metadata": {},
     "output_type": "execute_result"
    }
   ],
   "source": [
    "%system uname -a"
   ]
  },
  {
   "cell_type": "markdown",
   "metadata": {},
   "source": [
    "You can see that I'm running on a 64 bit Linux machine and the kernel version is 2.6.32 (Scientific Linux 6). So I should download the appropriate binary (I could also try to build from source if I wanted). We have already installed the Science Tools in the VM for you, so this is not necessary right now."
   ]
  },
  {
   "cell_type": "markdown",
   "metadata": {},
   "source": [
    "* More **important** things:\n",
    "    * Make sure you read the about any [Known Bugs](http://fermi.gsfc.nasa.gov/ssc/data/analysis/software/KnownBugs_v10r0p5_v0.txt)\n",
    "    * Make sure your read the [Release Notes](http://fermi.gsfc.nasa.gov/ssc/data/analysis/software/ReleaseNotes_Jun24_2015.txt)\n",
    "\n",
    "**Note:** This would be a good time to make sure everyone has a working installation of the VM, is running Jupyter Notebook and following along."
   ]
  },
  {
   "cell_type": "markdown",
   "metadata": {},
   "source": [
    "### Science Analysis Threads\n",
    "Go to the [FSSC Website](http://fermi.gsfc.nasa.gov/ssc/)&rarr;[Data](http://fermi.gsfc.nasa.gov/ssc/data/)&rarr;[Data Analysis](http://fermi.gsfc.nasa.gov/ssc/data/analysis/)&rarr;[Analysis Threads](http://fermi.gsfc.nasa.gov/ssc/data/analysis/scitools/)"
   ]
  },
  {
   "cell_type": "markdown",
   "metadata": {},
   "source": [
    "* What if I'm not at the Summer School?  Where do I start?\n",
    "    * A good place to start is the data analysis threads.  These are step-by-step guides that reproduce actual science results.  \n",
    "    * **The best way to learn how to do something is to do it.**\n",
    "    * Lots of good stuff:"
   ]
  },
  {
   "cell_type": "code",
   "execution_count": 5,
   "metadata": {},
   "outputs": [
    {
     "data": {
      "text/html": [
       "<iframe src='http://fermi.gsfc.nasa.gov/ssc/data/analysis/scitools/' width='1000' height='500'></iframe>"
      ],
      "text/plain": [
       "<IPython.core.display.HTML object>"
      ]
     },
     "execution_count": 5,
     "metadata": {},
     "output_type": "execute_result"
    }
   ],
   "source": [
    "HTML(\"<iframe src='http://fermi.gsfc.nasa.gov/ssc/data/analysis/scitools/' width='1000' height='500'></iframe>\")"
   ]
  },
  {
   "cell_type": "markdown",
   "metadata": {},
   "source": [
    "### What if I can't figure it out?\n",
    "\n",
    "Contact us!  **fermihelp@milkyway.gsfc.nasa.gov** . Most of us are nice...most of the time."
   ]
  },
  {
   "cell_type": "markdown",
   "metadata": {},
   "source": [
    "### Getting the data\n",
    "Go to the [FSSC Website](http://fermi.gsfc.nasa.gov/ssc/)&rarr;[Data](http://fermi.gsfc.nasa.gov/ssc/data/)&rarr;[Data Access](http://fermi.gsfc.nasa.gov/ssc/data/access/)"
   ]
  },
  {
   "cell_type": "code",
   "execution_count": 6,
   "metadata": {
    "scrolled": true
   },
   "outputs": [
    {
     "data": {
      "text/html": [
       "<iframe src='http://fermi.gsfc.nasa.gov/ssc/data/access/' width='1000' height='500'></iframe>"
      ],
      "text/plain": [
       "<IPython.core.display.HTML object>"
      ]
     },
     "execution_count": 6,
     "metadata": {},
     "output_type": "execute_result"
    }
   ],
   "source": [
    "HTML(\"<iframe src='http://fermi.gsfc.nasa.gov/ssc/data/access/' width='1000' height='500'></iframe>\")"
   ]
  },
  {
   "cell_type": "markdown",
   "metadata": {},
   "source": [
    "Lits of data products are available.  What you use depends on what you're doing.  Here are some highlights:\n",
    "\n",
    "* I want to perform a detailed source anaylsis:\n",
    "    * LAT Data Server (Pass 7 Reprocessed data)\n",
    "    \n",
    "* I want to perform an analysis of a short timescale flare like a GRB or a Solar Flare\n",
    "    * LAT Low-Energy (LLE) Data\n",
    "    * Fermi Solar Flare Observations\n",
    "    * GBM Data\n",
    "    \n",
    "* I want to monitor all sources in the full sky \n",
    "    * Pass 7 Reprocessed Weekly files\n",
    "    \n",
    "* I want to be alerted to flares in known sources\n",
    "    * LAT Monitored Source List Light Curves\n",
    "    * Aperture Photometry Light Curves for the LAT 2-year Point Source Catalog\n",
    "    \n",
    "* I want to find out about known sources, GRBs, or solar flares.\n",
    "    * LAT Burst Catalog\n",
    "    * LAT 4-year Point Source Catalog\n",
    "    * LAT List of Flaring Sources\n",
    "    * LAT Pulsar Catalog\n",
    "    * LAT Hard Sources Catalog\n",
    "    * GBM Burst Catalog\n",
    "    * GBM Earth Occultation Sources\n",
    "    * Fermi Solar Flare Data\n",
    "    \n",
    "* I want to know what the spacecraft was doing\n",
    "    * Spacecraft Data\n",
    "    * Spacecraft Pointing Files\n",
    "\n",
    "Don't forget to pay attention to the [caveats](http://fermi.gsfc.nasa.gov/ssc/data/analysis/caveats.html) for the data products you are using.  You never know, it might say don't do what you're trying to do or tell you to do something else!"
   ]
  },
  {
   "cell_type": "markdown",
   "metadata": {},
   "source": [
    "### Getting our Data\n",
    "We're going to look at a 20 degree region around the AGN 3C 279 from August 4, 2008 to February 4, 2009 and perform a detailed source anlysis so let's use the LAT data server."
   ]
  },
  {
   "cell_type": "markdown",
   "metadata": {},
   "source": [
    "Go to the [FSSC Website](http://fermi.gsfc.nasa.gov/ssc/)&rarr;[Data](http://fermi.gsfc.nasa.gov/ssc/data/)&rarr;[LAT Data Server](http://fermi.gsfc.nasa.gov/cgi-bin/ssc/LAT/LATDataQuery.cgi)"
   ]
  },
  {
   "cell_type": "code",
   "execution_count": 8,
   "metadata": {},
   "outputs": [
    {
     "data": {
      "text/html": [
       "<iframe src='http://fermi.gsfc.nasa.gov/cgi-bin/ssc/LAT/LATDataQuery.cgi' width='1000' height='500'></iframe>"
      ],
      "text/plain": [
       "<IPython.core.display.HTML object>"
      ]
     },
     "execution_count": 8,
     "metadata": {},
     "output_type": "execute_result"
    }
   ],
   "source": [
    "HTML(\"<iframe src='http://fermi.gsfc.nasa.gov/cgi-bin/ssc/LAT/LATDataQuery.cgi' width='1000' height='500'></iframe>\")"
   ]
  },
  {
   "cell_type": "markdown",
   "metadata": {},
   "source": [
    "***How do I fill in these parameters?***\n",
    "\n",
    "(You can click on the field name for more details.)\n",
    "\n",
    "* *Object name or coordinates*: you can use the NED/Simbad/GRB Name or the coordinates (like RA,Dec)\n",
    "    * If you use coordinate lookup, be careful with the coordinates it uses. A name may correspond to several different positions.\n",
    "* *Search Radius*: This depends on your source region.  I usually do an anlysis on 10 - 15 degrees but I always download 30 degrees of data so I have freedom later to change my mind.  If you want to grab more than this, you probably should think about using the weekly files.\n",
    "* *Observation dates*:  Lots of options (see the help).  [xtime](http://heasarc.gsfc.nasa.gov/cgi-bin/Tools/xTime/xTime.pl) is very useful.\n",
    "* *Energy Range*: separated by a comma.\n",
    "* *LAT data type*: Photon or Extended, more on this later.\n",
    "* *Spacecraft data*: yes.  You want this.\n",
    "\n",
    "Here are the selection commands so you can copy/paste\n",
    "\n",
    "* Coordinates: 194.05, -5.79\n",
    "* Search Radius: 30\n",
    "* Time range (MET): 239557417,255398400 (or START, 2009-02-04 00:00:00)\n",
    "* Energy range (MeV): 100, 500000\n",
    "\n",
    "I've already downloaded these data.  You can get them in the data directory in the USB drive we've given you.  Here's the resulting page (for the record)."
   ]
  },
  {
   "cell_type": "markdown",
   "metadata": {},
   "source": [
    "![DataServer1](images/FSSC_DataServer1.png)"
   ]
  },
  {
   "cell_type": "markdown",
   "metadata": {},
   "source": [
    "If you click on the link to get to the query result you get this:\n",
    "\n",
    "https://fermi.gsfc.nasa.gov/cgi-bin/ssc/LAT/QueryResults.cgi?id=L170529092347D1C7019386"
   ]
  },
  {
   "cell_type": "markdown",
   "metadata": {
    "scrolled": true
   },
   "source": [
    "![DataServer2](images/FSSC_DataServer2.png)"
   ]
  },
  {
   "cell_type": "markdown",
   "metadata": {},
   "source": [
    "You could click the *Available* links or you could just use the *wget* commands in a terminal window. \n",
    "(I added the '-q' for quiet)."
   ]
  },
  {
   "cell_type": "code",
   "execution_count": 11,
   "metadata": {
    "collapsed": true
   },
   "outputs": [
    {
     "data": {
      "text/plain": [
       "['--2017-05-30 15:08:54--  http://fermi.gsfc.nasa.gov/FTP/fermi/data/lat/queries/L170529092347D1C7019386_PH00.fits',\n",
       " 'Resolving fermi.gsfc.nasa.gov (fermi.gsfc.nasa.gov)... 129.164.179.26',\n",
       " 'Connecting to fermi.gsfc.nasa.gov (fermi.gsfc.nasa.gov)|129.164.179.26|:80... connected.',\n",
       " 'HTTP request sent, awaiting response... 301 Moved Permanently',\n",
       " 'Location: https://fermi.gsfc.nasa.gov/FTP/fermi/data/lat/queries/L170529092347D1C7019386_PH00.fits [following]',\n",
       " '--2017-05-30 15:08:54--  https://fermi.gsfc.nasa.gov/FTP/fermi/data/lat/queries/L170529092347D1C7019386_PH00.fits',\n",
       " 'Connecting to fermi.gsfc.nasa.gov (fermi.gsfc.nasa.gov)|129.164.179.26|:443... connected.',\n",
       " 'HTTP request sent, awaiting response... 200 OK',\n",
       " 'Length: 55877760 (53M) [application/fits]',\n",
       " 'Saving to: \\xe2\\x80\\x98L170529092347D1C7019386_PH00.fits.2\\xe2\\x80\\x99',\n",
       " '',\n",
       " '     0K .......... .......... .......... .......... ..........  0% 2.82M 19s',\n",
       " '    50K .......... .......... .......... .......... ..........  0% 3.33M 17s',\n",
       " '   100K .......... .......... .......... .......... ..........  0% 2.21M 20s',\n",
       " '   150K .......... .......... .......... .......... ..........  0% 3.35M 19s',\n",
       " '   200K .......... .......... .......... .......... ..........  0% 3.14M 18s',\n",
       " '   250K .......... .......... .......... .......... ..........  0% 2.83M 18s',\n",
       " '   300K .......... .......... .......... .......... ..........  0% 3.89M 18s',\n",
       " '   350K .......... .......... .......... .......... ..........  0% 3.45M 17s',\n",
       " '   400K .......... .......... .......... .......... ..........  0% 3.69M 17s',\n",
       " '   450K .......... .......... .......... .......... ..........  0% 3.44M 17s',\n",
       " '   500K .......... .......... .......... .......... ..........  1% 3.37M 17s',\n",
       " '   550K .......... .......... .......... .......... ..........  1% 4.19M 16s',\n",
       " '   600K .......... .......... .......... .......... ..........  1% 4.15M 16s',\n",
       " '   650K .......... .......... .......... .......... ..........  1% 3.78M 16s',\n",
       " '   700K .......... .......... .......... .......... ..........  1% 4.03M 16s',\n",
       " '   750K .......... .......... .......... .......... ..........  1% 4.17M 15s',\n",
       " '   800K .......... .......... .......... .......... ..........  1% 5.21M 15s',\n",
       " '   850K .......... .......... .......... .......... ..........  1% 4.40M 15s',\n",
       " '   900K .......... .......... .......... .......... ..........  1% 3.51M 15s',\n",
       " '   950K .......... .......... .......... .......... ..........  1% 6.15M 15s',\n",
       " '  1000K .......... .......... .......... .......... ..........  1% 4.34M 14s',\n",
       " '  1050K .......... .......... .......... .......... ..........  2% 4.22M 14s',\n",
       " '  1100K .......... .......... .......... .......... ..........  2% 5.16M 14s',\n",
       " '  1150K .......... .......... .......... .......... ..........  2% 3.88M 14s',\n",
       " '  1200K .......... .......... .......... .......... ..........  2% 6.34M 14s',\n",
       " '  1250K .......... .......... .......... .......... ..........  2% 3.69M 14s',\n",
       " '  1300K .......... .......... .......... .......... ..........  2% 5.21M 14s',\n",
       " '  1350K .......... .......... .......... .......... ..........  2% 4.37M 14s',\n",
       " '  1400K .......... .......... .......... .......... ..........  2% 2.70M 14s',\n",
       " '  1450K .......... .......... .......... .......... ..........  2% 3.50M 14s',\n",
       " '  1500K .......... .......... .......... .......... ..........  2% 2.99M 14s',\n",
       " '  1550K .......... .......... .......... .......... ..........  2% 3.67M 14s',\n",
       " '  1600K .......... .......... .......... .......... ..........  3% 1.89M 14s',\n",
       " '  1650K .......... .......... .......... .......... ..........  3% 20.2M 14s',\n",
       " '  1700K .......... .......... .......... .......... ..........  3% 2.07M 14s',\n",
       " '  1750K .......... .......... .......... .......... ..........  3% 2.94M 14s',\n",
       " '  1800K .......... .......... .......... .......... ..........  3% 2.02M 15s',\n",
       " '  1850K .......... .......... .......... .......... ..........  3% 4.34M 15s',\n",
       " '  1900K .......... .......... .......... .......... ..........  3% 6.28M 14s',\n",
       " '  1950K .......... .......... .......... .......... ..........  3% 4.37M 14s',\n",
       " '  2000K .......... .......... .......... .......... ..........  3% 4.82M 14s',\n",
       " '  2050K .......... .......... .......... .......... ..........  3% 3.97M 14s',\n",
       " '  2100K .......... .......... .......... .......... ..........  3% 4.24M 14s',\n",
       " '  2150K .......... .......... .......... .......... ..........  4% 4.22M 14s',\n",
       " '  2200K .......... .......... .......... .......... ..........  4% 5.67M 14s',\n",
       " '  2250K .......... .......... .......... .......... ..........  4% 3.82M 14s',\n",
       " '  2300K .......... .......... .......... .......... ..........  4% 4.71M 14s',\n",
       " '  2350K .......... .......... .......... .......... ..........  4% 3.87M 14s',\n",
       " '  2400K .......... .......... .......... .......... ..........  4% 3.81M 14s',\n",
       " '  2450K .......... .......... .......... .......... ..........  4% 5.12M 14s',\n",
       " '  2500K .......... .......... .......... .......... ..........  4% 5.47M 14s',\n",
       " '  2550K .......... .......... .......... .......... ..........  4% 3.81M 14s',\n",
       " '  2600K .......... .......... .......... .......... ..........  4% 4.78M 13s',\n",
       " '  2650K .......... .......... .......... .......... ..........  4% 5.02M 13s',\n",
       " '  2700K .......... .......... .......... .......... ..........  5% 4.76M 13s',\n",
       " '  2750K .......... .......... .......... .......... ..........  5% 4.64M 13s',\n",
       " '  2800K .......... .......... .......... .......... ..........  5% 4.20M 13s',\n",
       " '  2850K .......... .......... .......... .......... ..........  5% 4.73M 13s',\n",
       " '  2900K .......... .......... .......... .......... ..........  5% 3.43M 13s',\n",
       " '  2950K .......... .......... .......... .......... ..........  5% 5.30M 13s',\n",
       " '  3000K .......... .......... .......... .......... ..........  5% 5.51M 13s',\n",
       " '  3050K .......... .......... .......... .......... ..........  5% 4.41M 13s',\n",
       " '  3100K .......... .......... .......... .......... ..........  5% 4.03M 13s',\n",
       " '  3150K .......... .......... .......... .......... ..........  5% 5.28M 13s',\n",
       " '  3200K .......... .......... .......... .......... ..........  5% 3.96M 13s',\n",
       " '  3250K .......... .......... .......... .......... ..........  6% 95.1K 21s',\n",
       " '  3300K .......... .......... .......... .......... ..........  6% 1.40M 21s',\n",
       " '  3350K .......... .......... .......... .......... ..........  6% 5.73M 21s',\n",
       " '  3400K .......... .......... .......... .......... ..........  6%  525K 22s',\n",
       " '  3450K .......... .......... .......... .......... ..........  6% 1.62M 22s',\n",
       " '  3500K .......... .......... .......... .......... ..........  6% 2.47M 22s',\n",
       " '  3550K .......... .......... .......... .......... ..........  6% 2.88M 22s',\n",
       " '  3600K .......... .......... .......... .......... ..........  6% 3.25M 22s',\n",
       " '  3650K .......... .......... .......... .......... ..........  6% 3.37M 22s',\n",
       " '  3700K .......... .......... .......... .......... ..........  6% 2.30M 22s',\n",
       " '  3750K .......... .......... .......... .......... ..........  6% 3.06M 22s',\n",
       " '  3800K .......... .......... .......... .......... ..........  7% 3.38M 21s',\n",
       " '  3850K .......... .......... .......... .......... ..........  7% 3.42M 21s',\n",
       " '  3900K .......... .......... .......... .......... ..........  7% 2.85M 21s',\n",
       " '  3950K .......... .......... .......... .......... ..........  7% 6.94M 21s',\n",
       " '  4000K .......... .......... .......... .......... ..........  7% 4.02M 21s',\n",
       " '  4050K .......... .......... .......... .......... ..........  7% 3.47M 21s',\n",
       " '  4100K .......... .......... .......... .......... ..........  7% 4.56M 21s',\n",
       " '  4150K .......... .......... .......... .......... ..........  7% 3.74M 21s',\n",
       " '  4200K .......... .......... .......... .......... ..........  7% 3.24M 21s',\n",
       " '  4250K .......... .......... .......... .......... ..........  7% 8.96M 20s',\n",
       " '  4300K .......... .......... .......... .......... ..........  7% 4.05M 20s',\n",
       " '  4350K .......... .......... .......... .......... ..........  8% 3.63M 20s',\n",
       " '  4400K .......... .......... .......... .......... ..........  8% 4.39M 20s',\n",
       " '  4450K .......... .......... .......... .......... ..........  8% 5.24M 20s',\n",
       " '  4500K .......... .......... .......... .......... ..........  8% 5.03M 20s',\n",
       " '  4550K .......... .......... .......... .......... ..........  8% 4.72M 20s',\n",
       " '  4600K .......... .......... .......... .......... ..........  8% 4.80M 19s',\n",
       " '  4650K .......... .......... .......... .......... ..........  8% 5.48M 19s',\n",
       " '  4700K .......... .......... .......... .......... ..........  8% 3.90M 19s',\n",
       " '  4750K .......... .......... .......... .......... ..........  8% 6.04M 19s',\n",
       " '  4800K .......... .......... .......... .......... ..........  8% 3.65M 19s',\n",
       " '  4850K .......... .......... .......... .......... ..........  8% 4.13M 19s',\n",
       " '  4900K .......... .......... .......... .......... ..........  9% 5.32M 19s',\n",
       " '  4950K .......... .......... .......... .......... ..........  9% 4.72M 19s',\n",
       " '  5000K .......... .......... .......... .......... ..........  9% 3.71M 19s',\n",
       " '  5050K .......... .......... .......... .......... ..........  9% 5.08M 19s',\n",
       " '  5100K .......... .......... .......... .......... ..........  9% 5.55M 18s',\n",
       " '  5150K .......... .......... .......... .......... ..........  9% 4.90M 18s',\n",
       " '  5200K .......... .......... .......... .......... ..........  9% 4.18M 18s',\n",
       " '  5250K .......... .......... .......... .......... ..........  9% 3.66M 18s',\n",
       " '  5300K .......... .......... .......... .......... ..........  9% 4.56M 18s',\n",
       " '  5350K .......... .......... .......... .......... ..........  9% 4.46M 18s',\n",
       " '  5400K .......... .......... .......... .......... ..........  9% 6.17M 18s',\n",
       " '  5450K .......... .......... .......... .......... .......... 10% 4.51M 18s',\n",
       " '  5500K .......... .......... .......... .......... .......... 10% 4.03M 18s',\n",
       " '  5550K .......... .......... .......... .......... .......... 10% 5.31M 18s',\n",
       " '  5600K .......... .......... .......... .......... .......... 10% 4.09M 18s',\n",
       " '  5650K .......... .......... .......... .......... .......... 10% 3.79M 18s',\n",
       " '  5700K .......... .......... .......... .......... .......... 10% 4.63M 17s',\n",
       " '  5750K .......... .......... .......... .......... .......... 10% 4.51M 17s',\n",
       " '  5800K .......... .......... .......... .......... .......... 10% 4.50M 17s',\n",
       " '  5850K .......... .......... .......... .......... .......... 10% 4.47M 17s',\n",
       " '  5900K .......... .......... .......... .......... .......... 10% 4.26M 17s',\n",
       " '  5950K .......... .......... .......... .......... .......... 10% 5.34M 17s',\n",
       " '  6000K .......... .......... .......... .......... .......... 11% 4.42M 17s',\n",
       " '  6050K .......... .......... .......... .......... .......... 11% 5.25M 17s',\n",
       " '  6100K .......... .......... .......... .......... .......... 11% 4.44M 17s',\n",
       " '  6150K .......... .......... .......... .......... .......... 11%  276K 18s',\n",
       " '  6200K .......... .......... .......... .......... .......... 11% 1.76M 18s',\n",
       " '  6250K .......... .......... .......... .......... .......... 11% 14.7M 18s',\n",
       " '  6300K .......... .......... .......... .......... .......... 11%  513K 19s',\n",
       " '  6350K .......... .......... .......... .......... .......... 11% 1.98M 19s',\n",
       " '  6400K .......... .......... .......... .......... .......... 11% 2.85M 19s',\n",
       " '  6450K .......... .......... .......... .......... .......... 11% 3.32M 19s',\n",
       " '  6500K .......... .......... .......... .......... .......... 12% 3.51M 18s',\n",
       " '  6550K .......... .......... .......... .......... .......... 12% 3.59M 18s',\n",
       " '  6600K .......... .......... .......... .......... .......... 12% 3.43M 18s',\n",
       " '  6650K .......... .......... .......... .......... .......... 12% 2.89M 18s',\n",
       " '  6700K .......... .......... .......... .......... .......... 12% 2.91M 18s',\n",
       " '  6750K .......... .......... .......... .......... .......... 12% 3.90M 18s',\n",
       " '  6800K .......... .......... .......... .......... .......... 12% 4.12M 18s',\n",
       " '  6850K .......... .......... .......... .......... .......... 12% 4.13M 18s',\n",
       " '  6900K .......... .......... .......... .......... .......... 12% 3.63M 18s',\n",
       " '  6950K .......... .......... .......... .......... .......... 12% 3.84M 18s',\n",
       " '  7000K .......... .......... .......... .......... .......... 12% 4.10M 18s',\n",
       " '  7050K .......... .......... .......... .......... .......... 13% 4.47M 18s',\n",
       " '  7100K .......... .......... .......... .......... .......... 13% 5.63M 18s',\n",
       " '  7150K .......... .......... .......... .......... .......... 13% 4.60M 18s',\n",
       " '  7200K .......... .......... .......... .......... .......... 13% 4.83M 18s',\n",
       " '  7250K .......... .......... .......... .......... .......... 13% 4.86M 18s',\n",
       " '  7300K .......... .......... .......... .......... .......... 13% 4.51M 17s',\n",
       " '  7350K .......... .......... .......... .......... .......... 13% 5.45M 17s',\n",
       " '  7400K .......... .......... .......... .......... .......... 13% 4.48M 17s',\n",
       " '  7450K .......... .......... .......... .......... .......... 13% 4.15M 17s',\n",
       " '  7500K .......... .......... .......... .......... .......... 13% 4.18M 17s',\n",
       " '  7550K .......... .......... .......... .......... .......... 13% 4.60M 17s',\n",
       " '  7600K .......... .......... .......... .......... .......... 14% 2.03M 17s',\n",
       " '  7650K .......... .......... .......... .......... .......... 14% 16.1M 17s',\n",
       " '  7700K .......... .......... .......... .......... .......... 14% 3.50M 17s',\n",
       " '  7750K .......... .......... .......... .......... .......... 14% 3.96M 17s',\n",
       " '  7800K .......... .......... .......... .......... .......... 14% 5.10M 17s',\n",
       " '  7850K .......... .......... .......... .......... .......... 14% 4.44M 17s',\n",
       " '  7900K .......... .......... .......... .......... .......... 14% 5.01M 17s',\n",
       " '  7950K .......... .......... .......... .......... .......... 14% 4.53M 17s',\n",
       " '  8000K .......... .......... .......... .......... .......... 14% 3.90M 17s',\n",
       " '  8050K .......... .......... .......... .......... .......... 14% 6.78M 17s',\n",
       " '  8100K .......... .......... .......... .......... .......... 14% 4.33M 16s',\n",
       " '  8150K .......... .......... .......... .......... .......... 15% 4.00M 16s',\n",
       " '  8200K .......... .......... .......... .......... .......... 15% 5.20M 16s',\n",
       " '  8250K .......... .......... .......... .......... .......... 15% 5.41M 16s',\n",
       " '  8300K .......... .......... .......... .......... .......... 15% 4.10M 16s',\n",
       " '  8350K .......... .......... .......... .......... .......... 15% 4.58M 16s',\n",
       " '  8400K .......... .......... .......... .......... .......... 15% 4.50M 16s',\n",
       " '  8450K .......... .......... .......... .......... .......... 15% 4.11M 16s',\n",
       " '  8500K .......... .......... .......... .......... .......... 15% 6.23M 16s',\n",
       " '  8550K .......... .......... .......... .......... .......... 15% 3.31M 16s',\n",
       " '  8600K .......... .......... .......... .......... .......... 15% 4.86M 16s',\n",
       " '  8650K .......... .......... .......... .......... .......... 15% 4.18M 16s',\n",
       " '  8700K .......... .......... .......... .......... .......... 16% 5.24M 16s',\n",
       " '  8750K .......... .......... .......... .......... .......... 16% 4.20M 16s',\n",
       " '  8800K .......... .......... .......... .......... .......... 16% 4.26M 16s',\n",
       " '  8850K .......... .......... .......... .......... .......... 16% 4.58M 16s',\n",
       " '  8900K .......... .......... .......... .......... .......... 16% 4.97M 16s',\n",
       " '  8950K .......... .......... .......... .......... .......... 16% 4.25M 16s',\n",
       " '  9000K .......... .......... .......... .......... .......... 16% 5.23M 16s',\n",
       " '  9050K .......... .......... .......... .......... .......... 16% 5.03M 15s',\n",
       " '  9100K .......... .......... .......... .......... .......... 16% 4.67M 15s',\n",
       " '  9150K .......... .......... .......... .......... .......... 16% 4.67M 15s',\n",
       " '  9200K .......... .......... .......... .......... .......... 16% 5.05M 15s',\n",
       " '  9250K .......... .......... .......... .......... .......... 17% 4.43M 15s',\n",
       " '  9300K .......... .......... .......... .......... .......... 17% 4.81M 15s',\n",
       " '  9350K .......... .......... .......... .......... .......... 17% 3.31M 15s',\n",
       " '  9400K .......... .......... .......... .......... .......... 17% 4.18M 15s',\n",
       " '  9450K .......... .......... .......... .......... .......... 17% 7.11M 15s',\n",
       " '  9500K .......... .......... .......... .......... .......... 17% 4.02M 15s',\n",
       " '  9550K .......... .......... .......... .......... .......... 17% 4.77M 15s',\n",
       " '  9600K .......... .......... .......... .......... .......... 17% 4.14M 15s',\n",
       " '  9650K .......... .......... .......... .......... .......... 17% 7.52M 15s',\n",
       " '  9700K .......... .......... .......... .......... .......... 17%  411K 15s',\n",
       " '  9750K .......... .......... .......... .......... .......... 17% 8.17M 15s',\n",
       " '  9800K .......... .......... .......... .......... .......... 18%  643K 16s',\n",
       " '  9850K .......... .......... .......... .......... .......... 18% 1.96M 16s',\n",
       " '  9900K .......... .......... .......... .......... .......... 18% 2.99M 16s',\n",
       " '  9950K .......... .......... .......... .......... .......... 18% 3.52M 16s',\n",
       " ' 10000K .......... .......... .......... .......... .......... 18% 1.77M 16s',\n",
       " ' 10050K .......... .......... .......... .......... .......... 18% 2.94M 16s',\n",
       " ' 10100K .......... .......... .......... .......... .......... 18% 3.36M 16s',\n",
       " ' 10150K .......... .......... .......... .......... .......... 18% 3.37M 15s',\n",
       " ' 10200K .......... .......... .......... .......... .......... 18% 3.69M 15s',\n",
       " ' 10250K .......... .......... .......... .......... .......... 18% 3.55M 15s',\n",
       " ' 10300K .......... .......... .......... .......... .......... 18% 3.87M 15s',\n",
       " ' 10350K .......... .......... .......... .......... .......... 19% 3.57M 15s',\n",
       " ' 10400K .......... .......... .......... .......... .......... 19% 3.74M 15s',\n",
       " ' 10450K .......... .......... .......... .......... .......... 19% 3.81M 15s',\n",
       " ' 10500K .......... .......... .......... .......... .......... 19% 4.45M 15s',\n",
       " ' 10550K .......... .......... .......... .......... .......... 19% 4.08M 15s',\n",
       " ' 10600K .......... .......... .......... .......... .......... 19% 5.54M 15s',\n",
       " ' 10650K .......... .......... .......... .......... .......... 19% 4.26M 15s',\n",
       " ' 10700K .......... .......... .......... .......... .......... 19% 4.96M 15s',\n",
       " ' 10750K .......... .......... .......... .......... .......... 19% 3.66M 15s',\n",
       " ' 10800K .......... .......... .......... .......... .......... 19% 5.09M 15s',\n",
       " ' 10850K .......... .......... .......... .......... .......... 19% 6.63M 15s',\n",
       " ' 10900K .......... .......... .......... .......... .......... 20% 3.88M 15s',\n",
       " ' 10950K .......... .......... .......... .......... .......... 20% 4.70M 15s',\n",
       " ' 11000K .......... .......... .......... .......... .......... 20% 4.19M 15s',\n",
       " ' 11050K .......... .......... .......... .......... .......... 20% 5.24M 15s',\n",
       " ' 11100K .......... .......... .......... .......... .......... 20% 4.91M 15s',\n",
       " ' 11150K .......... .......... .......... .......... .......... 20% 4.92M 15s',\n",
       " ' 11200K .......... .......... .......... .......... .......... 20% 4.12M 15s',\n",
       " ' 11250K .......... .......... .......... .......... .......... 20% 4.74M 15s',\n",
       " ' 11300K .......... .......... .......... .......... .......... 20% 3.84M 15s',\n",
       " ' 11350K .......... .......... .......... .......... .......... 20% 5.52M 14s',\n",
       " ' 11400K .......... .......... .......... .......... .......... 20% 5.35M 14s',\n",
       " ' 11450K .......... .......... .......... .......... .......... 21% 5.08M 14s',\n",
       " ' 11500K .......... .......... .......... .......... .......... 21% 3.40M 14s',\n",
       " ' 11550K .......... .......... .......... .......... .......... 21% 4.06M 14s',\n",
       " ' 11600K .......... .......... .......... .......... .......... 21% 4.29M 14s',\n",
       " ' 11650K .......... .......... .......... .......... .......... 21% 6.19M 14s',\n",
       " ' 11700K .......... .......... .......... .......... .......... 21% 3.43M 14s',\n",
       " ' 11750K .......... .......... .......... .......... .......... 21% 4.01M 14s',\n",
       " ' 11800K .......... .......... .......... .......... .......... 21% 4.05M 14s',\n",
       " ' 11850K .......... .......... .......... .......... .......... 21% 4.48M 14s',\n",
       " ' 11900K .......... .......... .......... .......... .......... 21% 3.96M 14s',\n",
       " ' 11950K .......... .......... .......... .......... .......... 21% 3.85M 14s',\n",
       " ' 12000K .......... .......... .......... .......... .......... 22% 4.20M 14s',\n",
       " ' 12050K .......... .......... .......... .......... .......... 22% 3.72M 14s',\n",
       " ' 12100K .......... .......... .......... .......... .......... 22% 4.66M 14s',\n",
       " ' 12150K .......... .......... .......... .......... .......... 22% 4.82M 14s',\n",
       " ' 12200K .......... .......... .......... .......... .......... 22% 4.41M 14s',\n",
       " ' 12250K .......... .......... .......... .......... .......... 22% 3.51M 14s',\n",
       " ' 12300K .......... .......... .......... .......... .......... 22% 4.89M 14s',\n",
       " ' 12350K .......... .......... .......... .......... .......... 22% 5.20M 14s',\n",
       " ' 12400K .......... .......... .......... .......... .......... 22% 4.16M 14s',\n",
       " ' 12450K .......... .......... .......... .......... .......... 22% 3.73M 14s',\n",
       " ' 12500K .......... .......... .......... .......... .......... 22% 4.33M 14s',\n",
       " ' 12550K .......... .......... .......... .......... .......... 23% 3.84M 14s',\n",
       " ' 12600K .......... .......... .......... .......... .......... 23% 5.33M 14s',\n",
       " ' 12650K .......... .......... .......... .......... .......... 23% 4.09M 14s',\n",
       " ' 12700K .......... .......... .......... .......... .......... 23% 3.71M 14s',\n",
       " ' 12750K .......... .......... .......... .......... .......... 23% 5.19M 14s',\n",
       " ' 12800K .......... .......... .......... .......... .......... 23% 4.72M 14s',\n",
       " ' 12850K .......... .......... .......... .......... .......... 23% 4.69M 13s',\n",
       " ' 12900K .......... .......... .......... .......... .......... 23% 3.75M 13s',\n",
       " ' 12950K .......... .......... .......... .......... .......... 23% 6.27M 13s',\n",
       " ' 13000K .......... .......... .......... .......... .......... 23% 4.08M 13s',\n",
       " ' 13050K .......... .......... .......... .......... .......... 24% 5.06M 13s',\n",
       " ' 13100K .......... .......... .......... .......... .......... 24% 3.71M 13s',\n",
       " ' 13150K .......... .......... .......... .......... .......... 24% 6.96M 13s',\n",
       " ' 13200K .......... .......... .......... .......... .......... 24% 4.27M 13s',\n",
       " ' 13250K .......... .......... .......... .......... .......... 24% 4.40M 13s',\n",
       " ' 13300K .......... .......... .......... .......... .......... 24% 4.29M 13s',\n",
       " ' 13350K .......... .......... .......... .......... .......... 24% 3.94M 13s',\n",
       " ' 13400K .......... .......... .......... .......... .......... 24% 8.83M 13s',\n",
       " ' 13450K .......... .......... .......... .......... .......... 24% 3.90M 13s',\n",
       " ' 13500K .......... .......... .......... .......... .......... 24% 1.28M 13s',\n",
       " ' 13550K .......... .......... .......... .......... .......... 24% 3.39M 13s',\n",
       " ' 13600K .......... .......... .......... .......... .......... 25% 3.55M 13s',\n",
       " ' 13650K .......... .......... .......... .......... .......... 25% 15.0M 13s',\n",
       " ' 13700K .......... .......... .......... .......... .......... 25% 3.85M 13s',\n",
       " ' 13750K .......... .......... .......... .......... .......... 25% 3.91M 13s',\n",
       " ' 13800K .......... .......... .......... .......... .......... 25% 4.41M 13s',\n",
       " ' 13850K .......... .......... .......... .......... .......... 25% 5.94M 13s',\n",
       " ' 13900K .......... .......... .......... .......... .......... 25% 4.80M 13s',\n",
       " ' 13950K .......... .......... .......... .......... .......... 25% 3.70M 13s',\n",
       " ' 14000K .......... .......... .......... .......... .......... 25% 5.06M 13s',\n",
       " ' 14050K .......... .......... .......... .......... .......... 25% 4.68M 13s',\n",
       " ' 14100K .......... .......... .......... .......... .......... 25% 4.72M 13s',\n",
       " ' 14150K .......... .......... .......... .......... .......... 26% 5.85M 13s',\n",
       " ' 14200K .......... .......... .......... .......... .......... 26% 4.66M 13s',\n",
       " ' 14250K .......... .......... .......... .......... .......... 26% 4.35M 13s',\n",
       " ' 14300K .......... .......... .......... .......... .......... 26% 4.64M 13s',\n",
       " ' 14350K .......... .......... .......... .......... .......... 26% 4.78M 13s',\n",
       " ' 14400K .......... .......... .......... .......... .......... 26% 5.56M 13s',\n",
       " ' 14450K .......... .......... .......... .......... .......... 26% 3.88M 13s',\n",
       " ' 14500K .......... .......... .......... .......... .......... 26% 5.50M 12s',\n",
       " ' 14550K .......... .......... .......... .......... .......... 26% 4.35M 12s',\n",
       " ' 14600K .......... .......... .......... .......... .......... 26% 5.67M 12s',\n",
       " ' 14650K .......... .......... .......... .......... .......... 26% 4.39M 12s',\n",
       " ' 14700K .......... .......... .......... .......... .......... 27% 4.34M 12s',\n",
       " ' 14750K .......... .......... .......... .......... .......... 27% 4.93M 12s',\n",
       " ' 14800K .......... .......... .......... .......... .......... 27% 4.37M 12s',\n",
       " ' 14850K .......... .......... .......... .......... .......... 27% 3.74M 12s',\n",
       " ' 14900K .......... .......... .......... .......... .......... 27% 9.58M 12s',\n",
       " ' 14950K .......... .......... .......... .......... .......... 27% 4.44M 12s',\n",
       " ' 15000K .......... .......... .......... .......... .......... 27% 5.07M 12s',\n",
       " ' 15050K .......... .......... .......... .......... .......... 27% 4.59M 12s',\n",
       " ' 15100K .......... .......... .......... .......... .......... 27% 4.85M 12s',\n",
       " ' 15150K .......... .......... .......... .......... .......... 27% 4.23M 12s',\n",
       " ' 15200K .......... .......... .......... .......... .......... 27% 5.29M 12s',\n",
       " ' 15250K .......... .......... .......... .......... .......... 28% 4.08M 12s',\n",
       " ' 15300K .......... .......... .......... .......... .......... 28% 4.06M 12s',\n",
       " ' 15350K .......... .......... .......... .......... .......... 28% 8.39M 12s',\n",
       " ' 15400K .......... .......... .......... .......... .......... 28% 4.10M 12s',\n",
       " ' 15450K .......... .......... .......... .......... .......... 28% 3.93M 12s',\n",
       " ' 15500K .......... .......... .......... .......... .......... 28% 4.48M 12s',\n",
       " ' 15550K .......... .......... .......... .......... .......... 28% 4.78M 12s',\n",
       " ' 15600K .......... .......... .......... .......... .......... 28% 4.69M 12s',\n",
       " ' 15650K .......... .......... .......... .......... .......... 28% 6.05M 12s',\n",
       " ' 15700K .......... .......... .......... .......... .......... 28% 4.22M 12s',\n",
       " ' 15750K .......... .......... .......... .......... .......... 28% 4.96M 12s',\n",
       " ' 15800K .......... .......... .......... .......... .......... 29% 4.26M 12s',\n",
       " ' 15850K .......... .......... .......... .......... .......... 29% 4.71M 12s',\n",
       " ' 15900K .......... .......... .......... .......... .......... 29% 94.2K 13s',\n",
       " ' 15950K .......... .......... .......... .......... .......... 29% 8.32M 13s',\n",
       " ' 16000K .......... .......... .......... .......... .......... 29%  676K 13s',\n",
       " ' 16050K .......... .......... .......... .......... .......... 29% 3.47M 13s',\n",
       " ' 16100K .......... .......... .......... .......... .......... 29% 3.44M 13s',\n",
       " ' 16150K .......... .......... .......... .......... .......... 29% 1.95M 13s',\n",
       " ' 16200K .......... .......... .......... .......... .......... 29% 3.42M 13s',\n",
       " ' 16250K .......... .......... .......... .......... .......... 29% 3.42M 13s',\n",
       " ' 16300K .......... .......... .......... .......... .......... 29% 3.60M 13s',\n",
       " ' 16350K .......... .......... .......... .......... .......... 30% 3.51M 13s',\n",
       " ' 16400K .......... .......... .......... .......... .......... 30% 3.69M 13s',\n",
       " ' 16450K .......... .......... .......... .......... .......... 30% 3.35M 13s',\n",
       " ' 16500K .......... .......... .......... .......... .......... 30% 3.77M 13s',\n",
       " ' 16550K .......... .......... .......... .......... .......... 30% 3.34M 13s',\n",
       " ' 16600K .......... .......... .......... .......... .......... 30% 4.24M 13s',\n",
       " ' 16650K .......... .......... .......... .......... .......... 30% 4.15M 13s',\n",
       " ' 16700K .......... .......... .......... .......... .......... 30% 4.46M 13s',\n",
       " ' 16750K .......... .......... .......... .......... .......... 30% 4.04M 13s',\n",
       " ' 16800K .......... .......... .......... .......... .......... 30% 4.00M 13s',\n",
       " ' 16850K .......... .......... .......... .......... .......... 30% 5.45M 13s',\n",
       " ' 16900K .......... .......... .......... .......... .......... 31% 4.68M 13s',\n",
       " ' 16950K .......... .......... .......... .......... .......... 31% 4.36M 13s',\n",
       " ' 17000K .......... .......... .......... .......... .......... 31% 4.43M 13s',\n",
       " ' 17050K .......... .......... .......... .......... .......... 31% 3.63M 13s',\n",
       " ' 17100K .......... .......... .......... .......... .......... 31% 8.15M 12s',\n",
       " ' 17150K .......... .......... .......... .......... .......... 31% 3.63M 12s',\n",
       " ' 17200K .......... .......... .......... .......... .......... 31% 4.67M 12s',\n",
       " ' 17250K .......... .......... .......... .......... .......... 31% 3.70M 12s',\n",
       " ' 17300K .......... .......... .......... .......... .......... 31% 4.97M 12s',\n",
       " ' 17350K .......... .......... .......... .......... .......... 31% 4.58M 12s',\n",
       " ' 17400K .......... .......... .......... .......... .......... 31% 3.83M 12s',\n",
       " ' 17450K .......... .......... .......... .......... .......... 32% 8.29M 12s',\n",
       " ' 17500K .......... .......... .......... .......... .......... 32% 4.15M 12s',\n",
       " ' 17550K .......... .......... .......... .......... .......... 32% 3.85M 12s',\n",
       " ' 17600K .......... .......... .......... .......... .......... 32% 4.71M 12s',\n",
       " ' 17650K .......... .......... .......... .......... .......... 32% 4.36M 12s',\n",
       " ' 17700K .......... .......... .......... .......... .......... 32% 4.20M 12s',\n",
       " ' 17750K .......... .......... .......... .......... .......... 32% 3.84M 12s',\n",
       " ' 17800K .......... .......... .......... .......... .......... 32% 5.37M 12s',\n",
       " ' 17850K .......... .......... .......... .......... .......... 32% 4.35M 12s',\n",
       " ' 17900K .......... .......... .......... .......... .......... 32% 4.75M 12s',\n",
       " ' 17950K .......... .......... .......... .......... .......... 32% 4.31M 12s',\n",
       " ' 18000K .......... .......... .......... .......... .......... 33% 4.34M 12s',\n",
       " ' 18050K .......... .......... .......... .......... .......... 33% 3.02M 12s',\n",
       " ' 18100K .......... .......... .......... .......... .......... 33% 4.51M 12s',\n",
       " ' 18150K .......... .......... .......... .......... .......... 33% 5.69M 12s',\n",
       " ' 18200K .......... .......... .......... .......... .......... 33% 4.32M 12s',\n",
       " ' 18250K .......... .......... .......... .......... .......... 33% 4.46M 12s',\n",
       " ' 18300K .......... .......... .......... .......... .......... 33% 4.04M 12s',\n",
       " ' 18350K .......... .......... .......... .......... .......... 33% 5.36M 12s',\n",
       " ' 18400K .......... .......... .......... .......... .......... 33% 4.05M 12s',\n",
       " ' 18450K .......... .......... .......... .......... .......... 33% 3.72M 12s',\n",
       " ' 18500K .......... .......... .......... .......... .......... 33% 5.83M 12s',\n",
       " ' 18550K .......... .......... .......... .......... .......... 34% 4.80M 12s',\n",
       " ' 18600K .......... .......... .......... .......... .......... 34% 3.96M 12s',\n",
       " ' 18650K .......... .......... .......... .......... .......... 34%  188K 12s',\n",
       " ' 18700K .......... .......... .......... .......... .......... 34% 1.69M 12s',\n",
       " ' 18750K .......... .......... .......... .......... .......... 34%  689K 12s',\n",
       " ' 18800K .......... .......... .......... .......... .......... 34% 1.85M 12s',\n",
       " ' 18850K .......... .......... .......... .......... .......... 34% 3.10M 12s',\n",
       " ' 18900K .......... .......... .......... .......... .......... 34% 1.92M 12s',\n",
       " ' 18950K .......... .......... .......... .......... .......... 34% 3.48M 12s',\n",
       " ' 19000K .......... .......... .......... .......... .......... 34% 3.36M 12s',\n",
       " ' 19050K .......... .......... .......... .......... .......... 35% 3.03M 12s',\n",
       " ' 19100K .......... .......... .......... .......... .......... 35% 2.46M 12s',\n",
       " ' 19150K .......... .......... .......... .......... .......... 35% 3.37M 12s',\n",
       " ' 19200K .......... .......... .......... .......... .......... 35% 2.24M 12s',\n",
       " ' 19250K .......... .......... .......... .......... .......... 35% 4.18M 12s',\n",
       " ' 19300K .......... .......... .......... .......... .......... 35% 3.38M 12s',\n",
       " ' 19350K .......... .......... .......... .......... .......... 35% 3.73M 12s',\n",
       " ' 19400K .......... .......... .......... .......... .......... 35% 3.45M 12s',\n",
       " ' 19450K .......... .......... .......... .......... .......... 35% 4.01M 12s',\n",
       " ' 19500K .......... .......... .......... .......... .......... 35% 3.66M 12s',\n",
       " ' 19550K .......... .......... .......... .......... .......... 35% 3.68M 12s',\n",
       " ' 19600K .......... .......... .......... .......... .......... 36% 4.24M 12s',\n",
       " ' 19650K .......... .......... .......... .......... .......... 36% 7.45M 12s',\n",
       " ' 19700K .......... .......... .......... .......... .......... 36% 3.50M 12s',\n",
       " ' 19750K .......... .......... .......... .......... .......... 36% 4.21M 12s',\n",
       " ' 19800K .......... .......... .......... .......... .......... 36% 5.23M 12s',\n",
       " ' 19850K .......... .......... .......... .......... .......... 36% 4.15M 12s',\n",
       " ' 19900K .......... .......... .......... .......... .......... 36% 5.30M 12s',\n",
       " ' 19950K .......... .......... .......... .......... .......... 36% 3.35M 12s',\n",
       " ' 20000K .......... .......... .......... .......... .......... 36% 7.63M 12s',\n",
       " ' 20050K .......... .......... .......... .......... .......... 36% 4.55M 12s',\n",
       " ' 20100K .......... .......... .......... .......... .......... 36% 3.88M 12s',\n",
       " ' 20150K .......... .......... .......... .......... .......... 37% 4.16M 12s',\n",
       " ' 20200K .......... .......... .......... .......... .......... 37% 4.43M 12s',\n",
       " ' 20250K .......... .......... .......... .......... .......... 37% 4.89M 12s',\n",
       " ' 20300K .......... .......... .......... .......... .......... 37% 4.89M 12s',\n",
       " ' 20350K .......... .......... .......... .......... .......... 37% 3.03M 11s',\n",
       " ' 20400K .......... .......... .......... .......... .......... 37% 3.57M 11s',\n",
       " ' 20450K .......... .......... .......... .......... .......... 37% 10.1M 11s',\n",
       " ' 20500K .......... .......... .......... .......... .......... 37% 2.90M 11s',\n",
       " ' 20550K .......... .......... .......... .......... .......... 37% 3.46M 11s',\n",
       " ' 20600K .......... .......... .......... .......... .......... 37% 4.61M 11s',\n",
       " ' 20650K .......... .......... .......... .......... .......... 37% 3.98M 11s',\n",
       " ' 20700K .......... .......... .......... .......... .......... 38% 5.78M 11s',\n",
       " ' 20750K .......... .......... .......... .......... .......... 38% 4.32M 11s',\n",
       " ' 20800K .......... .......... .......... .......... .......... 38% 3.61M 11s',\n",
       " ' 20850K .......... .......... .......... .......... .......... 38% 9.12M 11s',\n",
       " ' 20900K .......... .......... .......... .......... .......... 38% 4.40M 11s',\n",
       " ' 20950K .......... .......... .......... .......... .......... 38% 3.70M 11s',\n",
       " ' 21000K .......... .......... .......... .......... .......... 38% 3.94M 11s',\n",
       " ' 21050K .......... .......... .......... .......... .......... 38% 8.88M 11s',\n",
       " ' 21100K .......... .......... .......... .......... .......... 38% 3.85M 11s',\n",
       " ' 21150K .......... .......... .......... .......... .......... 38% 4.03M 11s',\n",
       " ' 21200K .......... .......... .......... .......... .......... 38% 3.48M 11s',\n",
       " ' 21250K .......... .......... .......... .......... .......... 39% 6.46M 11s',\n",
       " ' 21300K .......... .......... .......... .......... .......... 39% 4.88M 11s',\n",
       " ' 21350K .......... .......... .......... .......... .......... 39% 3.50M 11s',\n",
       " ' 21400K .......... .......... .......... .......... .......... 39% 4.19M 11s',\n",
       " ' 21450K .......... .......... .......... .......... .......... 39% 6.29M 11s',\n",
       " ' 21500K .......... .......... .......... .......... .......... 39% 4.88M 11s',\n",
       " ' 21550K .......... .......... .......... .......... .......... 39% 4.31M 11s',\n",
       " ' 21600K .......... .......... .......... .......... .......... 39% 3.86M 11s',\n",
       " ' 21650K .......... .......... .......... .......... .......... 39% 5.13M 11s',\n",
       " ' 21700K .......... .......... .......... .......... .......... 39%  285K 11s',\n",
       " ' 21750K .......... .......... .......... .......... .......... 39% 1.64M 11s',\n",
       " ' 21800K .......... .......... .......... .......... .......... 40%  799K 11s',\n",
       " ' 21850K .......... .......... .......... .......... .......... 40% 1.78M 11s',\n",
       " ' 21900K .......... .......... .......... .......... .......... 40% 3.14M 11s',\n",
       " ' 21950K .......... .......... .......... .......... .......... 40% 1.85M 11s',\n",
       " ' 22000K .......... .......... .......... .......... .......... 40% 2.67M 11s',\n",
       " ' 22050K .......... .......... .......... .......... .......... 40% 3.68M 11s',\n",
       " ' 22100K .......... .......... .......... .......... .......... 40% 2.83M 11s',\n",
       " ' 22150K .......... .......... .......... .......... .......... 40% 2.92M 11s',\n",
       " ' 22200K .......... .......... .......... .......... .......... 40% 1.78M 11s',\n",
       " ' 22250K .......... .......... .......... .......... .......... 40%  669K 11s',\n",
       " ' 22300K .......... .......... .......... .......... .......... 40% 1.83M 11s',\n",
       " ' 22350K .......... .......... .......... .......... .......... 41% 1.80M 11s',\n",
       " ' 22400K .......... .......... .......... .......... .......... 41% 3.60M 11s',\n",
       " ' 22450K .......... .......... .......... .......... .......... 41% 1.73M 11s',\n",
       " ' 22500K .......... .......... .......... .......... .......... 41% 3.07M 11s',\n",
       " ' 22550K .......... .......... .......... .......... .......... 41% 2.22M 11s',\n",
       " ' 22600K .......... .......... .......... .......... .......... 41% 3.09M 11s',\n",
       " ' 22650K .......... .......... .......... .......... .......... 41% 3.25M 11s',\n",
       " ' 22700K .......... .......... .......... .......... .......... 41% 2.37M 11s',\n",
       " ' 22750K .......... .......... .......... .......... .......... 41% 3.46M 11s',\n",
       " ' 22800K .......... .......... .......... .......... .......... 41% 3.07M 11s',\n",
       " ' 22850K .......... .......... .......... .......... .......... 41% 3.76M 11s',\n",
       " ' 22900K .......... .......... .......... .......... .......... 42% 3.73M 11s',\n",
       " ' 22950K .......... .......... .......... .......... .......... 42% 3.48M 11s',\n",
       " ' 23000K .......... .......... .......... .......... .......... 42% 3.67M 11s',\n",
       " ' 23050K .......... .......... .......... .......... .......... 42% 3.55M 11s',\n",
       " ' 23100K .......... .......... .......... .......... .......... 42% 4.30M 11s',\n",
       " ' 23150K .......... .......... .......... .......... .......... 42% 3.78M 11s',\n",
       " ' 23200K .......... .......... .......... .......... .......... 42% 5.11M 11s',\n",
       " ' 23250K .......... .......... .......... .......... .......... 42% 4.26M 11s',\n",
       " ' 23300K .......... .......... .......... .......... .......... 42% 4.72M 11s',\n",
       " ' 23350K .......... .......... .......... .......... .......... 42% 3.84M 11s',\n",
       " ' 23400K .......... .......... .......... .......... .......... 42% 4.57M 11s',\n",
       " ' 23450K .......... .......... .......... .......... .......... 43% 5.88M 11s',\n",
       " ' 23500K .......... .......... .......... .......... .......... 43% 4.50M 11s',\n",
       " ' 23550K .......... .......... .......... .......... .......... 43%  171K 11s',\n",
       " ' 23600K .......... .......... .......... .......... .......... 43% 1.69M 11s',\n",
       " ' 23650K .......... .......... .......... .......... .......... 43%  691K 11s',\n",
       " ' 23700K .......... .......... .......... .......... .......... 43% 2.03M 11s',\n",
       " ' 23750K .......... .......... .......... .......... .......... 43% 2.58M 11s',\n",
       " ' 23800K .......... .......... .......... .......... .......... 43% 3.67M 11s',\n",
       " ' 23850K .......... .......... .......... .......... .......... 43% 2.61M 11s',\n",
       " ' 23900K .......... .......... .......... .......... .......... 43% 2.92M 11s',\n",
       " ' 23950K .......... .......... .......... .......... .......... 43% 3.23M 11s',\n",
       " ' 24000K .......... .......... .......... .......... .......... 44% 3.00M 11s',\n",
       " ' 24050K .......... .......... .......... .......... .......... 44% 3.73M 11s',\n",
       " ' 24100K .......... .......... .......... .......... .......... 44% 3.69M 11s',\n",
       " ' 24150K .......... .......... .......... .......... .......... 44% 3.61M 11s',\n",
       " ' 24200K .......... .......... .......... .......... .......... 44% 3.43M 11s',\n",
       " ' 24250K .......... .......... .......... .......... .......... 44% 3.31M 11s',\n",
       " ' 24300K .......... .......... .......... .......... .......... 44% 4.29M 11s',\n",
       " ' 24350K .......... .......... .......... .......... .......... 44% 4.14M 11s',\n",
       " ' 24400K .......... .......... .......... .......... .......... 44% 5.47M 11s',\n",
       " ' 24450K .......... .......... .......... .......... .......... 44% 3.81M 11s',\n",
       " ' 24500K .......... .......... .......... .......... .......... 44% 3.84M 11s',\n",
       " ' 24550K .......... .......... .......... .......... .......... 45% 6.24M 11s',\n",
       " ' 24600K .......... .......... .......... .......... .......... 45% 3.79M 11s',\n",
       " ' 24650K .......... .......... .......... .......... .......... 45% 4.38M 11s',\n",
       " ' 24700K .......... .......... .......... .......... .......... 45% 6.10M 10s',\n",
       " ' 24750K .......... .......... .......... .......... .......... 45% 5.25M 10s',\n",
       " ' 24800K .......... .......... .......... .......... .......... 45% 3.86M 10s',\n",
       " ' 24850K .......... .......... .......... .......... .......... 45% 4.76M 10s',\n",
       " ' 24900K .......... .......... .......... .......... .......... 45% 5.29M 10s',\n",
       " ' 24950K .......... .......... .......... .......... .......... 45% 4.41M 10s',\n",
       " ' 25000K .......... .......... .......... .......... .......... 45% 4.90M 10s',\n",
       " ' 25050K .......... .......... .......... .......... .......... 45% 4.42M 10s',\n",
       " ' 25100K .......... .......... .......... .......... .......... 46% 4.05M 10s',\n",
       " ' 25150K .......... .......... .......... .......... .......... 46% 5.40M 10s',\n",
       " ' 25200K .......... .......... .......... .......... .......... 46% 4.50M 10s',\n",
       " ' 25250K .......... .......... .......... .......... .......... 46% 4.54M 10s',\n",
       " ' 25300K .......... .......... .......... .......... .......... 46% 5.25M 10s',\n",
       " ' 25350K .......... .......... .......... .......... .......... 46% 3.96M 10s',\n",
       " ' 25400K .......... .......... .......... .......... .......... 46% 5.18M 10s',\n",
       " ' 25450K .......... .......... .......... .......... .......... 46% 4.12M 10s',\n",
       " ' 25500K .......... .......... .......... .......... .......... 46% 3.89M 10s',\n",
       " ' 25550K .......... .......... .......... .......... .......... 46% 4.83M 10s',\n",
       " ' 25600K .......... .......... .......... .......... .......... 47% 5.29M 10s',\n",
       " ' 25650K .......... .......... .......... .......... .......... 47% 4.47M 10s',\n",
       " ' 25700K .......... .......... .......... .......... .......... 47% 3.31M 10s',\n",
       " ' 25750K .......... .......... .......... .......... .......... 47% 4.35M 10s',\n",
       " ' 25800K .......... .......... .......... .......... .......... 47% 5.04M 10s',\n",
       " ' 25850K .......... .......... .......... .......... .......... 47% 5.42M 10s',\n",
       " ' 25900K .......... .......... .......... .......... .......... 47% 4.36M 10s',\n",
       " ' 25950K .......... .......... .......... .......... .......... 47% 4.73M 10s',\n",
       " ' 26000K .......... .......... .......... .......... .......... 47% 2.92M 10s',\n",
       " ' 26050K .......... .......... .......... .......... .......... 47% 13.5M 10s',\n",
       " ' 26100K .......... .......... .......... .......... .......... 47% 3.53M 10s',\n",
       " ' 26150K .......... .......... .......... .......... .......... 48% 3.21M 10s',\n",
       " ' 26200K .......... .......... .......... .......... .......... 48% 5.64M 10s',\n",
       " ' 26250K .......... .......... .......... .......... .......... 48% 4.22M 10s',\n",
       " ' 26300K .......... .......... .......... .......... .......... 48% 3.81M 10s',\n",
       " ' 26350K .......... .......... .......... .......... .......... 48% 4.78M 10s',\n",
       " ' 26400K .......... .......... .......... .......... .......... 48% 4.93M 10s',\n",
       " ' 26450K .......... .......... .......... .......... .......... 48% 5.12M 10s',\n",
       " ' 26500K .......... .......... .......... .......... .......... 48%  204K 10s',\n",
       " ' 26550K .......... .......... .......... .......... .......... 48% 1.20M 10s',\n",
       " ' 26600K .......... .......... .......... .......... .......... 48%  752K 10s',\n",
       " ' 26650K .......... .......... .......... .......... .......... 48% 1.88M 10s',\n",
       " ' 26700K .......... .......... .......... .......... .......... 49% 2.11M 10s',\n",
       " ' 26750K .......... .......... .......... .......... .......... 49% 3.74M 10s',\n",
       " ' 26800K .......... .......... .......... .......... .......... 49% 2.47M 10s',\n",
       " ' 26850K .......... .......... .......... .......... .......... 49% 3.08M 10s',\n",
       " ' 26900K .......... .......... .......... .......... .......... 49% 2.85M 10s',\n",
       " ' 26950K .......... .......... .......... .......... .......... 49% 3.30M 10s',\n",
       " ' 27000K .......... .......... .......... .......... .......... 49% 3.51M 10s',\n",
       " ' 27050K .......... .......... .......... .......... .......... 49% 2.51M 10s',\n",
       " ' 27100K .......... .......... .......... .......... .......... 49% 3.56M 10s',\n",
       " ' 27150K .......... .......... .......... .......... .......... 49% 3.76M 10s',\n",
       " ' 27200K .......... .......... .......... .......... .......... 49% 2.82M 10s',\n",
       " ' 27250K .......... .......... .......... .......... .......... 50% 7.56M 10s',\n",
       " ' 27300K .......... .......... .......... .......... .......... 50% 3.56M 10s',\n",
       " ' 27350K .......... .......... .......... .......... .......... 50% 3.31M 10s',\n",
       " ' 27400K .......... .......... .......... .......... .......... 50% 3.33M 10s',\n",
       " ' 27450K .......... .......... .......... .......... .......... 50% 4.80M 10s',\n",
       " ' 27500K .......... .......... .......... .......... .......... 50% 6.71M 10s',\n",
       " ' 27550K .......... .......... .......... .......... .......... 50% 3.81M 10s',\n",
       " ' 27600K .......... .......... .......... .......... .......... 50% 3.80M 9s',\n",
       " ' 27650K .......... .......... .......... .......... .......... 50% 3.56M 9s',\n",
       " ' 27700K .......... .......... .......... .......... .......... 50% 6.20M 9s',\n",
       " ' 27750K .......... .......... .......... .......... .......... 50% 4.60M 9s',\n",
       " ' 27800K .......... .......... .......... .......... .......... 51% 3.93M 9s',\n",
       " ' 27850K .......... .......... .......... .......... .......... 51% 4.47M 9s',\n",
       " ' 27900K .......... .......... .......... .......... .......... 51% 4.59M 9s',\n",
       " ' 27950K .......... .......... .......... .......... .......... 51% 5.34M 9s',\n",
       " ' 28000K .......... .......... .......... .......... .......... 51% 4.19M 9s',\n",
       " ' 28050K .......... .......... .......... .......... .......... 51% 4.64M 9s',\n",
       " ' 28100K .......... .......... .......... .......... .......... 51% 4.10M 9s',\n",
       " ' 28150K .......... .......... .......... .......... .......... 51% 5.69M 9s',\n",
       " ' 28200K .......... .......... .......... .......... .......... 51% 4.65M 9s',\n",
       " ' 28250K .......... .......... .......... .......... .......... 51% 3.63M 9s',\n",
       " ' 28300K .......... .......... .......... .......... .......... 51% 4.76M 9s',\n",
       " ' 28350K .......... .......... .......... .......... .......... 52% 4.99M 9s',\n",
       " ' 28400K .......... .......... .......... .......... .......... 52% 5.12M 9s',\n",
       " ' 28450K .......... .......... .......... .......... .......... 52% 4.72M 9s',\n",
       " ' 28500K .......... .......... .......... .......... .......... 52% 3.63M 9s',\n",
       " ' 28550K .......... .......... .......... .......... .......... 52% 6.42M 9s',\n",
       " ' 28600K .......... .......... .......... .......... .......... 52% 4.35M 9s',\n",
       " ' 28650K .......... .......... .......... .......... .......... 52% 3.92M 9s',\n",
       " ' 28700K .......... .......... .......... .......... .......... 52% 4.40M 9s',\n",
       " ' 28750K .......... .......... .......... .......... .......... 52% 6.98M 9s',\n",
       " ' 28800K .......... .......... .......... .......... .......... 52% 3.54M 9s',\n",
       " ' 28850K .......... .......... .......... .......... .......... 52% 3.12M 9s',\n",
       " ' 28900K .......... .......... .......... .......... .......... 53% 4.74M 9s',\n",
       " ' 28950K .......... .......... .......... .......... .......... 53% 6.13M 9s',\n",
       " ' 29000K .......... .......... .......... .......... .......... 53%  176K 9s',\n",
       " ' 29050K .......... .......... .......... .......... .......... 53% 1.50M 9s',\n",
       " ' 29100K .......... .......... .......... .......... .......... 53%  659K 9s',\n",
       " ' 29150K .......... .......... .......... .......... .......... 53% 3.56M 9s',\n",
       " ' 29200K .......... .......... .......... .......... .......... 53% 1.85M 9s',\n",
       " ' 29250K .......... .......... .......... .......... .......... 53% 2.76M 9s',\n",
       " ' 29300K .......... .......... .......... .......... .......... 53% 3.46M 9s',\n",
       " ' 29350K .......... .......... .......... .......... .......... 53% 2.94M 9s',\n",
       " ' 29400K .......... .......... .......... .......... .......... 53% 2.86M 9s',\n",
       " ' 29450K .......... .......... .......... .......... .......... 54% 3.57M 9s',\n",
       " ' 29500K .......... .......... .......... .......... .......... 54% 3.87M 9s',\n",
       " ' 29550K .......... .......... .......... .......... .......... 54% 3.29M 9s',\n",
       " ' 29600K .......... .......... .......... .......... .......... 54% 3.72M 9s',\n",
       " ' 29650K .......... .......... .......... .......... .......... 54% 3.48M 9s',\n",
       " ' 29700K .......... .......... .......... .......... .......... 54% 3.40M 9s',\n",
       " ' 29750K .......... .......... .......... .......... .......... 54% 4.46M 9s',\n",
       " ' 29800K .......... .......... .......... .......... .......... 54% 4.07M 9s',\n",
       " ' 29850K .......... .......... .......... .......... .......... 54% 4.75M 9s',\n",
       " ' 29900K .......... .......... .......... .......... .......... 54% 4.47M 9s',\n",
       " ' 29950K .......... .......... .......... .......... .......... 54% 4.33M 9s',\n",
       " ' 30000K .......... .......... .......... .......... .......... 55% 4.72M 9s',\n",
       " ' 30050K .......... .......... .......... .......... .......... 55% 4.77M 9s',\n",
       " ' 30100K .......... .......... .......... .......... .......... 55% 4.99M 9s',\n",
       " ' 30150K .......... .......... .......... .......... .......... 55% 3.91M 9s',\n",
       " ' 30200K .......... .......... .......... .......... .......... 55% 6.41M 9s',\n",
       " ' 30250K .......... .......... .......... .......... .......... 55% 4.45M 9s',\n",
       " ' 30300K .......... .......... .......... .......... .......... 55% 4.39M 9s',\n",
       " ' 30350K .......... .......... .......... .......... .......... 55% 5.04M 9s',\n",
       " ' 30400K .......... .......... .......... .......... .......... 55% 4.94M 9s',\n",
       " ' 30450K .......... .......... .......... .......... .......... 55% 4.03M 9s',\n",
       " ' 30500K .......... .......... .......... .......... .......... 55% 3.91M 8s',\n",
       " ' 30550K .......... .......... .......... .......... .......... 56% 4.79M 8s',\n",
       " ' 30600K .......... .......... .......... .......... .......... 56% 5.75M 8s',\n",
       " ' 30650K .......... .......... .......... .......... .......... 56% 3.81M 8s',\n",
       " ' 30700K .......... .......... .......... .......... .......... 56% 6.41M 8s',\n",
       " ' 30750K .......... .......... .......... .......... .......... 56% 4.62M 8s',\n",
       " ' 30800K .......... .......... .......... .......... .......... 56% 4.13M 8s',\n",
       " ' 30850K .......... .......... .......... .......... .......... 56% 4.31M 8s',\n",
       " ' 30900K .......... .......... .......... .......... .......... 56% 4.12M 8s',\n",
       " ' 30950K .......... .......... .......... .......... .......... 56% 5.02M 8s',\n",
       " ' 31000K .......... .......... .......... .......... .......... 56% 4.40M 8s',\n",
       " ' 31050K .......... .......... .......... .......... .......... 56% 4.20M 8s',\n",
       " ' 31100K .......... .......... .......... .......... .......... 57% 5.28M 8s',\n",
       " ' 31150K .......... .......... .......... .......... .......... 57% 4.88M 8s',\n",
       " ' 31200K .......... .......... .......... .......... .......... 57% 4.72M 8s',\n",
       " ' 31250K .......... .......... .......... .......... .......... 57% 5.40M 8s',\n",
       " ' 31300K .......... .......... .......... .......... .......... 57% 4.89M 8s',\n",
       " ' 31350K .......... .......... .......... .......... .......... 57%  127K 8s',\n",
       " ' 31400K .......... .......... .......... .......... .......... 57% 1.32M 8s',\n",
       " ' 31450K .......... .......... .......... .......... .......... 57%  994K 8s',\n",
       " ' 31500K .......... .......... .......... .......... .......... 57% 3.25M 8s',\n",
       " ' 31550K .......... .......... .......... .......... .......... 57% 1.96M 8s',\n",
       " ' 31600K .......... .......... .......... .......... .......... 58% 2.77M 8s',\n",
       " ' 31650K .......... .......... .......... .......... .......... 58% 3.32M 8s',\n",
       " ' 31700K .......... .......... .......... .......... .......... 58% 3.48M 8s',\n",
       " ' 31750K .......... .......... .......... .......... .......... 58% 3.36M 8s',\n",
       " ' 31800K .......... .......... .......... .......... .......... 58% 3.47M 8s',\n",
       " ' 31850K .......... .......... .......... .......... .......... 58% 3.45M 8s',\n",
       " ' 31900K .......... .......... .......... .......... .......... 58% 3.59M 8s',\n",
       " ' 31950K .......... .......... .......... .......... .......... 58% 3.82M 8s',\n",
       " ' 32000K .......... .......... .......... .......... .......... 58% 3.79M 8s',\n",
       " ' 32050K .......... .......... .......... .......... .......... 58% 4.10M 8s',\n",
       " ' 32100K .......... .......... .......... .......... .......... 58% 3.54M 8s',\n",
       " ' 32150K .......... .......... .......... .......... .......... 59% 4.09M 8s',\n",
       " ' 32200K .......... .......... .......... .......... .......... 59% 5.08M 8s',\n",
       " ' 32250K .......... .......... .......... .......... .......... 59% 5.03M 8s',\n",
       " ' 32300K .......... .......... .......... .......... .......... 59% 4.50M 8s',\n",
       " ' 32350K .......... .......... .......... .......... .......... 59% 4.89M 8s',\n",
       " ' 32400K .......... .......... .......... .......... .......... 59% 3.87M 8s',\n",
       " ' 32450K .......... .......... .......... .......... .......... 59% 4.29M 8s',\n",
       " ' 32500K .......... .......... .......... .......... .......... 59% 5.37M 8s',\n",
       " ' 32550K .......... .......... .......... .......... .......... 59% 3.85M 8s',\n",
       " ' 32600K .......... .......... .......... .......... .......... 59% 5.63M 8s',\n",
       " ' 32650K .......... .......... .......... .......... .......... 59% 5.79M 8s',\n",
       " ' 32700K .......... .......... .......... .......... .......... 60% 2.91M 8s',\n",
       " ' 32750K .......... .......... .......... .......... .......... 60% 7.43M 8s',\n",
       " ' 32800K .......... .......... .......... .......... .......... 60% 3.79M 8s',\n",
       " ' 32850K .......... .......... .......... .......... .......... 60% 5.48M 8s',\n",
       " ' 32900K .......... .......... .......... .......... .......... 60% 4.37M 8s',\n",
       " ' 32950K .......... .......... .......... .......... .......... 60% 4.10M 8s',\n",
       " ' 33000K .......... .......... .......... .......... .......... 60% 5.78M 8s',\n",
       " ' 33050K .......... .......... .......... .......... .......... 60% 4.75M 8s',\n",
       " ' 33100K .......... .......... .......... .......... .......... 60% 4.44M 8s',\n",
       " ' 33150K .......... .......... .......... .......... .......... 60% 4.51M 8s',\n",
       " ' 33200K .......... .......... .......... .......... .......... 60% 3.61M 8s',\n",
       " ' 33250K .......... .......... .......... .......... .......... 61% 4.29M 8s',\n",
       " ' 33300K .......... .......... .......... .......... .......... 61% 4.77M 8s',\n",
       " ' 33350K .......... .......... .......... .......... .......... 61% 5.29M 8s',\n",
       " ' 33400K .......... .......... .......... .......... .......... 61% 5.00M 8s',\n",
       " ' 33450K .......... .......... .......... .......... .......... 61% 3.68M 7s',\n",
       " ' 33500K .......... .......... .......... .......... .......... 61% 4.16M 7s',\n",
       " ' 33550K .......... .......... .......... .......... .......... 61% 5.06M 7s',\n",
       " ' 33600K .......... .......... .......... .......... .......... 61% 4.58M 7s',\n",
       " ' 33650K .......... .......... .......... .......... .......... 61% 5.47M 7s',\n",
       " ' 33700K .......... .......... .......... .......... .......... 61% 3.86M 7s',\n",
       " ' 33750K .......... .......... .......... .......... .......... 61% 4.91M 7s',\n",
       " ' 33800K .......... .......... .......... .......... .......... 62% 4.59M 7s',\n",
       " ' 33850K .......... .......... .......... .......... .......... 62% 5.75M 7s',\n",
       " ' 33900K .......... .......... .......... .......... .......... 62% 4.07M 7s',\n",
       " ' 33950K .......... .......... .......... .......... .......... 62% 4.11M 7s',\n",
       " ' 34000K .......... .......... .......... .......... .......... 62% 4.27M 7s',\n",
       " ' 34050K .......... .......... .......... .......... .......... 62% 5.05M 7s',\n",
       " ' 34100K .......... .......... .......... .......... .......... 62% 5.89M 7s',\n",
       " ' 34150K .......... .......... .......... .......... .......... 62% 4.47M 7s',\n",
       " ' 34200K .......... .......... .......... .......... .......... 62% 4.51M 7s',\n",
       " ' 34250K .......... .......... .......... .......... .......... 62% 5.82M 7s',\n",
       " ' 34300K .......... .......... .......... .......... .......... 62% 4.81M 7s',\n",
       " ' 34350K .......... .......... .......... .......... .......... 63% 4.51M 7s',\n",
       " ' 34400K .......... .......... .......... .......... .......... 63% 5.31M 7s',\n",
       " ' 34450K .......... .......... .......... .......... .......... 63% 4.56M 7s',\n",
       " ' 34500K .......... .......... .......... .......... .......... 63% 4.26M 7s',\n",
       " ' 34550K .......... .......... .......... .......... .......... 63% 5.17M 7s',\n",
       " ' 34600K .......... .......... .......... .......... .......... 63% 3.58M 7s',\n",
       " ' 34650K .......... .......... .......... .......... .......... 63% 5.46M 7s',\n",
       " ' 34700K .......... .......... .......... .......... .......... 63% 4.11M 7s',\n",
       " ' 34750K .......... .......... .......... .......... .......... 63% 4.26M 7s',\n",
       " ' 34800K .......... .......... .......... .......... .......... 63% 7.98M 7s',\n",
       " ' 34850K .......... .......... .......... .......... .......... 63% 4.14M 7s',\n",
       " ' 34900K .......... .......... .......... .......... .......... 64% 3.89M 7s',\n",
       " ' 34950K .......... .......... .......... .......... .......... 64% 5.65M 7s',\n",
       " ' 35000K .......... .......... .......... .......... .......... 64% 4.91M 7s',\n",
       " ' 35050K .......... .......... .......... .......... .......... 64% 4.16M 7s',\n",
       " ' 35100K .......... .......... .......... .......... .......... 64% 4.40M 7s',\n",
       " ' 35150K .......... .......... .......... .......... .......... 64% 4.55M 7s',\n",
       " ' 35200K .......... .......... .......... .......... .......... 64% 5.40M 7s',\n",
       " ' 35250K .......... .......... .......... .......... .......... 64% 4.00M 7s',\n",
       " ' 35300K .......... .......... .......... .......... .......... 64% 5.09M 7s',\n",
       " ' 35350K .......... .......... .......... .......... .......... 64% 4.49M 7s',\n",
       " ' 35400K .......... .......... .......... .......... .......... 64% 4.34M 7s',\n",
       " ' 35450K .......... .......... .......... .......... .......... 65% 4.14M 7s',\n",
       " ' 35500K .......... .......... .......... .......... .......... 65% 5.47M 7s',\n",
       " ' 35550K .......... .......... .......... .......... .......... 65% 4.54M 7s',\n",
       " ' 35600K .......... .......... .......... .......... .......... 65% 4.14M 7s',\n",
       " ' 35650K .......... .......... .......... .......... .......... 65% 3.43M 7s',\n",
       " ' 35700K .......... .......... .......... .......... .......... 65% 4.53M 7s',\n",
       " ' 35750K .......... .......... .......... .......... .......... 65% 3.60M 7s',\n",
       " ' 35800K .......... .......... .......... .......... .......... 65% 4.85M 6s',\n",
       " ' 35850K .......... .......... .......... .......... .......... 65% 3.62M 6s',\n",
       " ' 35900K .......... .......... .......... .......... .......... 65% 3.94M 6s',\n",
       " ' 35950K .......... .......... .......... .......... .......... 65% 7.39M 6s',\n",
       " ' 36000K .......... .......... .......... .......... .......... 66% 3.89M 6s',\n",
       " ' 36050K .......... .......... .......... .......... .......... 66% 4.34M 6s',\n",
       " ' 36100K .......... .......... .......... .......... .......... 66% 4.93M 6s',\n",
       " ' 36150K .......... .......... .......... .......... .......... 66% 4.72M 6s',\n",
       " ' 36200K .......... .......... .......... .......... .......... 66% 4.70M 6s',\n",
       " ' 36250K .......... .......... .......... .......... .......... 66% 4.76M 6s',\n",
       " ' 36300K .......... .......... .......... .......... .......... 66% 4.47M 6s',\n",
       " ' 36350K .......... .......... .......... .......... .......... 66% 4.79M 6s',\n",
       " ' 36400K .......... .......... .......... .......... .......... 66% 6.82M 6s',\n",
       " ' 36450K .......... .......... .......... .......... .......... 66% 3.97M 6s',\n",
       " ' 36500K .......... .......... .......... .......... .......... 66% 3.79M 6s',\n",
       " ' 36550K .......... .......... .......... .......... .......... 67% 4.61M 6s',\n",
       " ' 36600K .......... .......... .......... .......... .......... 67% 5.10M 6s',\n",
       " ' 36650K .......... .......... .......... .......... .......... 67% 4.92M 6s',\n",
       " ' 36700K .......... .......... .......... .......... .......... 67% 5.06M 6s',\n",
       " ' 36750K .......... .......... .......... .......... .......... 67% 4.09M 6s',\n",
       " ' 36800K .......... .......... .......... .......... .......... 67% 4.64M 6s',\n",
       " ' 36850K .......... .......... .......... .......... .......... 67% 4.55M 6s',\n",
       " ' 36900K .......... .......... .......... .......... .......... 67% 5.45M 6s',\n",
       " ' 36950K .......... .......... .......... .......... .......... 67% 6.19M 6s',\n",
       " ' 37000K .......... .......... .......... .......... .......... 67% 3.97M 6s',\n",
       " ' 37050K .......... .......... .......... .......... .......... 67% 3.91M 6s',\n",
       " ' 37100K .......... .......... .......... .......... .......... 68% 4.83M 6s',\n",
       " ' 37150K .......... .......... .......... .......... .......... 68% 5.72M 6s',\n",
       " ' 37200K .......... .......... .......... .......... .......... 68% 4.37M 6s',\n",
       " ' 37250K .......... .......... .......... .......... .......... 68% 4.56M 6s',\n",
       " ' 37300K .......... .......... .......... .......... .......... 68% 4.58M 6s',\n",
       " ' 37350K .......... .......... .......... .......... .......... 68% 5.01M 6s',\n",
       " ' 37400K .......... .......... .......... .......... .......... 68% 4.81M 6s',\n",
       " ' 37450K .......... .......... .......... .......... .......... 68% 4.60M 6s',\n",
       " ' 37500K .......... .......... .......... .......... .......... 68% 4.07M 6s',\n",
       " ' 37550K .......... .......... .......... .......... .......... 68% 4.95M 6s',\n",
       " ' 37600K .......... .......... .......... .......... .......... 68% 4.44M 6s',\n",
       " ' 37650K .......... .......... .......... .......... .......... 69%  730K 6s',\n",
       " ' 37700K .......... .......... .......... .......... .......... 69% 6.71M 6s',\n",
       " ' 37750K .......... .......... .......... .......... .......... 69% 6.90M 6s',\n",
       " ' 37800K .......... .......... .......... .......... .......... 69% 3.14M 6s',\n",
       " ' 37850K .......... .......... .......... .......... .......... 69% 4.17M 6s',\n",
       " ' 37900K .......... .......... .......... .......... .......... 69% 4.61M 6s',\n",
       " ' 37950K .......... .......... .......... .......... .......... 69% 5.23M 6s',\n",
       " ' 38000K .......... .......... .......... .......... .......... 69% 5.05M 6s',\n",
       " ' 38050K .......... .......... .......... .......... .......... 69% 4.14M 6s',\n",
       " ' 38100K .......... .......... .......... .......... .......... 69% 4.80M 6s',\n",
       " ' 38150K .......... .......... .......... .......... .......... 70% 5.96M 6s',\n",
       " ' 38200K .......... .......... .......... .......... .......... 70% 4.45M 6s',\n",
       " ' 38250K .......... .......... .......... .......... .......... 70% 4.06M 6s',\n",
       " ' 38300K .......... .......... .......... .......... .......... 70% 5.36M 6s',\n",
       " ' 38350K .......... .......... .......... .......... .......... 70% 5.09M 5s',\n",
       " ' 38400K .......... .......... .......... .......... .......... 70% 4.34M 5s',\n",
       " ' 38450K .......... .......... .......... .......... .......... 70% 4.93M 5s',\n",
       " ' 38500K .......... .......... .......... .......... .......... 70% 3.98M 5s',\n",
       " ' 38550K .......... .......... .......... .......... .......... 70% 5.23M 5s',\n",
       " ' 38600K .......... .......... .......... .......... .......... 70% 4.61M 5s',\n",
       " ' 38650K .......... .......... .......... .......... .......... 70% 4.82M 5s',\n",
       " ' 38700K .......... .......... .......... .......... .......... 71% 4.29M 5s',\n",
       " ' 38750K .......... .......... .......... .......... .......... 71% 4.64M 5s',\n",
       " ' 38800K .......... .......... .......... .......... .......... 71% 5.31M 5s',\n",
       " ' 38850K .......... .......... .......... .......... .......... 71% 4.74M 5s',\n",
       " ' 38900K .......... .......... .......... .......... .......... 71% 5.01M 5s',\n",
       " ' 38950K .......... .......... .......... .......... .......... 71% 4.33M 5s',\n",
       " ' 39000K .......... .......... .......... .......... .......... 71% 4.57M 5s',\n",
       " ' 39050K .......... .......... .......... .......... .......... 71% 3.49M 5s',\n",
       " ' 39100K .......... .......... .......... .......... .......... 71% 4.02M 5s',\n",
       " ' 39150K .......... .......... .......... .......... .......... 71% 8.54M 5s',\n",
       " ' 39200K .......... .......... .......... .......... .......... 71% 3.83M 5s',\n",
       " ' 39250K .......... .......... .......... .......... .......... 72% 3.82M 5s',\n",
       " ' 39300K .......... .......... .......... .......... .......... 72% 4.90M 5s',\n",
       " ' 39350K .......... .......... .......... .......... .......... 72% 4.62M 5s',\n",
       " ' 39400K .......... .......... .......... .......... .......... 72% 5.57M 5s',\n",
       " ' 39450K .......... .......... .......... .......... .......... 72% 3.87M 5s',\n",
       " ' 39500K .......... .......... .......... .......... .......... 72% 4.69M 5s',\n",
       " ' 39550K .......... .......... .......... .......... .......... 72% 3.95M 5s',\n",
       " ' 39600K .......... .......... .......... .......... .......... 72% 5.27M 5s',\n",
       " ' 39650K .......... .......... .......... .......... .......... 72% 6.30M 5s',\n",
       " ' 39700K .......... .......... .......... .......... .......... 72% 4.07M 5s',\n",
       " ' 39750K .......... .......... .......... .......... .......... 72% 4.68M 5s',\n",
       " ' 39800K .......... .......... .......... .......... .......... 73% 5.51M 5s',\n",
       " ' 39850K .......... .......... .......... .......... .......... 73% 4.26M 5s',\n",
       " ' 39900K .......... .......... .......... .......... .......... 73% 4.06M 5s',\n",
       " ' 39950K .......... .......... .......... .......... .......... 73% 4.26M 5s',\n",
       " ' 40000K .......... .......... .......... .......... .......... 73% 4.56M 5s',\n",
       " ' 40050K .......... .......... .......... .......... .......... 73% 6.08M 5s',\n",
       " ' 40100K .......... .......... .......... .......... .......... 73% 4.08M 5s',\n",
       " ' 40150K .......... .......... .......... .......... .......... 73% 4.29M 5s',\n",
       " ' 40200K .......... .......... .......... .......... .......... 73% 4.99M 5s',\n",
       " ' 40250K .......... .......... .......... .......... .......... 73% 4.32M 5s',\n",
       " ' 40300K .......... .......... .......... .......... .......... 73% 5.40M 5s',\n",
       " ' 40350K .......... .......... .......... .......... .......... 74% 5.10M 5s',\n",
       " ' 40400K .......... .......... .......... .......... .......... 74% 4.34M 5s',\n",
       " ' 40450K .......... .......... .......... .......... .......... 74% 4.50M 5s',\n",
       " ' 40500K .......... .......... .......... .......... .......... 74% 4.37M 5s',\n",
       " ' 40550K .......... .......... .......... .......... .......... 74% 3.59M 5s',\n",
       " ' 40600K .......... .......... .......... .......... .......... 74% 4.84M 5s',\n",
       " ' 40650K .......... .......... .......... .......... .......... 74% 6.43M 5s',\n",
       " ' 40700K .......... .......... .......... .......... .......... 74% 4.28M 5s',\n",
       " ' 40750K .......... .......... .......... .......... .......... 74% 3.93M 5s',\n",
       " ' 40800K .......... .......... .......... .......... .......... 74% 4.77M 5s',\n",
       " ' 40850K .......... .......... .......... .......... .......... 74% 5.45M 5s',\n",
       " ' 40900K .......... .......... .......... .......... .......... 75% 4.34M 5s',\n",
       " ' 40950K .......... .......... .......... .......... .......... 75% 4.29M 4s',\n",
       " ' 41000K .......... .......... .......... .......... .......... 75% 4.15M 4s',\n",
       " ' 41050K .......... .......... .......... .......... .......... 75% 5.58M 4s',\n",
       " ' 41100K .......... .......... .......... .......... .......... 75% 4.81M 4s',\n",
       " ' 41150K .......... .......... .......... .......... .......... 75% 4.39M 4s',\n",
       " ' 41200K .......... .......... .......... .......... .......... 75% 3.98M 4s',\n",
       " ' 41250K .......... .......... .......... .......... .......... 75% 5.05M 4s',\n",
       " ' 41300K .......... .......... .......... .......... .......... 75% 6.09M 4s',\n",
       " ' 41350K .......... .......... .......... .......... .......... 75% 3.80M 4s',\n",
       " ' 41400K .......... .......... .......... .......... .......... 75% 4.70M 4s',\n",
       " ' 41450K .......... .......... .......... .......... .......... 76% 4.52M 4s',\n",
       " ' 41500K .......... .......... .......... .......... .......... 76% 4.04M 4s',\n",
       " ' 41550K .......... .......... .......... .......... .......... 76% 6.26M 4s',\n",
       " ' 41600K .......... .......... .......... .......... .......... 76% 4.83M 4s',\n",
       " ' 41650K .......... .......... .......... .......... .......... 76% 3.32M 4s',\n",
       " ' 41700K .......... .......... .......... .......... .......... 76% 5.53M 4s',\n",
       " ' 41750K .......... .......... .......... .......... .......... 76% 5.60M 4s',\n",
       " ' 41800K .......... .......... .......... .......... .......... 76% 4.24M 4s',\n",
       " ' 41850K .......... .......... .......... .......... .......... 76% 4.17M 4s',\n",
       " ' 41900K .......... .......... .......... .......... .......... 76% 6.29M 4s',\n",
       " ' 41950K .......... .......... .......... .......... .......... 76% 4.25M 4s',\n",
       " ' 42000K .......... .......... .......... .......... .......... 77% 3.96M 4s',\n",
       " ' 42050K .......... .......... .......... .......... .......... 77% 4.50M 4s',\n",
       " ' 42100K .......... .......... .......... .......... .......... 77% 4.72M 4s',\n",
       " ' 42150K .......... .......... .......... .......... .......... 77% 5.36M 4s',\n",
       " ' 42200K .......... .......... .......... .......... .......... 77% 3.85M 4s',\n",
       " ' 42250K .......... .......... .......... .......... .......... 77% 4.50M 4s',\n",
       " ' 42300K .......... .......... .......... .......... .......... 77% 92.9K 4s',\n",
       " ' 42350K .......... .......... .......... .......... .......... 77% 9.56M 4s',\n",
       " ' 42400K .......... .......... .......... .......... .......... 77%  645K 4s',\n",
       " ' 42450K .......... .......... .......... .......... .......... 77% 1.99M 4s',\n",
       " ' 42500K .......... .......... .......... .......... .......... 77% 2.50M 4s',\n",
       " ' 42550K .......... .......... .......... .......... .......... 78% 3.40M 4s',\n",
       " ' 42600K .......... .......... .......... .......... .......... 78% 3.39M 4s',\n",
       " ' 42650K .......... .......... .......... .......... .......... 78% 3.09M 4s',\n",
       " ' 42700K .......... .......... .......... .......... .......... 78% 3.29M 4s',\n",
       " ' 42750K .......... .......... .......... .......... .......... 78% 3.57M 4s',\n",
       " ' 42800K .......... .......... .......... .......... .......... 78% 2.93M 4s',\n",
       " ' 42850K .......... .......... .......... .......... .......... 78% 3.68M 4s',\n",
       " ' 42900K .......... .......... .......... .......... .......... 78% 3.96M 4s',\n",
       " ' 42950K .......... .......... .......... .......... .......... 78% 4.14M 4s',\n",
       " ' 43000K .......... .......... .......... .......... .......... 78% 3.85M 4s',\n",
       " ' 43050K .......... .......... .......... .......... .......... 78% 3.76M 4s',\n",
       " ' 43100K .......... .......... .......... .......... .......... 79% 4.04M 4s',\n",
       " ' 43150K .......... .......... .......... .......... .......... 79% 4.18M 4s',\n",
       " ' 43200K .......... .......... .......... .......... .......... 79% 4.33M 4s',\n",
       " ' 43250K .......... .......... .......... .......... .......... 79% 5.86M 4s',\n",
       " ' 43300K .......... .......... .......... .......... .......... 79% 4.15M 4s',\n",
       " ' 43350K .......... .......... .......... .......... .......... 79% 5.11M 4s',\n",
       " ' 43400K .......... .......... .......... .......... .......... 79% 4.50M 4s',\n",
       " ' 43450K .......... .......... .......... .......... .......... 79% 4.40M 4s',\n",
       " ' 43500K .......... .......... .......... .......... .......... 79% 4.17M 4s',\n",
       " ' 43550K .......... .......... .......... .......... .......... 79% 5.00M 4s',\n",
       " ' 43600K .......... .......... .......... .......... .......... 79% 5.21M 4s',\n",
       " ' 43650K .......... .......... .......... .......... .......... 80% 4.30M 4s',\n",
       " ' 43700K .......... .......... .......... .......... .......... 80% 4.33M 4s',\n",
       " ' 43750K .......... .......... .......... .......... .......... 80% 5.56M 4s',\n",
       " ' 43800K .......... .......... .......... .......... .......... 80% 4.10M 4s',\n",
       " ' 43850K .......... .......... .......... .......... .......... 80% 4.40M 4s',\n",
       " ' 43900K .......... .......... .......... .......... .......... 80% 5.03M 4s',\n",
       " ' 43950K .......... .......... .......... .......... .......... 80% 4.33M 4s',\n",
       " ' 44000K .......... .......... .......... .......... .......... 80% 5.87M 4s',\n",
       " ' 44050K .......... .......... .......... .......... .......... 80% 3.79M 4s',\n",
       " ' 44100K .......... .......... .......... .......... .......... 80% 4.82M 4s',\n",
       " ' 44150K .......... .......... .......... .......... .......... 80% 4.18M 3s',\n",
       " ' 44200K .......... .......... .......... .......... .......... 81% 4.96M 3s',\n",
       " ' 44250K .......... .......... .......... .......... .......... 81% 4.94M 3s',\n",
       " ' 44300K .......... .......... .......... .......... .......... 81% 4.49M 3s',\n",
       " ' 44350K .......... .......... .......... .......... .......... 81% 5.28M 3s',\n",
       " ' 44400K .......... .......... .......... .......... .......... 81% 5.24M 3s',\n",
       " ' 44450K .......... .......... .......... .......... .......... 81% 4.31M 3s',\n",
       " ' 44500K .......... .......... .......... .......... .......... 81% 4.32M 3s',\n",
       " ' 44550K .......... .......... .......... .......... .......... 81% 4.37M 3s',\n",
       " ' 44600K .......... .......... .......... .......... .......... 81% 4.55M 3s',\n",
       " ' 44650K .......... .......... .......... .......... .......... 81% 5.10M 3s',\n",
       " ' 44700K .......... .......... .......... .......... .......... 82% 5.35M 3s',\n",
       " ' 44750K .......... .......... .......... .......... .......... 82% 4.89M 3s',\n",
       " ' 44800K .......... .......... .......... .......... .......... 82% 4.68M 3s',\n",
       " ' 44850K .......... .......... .......... .......... .......... 82%  752K 3s',\n",
       " ' 44900K .......... .......... .......... .......... .......... 82% 4.22M 3s',\n",
       " ' 44950K .......... .......... .......... .......... .......... 82% 6.31M 3s',\n",
       " ' 45000K .......... .......... .......... .......... .......... 82% 3.78M 3s',\n",
       " ' 45050K .......... .......... .......... .......... .......... 82% 3.92M 3s',\n",
       " ' 45100K .......... .......... .......... .......... .......... 82% 5.41M 3s',\n",
       " ' 45150K .......... .......... .......... .......... .......... 82% 2.74M 3s',\n",
       " ' 45200K .......... .......... .......... .......... .......... 82% 9.80M 3s',\n",
       " ' 45250K .......... .......... .......... .......... .......... 83% 4.10M 3s',\n",
       " ' 45300K .......... .......... .......... .......... .......... 83% 3.65M 3s',\n",
       " ' 45350K .......... .......... .......... .......... .......... 83% 4.54M 3s',\n",
       " ' 45400K .......... .......... .......... .......... .......... 83% 6.68M 3s',\n",
       " ' 45450K .......... .......... .......... .......... .......... 83%  472K 3s',\n",
       " ' 45500K .......... .......... .......... .......... .......... 83% 1.75M 3s',\n",
       " ' 45550K .......... .......... .......... .......... .......... 83%  802K 3s',\n",
       " ' 45600K .......... .......... .......... .......... .......... 83% 1.85M 3s',\n",
       " ' 45650K .......... .......... .......... .......... .......... 83% 2.53M 3s',\n",
       " ' 45700K .......... .......... .......... .......... .......... 83% 2.87M 3s',\n",
       " ' 45750K .......... .......... .......... .......... .......... 83% 2.96M 3s',\n",
       " ' 45800K .......... .......... .......... .......... .......... 84% 3.24M 3s',\n",
       " ' 45850K .......... .......... .......... .......... .......... 84% 2.70M 3s',\n",
       " ' 45900K .......... .......... .......... .......... .......... 84% 3.23M 3s',\n",
       " ' 45950K .......... .......... .......... .......... .......... 84% 3.52M 3s',\n",
       " ' 46000K .......... .......... .......... .......... .......... 84% 4.19M 3s',\n",
       " ' 46050K .......... .......... .......... .......... .......... 84% 3.76M 3s',\n",
       " ' 46100K .......... .......... .......... .......... .......... 84% 3.87M 3s',\n",
       " ' 46150K .......... .......... .......... .......... .......... 84% 3.74M 3s',\n",
       " ' 46200K .......... .......... .......... .......... .......... 84% 3.99M 3s',\n",
       " ' 46250K .......... .......... .......... .......... .......... 84% 4.10M 3s',\n",
       " ' 46300K .......... .......... .......... .......... .......... 84% 5.41M 3s',\n",
       " ' 46350K .......... .......... .......... .......... .......... 85% 4.45M 3s',\n",
       " ' 46400K .......... .......... .......... .......... .......... 85% 4.07M 3s',\n",
       " ' 46450K .......... .......... .......... .......... .......... 85% 3.40M 3s',\n",
       " ' 46500K .......... .......... .......... .......... .......... 85% 8.34M 3s',\n",
       " ' 46550K .......... .......... .......... .......... .......... 85% 5.21M 3s',\n",
       " ' 46600K .......... .......... .......... .......... .......... 85% 4.40M 3s',\n",
       " ' 46650K .......... .......... .......... .......... .......... 85% 4.05M 3s',\n",
       " ' 46700K .......... .......... .......... .......... .......... 85% 5.01M 3s',\n",
       " ' 46750K .......... .......... .......... .......... .......... 85% 4.23M 3s',\n",
       " ' 46800K .......... .......... .......... .......... .......... 85% 5.19M 3s',\n",
       " ' 46850K .......... .......... .......... .......... .......... 85% 4.81M 3s',\n",
       " ' 46900K .......... .......... .......... .......... .......... 86% 4.70M 3s',\n",
       " ' 46950K .......... .......... .......... .......... .......... 86% 4.11M 3s',\n",
       " ' 47000K .......... .......... .......... .......... .......... 86% 5.22M 3s',\n",
       " ' 47050K .......... .......... .......... .......... .......... 86% 4.23M 3s',\n",
       " ' 47100K .......... .......... .......... .......... .......... 86% 5.06M 2s',\n",
       " ' 47150K .......... .......... .......... .......... .......... 86% 4.74M 2s',\n",
       " ' 47200K .......... .......... .......... .......... .......... 86% 4.29M 2s',\n",
       " ' 47250K .......... .......... .......... .......... .......... 86% 5.48M 2s',\n",
       " ' 47300K .......... .......... .......... .......... .......... 86% 4.55M 2s',\n",
       " ' 47350K .......... .......... .......... .......... .......... 86% 5.08M 2s',\n",
       " ' 47400K .......... .......... .......... .......... .......... 86% 3.78M 2s',\n",
       " ' 47450K .......... .......... .......... .......... .......... 87% 5.83M 2s',\n",
       " ' 47500K .......... .......... .......... .......... .......... 87% 4.19M 2s',\n",
       " ' 47550K .......... .......... .......... .......... .......... 87% 4.73M 2s',\n",
       " ' 47600K .......... .......... .......... .......... .......... 87% 4.27M 2s',\n",
       " ' 47650K .......... .......... .......... .......... .......... 87% 6.48M 2s',\n",
       " ' 47700K .......... .......... .......... .......... .......... 87% 4.88M 2s',\n",
       " ' 47750K .......... .......... .......... .......... .......... 87% 4.19M 2s',\n",
       " ' 47800K .......... .......... .......... .......... .......... 87% 4.29M 2s',\n",
       " ' 47850K .......... .......... .......... .......... .......... 87% 4.47M 2s',\n",
       " ' 47900K .......... .......... .......... .......... .......... 87% 5.21M 2s',\n",
       " ' 47950K .......... .......... .......... .......... .......... 87% 5.15M 2s',\n",
       " ' 48000K .......... .......... .......... .......... .......... 88% 4.29M 2s',\n",
       " ' 48050K .......... .......... .......... .......... .......... 88% 4.30M 2s',\n",
       " ' 48100K .......... .......... .......... .......... .......... 88% 4.89M 2s',\n",
       " ' 48150K .......... .......... .......... .......... .......... 88% 4.97M 2s',\n",
       " ' 48200K .......... .......... .......... .......... .......... 88% 5.34M 2s',\n",
       " ' 48250K .......... .......... .......... .......... .......... 88% 3.93M 2s',\n",
       " ' 48300K .......... .......... .......... .......... .......... 88% 4.85M 2s',\n",
       " ' 48350K .......... .......... .......... .......... .......... 88% 5.89M 2s',\n",
       " ' 48400K .......... .......... .......... .......... .......... 88% 4.89M 2s',\n",
       " ' 48450K .......... .......... .......... .......... .......... 88%  142K 2s',\n",
       " ' 48500K .......... .......... .......... .......... .......... 88% 11.5M 2s',\n",
       " ' 48550K .......... .......... .......... .......... .......... 89%  604K 2s',\n",
       " ' 48600K .......... .......... .......... .......... .......... 89% 3.33M 2s',\n",
       " ' 48650K .......... .......... .......... .......... .......... 89% 3.84M 2s',\n",
       " ' 48700K .......... .......... .......... .......... .......... 89% 2.23M 2s',\n",
       " ' 48750K .......... .......... .......... .......... .......... 89% 2.97M 2s',\n",
       " ' 48800K .......... .......... .......... .......... .......... 89% 2.94M 2s',\n",
       " ' 48850K .......... .......... .......... .......... .......... 89% 3.46M 2s',\n",
       " ' 48900K .......... .......... .......... .......... .......... 89% 3.39M 2s',\n",
       " ' 48950K .......... .......... .......... .......... .......... 89% 3.43M 2s',\n",
       " ' 49000K .......... .......... .......... .......... .......... 89% 3.47M 2s',\n",
       " ' 49050K .......... .......... .......... .......... .......... 89% 3.56M 2s',\n",
       " ' 49100K .......... .......... .......... .......... .......... 90% 3.85M 2s',\n",
       " ' 49150K .......... .......... .......... .......... .......... 90% 3.53M 2s',\n",
       " ' 49200K .......... .......... .......... .......... .......... 90% 4.01M 2s',\n",
       " ' 49250K .......... .......... .......... .......... .......... 90% 4.08M 2s',\n",
       " ' 49300K .......... .......... .......... .......... .......... 90% 6.19M 2s',\n",
       " ' 49350K .......... .......... .......... .......... .......... 90% 4.21M 2s',\n",
       " ' 49400K .......... .......... .......... .......... .......... 90% 4.09M 2s',\n",
       " ...]"
      ]
     },
     "execution_count": 11,
     "metadata": {},
     "output_type": "execute_result"
    }
   ],
   "source": [
    "%system wget http://fermi.gsfc.nasa.gov/FTP/fermi/data/lat/queries/L170529092347D1C7019386_SC00.fits\n",
    "%system wget http://fermi.gsfc.nasa.gov/FTP/fermi/data/lat/queries/L170529092347D1C7019386_PH00.fits"
   ]
  },
  {
   "cell_type": "markdown",
   "metadata": {},
   "source": [
    "We put these in the data directory of the current working directory, and rename them for ease of use to SC00.fits and PH00.fits."
   ]
  },
  {
   "cell_type": "code",
   "execution_count": 12,
   "metadata": {},
   "outputs": [
    {
     "name": "stdout",
     "output_type": "stream",
     "text": [
      "PH00.fits  SC00.fits\r\n"
     ]
    }
   ],
   "source": [
    "ls data/"
   ]
  },
  {
   "cell_type": "markdown",
   "metadata": {},
   "source": [
    "So, what do we have now?  We've got a photon file (you could get several of these depending on how the query was executed) and one spacecraft file. According to the data server, the photon file contains 569,325 events.\n",
    "\n",
    "Let's take a look at these with the ftool *fv* and see what we have."
   ]
  },
  {
   "cell_type": "code",
   "execution_count": 13,
   "metadata": {},
   "outputs": [
    {
     "data": {
      "text/plain": [
       "[]"
      ]
     },
     "execution_count": 13,
     "metadata": {},
     "output_type": "execute_result"
    }
   ],
   "source": [
    "%system fv data/PH00.fits"
   ]
  },
  {
   "cell_type": "markdown",
   "metadata": {},
   "source": [
    "Here's what you should see.  Let's poke at the GUI for a bit and talk about what we have."
   ]
  },
  {
   "cell_type": "markdown",
   "metadata": {},
   "source": [
    "![Data_FV1](images/FSSC_fv1.png)"
   ]
  },
  {
   "cell_type": "markdown",
   "metadata": {},
   "source": [
    "This is a [FITS](http://en.wikipedia.org/wiki/FITS) file which is an open standard defining a digital file format useful for storage, transmission and processing of scientific and other images.  It has three Header Data Units (HDUs); the first is (and always must be) an image even if it's empty (as it is in this case).  The second and third are binary types and store data.  All of our data are in the second hdu (index = 1) and you can see that there are 23 columns and 569,420 rows.  This means we have 569,420 events in this single photon file!  The last HDU is a binary table called GTI which details the good time intervals for the data in this file.  If you poke the 'Header' button for the second HDU (the EVENTS table) you get this."
   ]
  },
  {
   "cell_type": "markdown",
   "metadata": {},
   "source": [
    "![Data_FV2](images/FSSC_fv2.png)"
   ]
  },
  {
   "cell_type": "markdown",
   "metadata": {},
   "source": [
    "All sorts of useful information.  \n",
    "\n",
    "The FTOOLS software package contains a number of commands that can help you view, add, delete and/or modify header information. For Fermi-LAT data files, we do not advise you to make any header changes (except in dire circumstances). Modifying these headers could corrupt the file so that the analysis tools can no longer read it."
   ]
  },
  {
   "cell_type": "markdown",
   "metadata": {},
   "source": [
    "Let's close the header and click on the 'All' button for the sedcond HDU (the one with all of our data).  It should look like this:"
   ]
  },
  {
   "cell_type": "markdown",
   "metadata": {},
   "source": [
    "![Data_FV3](images/FSSC_fv3.png)"
   ]
  },
  {
   "cell_type": "markdown",
   "metadata": {},
   "source": [
    "There's a row for every event and each column details all of the information about that event.  You could click the header to find more details or check out the [information about the columns](http://fermi.gsfc.nasa.gov/ssc/data/analysis/documentation/Cicerone/Cicerone_Data/LAT_Data_Columns.html) on the FSSC site.  We can have a look at them.  And you can see what the 'extended' data are all about."
   ]
  },
  {
   "cell_type": "code",
   "execution_count": 17,
   "metadata": {},
   "outputs": [
    {
     "data": {
      "text/html": [
       "<iframe src='http://fermi.gsfc.nasa.gov/ssc/data/analysis/documentation/Cicerone/Cicerone_Data/LAT_Data_Columns.html' width='1000' height='500'></iframe>"
      ],
      "text/plain": [
       "<IPython.core.display.HTML object>"
      ]
     },
     "execution_count": 17,
     "metadata": {},
     "output_type": "execute_result"
    }
   ],
   "source": [
    "HTML(\"<iframe src='http://fermi.gsfc.nasa.gov/ssc/data/analysis/documentation/Cicerone/Cicerone_Data/LAT_Data_Columns.html' width='1000' height='500'></iframe>\")"
   ]
  },
  {
   "cell_type": "markdown",
   "metadata": {},
   "source": [
    "The extended file just has some extra information about each event.  \n",
    "\n",
    "This page also details what's in the spacecraft file.  You can use 'fv' to plot some of these parameters or we can actually plot them here in python."
   ]
  },
  {
   "cell_type": "code",
   "execution_count": 18,
   "metadata": {
    "collapsed": true
   },
   "outputs": [],
   "source": [
    "import pyfits"
   ]
  },
  {
   "cell_type": "code",
   "execution_count": 19,
   "metadata": {
    "collapsed": true
   },
   "outputs": [],
   "source": [
    "sc_hdulist = pyfits.open('data/SC00.fits')"
   ]
  },
  {
   "cell_type": "code",
   "execution_count": 20,
   "metadata": {},
   "outputs": [
    {
     "name": "stdout",
     "output_type": "stream",
     "text": [
      "Filename: data/SC00.fits\n",
      "No.    Name         Type      Cards   Dimensions   Format\n",
      "0    PRIMARY     PrimaryHDU      28   ()           uint8   \n",
      "1    SC_DATA     BinTableHDU    265   445088R x 30C   [D, D, 3E, E, E, D, E, E, E, E, E, E, L, E, E, E, E, E, E, E, J, B, I, D, D, D, D, D, E, E]   \n"
     ]
    }
   ],
   "source": [
    "sc_hdulist.info()"
   ]
  },
  {
   "cell_type": "code",
   "execution_count": 21,
   "metadata": {
    "collapsed": true
   },
   "outputs": [],
   "source": [
    "sc_data = sc_hdulist[1].data"
   ]
  },
  {
   "cell_type": "code",
   "execution_count": 22,
   "metadata": {},
   "outputs": [
    {
     "name": "stdout",
     "output_type": "stream",
     "text": [
      "Populating the interactive namespace from numpy and matplotlib\n"
     ]
    }
   ],
   "source": [
    "%pylab inline"
   ]
  },
  {
   "cell_type": "code",
   "execution_count": 23,
   "metadata": {},
   "outputs": [
    {
     "data": {
      "image/png": "[encoded data removed]",
      "text/plain": [
       "<matplotlib.figure.Figure at 0x7f5f389b9290>"
      ]
     },
     "metadata": {},
     "output_type": "display_data"
    }
   ],
   "source": [
    "figsize(16,8)\n",
    "plot(sc_data.field('START'),sc_data.field('DATA_QUAL'),'.')\n",
    "plot(sc_data.field('START'),sc_data.field('LAT_CONFIG'),'.')\n",
    "ylim(-0.1,1.1)\n",
    "show()"
   ]
  },
  {
   "cell_type": "markdown",
   "metadata": {},
   "source": [
    "[Cool Cool Cool](http://www.youtube.com/watch?v=8IIrf_JSuQk).  You can see that there were some times in there when the LAT data quality was less than perfect.  We'll need to filter these out and figure out which of the events we want to keep."
   ]
  },
  {
   "cell_type": "markdown",
   "metadata": {},
   "source": [
    "Filtering and Selecting Data\n",
    "----------------------------\n",
    "You can filter and select on any of the parameters of the events but there are some [recommendations and good practices](http://fermi.gsfc.nasa.gov/ssc/data/analysis/documentation/Cicerone/Cicerone_Data_Exploration/Data_preparation.html) listed at the FSSC site.\n"
   ]
  },
  {
   "cell_type": "markdown",
   "metadata": {},
   "source": [
    "![Event_recommendations](images/Event_recommendations.png)"
   ]
  },
  {
   "cell_type": "markdown",
   "metadata": {},
   "source": [
    "Let's talk about these for a bit:\n",
    "\n",
    "* The minimum and maximum energy cuts are pretty obvious.  Don't really want to go down below 100 MeV and most of the time could actually raise this to 200 MeV.\n",
    "* Zenith Angle:  This cut is there to remove events originating from the Earth's limb.\n",
    "* Event Class: The LAT team makes cuts on the raw data that classifies events based on the probability that they are photons.  Each class has it's own Instrument Response Functions (the description of how the instrument responds to events). With the exception of Solar Flare data, the event classes are nested as shown below."
   ]
  },
  {
   "cell_type": "code",
   "execution_count": 25,
   "metadata": {},
   "outputs": [
    {
     "data": {
      "image/png": "[encoded data removed]",
      "text/plain": [
       "<matplotlib.figure.Figure at 0x7f5f389adc50>"
      ]
     },
     "metadata": {},
     "output_type": "display_data"
    }
   ],
   "source": [
    "fig = figure(figsize=(10, 10), facecolor='w')\n",
    "ax = axes((0,0,1,1),xticks=[], yticks=[], frameon=False)\n",
    "ax.set_xlim(0, 11)\n",
    "ax.set_ylim(0, 11)\n",
    "\n",
    "patches = [Rectangle((0.5,0.5),9,9, zorder=1, fc='#777777'),\n",
    "           Rectangle((1,1),7.5,7.5, zorder=1, fc='#999999'),\n",
    "           Rectangle((1.5,1.5),6.5,6.3, zorder=1, fc='#AAAAAA'),\n",
    "           Rectangle((2,2),5.5,5, zorder=1, fc='#BBBBBB'),\n",
    "           Rectangle((2.5,2.5),4.5,3.7, zorder=1, fc='#CCCCCC'),\n",
    "           Rectangle((3,3),3.5,2.5, zorder=1, fc='#DDDDDD'),\n",
    "           Rectangle((3.2,3.2),2.3,1.5, zorder=1, fc='#EEEEEE')]\n",
    "\n",
    "for p in patches:\n",
    "    ax.add_patch(p)\n",
    "    \n",
    "text(1, 9, \"All Events\",ha='left', va='center', fontsize=16)\n",
    "text(1.5, 8.1, \"Transient020 (evclass=16)\",ha='left', va='center', fontsize=16)\n",
    "text(1.8, 7.4, \"Transient010 (evclass=64)\",ha='left', va='center', fontsize=16)\n",
    "text(2.3, 6.6, \"Source (evclass=128)\",ha='left', va='center', fontsize=16)\n",
    "text(2.8, 5.8, \"Clean (evclass=256)\",ha='left', va='center', fontsize=16)\n",
    "text(3.2, 5, \"UltraClean (evclass=512)\",ha='left', va='center', fontsize=16)\n",
    "text(3.4, 4, \"UltraCleanVeto\\n(evclass=1024)\",ha='left', va='center', fontsize=16)\n",
    "text(0.5,9.7, \"Not to scale.\",ha='left', va='center', fontsize=16)\n",
    "show()"
   ]
  },
  {
   "cell_type": "markdown",
   "metadata": {},
   "source": [
    "In addition to Event Classes, there are also *Event Types*. There are no recommendations made in the table about which event type to use. This means that filtering on event type is an option available to you, but not necessary for these analyses.\n",
    "\n",
    "Event Types allow you to futher refine your data set, removing events with less desireable characteristics. There are three event types defined in the PASS 8 LAT data:\n",
    "* Front/Back - filters based on where the conversion occurred in the instrument\n",
    "* PSF - Divides the data into four quadriles, based on the quality of the reconstructed direction\n",
    "* EDISP - Divides the data into four quadriles, based on the quality of the reconstructed energy"
   ]
  },
  {
   "cell_type": "markdown",
   "metadata": {},
   "source": [
    "![EventType_hierarchy](images/EventType_hierarchy.png)"
   ]
  },
  {
   "cell_type": "markdown",
   "metadata": {},
   "source": [
    "Both *Event Class* and *Event Type* are bitfields. So to use ALL events for a particular class, you can use an event type value of 3, 60, or 960."
   ]
  },
  {
   "cell_type": "markdown",
   "metadata": {},
   "source": [
    "### What makes up an Instument Response Function?"
   ]
  },
  {
   "cell_type": "markdown",
   "metadata": {},
   "source": [
    "The best place to get a look at this is the [LAT Performance Page](http://www.slac.stanford.edu/exp/glast/groups/canda/lat_Performance.htm) but you have access to the IRFs if you want to play with them. You can find the IRF files in:\n",
    "\n",
    "/home/fermiuser/AstroSoft/ScienceTools/x86_64-unknown-linux-gnu-libc2.12/refdata/fermi/caldb/CALDB/data/glast/lat/bcf"
   ]
  },
  {
   "cell_type": "code",
   "execution_count": 27,
   "metadata": {},
   "outputs": [
    {
     "data": {
      "text/html": [
       "<iframe src='http://www.slac.stanford.edu/exp/glast/groups/canda/lat_Performance.htm' width='1000' height='500'></iframe>"
      ],
      "text/plain": [
       "<IPython.core.display.HTML object>"
      ]
     },
     "execution_count": 27,
     "metadata": {},
     "output_type": "execute_result"
    }
   ],
   "source": [
    "HTML(\"<iframe src='http://www.slac.stanford.edu/exp/glast/groups/canda/lat_Performance.htm' width='1000' height='500'></iframe>\")"
   ]
  },
  {
   "cell_type": "code",
   "execution_count": 28,
   "metadata": {
    "collapsed": true
   },
   "outputs": [],
   "source": [
    "from os import environ"
   ]
  },
  {
   "cell_type": "code",
   "execution_count": 29,
   "metadata": {},
   "outputs": [
    {
     "name": "stdout",
     "output_type": "stream",
     "text": [
      "/usr/local/fermisoft/v10r0p5-fssc-20150518A/x86_64-unknown-linux-gnu-libc2.17/refdata/fermi/caldb/CALDB\n"
     ]
    }
   ],
   "source": [
    "caldb = environ['CALDB']\n",
    "print caldb"
   ]
  },
  {
   "cell_type": "code",
   "execution_count": 30,
   "metadata": {},
   "outputs": [
    {
     "name": "stdout",
     "output_type": "stream",
     "text": [
      "\u001b[0m\u001b[38;5;27mdata\u001b[0m/  \u001b[38;5;27msoftware\u001b[0m/\r\n"
     ]
    }
   ],
   "source": [
    "ls $caldb"
   ]
  },
  {
   "cell_type": "code",
   "execution_count": 31,
   "metadata": {},
   "outputs": [
    {
     "name": "stdout",
     "output_type": "stream",
     "text": [
      "aeff_P6_v11_diff_back.fits            aeff_P7TRANSIENT_V6_front.fits\r\n",
      "aeff_P6_v11_diff_front.fits           aeff_P7ULTRACLEAN_V6_back.fits\r\n",
      "aeff_P6_v1_diff_back.fits             aeff_P7ULTRACLEAN_V6_front.fits\r\n",
      "aeff_P6_v1_diff_front.fits            aeff_P8R2_CLEAN_V6_EDISP.fits\r\n",
      "aeff_P6_v1_source_back.fits           aeff_P8R2_CLEAN_V6_FB.fits\r\n",
      "aeff_P6_v1_source_front.fits          aeff_P8R2_CLEAN_V6_PSF.fits\r\n",
      "aeff_P6_v1_trans_back.fits            aeff_P8R2_SOURCE_V6_EDISP.fits\r\n",
      "aeff_P6_v1_trans_front.fits           aeff_P8R2_SOURCE_V6_FB.fits\r\n",
      "aeff_p6_v3_dataclean_back.fits        aeff_P8R2_SOURCE_V6_PSF.fits\r\n",
      "aeff_p6_v3_dataclean_front.fits       aeff_P8R2_TRANSIENT010E_V6_EDISP.fits\r\n",
      "aeff_P6_v3_diff_back.fits             aeff_P8R2_TRANSIENT010E_V6_FB.fits\r\n",
      "aeff_P6_v3_diff_front.fits            aeff_P8R2_TRANSIENT010E_V6_PSF.fits\r\n",
      "aeff_P6_v3_source_back.fits           aeff_P8R2_TRANSIENT010_V6_EDISP.fits\r\n",
      "aeff_P6_v3_source_front.fits          aeff_P8R2_TRANSIENT010_V6_FB.fits\r\n",
      "aeff_P6_v3_trans_back.fits            aeff_P8R2_TRANSIENT010_V6_PSF.fits\r\n",
      "aeff_P6_v3_trans_front.fits           aeff_P8R2_TRANSIENT015S_V6_EDISP.fits\r\n",
      "aeff_P7CLEAN_V6_back.fits             aeff_P8R2_TRANSIENT015S_V6_FB.fits\r\n",
      "aeff_P7CLEAN_V6_front.fits            aeff_P8R2_TRANSIENT015S_V6_PSF.fits\r\n",
      "aeff_P7REP_CLEAN_V10_back.fits        aeff_P8R2_TRANSIENT020E_V6_EDISP.fits\r\n",
      "aeff_P7REP_CLEAN_V10_front.fits       aeff_P8R2_TRANSIENT020E_V6_FB.fits\r\n",
      "aeff_P7REP_CLEAN_V15_back.fits        aeff_P8R2_TRANSIENT020E_V6_PSF.fits\r\n",
      "aeff_P7REP_CLEAN_V15_front.fits       aeff_P8R2_TRANSIENT020_V6_EDISP.fits\r\n",
      "aeff_P7REP_SOURCE_V10_back.fits       aeff_P8R2_TRANSIENT020_V6_FB.fits\r\n",
      "aeff_P7REP_SOURCE_V10_front.fits      aeff_P8R2_TRANSIENT020_V6_PSF.fits\r\n",
      "aeff_P7REP_SOURCE_V15_back.fits       aeff_P8R2_TRANSIENT100E_V6_EDISP.fits\r\n",
      "aeff_P7REP_SOURCE_V15_front.fits      aeff_P8R2_TRANSIENT100E_V6_FB.fits\r\n",
      "aeff_P7REP_TRANSIENT_V10_back.fits    aeff_P8R2_TRANSIENT100E_V6_PSF.fits\r\n",
      "aeff_P7REP_TRANSIENT_V10_front.fits   aeff_P8R2_TRANSIENT100S_V6_EDISP.fits\r\n",
      "aeff_P7REP_TRANSIENT_V15_back.fits    aeff_P8R2_TRANSIENT100S_V6_FB.fits\r\n",
      "aeff_P7REP_TRANSIENT_V15_front.fits   aeff_P8R2_TRANSIENT100S_V6_PSF.fits\r\n",
      "aeff_P7REP_ULTRACLEAN_V10_back.fits   aeff_P8R2_TRANSIENT100_V6_EDISP.fits\r\n",
      "aeff_P7REP_ULTRACLEAN_V10_front.fits  aeff_P8R2_TRANSIENT100_V6_FB.fits\r\n",
      "aeff_P7REP_ULTRACLEAN_V15_back.fits   aeff_P8R2_TRANSIENT100_V6_PSF.fits\r\n",
      "aeff_P7REP_ULTRACLEAN_V15_front.fits  aeff_P8R2_ULTRACLEAN_V6_EDISP.fits\r\n",
      "aeff_P7SOURCE_V6_back.fits            aeff_P8R2_ULTRACLEAN_V6_FB.fits\r\n",
      "aeff_P7SOURCE_V6_front.fits           aeff_P8R2_ULTRACLEAN_V6_PSF.fits\r\n",
      "aeff_P7SOURCE_V6MC_back.fits          aeff_P8R2_ULTRACLEANVETO_V6_EDISP.fits\r\n",
      "aeff_P7SOURCE_V6MC_front.fits         aeff_P8R2_ULTRACLEANVETO_V6_FB.fits\r\n",
      "aeff_P7TRANSIENT_V6_back.fits         aeff_P8R2_ULTRACLEANVETO_V6_PSF.fits\r\n"
     ]
    }
   ],
   "source": [
    "ls $caldb/data/glast/lat/bcf/ea"
   ]
  },
  {
   "cell_type": "code",
   "execution_count": 32,
   "metadata": {
    "collapsed": true
   },
   "outputs": [],
   "source": [
    "aeff_P8R2_SOURCE_V6_FB_HDUs = pyfits.open(caldb+'/data/glast/lat/bcf/ea/aeff_P8R2_SOURCE_V6_FB.fits')"
   ]
  },
  {
   "cell_type": "code",
   "execution_count": 33,
   "metadata": {},
   "outputs": [
    {
     "name": "stdout",
     "output_type": "stream",
     "text": [
      "Filename: /usr/local/fermisoft/v10r0p5-fssc-20150518A/x86_64-unknown-linux-gnu-libc2.17/refdata/fermi/caldb/CALDB/data/glast/lat/bcf/ea/aeff_P8R2_SOURCE_V6_FB.fits\n",
      "No.    Name         Type      Cards   Dimensions   Format\n",
      "0    PRIMARY     PrimaryHDU      10   ()           uint8   \n",
      "1    EFFECTIVE AREA_FRONT  BinTableHDU     58   1R x 5C      [74E, 74E, 32E, 32E, 2368E]   \n",
      "2    PHI_DEPENDENCE_FRONT  BinTableHDU     61   1R x 6C      [23E, 23E, 8E, 8E, 184E, 184E]   \n",
      "3    EFFICIENCY_PARAMS_FRONT  BinTableHDU     36   2R x 1C      [6E]   \n",
      "4    EFFECTIVE AREA_BACK  BinTableHDU     58   1R x 5C      [74E, 74E, 32E, 32E, 2368E]   \n",
      "5    PHI_DEPENDENCE_BACK  BinTableHDU     61   1R x 6C      [23E, 23E, 8E, 8E, 184E, 184E]   \n",
      "6    EFFICIENCY_PARAMS_BACK  BinTableHDU     36   2R x 1C      [6E]   \n",
      "None\n"
     ]
    }
   ],
   "source": [
    "print aeff_P8R2_SOURCE_V6_FB_HDUs.info()"
   ]
  },
  {
   "cell_type": "markdown",
   "metadata": {},
   "source": [
    "Getting Help for the Science Tools\n",
    "------------------\n",
    "\n",
    "The Science Tools consist of a set of 'ballistic' tools that each perform a very specific function. Some of these tools (like the data filtering tool gtselect) will be used in essentially every kind of analysis. Other are very specialized (like the pulsar phase assignment tool *gtpphase*). A complete analysis will string the execution of these tools together in a custom and customizable fashion.\n",
    "\n",
    "It's important to know how to find information about these tools.\n",
    "\n",
    "All of the fermi ballistic tools are here:"
   ]
  },
  {
   "cell_type": "code",
   "execution_count": 34,
   "metadata": {},
   "outputs": [
    {
     "name": "stdout",
     "output_type": "stream",
     "text": [
      "/usr/local/fermisoft/v10r0p5-fssc-20150518A/x86_64-unknown-linux-gnu-libc2.17\n"
     ]
    }
   ],
   "source": [
    "fermi_dir = environ['FERMI_DIR']\n",
    "print fermi_dir"
   ]
  },
  {
   "cell_type": "code",
   "execution_count": 35,
   "metadata": {},
   "outputs": [
    {
     "name": "stdout",
     "output_type": "stream",
     "text": [
      "\u001b[0m\u001b[38;5;34m/usr/local/fermisoft/v10r0p5-fssc-20150518A/x86_64-unknown-linux-gnu-libc2.17/bin/gtbary\u001b[0m\u001b[K*\r\n",
      "\u001b[38;5;34m/usr/local/fermisoft/v10r0p5-fssc-20150518A/x86_64-unknown-linux-gnu-libc2.17/bin/gtbin\u001b[0m\u001b[K*\r\n",
      "\u001b[38;5;34m/usr/local/fermisoft/v10r0p5-fssc-20150518A/x86_64-unknown-linux-gnu-libc2.17/bin/gtbindef\u001b[0m\u001b[K*\r\n",
      "\u001b[38;5;34m/usr/local/fermisoft/v10r0p5-fssc-20150518A/x86_64-unknown-linux-gnu-libc2.17/bin/gtbkg\u001b[0m\u001b[K*\r\n",
      "\u001b[38;5;34m/usr/local/fermisoft/v10r0p5-fssc-20150518A/x86_64-unknown-linux-gnu-libc2.17/bin/gtburst\u001b[0m\u001b[K*\r\n",
      "\u001b[38;5;34m/usr/local/fermisoft/v10r0p5-fssc-20150518A/x86_64-unknown-linux-gnu-libc2.17/bin/gtburstfit\u001b[0m\u001b[K*\r\n",
      "/usr/local/fermisoft/v10r0p5-fssc-20150518A/x86_64-unknown-linux-gnu-libc2.17/bin/gtburst.log\r\n",
      "\u001b[38;5;34m/usr/local/fermisoft/v10r0p5-fssc-20150518A/x86_64-unknown-linux-gnu-libc2.17/bin/gtburst.old\u001b[0m\u001b[K*\r\n",
      "\u001b[38;5;34m/usr/local/fermisoft/v10r0p5-fssc-20150518A/x86_64-unknown-linux-gnu-libc2.17/bin/gtdiffrsp\u001b[0m\u001b[K*\r\n",
      "\u001b[38;5;34m/usr/local/fermisoft/v10r0p5-fssc-20150518A/x86_64-unknown-linux-gnu-libc2.17/bin/gtdispcube\u001b[0m\u001b[K*\r\n",
      "\u001b[38;5;34m/usr/local/fermisoft/v10r0p5-fssc-20150518A/x86_64-unknown-linux-gnu-libc2.17/bin/gtephem\u001b[0m\u001b[K*\r\n",
      "\u001b[38;5;34m/usr/local/fermisoft/v10r0p5-fssc-20150518A/x86_64-unknown-linux-gnu-libc2.17/bin/gtexpcube\u001b[0m\u001b[K*\r\n",
      "\u001b[38;5;34m/usr/local/fermisoft/v10r0p5-fssc-20150518A/x86_64-unknown-linux-gnu-libc2.17/bin/gtexpcube2\u001b[0m\u001b[K*\r\n",
      "\u001b[38;5;34m/usr/local/fermisoft/v10r0p5-fssc-20150518A/x86_64-unknown-linux-gnu-libc2.17/bin/gtexphpsun\u001b[0m\u001b[K*\r\n",
      "\u001b[38;5;34m/usr/local/fermisoft/v10r0p5-fssc-20150518A/x86_64-unknown-linux-gnu-libc2.17/bin/gtexpmap\u001b[0m\u001b[K*\r\n",
      "\u001b[38;5;34m/usr/local/fermisoft/v10r0p5-fssc-20150518A/x86_64-unknown-linux-gnu-libc2.17/bin/gtexposure\u001b[0m\u001b[K*\r\n",
      "\u001b[38;5;34m/usr/local/fermisoft/v10r0p5-fssc-20150518A/x86_64-unknown-linux-gnu-libc2.17/bin/gtfindsrc\u001b[0m\u001b[K*\r\n",
      "\u001b[38;5;34m/usr/local/fermisoft/v10r0p5-fssc-20150518A/x86_64-unknown-linux-gnu-libc2.17/bin/gtirfs\u001b[0m\u001b[K*\r\n",
      "\u001b[38;5;34m/usr/local/fermisoft/v10r0p5-fssc-20150518A/x86_64-unknown-linux-gnu-libc2.17/bin/gtlike\u001b[0m\u001b[K*\r\n",
      "\u001b[38;5;34m/usr/local/fermisoft/v10r0p5-fssc-20150518A/x86_64-unknown-linux-gnu-libc2.17/bin/gtltcube\u001b[0m\u001b[K*\r\n",
      "\u001b[38;5;34m/usr/local/fermisoft/v10r0p5-fssc-20150518A/x86_64-unknown-linux-gnu-libc2.17/bin/gtltcubesun\u001b[0m\u001b[K*\r\n",
      "\u001b[38;5;34m/usr/local/fermisoft/v10r0p5-fssc-20150518A/x86_64-unknown-linux-gnu-libc2.17/bin/gtltsum\u001b[0m\u001b[K*\r\n",
      "\u001b[38;5;34m/usr/local/fermisoft/v10r0p5-fssc-20150518A/x86_64-unknown-linux-gnu-libc2.17/bin/gtltsumsun\u001b[0m\u001b[K*\r\n",
      "\u001b[38;5;34m/usr/local/fermisoft/v10r0p5-fssc-20150518A/x86_64-unknown-linux-gnu-libc2.17/bin/gtmktime\u001b[0m\u001b[K*\r\n",
      "\u001b[38;5;34m/usr/local/fermisoft/v10r0p5-fssc-20150518A/x86_64-unknown-linux-gnu-libc2.17/bin/gtmodel\u001b[0m\u001b[K*\r\n",
      "\u001b[38;5;34m/usr/local/fermisoft/v10r0p5-fssc-20150518A/x86_64-unknown-linux-gnu-libc2.17/bin/gtobspsf\u001b[0m\u001b[K*\r\n",
      "\u001b[38;5;34m/usr/local/fermisoft/v10r0p5-fssc-20150518A/x86_64-unknown-linux-gnu-libc2.17/bin/gtobssim\u001b[0m\u001b[K*\r\n",
      "\u001b[38;5;34m/usr/local/fermisoft/v10r0p5-fssc-20150518A/x86_64-unknown-linux-gnu-libc2.17/bin/gtophase\u001b[0m\u001b[K*\r\n",
      "\u001b[38;5;34m/usr/local/fermisoft/v10r0p5-fssc-20150518A/x86_64-unknown-linux-gnu-libc2.17/bin/gtorbsim\u001b[0m\u001b[K*\r\n",
      "\u001b[38;5;34m/usr/local/fermisoft/v10r0p5-fssc-20150518A/x86_64-unknown-linux-gnu-libc2.17/bin/gtpphase\u001b[0m\u001b[K*\r\n",
      "\u001b[38;5;34m/usr/local/fermisoft/v10r0p5-fssc-20150518A/x86_64-unknown-linux-gnu-libc2.17/bin/gtpsearch\u001b[0m\u001b[K*\r\n",
      "\u001b[38;5;34m/usr/local/fermisoft/v10r0p5-fssc-20150518A/x86_64-unknown-linux-gnu-libc2.17/bin/gtpsf\u001b[0m\u001b[K*\r\n",
      "\u001b[38;5;34m/usr/local/fermisoft/v10r0p5-fssc-20150518A/x86_64-unknown-linux-gnu-libc2.17/bin/gtpspec\u001b[0m\u001b[K*\r\n",
      "\u001b[38;5;34m/usr/local/fermisoft/v10r0p5-fssc-20150518A/x86_64-unknown-linux-gnu-libc2.17/bin/gtptest\u001b[0m\u001b[K*\r\n",
      "\u001b[38;5;34m/usr/local/fermisoft/v10r0p5-fssc-20150518A/x86_64-unknown-linux-gnu-libc2.17/bin/gtpulsardb\u001b[0m\u001b[K*\r\n",
      "\u001b[38;5;34m/usr/local/fermisoft/v10r0p5-fssc-20150518A/x86_64-unknown-linux-gnu-libc2.17/bin/gtrspgen\u001b[0m\u001b[K*\r\n",
      "\u001b[38;5;34m/usr/local/fermisoft/v10r0p5-fssc-20150518A/x86_64-unknown-linux-gnu-libc2.17/bin/gtselect\u001b[0m\u001b[K*\r\n",
      "\u001b[38;5;34m/usr/local/fermisoft/v10r0p5-fssc-20150518A/x86_64-unknown-linux-gnu-libc2.17/bin/gtsrcid\u001b[0m\u001b[K*\r\n",
      "\u001b[38;5;34m/usr/local/fermisoft/v10r0p5-fssc-20150518A/x86_64-unknown-linux-gnu-libc2.17/bin/gtsrcmaps\u001b[0m\u001b[K*\r\n",
      "\u001b[38;5;34m/usr/local/fermisoft/v10r0p5-fssc-20150518A/x86_64-unknown-linux-gnu-libc2.17/bin/gtsrcprob\u001b[0m\u001b[K*\r\n",
      "\u001b[38;5;34m/usr/local/fermisoft/v10r0p5-fssc-20150518A/x86_64-unknown-linux-gnu-libc2.17/bin/gtsuntemp\u001b[0m\u001b[K*\r\n",
      "\u001b[38;5;34m/usr/local/fermisoft/v10r0p5-fssc-20150518A/x86_64-unknown-linux-gnu-libc2.17/bin/gttsmap\u001b[0m\u001b[K*\r\n",
      "\u001b[38;5;34m/usr/local/fermisoft/v10r0p5-fssc-20150518A/x86_64-unknown-linux-gnu-libc2.17/bin/gtvcut\u001b[0m\u001b[K*\r\n",
      "/usr/local/fermisoft/v10r0p5-fssc-20150518A/x86_64-unknown-linux-gnu-libc2.17/bin/gtversion\r\n"
     ]
    }
   ],
   "source": [
    "ls $fermi_dir/bin/gt*"
   ]
  },
  {
   "cell_type": "markdown",
   "metadata": {},
   "source": [
    "You can find more information out about a tool by using *fhelp*."
   ]
  },
  {
   "cell_type": "code",
   "execution_count": 36,
   "metadata": {},
   "outputs": [
    {
     "data": {
      "text/plain": [
       "['NAME',\n",
       " '',\n",
       " '    gtselect - Performs selection cuts on event data files.',\n",
       " '',\n",
       " '',\n",
       " 'USAGE',\n",
       " '    ',\n",
       " '    gtselect infile outfile ra dec rad tmin tmax emin emax zmin zmax',\n",
       " '             evclass evtype ',\n",
       " '',\n",
       " '',\n",
       " 'DESCRIPTION',\n",
       " '',\n",
       " '    gtselect creates a filtered FITS file by selecting rows from an input',\n",
       " '    event data file based on user-specified cuts that are applied to',\n",
       " '    each row of the input file. This application enables detailed',\n",
       " '    selections to be made on Fermi photon and event data obtained from the ',\n",
       " '    FSSC data server or simulated data generated using gtobssim',\n",
       " '    (see gtobssim help). The most common selections are these',\n",
       " '    involving time range (minimum and maximum time) and energy range',\n",
       " '    (minimum and maximum energy), and event class.  For each cut that is applied Data',\n",
       " '    Subspace (DSS) keywords are written to the EVENTS header of the',\n",
       " '    output FITS file that describe the selection.  This information is',\n",
       " '    used by the likelihood tools and gtrspgen for computing',\n",
       " '    exposure-related information. ',\n",
       " '    ',\n",
       " '    ',\n",
       " 'NOTES',\n",
       " '',\n",
       " '    - The selection cone center (right ascension and declination)',\n",
       " '      must match exactly that which was used in the original selection',\n",
       " '      from the data server.',\n",
       " '',\n",
       " '    - both evclass and evtype are \"hidden\" parameters, i.e. they are',\n",
       " '      not propmted for but must be supplied on the command line',\n",
       " '   ',\n",
       " '    - evclass, recommended selection for standard analysis = 128 (source)',\n",
       " '',\n",
       " '      The event classification system in Pass 8 is similar to that employed ',\n",
       " '      in Pass 7 (i.e. a bitmask classification system for various event classes), ',\n",
       " '      Additionally, through the use of the new data filter EVENT_TYPE (see below), ',\n",
       " '      further subselection of events are allowed in data preparation. Each bit ',\n",
       " '      in the EVENT_CLASS variable corresponds to a ',\n",
       " '      particular set of the Instrument Response Functions (IRFs). The more ',\n",
       " '      used event classes (Transient, Source, Clean and UltraCleanVeto ) are ',\n",
       " '      still hierarchical, i.e., Transient > Source > Clean > UltraCleanVeto.',\n",
       " '      Most analyses will use either the Source or Clean event samples.',\n",
       " '      **NOTE** once you perform selection on event class or event type, you ',\n",
       " '      cannot revert to a more general selection at a later stage of your analysis.',\n",
       " '',\n",
       " '      Table of standard (non-transient) event classes (for a complete',\n",
       " '      list see the FSSC Website or Cicerone)',\n",
       " '',\n",
       " '      -----------------------------------------',\n",
       " '      |Class (Pass 8)|  evclass\\t\\t\\t   ',\n",
       " '      |----------------------------------------',\n",
       " '      |Source        |  128\\t |\\t  ',\n",
       " '      |Clean\\t     |  256\\t |\\t  ',\n",
       " '      |UltraCleanVeto|  1024\\t |\\t  ',\n",
       " '      -----------------------------------------',\n",
       " '  ',\n",
       " '    - evtype, recommended selection for standard analysis = 3 (front +',\n",
       " '      back events)',\n",
       " '        ',\n",
       " '\\tThe Pass 8 processing implements a new scheme for partitioning',\n",
       " '        the data within an event class with \"event type\" selections.',\n",
       " '        The event type selections partition the data within a class',\n",
       " '        into independent subsets. Currently, evtype has the ability to',\n",
       " '        select on 2 different types of event conversions (front/back),',\n",
       " '        4 different PSF classes, and 4 different energy reconstruction',\n",
       " '        classes. You may select a sub-sample within a given event type',\n",
       " '        (e.g. PSF2), but those events can only be used with other',\n",
       " '        events of the same type. If you select one of the \"all events\"',\n",
       " '        values (3 = front+back, 60 = PSF0+PSF1+PSF2+PSF3, 960 =',\n",
       " '        EDISP0+EDISP1+EDISP2+EDISP3). be aware that different IRFs',\n",
       " '        will be applied. If you do not select an \"all events\" value,',\n",
       " '        then the tool may apply results only to a subset of the',\n",
       " '        events.',\n",
       " '',\n",
       " ' ',\n",
       " 'PARAMETERS',\n",
       " '',\n",
       " '    infile [filename]',\n",
       " '         Input event FITS file. This is the file containing the event data. ',\n",
       " '       ',\n",
       " '    outfile [filename]',\n",
       " '         Output event FITS file with events that satisfy the selections',\n",
       " '         performed with gtselect.',\n",
       " '       ',\n",
       " '    ra [double]',\n",
       " '         Right ascension of acceptance cone (J2000) in decimal degrees.',\n",
       " '         If the parameter is set to INDEF the right ascension will be read from the ',\n",
       " '         header of the input file. ',\n",
       " '       ',\n",
       " '    dec [double]',\n",
       " '         Declination of acceptance cone (J2000) in decimal degrees.',\n",
       " '         If the parameter is set to INDEF the declination will be read from the ',\n",
       " '         header of the input file. ',\n",
       " '   ',\n",
       " '    rad [double]',\n",
       " '         Radius of acceptance cone (decimal degrees). A value of 180 (default)',\n",
       " '         indicates that no acceptance cone cut will be applied.  If the',\n",
       " '         parameter is set to INDEF the radius will be read from the header',\n",
       " '         of the input file.',\n",
       " '              ',\n",
       " '    tmin [double]',\n",
       " '         Event arrival time lower limit in mission elapsed time (MET)',\n",
       " '         seconds. All the events in the output FITS file will have \"event',\n",
       " '         arrival time\" larger than this value. The reference time used for MET',\n",
       " '         is midnight (0h:0m:0s) on January 1, 2001, in Coordinated Universal',\n",
       " '         Time (UTC). The FERMI convention is that MJDREF=51910',\n",
       " '         (UTC)=51910.0007428703703703703 (TT); the fractional part of MJDREF in',\n",
       " '         the TT system compensates for the use of midnight in the UTC system as',\n",
       " '         the reference time.  MJDREF is divided into two keywords:',\n",
       " '         MJDREFI=51910, the integer part; and MJDREFF=7.428703703703703D-4, the',\n",
       " '         fractional part. If the parameter is set to INDEF (default) tmin will be',\n",
       " '         read from the header of the input file. For conversions',\n",
       " '         between MET and other commonly used time conventions we refer',\n",
       " '         the user to the HEASARC online tool',\n",
       " '         http://heasarc.gsfc.nasa.gov/cgi-bin/Tools/xTime/xTime.pl.',\n",
       " '',\n",
       " '    tmax [double]',\n",
       " '         Event arrival time upper limit in mission elapsed time (MET)',\n",
       " '         seconds. All the events in the output FITS file will have',\n",
       " '         \"event arrival time\" smaller than this value. A value of zero',\n",
       " '         in this context means that no upper limit will be applied. If',\n",
       " '         the parameter is set to INDEF (default) the tmax will be read',\n",
       " '         from the header of the input file.',\n",
       " '       ',\n",
       " '    emin [double]',\n",
       " '         Minimum event energy in MeV. All the events in the output FITS file',\n",
       " '         will have \"event energy\" larger than this value. Default is \"100\" MeV.',\n",
       " '       ',\n",
       " '    emax [double]',\n",
       " '         Maximum event energy in MeV. All the events in the output',\n",
       " '         FITS file will have \"event energy\" smaller than this',\n",
       " '         value. Default is \"300000\" MeV.',\n",
       " '      ',\n",
       " '    zmax [double]',\n",
       " '         Maximum apparent zenith angle (degrees). It ranges from 0 to 180 (default).',\n",
       " '    ',\n",
       " '    (evclsmin) [integer] ',\n",
       " '         This parameter is ignored for data reprocessed after Aug. 1, 2011 ',\n",
       " '         (Pass 7 series).',\n",
       " '         Mininum event class ID to include. Each set of IRFs will define a set ',\n",
       " '         of event classes numbered 0 to n, where n+1 is the number of event ',\n",
       " '         classes. These numbers will be ordered such that the more inclusive ',\n",
       " '         classes are numbered lowest. Default is \"INDEF\".',\n",
       " '   ',\n",
       " '     (evclsmax) [integer]',\n",
       " '         This parameter is ignored for data reprocessed after Aug. 1, 2011 ',\n",
       " '         (Pass 7 series).',\n",
       " '         Maximum event class ID to include. Default is \"INDEF\".',\n",
       " '',\n",
       " '     (evclass) [integer] ',\n",
       " '         Event class selection for pass 8. The default is 128 (source',\n",
       " '         class).',\n",
       " '  ',\n",
       " '     (evtype) [integer]',\n",
       " '         The event type selection for Pass 8 data. The event type is a',\n",
       " '         subselection of the event class. Users can select on range of',\n",
       " '         events based on conversion type (front/back), angular',\n",
       " '         reconstruction quality (PSF values), and energy',\n",
       " '         reconstruction quality (EDISP values). The default value is',\n",
       " '         INDEF, which will not apply a subselection.',\n",
       " '',\n",
       " '    (convtype) [integer]',\n",
       " '         Conversion type. This parameter screens events based on which',\n",
       " '         portion of the instrument the incident gamma-ray pair conversion',\n",
       " '         event occurred. 0=Front, 1=Back, -1=both (defalt value). Refer ',\n",
       " '         to the Cicerone manual for details',\n",
       " '         (http://fermi.gsfc.nasa.gov/ssc/data/analysis/documentation/Cicerone). ',\n",
       " '   ',\n",
       " '    (phasemin) [double]',\n",
       " '         Minimum pulsar phase to include. This cut is only applied if',\n",
       " '         the PULSE_PHASE column has been added to the FT1 file by the',\n",
       " '         gtpphase tool.  Default is \"0\".',\n",
       " '   ',\n",
       " '    (phasemax) [double]',\n",
       " '         Maximum pulsar phase to include. Default is \"1\".',\n",
       " '',\n",
       " '    (evtable) [string]',\n",
       " '         Event data extension. Default is \"EVENTS\".',\n",
       " '',\n",
       " '    (chatter) [integer]  ',\n",
       " '         This parameter fixes the output verbosity: no screen output (0),',\n",
       " '         nominal screen output (2), maximum verbosity (4). Default is \"2\".',\n",
       " '',\n",
       " '    (clobber) [boolean]',\n",
       " '         If true, an existing file of the same name will be overwritten. ',\n",
       " '         Default is \"yes\".',\n",
       " '    ',\n",
       " '    (debug) [boolean]',\n",
       " '         Activate debugging mode. Default is \"no\". When debug is \"no\", all ',\n",
       " '         exceptions that are not caught and',\n",
       " '         handled by individual tool-specific code are caught by a top-level',\n",
       " '         exception handler that displays information about the exception and',\n",
       " '         then exits. When debug is \"yes\", such exceptions are not caught by the',\n",
       " '         top level code. Instead the tool produces a segmentation violation,',\n",
       " '         which is more useful for debugging. When debugging mode is enabled,',\n",
       " '         the tool produces more verbose output describing any errors or',\n",
       " '         exceptions that are encountered.',\n",
       " '    ',\n",
       " '    (gui) [boolean]',\n",
       " '         Graphical User Interface (GUI) mode is activated if set to \"yes\".',\n",
       " '         Default is \"no\".',\n",
       " '    ',\n",
       " '    (mode) [string]',\n",
       " '         Mode of automatic parameters: \"h\" for batch, \"ql\" for interactive. ',\n",
       " '         Default is \"ql\".',\n",
       " '',\n",
       " '        ',\n",
       " 'EXAMPLES',\n",
       " '',\n",
       " '    The way that the parameters are passed follows the FTOOLs model. They',\n",
       " '    could be passed by answering from a prompt, as a list in a command',\n",
       " '    line, or by modifying the parameter file. The command line option',\n",
       " '    facilitates calling gtselect from a script.',\n",
       " ' ',\n",
       " '    To prompt for gtselect type in the command line: ',\n",
       " '',\n",
       " '> gtselect ',\n",
       " '',\n",
       " '    This will prompt for parameter values. Not all parameter are prompted: ',\n",
       " '    some of them are \"hidden\". To change one of the \"hidden\" parameter, ',\n",
       " '    the user should specify the values in the command line or modify its ',\n",
       " '    mode by editing the parameter file. ',\n",
       " '    For example, to prevent overwrite the existing output file, the following ',\n",
       " '    command line as to be typed:',\n",
       " ' ',\n",
       " '> gtselect clobber=no  ',\n",
       " ' ',\n",
       " '    This is an example of how to run the tool: ',\n",
       " '    In this case the quasar 3C279 (centered on Ra=193.98, Dec=-5.82) was',\n",
       " '    simulated using gtobssim (type \"fhelp gtobssim\" for further explanation), ',\n",
       " '    although the indentical procedure could be followed for actual data. ',\n",
       " '    Note that a radius of 40 degrees was specified in the input simulation.',\n",
       " '    The energy for the simulated events ranges between 20 MeV and 200000 MeV. ',\n",
       " '    Using gtselect it possible to select the events with energy larger than ',\n",
       " '    100 MeV and within a radius of 20 degrees centered on Ra=193.98, ',\n",
       " '    Dec=-5.82 and a time range between 220838400 and 225590400 MET seconds:',\n",
       " '',\n",
       " '> gtselect evclass=2',\n",
       " 'Input FT1 file[] 3C279_events_0000.fits',\n",
       " 'Output FT1 file[] 3c279_filtered.fits',\n",
       " 'RA for new search center (degrees) (0:360) [INDEF] 193.98',\n",
       " 'Dec for new search center (degrees) (-90:90) [INDEF] -5.82',\n",
       " 'radius of new search region (degrees) (0:180) [INDEF] 20',\n",
       " 'start time (MET in s) (0:) [INDEF] 220838400',\n",
       " 'end time (MET in s) (0:) [INDEF] 225590400',\n",
       " 'lower energy limit (MeV) (0:) [100] 100',\n",
       " 'upper energy limit (MeV) (0:) [300000] 100000',\n",
       " 'maximum zenith angle value (degrees) (0:180) [180] 105',\n",
       " 'Done.',\n",
       " '',\n",
       " '    The last example could be also run from the command line as:',\n",
       " '',\n",
       " '> gtselect infile=3C279_events_0000.fits outfile=3c279_filtered.fits \\\\',\n",
       " '  ra=193.98 dec=-5.82 rad=20 evclass=128 evtype=3 \\\\',\n",
       " '  tmin=220838400 tmax=225590400  emin=100 emax=100000 zmax=100',\n",
       " '',\n",
       " '    You can also use the defaults in the input file header by using',\n",
       " '    the INDEF syntax',\n",
       " '',\n",
       " '> gtselect infile=3C279_events_0000.fits outfile=3c279_filtered.fits \\\\',\n",
       " '  ra=INDEF dec=INDEF rad=INDEF evclass=128 evtype=INDEF tmin=INDEF \\\\',\n",
       " '  tmax=INDEF emin=100 emax=100000 zmax=100',\n",
       " '',\n",
       " '',\n",
       " 'KNOWN BUGS',\n",
       " '',\n",
       " '    Use the INDEF values for right ascension, declination, and radius',\n",
       " '    are handled peculiarly. If any one of the parameters are set to',\n",
       " '    INDEF it is treated if all are set to INDEF. ',\n",
       " '    ',\n",
       " '',\n",
       " 'SEE ALSO',\n",
       " '',\n",
       " '     fselect',\n",
       " '     ',\n",
       " '     gtobssim',\n",
       " '     ',\n",
       " '     gtpphase',\n",
       " '     ',\n",
       " '     gtrspgen',\n",
       " '     ',\n",
       " '',\n",
       " '   ']"
      ]
     },
     "execution_count": 36,
     "metadata": {},
     "output_type": "execute_result"
    }
   ],
   "source": [
    "%system fhelp gtselect"
   ]
  },
  {
   "cell_type": "markdown",
   "metadata": {},
   "source": [
    "There is a parameter file associated with each tool that holds the last used values for each parameter needed to run the tool. These files are copied to a working directory when you first run a specific Science Tool. In the VM, the working copy of the parameter files can be found in /home/fermiuser/pfiles.\n",
    "\n",
    "If you corrupt the parameter file for a specific tool, you can always delete it from your working directory. The Science Tools will generate a new working copy the next time you run that particular tool. \n",
    "\n",
    "You can view the parameters associated with each tool and their current values by running the *plist* command. Parameters inside parentheses () are *hidden parameters* and must be called explicity as part of the command when running on the command line. \n",
    "\n",
    "You can also reset the parameters to the initial defaults by using the *punlearn* command. The is VERY USEFUL for scripting."
   ]
  },
  {
   "cell_type": "code",
   "execution_count": 37,
   "metadata": {},
   "outputs": [
    {
     "data": {
      "text/plain": [
       "['Parameters for /home/vagrant/pfiles/gtselect.par',\n",
       " '       infile = data/3C279_mktime.fits Input FT1 file',\n",
       " '      outfile = data/3C279_1deg.fits Output FT1 file',\n",
       " '           ra = 194.047          RA for new search center (degrees)',\n",
       " '          dec = -5.78931         Dec for new search center (degrees)',\n",
       " '          rad = 1                radius of new search region (degrees)',\n",
       " '         tmin = INDEF            start time (MET in s)',\n",
       " '         tmax = INDEF            end time (MET in s)',\n",
       " '         emin = 100              lower energy limit (MeV)',\n",
       " '         emax = 300000           upper energy limit (MeV)',\n",
       " '        (zmin = 0)               minimum zenith angle value (degrees)',\n",
       " '         zmax = 90               maximum zenith angle value (degrees)',\n",
       " '     (evclass = INDEF)           Event class selection',\n",
       " '    (evclsmin = 0)               Minimum event class ID',\n",
       " '    (evclsmax = 10)              Maximum event class ID',\n",
       " '      (evtype = INDEF)           Event type selections',\n",
       " '    (convtype = -1)              Conversion type (-1=both, 0=Front, 1=Back)',\n",
       " '    (phasemin = 0)               minimum pulse phase',\n",
       " '    (phasemax = 1)               maximum pulse phase',\n",
       " '     (evtable = EVENTS)          Event data extension',\n",
       " '     (chatter = 2)               Output verbosity',\n",
       " '     (clobber = yes)             Overwrite existing output files',\n",
       " '       (debug = no)              Activate debugging mode',\n",
       " '         (gui = no)              GUI mode activated',\n",
       " '        (mode = ql)              Mode of automatic parameters']"
      ]
     },
     "execution_count": 37,
     "metadata": {},
     "output_type": "execute_result"
    }
   ],
   "source": [
    "%system plist gtselect"
   ]
  },
  {
   "cell_type": "markdown",
   "metadata": {},
   "source": [
    "Filtering the Data\n",
    "------------------\n",
    "\n",
    "So, for the point source analysis we're doing, we'll use source class events, and we won't filter on event type.  We use *[gtselect](http://fermi.gsfc.nasa.gov/ssc/data/analysis/scitools/help/gtselect.txt)* to do the selection.  There are ways to do this from within python (you'll see these in a moment) but we'll run this from a terminal right now. \n",
    "\n",
    "Since we were given two separate photon files from the data server we need to make a file list so that when we run *gtselect* it knows to look in both files for events that match our selections.  Here's a quick way to do this:"
   ]
  },
  {
   "cell_type": "code",
   "execution_count": 38,
   "metadata": {},
   "outputs": [
    {
     "data": {
      "text/plain": [
       "['PH00.fits', 'SC00.fits']"
      ]
     },
     "execution_count": 38,
     "metadata": {},
     "output_type": "execute_result"
    }
   ],
   "source": [
    "%system ls data/"
   ]
  },
  {
   "cell_type": "code",
   "execution_count": 39,
   "metadata": {},
   "outputs": [
    {
     "data": {
      "text/plain": [
       "[]"
      ]
     },
     "execution_count": 39,
     "metadata": {},
     "output_type": "execute_result"
    }
   ],
   "source": [
    "%system ls data/*PH* > data/events.txt"
   ]
  },
  {
   "cell_type": "code",
   "execution_count": 40,
   "metadata": {},
   "outputs": [
    {
     "data": {
      "text/plain": [
       "['data/PH00.fits']"
      ]
     },
     "execution_count": 40,
     "metadata": {},
     "output_type": "execute_result"
    }
   ],
   "source": [
    "%system cat data/events.txt"
   ]
  },
  {
   "cell_type": "markdown",
   "metadata": {},
   "source": [
    "Now we're ready to go.  Note in the usage for *gtselect* that the event class isn't listed.  It's a 'hidden parameter', so you'll need to run the tool like this:\n",
    "\n",
    "> \\> gtselect evclass=128\n",
    "\n",
    "There's lots of info we need to give gtselect so it makes sense to run *gtvcut* on one of our photon files to figure out what we were doing.\n"
   ]
  },
  {
   "cell_type": "code",
   "execution_count": 41,
   "metadata": {
    "scrolled": false
   },
   "outputs": [
    {
     "data": {
      "text/plain": [
       "['DSTYP1: TIME',\n",
       " 'DSUNI1: s',\n",
       " 'DSVAL1: TABLE',\n",
       " 'DSREF1: :GTI',\n",
       " '',\n",
       " 'GTIs: (suppressed)',\n",
       " '',\n",
       " 'DSTYP2: BIT_MASK(EVENT_CLASS,128,P8R2)',\n",
       " 'DSUNI2: DIMENSIONLESS',\n",
       " 'DSVAL2: 1:1',\n",
       " '',\n",
       " 'DSTYP3: POS(RA,DEC)',\n",
       " 'DSUNI3: deg',\n",
       " 'DSVAL3: CIRCLE(194.05,-5.79,30)',\n",
       " '',\n",
       " 'DSTYP4: TIME',\n",
       " 'DSUNI4: s',\n",
       " 'DSVAL4: 239557417:255398402',\n",
       " '',\n",
       " 'DSTYP5: ENERGY',\n",
       " 'DSUNI5: MeV',\n",
       " 'DSVAL5: 100:500000',\n",
       " '']"
      ]
     },
     "execution_count": 41,
     "metadata": {},
     "output_type": "execute_result"
    }
   ],
   "source": [
    "%system gtvcut data/PH00.fits EVENTS"
   ]
  },
  {
   "cell_type": "markdown",
   "metadata": {},
   "source": [
    "We can then filter the data, using the recommentations in the table above as a guide:"
   ]
  },
  {
   "cell_type": "code",
   "execution_count": 42,
   "metadata": {},
   "outputs": [
    {
     "data": {
      "image/png": "[encoded data removed]",
      "text/plain": [
       "<IPython.core.display.Image object>"
      ]
     },
     "execution_count": 42,
     "metadata": {},
     "output_type": "execute_result"
    }
   ],
   "source": [
    "Image(filename='images/gtselect.png')"
   ]
  },
  {
   "cell_type": "markdown",
   "metadata": {},
   "source": [
    "Some things to note here:\n",
    "\n",
    "* For the ballistic tool, we had to explicitly give the event class on the command line (it's a *hidden* parameter).\n",
    "    * You can change this by manually editing your local version of the *parameter file* for this tool, if you wish.\n",
    "    * This is not an issue for running in python.\n",
    "* We put an '@' sign in front of the input filename which tells gtselect that this isn't actually a FITS file but a list of FITS files.\n",
    "* We used the recommended zenith angle cut of 90.\n",
    "* We could have used INDEF for the start and end times, rather than explicitly stating them. \n",
    "* We reduced the radius from 30 degrees (from the data server) to 15 degrees. This means we had to also provide the RA and DEC values (rather than using INDEF). The science tools use a position keyword that includes all three values. If you declare one, you have to declare them all.\n",
    "* We used a slightly different position from the one used in the data server.  This is fine if you are reducing the radius. However, if you don't reduce the radius, you should use INDEF for all the parameters (RA, DEC, Radius) to avoid offsetting your circle and ending up with a sliver of sky without data.\n"
   ]
  },
  {
   "cell_type": "code",
   "execution_count": 43,
   "metadata": {},
   "outputs": [
    {
     "data": {
      "image/png": "[encoded data removed]",
      "text/plain": [
       "<matplotlib.figure.Figure at 0x7f5f356ddd50>"
      ]
     },
     "metadata": {},
     "output_type": "display_data"
    }
   ],
   "source": [
    "box_bg = '#CCCCCC'\n",
    "fig = figure(figsize=(10, 10), facecolor='w')\n",
    "ax = axes((0,0,1,1),xticks=[], yticks=[], frameon=False)\n",
    "ax.set_xlim(0, 11)\n",
    "ax.set_ylim(0, 11)\n",
    "\n",
    "patches = [Circle((5,5),4, zorder=1),\n",
    "           Circle((5.1,5.1),4, zorder=1, fc='#CCCCCC'),\n",
    "           Circle((5,5),0.01),\n",
    "           Circle((5.1,5.1),0.01)]\n",
    "        \n",
    "\n",
    "for p in patches:\n",
    "    ax.add_patch(p)\n",
    "    \n",
    "text(5.15, 5.25, \"Position 1\",ha='left', va='center', fontsize=16)\n",
    "text(4.9, 4.9, \"Position 2\",ha='right', va='center', fontsize=16)\n",
    "text(1, 1.2, \"Here lies no data\",ha='left', va='center', fontsize=16)\n",
    "show()"
   ]
  },
  {
   "cell_type": "markdown",
   "metadata": {},
   "source": [
    "You can run all the analysis tools on the command line, as above. However, in python, it's (obviously) easier to run using a python version of the science tools. I'm going to run this using the python toolset called *[gtapps](http://fermi.gsfc.nasa.gov/ssc/data/analysis/user/gtapps_mp_README.txt)*.\n",
    "\n",
    "In python, this same call to getselect would look like this:"
   ]
  },
  {
   "cell_type": "code",
   "execution_count": 44,
   "metadata": {},
   "outputs": [
    {
     "data": {
      "text/plain": [
       "' infile= outfile= ra=\"INDEF\" dec=\"INDEF\" rad=\"INDEF\" tmin=\"INDEF\" tmax=\"INDEF\" emin=30.0 emax=300000.0 zmin=0.0 zmax=180.0 evclass=\"INDEF\" evclsmin=0 evclsmax=10 evtype=\"INDEF\" convtype=-1 phasemin=0.0 phasemax=1.0 evtable=\"EVENTS\" chatter=2 clobber=yes debug=no gui=no mode=\"ql\"'"
      ]
     },
     "execution_count": 44,
     "metadata": {},
     "output_type": "execute_result"
    }
   ],
   "source": [
    "import gt_apps\n",
    "from gt_apps import filter\n",
    "filter.pars()"
   ]
  },
  {
   "cell_type": "code",
   "execution_count": 45,
   "metadata": {
    "collapsed": true
   },
   "outputs": [],
   "source": [
    "filter['infile'] = '@data/events.txt'\n",
    "filter['outfile'] = 'data/3C279_filtered.fits'\n",
    "filter['ra'] = 194.0\n",
    "filter['dec'] = -5.8\n",
    "filter['rad'] = 15\n",
    "filter['tmin'] = 'INDEF'\n",
    "filter['tmax'] = 'INDEF'\n",
    "filter['emin'] = 100\n",
    "filter['emax'] = 300000\n",
    "filter['zmax'] = 90\n",
    "filter['evclass'] = 128\n",
    "filter['evtype'] = 3"
   ]
  },
  {
   "cell_type": "markdown",
   "metadata": {},
   "source": [
    "You can check what the command will look like before you run it. This is also useful for logging, and when building scripts."
   ]
  },
  {
   "cell_type": "code",
   "execution_count": 46,
   "metadata": {},
   "outputs": [
    {
     "data": {
      "text/plain": [
       "'time -p /usr/local/fermisoft/v10r0p5-fssc-20150518A/x86_64-unknown-linux-gnu-libc2.17/bin/gtselect infile=@data/events.txt outfile=data/3C279_filtered.fits ra=194.0 dec=-5.8 rad=15.0 tmin=\"INDEF\" tmax=\"INDEF\" emin=100.0 emax=300000.0 zmin=0.0 zmax=90.0 evclass=128 evclsmin=0 evclsmax=10 evtype=3 convtype=-1 phasemin=0.0 phasemax=1.0 evtable=\"EVENTS\" chatter=2 clobber=yes debug=no gui=no mode=\"ql\"'"
      ]
     },
     "execution_count": 46,
     "metadata": {},
     "output_type": "execute_result"
    }
   ],
   "source": [
    "filter.command()"
   ]
  },
  {
   "cell_type": "code",
   "execution_count": 47,
   "metadata": {},
   "outputs": [
    {
     "name": "stdout",
     "output_type": "stream",
     "text": [
      "time -p /usr/local/fermisoft/v10r0p5-fssc-20150518A/x86_64-unknown-linux-gnu-libc2.17/bin/gtselect infile=@data/events.txt outfile=data/3C279_filtered.fits ra=194.0 dec=-5.8 rad=15.0 tmin=\"INDEF\" tmax=\"INDEF\" emin=100.0 emax=300000.0 zmin=0.0 zmax=90.0 evclass=128 evclsmin=0 evclsmax=10 evtype=3 convtype=-1 phasemin=0.0 phasemax=1.0 evtable=\"EVENTS\" chatter=2 clobber=yes debug=no gui=no mode=\"ql\"\n",
      "Done.\n",
      "real 5.43\n",
      "user 1.68\n",
      "sys 1.64\n"
     ]
    }
   ],
   "source": [
    "filter.run()"
   ]
  },
  {
   "cell_type": "markdown",
   "metadata": {},
   "source": [
    "If you tried to compute an exposure map later on you'd get a nasty error and I'd get a help desk message from you.\n",
    "\n",
    "The Filtered Data\n",
    "-----------------\n",
    "\n",
    "Let's take a look at what we have."
   ]
  },
  {
   "cell_type": "code",
   "execution_count": 48,
   "metadata": {
    "collapsed": true
   },
   "outputs": [],
   "source": [
    "filtered_data = pyfits.open('data/3C279_filtered.fits')"
   ]
  },
  {
   "cell_type": "code",
   "execution_count": 49,
   "metadata": {},
   "outputs": [
    {
     "name": "stdout",
     "output_type": "stream",
     "text": [
      "Filename: data/3C279_filtered.fits\n",
      "No.    Name         Type      Cards   Dimensions   Format\n",
      "0    PRIMARY     PrimaryHDU      31   ()           uint8   \n",
      "1    EVENTS      BinTableHDU    220   101844R x 23C   [E, E, E, E, E, E, E, E, E, D, J, J, I, 3I, 32X, 32X, I, D, E, E, E, E, E]   \n",
      "2    GTI         BinTableHDU     46   2791R x 2C   [D, D]   \n"
     ]
    }
   ],
   "source": [
    "filtered_data.info()"
   ]
  },
  {
   "cell_type": "markdown",
   "metadata": {},
   "source": [
    "Notice in the dimensions that we now have 101,844 events in the combined event file.  This is quite a reduction from the 569k events returned by the query.  Lots of events have been filtered out.  \n",
    "\n",
    "The next thing to do is to make sure we update the good time interval (the GTI) column using the recommended GTI filters.  These can also be found on the [recommendations and good practices](http://fermi.gsfc.nasa.gov/ssc/data/analysis/documentation/Cicerone/Cicerone_Data_Exploration/Data_preparation.html).  Here's the relevant table:"
   ]
  },
  {
   "cell_type": "markdown",
   "metadata": {},
   "source": [
    "![Maketime_recommendations](images/Maketime_recommendations.png)"
   ]
  },
  {
   "cell_type": "markdown",
   "metadata": {},
   "source": [
    "> ** NOTE: For analyses where an ROI-based zenith cut is NOT performed, an exposure correction must be made using the \"zmax\" option in the <a href=\"/ssc/data/analysis/scitools/help/gtltcube.txt\">gtltcube</a> tool.**\n",
    "                \n",
    "So, the relevant column here is the last one; these filters are just filtering on columns in the spacecraft file we looked at before.  We do this via the *[gtmktime](http://fermi.gsfc.nasa.gov/ssc/data/analysis/scitools/help/gtmktime.txt)* command, which is called **maketime** in *gtapps*:  "
   ]
  },
  {
   "cell_type": "code",
   "execution_count": 51,
   "metadata": {},
   "outputs": [
    {
     "name": "stdout",
     "output_type": "stream",
     "text": [
      "time -p /usr/local/fermisoft/v10r0p5-fssc-20150518A/x86_64-unknown-linux-gnu-libc2.17/bin/gtmktime scfile=data/SC00.fits sctable=\"SC_DATA\" filter=\"DATA_QUAL>0 && LAT_CONFIG==1\" roicut=no evfile=data/3C279_filtered.fits evtable=\"EVENTS\" outfile=\"data/3C279_mktime.fits\" apply_filter=yes overwrite=no header_obstimes=yes tstart=0.0 tstop=0.0 gtifile=\"default\" chatter=2 clobber=yes debug=no gui=no mode=\"ql\"\n",
      "real 4.23\n",
      "user 2.13\n",
      "sys 0.52\n"
     ]
    }
   ],
   "source": [
    "from gt_apps import maketime\n",
    "maketime['evfile'] = 'data/3C279_filtered.fits'\n",
    "maketime['outfile'] = 'data/3C279_mktime.fits'\n",
    "maketime['scfile'] = 'data/SC00.fits'\n",
    "maketime['filter'] = 'DATA_QUAL>0 && LAT_CONFIG==1'\n",
    "maketime['apply_filter'] = 'yes'\n",
    "maketime['roicut'] = 'no'\n",
    "maketime.run()"
   ]
  },
  {
   "cell_type": "markdown",
   "metadata": {},
   "source": [
    "Some things to note here:\n",
    "\n",
    "* We gave it the spacecraft file as input (this makes sense).\n",
    "* We said 'no' to the ROI-based zenith angle cut, as that was the recommendation in the table. This means we will need to apply a zmax cut in *gtltcube* instead.\n",
    "* Had we said 'yes' to the ROI-based zenith cut, maketime would have made this cut: \"angsep(RA_ZENITH,DEC_ZENITH,RA_ROI,DEC_ROI) < ZMAX - ROI_RADIUS\". This just cuts out periods when your ROI is close to the zenith and away from the Earth's limb.\n",
    "\n",
    "Now what do we have..."
   ]
  },
  {
   "cell_type": "code",
   "execution_count": 52,
   "metadata": {},
   "outputs": [
    {
     "name": "stdout",
     "output_type": "stream",
     "text": [
      "Filename: data/3C279_filtered.fits\n",
      "No.    Name         Type      Cards   Dimensions   Format\n",
      "0    PRIMARY     PrimaryHDU      31   ()           uint8   \n",
      "1    EVENTS      BinTableHDU    220   101844R x 23C   [E, E, E, E, E, E, E, E, E, D, J, J, I, 3I, 32X, 32X, I, D, E, E, E, E, E]   \n",
      "2    GTI         BinTableHDU     46   2791R x 2C   [D, D]   \n"
     ]
    }
   ],
   "source": [
    "filtered_data.info()"
   ]
  },
  {
   "cell_type": "code",
   "execution_count": 53,
   "metadata": {},
   "outputs": [
    {
     "name": "stdout",
     "output_type": "stream",
     "text": [
      "Filename: data/3C279_mktime.fits\n",
      "No.    Name         Type      Cards   Dimensions   Format\n",
      "0    PRIMARY     PrimaryHDU      31   ()           uint8   \n",
      "1    EVENTS      BinTableHDU    223   101844R x 23C   [E, E, E, E, E, E, E, E, E, D, J, J, I, 3I, 32X, 32X, I, D, E, E, E, E, E]   \n",
      "2    GTI         BinTableHDU     46   2791R x 2C   [D, D]   \n"
     ]
    }
   ],
   "source": [
    "mktime_data = pyfits.open('data/3C279_mktime.fits')\n",
    "mktime_data.info()"
   ]
  },
  {
   "cell_type": "markdown",
   "metadata": {},
   "source": [
    "You can see that the maketime command did not actually remove any events. This means that the bad times we saw early on in the spacecraft file were not associated with periods when the LAT was taking data.   "
   ]
  },
  {
   "cell_type": "markdown",
   "metadata": {},
   "source": [
    "### Things to think about when making data selections\n",
    "\n",
    "* What scientific question am I trying to answer?\n",
    "    * Am I looking at a point source?\n",
    "    * What spectral shape do I expect (hard spectral shapes could benefit from a higher low-energy cut).\n",
    "    * Is this a short timescale event (~200 s, like a GRB)?\n",
    "    * Am I interested in a small region or the whole sky?\n",
    "    * Is the region close to the galactic plane (here lies analysis dragons, might want to raise the energy threshold, make your ROI smaller)\n",
    "\n",
    "**Always double check the recommended cuts, especially after a data/software release.**  Don't hesitate to ask the FSSC for advice.  We are working scientists and have proably run into the types of problems you are seeing. And if we can't, we can always contact the software developers."
   ]
  },
  {
   "cell_type": "markdown",
   "metadata": {},
   "source": [
    "Quick Looks at the Data\n",
    "==========================\n",
    "These are quick ways you can have a look at the data you have. These give you some insight, but they are not statistically rigorous (rigor needs the Likelihood method).  The data you are about to see have not been corrected for things like livetime, exposure, background, random acts of statistics etc.  but go for it…\n",
    "\n",
    "### Using gtbin to make a counts map\n",
    "\n",
    "*[gtbin](http://fermi.gsfc.nasa.gov/ssc/data/analysis/scitools/help/gtbin.txt)* is a pretty versitle tool: It can make:\n",
    "* counts maps (counts_map + CMAP)\n",
    "* healpix maps (counts_map + HEALPIX)\n",
    "* counts cubes (counts_map + CCUBE)\n",
    "* simple light curves (evtbin + LC)\n",
    "* simple spectra (evtbin + PHA1/PHA2)\n",
    "\n",
    "We're going to make a counts map and plot it with python.  You can also use [ds9](http://hea-www.harvard.edu/RD/ds9/site/Home.html) or fv to plot this."
   ]
  },
  {
   "cell_type": "code",
   "execution_count": 54,
   "metadata": {},
   "outputs": [
    {
     "name": "stdout",
     "output_type": "stream",
     "text": [
      "time -p /usr/local/fermisoft/v10r0p5-fssc-20150518A/x86_64-unknown-linux-gnu-libc2.17/bin/gtbin evfile=data/3C279_mktime.fits scfile=NONE outfile=data/3C279_cmap.fits algorithm=\"CMAP\" ebinalg=\"LOG\" emin=30.0 emax=200000.0 ebinfile=NONE tbinalg=\"LIN\" tbinfile=NONE nxpix=400 nypix=400 binsz=0.1 coordsys=\"CEL\" xref=194.0 yref=-5.8 axisrot=0.0 rafield=\"RA\" decfield=\"DEC\" proj=\"AIT\" hpx_ordering_scheme=\"RING\" hpx_order=3 hpx_ebin=yes evtable=\"EVENTS\" sctable=\"SC_DATA\" efield=\"ENERGY\" tfield=\"TIME\" chatter=2 clobber=yes debug=no gui=no mode=\"ql\"\n",
      "This is gtbin version ScienceTools-v10r0p5-fssc-20150518\n",
      "gtbin: WARNING: No spacecraft file: EXPOSURE keyword will be set equal to ontime.\n",
      "real 0.64\n",
      "user 0.36\n",
      "sys 0.13\n"
     ]
    }
   ],
   "source": [
    "from gt_apps import counts_map\n",
    "counts_map['evfile'] = 'data/3C279_mktime.fits'\n",
    "counts_map['scfile'] = 'NONE'\n",
    "counts_map['outfile'] = 'data/3C279_cmap.fits'\n",
    "counts_map['algorithm'] = 'CMAP'\n",
    "counts_map['xref'] = 194.0\n",
    "counts_map['yref'] = -5.8\n",
    "counts_map['coordsys'] = 'CEL'\n",
    "counts_map['nxpix'] = 400\n",
    "counts_map['nypix'] = 400\n",
    "counts_map['binsz'] = 0.1\n",
    "counts_map['axisrot'] = 0.0\n",
    "counts_map['proj'] = 'AIT'\n",
    "counts_map.run()"
   ]
  },
  {
   "cell_type": "code",
   "execution_count": 55,
   "metadata": {
    "collapsed": true
   },
   "outputs": [],
   "source": [
    "cmap = pyfits.open('data/3C279_cmap.fits')"
   ]
  },
  {
   "cell_type": "code",
   "execution_count": 56,
   "metadata": {},
   "outputs": [
    {
     "name": "stdout",
     "output_type": "stream",
     "text": [
      "Filename: data/3C279_cmap.fits\n",
      "No.    Name         Type      Cards   Dimensions   Format\n",
      "0    PRIMARY     PrimaryHDU     126   (400, 400)   int32   \n",
      "1    GTI         BinTableHDU     48   2791R x 2C   [D, D]   \n"
     ]
    }
   ],
   "source": [
    "cmap.info()"
   ]
  },
  {
   "cell_type": "code",
   "execution_count": 57,
   "metadata": {},
   "outputs": [
    {
     "data": {
      "text/plain": [
       "<matplotlib.image.AxesImage at 0x7f5f354d73d0>"
      ]
     },
     "execution_count": 57,
     "metadata": {},
     "output_type": "execute_result"
    },
    {
     "data": {
      "image/png": "[encoded data removed]",
      "text/plain": [
       "<matplotlib.figure.Figure at 0x7f5f35652590>"
      ]
     },
     "metadata": {},
     "output_type": "display_data"
    }
   ],
   "source": [
    "imshow(cmap[0].data)"
   ]
  },
  {
   "cell_type": "markdown",
   "metadata": {},
   "source": [
    "Note that I'm not using any packages to figure out the World Coordinate System (WCS) of this image so the X and Y are just pixel coordinates.  I could use ds9, fv or aplpy to get proper RA/DEC on this.  But you can immediately see the ROI cut we made, 3C 279 at the center and the other two to five background sources in the field of view.  It'll take a likelihood analysis to wrangle out all of the relevant details about these sources…that's for tomorrow.\n",
    "\n",
    "## Using gtselect to make a light curve.\n",
    "\n",
    "We can use gtselect to make a really tight selection around 3C 279. And since it's so bright we can assume that what we're looking at is almost entirely due to the photons from the AGN.  "
   ]
  },
  {
   "cell_type": "code",
   "execution_count": 58,
   "metadata": {
    "collapsed": true
   },
   "outputs": [],
   "source": [
    "from gt_apps import filter"
   ]
  },
  {
   "cell_type": "code",
   "execution_count": 59,
   "metadata": {
    "collapsed": true
   },
   "outputs": [],
   "source": [
    "filter['infile'] = 'data/3C279_mktime.fits'\n",
    "filter['outfile'] = 'data/3C279_1deg.fits'\n",
    "filter['ra'] = 194.047\n",
    "filter['dec'] = -5.78931\n",
    "filter['rad'] = 1.0\n",
    "filter['tmin'] = 'INDEF'\n",
    "filter['tmax'] = 'INDEF'\n",
    "filter['emin'] = 100\n",
    "filter['emax'] = 300000\n",
    "filter['zmax'] = 90\n",
    "filter['evclass'] = 128\n",
    "filter['evtype'] = 3"
   ]
  },
  {
   "cell_type": "code",
   "execution_count": 60,
   "metadata": {},
   "outputs": [
    {
     "data": {
      "text/plain": [
       "'time -p /usr/local/fermisoft/v10r0p5-fssc-20150518A/x86_64-unknown-linux-gnu-libc2.17/bin/gtselect infile=data/3C279_mktime.fits outfile=data/3C279_1deg.fits ra=194.047 dec=-5.78931 rad=1.0 tmin=\"INDEF\" tmax=\"INDEF\" emin=100.0 emax=300000.0 zmin=0.0 zmax=90.0 evclass=128 evclsmin=0 evclsmax=10 evtype=3 convtype=-1 phasemin=0.0 phasemax=1.0 evtable=\"EVENTS\" chatter=2 clobber=yes debug=no gui=no mode=\"ql\"'"
      ]
     },
     "execution_count": 60,
     "metadata": {},
     "output_type": "execute_result"
    }
   ],
   "source": [
    "filter.command()"
   ]
  },
  {
   "cell_type": "code",
   "execution_count": 61,
   "metadata": {},
   "outputs": [
    {
     "name": "stdout",
     "output_type": "stream",
     "text": [
      "time -p /usr/local/fermisoft/v10r0p5-fssc-20150518A/x86_64-unknown-linux-gnu-libc2.17/bin/gtselect infile=data/3C279_mktime.fits outfile=data/3C279_1deg.fits ra=194.047 dec=-5.78931 rad=1.0 tmin=\"INDEF\" tmax=\"INDEF\" emin=100.0 emax=300000.0 zmin=0.0 zmax=90.0 evclass=128 evclsmin=0 evclsmax=10 evtype=3 convtype=-1 phasemin=0.0 phasemax=1.0 evtable=\"EVENTS\" chatter=2 clobber=yes debug=no gui=no mode=\"ql\"\n",
      "Done.\n",
      "real 0.82\n",
      "user 0.36\n",
      "sys 0.20\n"
     ]
    }
   ],
   "source": [
    "filter.run()"
   ]
  },
  {
   "cell_type": "code",
   "execution_count": 62,
   "metadata": {
    "collapsed": true
   },
   "outputs": [],
   "source": [
    "lc_gtselect = pyfits.open('data/3C279_1deg.fits')"
   ]
  },
  {
   "cell_type": "code",
   "execution_count": 63,
   "metadata": {},
   "outputs": [
    {
     "data": {
      "image/png": "[encoded data removed]",
      "text/plain": [
       "<matplotlib.figure.Figure at 0x7f5f355f0a10>"
      ]
     },
     "metadata": {},
     "output_type": "display_data"
    }
   ],
   "source": [
    "n, bins, patches = hist(lc_gtselect[1].data.field('TIME'), bins=100)"
   ]
  },
  {
   "cell_type": "markdown",
   "metadata": {},
   "source": [
    "### Using gtbin to make a light curve\n",
    "\n",
    "It looks a bit weird using a histogram to make a light curve.  We can use *gtbin* to make a more 'sciency' light curve with errors and everything.  We should probably first run gtmktime to update the GTIs of the file we just made."
   ]
  },
  {
   "cell_type": "code",
   "execution_count": 64,
   "metadata": {
    "collapsed": true
   },
   "outputs": [],
   "source": [
    "from gt_apps import maketime, evtbin"
   ]
  },
  {
   "cell_type": "code",
   "execution_count": 65,
   "metadata": {
    "collapsed": true
   },
   "outputs": [],
   "source": [
    "maketime['scfile'] = 'data/SC00.fits'\n",
    "maketime['filter'] = \"(DATA_QUAL==1)&&(LAT_CONFIG==1)\"\n",
    "maketime['roicut'] = 'yes'\n",
    "maketime['evfile'] = 'data/3C279_1deg.fits'\n",
    "maketime['outfile'] = 'data/3C279_1deg_gti.fits'"
   ]
  },
  {
   "cell_type": "code",
   "execution_count": 66,
   "metadata": {},
   "outputs": [
    {
     "name": "stdout",
     "output_type": "stream",
     "text": [
      "time -p /usr/local/fermisoft/v10r0p5-fssc-20150518A/x86_64-unknown-linux-gnu-libc2.17/bin/gtmktime scfile=data/SC00.fits sctable=\"SC_DATA\" filter=\"(DATA_QUAL==1)&&(LAT_CONFIG==1)\" roicut=yes evfile=data/3C279_1deg.fits evtable=\"EVENTS\" outfile=\"data/3C279_1deg_gti.fits\" apply_filter=yes overwrite=no header_obstimes=yes tstart=0.0 tstop=0.0 gtifile=\"default\" chatter=2 clobber=yes debug=no gui=no mode=\"ql\"\n",
      "real 3.35\n",
      "user 2.13\n",
      "sys 0.26\n"
     ]
    }
   ],
   "source": [
    "maketime.run()"
   ]
  },
  {
   "cell_type": "code",
   "execution_count": 67,
   "metadata": {},
   "outputs": [
    {
     "name": "stdout",
     "output_type": "stream",
     "text": [
      " evfile= scfile=NONE outfile= algorithm=\"PHA2\" ebinalg=\"LOG\" emin=30.0 emax=200000.0 ebinfile=NONE tbinalg=\"LIN\" tbinfile=NONE coordsys=\"CEL\" axisrot=0.0 rafield=\"RA\" decfield=\"DEC\" proj=\"AIT\" hpx_ordering_scheme=\"RING\" hpx_order=3 hpx_ebin=yes evtable=\"EVENTS\" sctable=\"SC_DATA\" efield=\"ENERGY\" tfield=\"TIME\" chatter=2 clobber=yes debug=no gui=no mode=\"ql\"\n"
     ]
    }
   ],
   "source": [
    "print evtbin.pars()"
   ]
  },
  {
   "cell_type": "code",
   "execution_count": 68,
   "metadata": {
    "collapsed": true
   },
   "outputs": [],
   "source": [
    "evtbin['algorithm'] = 'LC'\n",
    "evtbin['outfile'] = 'data/3C279_1deg_lc.fits'\n",
    "evtbin['evfile'] = 'data/3C279_1deg_gti.fits'\n",
    "evtbin['scfile'] = 'data/SC00.fits'\n",
    "evtbin['tbinalg'] = 'LIN'\n",
    "evtbin['tstart'] = 239557417\n",
    "evtbin['tstop'] = 255398400\n",
    "evtbin['dtime'] = 86400"
   ]
  },
  {
   "cell_type": "code",
   "execution_count": 69,
   "metadata": {},
   "outputs": [
    {
     "name": "stdout",
     "output_type": "stream",
     "text": [
      "time -p /usr/local/fermisoft/v10r0p5-fssc-20150518A/x86_64-unknown-linux-gnu-libc2.17/bin/gtbin evfile=data/3C279_1deg_gti.fits scfile=data/SC00.fits outfile=data/3C279_1deg_lc.fits algorithm=\"LC\" ebinalg=\"LOG\" emin=30.0 emax=200000.0 ebinfile=NONE tbinalg=\"LIN\" tstart=239557417.0 tstop=255398400.0 dtime=86400.0 tbinfile=NONE coordsys=\"CEL\" axisrot=0.0 rafield=\"RA\" decfield=\"DEC\" proj=\"AIT\" hpx_ordering_scheme=\"RING\" hpx_order=3 hpx_ebin=yes evtable=\"EVENTS\" sctable=\"SC_DATA\" efield=\"ENERGY\" tfield=\"TIME\" chatter=2 clobber=yes debug=no gui=no mode=\"ql\"\n",
      "This is gtbin version ScienceTools-v10r0p5-fssc-20150518\n",
      "real 1.81\n",
      "user 0.86\n",
      "sys 0.38\n"
     ]
    }
   ],
   "source": [
    "evtbin.run()"
   ]
  },
  {
   "cell_type": "code",
   "execution_count": 70,
   "metadata": {
    "collapsed": true
   },
   "outputs": [],
   "source": [
    "lc_gtbin = pyfits.open('data/3C279_1deg_lc.fits')"
   ]
  },
  {
   "cell_type": "code",
   "execution_count": 71,
   "metadata": {},
   "outputs": [
    {
     "data": {
      "text/plain": [
       "<Container object of 3 artists>"
      ]
     },
     "execution_count": 71,
     "metadata": {},
     "output_type": "execute_result"
    },
    {
     "data": {
      "image/png": "[encoded data removed]",
      "text/plain": [
       "<matplotlib.figure.Figure at 0x7f5f364dd390>"
      ]
     },
     "metadata": {},
     "output_type": "display_data"
    }
   ],
   "source": [
    "errorbar(lc_gtbin[1].data.field('TIME'),lc_gtbin[1].data.field('Counts'),yerr=lc_gtbin[1].data.field('Error'))"
   ]
  },
  {
   "cell_type": "markdown",
   "metadata": {},
   "source": [
    "### Other views of the data\n",
    "Of course, we can't go over all of the ways you can quickly look at the data here are some others (and links to examples):\n",
    "\n",
    "* [Aperture photometry](http://fermi.gsfc.nasa.gov/ssc/data/analysis/scitools/aperture_photometry.html)\n",
    "    * R. Corbet of the FSSC also generates [Light curves for all of the 3FGL sources](http://fermi.gsfc.nasa.gov/ssc/data/access/lat/4yr_catalog/ap_lcs.php).\n",
    "* Exposure corrected light curves.\n",
    "* Looking for clusters of photons.\n",
    "* And lots more...\n"
   ]
  },
  {
   "cell_type": "markdown",
   "metadata": {},
   "source": [
    "Projects!\n",
    "============\n"
   ]
  },
  {
   "cell_type": "markdown",
   "metadata": {},
   "source": [
    "Our goal is to help you complete an analysis on a topic of your choice during the next two weeks. We're happy to work on both simple and complex projects, but we are unlikely to have enough time/computational power to complete the complex ones.\n",
    "\n",
    "Simple project examples:\n",
    "* Single source spectral and variability analysis for point sources, extended sources, etc.\n",
    "* Time-dependent characteristics of gamma-ray binaries\n",
    "* GRB spectra and light curves\n",
    "* Temporal and spectral characteristics of stellar novae\n",
    "* Pulsar spectral analysis, weighting, and pulsation searching (using a known pulsar with current timing information)\n",
    "\n",
    "Complex project examples:\n",
    "* Characterization of a large-scale/all-sky signal: anisotropy in the EBL, dark matter signals in the GC, Galactic diffuse emission\n",
    "* Stacking analyses: searching for AGN halos, dark matter search from dwarf spheroidal galaxies\n",
    "* Searching for new pulsars in the gamma rays\n",
    "* Characterizing the positron/electron ratio detected by the LAT"
   ]
  },
  {
   "cell_type": "markdown",
   "metadata": {},
   "source": [
    "## What would you like to try to accomplish?"
   ]
  },
  {
   "cell_type": "code",
   "execution_count": null,
   "metadata": {
    "collapsed": true
   },
   "outputs": [],
   "source": []
  }
 ],
 "metadata": {
  "kernelspec": {
   "display_name": "Python 2",
   "language": "python",
   "name": "python2"
  },
  "language_info": {
   "codemirror_mode": {
    "name": "ipython",
    "version": 2
   },
   "file_extension": ".py",
   "mimetype": "text/x-python",
   "name": "python",
   "nbconvert_exporter": "python",
   "pygments_lexer": "ipython2",
   "version": "2.7.8"
  }
 },
 "nbformat": 4,
 "nbformat_minor": 1
}
