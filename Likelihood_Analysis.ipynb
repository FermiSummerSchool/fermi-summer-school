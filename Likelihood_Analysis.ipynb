{
 "metadata": {
  "name": "Likelihood_Analysis"
 },
 "nbformat": 3,
 "nbformat_minor": 0,
 "worksheets": [
  {
   "cells": [
    {
     "cell_type": "markdown",
     "metadata": {},
     "source": [
      "FSSC Science Tools\n",
      "=========================\n",
      "Fermi LAT Likelihood Analysis: Livetime, Exposure and pyLike\n",
      "-------------------------\n",
      "*Jeremy S. Perkins, FSSC*"
     ]
    },
    {
     "cell_type": "markdown",
     "metadata": {},
     "source": [
      "The Quick Summary of What We're Going to Do\n",
      "-------------------------------------------\n",
      "\n",
      "* We observed a photon from a location, at a specific time, with a specific energy\n",
      "* We assume a model:"
     ]
    },
    {
     "cell_type": "code",
     "collapsed": false,
     "input": [
      "from IPython.display import Math"
     ],
     "language": "python",
     "metadata": {},
     "outputs": [],
     "prompt_number": 1
    },
    {
     "cell_type": "code",
     "collapsed": false,
     "input": [
      "Math(r'S(E,\\hat{p},t) = \\sum_i s_i(E,t)\\delta(\\hat{p}-\\hat{p}_i)'\n",
      "                        + ' + S_G(E,\\hat{p}) + S_{eg}(E,\\hat{p})'\n",
      "                        + ' + \\sum_l S_l(E,\\hat{p},t)')"
     ],
     "language": "python",
     "metadata": {},
     "outputs": [
      {
       "latex": [
        "$$S(E,\\hat{p},t) = \\sum_i s_i(E,t)\\delta(\\hat{p}-\\hat{p}_i) + S_G(E,\\hat{p}) + S_{eg}(E,\\hat{p}) + \\sum_l S_l(E,\\hat{p},t)$$"
       ],
       "output_type": "pyout",
       "prompt_number": 16,
       "text": [
        "<IPython.core.display.Math at 0x10f43a390>"
       ]
      }
     ],
     "prompt_number": 16
    },
    {
     "cell_type": "markdown",
     "metadata": {},
     "source": [
      "* The model is defined as \n",
      "    * a summation over point sources.\n",
      "    * the galactic and extra-galactic diffuse.\n",
      "    * and a summataion over anything else.\n",
      "* We calculate the probability of that photon being detected assuming our model:"
     ]
    },
    {
     "cell_type": "code",
     "collapsed": false,
     "input": [
      "Math(r\"M(E',\\hat{p}',t) = \\int_{SR} dEd\\hat{p}R(E',\\hat{p}',t;E,\\hat{p})S(E,\\hat{p},t)\")"
     ],
     "language": "python",
     "metadata": {},
     "outputs": [
      {
       "latex": [
        "$$M(E',\\hat{p}',t) = \\int_{SR} dEd\\hat{p}R(E',\\hat{p}',t;E,\\hat{p})S(E,\\hat{p},t)$$"
       ],
       "output_type": "pyout",
       "prompt_number": 19,
       "text": [
        "<IPython.core.display.Math at 0x10f43a490>"
       ]
      }
     ],
     "prompt_number": 19
    },
    {
     "cell_type": "markdown",
     "metadata": {},
     "source": [
      "* Then we calculate the total number of predicted counts assuming our model:"
     ]
    },
    {
     "cell_type": "code",
     "collapsed": false,
     "input": [
      "Math(r'N_{pred} = \\int_{SR} dEd\\hat{p}S(E,\\hat{p})\\epsilon(E,\\hat{p})')"
     ],
     "language": "python",
     "metadata": {},
     "outputs": [
      {
       "latex": [
        "$$N_{pred} = \\int_{SR} dEd\\hat{p}S(E,\\hat{p})\\epsilon(E,\\hat{p})$$"
       ],
       "output_type": "pyout",
       "prompt_number": 22,
       "text": [
        "<IPython.core.display.Math at 0x10f43a1d0>"
       ]
      }
     ],
     "prompt_number": 22
    },
    {
     "cell_type": "markdown",
     "metadata": {},
     "source": [
      "* epsilon is a model-independent quantitity called the exposure map (or cube)\n",
      "    * it's not the exposure in a traditional sense, but useful nomenclature.\n",
      "* **epsilon can be precomputed so it saves time in the Likihood optimization**"
     ]
    },
    {
     "cell_type": "code",
     "collapsed": false,
     "input": [
      "Math(r\"\\epsilon(E,\\hat{p}) \\equiv \\int_{ROI} dE'd\\hat{p}'dt R(E',\\hat{p}',t; E,\\hat{p})\")"
     ],
     "language": "python",
     "metadata": {},
     "outputs": [
      {
       "latex": [
        "$$\\epsilon(E,\\hat{p}) \\equiv \\int_{ROI} dE'd\\hat{p}'dt R(E',\\hat{p}',t; E,\\hat{p})$$"
       ],
       "output_type": "pyout",
       "prompt_number": 26,
       "text": [
        "<IPython.core.display.Math at 0x10f43a110>"
       ]
      }
     ],
     "prompt_number": 26
    },
    {
     "cell_type": "markdown",
     "metadata": {},
     "source": [
      "* Now we adjust our model until the following is maximised:"
     ]
    },
    {
     "cell_type": "code",
     "collapsed": false,
     "input": [
      "Math(r\"\\log L = \\sum_j \\log M(E'_j,\\hat{p}'_j,t_j) - N_{pred}\")"
     ],
     "language": "python",
     "metadata": {},
     "outputs": [
      {
       "latex": [
        "$$\\log L = \\sum_j \\log M(E'_j,\\hat{p}'_j,t_j) - N_{pred}$$"
       ],
       "output_type": "pyout",
       "prompt_number": 28,
       "text": [
        "<IPython.core.display.Math at 0x10f43a4d0>"
       ]
      }
     ],
     "prompt_number": 28
    },
    {
     "cell_type": "markdown",
     "metadata": {},
     "source": [
      "* And we calculate the TS"
     ]
    },
    {
     "cell_type": "code",
     "collapsed": false,
     "input": [
      "Math(r\"TS = -2 \\log \\frac{L_{max,0}}{L_{max,1}}\")"
     ],
     "language": "python",
     "metadata": {},
     "outputs": [
      {
       "latex": [
        "$$TS = -2 \\log \\frac{L_{max,0}}{L_{max,1}}$$"
       ],
       "output_type": "pyout",
       "prompt_number": 31,
       "text": [
        "<IPython.core.display.Math at 0x10f43a650>"
       ]
      }
     ],
     "prompt_number": 31
    },
    {
     "cell_type": "markdown",
     "metadata": {},
     "source": [
      "Calculating Livetime and Exposure\n",
      "---------------------------------\n",
      "* Calculating the exposure is a two-step process\n",
      "    * **Livetime:** formally the time when the detector is available to collect data\n",
      "        * For analysis, additionally require good data quality and select to remove high background\n",
      "        * Large FoV with varying response: need to know when and where\n",
      "    * **Exposure:** for practical purposes, the number that converts counts to photon flux\n",
      "        * Apply expected photon detection efficiency and angular resolution\n",
      "            * Depends on the event selection\n",
      "            * Depends on the direction of the photon relative to the instrument boresight and energy"
     ]
    },
    {
     "cell_type": "code",
     "collapsed": false,
     "input": [
      "from IPython.display import Image"
     ],
     "language": "python",
     "metadata": {},
     "outputs": [],
     "prompt_number": 32
    },
    {
     "cell_type": "code",
     "collapsed": false,
     "input": [
      "Image(filename='images/zenith_diagram.png')"
     ],
     "language": "python",
     "metadata": {},
     "outputs": [
      {
       "output_type": "pyout",
       "png": "[encoded data removed]",
       "prompt_number": 33,
       "text": [
        "<IPython.core.display.Image at 0x10f43a910>"
       ]
      }
     ],
     "prompt_number": 33
    },
    {
     "cell_type": "markdown",
     "metadata": {},
     "source": [
      "###Livetime\n",
      "* Sum up time spent in the field of view for each position in the celestial sky\n",
      "    * Inputs are the photon and spacecraft files\n",
      "    * Options are pixel size and step size for the instrument angles\n",
      "    * Output is a livetime \u2018cube\u2019\n",
      "    * Respects time-based selection cuts made with gtmktime (GTIs)\n",
      "* **Livetime and Maximum Zenith Angle**\n",
      "    * gtltcube knowns about the field of view and the spacecraft pointing (via the spacecraft file) and can make exposure corrections related to this corrodinate systems.\n",
      "    * If you are doing an all-sky analysis or non-stantdard zenith cut, gtltcube can make a correction for the exposure loss from a zenith angle cut in gtselect.\n",
      "        * **note:** this assumes perfect reconstruction\n",
      "    * **If you're doing a basic source analysis and using the standard ROI cut you don't need to do this.**\n",
      "    \n",
      "* Example: if you use *zmax = 100* in *gtselect* and set *ROIcut = no* in *gtmktime* then you **must** use *zmax=100* in *gtltcube*.\n",
      "\n",
      "Let's do this now (doing it the python way, you can just run *gtltcube* from the command line if you wish)..."
     ]
    },
    {
     "cell_type": "code",
     "collapsed": false,
     "input": [
      "from gt_apps import expCube"
     ],
     "language": "python",
     "metadata": {},
     "outputs": [],
     "prompt_number": 1
    },
    {
     "cell_type": "code",
     "collapsed": false,
     "input": [
      "expCube.pars()"
     ],
     "language": "python",
     "metadata": {},
     "outputs": [
      {
       "output_type": "pyout",
       "prompt_number": 2,
       "text": [
        "' evfile=\"\" evtable=\"EVENTS\" scfile= sctable=\"SC_DATA\" outfile=expCube.fits dcostheta=0.025 binsz=1.0 phibins=0 tmin=0.0 tmax=0.0 file_version=\"1\" zmin=0.0 zmax=180.0 chatter=2 clobber=yes debug=no gui=no mode=\"ql\"'"
       ]
      }
     ],
     "prompt_number": 2
    },
    {
     "cell_type": "code",
     "collapsed": false,
     "input": [
      "expCube['evfile'] = 'data/3C279_filtered_gti.fits'\n",
      "expCube['scfile'] = 'data/L1305211547389D489E7F87_SC00.fits'\n",
      "expCube['outfile'] = 'data/3C279_ltcube.fits'\n",
      "expCube['dcostheta'] = 0.025\n",
      "expCube['binsz'] = 1.0"
     ],
     "language": "python",
     "metadata": {},
     "outputs": [],
     "prompt_number": 3
    },
    {
     "cell_type": "code",
     "collapsed": false,
     "input": [
      "expCube.run()"
     ],
     "language": "python",
     "metadata": {},
     "outputs": [
      {
       "output_type": "stream",
       "stream": "stdout",
       "text": [
        "time -p /usr/local/fermisoft/v9r31p1-fssc-20130410/x86_64-apple-darwin12.3.0/bin/gtltcube evfile=\"data/3C279_filtered_gti.fits\" evtable=\"EVENTS\" scfile=data/L1305211547389D489E7F87_SC00.fits sctable=\"SC_DATA\" outfile=data/3C279_ltcube.fits dcostheta=0.025 binsz=1.0 phibins=0 tmin=0.0 tmax=0.0 file_version=\"1\" zmin=0.0 zmax=180.0 chatter=2 clobber=yes debug=no gui=no mode=\"ql\"\n",
        "Working on file data/L1305211547389D489E7F87_SC00.fits"
       ]
      },
      {
       "output_type": "stream",
       "stream": "stdout",
       "text": [
        "\n",
        ".....................!\n",
        "real 780.08\n",
        "user 778.08\n",
        "sys 0.99\n"
       ]
      }
     ],
     "prompt_number": 4
    },
    {
     "cell_type": "markdown",
     "metadata": {},
     "source": [
      "This takes a while to run..."
     ]
    },
    {
     "cell_type": "code",
     "collapsed": false,
     "input": [
      "780/60"
     ],
     "language": "python",
     "metadata": {},
     "outputs": [
      {
       "output_type": "pyout",
       "prompt_number": 5,
       "text": [
        "13"
       ]
      }
     ],
     "prompt_number": 5
    },
    {
     "cell_type": "markdown",
     "metadata": {},
     "source": [
      "Thirteen minutes in fact... As usual, let's see what we have here."
     ]
    },
    {
     "cell_type": "code",
     "collapsed": false,
     "input": [
      "import pyfits"
     ],
     "language": "python",
     "metadata": {},
     "outputs": [],
     "prompt_number": 6
    },
    {
     "cell_type": "code",
     "collapsed": false,
     "input": [
      "ltcube_hdu = pyfits.open('data/3C279_ltcube.fits')"
     ],
     "language": "python",
     "metadata": {},
     "outputs": [],
     "prompt_number": 7
    },
    {
     "cell_type": "code",
     "collapsed": false,
     "input": [
      "print ltcube_hdu.info()"
     ],
     "language": "python",
     "metadata": {},
     "outputs": [
      {
       "output_type": "stream",
       "stream": "stdout",
       "text": [
        "Filename: data/3C279_ltcube.fits\n",
        "No.    Name         Type      Cards   Dimensions   Format\n",
        "0    PRIMARY     PrimaryHDU      27  ()            uint8\n",
        "1    EXPOSURE    BinTableHDU     59  49152R x 3C   [40E, E, E]\n",
        "2    WEIGHTED_EXPOSURE  BinTableHDU     59  49152R x 3C   [40E, E, E]\n",
        "3    CTHETABOUNDS  BinTableHDU     33  40R x 2C      [E, E]\n",
        "4    GTI         BinTableHDU     46  3683R x 2C    [D, D]\n",
        "None\n"
       ]
      }
     ],
     "prompt_number": 8
    },
    {
     "cell_type": "code",
     "collapsed": false,
     "input": [
      "%pylab inline"
     ],
     "language": "python",
     "metadata": {},
     "outputs": [
      {
       "output_type": "stream",
       "stream": "stdout",
       "text": [
        "\n",
        "Welcome to pylab, a matplotlib-based Python environment [backend: module://IPython.zmq.pylab.backend_inline].\n",
        "For more information, type 'help(pylab)'.\n"
       ]
      }
     ],
     "prompt_number": 9
    },
    {
     "cell_type": "code",
     "collapsed": false,
     "input": [
      "print \"RA,DEC\",ltcube_hdu[1].data.field('ra')[0],ltcube_hdu[1].data.field('dec')[0]\n",
      "plot(ltcube_hdu[1].data.field('cosbins')[0])"
     ],
     "language": "python",
     "metadata": {},
     "outputs": [
      {
       "output_type": "stream",
       "stream": "stdout",
       "text": [
        "RA,DEC 45.0 0.596842\n"
       ]
      },
      {
       "output_type": "pyout",
       "prompt_number": 41,
       "text": [
        "[<matplotlib.lines.Line2D at 0x10458f590>]"
       ]
      },
      {
       "output_type": "display_data",
       "png": "[encoded data removed]"
      }
     ],
     "prompt_number": 41
    },
    {
     "cell_type": "code",
     "collapsed": false,
     "input": [
      "print \"RA,DEC\",ltcube_hdu[1].data.field('ra')[10],ltcube_hdu[1].data.field('dec')[10]\n",
      "plot(ltcube_hdu[1].data.field('cosbins')[10])"
     ],
     "language": "python",
     "metadata": {},
     "outputs": [
      {
       "output_type": "stream",
       "stream": "stdout",
       "text": [
        "RA,DEC 42.8906 2.38802\n"
       ]
      },
      {
       "output_type": "pyout",
       "prompt_number": 42,
       "text": [
        "[<matplotlib.lines.Line2D at 0x107886bd0>]"
       ]
      },
      {
       "output_type": "display_data",
       "png": "[encoded data removed]"
      }
     ],
     "prompt_number": 42
    },
    {
     "cell_type": "markdown",
     "metadata": {},
     "source": [
      "### Now lets calculate the exposure map"
     ]
    },
    {
     "cell_type": "code",
     "collapsed": false,
     "input": [
      "from gt_apps import expMap"
     ],
     "language": "python",
     "metadata": {},
     "outputs": [],
     "prompt_number": 45
    },
    {
     "cell_type": "code",
     "collapsed": false,
     "input": [
      "expMap.pars()"
     ],
     "language": "python",
     "metadata": {},
     "outputs": [
      {
       "output_type": "pyout",
       "prompt_number": 47,
       "text": [
        "' evfile= evtable=\"EVENTS\" scfile= sctable=\"SC_DATA\" expcube= outfile= irfs=\"P7SOURCE_V6\" srcrad=30.0 nlong=120 nlat=120 nenergies=20 submap=no nlongmin=0 nlongmax=0 nlatmin=0 nlatmax=0 chatter=2 clobber=yes debug=no gui=no mode=\"ql\"'"
       ]
      }
     ],
     "prompt_number": 47
    },
    {
     "cell_type": "code",
     "collapsed": false,
     "input": [
      "expMap['evfile'] = 'data/3C279_filtered_gti.fits'\n",
      "expMap['scfile'] = 'data/L1305211547389D489E7F87_SC00.fits'\n",
      "expMap['expcube'] = 'data/3C279_ltcube.fits'\n",
      "expMap['outfile'] = 'data/3C279_expmap.fits'\n",
      "expMap['irfs'] = 'P7SOURCE_V6'\n",
      "expMap['srcrad'] = 30\n",
      "expMap['nlong'] = 120\n",
      "expMap['nlat'] = 120\n",
      "expMap['nenergies'] = 20"
     ],
     "language": "python",
     "metadata": {},
     "outputs": [],
     "prompt_number": 48
    },
    {
     "cell_type": "code",
     "collapsed": false,
     "input": [
      "expMap.run()"
     ],
     "language": "python",
     "metadata": {},
     "outputs": [
      {
       "output_type": "stream",
       "stream": "stdout",
       "text": [
        "time -p /usr/local/fermisoft/v9r31p1-fssc-20130410/x86_64-apple-darwin12.3.0/bin/gtexpmap evfile=data/3C279_filtered_gti.fits evtable=\"EVENTS\" scfile=data/L1305211547389D489E7F87_SC00.fits sctable=\"SC_DATA\" expcube=data/3C279_ltcube.fits outfile=data/3C279_expmap.fits irfs=\"P7SOURCE_V6\" srcrad=30.0 nlong=120 nlat=120 nenergies=20 submap=no nlongmin=0 nlongmax=0 nlatmin=0 nlatmax=0 chatter=2 clobber=yes debug=no gui=no mode=\"ql\"\n",
        "The exposure maps generated by this tool are meant"
       ]
      },
      {
       "output_type": "stream",
       "stream": "stdout",
       "text": [
        "\n",
        "to be used for *unbinned* likelihood analysis only.\n",
        "Do not use them for binned analyses.\n",
        "Computing the ExposureMap using data/3C279_ltcube.fits\n",
        "....................!\n",
        "real 69.78\n",
        "user 68.56\n",
        "sys 0.33\n"
       ]
      }
     ],
     "prompt_number": 49
    },
    {
     "cell_type": "markdown",
     "metadata": {},
     "source": [
      "What do we have here.."
     ]
    },
    {
     "cell_type": "code",
     "collapsed": false,
     "input": [
      "expmap_hdu = pyfits.open('data/3C279_expmap.fits')"
     ],
     "language": "python",
     "metadata": {},
     "outputs": [],
     "prompt_number": 51
    },
    {
     "cell_type": "code",
     "collapsed": false,
     "input": [
      "expmap_hdu.info()"
     ],
     "language": "python",
     "metadata": {},
     "outputs": [
      {
       "output_type": "stream",
       "stream": "stdout",
       "text": [
        "Filename: data/3C279_expmap.fits\n",
        "No.    Name         Type      Cards   Dimensions   Format\n",
        "0    PRIMARY     PrimaryHDU      48  (120, 120, 20)  float32\n",
        "1    ENERGIES    BinTableHDU     13  20R x 1C      [1D]\n",
        "2    GTI         BinTableHDU     18  3683R x 2C    [D, D]\n"
       ]
      }
     ],
     "prompt_number": 52
    },
    {
     "cell_type": "code",
     "collapsed": false,
     "input": [
      "import time\n",
      "from IPython.display import clear_output\n",
      "\n",
      "f, ax = subplots()\n",
      "for expmap in expmap_hdu[0].data:\n",
      "    clear_output()\n",
      "    imshow(expmap)\n",
      "    time.sleep(0.2)\n",
      "    display(f)\n",
      "    ax.cla()\n",
      "close()"
     ],
     "language": "python",
     "metadata": {},
     "outputs": [
      {
       "output_type": "display_data",
       "png": "[encoded data removed]",
       "text": [
        "<matplotlib.figure.Figure at 0x107a76950>"
       ]
      }
     ],
     "prompt_number": 63
    },
    {
     "cell_type": "markdown",
     "metadata": {},
     "source": [
      "### Why did we pick the binning we did?"
     ]
    },
    {
     "cell_type": "markdown",
     "metadata": {},
     "source": [
      "* Response functions are minimally parameterized in the inclination angle (theta) and energy\n",
      "    * Bin or step sizes used in exposure calculations should consider how quickly the efficiency changes in space or energy\n",
      "        * At least 10 bins per decade in energy to avoid errors in estimation where the effective area changes rapidly\n",
      "        * No single, strict recommendation on spatial binning\n",
      "            * 1 deg default sufficient for making maps\n",
      "            * The Binned likelihood is matched to data binning\n",
      "    * gtexposure invokes a spectral assumption - this has a noticeable impact  \n",
      "        * Remember that both the efficiency and angular reconstruction depend on energy"
     ]
    },
    {
     "cell_type": "code",
     "collapsed": false,
     "input": [],
     "language": "python",
     "metadata": {},
     "outputs": []
    }
   ],
   "metadata": {}
  }
 ]
}