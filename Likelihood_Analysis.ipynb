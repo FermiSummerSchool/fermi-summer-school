{
 "metadata": {
  "name": "Likelihood_Analysis"
 },
 "nbformat": 3,
 "nbformat_minor": 0,
 "worksheets": [
  {
   "cells": [
    {
     "cell_type": "markdown",
     "metadata": {},
     "source": [
      "FSSC Science Tools\n",
      "=========================\n",
      "Fermi LAT Likelihood Analysis: Livetime, Exposure and pyLike\n",
      "-------------------------\n",
      "*Jeremy S. Perkins, FSSC*"
     ]
    },
    {
     "cell_type": "markdown",
     "metadata": {},
     "source": [
      "The Quick Summary of What We're Going to Do\n",
      "-------------------------------------------\n",
      "\n",
      "* We observed a photon from a location, at a specific time, with a specific energy\n",
      "* We assume a model:"
     ]
    },
    {
     "cell_type": "code",
     "collapsed": false,
     "input": [
      "from IPython.display import Math"
     ],
     "language": "python",
     "metadata": {},
     "outputs": [],
     "prompt_number": 1
    },
    {
     "cell_type": "code",
     "collapsed": false,
     "input": [
      "Math(r'S(E,\\hat{p},t) = \\sum_i s_i(E,t)\\delta(\\hat{p}-\\hat{p}_i)'\n",
      "                        + ' + S_G(E,\\hat{p}) + S_{eg}(E,\\hat{p})'\n",
      "                        + ' + \\sum_l S_l(E,\\hat{p},t)')"
     ],
     "language": "python",
     "metadata": {},
     "outputs": [
      {
       "latex": [
        "$$S(E,\\hat{p},t) = \\sum_i s_i(E,t)\\delta(\\hat{p}-\\hat{p}_i) + S_G(E,\\hat{p}) + S_{eg}(E,\\hat{p}) + \\sum_l S_l(E,\\hat{p},t)$$"
       ],
       "output_type": "pyout",
       "prompt_number": 16,
       "text": [
        "<IPython.core.display.Math at 0x10f43a390>"
       ]
      }
     ],
     "prompt_number": 16
    },
    {
     "cell_type": "markdown",
     "metadata": {},
     "source": [
      "* The model is defined as \n",
      "    * a summation over point sources.\n",
      "    * the galactic and extra-galactic diffuse.\n",
      "    * and a summataion over anything else.\n",
      "* We calculate the probability of that photon being detected assuming our model:"
     ]
    },
    {
     "cell_type": "code",
     "collapsed": false,
     "input": [
      "Math(r\"M(E',\\hat{p}',t) = \\int_{SR} dEd\\hat{p}R(E',\\hat{p}',t;E,\\hat{p})S(E,\\hat{p},t)\")"
     ],
     "language": "python",
     "metadata": {},
     "outputs": [
      {
       "latex": [
        "$$M(E',\\hat{p}',t) = \\int_{SR} dEd\\hat{p}R(E',\\hat{p}',t;E,\\hat{p})S(E,\\hat{p},t)$$"
       ],
       "output_type": "pyout",
       "prompt_number": 19,
       "text": [
        "<IPython.core.display.Math at 0x10f43a490>"
       ]
      }
     ],
     "prompt_number": 19
    },
    {
     "cell_type": "markdown",
     "metadata": {},
     "source": [
      "* Then we calculate the total number of predicted counts assuming our model:"
     ]
    },
    {
     "cell_type": "code",
     "collapsed": false,
     "input": [
      "Math(r'N_{pred} = \\int_{SR} dEd\\hat{p}S(E,\\hat{p})\\epsilon(E,\\hat{p})')"
     ],
     "language": "python",
     "metadata": {},
     "outputs": [
      {
       "latex": [
        "$$N_{pred} = \\int_{SR} dEd\\hat{p}S(E,\\hat{p})\\epsilon(E,\\hat{p})$$"
       ],
       "output_type": "pyout",
       "prompt_number": 22,
       "text": [
        "<IPython.core.display.Math at 0x10f43a1d0>"
       ]
      }
     ],
     "prompt_number": 22
    },
    {
     "cell_type": "markdown",
     "metadata": {},
     "source": [
      "* epsilon is a model-independent quantitity called the exposure map (or cube)\n",
      "    * it's not the exposure in a traditional sense, but useful nomenclature.\n",
      "* **epsilon can be precomputed so it saves time in the Likihood optimization**"
     ]
    },
    {
     "cell_type": "code",
     "collapsed": false,
     "input": [
      "Math(r\"\\epsilon(E,\\hat{p}) \\equiv \\int_{ROI} dE'd\\hat{p}'dt R(E',\\hat{p}',t; E,\\hat{p})\")"
     ],
     "language": "python",
     "metadata": {},
     "outputs": [
      {
       "latex": [
        "$$\\epsilon(E,\\hat{p}) \\equiv \\int_{ROI} dE'd\\hat{p}'dt R(E',\\hat{p}',t; E,\\hat{p})$$"
       ],
       "output_type": "pyout",
       "prompt_number": 26,
       "text": [
        "<IPython.core.display.Math at 0x10f43a110>"
       ]
      }
     ],
     "prompt_number": 26
    },
    {
     "cell_type": "markdown",
     "metadata": {},
     "source": [
      "* Now we adjust our model until the following is maximised:"
     ]
    },
    {
     "cell_type": "code",
     "collapsed": false,
     "input": [
      "Math(r\"\\log L = \\sum_j \\log M(E'_j,\\hat{p}'_j,t_j) - N_{pred}\")"
     ],
     "language": "python",
     "metadata": {},
     "outputs": [
      {
       "latex": [
        "$$\\log L = \\sum_j \\log M(E'_j,\\hat{p}'_j,t_j) - N_{pred}$$"
       ],
       "output_type": "pyout",
       "prompt_number": 28,
       "text": [
        "<IPython.core.display.Math at 0x10f43a4d0>"
       ]
      }
     ],
     "prompt_number": 28
    },
    {
     "cell_type": "markdown",
     "metadata": {},
     "source": [
      "* And we calculate the TS"
     ]
    },
    {
     "cell_type": "code",
     "collapsed": false,
     "input": [
      "Math(r\"TS = -2 \\log \\frac{L_{max,0}}{L_{max,1}}\")"
     ],
     "language": "python",
     "metadata": {},
     "outputs": [
      {
       "latex": [
        "$$TS = -2 \\log \\frac{L_{max,0}}{L_{max,1}}$$"
       ],
       "output_type": "pyout",
       "prompt_number": 31,
       "text": [
        "<IPython.core.display.Math at 0x10f43a650>"
       ]
      }
     ],
     "prompt_number": 31
    },
    {
     "cell_type": "markdown",
     "metadata": {},
     "source": [
      "Calculating Livetime and Exposure\n",
      "---------------------------------\n",
      "* Calculating the exposure is a two-step process\n",
      "    * **Livetime:** formally the time when the detector is available to collect data\n",
      "        * For analysis, additionally require good data quality and select to remove high background\n",
      "        * Large FoV with varying response: need to know when and where\n",
      "    * **Exposure:** for practical purposes, the number that converts counts to photon flux\n",
      "        * Apply expected photon detection efficiency and angular resolution\n",
      "            * Depends on the event selection\n",
      "            * Depends on the direction of the photon relative to the instrument boresight and energy"
     ]
    },
    {
     "cell_type": "code",
     "collapsed": false,
     "input": [
      "\n",
      "from IPython.display import Image"
     ],
     "language": "python",
     "metadata": {},
     "outputs": [],
     "prompt_number": 32
    },
    {
     "cell_type": "code",
     "collapsed": false,
     "input": [],
     "language": "python",
     "metadata": {},
     "outputs": []
    },
    {
     "cell_type": "code",
     "collapsed": false,
     "input": [
      "from matplotlib.patches import Circle, Rectangle, Polygon, Arrow, FancyArrow, Arc\n",
      "box_bg = '#CCCCCC'\n",
      "fig = figure(figsize=(8, 8), facecolor='w')\n",
      "ax = axes((0,0,1,1),xticks=[], yticks=[], frameon=False)\n",
      "ax.set_xlim(0, 8)\n",
      "ax.set_ylim(0, 8)\n",
      "\n",
      "          \n",
      "r1 = Rectangle((-3,3), 5, 4, color=\"blue\", alpha=0.50)\n",
      "t2 = mpl.transforms.Affine2D().rotate_deg(-45) + ax.transData\n",
      "r1.set_transform(t2)\n",
      "\n",
      "a1 = FancyArrow(1.6, 2.5, 4.0, 4.0, width=0.01, head_width=0.25, head_length=0.2, color=\"black\")\n",
      "a2 = FancyArrow(1.6, 0.0, 0.0, 7.8, width=0.01, head_width=0.25, head_length=0.2, color=\"black\")\n",
      "\n",
      "a3 = FancyArrow(1.6, 2.5, 5.0, -1.3, width=0.1, head_width=0.25, head_length=0.2, color=\"black\")\n",
      "a4 = FancyArrow(1.6, 2.5, -1.0, 5.0, width=0.1, head_width=0.25, head_length=0.2, color=\"black\")\n",
      "a5 = FancyArrow(1.6, 2.5, 6.0, -0.5, width=0.05, head_width=0.25, head_length=0.2, color=\"blue\")\n",
      "\n",
      "a6 = Arc((1.6,2.5),9.5,9.5,25,330,65)\n",
      "\n",
      "ax.add_patch(r1)\n",
      "ax.add_patch(a1)\n",
      "ax.add_patch(a2)\n",
      "ax.add_patch(a3)\n",
      "ax.add_patch(a4)\n",
      "ax.add_patch(a5)\n",
      "ax.add_patch(a6)\n",
      "\n",
      "text(7, 4.0, \"Zenith\\nAngle\",\n",
      "            ha='center', va='center', fontsize=22)\n",
      "\n",
      "grid(True)\n",
      "show()"
     ],
     "language": "python",
     "metadata": {},
     "outputs": [
      {
       "output_type": "display_data",
       "png": "[encoded data removed]"
      }
     ],
     "prompt_number": 229
    },
    {
     "cell_type": "markdown",
     "metadata": {},
     "source": [
      "###Livetime\n",
      "* Sum up time spent in the field of view for each position in the celestial sky\n",
      "    * Inputs are the photon and spacecraft files\n",
      "    * Options are pixel size and step size for the instrument angles\n",
      "    * Output is a livetime \u2018cube\u2019\n",
      "    * Respects time-based selection cuts made with gtmktime (GTIs)\n",
      "* **Livetime and Maximum Zenith Angle**\n",
      "    * gtltcube knowns about the field of view and the spacecraft pointing (via the spacecraft file) and can make exposure corrections related to this corrodinate systems.\n",
      "    * If you are doing an all-sky analysis or non-stantdard zenith cut, gtltcube can make a correction for the exposure loss from a zenith angle cut in gtselect.\n",
      "        * **note:** this assumes perfect reconstruction\n",
      "    * **If you're doing a basic source analysis and using the standard ROI cut you don't need to do this.**\n",
      "    \n",
      "* Example: if you use *zmax = 100* in *gtselect* and set *ROIcut = no* in *gtmktime* then you **must** use *zmax=100* in *gtltcube*.\n",
      "\n",
      "Let's do this now (doing it the python way, you can just run *gtltcube* from the command line if you wish)..."
     ]
    },
    {
     "cell_type": "code",
     "collapsed": false,
     "input": [
      "from gt_apps import expCube"
     ],
     "language": "python",
     "metadata": {},
     "outputs": [],
     "prompt_number": 1
    },
    {
     "cell_type": "code",
     "collapsed": false,
     "input": [
      "expCube.pars()"
     ],
     "language": "python",
     "metadata": {},
     "outputs": [
      {
       "output_type": "pyout",
       "prompt_number": 2,
       "text": [
        "' evfile=\"\" evtable=\"EVENTS\" scfile= sctable=\"SC_DATA\" outfile=expCube.fits dcostheta=0.025 binsz=1.0 phibins=0 tmin=0.0 tmax=0.0 file_version=\"1\" zmin=0.0 zmax=180.0 chatter=2 clobber=yes debug=no gui=no mode=\"ql\"'"
       ]
      }
     ],
     "prompt_number": 2
    },
    {
     "cell_type": "code",
     "collapsed": false,
     "input": [
      "expCube['evfile'] = 'data/3C279_filtered_gti.fits'\n",
      "expCube['scfile'] = 'data/L1305211547389D489E7F87_SC00.fits'\n",
      "expCube['outfile'] = 'data/3C279_ltcube.fits'\n",
      "expCube['dcostheta'] = 0.025\n",
      "expCube['binsz'] = 1.0"
     ],
     "language": "python",
     "metadata": {},
     "outputs": [],
     "prompt_number": 3
    },
    {
     "cell_type": "code",
     "collapsed": false,
     "input": [
      "expCube.run()"
     ],
     "language": "python",
     "metadata": {},
     "outputs": [
      {
       "output_type": "stream",
       "stream": "stdout",
       "text": [
        "time -p /usr/local/fermisoft/v9r31p1-fssc-20130410/x86_64-apple-darwin12.3.0/bin/gtltcube evfile=\"data/3C279_filtered_gti.fits\" evtable=\"EVENTS\" scfile=data/L1305211547389D489E7F87_SC00.fits sctable=\"SC_DATA\" outfile=data/3C279_ltcube.fits dcostheta=0.025 binsz=1.0 phibins=0 tmin=0.0 tmax=0.0 file_version=\"1\" zmin=0.0 zmax=180.0 chatter=2 clobber=yes debug=no gui=no mode=\"ql\"\n",
        "Working on file data/L1305211547389D489E7F87_SC00.fits"
       ]
      },
      {
       "output_type": "stream",
       "stream": "stdout",
       "text": [
        "\n",
        ".....................!\n",
        "real 780.08\n",
        "user 778.08\n",
        "sys 0.99\n"
       ]
      }
     ],
     "prompt_number": 4
    },
    {
     "cell_type": "markdown",
     "metadata": {},
     "source": [
      "This takes a while to run..."
     ]
    },
    {
     "cell_type": "code",
     "collapsed": false,
     "input": [
      "780/60"
     ],
     "language": "python",
     "metadata": {},
     "outputs": [
      {
       "output_type": "pyout",
       "prompt_number": 5,
       "text": [
        "13"
       ]
      }
     ],
     "prompt_number": 5
    },
    {
     "cell_type": "markdown",
     "metadata": {},
     "source": [
      "Thirteen minutes in fact... As usual, let's see what we have here."
     ]
    },
    {
     "cell_type": "code",
     "collapsed": false,
     "input": [
      "import pyfits"
     ],
     "language": "python",
     "metadata": {},
     "outputs": [],
     "prompt_number": 6
    },
    {
     "cell_type": "code",
     "collapsed": false,
     "input": [
      "ltcube_hdu = pyfits.open('data/3C279_ltcube.fits')"
     ],
     "language": "python",
     "metadata": {},
     "outputs": [],
     "prompt_number": 7
    },
    {
     "cell_type": "code",
     "collapsed": false,
     "input": [
      "print ltcube_hdu.info()"
     ],
     "language": "python",
     "metadata": {},
     "outputs": [
      {
       "output_type": "stream",
       "stream": "stdout",
       "text": [
        "Filename: data/3C279_ltcube.fits\n",
        "No.    Name         Type      Cards   Dimensions   Format\n",
        "0    PRIMARY     PrimaryHDU      27  ()            uint8\n",
        "1    EXPOSURE    BinTableHDU     59  49152R x 3C   [40E, E, E]\n",
        "2    WEIGHTED_EXPOSURE  BinTableHDU     59  49152R x 3C   [40E, E, E]\n",
        "3    CTHETABOUNDS  BinTableHDU     33  40R x 2C      [E, E]\n",
        "4    GTI         BinTableHDU     46  3683R x 2C    [D, D]\n",
        "None\n"
       ]
      }
     ],
     "prompt_number": 8
    },
    {
     "cell_type": "code",
     "collapsed": false,
     "input": [
      "%pylab inline"
     ],
     "language": "python",
     "metadata": {},
     "outputs": [
      {
       "output_type": "stream",
       "stream": "stdout",
       "text": [
        "\n",
        "Welcome to pylab, a matplotlib-based Python environment [backend: module://IPython.zmq.pylab.backend_inline].\n",
        "For more information, type 'help(pylab)'.\n"
       ]
      }
     ],
     "prompt_number": 9
    },
    {
     "cell_type": "code",
     "collapsed": false,
     "input": [
      "print \"RA,DEC\",ltcube_hdu[1].data.field('ra')[0],ltcube_hdu[1].data.field('dec')[0]\n",
      "plot(ltcube_hdu[1].data.field('cosbins')[0])"
     ],
     "language": "python",
     "metadata": {},
     "outputs": [
      {
       "output_type": "stream",
       "stream": "stdout",
       "text": [
        "RA,DEC 45.0 0.596842\n"
       ]
      },
      {
       "output_type": "pyout",
       "prompt_number": 126,
       "text": [
        "[<matplotlib.lines.Line2D at 0x138675990>]"
       ]
      },
      {
       "output_type": "display_data",
       "png": "[encoded data removed]"
      }
     ],
     "prompt_number": 126
    },
    {
     "cell_type": "code",
     "collapsed": false,
     "input": [
      "print \"RA,DEC\",ltcube_hdu[1].data.field('ra')[10],ltcube_hdu[1].data.field('dec')[10]\n",
      "plot(ltcube_hdu[1].data.field('cosbins')[10])"
     ],
     "language": "python",
     "metadata": {},
     "outputs": [
      {
       "output_type": "stream",
       "stream": "stdout",
       "text": [
        "RA,DEC 42.8906 2.38802\n"
       ]
      },
      {
       "output_type": "pyout",
       "prompt_number": 42,
       "text": [
        "[<matplotlib.lines.Line2D at 0x107886bd0>]"
       ]
      },
      {
       "output_type": "display_data",
       "png": "[encoded data removed]"
      }
     ],
     "prompt_number": 42
    },
    {
     "cell_type": "markdown",
     "metadata": {},
     "source": [
      "### Now lets calculate the exposure map"
     ]
    },
    {
     "cell_type": "code",
     "collapsed": false,
     "input": [
      "from gt_apps import expMap"
     ],
     "language": "python",
     "metadata": {},
     "outputs": [],
     "prompt_number": 45
    },
    {
     "cell_type": "code",
     "collapsed": false,
     "input": [
      "expMap.pars()"
     ],
     "language": "python",
     "metadata": {},
     "outputs": [
      {
       "output_type": "pyout",
       "prompt_number": 47,
       "text": [
        "' evfile= evtable=\"EVENTS\" scfile= sctable=\"SC_DATA\" expcube= outfile= irfs=\"P7SOURCE_V6\" srcrad=30.0 nlong=120 nlat=120 nenergies=20 submap=no nlongmin=0 nlongmax=0 nlatmin=0 nlatmax=0 chatter=2 clobber=yes debug=no gui=no mode=\"ql\"'"
       ]
      }
     ],
     "prompt_number": 47
    },
    {
     "cell_type": "code",
     "collapsed": false,
     "input": [
      "expMap['evfile'] = 'data/3C279_filtered_gti.fits'\n",
      "expMap['scfile'] = 'data/L1305211547389D489E7F87_SC00.fits'\n",
      "expMap['expcube'] = 'data/3C279_ltcube.fits'\n",
      "expMap['outfile'] = 'data/3C279_expmap.fits'\n",
      "expMap['irfs'] = 'P7SOURCE_V6'\n",
      "expMap['srcrad'] = 30\n",
      "expMap['nlong'] = 120\n",
      "expMap['nlat'] = 120\n",
      "expMap['nenergies'] = 20"
     ],
     "language": "python",
     "metadata": {},
     "outputs": [],
     "prompt_number": 48
    },
    {
     "cell_type": "code",
     "collapsed": false,
     "input": [
      "expMap.run()"
     ],
     "language": "python",
     "metadata": {},
     "outputs": [
      {
       "output_type": "stream",
       "stream": "stdout",
       "text": [
        "time -p /usr/local/fermisoft/v9r31p1-fssc-20130410/x86_64-apple-darwin12.3.0/bin/gtexpmap evfile=data/3C279_filtered_gti.fits evtable=\"EVENTS\" scfile=data/L1305211547389D489E7F87_SC00.fits sctable=\"SC_DATA\" expcube=data/3C279_ltcube.fits outfile=data/3C279_expmap.fits irfs=\"P7SOURCE_V6\" srcrad=30.0 nlong=120 nlat=120 nenergies=20 submap=no nlongmin=0 nlongmax=0 nlatmin=0 nlatmax=0 chatter=2 clobber=yes debug=no gui=no mode=\"ql\"\n",
        "The exposure maps generated by this tool are meant"
       ]
      },
      {
       "output_type": "stream",
       "stream": "stdout",
       "text": [
        "\n",
        "to be used for *unbinned* likelihood analysis only.\n",
        "Do not use them for binned analyses.\n",
        "Computing the ExposureMap using data/3C279_ltcube.fits\n",
        "....................!\n",
        "real 69.78\n",
        "user 68.56\n",
        "sys 0.33\n"
       ]
      }
     ],
     "prompt_number": 49
    },
    {
     "cell_type": "markdown",
     "metadata": {},
     "source": [
      "What do we have here.."
     ]
    },
    {
     "cell_type": "code",
     "collapsed": false,
     "input": [
      "expmap_hdu = pyfits.open('data/3C279_expmap.fits')"
     ],
     "language": "python",
     "metadata": {},
     "outputs": [],
     "prompt_number": 51
    },
    {
     "cell_type": "code",
     "collapsed": false,
     "input": [
      "expmap_hdu.info()"
     ],
     "language": "python",
     "metadata": {},
     "outputs": [
      {
       "output_type": "stream",
       "stream": "stdout",
       "text": [
        "Filename: data/3C279_expmap.fits\n",
        "No.    Name         Type      Cards   Dimensions   Format\n",
        "0    PRIMARY     PrimaryHDU      48  (120, 120, 20)  float32\n",
        "1    ENERGIES    BinTableHDU     13  20R x 1C      [1D]\n",
        "2    GTI         BinTableHDU     18  3683R x 2C    [D, D]\n"
       ]
      }
     ],
     "prompt_number": 52
    },
    {
     "cell_type": "code",
     "collapsed": false,
     "input": [
      "import time\n",
      "from IPython.display import clear_output\n",
      "\n",
      "f, ax = subplots()\n",
      "for expmap in expmap_hdu[0].data:\n",
      "    clear_output()\n",
      "    imshow(expmap)\n",
      "    time.sleep(0.2)\n",
      "    display(f)\n",
      "    ax.cla()\n",
      "close()"
     ],
     "language": "python",
     "metadata": {},
     "outputs": [
      {
       "output_type": "display_data",
       "png": "[encoded data removed]",
       "text": [
        "<matplotlib.figure.Figure at 0x108c1c490>"
       ]
      }
     ],
     "prompt_number": 64
    },
    {
     "cell_type": "markdown",
     "metadata": {},
     "source": [
      "### Why did we pick the binning we did?"
     ]
    },
    {
     "cell_type": "markdown",
     "metadata": {},
     "source": [
      "* Response functions are minimally parameterized in the inclination angle (theta) and energy\n",
      "    * Bin or step sizes used in exposure calculations should consider how quickly the efficiency changes in space or energy\n",
      "        * At least 10 bins per decade in energy to avoid errors in estimation where the effective area changes rapidly\n",
      "        * No single, strict recommendation on spatial binning\n",
      "            * 1 deg default sufficient for making maps\n",
      "            * The Binned likelihood is matched to data binning\n",
      "    * gtexposure invokes a spectral assumption - this has a noticeable impact  \n",
      "        * Remember that both the efficiency and angular reconstruction depend on energy"
     ]
    },
    {
     "cell_type": "markdown",
     "metadata": {},
     "source": [
      "The Optimization\n",
      "===================="
     ]
    },
    {
     "cell_type": "markdown",
     "metadata": {},
     "source": [
      "We now have everyhitng we need to perform the maximum likelihood optimization.  We have the photons, we have the exposure but we don't have a model.  We'll talk about how to build this model in a bit but for now, I'm giving you a sample model definition for the purposes of this analysis.  Here's what the file looks like:"
     ]
    },
    {
     "cell_type": "markdown",
     "metadata": {},
     "source": [
      "    <?xml version=\"1.0\" ?>\n",
      "    <source_library title=\"source library\" xmlns=\"http://fermi.gsfc.nasa.gov/source_library\">\n",
      "\n",
      "    <source name=\"iso_p7v6source\" type=\"DiffuseSource\">\n",
      "        <spectrum file=\"iso_p7v6source.txt\" type=\"FileFunction\">\n",
      "            <parameter free=\"1\" max=\"1000\" min=\"1e-05\" name=\"Normalization\" scale=\"1\" value=\"1\" />\n",
      "        </spectrum>\n",
      "        <spatialModel type=\"ConstantValue\">\n",
      "            <parameter free=\"0\" max=\"10.0\" min=\"0.0\" name=\"Value\" scale=\"1.0\" value=\"1.0\"/>\n",
      "        </spatialModel>\n",
      "    </source>\n",
      "\n",
      "    <source name=\"gal_2yearp7v6_v0\" type=\"DiffuseSource\">\n",
      "        <spectrum type=\"ConstantValue\">\n",
      "            <parameter free=\"1\" max=\"10.0\" min=\"0.0\" name=\"Value\" scale=\"1.0\" value= \"1.0\"/>\n",
      "        </spectrum>\n",
      "        <spatialModel file=\"gal_2yearp7v6_v0.fits\" type=\"MapCubeFunction\">\n",
      "            <parameter free=\"0\" max=\"1000.0\" min=\"0.001\" name=\"Normalization\" scale= \"1.0\" value=\"1.0\"/>\n",
      "        </spatialModel>\n",
      "    </source>\n",
      "\n",
      "    <source name=\"3C 273\" type=\"PointSource\">\n",
      "        <spectrum type=\"PowerLaw\">\n",
      "            <parameter free=\"1\" max=\"1000.0\" min=\"0.001\" name=\"Prefactor\" scale=\"1e-09\" value=\"10\"/>\n",
      "            <parameter free=\"1\" max=\"-1.0\" min=\"-5.0\" name=\"Index\" scale=\"1.0\" value=\"-2.1\"/>\n",
      "            <parameter free=\"0\" max=\"2000.0\" min=\"30.0\" name=\"Scale\" scale=\"1.0\" value=\"100.0\"/>\n",
      "        </spectrum>\n",
      "        <spatialModel type=\"SkyDirFunction\">\n",
      "            <parameter free=\"0\" max=\"360\" min=\"-360\" name=\"RA\" scale=\"1.0\" value=\"187.25\"/>\n",
      "            <parameter free=\"0\" max=\"90\" min=\"-90\" name=\"DEC\" scale=\"1.0\" value=\"2.17\"/>\n",
      "        </spatialModel>\n",
      "    </source>\n",
      "\n",
      "    <source name=\"3C 279\" type=\"PointSource\">\n",
      "        <spectrum type=\"PowerLaw\">\n",
      "            <parameter free=\"1\" max=\"1000.0\" min=\"0.001\" name=\"Prefactor\" scale=\"1e-09\" value=\"10\"/>\n",
      "            <parameter free=\"1\" max=\"-1.0\" min=\"-5.0\" name=\"Index\" scale=\"1.0\" value=\"-2\"/>\n",
      "            <parameter free=\"0\" max=\"2000.0\" min=\"30.0\" name=\"Scale\" scale=\"1.0\" value=\"100.0\"/>\n",
      "        </spectrum>\n",
      "        <spatialModel type=\"SkyDirFunction\">\n",
      "            <parameter free=\"0\" max=\"360\" min=\"-360\" name=\"RA\" scale=\"1.0\" value=\"193.98\"/>\n",
      "            <parameter free=\"0\" max=\"90\" min=\"-90\" name=\"DEC\" scale=\"1.0\" value=\"-5.82\"/>\n",
      "        </spatialModel>\n",
      "    </source>\n",
      "\n",
      "    </source_library>"
     ]
    },
    {
     "cell_type": "markdown",
     "metadata": {},
     "source": [
      "The model file is stored in a format called eXtensible Markup Language (XML) which is just a set of rules to encode information in a text file.  The model file is our description of what we think the region should look like.  You'll hear more about how to create these files later.\n",
      "\n",
      "This file is stored as 3C279_input_model.xml in the data directory.  \n",
      "\n",
      "Notice that the model file makes refernce to two files, [iso_p7v6source.txt](http://fermi.gsfc.nasa.gov/ssc/data/analysis/software/aux/iso_p7v6source.txt) and [gal_2yearp7v6_v0.fits](http://fermi.gsfc.nasa.gov/ssc/data/analysis/software/aux/gal_2yearp7v6_v0.fits).  These two files describe the extragalactic and galactic diffuse emission respectively.  They are provided as part of the Science Tools distribution but we need to link them into our working directory so that the likelihood code can find them."
     ]
    },
    {
     "cell_type": "code",
     "collapsed": false,
     "input": [
      "from os import environ"
     ],
     "language": "python",
     "metadata": {},
     "outputs": [],
     "prompt_number": 65
    },
    {
     "cell_type": "code",
     "collapsed": false,
     "input": [
      "environ['FERMI_DIR']"
     ],
     "language": "python",
     "metadata": {},
     "outputs": [
      {
       "output_type": "pyout",
       "prompt_number": 66,
       "text": [
        "'/usr/local/fermisoft/v9r31p1-fssc-20130410/x86_64-apple-darwin12.3.0'"
       ]
      }
     ],
     "prompt_number": 66
    },
    {
     "cell_type": "code",
     "collapsed": false,
     "input": [
      "ls /usr/local/fermisoft/v9r31p1-fssc-20130410/x86_64-apple-darwin12.3.0/refdata/fermi/galdiffuse"
     ],
     "language": "python",
     "metadata": {},
     "outputs": [
      {
       "output_type": "stream",
       "stream": "stdout",
       "text": [
        "\u001b[35mEGRET_diffuse_cel.fits\u001b[m\u001b[m@                     \u001b[35miso_p7v6clean.txt\u001b[m\u001b[m@\r\n",
        "\u001b[35mEGRET_diffuse_gal.fits\u001b[m\u001b[m@                     \u001b[35miso_p7v6source.txt\u001b[m\u001b[m@\r\n",
        "\u001b[35mGP_gamma.fits\u001b[m\u001b[m@                              \u001b[35misotropic_iem_back_v02_P6_V11_DIFFUSE.txt\u001b[m\u001b[m@\r\n",
        "\u001b[35mGP_gamma_v0r0p1.fits\u001b[m\u001b[m@                       \u001b[35misotropic_iem_front_v02_P6_V11_DIFFUSE.txt\u001b[m\u001b[m@\r\n",
        "\u001b[35mgal_2yearp7v6_v0.fits\u001b[m\u001b[m@                      \u001b[35misotropic_iem_v02.txt\u001b[m\u001b[m@\r\n",
        "\u001b[35mgll_iem_v02.fit\u001b[m\u001b[m@                            \u001b[35misotropic_iem_v02_P6_V11_DIFFUSE.txt\u001b[m\u001b[m@\r\n",
        "\u001b[35mgll_iem_v02_P6_V11_DIFFUSE.fit\u001b[m\u001b[m@\r\n"
       ]
      }
     ],
     "prompt_number": 70
    },
    {
     "cell_type": "code",
     "collapsed": false,
     "input": [
      "%system ln -s /usr/local/fermisoft/v9r31p1-fssc-20130410/x86_64-apple-darwin12.3.0/refdata/fermi/galdiffuse/gal_2yearp7v6_v0.fits\n",
      "%system ln -s /usr/local/fermisoft/v9r31p1-fssc-20130410/x86_64-apple-darwin12.3.0/refdata/fermi/galdiffuse/iso_p7v6source.txt\n"
     ],
     "language": "python",
     "metadata": {},
     "outputs": [
      {
       "output_type": "pyout",
       "prompt_number": 71,
       "text": [
        "[]"
       ]
      }
     ],
     "prompt_number": 71
    },
    {
     "cell_type": "code",
     "collapsed": false,
     "input": [
      "ls"
     ],
     "language": "python",
     "metadata": {},
     "outputs": [
      {
       "output_type": "stream",
       "stream": "stdout",
       "text": [
        "Data_Exploration.ipynb     \u001b[34mdata\u001b[m\u001b[m/                      \u001b[35miso_p7v6source.txt\u001b[m\u001b[m@\r\n",
        "Likelihood_Analysis.ipynb  \u001b[35mgal_2yearp7v6_v0.fits\u001b[m\u001b[m@\r\n",
        "README.md                  \u001b[34mimages\u001b[m\u001b[m/\r\n"
       ]
      }
     ],
     "prompt_number": 72
    },
    {
     "cell_type": "markdown",
     "metadata": {},
     "source": [
      "Notice that these are suspiciously named like they might depend on the evnet class you're using.  You would be right to assume so.  Let's take a look at these.  The isotropic diffuse model is just a text file:"
     ]
    },
    {
     "cell_type": "code",
     "collapsed": false,
     "input": [
      "isotropic = np.genfromtxt(\"iso_p7v6source.txt\")"
     ],
     "language": "python",
     "metadata": {},
     "outputs": [],
     "prompt_number": 75
    },
    {
     "cell_type": "code",
     "collapsed": false,
     "input": [
      "yscale('log')\n",
      "xscale('log')\n",
      "errorbar(isotropic[:,0],isotropic[:,1],yerr=isotropic[:,2],fmt='.')"
     ],
     "language": "python",
     "metadata": {},
     "outputs": [
      {
       "output_type": "pyout",
       "prompt_number": 92,
       "text": [
        "<Container object of 3 artists>"
       ]
      },
      {
       "output_type": "display_data",
       "png": "[encoded data removed]"
      }
     ],
     "prompt_number": 92
    },
    {
     "cell_type": "markdown",
     "metadata": {},
     "source": [
      "The isotropic model is spatially isotropic but is energy dependent.  Open up the galactic diffuse:"
     ]
    },
    {
     "cell_type": "code",
     "collapsed": false,
     "input": [
      "gal_diff = pyfits.open(\"gal_2yearp7v6_v0.fits\")"
     ],
     "language": "python",
     "metadata": {},
     "outputs": [],
     "prompt_number": 93
    },
    {
     "cell_type": "code",
     "collapsed": false,
     "input": [
      "gal_diff.info()"
     ],
     "language": "python",
     "metadata": {},
     "outputs": [
      {
       "output_type": "stream",
       "stream": "stdout",
       "text": [
        "Filename: gal_2yearp7v6_v0.fits\n",
        "No.    Name         Type      Cards   Dimensions   Format\n",
        "0    PRIMARY     PrimaryHDU      34  (2880, 1441, 30)  float32\n",
        "1    ENERGIES    BinTableHDU     11  30R x 1C      [D]\n"
       ]
      }
     ],
     "prompt_number": 94
    },
    {
     "cell_type": "code",
     "collapsed": false,
     "input": [
      "f, ax = subplots()\n",
      "for energy_plane in gal_diff[0].data:\n",
      "    clear_output()\n",
      "    imshow(energy_plane)\n",
      "    time.sleep(0.2)\n",
      "    display(f)\n",
      "    ax.cla()\n",
      "close()"
     ],
     "language": "python",
     "metadata": {},
     "outputs": [
      {
       "output_type": "display_data",
       "png": "[encoded data removed]",
       "text": [
        "<matplotlib.figure.Figure at 0x1072ec6d0>"
       ]
      }
     ],
     "prompt_number": 96
    },
    {
     "cell_type": "markdown",
     "metadata": {},
     "source": [
      "The model for the Galactic diffuse emission was developed using spectral line surveys of HI and CO (as a tracer of H2) to derive the distribution of interstellar gas in Galactocentric rings. Infrared tracers of dust column density were used to correct column densities in directions where the optical depth of HI was either over or under-estimated. The model of the diffuse gamma-ray emission was then constructed by fitting the gamma-ray emissivities of the rings in several energy bands to the LAT observations. The fitting also required a model of the inverse Compton emission calculated using GALPROP and a model for the isotropic diffuse emission. [A complete description of the Pass 7 Galactic diffuse model is available](http://fermi.gsfc.nasa.gov/ssc/data/access/lat/Model_details/Pass7_galactic.html).\n",
      "\n",
      "I think we're ready to go now.  We're going to do this the python way (you could use *gtlike* if you wish)."
     ]
    },
    {
     "cell_type": "code",
     "collapsed": false,
     "input": [
      "from UnbinnedAnalysis import *"
     ],
     "language": "python",
     "metadata": {},
     "outputs": [],
     "prompt_number": 97
    },
    {
     "cell_type": "markdown",
     "metadata": {},
     "source": [
      "First, create an obsevation object which describes your observation."
     ]
    },
    {
     "cell_type": "code",
     "collapsed": false,
     "input": [
      "obs = UnbinnedObs(eventFile='data/3C279_filtered_gti.fits', \n",
      "                  scFile='data/L1305211547389D489E7F87_SC00.fits', \n",
      "                  expMap='data/3C279_expmap.fits',\n",
      "                  expCube='data/3C279_ltcube.fits',\n",
      "                  irfs='P7SOURCE_V6')"
     ],
     "language": "python",
     "metadata": {},
     "outputs": [],
     "prompt_number": 99
    },
    {
     "cell_type": "markdown",
     "metadata": {},
     "source": [
      "Now, create an analysis object."
     ]
    },
    {
     "cell_type": "code",
     "collapsed": false,
     "input": [
      "analysis = UnbinnedAnalysis(obs,srcModel='3C279_input_model.xml', optimizer='NEWMINUIT')"
     ],
     "language": "python",
     "metadata": {},
     "outputs": [],
     "prompt_number": 101
    },
    {
     "cell_type": "markdown",
     "metadata": {},
     "source": [
      "Note that we selected an *optimizer*.  There are a couple of options (see the help file for gtlike) but most of the time you'll using one of the MINUIT optimizers (NEWMINUIT or MINUIT).  Now, we're ready to do the actual fit, but we can check out the objects we just created if we want."
     ]
    },
    {
     "cell_type": "code",
     "collapsed": false,
     "input": [
      "analysis.tol"
     ],
     "language": "python",
     "metadata": {},
     "outputs": [
      {
       "output_type": "pyout",
       "prompt_number": 102,
       "text": [
        "0.001"
       ]
      }
     ],
     "prompt_number": 102
    },
    {
     "cell_type": "markdown",
     "metadata": {},
     "source": [
      "This is the tolerance for the fit we're about to perform and this is the type of tolerance we're using (1 = ??, 0 = ??):"
     ]
    },
    {
     "cell_type": "code",
     "collapsed": false,
     "input": [
      "analysis.tolType"
     ],
     "language": "python",
     "metadata": {},
     "outputs": [
      {
       "output_type": "pyout",
       "prompt_number": 104,
       "text": [
        "1"
       ]
      }
     ],
     "prompt_number": 104
    },
    {
     "cell_type": "markdown",
     "metadata": {},
     "source": [
      "There are lots of other variables and functions associated with these but we'll leave that to the advanced likelihood lecture tomorrow.  For now, lets do the fit."
     ]
    },
    {
     "cell_type": "code",
     "collapsed": false,
     "input": [
      "analysis.fit()"
     ],
     "language": "python",
     "metadata": {},
     "outputs": [
      {
       "output_type": "pyout",
       "prompt_number": 105,
       "text": [
        "792575.4298611565"
       ]
      }
     ],
     "prompt_number": 105
    },
    {
     "cell_type": "markdown",
     "metadata": {},
     "source": [
      "The number returned is the log(Likelihood) of the full fit.  You should also see a lot of information printed to the terminal.  You can even get this number later:"
     ]
    },
    {
     "cell_type": "code",
     "collapsed": false,
     "input": [
      "analysis.logLike.value()"
     ],
     "language": "python",
     "metadata": {},
     "outputs": [
      {
       "output_type": "pyout",
       "prompt_number": 109,
       "text": [
        "-792575.4298611565"
       ]
      }
     ],
     "prompt_number": 109
    },
    {
     "cell_type": "markdown",
     "metadata": {},
     "source": [
      "So, that's all and good, how do I get at the results of the fit?\n",
      "\n",
      "Well, you can look at the model this way:"
     ]
    },
    {
     "cell_type": "code",
     "collapsed": false,
     "input": [
      "analysis.model"
     ],
     "language": "python",
     "metadata": {},
     "outputs": [
      {
       "output_type": "pyout",
       "prompt_number": 110,
       "text": [
        "3C 273\n",
        "   Spectrum: PowerLaw\n",
        "0      Prefactor:  1.043e+01  3.631e-01  1.000e-03  1.000e+03 ( 1.000e-09)\n",
        "1          Index: -2.659e+00  2.546e-02 -5.000e+00 -1.000e+00 ( 1.000e+00)\n",
        "2          Scale:  1.000e+02  0.000e+00  3.000e+01  2.000e+03 ( 1.000e+00) fixed\n",
        "\n",
        "3C 279\n",
        "   Spectrum: PowerLaw\n",
        "3      Prefactor:  8.365e+00  2.638e-01  1.000e-03  1.000e+03 ( 1.000e-09)\n",
        "4          Index: -2.245e+00  1.728e-02 -5.000e+00 -1.000e+00 ( 1.000e+00)\n",
        "5          Scale:  1.000e+02  0.000e+00  3.000e+01  2.000e+03 ( 1.000e+00) fixed\n",
        "\n",
        "gal_2yearp7v6_v0\n",
        "   Spectrum: ConstantValue\n",
        "6          Value:  1.378e+00  2.453e-02  0.000e+00  1.000e+01 ( 1.000e+00)\n",
        "\n",
        "iso_p7v6source\n",
        "   Spectrum: FileFunction\n",
        "7     Normalization:  1.025e+00  2.186e-02  1.000e-05  1.000e+03 ( 1.000e+00)\n"
       ]
      }
     ],
     "prompt_number": 110
    },
    {
     "cell_type": "markdown",
     "metadata": {},
     "source": [
      "You can also get at the test statistic of a specific source"
     ]
    },
    {
     "cell_type": "code",
     "collapsed": false,
     "input": [
      "analysis.Ts('3C 279')"
     ],
     "language": "python",
     "metadata": {},
     "outputs": [
      {
       "output_type": "pyout",
       "prompt_number": 111,
       "text": [
        "9378.142218412366"
       ]
      }
     ],
     "prompt_number": 111
    },
    {
     "cell_type": "markdown",
     "metadata": {},
     "source": [
      "and the number of predicted counts"
     ]
    },
    {
     "cell_type": "code",
     "collapsed": false,
     "input": [
      "analysis.NpredValue('3C 279')"
     ],
     "language": "python",
     "metadata": {},
     "outputs": [
      {
       "output_type": "pyout",
       "prompt_number": 118,
       "text": [
        "5585.717559108349"
       ]
      }
     ],
     "prompt_number": 118
    },
    {
     "cell_type": "markdown",
     "metadata": {},
     "source": [
      "You can bring up a counts spectrum of all of the sources (if you installed the root version of the tools):"
     ]
    },
    {
     "cell_type": "code",
     "collapsed": false,
     "input": [
      "analysis.plot()"
     ],
     "language": "python",
     "metadata": {},
     "outputs": [],
     "prompt_number": 113
    },
    {
     "cell_type": "markdown",
     "metadata": {},
     "source": [
      "You can output a new XML model:"
     ]
    },
    {
     "cell_type": "code",
     "collapsed": false,
     "input": [
      "analysis.writeXml('3C279_output_model.xml')"
     ],
     "language": "python",
     "metadata": {},
     "outputs": [],
     "prompt_number": 114
    },
    {
     "cell_type": "markdown",
     "metadata": {},
     "source": [
      "You can get at the integral flux of a specific source:"
     ]
    },
    {
     "cell_type": "code",
     "collapsed": false,
     "input": [
      "print \"3C 279 Integral Flux = {} +- {}\".format(analysis.flux('3C 279'), analysis.fluxError('3C 279'))"
     ],
     "language": "python",
     "metadata": {},
     "outputs": [
      {
       "ename": "RuntimeError",
       "evalue": "Covariance matrix has not been computed.",
       "output_type": "pyerr",
       "traceback": [
        "\u001b[0;31m---------------------------------------------------------------------------\u001b[0m\n\u001b[0;31mRuntimeError\u001b[0m                              Traceback (most recent call last)",
        "\u001b[0;32m<ipython-input-115-890fe113584f>\u001b[0m in \u001b[0;36m<module>\u001b[0;34m()\u001b[0m\n\u001b[0;32m----> 1\u001b[0;31m \u001b[0;32mprint\u001b[0m \u001b[0;34m\"3C 279 Integral Flux = {} +- {}\"\u001b[0m\u001b[0;34m.\u001b[0m\u001b[0mformat\u001b[0m\u001b[0;34m(\u001b[0m\u001b[0manalysis\u001b[0m\u001b[0;34m.\u001b[0m\u001b[0mflux\u001b[0m\u001b[0;34m(\u001b[0m\u001b[0;34m'3C 279'\u001b[0m\u001b[0;34m)\u001b[0m\u001b[0;34m,\u001b[0m \u001b[0manalysis\u001b[0m\u001b[0;34m.\u001b[0m\u001b[0mfluxError\u001b[0m\u001b[0;34m(\u001b[0m\u001b[0;34m'3C 279'\u001b[0m\u001b[0;34m)\u001b[0m\u001b[0;34m)\u001b[0m\u001b[0;34m\u001b[0m\u001b[0m\n\u001b[0m",
        "\u001b[0;32m/usr/local/fermisoft/v9r31p1-fssc-20130410/x86_64-apple-darwin12.3.0/lib/python/AnalysisBase.pyc\u001b[0m in \u001b[0;36mfluxError\u001b[0;34m(self, srcName, emin, emax, energyFlux, npts)\u001b[0m\n\u001b[1;32m    267\u001b[0m         \u001b[0;31m#\u001b[0m\u001b[0;34m\u001b[0m\u001b[0;34m\u001b[0m\u001b[0m\n\u001b[1;32m    268\u001b[0m         \u001b[0;32mif\u001b[0m \u001b[0mself\u001b[0m\u001b[0;34m.\u001b[0m\u001b[0mcovariance\u001b[0m \u001b[0;32mis\u001b[0m \u001b[0mNone\u001b[0m\u001b[0;34m:\u001b[0m\u001b[0;34m\u001b[0m\u001b[0m\n\u001b[0;32m--> 269\u001b[0;31m             \u001b[0;32mraise\u001b[0m \u001b[0mRuntimeError\u001b[0m\u001b[0;34m(\u001b[0m\u001b[0;34m\"Covariance matrix has not been computed.\"\u001b[0m\u001b[0;34m)\u001b[0m\u001b[0;34m\u001b[0m\u001b[0m\n\u001b[0m\u001b[1;32m    270\u001b[0m         \u001b[0;32mif\u001b[0m \u001b[0;32mnot\u001b[0m \u001b[0mself\u001b[0m\u001b[0;34m.\u001b[0m\u001b[0mcovar_is_current\u001b[0m\u001b[0;34m:\u001b[0m\u001b[0;34m\u001b[0m\u001b[0m\n\u001b[1;32m    271\u001b[0m             sys.stderr.write(\"Warning: covariance matrix has not been \" +\n",
        "\u001b[0;31mRuntimeError\u001b[0m: Covariance matrix has not been computed."
       ]
      }
     ],
     "prompt_number": 115
    },
    {
     "cell_type": "markdown",
     "metadata": {},
     "source": [
      "Oops.  Forgot to do that.  What's the covariance matrix?  It's basically the matrix of values that shows how each variable in your model depends on each other variable.  We can tell the fit to compute that."
     ]
    },
    {
     "cell_type": "code",
     "collapsed": false,
     "input": [
      "analysis.fit(covar=True)"
     ],
     "language": "python",
     "metadata": {},
     "outputs": [
      {
       "output_type": "pyout",
       "prompt_number": 116,
       "text": [
        "792575.42981539"
       ]
      }
     ],
     "prompt_number": 116
    },
    {
     "cell_type": "code",
     "collapsed": false,
     "input": [
      "print \"3C 279 Integral Flux = {} +- {}\".format(analysis.flux('3C 279'), analysis.fluxError('3C 279'))"
     ],
     "language": "python",
     "metadata": {},
     "outputs": [
      {
       "output_type": "stream",
       "stream": "stdout",
       "text": [
        "3C 279 Integral Flux = 6.72552925894e-07 +- 1.46475124101e-08\n"
       ]
      }
     ],
     "prompt_number": 117
    },
    {
     "cell_type": "markdown",
     "metadata": {},
     "source": [
      "###What About?..."
     ]
    },
    {
     "cell_type": "markdown",
     "metadata": {},
     "source": [
      "Tomorrow we'll go over the advanced likelihood and talk about things like\n",
      "\n",
      "* Upper Limits\n",
      "* Composite and Summed Likelihood\n",
      "* Scripting\n",
      "* Muliti-Core Processing\n",
      "* User Contributed Tools\n",
      "* Fit verification\n",
      "* \u2026and more"
     ]
    },
    {
     "cell_type": "code",
     "collapsed": false,
     "input": [],
     "language": "python",
     "metadata": {},
     "outputs": []
    }
   ],
   "metadata": {}
  }
 ]
}